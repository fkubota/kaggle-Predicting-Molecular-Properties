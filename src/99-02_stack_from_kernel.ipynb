{
 "cells": [
  {
   "cell_type": "markdown",
   "metadata": {},
   "source": [
    "## Stacking the Best Models\n",
    "<pre><b>This Kernel shows how the scores can be improved using Stacking Method.\n",
    "Credit Goes to the following kernels\n",
    "ref:\n",
    "1. https://www.kaggle.com/filemide/distance-criskiev-hyparam-cont-1-662\n",
    "2. https://www.kaggle.com/criskiev/distance-is-all-you-need-lb-1-481\n",
    "3. https://www.kaggle.com/marcelotamashiro/lgb-public-kernels-plus-more-features\n",
    "4. https://www.kaggle.com/scaomath/no-memory-reduction-workflow-for-each-type-lb-1-28\n",
    "5. https://www.kaggle.com/fnands/1-mpnn/output?scriptVersionId=18233432\n",
    "6. https://www.kaggle.com/harshit92/fork-from-kernel-1-481\n",
    "7. https://www.kaggle.com/xwxw2929/keras-neural-net-and-distance-features\n",
    "8. https://www.kaggle.com/marcogorelli/criskiev-s-distances-more-estimators-groupkfold?scriptVersionId=18843561\n",
    "9. https://www.kaggle.com/toshik/schnet-starter-kit\n",
    "10.https://www.kaggle.com/abazdyrev/nn-w-o-skew\n",
    "\n",
    "</b></pre>"
   ]
  },
  {
   "cell_type": "markdown",
   "metadata": {},
   "source": [
    "## Stat Stack"
   ]
  },
  {
   "cell_type": "code",
   "execution_count": 13,
   "metadata": {},
   "outputs": [],
   "source": [
    "nb = '99-02'"
   ]
  },
  {
   "cell_type": "code",
   "execution_count": 14,
   "metadata": {
    "_cell_guid": "b1076dfc-b9ad-4769-8c92-a6c4dae69d19",
    "_uuid": "8f2839f25d086af736a60e9eeb907d3b93b6e0e5"
   },
   "outputs": [
    {
     "name": "stdout",
     "output_type": "stream",
     "text": [
      "champs-scalar-coupling\n",
      "\n"
     ]
    }
   ],
   "source": [
    "import os\n",
    "import numpy as np \n",
    "import pandas as pd \n",
    "import matplotlib.pyplot as plt\n",
    "from scipy.stats.mstats import gmean\n",
    "import seaborn as sns\n",
    "%matplotlib inline\n",
    "from subprocess import check_output\n",
    "print(check_output([\"ls\", \"../input\"]).decode(\"utf8\"))"
   ]
  },
  {
   "cell_type": "raw",
   "metadata": {},
   "source": [
    "sub_path = \"../input/chemistry-models\"\n",
    "all_files = os.listdir(sub_path)\n",
    "all_files"
   ]
  },
  {
   "cell_type": "code",
   "execution_count": 27,
   "metadata": {},
   "outputs": [],
   "source": [
    "sub_path = './../output'\n",
    "all_files = [\n",
    "'nb60_submission_lgb_-1.5330660525700779.csv',\n",
    "'nb79_submission_extra_trees_regressor_-1.56760.csv',\n",
    "# 'nb80_submission_extra_trees_regressor_-1.48000.csv',\n",
    "# 'nb81_submission_bagging_regressor_-1.44452.csv',\n",
    "'nb84_submission_extra_trees_regressor_-1.60943.csv',\n",
    "# 'nb85_submission_extra_trees_regressor_-1.52972.csv',\n",
    "'nb88_submission_lgb_-1.547953965914086.csv',\n",
    "# 'nb91_submission_extra_trees_regressor_-1.47467.csv',\n",
    "'nb91_stack_submission_lgb_-1.7348780297791941.csv',\n",
    "'nb95_stack_submission_ridge_-1.74195.csv',\n",
    "'nb95_stack_submission_lasso_-1.74192.csv',\n",
    "'nb96_stack_submission_extra_trees_regressor_-1.79030.csv',\n",
    "'nb99_stack_submission_random_forest_regressor_-1.78717.csv',\n",
    "'nb99-01_stack_submission_lgb_-1.75427.csv',\n",
    "]"
   ]
  },
  {
   "cell_type": "code",
   "execution_count": 28,
   "metadata": {
    "_cell_guid": "79c7e3d0-c299-4dcb-8224-4455121ee9b0",
    "_uuid": "d629ff2d2480ee46fbb7e2d37f6b5fab8052498a"
   },
   "outputs": [],
   "source": [
    "import warnings\n",
    "warnings.filterwarnings(\"ignore\")\n",
    "outs = [pd.read_csv(os.path.join(sub_path, f), index_col=0) for f in all_files]\n",
    "concat_sub = pd.concat(outs, axis=1)\n",
    "cols = list(map(lambda x: \"mol\" + str(x), range(len(concat_sub.columns))))\n",
    "concat_sub.columns = cols\n",
    "concat_sub.reset_index(inplace=True)\n",
    "concat_sub.head()\n",
    "ncol = concat_sub.shape[1]"
   ]
  },
  {
   "cell_type": "code",
   "execution_count": 29,
   "metadata": {},
   "outputs": [
    {
     "data": {
      "text/html": [
       "<div>\n",
       "<style scoped>\n",
       "    .dataframe tbody tr th:only-of-type {\n",
       "        vertical-align: middle;\n",
       "    }\n",
       "\n",
       "    .dataframe tbody tr th {\n",
       "        vertical-align: top;\n",
       "    }\n",
       "\n",
       "    .dataframe thead th {\n",
       "        text-align: right;\n",
       "    }\n",
       "</style>\n",
       "<table border=\"1\" class=\"dataframe\">\n",
       "  <thead>\n",
       "    <tr style=\"text-align: right;\">\n",
       "      <th></th>\n",
       "      <th>mol0</th>\n",
       "      <th>mol1</th>\n",
       "      <th>mol2</th>\n",
       "      <th>mol3</th>\n",
       "      <th>mol4</th>\n",
       "      <th>mol5</th>\n",
       "      <th>mol6</th>\n",
       "      <th>mol7</th>\n",
       "      <th>mol8</th>\n",
       "      <th>mol9</th>\n",
       "    </tr>\n",
       "  </thead>\n",
       "  <tbody>\n",
       "    <tr>\n",
       "      <th>mol0</th>\n",
       "      <td>1.000000</td>\n",
       "      <td>0.999896</td>\n",
       "      <td>0.999903</td>\n",
       "      <td>0.999989</td>\n",
       "      <td>0.999893</td>\n",
       "      <td>0.999989</td>\n",
       "      <td>0.999989</td>\n",
       "      <td>0.999985</td>\n",
       "      <td>0.999984</td>\n",
       "      <td>0.999887</td>\n",
       "    </tr>\n",
       "    <tr>\n",
       "      <th>mol1</th>\n",
       "      <td>0.999896</td>\n",
       "      <td>1.000000</td>\n",
       "      <td>0.999982</td>\n",
       "      <td>0.999904</td>\n",
       "      <td>0.999849</td>\n",
       "      <td>0.999941</td>\n",
       "      <td>0.999941</td>\n",
       "      <td>0.999937</td>\n",
       "      <td>0.999934</td>\n",
       "      <td>0.999840</td>\n",
       "    </tr>\n",
       "    <tr>\n",
       "      <th>mol2</th>\n",
       "      <td>0.999903</td>\n",
       "      <td>0.999982</td>\n",
       "      <td>1.000000</td>\n",
       "      <td>0.999911</td>\n",
       "      <td>0.999856</td>\n",
       "      <td>0.999951</td>\n",
       "      <td>0.999950</td>\n",
       "      <td>0.999945</td>\n",
       "      <td>0.999942</td>\n",
       "      <td>0.999847</td>\n",
       "    </tr>\n",
       "    <tr>\n",
       "      <th>mol3</th>\n",
       "      <td>0.999989</td>\n",
       "      <td>0.999904</td>\n",
       "      <td>0.999911</td>\n",
       "      <td>1.000000</td>\n",
       "      <td>0.999894</td>\n",
       "      <td>0.999989</td>\n",
       "      <td>0.999989</td>\n",
       "      <td>0.999985</td>\n",
       "      <td>0.999984</td>\n",
       "      <td>0.999888</td>\n",
       "    </tr>\n",
       "    <tr>\n",
       "      <th>mol4</th>\n",
       "      <td>0.999893</td>\n",
       "      <td>0.999849</td>\n",
       "      <td>0.999856</td>\n",
       "      <td>0.999894</td>\n",
       "      <td>1.000000</td>\n",
       "      <td>0.999903</td>\n",
       "      <td>0.999903</td>\n",
       "      <td>0.999904</td>\n",
       "      <td>0.999903</td>\n",
       "      <td>0.999983</td>\n",
       "    </tr>\n",
       "    <tr>\n",
       "      <th>mol5</th>\n",
       "      <td>0.999989</td>\n",
       "      <td>0.999941</td>\n",
       "      <td>0.999951</td>\n",
       "      <td>0.999989</td>\n",
       "      <td>0.999903</td>\n",
       "      <td>1.000000</td>\n",
       "      <td>1.000000</td>\n",
       "      <td>0.999994</td>\n",
       "      <td>0.999993</td>\n",
       "      <td>0.999897</td>\n",
       "    </tr>\n",
       "    <tr>\n",
       "      <th>mol6</th>\n",
       "      <td>0.999989</td>\n",
       "      <td>0.999941</td>\n",
       "      <td>0.999950</td>\n",
       "      <td>0.999989</td>\n",
       "      <td>0.999903</td>\n",
       "      <td>1.000000</td>\n",
       "      <td>1.000000</td>\n",
       "      <td>0.999994</td>\n",
       "      <td>0.999993</td>\n",
       "      <td>0.999897</td>\n",
       "    </tr>\n",
       "    <tr>\n",
       "      <th>mol7</th>\n",
       "      <td>0.999985</td>\n",
       "      <td>0.999937</td>\n",
       "      <td>0.999945</td>\n",
       "      <td>0.999985</td>\n",
       "      <td>0.999904</td>\n",
       "      <td>0.999994</td>\n",
       "      <td>0.999994</td>\n",
       "      <td>1.000000</td>\n",
       "      <td>0.999998</td>\n",
       "      <td>0.999898</td>\n",
       "    </tr>\n",
       "    <tr>\n",
       "      <th>mol8</th>\n",
       "      <td>0.999984</td>\n",
       "      <td>0.999934</td>\n",
       "      <td>0.999942</td>\n",
       "      <td>0.999984</td>\n",
       "      <td>0.999903</td>\n",
       "      <td>0.999993</td>\n",
       "      <td>0.999993</td>\n",
       "      <td>0.999998</td>\n",
       "      <td>1.000000</td>\n",
       "      <td>0.999897</td>\n",
       "    </tr>\n",
       "    <tr>\n",
       "      <th>mol9</th>\n",
       "      <td>0.999887</td>\n",
       "      <td>0.999840</td>\n",
       "      <td>0.999847</td>\n",
       "      <td>0.999888</td>\n",
       "      <td>0.999983</td>\n",
       "      <td>0.999897</td>\n",
       "      <td>0.999897</td>\n",
       "      <td>0.999898</td>\n",
       "      <td>0.999897</td>\n",
       "      <td>1.000000</td>\n",
       "    </tr>\n",
       "  </tbody>\n",
       "</table>\n",
       "</div>"
      ],
      "text/plain": [
       "          mol0      mol1      mol2      mol3      mol4      mol5      mol6  \\\n",
       "mol0  1.000000  0.999896  0.999903  0.999989  0.999893  0.999989  0.999989   \n",
       "mol1  0.999896  1.000000  0.999982  0.999904  0.999849  0.999941  0.999941   \n",
       "mol2  0.999903  0.999982  1.000000  0.999911  0.999856  0.999951  0.999950   \n",
       "mol3  0.999989  0.999904  0.999911  1.000000  0.999894  0.999989  0.999989   \n",
       "mol4  0.999893  0.999849  0.999856  0.999894  1.000000  0.999903  0.999903   \n",
       "mol5  0.999989  0.999941  0.999951  0.999989  0.999903  1.000000  1.000000   \n",
       "mol6  0.999989  0.999941  0.999950  0.999989  0.999903  1.000000  1.000000   \n",
       "mol7  0.999985  0.999937  0.999945  0.999985  0.999904  0.999994  0.999994   \n",
       "mol8  0.999984  0.999934  0.999942  0.999984  0.999903  0.999993  0.999993   \n",
       "mol9  0.999887  0.999840  0.999847  0.999888  0.999983  0.999897  0.999897   \n",
       "\n",
       "          mol7      mol8      mol9  \n",
       "mol0  0.999985  0.999984  0.999887  \n",
       "mol1  0.999937  0.999934  0.999840  \n",
       "mol2  0.999945  0.999942  0.999847  \n",
       "mol3  0.999985  0.999984  0.999888  \n",
       "mol4  0.999904  0.999903  0.999983  \n",
       "mol5  0.999994  0.999993  0.999897  \n",
       "mol6  0.999994  0.999993  0.999897  \n",
       "mol7  1.000000  0.999998  0.999898  \n",
       "mol8  0.999998  1.000000  0.999897  \n",
       "mol9  0.999898  0.999897  1.000000  "
      ]
     },
     "execution_count": 29,
     "metadata": {},
     "output_type": "execute_result"
    }
   ],
   "source": [
    "# check correlation\n",
    "concat_sub.iloc[:,1:].corr()"
   ]
  },
  {
   "cell_type": "code",
   "execution_count": 30,
   "metadata": {},
   "outputs": [
    {
     "data": {
      "text/plain": [
       "<matplotlib.axes._subplots.AxesSubplot at 0x7fb96869aa20>"
      ]
     },
     "execution_count": 30,
     "metadata": {},
     "output_type": "execute_result"
    },
    {
     "data": {
      "image/png": "[encoded data removed]",
      "text/plain": [
       "<Figure size 792x648 with 2 Axes>"
      ]
     },
     "metadata": {
      "needs_background": "light"
     },
     "output_type": "display_data"
    }
   ],
   "source": [
    "corr = concat_sub.iloc[:,1:].corr()\n",
    "mask = np.zeros_like(corr, dtype=np.bool)\n",
    "mask[np.triu_indices_from(mask)] = True\n",
    "\n",
    "# Set up the matplotlib figure\n",
    "f, ax = plt.subplots(figsize=(11, 9))\n",
    "\n",
    "# Draw the heatmap with the mask and correct aspect ratio\n",
    "sns.heatmap(corr, mask=mask, cmap='prism', vmin=0.96, center=0, square=True, linewidths=1, annot=True, fmt='.4f')"
   ]
  },
  {
   "cell_type": "code",
   "execution_count": 31,
   "metadata": {},
   "outputs": [],
   "source": [
    "# get the data fields ready for stacking\n",
    "concat_sub['m_max'] = concat_sub.iloc[:, 1:].max(axis=1)\n",
    "concat_sub['m_min'] = concat_sub.iloc[:, 1:].min(axis=1)\n",
    "concat_sub['m_median'] = concat_sub.iloc[:, 1:].median(axis=1)"
   ]
  },
  {
   "cell_type": "code",
   "execution_count": 32,
   "metadata": {},
   "outputs": [
    {
     "data": {
      "text/html": [
       "<div>\n",
       "<style scoped>\n",
       "    .dataframe tbody tr th:only-of-type {\n",
       "        vertical-align: middle;\n",
       "    }\n",
       "\n",
       "    .dataframe tbody tr th {\n",
       "        vertical-align: top;\n",
       "    }\n",
       "\n",
       "    .dataframe thead th {\n",
       "        text-align: right;\n",
       "    }\n",
       "</style>\n",
       "<table border=\"1\" class=\"dataframe\">\n",
       "  <thead>\n",
       "    <tr style=\"text-align: right;\">\n",
       "      <th></th>\n",
       "      <th>id</th>\n",
       "      <th>mol0</th>\n",
       "      <th>mol1</th>\n",
       "      <th>mol2</th>\n",
       "      <th>mol3</th>\n",
       "      <th>mol4</th>\n",
       "      <th>mol5</th>\n",
       "      <th>mol6</th>\n",
       "      <th>mol7</th>\n",
       "      <th>mol8</th>\n",
       "      <th>mol9</th>\n",
       "      <th>m_max</th>\n",
       "      <th>m_min</th>\n",
       "      <th>m_median</th>\n",
       "    </tr>\n",
       "  </thead>\n",
       "  <tbody>\n",
       "    <tr>\n",
       "      <th>count</th>\n",
       "      <td>2.505542e+06</td>\n",
       "      <td>2.505542e+06</td>\n",
       "      <td>2.505542e+06</td>\n",
       "      <td>2.505542e+06</td>\n",
       "      <td>2.505542e+06</td>\n",
       "      <td>2.505542e+06</td>\n",
       "      <td>2.505542e+06</td>\n",
       "      <td>2.505542e+06</td>\n",
       "      <td>2.505542e+06</td>\n",
       "      <td>2.505542e+06</td>\n",
       "      <td>2.505542e+06</td>\n",
       "      <td>2.505542e+06</td>\n",
       "      <td>2.505542e+06</td>\n",
       "      <td>2.505542e+06</td>\n",
       "    </tr>\n",
       "    <tr>\n",
       "      <th>mean</th>\n",
       "      <td>5.910918e+06</td>\n",
       "      <td>1.588523e+01</td>\n",
       "      <td>1.588919e+01</td>\n",
       "      <td>1.588932e+01</td>\n",
       "      <td>1.588508e+01</td>\n",
       "      <td>1.588641e+01</td>\n",
       "      <td>1.588586e+01</td>\n",
       "      <td>1.588610e+01</td>\n",
       "      <td>1.588693e+01</td>\n",
       "      <td>1.588691e+01</td>\n",
       "      <td>1.588677e+01</td>\n",
       "      <td>1.607214e+01</td>\n",
       "      <td>1.570292e+01</td>\n",
       "      <td>1.588691e+01</td>\n",
       "    </tr>\n",
       "    <tr>\n",
       "      <th>std</th>\n",
       "      <td>7.232878e+05</td>\n",
       "      <td>3.486669e+01</td>\n",
       "      <td>3.485335e+01</td>\n",
       "      <td>3.485485e+01</td>\n",
       "      <td>3.486642e+01</td>\n",
       "      <td>3.486247e+01</td>\n",
       "      <td>3.486702e+01</td>\n",
       "      <td>3.486738e+01</td>\n",
       "      <td>3.486620e+01</td>\n",
       "      <td>3.486627e+01</td>\n",
       "      <td>3.486281e+01</td>\n",
       "      <td>3.499159e+01</td>\n",
       "      <td>3.472687e+01</td>\n",
       "      <td>3.486604e+01</td>\n",
       "    </tr>\n",
       "    <tr>\n",
       "      <th>min</th>\n",
       "      <td>4.658147e+06</td>\n",
       "      <td>-3.310883e+01</td>\n",
       "      <td>-3.366021e+01</td>\n",
       "      <td>-3.402612e+01</td>\n",
       "      <td>-3.274398e+01</td>\n",
       "      <td>-2.133904e+01</td>\n",
       "      <td>-3.404520e+01</td>\n",
       "      <td>-3.401845e+01</td>\n",
       "      <td>-3.555385e+01</td>\n",
       "      <td>-3.468478e+01</td>\n",
       "      <td>-2.145506e+01</td>\n",
       "      <td>-2.133750e+01</td>\n",
       "      <td>-3.555385e+01</td>\n",
       "      <td>-3.383933e+01</td>\n",
       "    </tr>\n",
       "    <tr>\n",
       "      <th>25%</th>\n",
       "      <td>5.284532e+06</td>\n",
       "      <td>-2.395574e-01</td>\n",
       "      <td>-2.085763e-01</td>\n",
       "      <td>-2.100446e-01</td>\n",
       "      <td>-2.395074e-01</td>\n",
       "      <td>-2.399695e-01</td>\n",
       "      <td>-2.433566e-01</td>\n",
       "      <td>-2.432339e-01</td>\n",
       "      <td>-2.395595e-01</td>\n",
       "      <td>-2.397829e-01</td>\n",
       "      <td>-2.404052e-01</td>\n",
       "      <td>-1.387533e-01</td>\n",
       "      <td>-3.179051e-01</td>\n",
       "      <td>-2.365878e-01</td>\n",
       "    </tr>\n",
       "    <tr>\n",
       "      <th>50%</th>\n",
       "      <td>5.910918e+06</td>\n",
       "      <td>2.279640e+00</td>\n",
       "      <td>2.279773e+00</td>\n",
       "      <td>2.279780e+00</td>\n",
       "      <td>2.278372e+00</td>\n",
       "      <td>2.284256e+00</td>\n",
       "      <td>2.270687e+00</td>\n",
       "      <td>2.270837e+00</td>\n",
       "      <td>2.284073e+00</td>\n",
       "      <td>2.284591e+00</td>\n",
       "      <td>2.283506e+00</td>\n",
       "      <td>2.393907e+00</td>\n",
       "      <td>2.162507e+00</td>\n",
       "      <td>2.281261e+00</td>\n",
       "    </tr>\n",
       "    <tr>\n",
       "      <th>75%</th>\n",
       "      <td>6.537303e+06</td>\n",
       "      <td>7.363128e+00</td>\n",
       "      <td>7.324036e+00</td>\n",
       "      <td>7.324989e+00</td>\n",
       "      <td>7.362415e+00</td>\n",
       "      <td>7.361783e+00</td>\n",
       "      <td>7.371257e+00</td>\n",
       "      <td>7.371546e+00</td>\n",
       "      <td>7.358291e+00</td>\n",
       "      <td>7.357825e+00</td>\n",
       "      <td>7.366622e+00</td>\n",
       "      <td>7.532041e+00</td>\n",
       "      <td>7.156341e+00</td>\n",
       "      <td>7.358917e+00</td>\n",
       "    </tr>\n",
       "    <tr>\n",
       "      <th>max</th>\n",
       "      <td>7.163688e+06</td>\n",
       "      <td>2.037206e+02</td>\n",
       "      <td>2.031305e+02</td>\n",
       "      <td>2.036876e+02</td>\n",
       "      <td>2.085077e+02</td>\n",
       "      <td>1.989875e+02</td>\n",
       "      <td>2.039126e+02</td>\n",
       "      <td>2.039157e+02</td>\n",
       "      <td>2.037053e+02</td>\n",
       "      <td>2.037652e+02</td>\n",
       "      <td>2.016330e+02</td>\n",
       "      <td>2.085077e+02</td>\n",
       "      <td>1.989875e+02</td>\n",
       "      <td>2.036964e+02</td>\n",
       "    </tr>\n",
       "  </tbody>\n",
       "</table>\n",
       "</div>"
      ],
      "text/plain": [
       "                 id          mol0          mol1          mol2          mol3  \\\n",
       "count  2.505542e+06  2.505542e+06  2.505542e+06  2.505542e+06  2.505542e+06   \n",
       "mean   5.910918e+06  1.588523e+01  1.588919e+01  1.588932e+01  1.588508e+01   \n",
       "std    7.232878e+05  3.486669e+01  3.485335e+01  3.485485e+01  3.486642e+01   \n",
       "min    4.658147e+06 -3.310883e+01 -3.366021e+01 -3.402612e+01 -3.274398e+01   \n",
       "25%    5.284532e+06 -2.395574e-01 -2.085763e-01 -2.100446e-01 -2.395074e-01   \n",
       "50%    5.910918e+06  2.279640e+00  2.279773e+00  2.279780e+00  2.278372e+00   \n",
       "75%    6.537303e+06  7.363128e+00  7.324036e+00  7.324989e+00  7.362415e+00   \n",
       "max    7.163688e+06  2.037206e+02  2.031305e+02  2.036876e+02  2.085077e+02   \n",
       "\n",
       "               mol4          mol5          mol6          mol7          mol8  \\\n",
       "count  2.505542e+06  2.505542e+06  2.505542e+06  2.505542e+06  2.505542e+06   \n",
       "mean   1.588641e+01  1.588586e+01  1.588610e+01  1.588693e+01  1.588691e+01   \n",
       "std    3.486247e+01  3.486702e+01  3.486738e+01  3.486620e+01  3.486627e+01   \n",
       "min   -2.133904e+01 -3.404520e+01 -3.401845e+01 -3.555385e+01 -3.468478e+01   \n",
       "25%   -2.399695e-01 -2.433566e-01 -2.432339e-01 -2.395595e-01 -2.397829e-01   \n",
       "50%    2.284256e+00  2.270687e+00  2.270837e+00  2.284073e+00  2.284591e+00   \n",
       "75%    7.361783e+00  7.371257e+00  7.371546e+00  7.358291e+00  7.357825e+00   \n",
       "max    1.989875e+02  2.039126e+02  2.039157e+02  2.037053e+02  2.037652e+02   \n",
       "\n",
       "               mol9         m_max         m_min      m_median  \n",
       "count  2.505542e+06  2.505542e+06  2.505542e+06  2.505542e+06  \n",
       "mean   1.588677e+01  1.607214e+01  1.570292e+01  1.588691e+01  \n",
       "std    3.486281e+01  3.499159e+01  3.472687e+01  3.486604e+01  \n",
       "min   -2.145506e+01 -2.133750e+01 -3.555385e+01 -3.383933e+01  \n",
       "25%   -2.404052e-01 -1.387533e-01 -3.179051e-01 -2.365878e-01  \n",
       "50%    2.283506e+00  2.393907e+00  2.162507e+00  2.281261e+00  \n",
       "75%    7.366622e+00  7.532041e+00  7.156341e+00  7.358917e+00  \n",
       "max    2.016330e+02  2.085077e+02  1.989875e+02  2.036964e+02  "
      ]
     },
     "execution_count": 32,
     "metadata": {},
     "output_type": "execute_result"
    }
   ],
   "source": [
    "concat_sub.describe()"
   ]
  },
  {
   "cell_type": "code",
   "execution_count": 33,
   "metadata": {},
   "outputs": [],
   "source": [
    "cutoff_lo = 0.8\n",
    "cutoff_hi = 0.2"
   ]
  },
  {
   "cell_type": "markdown",
   "metadata": {},
   "source": [
    "# Mean Stacking"
   ]
  },
  {
   "cell_type": "code",
   "execution_count": 34,
   "metadata": {},
   "outputs": [],
   "source": [
    "rank = np.tril(concat_sub.iloc[:,1:ncol].corr().values,-1)\n",
    "m_gmean = 0\n",
    "n = 8\n",
    "while rank.max()>0:\n",
    "    mx = np.unravel_index(rank.argmax(), rank.shape)\n",
    "    m_gmean += n*(np.log(concat_sub.iloc[:, mx[0]+1]) + np.log(concat_sub.iloc[:, mx[1]+1]))/2\n",
    "    rank[mx] = 0\n",
    "    n += 1"
   ]
  },
  {
   "cell_type": "code",
   "execution_count": 35,
   "metadata": {},
   "outputs": [],
   "source": [
    "concat_sub['m_mean'] = np.exp(m_gmean/(n-1)**2)"
   ]
  },
  {
   "cell_type": "raw",
   "metadata": {},
   "source": [
    "concat_sub['scalar_coupling_constant'] = concat_sub['m_mean']\n",
    "concat_sub[['id', 'scalar_coupling_constant']].to_csv('stack_mean.csv', \n",
    "                                        index=False, float_format='%.6f')"
   ]
  },
  {
   "cell_type": "markdown",
   "metadata": {},
   "source": [
    "# Median Stacking"
   ]
  },
  {
   "cell_type": "code",
   "execution_count": 36,
   "metadata": {},
   "outputs": [
    {
     "name": "stdout",
     "output_type": "stream",
     "text": [
      "save pash: ../output/nb99-02_stack_median_submission.csv\n"
     ]
    }
   ],
   "source": [
    "path_submission = f'../output/nb{nb}_stack_median_submission.csv'\n",
    "print(f'save pash: {path_submission}')\n",
    "\n",
    "concat_sub['scalar_coupling_constant'] = concat_sub['m_median']\n",
    "concat_sub[['id', 'scalar_coupling_constant']].to_csv(path_submission, \n",
    "                                        index=False, float_format='%.6f')"
   ]
  },
  {
   "cell_type": "code",
   "execution_count": 37,
   "metadata": {},
   "outputs": [
    {
     "data": {
      "text/html": [
       "<div>\n",
       "<style scoped>\n",
       "    .dataframe tbody tr th:only-of-type {\n",
       "        vertical-align: middle;\n",
       "    }\n",
       "\n",
       "    .dataframe tbody tr th {\n",
       "        vertical-align: top;\n",
       "    }\n",
       "\n",
       "    .dataframe thead th {\n",
       "        text-align: right;\n",
       "    }\n",
       "</style>\n",
       "<table border=\"1\" class=\"dataframe\">\n",
       "  <thead>\n",
       "    <tr style=\"text-align: right;\">\n",
       "      <th></th>\n",
       "      <th>id</th>\n",
       "      <th>scalar_coupling_constant</th>\n",
       "    </tr>\n",
       "  </thead>\n",
       "  <tbody>\n",
       "    <tr>\n",
       "      <th>0</th>\n",
       "      <td>4658147</td>\n",
       "      <td>11.982352</td>\n",
       "    </tr>\n",
       "    <tr>\n",
       "      <th>1</th>\n",
       "      <td>4658148</td>\n",
       "      <td>184.236777</td>\n",
       "    </tr>\n",
       "    <tr>\n",
       "      <th>2</th>\n",
       "      <td>4658149</td>\n",
       "      <td>11.880013</td>\n",
       "    </tr>\n",
       "    <tr>\n",
       "      <th>3</th>\n",
       "      <td>4658150</td>\n",
       "      <td>178.853054</td>\n",
       "    </tr>\n",
       "    <tr>\n",
       "      <th>4</th>\n",
       "      <td>4658151</td>\n",
       "      <td>12.007548</td>\n",
       "    </tr>\n",
       "  </tbody>\n",
       "</table>\n",
       "</div>"
      ],
      "text/plain": [
       "        id  scalar_coupling_constant\n",
       "0  4658147                 11.982352\n",
       "1  4658148                184.236777\n",
       "2  4658149                 11.880013\n",
       "3  4658150                178.853054\n",
       "4  4658151                 12.007548"
      ]
     },
     "execution_count": 37,
     "metadata": {},
     "output_type": "execute_result"
    }
   ],
   "source": [
    "df = pd.read_csv(path_submission)\n",
    "df.head()"
   ]
  },
  {
   "cell_type": "code",
   "execution_count": 38,
   "metadata": {},
   "outputs": [
    {
     "data": {
      "text/plain": [
       "<matplotlib.collections.PathCollection at 0x7fb92858f390>"
      ]
     },
     "execution_count": 38,
     "metadata": {},
     "output_type": "execute_result"
    },
    {
     "data": {
      "image/png": "[encoded data removed]",
      "text/plain": [
       "<Figure size 432x288 with 1 Axes>"
      ]
     },
     "metadata": {
      "needs_background": "light"
     },
     "output_type": "display_data"
    }
   ],
   "source": [
    "plt.scatter(outs[0].scalar_coupling_constant.values, df.scalar_coupling_constant.values)"
   ]
  },
  {
   "cell_type": "markdown",
   "metadata": {},
   "source": [
    "# Pushout + Median Stacking\n",
    ">* Pushout strategy is bit aggresive"
   ]
  },
  {
   "cell_type": "raw",
   "metadata": {},
   "source": [
    "concat_sub['scalar_coupling_constant'] = np.where(np.all(concat_sub.iloc[:,1:7] > cutoff_lo, axis=1), 1, \n",
    "                                    np.where(np.all(concat_sub.iloc[:,1:7] < cutoff_hi, axis=1),\n",
    "                                             0, concat_sub['m_median']))\n",
    "concat_sub[['id', 'scalar_coupling_constant']].to_csv('stack_pushout_median.csv', \n",
    "                                        index=False, float_format='%.6f')"
   ]
  },
  {
   "cell_type": "markdown",
   "metadata": {},
   "source": [
    "# MinMax + Mean Stacking\n",
    ">* MinMax seems more gentle and it outperforms the previous one"
   ]
  },
  {
   "cell_type": "raw",
   "metadata": {},
   "source": [
    "concat_sub['scalar_coupling_constant'] = np.where(np.all(concat_sub.iloc[:,1:7] > cutoff_lo, axis=1), \n",
    "                                    concat_sub['m_max'], \n",
    "                                    np.where(np.all(concat_sub.iloc[:,1:7] < cutoff_hi, axis=1),\n",
    "                                             concat_sub['m_min'], \n",
    "                                             concat_sub['m_mean']))\n",
    "concat_sub[['id', 'scalar_coupling_constant']].to_csv('stack_minmax_mean.csv', \n",
    "                                        index=False, float_format='%.6f')"
   ]
  },
  {
   "cell_type": "markdown",
   "metadata": {},
   "source": [
    "# MinMax + Median Stacking"
   ]
  },
  {
   "cell_type": "raw",
   "metadata": {},
   "source": [
    "concat_sub['scalar_coupling_constant'] = np.where(np.all(concat_sub.iloc[:,1:7] > cutoff_lo, axis=1), \n",
    "                                    concat_sub['m_max'], \n",
    "                                    np.where(np.all(concat_sub.iloc[:,1:7] < cutoff_hi, axis=1),\n",
    "                                             concat_sub['m_min'], \n",
    "                                             concat_sub['m_median']))\n",
    "concat_sub[['id', 'scalar_coupling_constant']].to_csv('stack_minmax_median.csv', \n",
    "                                        index=False, float_format='%.6f')"
   ]
  },
  {
   "cell_type": "markdown",
   "metadata": {},
   "source": [
    "## Averaging Ranks"
   ]
  },
  {
   "cell_type": "raw",
   "metadata": {},
   "source": [
    "concat_sub['scalar_coupling_constant'] = concat_sub['mol0'].rank(method ='min') + concat_sub['mol1'].rank(method ='min') + concat_sub['mol2'].rank(method ='min') \n",
    "concat_sub['scalar_coupling_constant'] = (concat_sub['scalar_coupling_constant']-concat_sub['scalar_coupling_constant'].min())/(concat_sub['scalar_coupling_constant'].max() - concat_sub['scalar_coupling_constant'].min())\n",
    "concat_sub.describe()\n",
    "concat_sub[['id', 'scalar_coupling_constant']].to_csv('stack_rank.csv', index=False, float_format='%.8f')"
   ]
  },
  {
   "cell_type": "markdown",
   "metadata": {},
   "source": [
    "Best Results : Stack Median"
   ]
  },
  {
   "cell_type": "markdown",
   "metadata": {},
   "source": [
    "# Blending Approach"
   ]
  },
  {
   "cell_type": "raw",
   "metadata": {},
   "source": [
    "one = pd.read_csv('../input/chemistry-models/submission-1.619.csv')\n",
    "two = pd.read_csv('../input/chemistry-models/submission-1.643.csv')\n",
    "three = pd.read_csv('../input/chemistry-models/submission-1.662.csv')\n",
    "\n",
    "submission = pd.DataFrame()\n",
    "submission['id'] = one.id\n",
    "submission['scalar_coupling_constant'] = (0.65*three.scalar_coupling_constant) + (0.25*two.scalar_coupling_constant) + (0.10*one.scalar_coupling_constant)\n",
    "\n",
    "submission.to_csv('Aggblender.csv', index=False)"
   ]
  }
 ],
 "metadata": {
  "kernelspec": {
   "display_name": "Python 3",
   "language": "python",
   "name": "python3"
  },
  "language_info": {
   "codemirror_mode": {
    "name": "ipython",
    "version": 3
   },
   "file_extension": ".py",
   "mimetype": "text/x-python",
   "name": "python",
   "nbconvert_exporter": "python",
   "pygments_lexer": "ipython3",
   "version": "3.6.8"
  }
 },
 "nbformat": 4,
 "nbformat_minor": 4
}
