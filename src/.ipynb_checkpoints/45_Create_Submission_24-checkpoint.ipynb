{
 "cells": [
  {
   "cell_type": "markdown",
   "metadata": {},
   "source": [
    "# Introduction\n",
    "- nb44 に以下の特徴量を追加 & type別学習 \n",
    "- distance とその統計量  \n",
    "- cos features  \n",
    "- dist_interact  \n",
    "- openbabelcharge 特徴量(nb32)\n",
    "- fc"
   ]
  },
  {
   "cell_type": "markdown",
   "metadata": {},
   "source": [
    "# Import everything I need :)"
   ]
  },
  {
   "cell_type": "code",
   "execution_count": 1,
   "metadata": {},
   "outputs": [
    {
     "name": "stderr",
     "output_type": "stream",
     "text": [
      "/usr/local/lib/python3.6/dist-packages/matplotlib/__init__.py:886: MatplotlibDeprecationWarning: \n",
      "examples.directory is deprecated; in the future, examples will be found relative to the 'datapath' directory.\n",
      "  \"found relative to the 'datapath' directory.\".format(key))\n"
     ]
    }
   ],
   "source": [
    "import time\n",
    "import multiprocessing\n",
    "import glob\n",
    "import gc\n",
    "import matplotlib.pyplot as plt\n",
    "import seaborn as sns\n",
    "import numpy as np\n",
    "import pandas as pd\n",
    "from plotly.offline import init_notebook_mode, iplot\n",
    "import plotly.graph_objs as go\n",
    "from sklearn.preprocessing import LabelEncoder\n",
    "from sklearn.model_selection import KFold\n",
    "from sklearn.metrics import mean_absolute_error\n",
    "import lightgbm as lgb\n",
    "from fastprogress import progress_bar"
   ]
  },
  {
   "cell_type": "markdown",
   "metadata": {},
   "source": [
    "# Preparation"
   ]
  },
  {
   "cell_type": "code",
   "execution_count": 2,
   "metadata": {},
   "outputs": [],
   "source": [
    "nb = 45\n",
    "isSmallSet = False\n",
    "length = 20000"
   ]
  },
  {
   "cell_type": "code",
   "execution_count": 3,
   "metadata": {},
   "outputs": [],
   "source": [
    "pd.set_option('display.max_columns', 200)"
   ]
  },
  {
   "cell_type": "code",
   "execution_count": 4,
   "metadata": {},
   "outputs": [],
   "source": [
    "# use atomic numbers to recode atomic names\n",
    "ATOMIC_NUMBERS = {\n",
    "    'H': 1,\n",
    "    'C': 6,\n",
    "    'N': 7,\n",
    "    'O': 8,\n",
    "    'F': 9\n",
    "}"
   ]
  },
  {
   "cell_type": "code",
   "execution_count": 5,
   "metadata": {},
   "outputs": [
    {
     "data": {
      "text/plain": [
       "['../input/champs-scalar-coupling/scalar_coupling_contributions.csv',\n",
       " '../input/champs-scalar-coupling/magnetic_shielding_tensors.csv',\n",
       " '../input/champs-scalar-coupling/structures.csv',\n",
       " '../input/champs-scalar-coupling/test.csv',\n",
       " '../input/champs-scalar-coupling/dipole_moments.csv',\n",
       " '../input/champs-scalar-coupling/potential_energy.csv',\n",
       " '../input/champs-scalar-coupling/sample_submission.csv',\n",
       " '../input/champs-scalar-coupling/train.csv',\n",
       " '../input/champs-scalar-coupling/nb33_train_dist-interaction.csv',\n",
       " '../input/champs-scalar-coupling/test_ob_charges_V7EstimatioofMullikenChargeswithOpenBabel.csv',\n",
       " '../input/champs-scalar-coupling/nb29_fc_test_feature.csv',\n",
       " '../input/champs-scalar-coupling/train_ob_charges_V7EstimatioofMullikenChargeswithOpenBabel.csv',\n",
       " '../input/champs-scalar-coupling/nb33_test_dist-interaction.csv',\n",
       " '../input/champs-scalar-coupling/mulliken_charges.csv',\n",
       " '../input/champs-scalar-coupling/nb29_fc_train_feature.csv']"
      ]
     },
     "execution_count": 5,
     "metadata": {},
     "output_type": "execute_result"
    }
   ],
   "source": [
    "file_path = '../input/champs-scalar-coupling/'\n",
    "glob.glob(file_path + '*')"
   ]
  },
  {
   "cell_type": "code",
   "execution_count": 6,
   "metadata": {},
   "outputs": [],
   "source": [
    "# train\n",
    "path = file_path + 'train.csv'\n",
    "if isSmallSet:\n",
    "    train = pd.read_csv(path) [:length]\n",
    "else:\n",
    "    train = pd.read_csv(path)"
   ]
  },
  {
   "cell_type": "code",
   "execution_count": 7,
   "metadata": {},
   "outputs": [],
   "source": [
    "# test\n",
    "path = file_path + 'test.csv'\n",
    "if isSmallSet:\n",
    "    test = pd.read_csv(path)[:length]\n",
    "else:\n",
    "    test = pd.read_csv(path)"
   ]
  },
  {
   "cell_type": "code",
   "execution_count": 8,
   "metadata": {},
   "outputs": [],
   "source": [
    "# structure\n",
    "path = file_path + 'structures.csv'\n",
    "structures = pd.read_csv(path)"
   ]
  },
  {
   "cell_type": "code",
   "execution_count": 9,
   "metadata": {},
   "outputs": [],
   "source": [
    "# fc_train\n",
    "path = file_path + 'nb29_fc_train_feature.csv'\n",
    "if isSmallSet:\n",
    "    fc_train = pd.read_csv(path)[:length]\n",
    "else:\n",
    "    fc_train = pd.read_csv(path)"
   ]
  },
  {
   "cell_type": "code",
   "execution_count": 10,
   "metadata": {},
   "outputs": [],
   "source": [
    "# fc_test\n",
    "path = file_path + 'nb29_fc_test_feature.csv'\n",
    "if isSmallSet:\n",
    "    fc_test = pd.read_csv(path)[:length]\n",
    "else:\n",
    "    fc_test = pd.read_csv(path)"
   ]
  },
  {
   "cell_type": "code",
   "execution_count": 11,
   "metadata": {},
   "outputs": [],
   "source": [
    "# train dist-interact\n",
    "path = file_path + 'nb33_train_dist-interaction.csv'\n",
    "if isSmallSet:\n",
    "    dist_interact_train = pd.read_csv(path)[:length]\n",
    "else:\n",
    "    dist_interact_train = pd.read_csv(path)"
   ]
  },
  {
   "cell_type": "code",
   "execution_count": 12,
   "metadata": {},
   "outputs": [],
   "source": [
    "# test dist-interact\n",
    "path = file_path + 'nb33_test_dist-interaction.csv'\n",
    "if isSmallSet:\n",
    "    dist_interact_test = pd.read_csv(path)[:length]\n",
    "else:\n",
    "    dist_interact_test = pd.read_csv(path)"
   ]
  },
  {
   "cell_type": "code",
   "execution_count": 13,
   "metadata": {},
   "outputs": [],
   "source": [
    "# ob charge train\n",
    "path = file_path + 'train_ob_charges_V7EstimatioofMullikenChargeswithOpenBabel.csv'\n",
    "if isSmallSet:\n",
    "    ob_charge_train = pd.read_csv(path)[:length].drop(['Unnamed: 0', 'error'], axis=1)\n",
    "else:\n",
    "    ob_charge_train = pd.read_csv(path).drop(['Unnamed: 0', 'error'], axis=1)"
   ]
  },
  {
   "cell_type": "code",
   "execution_count": 14,
   "metadata": {},
   "outputs": [],
   "source": [
    "# ob charge test\n",
    "path = file_path + 'test_ob_charges_V7EstimatioofMullikenChargeswithOpenBabel.csv'\n",
    "if isSmallSet:\n",
    "    ob_charge_test = pd.read_csv(path)[:length].drop(['Unnamed: 0', 'error'], axis=1)\n",
    "else:\n",
    "    ob_charge_test = pd.read_csv(path).drop(['Unnamed: 0', 'error'], axis=1)"
   ]
  },
  {
   "cell_type": "code",
   "execution_count": 15,
   "metadata": {},
   "outputs": [
    {
     "data": {
      "text/plain": [
       "(2505542, 2505542)"
      ]
     },
     "execution_count": 15,
     "metadata": {},
     "output_type": "execute_result"
    }
   ],
   "source": [
    "len(test), len(fc_test)"
   ]
  },
  {
   "cell_type": "code",
   "execution_count": 16,
   "metadata": {},
   "outputs": [
    {
     "data": {
      "text/plain": [
       "(4658147, 4658147)"
      ]
     },
     "execution_count": 16,
     "metadata": {},
     "output_type": "execute_result"
    }
   ],
   "source": [
    "len(train), len(fc_train)"
   ]
  },
  {
   "cell_type": "code",
   "execution_count": 17,
   "metadata": {},
   "outputs": [
    {
     "name": "stdout",
     "output_type": "stream",
     "text": [
      "There are 4658147 rows in train data.\n",
      "There are 2505542 rows in test data.\n",
      "There are 85003 distinct molecules in train data.\n",
      "There are 45772 distinct molecules in test data.\n",
      "There are 29 unique atoms.\n",
      "There are 8 unique types.\n"
     ]
    }
   ],
   "source": [
    "if isSmallSet:\n",
    "    print('using SmallSet !!')\n",
    "    print('-------------------')\n",
    "\n",
    "print(f'There are {train.shape[0]} rows in train data.')\n",
    "print(f'There are {test.shape[0]} rows in test data.')\n",
    "\n",
    "print(f\"There are {train['molecule_name'].nunique()} distinct molecules in train data.\")\n",
    "print(f\"There are {test['molecule_name'].nunique()} distinct molecules in test data.\")\n",
    "print(f\"There are {train['atom_index_0'].nunique()} unique atoms.\")\n",
    "print(f\"There are {train['type'].nunique()} unique types.\")"
   ]
  },
  {
   "cell_type": "markdown",
   "metadata": {},
   "source": [
    "---\n",
    "## myFunc\n",
    "**metrics**"
   ]
  },
  {
   "cell_type": "code",
   "execution_count": 18,
   "metadata": {},
   "outputs": [],
   "source": [
    "def kaggle_metric(df, preds):\n",
    "    df[\"prediction\"] = preds\n",
    "    maes = []\n",
    "    for t in df.type.unique():\n",
    "        y_true = df[df.type==t].scalar_coupling_constant.values\n",
    "        y_pred = df[df.type==t].prediction.values\n",
    "        mae = np.log(mean_absolute_error(y_true, y_pred))\n",
    "        maes.append(mae)\n",
    "    return np.mean(maes)"
   ]
  },
  {
   "cell_type": "markdown",
   "metadata": {},
   "source": [
    "---\n",
    "**momory**"
   ]
  },
  {
   "cell_type": "code",
   "execution_count": 19,
   "metadata": {},
   "outputs": [],
   "source": [
    "def reduce_mem_usage(df, verbose=True):\n",
    "    numerics = ['int16', 'int32', 'int64', 'float16', 'float32', 'float64']\n",
    "    start_mem = df.memory_usage().sum() / 1024**2\n",
    "    for col in df.columns:\n",
    "        col_type = df[col].dtypes\n",
    "        if col_type in numerics:\n",
    "            c_min = df[col].min()\n",
    "            c_max = df[col].max()\n",
    "            if str(col_type)[:3] == 'int':\n",
    "                if c_min > np.iinfo(np.int8).min and c_max < np.iinfo(np.int8).max:\n",
    "                    df[col] = df[col].astype(np.int8)\n",
    "                elif c_min > np.iinfo(np.int16).min and c_max < np.iinfo(np.int16).max:\n",
    "                    df[col] = df[col].astype(np.int16)\n",
    "                elif c_min > np.iinfo(np.int32).min and c_max < np.iinfo(np.int32).max:\n",
    "                    df[col] = df[col].astype(np.int32)\n",
    "                elif c_min > np.iinfo(np.int64).min and c_max < np.iinfo(np.int64).max:\n",
    "                    df[col] = df[col].astype(np.int64)\n",
    "            else:\n",
    "                c_prec = df[col].apply(lambda x: np.finfo(x).precision).max()\n",
    "                if c_min > np.finfo(np.float16).min and c_max < np.finfo(np.float16).max and c_prec == np.finfo(np.float16).precision:\n",
    "                    df[col] = df[col].astype(np.float16)\n",
    "                elif c_min > np.finfo(np.float32).min and c_max < np.finfo(np.float32).max and c_prec == np.finfo(np.float32).precision:\n",
    "                    df[col] = df[col].astype(np.float32)\n",
    "                else:\n",
    "                    df[col] = df[col].astype(np.float64)\n",
    "    end_mem = df.memory_usage().sum() / 1024**2\n",
    "    if verbose: print('Mem. usage decreased to {:5.2f} Mb ({:.1f}% reduction)'.format(end_mem, 100 * (start_mem - end_mem) / start_mem))\n",
    "    return df"
   ]
  },
  {
   "cell_type": "markdown",
   "metadata": {},
   "source": [
    "# Feature Engineering"
   ]
  },
  {
   "cell_type": "markdown",
   "metadata": {},
   "source": [
    "Build Distance Dataset"
   ]
  },
  {
   "cell_type": "code",
   "execution_count": 20,
   "metadata": {},
   "outputs": [],
   "source": [
    "def build_type_dataframes(base, structures, coupling_type):\n",
    "    base = base[base['type'] == coupling_type].drop('type', axis=1).copy()\n",
    "    base = base.reset_index()\n",
    "    base['id'] = base['id'].astype('int32')\n",
    "    structures = structures[structures['molecule_name'].isin(base['molecule_name'])]\n",
    "    return base, structures\n",
    "\n",
    "# a,b = build_type_dataframes(train, structures, '1JHN')"
   ]
  },
  {
   "cell_type": "code",
   "execution_count": 21,
   "metadata": {},
   "outputs": [],
   "source": [
    "def add_coordinates(base, structures, index):\n",
    "    df = pd.merge(base, structures, how='inner',\n",
    "                  left_on=['molecule_name', f'atom_index_{index}'],\n",
    "                  right_on=['molecule_name', 'atom_index']).drop(['atom_index'], axis=1)\n",
    "    df = df.rename(columns={\n",
    "        'atom': f'atom_{index}',\n",
    "        'x': f'x_{index}',\n",
    "        'y': f'y_{index}',\n",
    "        'z': f'z_{index}'\n",
    "    })\n",
    "    return df"
   ]
  },
  {
   "cell_type": "code",
   "execution_count": 22,
   "metadata": {},
   "outputs": [],
   "source": [
    "def add_atoms(base, atoms):\n",
    "    df = pd.merge(base, atoms, how='inner',\n",
    "                  on=['molecule_name', 'atom_index_0', 'atom_index_1'])\n",
    "    return df"
   ]
  },
  {
   "cell_type": "code",
   "execution_count": 23,
   "metadata": {},
   "outputs": [],
   "source": [
    "def merge_all_atoms(base, structures):\n",
    "    df = pd.merge(base, structures, how='left',\n",
    "                  left_on=['molecule_name'],\n",
    "                  right_on=['molecule_name'])\n",
    "    df = df[(df.atom_index_0 != df.atom_index) & (df.atom_index_1 != df.atom_index)]\n",
    "    return df"
   ]
  },
  {
   "cell_type": "code",
   "execution_count": 24,
   "metadata": {},
   "outputs": [],
   "source": [
    "def add_center(df):\n",
    "    df['x_c'] = ((df['x_1'] + df['x_0']) * np.float32(0.5))\n",
    "    df['y_c'] = ((df['y_1'] + df['y_0']) * np.float32(0.5))\n",
    "    df['z_c'] = ((df['z_1'] + df['z_0']) * np.float32(0.5))\n",
    "\n",
    "def add_distance_to_center(df):\n",
    "    df['d_c'] = ((\n",
    "        (df['x_c'] - df['x'])**np.float32(2) +\n",
    "        (df['y_c'] - df['y'])**np.float32(2) + \n",
    "        (df['z_c'] - df['z'])**np.float32(2)\n",
    "    )**np.float32(0.5))\n",
    "\n",
    "def add_distance_between(df, suffix1, suffix2):\n",
    "    df[f'd_{suffix1}_{suffix2}'] = ((\n",
    "        (df[f'x_{suffix1}'] - df[f'x_{suffix2}'])**np.float32(2) +\n",
    "        (df[f'y_{suffix1}'] - df[f'y_{suffix2}'])**np.float32(2) + \n",
    "        (df[f'z_{suffix1}'] - df[f'z_{suffix2}'])**np.float32(2)\n",
    "    )**np.float32(0.5))"
   ]
  },
  {
   "cell_type": "code",
   "execution_count": 25,
   "metadata": {},
   "outputs": [],
   "source": [
    "def add_distances(df):\n",
    "    n_atoms = 1 + max([int(c.split('_')[1]) for c in df.columns if c.startswith('x_')])\n",
    "    \n",
    "    for i in range(1, n_atoms):\n",
    "        for vi in range(min(4, i)):\n",
    "            add_distance_between(df, i, vi)"
   ]
  },
  {
   "cell_type": "code",
   "execution_count": 26,
   "metadata": {},
   "outputs": [],
   "source": [
    "def add_n_atoms(base, structures):\n",
    "    dfs = structures['molecule_name'].value_counts().rename('n_atoms').to_frame()\n",
    "    return pd.merge(base, dfs, left_on='molecule_name', right_index=True)"
   ]
  },
  {
   "cell_type": "code",
   "execution_count": 27,
   "metadata": {},
   "outputs": [],
   "source": [
    "def build_couple_dataframe(some_csv, structures_csv, coupling_type, n_atoms=10):\n",
    "    base, structures = build_type_dataframes(some_csv, structures_csv, coupling_type)\n",
    "    base = add_coordinates(base, structures, 0)\n",
    "    base = add_coordinates(base, structures, 1)\n",
    "    \n",
    "    base = base.drop(['atom_0', 'atom_1'], axis=1)\n",
    "    atoms = base.drop('id', axis=1).copy()\n",
    "    if 'scalar_coupling_constant' in some_csv:\n",
    "        atoms = atoms.drop(['scalar_coupling_constant'], axis=1)\n",
    "        \n",
    "    add_center(atoms)\n",
    "    atoms = atoms.drop(['x_0', 'y_0', 'z_0', 'x_1', 'y_1', 'z_1'], axis=1)\n",
    "\n",
    "    atoms = merge_all_atoms(atoms, structures)\n",
    "    \n",
    "    add_distance_to_center(atoms)\n",
    "    \n",
    "    atoms = atoms.drop(['x_c', 'y_c', 'z_c', 'atom_index'], axis=1)\n",
    "    atoms.sort_values(['molecule_name', 'atom_index_0', 'atom_index_1', 'd_c'], inplace=True)\n",
    "    atom_groups = atoms.groupby(['molecule_name', 'atom_index_0', 'atom_index_1'])\n",
    "    atoms['num'] = atom_groups.cumcount() + 2\n",
    "    atoms = atoms.drop(['d_c'], axis=1)\n",
    "    atoms = atoms[atoms['num'] < n_atoms]\n",
    "\n",
    "    atoms = atoms.set_index(['molecule_name', 'atom_index_0', 'atom_index_1', 'num']).unstack()\n",
    "    atoms.columns = [f'{col[0]}_{col[1]}' for col in atoms.columns]\n",
    "    atoms = atoms.reset_index()\n",
    "    \n",
    "#     # downcast back to int8\n",
    "    for col in atoms.columns:\n",
    "        if col.startswith('atom_'):\n",
    "            atoms[col] = atoms[col].fillna(0).astype('int8')\n",
    "            \n",
    "#     atoms['molecule_name'] = atoms['molecule_name'].astype('int32')\n",
    "    \n",
    "    full = add_atoms(base, atoms)\n",
    "    add_distances(full)\n",
    "    \n",
    "    full.sort_values('id', inplace=True)\n",
    "    \n",
    "    return full"
   ]
  },
  {
   "cell_type": "code",
   "execution_count": 28,
   "metadata": {},
   "outputs": [],
   "source": [
    "def take_n_atoms(df, n_atoms, four_start=4):\n",
    "    labels = ['id', 'molecule_name', 'atom_index_1', 'atom_index_0']\n",
    "    for i in range(2, n_atoms):\n",
    "        label = f'atom_{i}'\n",
    "        labels.append(label)\n",
    "\n",
    "    for i in range(n_atoms):\n",
    "        num = min(i, 4) if i < four_start else 4\n",
    "        for j in range(num):\n",
    "            labels.append(f'd_{i}_{j}')\n",
    "    if 'scalar_coupling_constant' in df:\n",
    "        labels.append('scalar_coupling_constant')\n",
    "    return df[labels]"
   ]
  },
  {
   "cell_type": "code",
   "execution_count": 29,
   "metadata": {},
   "outputs": [
    {
     "data": {
      "text/html": [
       "\n",
       "    <div>\n",
       "        <style>\n",
       "            /* Turns off some styling */\n",
       "            progress {\n",
       "                /* gets rid of default border in Firefox and Opera. */\n",
       "                border: none;\n",
       "                /* Needs to be in here for Safari polyfill so background images work as expected. */\n",
       "                background-size: auto;\n",
       "            }\n",
       "            .progress-bar-interrupted, .progress-bar-interrupted::-webkit-progress-bar {\n",
       "                background: #F44336;\n",
       "            }\n",
       "        </style>\n",
       "      <progress value='8' class='' max='8', style='width:300px; height:20px; vertical-align: middle;'></progress>\n",
       "      100.00% [8/8 07:01<00:00]\n",
       "    </div>\n",
       "    "
      ],
      "text/plain": [
       "<IPython.core.display.HTML object>"
      ]
     },
     "metadata": {},
     "output_type": "display_data"
    }
   ],
   "source": [
    "atoms = structures['atom'].values\n",
    "types_train = train['type'].values\n",
    "types_test = test['type'].values\n",
    "structures['atom'] = structures['atom'].replace(ATOMIC_NUMBERS).astype('int8')\n",
    "fulls_train = []\n",
    "fulls_test  = []\n",
    "for type_ in progress_bar(train['type'].unique()):\n",
    "    full_train = build_couple_dataframe(train, structures, type_, n_atoms=10)\n",
    "    full_test  = build_couple_dataframe(test, structures, type_, n_atoms=10)\n",
    "    full_train = take_n_atoms(full_train, 10)\n",
    "    full_test  = take_n_atoms(full_test, 10)\n",
    "    fulls_train.append(full_train)\n",
    "    fulls_test.append(full_test)\n",
    "    \n",
    "structures['atom'] = atoms\n",
    "train = pd.concat(fulls_train).sort_values(by=['id']) #, axis=0)\n",
    "test  = pd.concat(fulls_test).sort_values(by=['id']) #, axis=0)\n",
    "train['type'] = types_train\n",
    "test['type'] = types_test\n",
    "train = train.fillna(0)\n",
    "test  = test.fillna(0)"
   ]
  },
  {
   "cell_type": "code",
   "execution_count": null,
   "metadata": {},
   "outputs": [],
   "source": [
    "<br>\n",
    "<br>\n",
    "dist-interact"
   ]
  },
  {
   "cell_type": "code",
   "execution_count": 30,
   "metadata": {},
   "outputs": [],
   "source": [
    "train['dist_interact'] = dist_interact_train.values\n",
    "test['dist_interact'] = dist_interact_test.values"
   ]
  },
  {
   "cell_type": "code",
   "execution_count": null,
   "metadata": {},
   "outputs": [],
   "source": [
    "<br>\n",
    "<br>\n",
    "basic"
   ]
  },
  {
   "cell_type": "code",
   "execution_count": null,
   "metadata": {},
   "outputs": [],
   "source": [
    "train.head()"
   ]
  },
  {
   "cell_type": "code",
   "execution_count": 31,
   "metadata": {},
   "outputs": [],
   "source": [
    "def map_atom_info(df_1,df_2, atom_idx):\n",
    "    df = pd.merge(df_1, df_2, how = 'left',\n",
    "                  left_on  = ['molecule_name', f'atom_index_{atom_idx}'],\n",
    "                  right_on = ['molecule_name',  'atom_index'])\n",
    "    df = df.drop('atom_index', axis=1)\n",
    "    return df\n",
    "\n",
    "\n",
    "# structure and ob_charges\n",
    "ob_charge = pd.concat([ob_charge_train, ob_charge_test])\n",
    "merge = pd.merge(ob_charge, structures, how='left',\n",
    "                  left_on  = ['molecule_name', 'atom_index'],\n",
    "                  right_on = ['molecule_name', 'atom_index'])\n",
    "for atom_idx in [0,1]:\n",
    "    train = map_atom_info(train, merge, atom_idx)\n",
    "    test  = map_atom_info(test,  merge, atom_idx)\n",
    "    \n",
    "    train = train.rename(columns={\n",
    "                                        'atom': f'atom_{atom_idx}',\n",
    "                                        'x': f'x_{atom_idx}',\n",
    "                                        'y': f'y_{atom_idx}',\n",
    "                                        'z': f'z_{atom_idx}',\n",
    "                                        'eem': f'eem_{atom_idx}',\n",
    "                                     'mmff94': f'mmff94_{atom_idx}',\n",
    "                                  'gasteiger': f'gasteiger_{atom_idx}', \n",
    "                                        'qeq': f'qeq_{atom_idx}',\n",
    "                                      'qtpie': f'qtpie_{atom_idx}', \n",
    "                                  'eem2015ha': f'eem2015ha_{atom_idx}', \n",
    "                                  'eem2015hm': f'eem2015hm_{atom_idx}', \n",
    "                                  'eem2015hn': f'eem2015hn_{atom_idx}', \n",
    "                                  'eem2015ba': f'eem2015ba_{atom_idx}', \n",
    "                                  'eem2015bm': f'eem2015bm_{atom_idx}', \n",
    "                                  'eem2015bn': f'eem2015bn_{atom_idx}',})\n",
    "    test = test.rename(columns={\n",
    "                                        'atom': f'atom_{atom_idx}',\n",
    "                                        'x': f'x_{atom_idx}',\n",
    "                                        'y': f'y_{atom_idx}',\n",
    "                                        'z': f'z_{atom_idx}',\n",
    "                                        'eem': f'eem_{atom_idx}',\n",
    "                                     'mmff94': f'mmff94_{atom_idx}',\n",
    "                                  'gasteiger': f'gasteiger_{atom_idx}', \n",
    "                                        'qeq': f'qeq_{atom_idx}', \n",
    "                                      'qtpie': f'qtpie_{atom_idx}', \n",
    "                                  'eem2015ha': f'eem2015ha_{atom_idx}', \n",
    "                                  'eem2015hm': f'eem2015hm_{atom_idx}', \n",
    "                                  'eem2015hn': f'eem2015hn_{atom_idx}', \n",
    "                                  'eem2015ba': f'eem2015ba_{atom_idx}', \n",
    "                                  'eem2015bm': f'eem2015bm_{atom_idx}', \n",
    "                                  'eem2015bn': f'eem2015bn_{atom_idx}'})\n",
    "#     test  =  test.rename(columns={'atom': f'atom_{atom_idx}',\n",
    "#                                         'x': f'x_{atom_idx}',\n",
    "#                                         'y': f'y_{atom_idx}',\n",
    "#                                         'z': f'z_{atom_idx}'})\n",
    "\n",
    "# ob_charges\n",
    "# train = map_atom_info(train, ob_charge_train, 0)\n",
    "# test  = map_atom_info(test,  ob_charge_test,  0)\n",
    "# train = map_atom_info(train, ob_charge_train, 1)\n",
    "# test  = map_atom_info(test,  ob_charge_test,  1)"
   ]
  },
  {
   "cell_type": "code",
   "execution_count": null,
   "metadata": {},
   "outputs": [],
   "source": [
    "<br>\n",
    "<br>\n",
    "type0"
   ]
  },
  {
   "cell_type": "code",
   "execution_count": 32,
   "metadata": {},
   "outputs": [],
   "source": [
    "def create_type0(df):\n",
    "    df['type_0'] = df['type'].apply(lambda x : x[0])\n",
    "    return df\n",
    "# train['type_0'] = train['type'].apply(lambda x: x[0])\n",
    "# test['type_0'] = test['type'].apply(lambda x: x[0])"
   ]
  },
  {
   "cell_type": "code",
   "execution_count": null,
   "metadata": {},
   "outputs": [],
   "source": [
    "<br>\n",
    "<br>\n",
    "distances"
   ]
  },
  {
   "cell_type": "code",
   "execution_count": 33,
   "metadata": {},
   "outputs": [],
   "source": [
    "def distances(df):\n",
    "    df_p_0 = df[['x_0', 'y_0', 'z_0']].values\n",
    "    df_p_1 = df[['x_1', 'y_1', 'z_1']].values\n",
    "    \n",
    "    df['dist'] = np.linalg.norm(df_p_0 - df_p_1, axis=1)\n",
    "    df['dist_x'] = (df['x_0'] - df['x_1']) ** 2\n",
    "    df['dist_y'] = (df['y_0'] - df['y_1']) ** 2\n",
    "    df['dist_z'] = (df['z_0'] - df['z_1']) ** 2\n",
    "    \n",
    "    return df\n",
    "\n",
    "# train = distances(train)\n",
    "# test  = distances(test)"
   ]
  },
  {
   "cell_type": "code",
   "execution_count": null,
   "metadata": {},
   "outputs": [],
   "source": [
    "<br>\n",
    "<br>\n",
    "統計量"
   ]
  },
  {
   "cell_type": "code",
   "execution_count": 34,
   "metadata": {},
   "outputs": [],
   "source": [
    "def create_features(df):\n",
    "    df['molecule_couples'] = df.groupby('molecule_name')['id'].transform('count')\n",
    "    df['molecule_dist_mean'] = df.groupby('molecule_name')['dist'].transform('mean')\n",
    "    df['molecule_dist_min'] = df.groupby('molecule_name')['dist'].transform('min')\n",
    "    df['molecule_dist_max'] = df.groupby('molecule_name')['dist'].transform('max')\n",
    "    df['atom_0_couples_count'] = df.groupby(['molecule_name', 'atom_index_0'])['id'].transform('count')\n",
    "    df['atom_1_couples_count'] = df.groupby(['molecule_name', 'atom_index_1'])['id'].transform('count')\n",
    "    df[f'molecule_atom_index_0_x_1_std'] = df.groupby(['molecule_name', 'atom_index_0'])['x_1'].transform('std')\n",
    "    df[f'molecule_atom_index_0_y_1_mean'] = df.groupby(['molecule_name', 'atom_index_0'])['y_1'].transform('mean')\n",
    "    df[f'molecule_atom_index_0_y_1_mean_diff'] = df[f'molecule_atom_index_0_y_1_mean'] - df['y_1']\n",
    "    df[f'molecule_atom_index_0_y_1_mean_div'] = df[f'molecule_atom_index_0_y_1_mean'] / df['y_1']\n",
    "    df[f'molecule_atom_index_0_y_1_max'] = df.groupby(['molecule_name', 'atom_index_0'])['y_1'].transform('max')\n",
    "    df[f'molecule_atom_index_0_y_1_max_diff'] = df[f'molecule_atom_index_0_y_1_max'] - df['y_1']\n",
    "    df[f'molecule_atom_index_0_y_1_std'] = df.groupby(['molecule_name', 'atom_index_0'])['y_1'].transform('std')\n",
    "    df[f'molecule_atom_index_0_z_1_std'] = df.groupby(['molecule_name', 'atom_index_0'])['z_1'].transform('std')\n",
    "    df[f'molecule_atom_index_0_dist_mean'] = df.groupby(['molecule_name', 'atom_index_0'])['dist'].transform('mean')\n",
    "    df[f'molecule_atom_index_0_dist_mean_diff'] = df[f'molecule_atom_index_0_dist_mean'] - df['dist']\n",
    "    df[f'molecule_atom_index_0_dist_mean_div'] = df[f'molecule_atom_index_0_dist_mean'] / df['dist']\n",
    "    df[f'molecule_atom_index_0_dist_max'] = df.groupby(['molecule_name', 'atom_index_0'])['dist'].transform('max')\n",
    "    df[f'molecule_atom_index_0_dist_max_diff'] = df[f'molecule_atom_index_0_dist_max'] - df['dist']\n",
    "    df[f'molecule_atom_index_0_dist_max_div'] = df[f'molecule_atom_index_0_dist_max'] / df['dist']\n",
    "    df[f'molecule_atom_index_0_dist_min'] = df.groupby(['molecule_name', 'atom_index_0'])['dist'].transform('min')\n",
    "    df[f'molecule_atom_index_0_dist_min_diff'] = df[f'molecule_atom_index_0_dist_min'] - df['dist']\n",
    "    df[f'molecule_atom_index_0_dist_min_div'] = df[f'molecule_atom_index_0_dist_min'] / df['dist']\n",
    "    df[f'molecule_atom_index_0_dist_std'] = df.groupby(['molecule_name', 'atom_index_0'])['dist'].transform('std')\n",
    "    df[f'molecule_atom_index_0_dist_std_diff'] = df[f'molecule_atom_index_0_dist_std'] - df['dist']\n",
    "    df[f'molecule_atom_index_0_dist_std_div'] = df[f'molecule_atom_index_0_dist_std'] / df['dist']\n",
    "    df[f'molecule_atom_index_1_dist_mean'] = df.groupby(['molecule_name', 'atom_index_1'])['dist'].transform('mean')\n",
    "    df[f'molecule_atom_index_1_dist_mean_diff'] = df[f'molecule_atom_index_1_dist_mean'] - df['dist']\n",
    "    df[f'molecule_atom_index_1_dist_mean_div'] = df[f'molecule_atom_index_1_dist_mean'] / df['dist']\n",
    "    df[f'molecule_atom_index_1_dist_max'] = df.groupby(['molecule_name', 'atom_index_1'])['dist'].transform('max')\n",
    "    df[f'molecule_atom_index_1_dist_max_diff'] = df[f'molecule_atom_index_1_dist_max'] - df['dist']\n",
    "    df[f'molecule_atom_index_1_dist_max_div'] = df[f'molecule_atom_index_1_dist_max'] / df['dist']\n",
    "    df[f'molecule_atom_index_1_dist_min'] = df.groupby(['molecule_name', 'atom_index_1'])['dist'].transform('min')\n",
    "    df[f'molecule_atom_index_1_dist_min_diff'] = df[f'molecule_atom_index_1_dist_min'] - df['dist']\n",
    "    df[f'molecule_atom_index_1_dist_min_div'] = df[f'molecule_atom_index_1_dist_min'] / df['dist']\n",
    "    df[f'molecule_atom_index_1_dist_std'] = df.groupby(['molecule_name', 'atom_index_1'])['dist'].transform('std')\n",
    "    df[f'molecule_atom_index_1_dist_std_diff'] = df[f'molecule_atom_index_1_dist_std'] - df['dist']\n",
    "    df[f'molecule_atom_index_1_dist_std_div'] = df[f'molecule_atom_index_1_dist_std'] / df['dist']\n",
    "    df[f'molecule_atom_1_dist_mean'] = df.groupby(['molecule_name', 'atom_1'])['dist'].transform('mean')\n",
    "    df[f'molecule_atom_1_dist_min'] = df.groupby(['molecule_name', 'atom_1'])['dist'].transform('min')\n",
    "    df[f'molecule_atom_1_dist_min_diff'] = df[f'molecule_atom_1_dist_min'] - df['dist']\n",
    "    df[f'molecule_atom_1_dist_min_div'] = df[f'molecule_atom_1_dist_min'] / df['dist']\n",
    "    df[f'molecule_atom_1_dist_std'] = df.groupby(['molecule_name', 'atom_1'])['dist'].transform('std')\n",
    "    df[f'molecule_atom_1_dist_std_diff'] = df[f'molecule_atom_1_dist_std'] - df['dist']\n",
    "    df[f'molecule_type_0_dist_std'] = df.groupby(['molecule_name', 'type_0'])['dist'].transform('std')\n",
    "    df[f'molecule_type_0_dist_std_diff'] = df[f'molecule_type_0_dist_std'] - df['dist']\n",
    "    df[f'molecule_type_dist_mean'] = df.groupby(['molecule_name', 'type'])['dist'].transform('mean')\n",
    "    df[f'molecule_type_dist_mean_diff'] = df[f'molecule_type_dist_mean'] - df['dist']\n",
    "    df[f'molecule_type_dist_mean_div'] = df[f'molecule_type_dist_mean'] / df['dist']\n",
    "    df[f'molecule_type_dist_max'] = df.groupby(['molecule_name', 'type'])['dist'].transform('max')\n",
    "    df[f'molecule_type_dist_min'] = df.groupby(['molecule_name', 'type'])['dist'].transform('min')\n",
    "    df[f'molecule_type_dist_std'] = df.groupby(['molecule_name', 'type'])['dist'].transform('std')\n",
    "    df[f'molecule_type_dist_std_diff'] = df[f'molecule_type_dist_std'] - df['dist']\n",
    "    # fc\n",
    "    df[f'molecule_type_fc_max'] = df.groupby(['molecule_name', 'type'])['fc'].transform('max')\n",
    "    df[f'molecule_type_fc_min'] = df.groupby(['molecule_name', 'type'])['fc'].transform('min')\n",
    "    df[f'molecule_type_fc_std'] = df.groupby(['molecule_name', 'type'])['fc'].transform('std')\n",
    "    df[f'molecule_type_fc_std_diff'] = df[f'molecule_type_fc_std'] - df['fc']\n",
    "    return df"
   ]
  },
  {
   "cell_type": "code",
   "execution_count": null,
   "metadata": {},
   "outputs": [],
   "source": [
    "angle features"
   ]
  },
  {
   "cell_type": "code",
   "execution_count": 35,
   "metadata": {},
   "outputs": [],
   "source": [
    "def map_atom_info(df_1,df_2, atom_idx):\n",
    "    df = pd.merge(df_1, df_2, how = 'left',\n",
    "                  left_on  = ['molecule_name', f'atom_index_{atom_idx}'],\n",
    "                  right_on = ['molecule_name',  'atom_index'])\n",
    "    df = df.drop('atom_index', axis=1)\n",
    "\n",
    "    return df\n",
    "\n",
    "def create_closest(df):\n",
    "    df_temp=df.loc[:,[\"molecule_name\",\"atom_index_0\",\"atom_index_1\",\"dist\",\"x_0\",\"y_0\",\"z_0\",\"x_1\",\"y_1\",\"z_1\"]].copy()\n",
    "    df_temp_=df_temp.copy()\n",
    "    df_temp_= df_temp_.rename(columns={'atom_index_0': 'atom_index_1',\n",
    "                                       'atom_index_1': 'atom_index_0',\n",
    "                                       'x_0': 'x_1',\n",
    "                                       'y_0': 'y_1',\n",
    "                                       'z_0': 'z_1',\n",
    "                                       'x_1': 'x_0',\n",
    "                                       'y_1': 'y_0',\n",
    "                                       'z_1': 'z_0'})\n",
    "    df_temp=pd.concat(objs=[df_temp,df_temp_],axis=0)\n",
    "\n",
    "    df_temp[\"min_distance\"]=df_temp.groupby(['molecule_name', 'atom_index_0'])['dist'].transform('min')\n",
    "    df_temp= df_temp[df_temp[\"min_distance\"]==df_temp[\"dist\"]]\n",
    "\n",
    "    df_temp=df_temp.drop(['x_0','y_0','z_0','min_distance', 'dist'], axis=1)\n",
    "    df_temp= df_temp.rename(columns={'atom_index_0': 'atom_index',\n",
    "                                     'atom_index_1': 'atom_index_closest',\n",
    "                                     'distance': 'distance_closest',\n",
    "                                     'x_1': 'x_closest',\n",
    "                                     'y_1': 'y_closest',\n",
    "                                     'z_1': 'z_closest'})\n",
    "\n",
    "    for atom_idx in [0,1]:\n",
    "        df = map_atom_info(df,df_temp, atom_idx)\n",
    "        df = df.rename(columns={'atom_index_closest': f'atom_index_closest_{atom_idx}',\n",
    "                                        'distance_closest': f'distance_closest_{atom_idx}',\n",
    "                                        'x_closest': f'x_closest_{atom_idx}',\n",
    "                                        'y_closest': f'y_closest_{atom_idx}',\n",
    "                                        'z_closest': f'z_closest_{atom_idx}'})\n",
    "    return df\n",
    "\n",
    "def add_cos_features(df):\n",
    "    df[\"distance_0\"]=((df['x_0']-df['x_closest_0'])**2+(df['y_0']-df['y_closest_0'])**2+(df['z_0']-df['z_closest_0'])**2)**(1/2)\n",
    "    df[\"distance_1\"]=((df['x_1']-df['x_closest_1'])**2+(df['y_1']-df['y_closest_1'])**2+(df['z_1']-df['z_closest_1'])**2)**(1/2)\n",
    "    df[\"vec_0_x\"]=(df['x_0']-df['x_closest_0'])/df[\"distance_0\"]\n",
    "    df[\"vec_0_y\"]=(df['y_0']-df['y_closest_0'])/df[\"distance_0\"]\n",
    "    df[\"vec_0_z\"]=(df['z_0']-df['z_closest_0'])/df[\"distance_0\"]\n",
    "    df[\"vec_1_x\"]=(df['x_1']-df['x_closest_1'])/df[\"distance_1\"]\n",
    "    df[\"vec_1_y\"]=(df['y_1']-df['y_closest_1'])/df[\"distance_1\"]\n",
    "    df[\"vec_1_z\"]=(df['z_1']-df['z_closest_1'])/df[\"distance_1\"]\n",
    "    df[\"vec_x\"]=(df['x_1']-df['x_0'])/df[\"dist\"]\n",
    "    df[\"vec_y\"]=(df['y_1']-df['y_0'])/df[\"dist\"]\n",
    "    df[\"vec_z\"]=(df['z_1']-df['z_0'])/df[\"dist\"]\n",
    "    df[\"cos_0_1\"]=df[\"vec_0_x\"]*df[\"vec_1_x\"]+df[\"vec_0_y\"]*df[\"vec_1_y\"]+df[\"vec_0_z\"]*df[\"vec_1_z\"]\n",
    "    df[\"cos_0\"]=df[\"vec_0_x\"]*df[\"vec_x\"]+df[\"vec_0_y\"]*df[\"vec_y\"]+df[\"vec_0_z\"]*df[\"vec_z\"]\n",
    "    df[\"cos_1\"]=df[\"vec_1_x\"]*df[\"vec_x\"]+df[\"vec_1_y\"]*df[\"vec_y\"]+df[\"vec_1_z\"]*df[\"vec_z\"]\n",
    "    df=df.drop(['vec_0_x','vec_0_y','vec_0_z','vec_1_x','vec_1_y','vec_1_z','vec_x','vec_y','vec_z'], axis=1)\n",
    "    return df\n",
    "\n"
   ]
  },
  {
   "cell_type": "code",
   "execution_count": 36,
   "metadata": {},
   "outputs": [
    {
     "name": "stdout",
     "output_type": "stream",
     "text": [
      "add fc\n",
      "4658147 2505542\n",
      "type0\n",
      "4658147 2505542\n",
      "distances\n",
      "4658147 2505542\n",
      "create_featueres\n",
      "4658147 2505542\n",
      "create_closest\n",
      "4658147 2505542\n"
     ]
    },
    {
     "name": "stderr",
     "output_type": "stream",
     "text": [
      "/usr/local/lib/python3.6/dist-packages/ipykernel_launcher.py:20: FutureWarning:\n",
      "\n",
      "Sorting because non-concatenation axis is not aligned. A future version\n",
      "of pandas will change to not sort by default.\n",
      "\n",
      "To accept the future behavior, pass 'sort=False'.\n",
      "\n",
      "To retain the current behavior and silence the warning, pass 'sort=True'.\n",
      "\n",
      "\n"
     ]
    },
    {
     "name": "stdout",
     "output_type": "stream",
     "text": [
      "add_cos_features\n",
      "4658154 2505542\n",
      "CPU times: user 2min 18s, sys: 3min 29s, total: 5min 47s\n",
      "Wall time: 5min 47s\n"
     ]
    }
   ],
   "source": [
    "%%time\n",
    "\n",
    "print('add fc')\n",
    "print(len(train), len(test))\n",
    "train['fc'] = fc_train.values\n",
    "test['fc']  = fc_test.values\n",
    "\n",
    "print('type0')\n",
    "print(len(train), len(test))\n",
    "train = create_type0(train)\n",
    "test  = create_type0(test)\n",
    "\n",
    "print('distances')\n",
    "print(len(train), len(test))\n",
    "train = distances(train)\n",
    "test  = distances(test)\n",
    "\n",
    "print('create_featueres')\n",
    "print(len(train), len(test))\n",
    "train = create_features(train)\n",
    "test  = create_features(test)\n",
    "\n",
    "print('create_closest')\n",
    "print(len(train), len(test))\n",
    "train = create_closest(train)\n",
    "test  = create_closest(test)\n",
    "\n",
    "print('add_cos_features')\n",
    "print(len(train), len(test))\n",
    "train = add_cos_features(train)\n",
    "test  = add_cos_features(test)"
   ]
  },
  {
   "cell_type": "markdown",
   "metadata": {},
   "source": [
    "---\n",
    "<br>\n",
    "<br>\n",
    "LabelEncode\n",
    "\n",
    "- `atom_1` = {H, C, N}\n",
    "- `type_0` = {1, 2, 3}\n",
    "- `type`   = {2JHC, ...}"
   ]
  },
  {
   "cell_type": "code",
   "execution_count": 37,
   "metadata": {},
   "outputs": [],
   "source": [
    "for f in ['atom_1', 'type_0', 'type']:\n",
    "    if f in train.columns:\n",
    "        lbl = LabelEncoder()\n",
    "        lbl.fit(list(train[f].values) + list(test[f].values))\n",
    "        train[f] = lbl.transform(list(train[f].values))\n",
    "        test[f] = lbl.transform(list(test[f].values))"
   ]
  },
  {
   "cell_type": "markdown",
   "metadata": {},
   "source": [
    "---\n",
    "**show features**"
   ]
  },
  {
   "cell_type": "code",
   "execution_count": 38,
   "metadata": {},
   "outputs": [
    {
     "data": {
      "text/html": [
       "<div>\n",
       "<style scoped>\n",
       "    .dataframe tbody tr th:only-of-type {\n",
       "        vertical-align: middle;\n",
       "    }\n",
       "\n",
       "    .dataframe tbody tr th {\n",
       "        vertical-align: top;\n",
       "    }\n",
       "\n",
       "    .dataframe thead th {\n",
       "        text-align: right;\n",
       "    }\n",
       "</style>\n",
       "<table border=\"1\" class=\"dataframe\">\n",
       "  <thead>\n",
       "    <tr style=\"text-align: right;\">\n",
       "      <th></th>\n",
       "      <th>id</th>\n",
       "      <th>molecule_name</th>\n",
       "      <th>atom_index_1</th>\n",
       "      <th>atom_index_0</th>\n",
       "      <th>atom_2</th>\n",
       "      <th>atom_3</th>\n",
       "      <th>atom_4</th>\n",
       "      <th>atom_5</th>\n",
       "      <th>atom_6</th>\n",
       "      <th>atom_7</th>\n",
       "      <th>atom_8</th>\n",
       "      <th>atom_9</th>\n",
       "      <th>d_1_0</th>\n",
       "      <th>d_2_0</th>\n",
       "      <th>d_2_1</th>\n",
       "      <th>d_3_0</th>\n",
       "      <th>d_3_1</th>\n",
       "      <th>d_3_2</th>\n",
       "      <th>d_4_0</th>\n",
       "      <th>d_4_1</th>\n",
       "      <th>d_4_2</th>\n",
       "      <th>d_4_3</th>\n",
       "      <th>d_5_0</th>\n",
       "      <th>d_5_1</th>\n",
       "      <th>d_5_2</th>\n",
       "      <th>d_5_3</th>\n",
       "      <th>d_6_0</th>\n",
       "      <th>d_6_1</th>\n",
       "      <th>d_6_2</th>\n",
       "      <th>d_6_3</th>\n",
       "      <th>d_7_0</th>\n",
       "      <th>d_7_1</th>\n",
       "      <th>d_7_2</th>\n",
       "      <th>d_7_3</th>\n",
       "      <th>d_8_0</th>\n",
       "      <th>d_8_1</th>\n",
       "      <th>d_8_2</th>\n",
       "      <th>d_8_3</th>\n",
       "      <th>d_9_0</th>\n",
       "      <th>d_9_1</th>\n",
       "      <th>d_9_2</th>\n",
       "      <th>d_9_3</th>\n",
       "      <th>scalar_coupling_constant</th>\n",
       "      <th>type</th>\n",
       "      <th>dist_interact</th>\n",
       "      <th>eem_0</th>\n",
       "      <th>mmff94_0</th>\n",
       "      <th>gasteiger_0</th>\n",
       "      <th>qeq_0</th>\n",
       "      <th>qtpie_0</th>\n",
       "      <th>eem2015ha_0</th>\n",
       "      <th>eem2015hm_0</th>\n",
       "      <th>eem2015hn_0</th>\n",
       "      <th>eem2015ba_0</th>\n",
       "      <th>eem2015bm_0</th>\n",
       "      <th>eem2015bn_0</th>\n",
       "      <th>atom_0</th>\n",
       "      <th>x_0</th>\n",
       "      <th>y_0</th>\n",
       "      <th>z_0</th>\n",
       "      <th>eem_1</th>\n",
       "      <th>mmff94_1</th>\n",
       "      <th>gasteiger_1</th>\n",
       "      <th>qeq_1</th>\n",
       "      <th>qtpie_1</th>\n",
       "      <th>eem2015ha_1</th>\n",
       "      <th>eem2015hm_1</th>\n",
       "      <th>eem2015hn_1</th>\n",
       "      <th>eem2015ba_1</th>\n",
       "      <th>eem2015bm_1</th>\n",
       "      <th>eem2015bn_1</th>\n",
       "      <th>atom_1</th>\n",
       "      <th>x_1</th>\n",
       "      <th>y_1</th>\n",
       "      <th>z_1</th>\n",
       "      <th>fc</th>\n",
       "      <th>type_0</th>\n",
       "      <th>dist</th>\n",
       "      <th>dist_x</th>\n",
       "      <th>dist_y</th>\n",
       "      <th>dist_z</th>\n",
       "      <th>molecule_couples</th>\n",
       "      <th>molecule_dist_mean</th>\n",
       "      <th>molecule_dist_min</th>\n",
       "      <th>molecule_dist_max</th>\n",
       "      <th>atom_0_couples_count</th>\n",
       "      <th>atom_1_couples_count</th>\n",
       "      <th>molecule_atom_index_0_x_1_std</th>\n",
       "      <th>molecule_atom_index_0_y_1_mean</th>\n",
       "      <th>molecule_atom_index_0_y_1_mean_diff</th>\n",
       "      <th>molecule_atom_index_0_y_1_mean_div</th>\n",
       "      <th>molecule_atom_index_0_y_1_max</th>\n",
       "      <th>molecule_atom_index_0_y_1_max_diff</th>\n",
       "      <th>molecule_atom_index_0_y_1_std</th>\n",
       "      <th>molecule_atom_index_0_z_1_std</th>\n",
       "      <th>molecule_atom_index_0_dist_mean</th>\n",
       "      <th>molecule_atom_index_0_dist_mean_diff</th>\n",
       "      <th>molecule_atom_index_0_dist_mean_div</th>\n",
       "      <th>molecule_atom_index_0_dist_max</th>\n",
       "      <th>molecule_atom_index_0_dist_max_diff</th>\n",
       "      <th>molecule_atom_index_0_dist_max_div</th>\n",
       "      <th>molecule_atom_index_0_dist_min</th>\n",
       "      <th>molecule_atom_index_0_dist_min_diff</th>\n",
       "      <th>molecule_atom_index_0_dist_min_div</th>\n",
       "      <th>molecule_atom_index_0_dist_std</th>\n",
       "      <th>molecule_atom_index_0_dist_std_diff</th>\n",
       "      <th>molecule_atom_index_0_dist_std_div</th>\n",
       "      <th>molecule_atom_index_1_dist_mean</th>\n",
       "      <th>molecule_atom_index_1_dist_mean_diff</th>\n",
       "      <th>molecule_atom_index_1_dist_mean_div</th>\n",
       "      <th>molecule_atom_index_1_dist_max</th>\n",
       "      <th>molecule_atom_index_1_dist_max_diff</th>\n",
       "      <th>molecule_atom_index_1_dist_max_div</th>\n",
       "      <th>molecule_atom_index_1_dist_min</th>\n",
       "      <th>molecule_atom_index_1_dist_min_diff</th>\n",
       "      <th>molecule_atom_index_1_dist_min_div</th>\n",
       "      <th>molecule_atom_index_1_dist_std</th>\n",
       "      <th>molecule_atom_index_1_dist_std_diff</th>\n",
       "      <th>molecule_atom_index_1_dist_std_div</th>\n",
       "      <th>molecule_atom_1_dist_mean</th>\n",
       "      <th>molecule_atom_1_dist_min</th>\n",
       "      <th>molecule_atom_1_dist_min_diff</th>\n",
       "      <th>molecule_atom_1_dist_min_div</th>\n",
       "      <th>molecule_atom_1_dist_std</th>\n",
       "      <th>molecule_atom_1_dist_std_diff</th>\n",
       "      <th>molecule_type_0_dist_std</th>\n",
       "      <th>molecule_type_0_dist_std_diff</th>\n",
       "      <th>molecule_type_dist_mean</th>\n",
       "      <th>molecule_type_dist_mean_diff</th>\n",
       "      <th>molecule_type_dist_mean_div</th>\n",
       "      <th>molecule_type_dist_max</th>\n",
       "      <th>molecule_type_dist_min</th>\n",
       "      <th>molecule_type_dist_std</th>\n",
       "      <th>molecule_type_dist_std_diff</th>\n",
       "      <th>molecule_type_fc_max</th>\n",
       "      <th>molecule_type_fc_min</th>\n",
       "      <th>molecule_type_fc_std</th>\n",
       "      <th>molecule_type_fc_std_diff</th>\n",
       "      <th>atom_index_closest_0</th>\n",
       "      <th>x_closest_0</th>\n",
       "      <th>y_closest_0</th>\n",
       "      <th>z_closest_0</th>\n",
       "      <th>atom_index_closest_1</th>\n",
       "      <th>x_closest_1</th>\n",
       "      <th>y_closest_1</th>\n",
       "      <th>z_closest_1</th>\n",
       "      <th>distance_0</th>\n",
       "      <th>distance_1</th>\n",
       "      <th>cos_0_1</th>\n",
       "      <th>cos_0</th>\n",
       "      <th>cos_1</th>\n",
       "    </tr>\n",
       "  </thead>\n",
       "  <tbody>\n",
       "    <tr>\n",
       "      <th>0</th>\n",
       "      <td>0</td>\n",
       "      <td>dsgdb9nsd_000001</td>\n",
       "      <td>0</td>\n",
       "      <td>1</td>\n",
       "      <td>1</td>\n",
       "      <td>1</td>\n",
       "      <td>1</td>\n",
       "      <td>0</td>\n",
       "      <td>0</td>\n",
       "      <td>0</td>\n",
       "      <td>0</td>\n",
       "      <td>0</td>\n",
       "      <td>1.091953</td>\n",
       "      <td>1.783120</td>\n",
       "      <td>1.091952</td>\n",
       "      <td>1.783147</td>\n",
       "      <td>1.091946</td>\n",
       "      <td>1.783158</td>\n",
       "      <td>1.783157</td>\n",
       "      <td>1.091948</td>\n",
       "      <td>1.783148</td>\n",
       "      <td>1.783148</td>\n",
       "      <td>0.0</td>\n",
       "      <td>0.0</td>\n",
       "      <td>0.0</td>\n",
       "      <td>0.0</td>\n",
       "      <td>0.0</td>\n",
       "      <td>0.0</td>\n",
       "      <td>0.0</td>\n",
       "      <td>0.0</td>\n",
       "      <td>0.0</td>\n",
       "      <td>0.0</td>\n",
       "      <td>0.0</td>\n",
       "      <td>0.0</td>\n",
       "      <td>0.0</td>\n",
       "      <td>0.0</td>\n",
       "      <td>0.0</td>\n",
       "      <td>0.0</td>\n",
       "      <td>0.0</td>\n",
       "      <td>0.0</td>\n",
       "      <td>0.0</td>\n",
       "      <td>0.0</td>\n",
       "      <td>84.8076</td>\n",
       "      <td>0</td>\n",
       "      <td>1.091953</td>\n",
       "      <td>0.161131</td>\n",
       "      <td>0.0</td>\n",
       "      <td>0.019399</td>\n",
       "      <td>-0.812772</td>\n",
       "      <td>0.773439</td>\n",
       "      <td>-0.003651</td>\n",
       "      <td>0.203254</td>\n",
       "      <td>0.196234</td>\n",
       "      <td>0.016837</td>\n",
       "      <td>0.201583</td>\n",
       "      <td>0.212813</td>\n",
       "      <td>H</td>\n",
       "      <td>0.00215</td>\n",
       "      <td>-0.006031</td>\n",
       "      <td>0.001976</td>\n",
       "      <td>-0.644531</td>\n",
       "      <td>0.0</td>\n",
       "      <td>-0.077596</td>\n",
       "      <td>3.251140</td>\n",
       "      <td>-3.093807</td>\n",
       "      <td>0.014606</td>\n",
       "      <td>-0.813021</td>\n",
       "      <td>-0.784944</td>\n",
       "      <td>-0.067349</td>\n",
       "      <td>-0.806339</td>\n",
       "      <td>-0.851258</td>\n",
       "      <td>0</td>\n",
       "      <td>-0.012698</td>\n",
       "      <td>1.085804</td>\n",
       "      <td>0.008001</td>\n",
       "      <td>83.534069</td>\n",
       "      <td>0</td>\n",
       "      <td>1.091953</td>\n",
       "      <td>0.000220</td>\n",
       "      <td>1.192105</td>\n",
       "      <td>0.000036</td>\n",
       "      <td>10</td>\n",
       "      <td>1.506668</td>\n",
       "      <td>1.091946</td>\n",
       "      <td>1.783158</td>\n",
       "      <td>4</td>\n",
       "      <td>4</td>\n",
       "      <td>0.727907</td>\n",
       "      <td>1.358754</td>\n",
       "      <td>0.272949</td>\n",
       "      <td>1.251380</td>\n",
       "      <td>1.463751</td>\n",
       "      <td>0.377947</td>\n",
       "      <td>0.182278</td>\n",
       "      <td>0.727957</td>\n",
       "      <td>1.610344</td>\n",
       "      <td>0.518391</td>\n",
       "      <td>1.474738</td>\n",
       "      <td>1.783157</td>\n",
       "      <td>0.691204</td>\n",
       "      <td>1.632998</td>\n",
       "      <td>1.091953</td>\n",
       "      <td>0.000000</td>\n",
       "      <td>1.000000</td>\n",
       "      <td>0.345594</td>\n",
       "      <td>-0.746359</td>\n",
       "      <td>0.316492</td>\n",
       "      <td>1.09195</td>\n",
       "      <td>-0.000003</td>\n",
       "      <td>0.999997</td>\n",
       "      <td>1.091953</td>\n",
       "      <td>0.0</td>\n",
       "      <td>1.0</td>\n",
       "      <td>1.091946</td>\n",
       "      <td>-0.000007</td>\n",
       "      <td>0.999994</td>\n",
       "      <td>0.000003</td>\n",
       "      <td>-1.09195</td>\n",
       "      <td>0.000003</td>\n",
       "      <td>1.091950</td>\n",
       "      <td>1.091946</td>\n",
       "      <td>-0.000007</td>\n",
       "      <td>0.999994</td>\n",
       "      <td>0.000003</td>\n",
       "      <td>-1.091950</td>\n",
       "      <td>0.000003</td>\n",
       "      <td>-1.091950</td>\n",
       "      <td>1.091950</td>\n",
       "      <td>-0.000003</td>\n",
       "      <td>0.999997</td>\n",
       "      <td>1.091953</td>\n",
       "      <td>1.091946</td>\n",
       "      <td>0.000003</td>\n",
       "      <td>-1.091950</td>\n",
       "      <td>87.113102</td>\n",
       "      <td>83.162207</td>\n",
       "      <td>1.799476</td>\n",
       "      <td>-81.734593</td>\n",
       "      <td>0</td>\n",
       "      <td>-0.012698</td>\n",
       "      <td>1.085804</td>\n",
       "      <td>0.008001</td>\n",
       "      <td>3</td>\n",
       "      <td>-0.540815</td>\n",
       "      <td>1.447527</td>\n",
       "      <td>-0.876644</td>\n",
       "      <td>1.091953</td>\n",
       "      <td>1.091946</td>\n",
       "      <td>0.333335</td>\n",
       "      <td>-1.000000</td>\n",
       "      <td>-0.333335</td>\n",
       "    </tr>\n",
       "    <tr>\n",
       "      <th>1</th>\n",
       "      <td>1</td>\n",
       "      <td>dsgdb9nsd_000001</td>\n",
       "      <td>2</td>\n",
       "      <td>1</td>\n",
       "      <td>6</td>\n",
       "      <td>1</td>\n",
       "      <td>1</td>\n",
       "      <td>0</td>\n",
       "      <td>0</td>\n",
       "      <td>0</td>\n",
       "      <td>0</td>\n",
       "      <td>0</td>\n",
       "      <td>1.783120</td>\n",
       "      <td>1.091953</td>\n",
       "      <td>1.091952</td>\n",
       "      <td>1.783157</td>\n",
       "      <td>1.783148</td>\n",
       "      <td>1.091948</td>\n",
       "      <td>1.783147</td>\n",
       "      <td>1.783158</td>\n",
       "      <td>1.091946</td>\n",
       "      <td>1.783148</td>\n",
       "      <td>0.0</td>\n",
       "      <td>0.0</td>\n",
       "      <td>0.0</td>\n",
       "      <td>0.0</td>\n",
       "      <td>0.0</td>\n",
       "      <td>0.0</td>\n",
       "      <td>0.0</td>\n",
       "      <td>0.0</td>\n",
       "      <td>0.0</td>\n",
       "      <td>0.0</td>\n",
       "      <td>0.0</td>\n",
       "      <td>0.0</td>\n",
       "      <td>0.0</td>\n",
       "      <td>0.0</td>\n",
       "      <td>0.0</td>\n",
       "      <td>0.0</td>\n",
       "      <td>0.0</td>\n",
       "      <td>0.0</td>\n",
       "      <td>0.0</td>\n",
       "      <td>0.0</td>\n",
       "      <td>-11.2570</td>\n",
       "      <td>3</td>\n",
       "      <td>2.183905</td>\n",
       "      <td>0.161131</td>\n",
       "      <td>0.0</td>\n",
       "      <td>0.019399</td>\n",
       "      <td>-0.812772</td>\n",
       "      <td>0.773439</td>\n",
       "      <td>-0.003651</td>\n",
       "      <td>0.203254</td>\n",
       "      <td>0.196234</td>\n",
       "      <td>0.016837</td>\n",
       "      <td>0.201583</td>\n",
       "      <td>0.212813</td>\n",
       "      <td>H</td>\n",
       "      <td>0.00215</td>\n",
       "      <td>-0.006031</td>\n",
       "      <td>0.001976</td>\n",
       "      <td>0.161132</td>\n",
       "      <td>0.0</td>\n",
       "      <td>0.019399</td>\n",
       "      <td>-0.812776</td>\n",
       "      <td>0.773442</td>\n",
       "      <td>-0.003651</td>\n",
       "      <td>0.203254</td>\n",
       "      <td>0.196235</td>\n",
       "      <td>0.016837</td>\n",
       "      <td>0.201584</td>\n",
       "      <td>0.212813</td>\n",
       "      <td>1</td>\n",
       "      <td>1.011731</td>\n",
       "      <td>1.463751</td>\n",
       "      <td>0.000277</td>\n",
       "      <td>-11.692044</td>\n",
       "      <td>1</td>\n",
       "      <td>1.783120</td>\n",
       "      <td>1.019253</td>\n",
       "      <td>2.160261</td>\n",
       "      <td>0.000003</td>\n",
       "      <td>10</td>\n",
       "      <td>1.506668</td>\n",
       "      <td>1.091946</td>\n",
       "      <td>1.783158</td>\n",
       "      <td>4</td>\n",
       "      <td>1</td>\n",
       "      <td>0.727907</td>\n",
       "      <td>1.358754</td>\n",
       "      <td>-0.104998</td>\n",
       "      <td>0.928268</td>\n",
       "      <td>1.463751</td>\n",
       "      <td>0.000000</td>\n",
       "      <td>0.182278</td>\n",
       "      <td>0.727957</td>\n",
       "      <td>1.610344</td>\n",
       "      <td>-0.172776</td>\n",
       "      <td>0.903105</td>\n",
       "      <td>1.783157</td>\n",
       "      <td>0.000037</td>\n",
       "      <td>1.000021</td>\n",
       "      <td>1.091953</td>\n",
       "      <td>-0.691167</td>\n",
       "      <td>0.612383</td>\n",
       "      <td>0.345594</td>\n",
       "      <td>-1.437526</td>\n",
       "      <td>0.193814</td>\n",
       "      <td>1.78312</td>\n",
       "      <td>0.000000</td>\n",
       "      <td>1.000000</td>\n",
       "      <td>1.783120</td>\n",
       "      <td>0.0</td>\n",
       "      <td>1.0</td>\n",
       "      <td>1.783120</td>\n",
       "      <td>0.000000</td>\n",
       "      <td>1.000000</td>\n",
       "      <td>NaN</td>\n",
       "      <td>NaN</td>\n",
       "      <td>NaN</td>\n",
       "      <td>1.783146</td>\n",
       "      <td>1.783120</td>\n",
       "      <td>0.000000</td>\n",
       "      <td>1.000000</td>\n",
       "      <td>0.000014</td>\n",
       "      <td>-1.783106</td>\n",
       "      <td>0.000014</td>\n",
       "      <td>-1.783106</td>\n",
       "      <td>1.783146</td>\n",
       "      <td>0.000027</td>\n",
       "      <td>1.000015</td>\n",
       "      <td>1.783158</td>\n",
       "      <td>1.783120</td>\n",
       "      <td>0.000014</td>\n",
       "      <td>-1.783106</td>\n",
       "      <td>-10.558171</td>\n",
       "      <td>-11.692044</td>\n",
       "      <td>0.452166</td>\n",
       "      <td>12.144210</td>\n",
       "      <td>0</td>\n",
       "      <td>-0.012698</td>\n",
       "      <td>1.085804</td>\n",
       "      <td>0.008001</td>\n",
       "      <td>0</td>\n",
       "      <td>-0.012698</td>\n",
       "      <td>1.085804</td>\n",
       "      <td>0.008001</td>\n",
       "      <td>1.091953</td>\n",
       "      <td>1.091952</td>\n",
       "      <td>-0.333287</td>\n",
       "      <td>-0.816483</td>\n",
       "      <td>0.816482</td>\n",
       "    </tr>\n",
       "  </tbody>\n",
       "</table>\n",
       "</div>"
      ],
      "text/plain": [
       "   id     molecule_name  atom_index_1  atom_index_0  atom_2  atom_3  atom_4  \\\n",
       "0   0  dsgdb9nsd_000001             0             1       1       1       1   \n",
       "1   1  dsgdb9nsd_000001             2             1       6       1       1   \n",
       "\n",
       "   atom_5  atom_6  atom_7  atom_8  atom_9     d_1_0     d_2_0     d_2_1  \\\n",
       "0       0       0       0       0       0  1.091953  1.783120  1.091952   \n",
       "1       0       0       0       0       0  1.783120  1.091953  1.091952   \n",
       "\n",
       "      d_3_0     d_3_1     d_3_2     d_4_0     d_4_1     d_4_2     d_4_3  \\\n",
       "0  1.783147  1.091946  1.783158  1.783157  1.091948  1.783148  1.783148   \n",
       "1  1.783157  1.783148  1.091948  1.783147  1.783158  1.091946  1.783148   \n",
       "\n",
       "   d_5_0  d_5_1  d_5_2  d_5_3  d_6_0  d_6_1  d_6_2  d_6_3  d_7_0  d_7_1  \\\n",
       "0    0.0    0.0    0.0    0.0    0.0    0.0    0.0    0.0    0.0    0.0   \n",
       "1    0.0    0.0    0.0    0.0    0.0    0.0    0.0    0.0    0.0    0.0   \n",
       "\n",
       "   d_7_2  d_7_3  d_8_0  d_8_1  d_8_2  d_8_3  d_9_0  d_9_1  d_9_2  d_9_3  \\\n",
       "0    0.0    0.0    0.0    0.0    0.0    0.0    0.0    0.0    0.0    0.0   \n",
       "1    0.0    0.0    0.0    0.0    0.0    0.0    0.0    0.0    0.0    0.0   \n",
       "\n",
       "   scalar_coupling_constant  type  dist_interact     eem_0  mmff94_0  \\\n",
       "0                   84.8076     0       1.091953  0.161131       0.0   \n",
       "1                  -11.2570     3       2.183905  0.161131       0.0   \n",
       "\n",
       "   gasteiger_0     qeq_0   qtpie_0  eem2015ha_0  eem2015hm_0  eem2015hn_0  \\\n",
       "0     0.019399 -0.812772  0.773439    -0.003651     0.203254     0.196234   \n",
       "1     0.019399 -0.812772  0.773439    -0.003651     0.203254     0.196234   \n",
       "\n",
       "   eem2015ba_0  eem2015bm_0  eem2015bn_0 atom_0      x_0       y_0       z_0  \\\n",
       "0     0.016837     0.201583     0.212813      H  0.00215 -0.006031  0.001976   \n",
       "1     0.016837     0.201583     0.212813      H  0.00215 -0.006031  0.001976   \n",
       "\n",
       "      eem_1  mmff94_1  gasteiger_1     qeq_1   qtpie_1  eem2015ha_1  \\\n",
       "0 -0.644531       0.0    -0.077596  3.251140 -3.093807     0.014606   \n",
       "1  0.161132       0.0     0.019399 -0.812776  0.773442    -0.003651   \n",
       "\n",
       "   eem2015hm_1  eem2015hn_1  eem2015ba_1  eem2015bm_1  eem2015bn_1  atom_1  \\\n",
       "0    -0.813021    -0.784944    -0.067349    -0.806339    -0.851258       0   \n",
       "1     0.203254     0.196235     0.016837     0.201584     0.212813       1   \n",
       "\n",
       "        x_1       y_1       z_1         fc  type_0      dist    dist_x  \\\n",
       "0 -0.012698  1.085804  0.008001  83.534069       0  1.091953  0.000220   \n",
       "1  1.011731  1.463751  0.000277 -11.692044       1  1.783120  1.019253   \n",
       "\n",
       "     dist_y    dist_z  molecule_couples  molecule_dist_mean  \\\n",
       "0  1.192105  0.000036                10            1.506668   \n",
       "1  2.160261  0.000003                10            1.506668   \n",
       "\n",
       "   molecule_dist_min  molecule_dist_max  atom_0_couples_count  \\\n",
       "0           1.091946           1.783158                     4   \n",
       "1           1.091946           1.783158                     4   \n",
       "\n",
       "   atom_1_couples_count  molecule_atom_index_0_x_1_std  \\\n",
       "0                     4                       0.727907   \n",
       "1                     1                       0.727907   \n",
       "\n",
       "   molecule_atom_index_0_y_1_mean  molecule_atom_index_0_y_1_mean_diff  \\\n",
       "0                        1.358754                             0.272949   \n",
       "1                        1.358754                            -0.104998   \n",
       "\n",
       "   molecule_atom_index_0_y_1_mean_div  molecule_atom_index_0_y_1_max  \\\n",
       "0                            1.251380                       1.463751   \n",
       "1                            0.928268                       1.463751   \n",
       "\n",
       "   molecule_atom_index_0_y_1_max_diff  molecule_atom_index_0_y_1_std  \\\n",
       "0                            0.377947                       0.182278   \n",
       "1                            0.000000                       0.182278   \n",
       "\n",
       "   molecule_atom_index_0_z_1_std  molecule_atom_index_0_dist_mean  \\\n",
       "0                       0.727957                         1.610344   \n",
       "1                       0.727957                         1.610344   \n",
       "\n",
       "   molecule_atom_index_0_dist_mean_diff  molecule_atom_index_0_dist_mean_div  \\\n",
       "0                              0.518391                             1.474738   \n",
       "1                             -0.172776                             0.903105   \n",
       "\n",
       "   molecule_atom_index_0_dist_max  molecule_atom_index_0_dist_max_diff  \\\n",
       "0                        1.783157                             0.691204   \n",
       "1                        1.783157                             0.000037   \n",
       "\n",
       "   molecule_atom_index_0_dist_max_div  molecule_atom_index_0_dist_min  \\\n",
       "0                            1.632998                        1.091953   \n",
       "1                            1.000021                        1.091953   \n",
       "\n",
       "   molecule_atom_index_0_dist_min_diff  molecule_atom_index_0_dist_min_div  \\\n",
       "0                             0.000000                            1.000000   \n",
       "1                            -0.691167                            0.612383   \n",
       "\n",
       "   molecule_atom_index_0_dist_std  molecule_atom_index_0_dist_std_diff  \\\n",
       "0                        0.345594                            -0.746359   \n",
       "1                        0.345594                            -1.437526   \n",
       "\n",
       "   molecule_atom_index_0_dist_std_div  molecule_atom_index_1_dist_mean  \\\n",
       "0                            0.316492                          1.09195   \n",
       "1                            0.193814                          1.78312   \n",
       "\n",
       "   molecule_atom_index_1_dist_mean_diff  molecule_atom_index_1_dist_mean_div  \\\n",
       "0                             -0.000003                             0.999997   \n",
       "1                              0.000000                             1.000000   \n",
       "\n",
       "   molecule_atom_index_1_dist_max  molecule_atom_index_1_dist_max_diff  \\\n",
       "0                        1.091953                                  0.0   \n",
       "1                        1.783120                                  0.0   \n",
       "\n",
       "   molecule_atom_index_1_dist_max_div  molecule_atom_index_1_dist_min  \\\n",
       "0                                 1.0                        1.091946   \n",
       "1                                 1.0                        1.783120   \n",
       "\n",
       "   molecule_atom_index_1_dist_min_diff  molecule_atom_index_1_dist_min_div  \\\n",
       "0                            -0.000007                            0.999994   \n",
       "1                             0.000000                            1.000000   \n",
       "\n",
       "   molecule_atom_index_1_dist_std  molecule_atom_index_1_dist_std_diff  \\\n",
       "0                        0.000003                             -1.09195   \n",
       "1                             NaN                                  NaN   \n",
       "\n",
       "   molecule_atom_index_1_dist_std_div  molecule_atom_1_dist_mean  \\\n",
       "0                            0.000003                   1.091950   \n",
       "1                                 NaN                   1.783146   \n",
       "\n",
       "   molecule_atom_1_dist_min  molecule_atom_1_dist_min_diff  \\\n",
       "0                  1.091946                      -0.000007   \n",
       "1                  1.783120                       0.000000   \n",
       "\n",
       "   molecule_atom_1_dist_min_div  molecule_atom_1_dist_std  \\\n",
       "0                      0.999994                  0.000003   \n",
       "1                      1.000000                  0.000014   \n",
       "\n",
       "   molecule_atom_1_dist_std_diff  molecule_type_0_dist_std  \\\n",
       "0                      -1.091950                  0.000003   \n",
       "1                      -1.783106                  0.000014   \n",
       "\n",
       "   molecule_type_0_dist_std_diff  molecule_type_dist_mean  \\\n",
       "0                      -1.091950                 1.091950   \n",
       "1                      -1.783106                 1.783146   \n",
       "\n",
       "   molecule_type_dist_mean_diff  molecule_type_dist_mean_div  \\\n",
       "0                     -0.000003                     0.999997   \n",
       "1                      0.000027                     1.000015   \n",
       "\n",
       "   molecule_type_dist_max  molecule_type_dist_min  molecule_type_dist_std  \\\n",
       "0                1.091953                1.091946                0.000003   \n",
       "1                1.783158                1.783120                0.000014   \n",
       "\n",
       "   molecule_type_dist_std_diff  molecule_type_fc_max  molecule_type_fc_min  \\\n",
       "0                    -1.091950             87.113102             83.162207   \n",
       "1                    -1.783106            -10.558171            -11.692044   \n",
       "\n",
       "   molecule_type_fc_std  molecule_type_fc_std_diff  atom_index_closest_0  \\\n",
       "0              1.799476                 -81.734593                     0   \n",
       "1              0.452166                  12.144210                     0   \n",
       "\n",
       "   x_closest_0  y_closest_0  z_closest_0  atom_index_closest_1  x_closest_1  \\\n",
       "0    -0.012698     1.085804     0.008001                     3    -0.540815   \n",
       "1    -0.012698     1.085804     0.008001                     0    -0.012698   \n",
       "\n",
       "   y_closest_1  z_closest_1  distance_0  distance_1   cos_0_1     cos_0  \\\n",
       "0     1.447527    -0.876644    1.091953    1.091946  0.333335 -1.000000   \n",
       "1     1.085804     0.008001    1.091953    1.091952 -0.333287 -0.816483   \n",
       "\n",
       "      cos_1  \n",
       "0 -0.333335  \n",
       "1  0.816482  "
      ]
     },
     "execution_count": 38,
     "metadata": {},
     "output_type": "execute_result"
    }
   ],
   "source": [
    "train.head(2)"
   ]
  },
  {
   "cell_type": "code",
   "execution_count": 39,
   "metadata": {},
   "outputs": [
    {
     "name": "stdout",
     "output_type": "stream",
     "text": [
      "Index(['id', 'molecule_name', 'atom_index_1', 'atom_index_0', 'atom_2',\n",
      "       'atom_3', 'atom_4', 'atom_5', 'atom_6', 'atom_7',\n",
      "       ...\n",
      "       'z_closest_0', 'atom_index_closest_1', 'x_closest_1', 'y_closest_1',\n",
      "       'z_closest_1', 'distance_0', 'distance_1', 'cos_0_1', 'cos_0', 'cos_1'],\n",
      "      dtype='object', length=151)\n"
     ]
    }
   ],
   "source": [
    "print(train.columns)"
   ]
  },
  {
   "cell_type": "markdown",
   "metadata": {},
   "source": [
    "# create train, test data"
   ]
  },
  {
   "cell_type": "code",
   "execution_count": 40,
   "metadata": {},
   "outputs": [
    {
     "name": "stdout",
     "output_type": "stream",
     "text": [
      "Mem. usage decreased to 4704.46 Mb (6.1% reduction)\n",
      "Mem. usage decreased to 2530.45 Mb (6.1% reduction)\n"
     ]
    }
   ],
   "source": [
    "y = train['scalar_coupling_constant']\n",
    "train = train.drop(['id', 'molecule_name', 'atom_0', 'scalar_coupling_constant'], axis=1)\n",
    "test  =  test.drop(['id', 'molecule_name', 'atom_0'], axis=1)\n",
    "train = reduce_mem_usage(train)\n",
    "test  = reduce_mem_usage(test)\n",
    "\n",
    "X = train.copy()\n",
    "X_test = test.copy()\n",
    "\n",
    "assert len(X.columns) == len(X_test.columns), f'X と X_test のサイズが違います X: {len(X.columns)}, X_test: {len(X_test.columns)}'"
   ]
  },
  {
   "cell_type": "code",
   "execution_count": 41,
   "metadata": {},
   "outputs": [],
   "source": [
    "del train, test, full_train, full_test"
   ]
  },
  {
   "cell_type": "code",
   "execution_count": 42,
   "metadata": {},
   "outputs": [
    {
     "data": {
      "text/plain": [
       "105"
      ]
     },
     "execution_count": 42,
     "metadata": {},
     "output_type": "execute_result"
    }
   ],
   "source": [
    "gc.collect()"
   ]
  },
  {
   "cell_type": "markdown",
   "metadata": {},
   "source": [
    "# Training model"
   ]
  },
  {
   "cell_type": "markdown",
   "metadata": {},
   "source": [
    "**params**"
   ]
  },
  {
   "cell_type": "code",
   "execution_count": 57,
   "metadata": {},
   "outputs": [],
   "source": [
    "# Configuration\n",
    "TARGET = 'scalar_coupling_constant'\n",
    "CAT_FEATS = ['type']\n",
    "N_ESTIMATORS = 6000\n",
    "VERBOSE = 600\n",
    "EARLY_STOPPING_ROUNDS = 200\n",
    "RANDOM_STATE = 529\n",
    "METRIC = mean_absolute_error\n",
    "N_JOBS = multiprocessing.cpu_count() -4\n",
    "\n",
    "# lightgbm params\n",
    "lgb_params = {'num_leaves': 128,\n",
    "          'min_child_samples': 79,\n",
    "          'objective': 'regression',\n",
    "          'max_depth': 9,\n",
    "          'learning_rate': 0.2,\n",
    "          \"boosting_type\": \"gbdt\",\n",
    "          \"subsample_freq\": 1,\n",
    "          \"subsample\": 0.9,\n",
    "          \"bagging_seed\": 11,\n",
    "          \"metric\": 'mae',\n",
    "          \"verbosity\": -1,\n",
    "          'reg_alpha': 0.1,\n",
    "          'reg_lambda': 0.3,\n",
    "          'colsample_bytree': 1.0\n",
    "         }\n"
   ]
  },
  {
   "cell_type": "code",
   "execution_count": 58,
   "metadata": {},
   "outputs": [],
   "source": [
    "# init\n",
    "\n",
    "def train_lgb(X, X_test, y, lgb_params, folds,\n",
    "              verbose, early_stopping_rounds, n_estimators, categorical_feature=None):\n",
    "\n",
    "    result_dict = {}\n",
    "    oof = np.zeros(len(X))\n",
    "    prediction = np.zeros(len(X_test))\n",
    "    scores = []\n",
    "    models = []\n",
    "    feature_importance = pd.DataFrame()\n",
    "    for fold_n, (train_idx, valid_idx) in enumerate(folds.split(X)):\n",
    "        print('------------------')\n",
    "        print(f'- fold{fold_n + 1}' )\n",
    "        print(f'Fold {fold_n + 1} started at {time.ctime()}')\n",
    "        X_train, X_valid = X.iloc[train_idx], X.iloc[valid_idx]\n",
    "        y_train, y_valid = y[train_idx], y[valid_idx]\n",
    "#         from IPython.core.debugger import Pdb; Pdb().set_trace()\n",
    "        \n",
    "\n",
    "        # Train the model\n",
    "        model = lgb.LGBMRegressor(**lgb_params, n_estimators=n_estimators, n_jobs=N_JOBS)\n",
    "        model.fit(X_train, y_train,\n",
    "                  eval_set=[(X_train, y_train), (X_valid, y_valid)],\n",
    "                  verbose=verbose,\n",
    "                  early_stopping_rounds=early_stopping_rounds,\n",
    "                  categorical_feature=CAT_FEATS)\n",
    "\n",
    "        # predict\n",
    "        y_valid_pred = model.predict(X_valid, num_iteration=model.best_iteration_)   \n",
    "        y_test_pred = model.predict(X_test)\n",
    "\n",
    "        oof[valid_idx] = y_valid_pred.reshape(-1,)  # oof: out of folds\n",
    "        scores.append(mean_absolute_error(y_valid, y_valid_pred))\n",
    "\n",
    "        prediction += y_test_pred\n",
    "\n",
    "        # feature_importance\n",
    "        fold_importance = pd.DataFrame()\n",
    "        fold_importance['feature'] = X.columns\n",
    "        fold_importance['importance'] = model.feature_importances_\n",
    "        fold_importance['fold'] = fold_n + 1\n",
    "        feature_importance = pd.concat([feature_importance, fold_importance], axis=0)\n",
    "\n",
    "    # result\n",
    "    prediction /= folds.n_splits\n",
    "    feature_importance[\"importance\"] /= folds.n_splits\n",
    "    result_dict['oof'] = oof\n",
    "    result_dict['prediction'] = prediction\n",
    "    result_dict['scores'] = scores\n",
    "    result_dict['feature_importance'] = feature_importance\n",
    "\n",
    "\n",
    "    print('------------------')\n",
    "    print('====== finish ======')\n",
    "    print('score list:', scores)\n",
    "    X['scalar_coupling_constant'] = y\n",
    "    cv_score = kaggle_metric(X, oof)\n",
    "#     X = X.drop(['scalar_coupling_constant', 'prediction'], axis=1)\n",
    "    print('CV mean score(group log mae): {0:.4f}'.format(cv_score))\n",
    "\n",
    "    \n",
    "    return result_dict, cv_score"
   ]
  },
  {
   "cell_type": "code",
   "execution_count": 59,
   "metadata": {},
   "outputs": [],
   "source": [
    "n_folds = 4\n",
    "folds = KFold(n_splits=n_folds, shuffle=True)"
   ]
  },
  {
   "cell_type": "code",
   "execution_count": 60,
   "metadata": {},
   "outputs": [
    {
     "name": "stdout",
     "output_type": "stream",
     "text": [
      "Training of type 0\n",
      "------------------\n",
      "- fold1\n",
      "Fold 1 started at Thu Aug 15 09:38:00 2019\n"
     ]
    },
    {
     "name": "stderr",
     "output_type": "stream",
     "text": [
      "/usr/local/lib/python3.6/dist-packages/lightgbm/basic.py:1209: UserWarning:\n",
      "\n",
      "categorical_feature in Dataset is overridden.\n",
      "New categorical_feature is ['type']\n",
      "\n"
     ]
    },
    {
     "name": "stdout",
     "output_type": "stream",
     "text": [
      "Training until validation scores don't improve for 200 rounds.\n",
      "[600]\ttraining's l1: 0.593515\tvalid_1's l1: 0.803304\n",
      "[1200]\ttraining's l1: 0.42554\tvalid_1's l1: 0.736472\n",
      "[1800]\ttraining's l1: 0.326807\tvalid_1's l1: 0.708658\n",
      "[2400]\ttraining's l1: 0.258653\tvalid_1's l1: 0.69327\n",
      "[3000]\ttraining's l1: 0.209135\tvalid_1's l1: 0.684704\n",
      "[3600]\ttraining's l1: 0.170855\tvalid_1's l1: 0.67902\n",
      "[4200]\ttraining's l1: 0.140944\tvalid_1's l1: 0.675257\n",
      "[4800]\ttraining's l1: 0.117102\tvalid_1's l1: 0.672635\n",
      "[5400]\ttraining's l1: 0.0976954\tvalid_1's l1: 0.670639\n",
      "[6000]\ttraining's l1: 0.0818729\tvalid_1's l1: 0.66916\n",
      "Did not meet early stopping. Best iteration is:\n",
      "[6000]\ttraining's l1: 0.0818729\tvalid_1's l1: 0.66916\n",
      "------------------\n",
      "- fold2\n",
      "Fold 2 started at Thu Aug 15 09:43:44 2019\n"
     ]
    },
    {
     "name": "stderr",
     "output_type": "stream",
     "text": [
      "/usr/local/lib/python3.6/dist-packages/lightgbm/basic.py:1209: UserWarning:\n",
      "\n",
      "categorical_feature in Dataset is overridden.\n",
      "New categorical_feature is ['type']\n",
      "\n"
     ]
    },
    {
     "name": "stdout",
     "output_type": "stream",
     "text": [
      "Training until validation scores don't improve for 200 rounds.\n",
      "[600]\ttraining's l1: 0.592311\tvalid_1's l1: 0.798483\n",
      "[1200]\ttraining's l1: 0.423711\tvalid_1's l1: 0.731955\n",
      "[1800]\ttraining's l1: 0.325365\tvalid_1's l1: 0.704683\n",
      "[2400]\ttraining's l1: 0.257947\tvalid_1's l1: 0.689824\n",
      "[3000]\ttraining's l1: 0.208433\tvalid_1's l1: 0.6811\n",
      "[3600]\ttraining's l1: 0.170177\tvalid_1's l1: 0.675418\n",
      "[4200]\ttraining's l1: 0.14031\tvalid_1's l1: 0.67173\n",
      "[4800]\ttraining's l1: 0.116594\tvalid_1's l1: 0.668993\n",
      "[5400]\ttraining's l1: 0.0974122\tvalid_1's l1: 0.666903\n",
      "[6000]\ttraining's l1: 0.0817664\tvalid_1's l1: 0.665435\n",
      "Did not meet early stopping. Best iteration is:\n",
      "[6000]\ttraining's l1: 0.0817664\tvalid_1's l1: 0.665435\n",
      "------------------\n",
      "- fold3\n",
      "Fold 3 started at Thu Aug 15 09:49:15 2019\n"
     ]
    },
    {
     "name": "stderr",
     "output_type": "stream",
     "text": [
      "/usr/local/lib/python3.6/dist-packages/lightgbm/basic.py:1209: UserWarning:\n",
      "\n",
      "categorical_feature in Dataset is overridden.\n",
      "New categorical_feature is ['type']\n",
      "\n"
     ]
    },
    {
     "name": "stdout",
     "output_type": "stream",
     "text": [
      "Training until validation scores don't improve for 200 rounds.\n",
      "[600]\ttraining's l1: 0.595077\tvalid_1's l1: 0.803439\n",
      "[1200]\ttraining's l1: 0.424708\tvalid_1's l1: 0.734972\n",
      "[1800]\ttraining's l1: 0.326562\tvalid_1's l1: 0.707166\n",
      "[2400]\ttraining's l1: 0.258576\tvalid_1's l1: 0.692669\n",
      "[3000]\ttraining's l1: 0.20851\tvalid_1's l1: 0.683999\n",
      "[3600]\ttraining's l1: 0.170576\tvalid_1's l1: 0.678499\n",
      "[4200]\ttraining's l1: 0.140634\tvalid_1's l1: 0.67448\n",
      "[4800]\ttraining's l1: 0.116901\tvalid_1's l1: 0.67175\n",
      "[5400]\ttraining's l1: 0.0976149\tvalid_1's l1: 0.669899\n",
      "[6000]\ttraining's l1: 0.0818639\tvalid_1's l1: 0.668451\n",
      "Did not meet early stopping. Best iteration is:\n",
      "[6000]\ttraining's l1: 0.0818639\tvalid_1's l1: 0.668451\n",
      "------------------\n",
      "- fold4\n",
      "Fold 4 started at Thu Aug 15 09:53:55 2019\n"
     ]
    },
    {
     "name": "stderr",
     "output_type": "stream",
     "text": [
      "/usr/local/lib/python3.6/dist-packages/lightgbm/basic.py:1209: UserWarning:\n",
      "\n",
      "categorical_feature in Dataset is overridden.\n",
      "New categorical_feature is ['type']\n",
      "\n"
     ]
    },
    {
     "name": "stdout",
     "output_type": "stream",
     "text": [
      "Training until validation scores don't improve for 200 rounds.\n",
      "[600]\ttraining's l1: 0.592513\tvalid_1's l1: 0.80611\n",
      "[1200]\ttraining's l1: 0.424068\tvalid_1's l1: 0.739441\n",
      "[1800]\ttraining's l1: 0.325935\tvalid_1's l1: 0.711962\n",
      "[2400]\ttraining's l1: 0.258477\tvalid_1's l1: 0.697351\n",
      "[3000]\ttraining's l1: 0.208794\tvalid_1's l1: 0.688279\n",
      "[3600]\ttraining's l1: 0.170877\tvalid_1's l1: 0.682519\n",
      "[4200]\ttraining's l1: 0.140835\tvalid_1's l1: 0.678406\n",
      "[4800]\ttraining's l1: 0.117034\tvalid_1's l1: 0.675643\n",
      "[5400]\ttraining's l1: 0.0976378\tvalid_1's l1: 0.67356\n",
      "[6000]\ttraining's l1: 0.0820215\tvalid_1's l1: 0.672045\n",
      "Did not meet early stopping. Best iteration is:\n",
      "[6000]\ttraining's l1: 0.0820215\tvalid_1's l1: 0.672045\n",
      "------------------\n",
      "====== finish ======\n",
      "score list: [0.669160339585702, 0.6654351956465338, 0.6684505133894415, 0.6720454142864929]\n"
     ]
    },
    {
     "name": "stderr",
     "output_type": "stream",
     "text": [
      "/usr/local/lib/python3.6/dist-packages/ipykernel_launcher.py:57: SettingWithCopyWarning:\n",
      "\n",
      "\n",
      "A value is trying to be set on a copy of a slice from a DataFrame.\n",
      "Try using .loc[row_indexer,col_indexer] = value instead\n",
      "\n",
      "See the caveats in the documentation: http://pandas.pydata.org/pandas-docs/stable/user_guide/indexing.html#returning-a-view-versus-a-copy\n",
      "\n",
      "/usr/local/lib/python3.6/dist-packages/ipykernel_launcher.py:2: SettingWithCopyWarning:\n",
      "\n",
      "\n",
      "A value is trying to be set on a copy of a slice from a DataFrame.\n",
      "Try using .loc[row_indexer,col_indexer] = value instead\n",
      "\n",
      "See the caveats in the documentation: http://pandas.pydata.org/pandas-docs/stable/user_guide/indexing.html#returning-a-view-versus-a-copy\n",
      "\n"
     ]
    },
    {
     "name": "stdout",
     "output_type": "stream",
     "text": [
      "CV mean score(group log mae): -0.4023\n",
      "Training of type 3\n",
      "------------------\n",
      "- fold1\n",
      "Fold 1 started at Thu Aug 15 09:59:09 2019\n"
     ]
    },
    {
     "name": "stderr",
     "output_type": "stream",
     "text": [
      "/usr/local/lib/python3.6/dist-packages/lightgbm/basic.py:1209: UserWarning:\n",
      "\n",
      "categorical_feature in Dataset is overridden.\n",
      "New categorical_feature is ['type']\n",
      "\n"
     ]
    },
    {
     "name": "stdout",
     "output_type": "stream",
     "text": [
      "Training until validation scores don't improve for 200 rounds.\n",
      "[600]\ttraining's l1: 0.0974082\tvalid_1's l1: 0.172628\n",
      "[1200]\ttraining's l1: 0.0596524\tvalid_1's l1: 0.160479\n",
      "[1800]\ttraining's l1: 0.0402558\tvalid_1's l1: 0.1567\n",
      "[2400]\ttraining's l1: 0.0282963\tvalid_1's l1: 0.154995\n",
      "[3000]\ttraining's l1: 0.020366\tvalid_1's l1: 0.154144\n",
      "[3600]\ttraining's l1: 0.0149008\tvalid_1's l1: 0.15367\n",
      "[4200]\ttraining's l1: 0.0110938\tvalid_1's l1: 0.153374\n",
      "[4800]\ttraining's l1: 0.00841037\tvalid_1's l1: 0.153186\n",
      "[5400]\ttraining's l1: 0.0065032\tvalid_1's l1: 0.153076\n",
      "[6000]\ttraining's l1: 0.00510621\tvalid_1's l1: 0.152999\n",
      "Did not meet early stopping. Best iteration is:\n",
      "[6000]\ttraining's l1: 0.00510621\tvalid_1's l1: 0.152999\n",
      "------------------\n",
      "- fold2\n",
      "Fold 2 started at Thu Aug 15 10:03:59 2019\n"
     ]
    },
    {
     "name": "stderr",
     "output_type": "stream",
     "text": [
      "/usr/local/lib/python3.6/dist-packages/lightgbm/basic.py:1209: UserWarning:\n",
      "\n",
      "categorical_feature in Dataset is overridden.\n",
      "New categorical_feature is ['type']\n",
      "\n"
     ]
    },
    {
     "name": "stdout",
     "output_type": "stream",
     "text": [
      "Training until validation scores don't improve for 200 rounds.\n",
      "[600]\ttraining's l1: 0.0975168\tvalid_1's l1: 0.170953\n",
      "[1200]\ttraining's l1: 0.0602245\tvalid_1's l1: 0.159442\n",
      "[1800]\ttraining's l1: 0.0408185\tvalid_1's l1: 0.155847\n",
      "[2400]\ttraining's l1: 0.0286865\tvalid_1's l1: 0.154167\n",
      "[3000]\ttraining's l1: 0.0206243\tvalid_1's l1: 0.153262\n",
      "[3600]\ttraining's l1: 0.0150566\tvalid_1's l1: 0.152776\n",
      "[4200]\ttraining's l1: 0.0112136\tvalid_1's l1: 0.152467\n",
      "[4800]\ttraining's l1: 0.00850013\tvalid_1's l1: 0.152267\n",
      "[5400]\ttraining's l1: 0.00654355\tvalid_1's l1: 0.152138\n",
      "[6000]\ttraining's l1: 0.00512397\tvalid_1's l1: 0.152055\n",
      "Did not meet early stopping. Best iteration is:\n",
      "[6000]\ttraining's l1: 0.00512397\tvalid_1's l1: 0.152055\n",
      "------------------\n",
      "- fold3\n",
      "Fold 3 started at Thu Aug 15 10:08:34 2019\n"
     ]
    },
    {
     "name": "stderr",
     "output_type": "stream",
     "text": [
      "/usr/local/lib/python3.6/dist-packages/lightgbm/basic.py:1209: UserWarning:\n",
      "\n",
      "categorical_feature in Dataset is overridden.\n",
      "New categorical_feature is ['type']\n",
      "\n"
     ]
    },
    {
     "name": "stdout",
     "output_type": "stream",
     "text": [
      "Training until validation scores don't improve for 200 rounds.\n",
      "[600]\ttraining's l1: 0.0972245\tvalid_1's l1: 0.169237\n",
      "[1200]\ttraining's l1: 0.0601765\tvalid_1's l1: 0.157784\n",
      "[1800]\ttraining's l1: 0.040667\tvalid_1's l1: 0.15412\n",
      "[2400]\ttraining's l1: 0.0285935\tvalid_1's l1: 0.15242\n",
      "[3000]\ttraining's l1: 0.0205655\tvalid_1's l1: 0.151591\n",
      "[3600]\ttraining's l1: 0.0150701\tvalid_1's l1: 0.151088\n",
      "[4200]\ttraining's l1: 0.0112203\tvalid_1's l1: 0.150789\n",
      "[4800]\ttraining's l1: 0.00850837\tvalid_1's l1: 0.150597\n",
      "[5400]\ttraining's l1: 0.00654959\tvalid_1's l1: 0.150475\n",
      "[6000]\ttraining's l1: 0.00513682\tvalid_1's l1: 0.150388\n",
      "Did not meet early stopping. Best iteration is:\n",
      "[6000]\ttraining's l1: 0.00513682\tvalid_1's l1: 0.150388\n",
      "------------------\n",
      "- fold4\n",
      "Fold 4 started at Thu Aug 15 10:13:37 2019\n"
     ]
    },
    {
     "name": "stderr",
     "output_type": "stream",
     "text": [
      "/usr/local/lib/python3.6/dist-packages/lightgbm/basic.py:1209: UserWarning:\n",
      "\n",
      "categorical_feature in Dataset is overridden.\n",
      "New categorical_feature is ['type']\n",
      "\n"
     ]
    },
    {
     "name": "stdout",
     "output_type": "stream",
     "text": [
      "Training until validation scores don't improve for 200 rounds.\n",
      "[600]\ttraining's l1: 0.0974037\tvalid_1's l1: 0.171864\n",
      "[1200]\ttraining's l1: 0.0601265\tvalid_1's l1: 0.160327\n",
      "[1800]\ttraining's l1: 0.0406718\tvalid_1's l1: 0.156487\n",
      "[2400]\ttraining's l1: 0.0285368\tvalid_1's l1: 0.154818\n",
      "[3000]\ttraining's l1: 0.0205324\tvalid_1's l1: 0.153985\n",
      "[3600]\ttraining's l1: 0.0150358\tvalid_1's l1: 0.153477\n",
      "[4200]\ttraining's l1: 0.0112122\tvalid_1's l1: 0.153208\n",
      "[4800]\ttraining's l1: 0.00848466\tvalid_1's l1: 0.153044\n",
      "[5400]\ttraining's l1: 0.00654683\tvalid_1's l1: 0.15291\n",
      "[6000]\ttraining's l1: 0.00513414\tvalid_1's l1: 0.152828\n",
      "Did not meet early stopping. Best iteration is:\n",
      "[6000]\ttraining's l1: 0.00513414\tvalid_1's l1: 0.152828\n",
      "------------------\n",
      "====== finish ======\n",
      "score list: [0.15299898322062552, 0.15205536590181482, 0.15038776343775112, 0.15282778319058868]\n"
     ]
    },
    {
     "name": "stderr",
     "output_type": "stream",
     "text": [
      "/usr/local/lib/python3.6/dist-packages/ipykernel_launcher.py:57: SettingWithCopyWarning:\n",
      "\n",
      "\n",
      "A value is trying to be set on a copy of a slice from a DataFrame.\n",
      "Try using .loc[row_indexer,col_indexer] = value instead\n",
      "\n",
      "See the caveats in the documentation: http://pandas.pydata.org/pandas-docs/stable/user_guide/indexing.html#returning-a-view-versus-a-copy\n",
      "\n",
      "/usr/local/lib/python3.6/dist-packages/ipykernel_launcher.py:2: SettingWithCopyWarning:\n",
      "\n",
      "\n",
      "A value is trying to be set on a copy of a slice from a DataFrame.\n",
      "Try using .loc[row_indexer,col_indexer] = value instead\n",
      "\n",
      "See the caveats in the documentation: http://pandas.pydata.org/pandas-docs/stable/user_guide/indexing.html#returning-a-view-versus-a-copy\n",
      "\n"
     ]
    },
    {
     "name": "stdout",
     "output_type": "stream",
     "text": [
      "CV mean score(group log mae): -1.8834\n",
      "Training of type 1\n",
      "------------------\n",
      "- fold1\n",
      "Fold 1 started at Thu Aug 15 10:18:05 2019\n"
     ]
    },
    {
     "name": "stderr",
     "output_type": "stream",
     "text": [
      "/usr/local/lib/python3.6/dist-packages/lightgbm/basic.py:1209: UserWarning:\n",
      "\n",
      "categorical_feature in Dataset is overridden.\n",
      "New categorical_feature is ['type']\n",
      "\n"
     ]
    },
    {
     "name": "stdout",
     "output_type": "stream",
     "text": [
      "Training until validation scores don't improve for 200 rounds.\n",
      "[600]\ttraining's l1: 0.0923416\tvalid_1's l1: 0.410696\n",
      "[1200]\ttraining's l1: 0.0277126\tvalid_1's l1: 0.402453\n",
      "[1800]\ttraining's l1: 0.00802298\tvalid_1's l1: 0.401155\n",
      "[2400]\ttraining's l1: 0.00299345\tvalid_1's l1: 0.400897\n",
      "[3000]\ttraining's l1: 0.00175425\tvalid_1's l1: 0.400839\n",
      "[3600]\ttraining's l1: 0.00134755\tvalid_1's l1: 0.400819\n",
      "[4200]\ttraining's l1: 0.0011581\tvalid_1's l1: 0.400802\n",
      "[4800]\ttraining's l1: 0.00104325\tvalid_1's l1: 0.400797\n",
      "[5400]\ttraining's l1: 0.000965218\tvalid_1's l1: 0.400793\n",
      "[6000]\ttraining's l1: 0.000904731\tvalid_1's l1: 0.400789\n",
      "Did not meet early stopping. Best iteration is:\n",
      "[6000]\ttraining's l1: 0.000904731\tvalid_1's l1: 0.400789\n",
      "------------------\n",
      "- fold2\n",
      "Fold 2 started at Thu Aug 15 10:19:40 2019\n"
     ]
    },
    {
     "name": "stderr",
     "output_type": "stream",
     "text": [
      "/usr/local/lib/python3.6/dist-packages/lightgbm/basic.py:1209: UserWarning:\n",
      "\n",
      "categorical_feature in Dataset is overridden.\n",
      "New categorical_feature is ['type']\n",
      "\n"
     ]
    },
    {
     "name": "stdout",
     "output_type": "stream",
     "text": [
      "Training until validation scores don't improve for 200 rounds.\n",
      "[600]\ttraining's l1: 0.0985468\tvalid_1's l1: 0.399371\n",
      "[1200]\ttraining's l1: 0.0290028\tvalid_1's l1: 0.390874\n",
      "[1800]\ttraining's l1: 0.00818301\tvalid_1's l1: 0.389456\n",
      "[2400]\ttraining's l1: 0.00299439\tvalid_1's l1: 0.389222\n",
      "[3000]\ttraining's l1: 0.00174193\tvalid_1's l1: 0.38916\n",
      "[3600]\ttraining's l1: 0.00134474\tvalid_1's l1: 0.389137\n",
      "[4200]\ttraining's l1: 0.00115407\tvalid_1's l1: 0.389126\n",
      "[4800]\ttraining's l1: 0.00104115\tvalid_1's l1: 0.389117\n",
      "[5400]\ttraining's l1: 0.000962728\tvalid_1's l1: 0.38911\n",
      "[6000]\ttraining's l1: 0.00090503\tvalid_1's l1: 0.389107\n",
      "Did not meet early stopping. Best iteration is:\n",
      "[6000]\ttraining's l1: 0.00090503\tvalid_1's l1: 0.389107\n",
      "------------------\n",
      "- fold3\n",
      "Fold 3 started at Thu Aug 15 10:21:04 2019\n"
     ]
    },
    {
     "name": "stderr",
     "output_type": "stream",
     "text": [
      "/usr/local/lib/python3.6/dist-packages/lightgbm/basic.py:1209: UserWarning:\n",
      "\n",
      "categorical_feature in Dataset is overridden.\n",
      "New categorical_feature is ['type']\n",
      "\n"
     ]
    },
    {
     "name": "stdout",
     "output_type": "stream",
     "text": [
      "Training until validation scores don't improve for 200 rounds.\n",
      "[600]\ttraining's l1: 0.0976144\tvalid_1's l1: 0.411762\n",
      "[1200]\ttraining's l1: 0.0287596\tvalid_1's l1: 0.404954\n",
      "[1800]\ttraining's l1: 0.00835318\tvalid_1's l1: 0.40385\n",
      "[2400]\ttraining's l1: 0.00288783\tvalid_1's l1: 0.403562\n",
      "[3000]\ttraining's l1: 0.00173168\tvalid_1's l1: 0.403511\n",
      "[3600]\ttraining's l1: 0.00136027\tvalid_1's l1: 0.4035\n",
      "[4200]\ttraining's l1: 0.00116935\tvalid_1's l1: 0.403493\n",
      "[4800]\ttraining's l1: 0.00105417\tvalid_1's l1: 0.403487\n",
      "[5400]\ttraining's l1: 0.000973458\tvalid_1's l1: 0.403483\n",
      "[6000]\ttraining's l1: 0.000913614\tvalid_1's l1: 0.403481\n",
      "Did not meet early stopping. Best iteration is:\n",
      "[6000]\ttraining's l1: 0.000913614\tvalid_1's l1: 0.403481\n",
      "------------------\n",
      "- fold4\n",
      "Fold 4 started at Thu Aug 15 10:22:47 2019\n"
     ]
    },
    {
     "name": "stderr",
     "output_type": "stream",
     "text": [
      "/usr/local/lib/python3.6/dist-packages/lightgbm/basic.py:1209: UserWarning:\n",
      "\n",
      "categorical_feature in Dataset is overridden.\n",
      "New categorical_feature is ['type']\n",
      "\n"
     ]
    },
    {
     "name": "stdout",
     "output_type": "stream",
     "text": [
      "Training until validation scores don't improve for 200 rounds.\n",
      "[600]\ttraining's l1: 0.0991176\tvalid_1's l1: 0.403499\n",
      "[1200]\ttraining's l1: 0.0294109\tvalid_1's l1: 0.394743\n",
      "[1800]\ttraining's l1: 0.00853545\tvalid_1's l1: 0.393365\n",
      "[2400]\ttraining's l1: 0.00342141\tvalid_1's l1: 0.393113\n",
      "[3000]\ttraining's l1: 0.00191815\tvalid_1's l1: 0.393038\n",
      "[3600]\ttraining's l1: 0.00140418\tvalid_1's l1: 0.393008\n",
      "[4200]\ttraining's l1: 0.00117619\tvalid_1's l1: 0.392996\n",
      "[4800]\ttraining's l1: 0.00105041\tvalid_1's l1: 0.392988\n",
      "[5400]\ttraining's l1: 0.000967146\tvalid_1's l1: 0.392982\n",
      "[6000]\ttraining's l1: 0.000908426\tvalid_1's l1: 0.392979\n",
      "Did not meet early stopping. Best iteration is:\n",
      "[6000]\ttraining's l1: 0.000908426\tvalid_1's l1: 0.392979\n",
      "------------------\n",
      "====== finish ======\n",
      "score list: [0.4007892876704075, 0.3891066846454016, 0.4034806849021252, 0.39297899390403557]\n",
      "CV mean score(group log mae): -0.9249\n",
      "Training of type 4\n"
     ]
    },
    {
     "name": "stderr",
     "output_type": "stream",
     "text": [
      "/usr/local/lib/python3.6/dist-packages/ipykernel_launcher.py:57: SettingWithCopyWarning:\n",
      "\n",
      "\n",
      "A value is trying to be set on a copy of a slice from a DataFrame.\n",
      "Try using .loc[row_indexer,col_indexer] = value instead\n",
      "\n",
      "See the caveats in the documentation: http://pandas.pydata.org/pandas-docs/stable/user_guide/indexing.html#returning-a-view-versus-a-copy\n",
      "\n",
      "/usr/local/lib/python3.6/dist-packages/ipykernel_launcher.py:2: SettingWithCopyWarning:\n",
      "\n",
      "\n",
      "A value is trying to be set on a copy of a slice from a DataFrame.\n",
      "Try using .loc[row_indexer,col_indexer] = value instead\n",
      "\n",
      "See the caveats in the documentation: http://pandas.pydata.org/pandas-docs/stable/user_guide/indexing.html#returning-a-view-versus-a-copy\n",
      "\n"
     ]
    },
    {
     "name": "stdout",
     "output_type": "stream",
     "text": [
      "------------------\n",
      "- fold1\n",
      "Fold 1 started at Thu Aug 15 10:24:24 2019\n"
     ]
    },
    {
     "name": "stderr",
     "output_type": "stream",
     "text": [
      "/usr/local/lib/python3.6/dist-packages/lightgbm/basic.py:1209: UserWarning:\n",
      "\n",
      "categorical_feature in Dataset is overridden.\n",
      "New categorical_feature is ['type']\n",
      "\n"
     ]
    },
    {
     "name": "stdout",
     "output_type": "stream",
     "text": [
      "Training until validation scores don't improve for 200 rounds.\n",
      "[600]\ttraining's l1: 0.0583182\tvalid_1's l1: 0.162612\n",
      "[1200]\ttraining's l1: 0.0245489\tvalid_1's l1: 0.157376\n",
      "[1800]\ttraining's l1: 0.01111\tvalid_1's l1: 0.156189\n",
      "[2400]\ttraining's l1: 0.00559227\tvalid_1's l1: 0.155825\n",
      "[3000]\ttraining's l1: 0.00321166\tvalid_1's l1: 0.155706\n",
      "[3600]\ttraining's l1: 0.00209781\tvalid_1's l1: 0.15565\n",
      "[4200]\ttraining's l1: 0.00152888\tvalid_1's l1: 0.155622\n",
      "[4800]\ttraining's l1: 0.00123651\tvalid_1's l1: 0.155607\n",
      "[5400]\ttraining's l1: 0.00107173\tvalid_1's l1: 0.155596\n",
      "[6000]\ttraining's l1: 0.000964336\tvalid_1's l1: 0.155589\n",
      "Did not meet early stopping. Best iteration is:\n",
      "[6000]\ttraining's l1: 0.000964336\tvalid_1's l1: 0.155589\n",
      "------------------\n",
      "- fold2\n",
      "Fold 2 started at Thu Aug 15 10:27:18 2019\n"
     ]
    },
    {
     "name": "stderr",
     "output_type": "stream",
     "text": [
      "/usr/local/lib/python3.6/dist-packages/lightgbm/basic.py:1209: UserWarning:\n",
      "\n",
      "categorical_feature in Dataset is overridden.\n",
      "New categorical_feature is ['type']\n",
      "\n"
     ]
    },
    {
     "name": "stdout",
     "output_type": "stream",
     "text": [
      "Training until validation scores don't improve for 200 rounds.\n",
      "[600]\ttraining's l1: 0.0581539\tvalid_1's l1: 0.160691\n",
      "[1200]\ttraining's l1: 0.0239279\tvalid_1's l1: 0.155431\n",
      "[1800]\ttraining's l1: 0.0108957\tvalid_1's l1: 0.154302\n",
      "[2400]\ttraining's l1: 0.00546633\tvalid_1's l1: 0.153999\n",
      "[3000]\ttraining's l1: 0.00315896\tvalid_1's l1: 0.153878\n",
      "[3600]\ttraining's l1: 0.00207602\tvalid_1's l1: 0.153844\n",
      "[4200]\ttraining's l1: 0.00152172\tvalid_1's l1: 0.15382\n",
      "[4800]\ttraining's l1: 0.00123227\tvalid_1's l1: 0.153809\n",
      "[5400]\ttraining's l1: 0.00106834\tvalid_1's l1: 0.153801\n",
      "[6000]\ttraining's l1: 0.000963626\tvalid_1's l1: 0.153796\n",
      "Did not meet early stopping. Best iteration is:\n",
      "[6000]\ttraining's l1: 0.000963626\tvalid_1's l1: 0.153796\n",
      "------------------\n",
      "- fold3\n",
      "Fold 3 started at Thu Aug 15 10:30:46 2019\n"
     ]
    },
    {
     "name": "stderr",
     "output_type": "stream",
     "text": [
      "/usr/local/lib/python3.6/dist-packages/lightgbm/basic.py:1209: UserWarning:\n",
      "\n",
      "categorical_feature in Dataset is overridden.\n",
      "New categorical_feature is ['type']\n",
      "\n"
     ]
    },
    {
     "name": "stdout",
     "output_type": "stream",
     "text": [
      "Training until validation scores don't improve for 200 rounds.\n",
      "[600]\ttraining's l1: 0.0583694\tvalid_1's l1: 0.162264\n",
      "[1200]\ttraining's l1: 0.0240519\tvalid_1's l1: 0.156928\n",
      "[1800]\ttraining's l1: 0.0107999\tvalid_1's l1: 0.155704\n",
      "[2400]\ttraining's l1: 0.00543861\tvalid_1's l1: 0.155403\n",
      "[3000]\ttraining's l1: 0.00313956\tvalid_1's l1: 0.155262\n",
      "[3600]\ttraining's l1: 0.00206437\tvalid_1's l1: 0.155208\n",
      "[4200]\ttraining's l1: 0.001513\tvalid_1's l1: 0.155179\n",
      "[4800]\ttraining's l1: 0.0012269\tvalid_1's l1: 0.155168\n",
      "[5400]\ttraining's l1: 0.00106776\tvalid_1's l1: 0.155157\n",
      "[6000]\ttraining's l1: 0.000962593\tvalid_1's l1: 0.155152\n",
      "Did not meet early stopping. Best iteration is:\n",
      "[6000]\ttraining's l1: 0.000962593\tvalid_1's l1: 0.155152\n",
      "------------------\n",
      "- fold4\n",
      "Fold 4 started at Thu Aug 15 10:34:20 2019\n"
     ]
    },
    {
     "name": "stderr",
     "output_type": "stream",
     "text": [
      "/usr/local/lib/python3.6/dist-packages/lightgbm/basic.py:1209: UserWarning:\n",
      "\n",
      "categorical_feature in Dataset is overridden.\n",
      "New categorical_feature is ['type']\n",
      "\n"
     ]
    },
    {
     "name": "stdout",
     "output_type": "stream",
     "text": [
      "Training until validation scores don't improve for 200 rounds.\n",
      "[600]\ttraining's l1: 0.057371\tvalid_1's l1: 0.161199\n",
      "[1200]\ttraining's l1: 0.0238286\tvalid_1's l1: 0.156372\n",
      "[1800]\ttraining's l1: 0.0107443\tvalid_1's l1: 0.155338\n",
      "[2400]\ttraining's l1: 0.00539364\tvalid_1's l1: 0.155034\n",
      "[3000]\ttraining's l1: 0.00311393\tvalid_1's l1: 0.154912\n",
      "[3600]\ttraining's l1: 0.00204268\tvalid_1's l1: 0.154852\n",
      "[4200]\ttraining's l1: 0.00150235\tvalid_1's l1: 0.154832\n",
      "[4800]\ttraining's l1: 0.00122129\tvalid_1's l1: 0.15482\n",
      "[5400]\ttraining's l1: 0.00106274\tvalid_1's l1: 0.154812\n",
      "[6000]\ttraining's l1: 0.000959797\tvalid_1's l1: 0.154808\n",
      "Did not meet early stopping. Best iteration is:\n",
      "[6000]\ttraining's l1: 0.000959797\tvalid_1's l1: 0.154808\n",
      "------------------\n",
      "====== finish ======\n",
      "score list: [0.15558854475172443, 0.15379616226655216, 0.15515151201081534, 0.1548080530585692]\n"
     ]
    },
    {
     "name": "stderr",
     "output_type": "stream",
     "text": [
      "/usr/local/lib/python3.6/dist-packages/ipykernel_launcher.py:57: SettingWithCopyWarning:\n",
      "\n",
      "\n",
      "A value is trying to be set on a copy of a slice from a DataFrame.\n",
      "Try using .loc[row_indexer,col_indexer] = value instead\n",
      "\n",
      "See the caveats in the documentation: http://pandas.pydata.org/pandas-docs/stable/user_guide/indexing.html#returning-a-view-versus-a-copy\n",
      "\n",
      "/usr/local/lib/python3.6/dist-packages/ipykernel_launcher.py:2: SettingWithCopyWarning:\n",
      "\n",
      "\n",
      "A value is trying to be set on a copy of a slice from a DataFrame.\n",
      "Try using .loc[row_indexer,col_indexer] = value instead\n",
      "\n",
      "See the caveats in the documentation: http://pandas.pydata.org/pandas-docs/stable/user_guide/indexing.html#returning-a-view-versus-a-copy\n",
      "\n"
     ]
    },
    {
     "name": "stdout",
     "output_type": "stream",
     "text": [
      "CV mean score(group log mae): -1.8654\n",
      "Training of type 2\n",
      "------------------\n",
      "- fold1\n",
      "Fold 1 started at Thu Aug 15 10:37:43 2019\n"
     ]
    },
    {
     "name": "stderr",
     "output_type": "stream",
     "text": [
      "/usr/local/lib/python3.6/dist-packages/lightgbm/basic.py:1209: UserWarning:\n",
      "\n",
      "categorical_feature in Dataset is overridden.\n",
      "New categorical_feature is ['type']\n",
      "\n"
     ]
    },
    {
     "name": "stdout",
     "output_type": "stream",
     "text": [
      "Training until validation scores don't improve for 200 rounds.\n",
      "[600]\ttraining's l1: 0.259889\tvalid_1's l1: 0.320751\n",
      "[1200]\ttraining's l1: 0.195483\tvalid_1's l1: 0.287285\n",
      "[1800]\ttraining's l1: 0.158138\tvalid_1's l1: 0.272711\n",
      "[2400]\ttraining's l1: 0.132367\tvalid_1's l1: 0.264941\n",
      "[3000]\ttraining's l1: 0.11273\tvalid_1's l1: 0.260123\n",
      "[3600]\ttraining's l1: 0.0970564\tvalid_1's l1: 0.256909\n",
      "[4200]\ttraining's l1: 0.0842002\tvalid_1's l1: 0.254596\n",
      "[4800]\ttraining's l1: 0.0735297\tvalid_1's l1: 0.25283\n",
      "[5400]\ttraining's l1: 0.0645713\tvalid_1's l1: 0.251464\n",
      "[6000]\ttraining's l1: 0.0569115\tvalid_1's l1: 0.250455\n",
      "Did not meet early stopping. Best iteration is:\n",
      "[6000]\ttraining's l1: 0.0569115\tvalid_1's l1: 0.250455\n",
      "------------------\n",
      "- fold2\n",
      "Fold 2 started at Thu Aug 15 10:49:08 2019\n"
     ]
    },
    {
     "name": "stderr",
     "output_type": "stream",
     "text": [
      "/usr/local/lib/python3.6/dist-packages/lightgbm/basic.py:1209: UserWarning:\n",
      "\n",
      "categorical_feature in Dataset is overridden.\n",
      "New categorical_feature is ['type']\n",
      "\n"
     ]
    },
    {
     "name": "stdout",
     "output_type": "stream",
     "text": [
      "Training until validation scores don't improve for 200 rounds.\n",
      "[600]\ttraining's l1: 0.260241\tvalid_1's l1: 0.321061\n",
      "[1200]\ttraining's l1: 0.196238\tvalid_1's l1: 0.287908\n",
      "[1800]\ttraining's l1: 0.159194\tvalid_1's l1: 0.273785\n",
      "[2400]\ttraining's l1: 0.133016\tvalid_1's l1: 0.265646\n",
      "[3000]\ttraining's l1: 0.113104\tvalid_1's l1: 0.260518\n",
      "[3600]\ttraining's l1: 0.0973509\tvalid_1's l1: 0.257214\n",
      "[4200]\ttraining's l1: 0.0845174\tvalid_1's l1: 0.254826\n",
      "[4800]\ttraining's l1: 0.0737841\tvalid_1's l1: 0.253072\n",
      "[5400]\ttraining's l1: 0.0647916\tvalid_1's l1: 0.25181\n",
      "[6000]\ttraining's l1: 0.0570828\tvalid_1's l1: 0.250826\n",
      "Did not meet early stopping. Best iteration is:\n",
      "[6000]\ttraining's l1: 0.0570828\tvalid_1's l1: 0.250826\n",
      "------------------\n",
      "- fold3\n",
      "Fold 3 started at Thu Aug 15 11:01:48 2019\n"
     ]
    },
    {
     "name": "stderr",
     "output_type": "stream",
     "text": [
      "/usr/local/lib/python3.6/dist-packages/lightgbm/basic.py:1209: UserWarning:\n",
      "\n",
      "categorical_feature in Dataset is overridden.\n",
      "New categorical_feature is ['type']\n",
      "\n"
     ]
    },
    {
     "name": "stdout",
     "output_type": "stream",
     "text": [
      "Training until validation scores don't improve for 200 rounds.\n",
      "[600]\ttraining's l1: 0.260047\tvalid_1's l1: 0.320453\n",
      "[1200]\ttraining's l1: 0.195882\tvalid_1's l1: 0.287494\n",
      "[1800]\ttraining's l1: 0.158772\tvalid_1's l1: 0.273091\n",
      "[2400]\ttraining's l1: 0.132671\tvalid_1's l1: 0.264908\n",
      "[3000]\ttraining's l1: 0.112906\tvalid_1's l1: 0.259892\n",
      "[3600]\ttraining's l1: 0.0971284\tvalid_1's l1: 0.256454\n",
      "[4200]\ttraining's l1: 0.0843534\tvalid_1's l1: 0.254169\n",
      "[4800]\ttraining's l1: 0.0736456\tvalid_1's l1: 0.252465\n",
      "[5400]\ttraining's l1: 0.0645967\tvalid_1's l1: 0.251195\n",
      "[6000]\ttraining's l1: 0.0569445\tvalid_1's l1: 0.250233\n",
      "Did not meet early stopping. Best iteration is:\n",
      "[6000]\ttraining's l1: 0.0569445\tvalid_1's l1: 0.250233\n",
      "------------------\n",
      "- fold4\n",
      "Fold 4 started at Thu Aug 15 11:17:27 2019\n"
     ]
    },
    {
     "name": "stderr",
     "output_type": "stream",
     "text": [
      "/usr/local/lib/python3.6/dist-packages/lightgbm/basic.py:1209: UserWarning:\n",
      "\n",
      "categorical_feature in Dataset is overridden.\n",
      "New categorical_feature is ['type']\n",
      "\n"
     ]
    },
    {
     "name": "stdout",
     "output_type": "stream",
     "text": [
      "Training until validation scores don't improve for 200 rounds.\n",
      "[600]\ttraining's l1: 0.25993\tvalid_1's l1: 0.319119\n",
      "[1200]\ttraining's l1: 0.19554\tvalid_1's l1: 0.285904\n",
      "[1800]\ttraining's l1: 0.158408\tvalid_1's l1: 0.271683\n",
      "[2400]\ttraining's l1: 0.132189\tvalid_1's l1: 0.26364\n",
      "[3000]\ttraining's l1: 0.112567\tvalid_1's l1: 0.258642\n",
      "[3600]\ttraining's l1: 0.0968839\tvalid_1's l1: 0.255339\n",
      "[4200]\ttraining's l1: 0.0841544\tvalid_1's l1: 0.253024\n",
      "[4800]\ttraining's l1: 0.073534\tvalid_1's l1: 0.25134\n",
      "[5400]\ttraining's l1: 0.0645284\tvalid_1's l1: 0.250051\n",
      "[6000]\ttraining's l1: 0.0568804\tvalid_1's l1: 0.248974\n",
      "Did not meet early stopping. Best iteration is:\n",
      "[6000]\ttraining's l1: 0.0568804\tvalid_1's l1: 0.248974\n",
      "------------------\n",
      "====== finish ======\n",
      "score list: [0.2504547660737826, 0.2508256783803754, 0.2502325683474863, 0.2489741281753488]\n"
     ]
    },
    {
     "name": "stderr",
     "output_type": "stream",
     "text": [
      "/usr/local/lib/python3.6/dist-packages/ipykernel_launcher.py:57: SettingWithCopyWarning:\n",
      "\n",
      "\n",
      "A value is trying to be set on a copy of a slice from a DataFrame.\n",
      "Try using .loc[row_indexer,col_indexer] = value instead\n",
      "\n",
      "See the caveats in the documentation: http://pandas.pydata.org/pandas-docs/stable/user_guide/indexing.html#returning-a-view-versus-a-copy\n",
      "\n",
      "/usr/local/lib/python3.6/dist-packages/ipykernel_launcher.py:2: SettingWithCopyWarning:\n",
      "\n",
      "\n",
      "A value is trying to be set on a copy of a slice from a DataFrame.\n",
      "Try using .loc[row_indexer,col_indexer] = value instead\n",
      "\n",
      "See the caveats in the documentation: http://pandas.pydata.org/pandas-docs/stable/user_guide/indexing.html#returning-a-view-versus-a-copy\n",
      "\n"
     ]
    },
    {
     "name": "stdout",
     "output_type": "stream",
     "text": [
      "CV mean score(group log mae): -1.3858\n",
      "Training of type 6\n",
      "------------------\n",
      "- fold1\n",
      "Fold 1 started at Thu Aug 15 11:34:26 2019\n"
     ]
    },
    {
     "name": "stderr",
     "output_type": "stream",
     "text": [
      "/usr/local/lib/python3.6/dist-packages/lightgbm/basic.py:1209: UserWarning:\n",
      "\n",
      "categorical_feature in Dataset is overridden.\n",
      "New categorical_feature is ['type']\n",
      "\n"
     ]
    },
    {
     "name": "stdout",
     "output_type": "stream",
     "text": [
      "Training until validation scores don't improve for 200 rounds.\n",
      "[600]\ttraining's l1: 0.123956\tvalid_1's l1: 0.174484\n",
      "[1200]\ttraining's l1: 0.0849827\tvalid_1's l1: 0.159863\n",
      "[1800]\ttraining's l1: 0.0629191\tvalid_1's l1: 0.15406\n",
      "[2400]\ttraining's l1: 0.0480847\tvalid_1's l1: 0.151087\n",
      "[3000]\ttraining's l1: 0.0376075\tvalid_1's l1: 0.149386\n",
      "[3600]\ttraining's l1: 0.0297989\tvalid_1's l1: 0.148311\n",
      "[4200]\ttraining's l1: 0.0239404\tvalid_1's l1: 0.147634\n",
      "[4800]\ttraining's l1: 0.0194042\tvalid_1's l1: 0.147131\n",
      "[5400]\ttraining's l1: 0.0158515\tvalid_1's l1: 0.146805\n",
      "[6000]\ttraining's l1: 0.0130614\tvalid_1's l1: 0.146572\n",
      "Did not meet early stopping. Best iteration is:\n",
      "[6000]\ttraining's l1: 0.0130614\tvalid_1's l1: 0.146572\n",
      "------------------\n",
      "- fold2\n",
      "Fold 2 started at Thu Aug 15 11:44:56 2019\n"
     ]
    },
    {
     "name": "stderr",
     "output_type": "stream",
     "text": [
      "/usr/local/lib/python3.6/dist-packages/lightgbm/basic.py:1209: UserWarning:\n",
      "\n",
      "categorical_feature in Dataset is overridden.\n",
      "New categorical_feature is ['type']\n",
      "\n"
     ]
    },
    {
     "name": "stdout",
     "output_type": "stream",
     "text": [
      "Training until validation scores don't improve for 200 rounds.\n",
      "[600]\ttraining's l1: 0.12356\tvalid_1's l1: 0.17597\n",
      "[1200]\ttraining's l1: 0.0848588\tvalid_1's l1: 0.161084\n",
      "[1800]\ttraining's l1: 0.0628066\tvalid_1's l1: 0.15501\n",
      "[2400]\ttraining's l1: 0.0481162\tvalid_1's l1: 0.151972\n",
      "[3000]\ttraining's l1: 0.0376261\tvalid_1's l1: 0.150333\n",
      "[3600]\ttraining's l1: 0.0298612\tvalid_1's l1: 0.149281\n",
      "[4200]\ttraining's l1: 0.0239602\tvalid_1's l1: 0.148624\n",
      "[4800]\ttraining's l1: 0.019406\tvalid_1's l1: 0.148132\n",
      "[5400]\ttraining's l1: 0.0158499\tvalid_1's l1: 0.14777\n",
      "[6000]\ttraining's l1: 0.0130625\tvalid_1's l1: 0.147518\n",
      "Did not meet early stopping. Best iteration is:\n",
      "[6000]\ttraining's l1: 0.0130625\tvalid_1's l1: 0.147518\n",
      "------------------\n",
      "- fold3\n",
      "Fold 3 started at Thu Aug 15 11:56:11 2019\n"
     ]
    },
    {
     "name": "stderr",
     "output_type": "stream",
     "text": [
      "/usr/local/lib/python3.6/dist-packages/lightgbm/basic.py:1209: UserWarning:\n",
      "\n",
      "categorical_feature in Dataset is overridden.\n",
      "New categorical_feature is ['type']\n",
      "\n"
     ]
    },
    {
     "name": "stdout",
     "output_type": "stream",
     "text": [
      "Training until validation scores don't improve for 200 rounds.\n",
      "[600]\ttraining's l1: 0.124227\tvalid_1's l1: 0.175595\n",
      "[1200]\ttraining's l1: 0.085035\tvalid_1's l1: 0.160441\n",
      "[1800]\ttraining's l1: 0.0628573\tvalid_1's l1: 0.15436\n",
      "[2400]\ttraining's l1: 0.0481295\tvalid_1's l1: 0.151375\n",
      "[3000]\ttraining's l1: 0.0376358\tvalid_1's l1: 0.149632\n",
      "[3600]\ttraining's l1: 0.0298726\tvalid_1's l1: 0.148564\n",
      "[4200]\ttraining's l1: 0.0240007\tvalid_1's l1: 0.147845\n",
      "[4800]\ttraining's l1: 0.019453\tvalid_1's l1: 0.147377\n",
      "[5400]\ttraining's l1: 0.0158977\tvalid_1's l1: 0.14699\n",
      "[6000]\ttraining's l1: 0.0130756\tvalid_1's l1: 0.146768\n",
      "Did not meet early stopping. Best iteration is:\n",
      "[6000]\ttraining's l1: 0.0130756\tvalid_1's l1: 0.146768\n",
      "------------------\n",
      "- fold4\n",
      "Fold 4 started at Thu Aug 15 12:08:26 2019\n"
     ]
    },
    {
     "name": "stderr",
     "output_type": "stream",
     "text": [
      "/usr/local/lib/python3.6/dist-packages/lightgbm/basic.py:1209: UserWarning:\n",
      "\n",
      "categorical_feature in Dataset is overridden.\n",
      "New categorical_feature is ['type']\n",
      "\n"
     ]
    },
    {
     "name": "stdout",
     "output_type": "stream",
     "text": [
      "Training until validation scores don't improve for 200 rounds.\n",
      "[600]\ttraining's l1: 0.123556\tvalid_1's l1: 0.175335\n",
      "[1200]\ttraining's l1: 0.0847014\tvalid_1's l1: 0.160623\n",
      "[1800]\ttraining's l1: 0.0625508\tvalid_1's l1: 0.154661\n",
      "[2400]\ttraining's l1: 0.0479881\tvalid_1's l1: 0.151592\n",
      "[3000]\ttraining's l1: 0.0375354\tvalid_1's l1: 0.149892\n",
      "[3600]\ttraining's l1: 0.0297813\tvalid_1's l1: 0.148846\n",
      "[4200]\ttraining's l1: 0.0239046\tvalid_1's l1: 0.148158\n",
      "[4800]\ttraining's l1: 0.019358\tvalid_1's l1: 0.147664\n",
      "[5400]\ttraining's l1: 0.0158161\tvalid_1's l1: 0.147332\n",
      "[6000]\ttraining's l1: 0.0130078\tvalid_1's l1: 0.147106\n",
      "Did not meet early stopping. Best iteration is:\n",
      "[6000]\ttraining's l1: 0.0130078\tvalid_1's l1: 0.147106\n",
      "------------------\n",
      "====== finish ======\n",
      "score list: [0.14657246320301864, 0.14751849576964493, 0.1467678103742205, 0.14710563520750536]\n"
     ]
    },
    {
     "name": "stderr",
     "output_type": "stream",
     "text": [
      "/usr/local/lib/python3.6/dist-packages/ipykernel_launcher.py:57: SettingWithCopyWarning:\n",
      "\n",
      "\n",
      "A value is trying to be set on a copy of a slice from a DataFrame.\n",
      "Try using .loc[row_indexer,col_indexer] = value instead\n",
      "\n",
      "See the caveats in the documentation: http://pandas.pydata.org/pandas-docs/stable/user_guide/indexing.html#returning-a-view-versus-a-copy\n",
      "\n",
      "/usr/local/lib/python3.6/dist-packages/ipykernel_launcher.py:2: SettingWithCopyWarning:\n",
      "\n",
      "\n",
      "A value is trying to be set on a copy of a slice from a DataFrame.\n",
      "Try using .loc[row_indexer,col_indexer] = value instead\n",
      "\n",
      "See the caveats in the documentation: http://pandas.pydata.org/pandas-docs/stable/user_guide/indexing.html#returning-a-view-versus-a-copy\n",
      "\n"
     ]
    },
    {
     "name": "stdout",
     "output_type": "stream",
     "text": [
      "CV mean score(group log mae): -1.9174\n",
      "Training of type 5\n",
      "------------------\n",
      "- fold1\n",
      "Fold 1 started at Thu Aug 15 12:19:36 2019\n"
     ]
    },
    {
     "name": "stderr",
     "output_type": "stream",
     "text": [
      "/usr/local/lib/python3.6/dist-packages/lightgbm/basic.py:1209: UserWarning:\n",
      "\n",
      "categorical_feature in Dataset is overridden.\n",
      "New categorical_feature is ['type']\n",
      "\n"
     ]
    },
    {
     "name": "stdout",
     "output_type": "stream",
     "text": [
      "Training until validation scores don't improve for 200 rounds.\n",
      "[600]\ttraining's l1: 0.277234\tvalid_1's l1: 0.322428\n",
      "[1200]\ttraining's l1: 0.217646\tvalid_1's l1: 0.288833\n",
      "[1800]\ttraining's l1: 0.181288\tvalid_1's l1: 0.272489\n",
      "[2400]\ttraining's l1: 0.155569\tvalid_1's l1: 0.263073\n",
      "[3000]\ttraining's l1: 0.135815\tvalid_1's l1: 0.25711\n",
      "[3600]\ttraining's l1: 0.119719\tvalid_1's l1: 0.252727\n",
      "[4200]\ttraining's l1: 0.106377\tvalid_1's l1: 0.249543\n",
      "[4800]\ttraining's l1: 0.0950444\tvalid_1's l1: 0.247142\n",
      "[5400]\ttraining's l1: 0.085335\tvalid_1's l1: 0.245293\n",
      "[6000]\ttraining's l1: 0.0768322\tvalid_1's l1: 0.243926\n",
      "Did not meet early stopping. Best iteration is:\n",
      "[6000]\ttraining's l1: 0.0768322\tvalid_1's l1: 0.243926\n",
      "------------------\n",
      "- fold2\n",
      "Fold 2 started at Thu Aug 15 12:40:27 2019\n"
     ]
    },
    {
     "name": "stderr",
     "output_type": "stream",
     "text": [
      "/usr/local/lib/python3.6/dist-packages/lightgbm/basic.py:1209: UserWarning:\n",
      "\n",
      "categorical_feature in Dataset is overridden.\n",
      "New categorical_feature is ['type']\n",
      "\n"
     ]
    },
    {
     "name": "stdout",
     "output_type": "stream",
     "text": [
      "Training until validation scores don't improve for 200 rounds.\n",
      "[600]\ttraining's l1: 0.278431\tvalid_1's l1: 0.324257\n",
      "[1200]\ttraining's l1: 0.218071\tvalid_1's l1: 0.289777\n",
      "[1800]\ttraining's l1: 0.182161\tvalid_1's l1: 0.273694\n",
      "[2400]\ttraining's l1: 0.156366\tvalid_1's l1: 0.263967\n",
      "[3000]\ttraining's l1: 0.136384\tvalid_1's l1: 0.257524\n",
      "[3600]\ttraining's l1: 0.120217\tvalid_1's l1: 0.253114\n",
      "[4200]\ttraining's l1: 0.106771\tvalid_1's l1: 0.250003\n",
      "[4800]\ttraining's l1: 0.0954361\tvalid_1's l1: 0.247627\n",
      "[5400]\ttraining's l1: 0.0856609\tvalid_1's l1: 0.245785\n",
      "[6000]\ttraining's l1: 0.0771482\tvalid_1's l1: 0.244283\n",
      "Did not meet early stopping. Best iteration is:\n",
      "[6000]\ttraining's l1: 0.0771482\tvalid_1's l1: 0.244283\n",
      "------------------\n",
      "- fold3\n",
      "Fold 3 started at Thu Aug 15 13:05:22 2019\n"
     ]
    },
    {
     "name": "stderr",
     "output_type": "stream",
     "text": [
      "/usr/local/lib/python3.6/dist-packages/lightgbm/basic.py:1209: UserWarning:\n",
      "\n",
      "categorical_feature in Dataset is overridden.\n",
      "New categorical_feature is ['type']\n",
      "\n"
     ]
    },
    {
     "name": "stdout",
     "output_type": "stream",
     "text": [
      "Training until validation scores don't improve for 200 rounds.\n",
      "[600]\ttraining's l1: 0.277889\tvalid_1's l1: 0.32253\n",
      "[1200]\ttraining's l1: 0.217686\tvalid_1's l1: 0.288432\n",
      "[1800]\ttraining's l1: 0.181545\tvalid_1's l1: 0.272228\n",
      "[2400]\ttraining's l1: 0.15582\tvalid_1's l1: 0.262579\n",
      "[3000]\ttraining's l1: 0.135849\tvalid_1's l1: 0.256575\n",
      "[3600]\ttraining's l1: 0.119857\tvalid_1's l1: 0.25221\n",
      "[4200]\ttraining's l1: 0.106436\tvalid_1's l1: 0.248966\n",
      "[4800]\ttraining's l1: 0.095117\tvalid_1's l1: 0.246748\n",
      "[5400]\ttraining's l1: 0.0853691\tvalid_1's l1: 0.24491\n",
      "[6000]\ttraining's l1: 0.0768347\tvalid_1's l1: 0.243423\n",
      "Did not meet early stopping. Best iteration is:\n",
      "[6000]\ttraining's l1: 0.0768347\tvalid_1's l1: 0.243423\n",
      "------------------\n",
      "- fold4\n",
      "Fold 4 started at Thu Aug 15 13:26:56 2019\n"
     ]
    },
    {
     "name": "stderr",
     "output_type": "stream",
     "text": [
      "/usr/local/lib/python3.6/dist-packages/lightgbm/basic.py:1209: UserWarning:\n",
      "\n",
      "categorical_feature in Dataset is overridden.\n",
      "New categorical_feature is ['type']\n",
      "\n"
     ]
    },
    {
     "name": "stdout",
     "output_type": "stream",
     "text": [
      "Training until validation scores don't improve for 200 rounds.\n",
      "[600]\ttraining's l1: 0.27715\tvalid_1's l1: 0.322129\n",
      "[1200]\ttraining's l1: 0.217535\tvalid_1's l1: 0.287814\n",
      "[1800]\ttraining's l1: 0.181632\tvalid_1's l1: 0.271817\n",
      "[2400]\ttraining's l1: 0.155808\tvalid_1's l1: 0.26223\n",
      "[3000]\ttraining's l1: 0.135962\tvalid_1's l1: 0.256107\n",
      "[3600]\ttraining's l1: 0.119838\tvalid_1's l1: 0.251873\n",
      "[4200]\ttraining's l1: 0.106415\tvalid_1's l1: 0.248702\n",
      "[4800]\ttraining's l1: 0.0951122\tvalid_1's l1: 0.246427\n",
      "[5400]\ttraining's l1: 0.0853302\tvalid_1's l1: 0.244608\n",
      "[6000]\ttraining's l1: 0.0768938\tvalid_1's l1: 0.243168\n",
      "Did not meet early stopping. Best iteration is:\n",
      "[6000]\ttraining's l1: 0.0768938\tvalid_1's l1: 0.243168\n",
      "------------------\n",
      "====== finish ======\n",
      "score list: [0.24392647109906793, 0.24428342770974662, 0.2434229531856017, 0.24316778736890748]\n"
     ]
    },
    {
     "name": "stderr",
     "output_type": "stream",
     "text": [
      "/usr/local/lib/python3.6/dist-packages/ipykernel_launcher.py:57: SettingWithCopyWarning:\n",
      "\n",
      "\n",
      "A value is trying to be set on a copy of a slice from a DataFrame.\n",
      "Try using .loc[row_indexer,col_indexer] = value instead\n",
      "\n",
      "See the caveats in the documentation: http://pandas.pydata.org/pandas-docs/stable/user_guide/indexing.html#returning-a-view-versus-a-copy\n",
      "\n",
      "/usr/local/lib/python3.6/dist-packages/ipykernel_launcher.py:2: SettingWithCopyWarning:\n",
      "\n",
      "\n",
      "A value is trying to be set on a copy of a slice from a DataFrame.\n",
      "Try using .loc[row_indexer,col_indexer] = value instead\n",
      "\n",
      "See the caveats in the documentation: http://pandas.pydata.org/pandas-docs/stable/user_guide/indexing.html#returning-a-view-versus-a-copy\n",
      "\n"
     ]
    },
    {
     "name": "stdout",
     "output_type": "stream",
     "text": [
      "CV mean score(group log mae): -1.4118\n",
      "Training of type 7\n",
      "------------------\n",
      "- fold1\n",
      "Fold 1 started at Thu Aug 15 13:50:17 2019\n"
     ]
    },
    {
     "name": "stderr",
     "output_type": "stream",
     "text": [
      "/usr/local/lib/python3.6/dist-packages/lightgbm/basic.py:1209: UserWarning:\n",
      "\n",
      "categorical_feature in Dataset is overridden.\n",
      "New categorical_feature is ['type']\n",
      "\n"
     ]
    },
    {
     "name": "stdout",
     "output_type": "stream",
     "text": [
      "Training until validation scores don't improve for 200 rounds.\n",
      "[600]\ttraining's l1: 0.047911\tvalid_1's l1: 0.121678\n",
      "[1200]\ttraining's l1: 0.0217875\tvalid_1's l1: 0.117115\n",
      "[1800]\ttraining's l1: 0.011133\tvalid_1's l1: 0.116041\n",
      "[2400]\ttraining's l1: 0.00622708\tvalid_1's l1: 0.115661\n",
      "[3000]\ttraining's l1: 0.00382391\tvalid_1's l1: 0.115504\n",
      "[3600]\ttraining's l1: 0.00256092\tvalid_1's l1: 0.11542\n",
      "[4200]\ttraining's l1: 0.0018435\tvalid_1's l1: 0.115382\n",
      "[4800]\ttraining's l1: 0.00141528\tvalid_1's l1: 0.115354\n",
      "[5400]\ttraining's l1: 0.00115626\tvalid_1's l1: 0.11534\n",
      "[6000]\ttraining's l1: 0.00100049\tvalid_1's l1: 0.115329\n",
      "Did not meet early stopping. Best iteration is:\n",
      "[6000]\ttraining's l1: 0.00100049\tvalid_1's l1: 0.115329\n",
      "------------------\n",
      "- fold2\n",
      "Fold 2 started at Thu Aug 15 14:00:42 2019\n"
     ]
    },
    {
     "name": "stderr",
     "output_type": "stream",
     "text": [
      "/usr/local/lib/python3.6/dist-packages/lightgbm/basic.py:1209: UserWarning:\n",
      "\n",
      "categorical_feature in Dataset is overridden.\n",
      "New categorical_feature is ['type']\n",
      "\n"
     ]
    },
    {
     "name": "stdout",
     "output_type": "stream",
     "text": [
      "Training until validation scores don't improve for 200 rounds.\n",
      "[600]\ttraining's l1: 0.04795\tvalid_1's l1: 0.122872\n",
      "[1200]\ttraining's l1: 0.0218549\tvalid_1's l1: 0.118373\n",
      "[1800]\ttraining's l1: 0.0111603\tvalid_1's l1: 0.117177\n",
      "[2400]\ttraining's l1: 0.00626069\tvalid_1's l1: 0.116751\n",
      "[3000]\ttraining's l1: 0.00382989\tvalid_1's l1: 0.116582\n",
      "[3600]\ttraining's l1: 0.00256674\tvalid_1's l1: 0.116503\n",
      "[4200]\ttraining's l1: 0.00184593\tvalid_1's l1: 0.116457\n",
      "[4800]\ttraining's l1: 0.00141902\tvalid_1's l1: 0.11643\n",
      "[5400]\ttraining's l1: 0.00115954\tvalid_1's l1: 0.116415\n",
      "[6000]\ttraining's l1: 0.00100179\tvalid_1's l1: 0.116403\n",
      "Did not meet early stopping. Best iteration is:\n",
      "[6000]\ttraining's l1: 0.00100179\tvalid_1's l1: 0.116403\n",
      "------------------\n",
      "- fold3\n",
      "Fold 3 started at Thu Aug 15 14:06:36 2019\n"
     ]
    },
    {
     "name": "stderr",
     "output_type": "stream",
     "text": [
      "/usr/local/lib/python3.6/dist-packages/lightgbm/basic.py:1209: UserWarning:\n",
      "\n",
      "categorical_feature in Dataset is overridden.\n",
      "New categorical_feature is ['type']\n",
      "\n"
     ]
    },
    {
     "name": "stdout",
     "output_type": "stream",
     "text": [
      "Training until validation scores don't improve for 200 rounds.\n",
      "[600]\ttraining's l1: 0.0484864\tvalid_1's l1: 0.121416\n",
      "[1200]\ttraining's l1: 0.0221655\tvalid_1's l1: 0.11677\n",
      "[1800]\ttraining's l1: 0.0114346\tvalid_1's l1: 0.115552\n",
      "[2400]\ttraining's l1: 0.00637602\tvalid_1's l1: 0.115112\n",
      "[3000]\ttraining's l1: 0.00389972\tvalid_1's l1: 0.114941\n",
      "[3600]\ttraining's l1: 0.00259838\tvalid_1's l1: 0.114858\n",
      "[4200]\ttraining's l1: 0.00186905\tvalid_1's l1: 0.114812\n",
      "[4800]\ttraining's l1: 0.00143299\tvalid_1's l1: 0.114787\n",
      "[5400]\ttraining's l1: 0.00116728\tvalid_1's l1: 0.114772\n",
      "[6000]\ttraining's l1: 0.00100657\tvalid_1's l1: 0.114761\n",
      "Did not meet early stopping. Best iteration is:\n",
      "[6000]\ttraining's l1: 0.00100657\tvalid_1's l1: 0.114761\n",
      "------------------\n",
      "- fold4\n",
      "Fold 4 started at Thu Aug 15 14:14:34 2019\n"
     ]
    },
    {
     "name": "stderr",
     "output_type": "stream",
     "text": [
      "/usr/local/lib/python3.6/dist-packages/lightgbm/basic.py:1209: UserWarning:\n",
      "\n",
      "categorical_feature in Dataset is overridden.\n",
      "New categorical_feature is ['type']\n",
      "\n"
     ]
    },
    {
     "name": "stdout",
     "output_type": "stream",
     "text": [
      "Training until validation scores don't improve for 200 rounds.\n",
      "[600]\ttraining's l1: 0.0479407\tvalid_1's l1: 0.12269\n",
      "[1200]\ttraining's l1: 0.0218565\tvalid_1's l1: 0.118104\n",
      "[1800]\ttraining's l1: 0.0112129\tvalid_1's l1: 0.116943\n",
      "[2400]\ttraining's l1: 0.00628772\tvalid_1's l1: 0.116524\n",
      "[3000]\ttraining's l1: 0.00389149\tvalid_1's l1: 0.116346\n",
      "[3600]\ttraining's l1: 0.00259147\tvalid_1's l1: 0.116258\n",
      "[4200]\ttraining's l1: 0.00185969\tvalid_1's l1: 0.116212\n",
      "[4800]\ttraining's l1: 0.0014254\tvalid_1's l1: 0.116182\n",
      "[5400]\ttraining's l1: 0.00116029\tvalid_1's l1: 0.116166\n",
      "[6000]\ttraining's l1: 0.0010031\tvalid_1's l1: 0.116155\n",
      "Did not meet early stopping. Best iteration is:\n",
      "[6000]\ttraining's l1: 0.0010031\tvalid_1's l1: 0.116155\n",
      "------------------\n",
      "====== finish ======\n",
      "score list: [0.1153288227446059, 0.11640322724875544, 0.1147614928357006, 0.11615450548372644]\n"
     ]
    },
    {
     "name": "stderr",
     "output_type": "stream",
     "text": [
      "/usr/local/lib/python3.6/dist-packages/ipykernel_launcher.py:57: SettingWithCopyWarning:\n",
      "\n",
      "\n",
      "A value is trying to be set on a copy of a slice from a DataFrame.\n",
      "Try using .loc[row_indexer,col_indexer] = value instead\n",
      "\n",
      "See the caveats in the documentation: http://pandas.pydata.org/pandas-docs/stable/user_guide/indexing.html#returning-a-view-versus-a-copy\n",
      "\n",
      "/usr/local/lib/python3.6/dist-packages/ipykernel_launcher.py:2: SettingWithCopyWarning:\n",
      "\n",
      "\n",
      "A value is trying to be set on a copy of a slice from a DataFrame.\n",
      "Try using .loc[row_indexer,col_indexer] = value instead\n",
      "\n",
      "See the caveats in the documentation: http://pandas.pydata.org/pandas-docs/stable/user_guide/indexing.html#returning-a-view-versus-a-copy\n",
      "\n"
     ]
    },
    {
     "name": "stdout",
     "output_type": "stream",
     "text": [
      "CV mean score(group log mae): -2.1571\n",
      "===== finish =====\n",
      "CV mean score(group log mae): -1.4935\n",
      "CPU times: user 12d 9h 44min 12s, sys: 2h 37min 42s, total: 12d 12h 21min 54s\n",
      "Wall time: 4h 43min 25s\n"
     ]
    }
   ],
   "source": [
    "%%time\n",
    "# type ごとの学習 \n",
    "\n",
    "feature_importance  = pd.DataFrame()\n",
    "X_short = pd.DataFrame({'ind': list(X.index), 'type': X['type'].values, 'oof': [0] * len(X), 'target': y.values})\n",
    "X_short_test = pd.DataFrame({'ind': list(X_test.index), 'type': X_test['type'].values, 'prediction': [0] * len(X_test)})\n",
    "for t in X['type'].unique():\n",
    "    print(f'Training of type {t}')\n",
    "    X_t = X.loc[X['type'] == t]\n",
    "    X_test_t = X_test.loc[X_test['type'] == t]\n",
    "    y_t = X_short.loc[X_short['type'] == t, 'target'].values\n",
    "#     from IPython.core.debugger import Pdb; Pdb().set_trace()\n",
    "\n",
    "#     result_dict_lgb3 = train_model_regression(X=X_t, X_test=X_test_t, y=y_t, params=params, folds=folds, model_type='lgb', eval_metric='group_mae', plot_feature_importance=False,\n",
    "#                                                       verbose=500, early_stopping_rounds=200, n_estimators=3000)\n",
    "    result_dict, cv_score = train_lgb(X=X_t, X_test=X_test_t, y=y_t, folds=folds, lgb_params=lgb_params,\n",
    "                            verbose=VERBOSE, early_stopping_rounds=EARLY_STOPPING_ROUNDS,\n",
    "                            n_estimators=N_ESTIMATORS,\n",
    "                            categorical_feature=CAT_FEATS)\n",
    "    X_short.loc[X_short['type'] == t, 'oof'] = result_dict['oof']\n",
    "    X_short_test.loc[X_short_test['type'] == t, 'prediction'] = result_dict['prediction']\n",
    "    \n",
    "    feature_importance = pd.concat([feature_importance, result_dict['feature_importance']], axis=0)\n",
    "    \n",
    "\n",
    "print('===== finish =====')\n",
    "X['scalar_coupling_constant'] = y\n",
    "metric = kaggle_metric(X, X_short['oof'])\n",
    "X = X.drop(['scalar_coupling_constant', 'prediction'], axis=1)\n",
    "print('CV mean score(group log mae): {0:.4f}'.format(metric))\n",
    "prediction = X_short_test['prediction']\n",
    "# X = X.drop(['scalar_coupling_constant', 'prediction'], axis=1)\n",
    "# sub['scalar_coupling_constant'] = X_short_test['prediction']\n",
    "# sub.to_csv('submission_t.csv', index=False)\n",
    "# sub.head()"
   ]
  },
  {
   "cell_type": "markdown",
   "metadata": {},
   "source": [
    "## plot feature importance"
   ]
  },
  {
   "cell_type": "code",
   "execution_count": 61,
   "metadata": {},
   "outputs": [
    {
     "name": "stderr",
     "output_type": "stream",
     "text": [
      "/usr/local/lib/python3.6/dist-packages/scipy/stats/stats.py:1713: FutureWarning:\n",
      "\n",
      "Using a non-tuple sequence for multidimensional indexing is deprecated; use `arr[tuple(seq)]` instead of `arr[seq]`. In the future this will be interpreted as an array index, `arr[np.array(seq)]`, which will result either in an error or a different result.\n",
      "\n"
     ]
    },
    {
     "data": {
      "image/png": "[encoded data removed]",
      "text/plain": [
       "<Figure size 1152x864 with 1 Axes>"
      ]
     },
     "metadata": {
      "needs_background": "light"
     },
     "output_type": "display_data"
    }
   ],
   "source": [
    "# top 50 features\n",
    "cols = feature_importance[[\"feature\", \"importance\"]].groupby(\"feature\").mean().sort_values(\n",
    "    by=\"importance\", ascending=False)[:50].index\n",
    "\n",
    "best_features = feature_importance.loc[feature_importance.feature.isin(cols)]\n",
    "\n",
    "plt.figure(figsize=(16, 12));\n",
    "sns.barplot(x=\"importance\", y=\"feature\", data=best_features.sort_values(by=\"importance\", ascending=False));\n",
    "plt.title('LGB Features (avg over folds)');"
   ]
  },
  {
   "cell_type": "markdown",
   "metadata": {},
   "source": [
    "# Save"
   ]
  },
  {
   "cell_type": "markdown",
   "metadata": {},
   "source": [
    "**submission**"
   ]
  },
  {
   "cell_type": "code",
   "execution_count": 62,
   "metadata": {},
   "outputs": [
    {
     "name": "stdout",
     "output_type": "stream",
     "text": [
      "save pash: ../output/nb45_submission_lgb_-1.493509393430835.csv\n"
     ]
    }
   ],
   "source": [
    "# path_submittion = './output/' + 'nb{}_submission_lgb_{}.csv'.format(nb, metric)\n",
    "path_submittion = '../output/nb{}_submission_lgb_{}.csv'.format(nb, metric)\n",
    "print(f'save pash: {path_submittion}')"
   ]
  },
  {
   "cell_type": "code",
   "execution_count": 63,
   "metadata": {},
   "outputs": [],
   "source": [
    "submittion = pd.read_csv('../input/champs-scalar-coupling/sample_submission.csv')\n",
    "# submittion = pd.read_csv('./input/champs-scalar-coupling/sample_submission.csv')[::100]\n",
    "submittion['scalar_coupling_constant'] = prediction\n",
    "submittion.to_csv(path_submittion, index=False)"
   ]
  },
  {
   "cell_type": "markdown",
   "metadata": {},
   "source": [
    "---\n",
    "**result**"
   ]
  },
  {
   "cell_type": "code",
   "execution_count": 64,
   "metadata": {},
   "outputs": [
    {
     "name": "stdout",
     "output_type": "stream",
     "text": [
      "save pash: ../output/nb45_oof_lgb_-1.493509393430835.csv\n"
     ]
    }
   ],
   "source": [
    "path_oof = '../output/' + 'nb{}_oof_lgb_{}.csv'.format(nb, metric)\n",
    "print(f'save pash: {path_oof}')"
   ]
  },
  {
   "cell_type": "code",
   "execution_count": 65,
   "metadata": {},
   "outputs": [],
   "source": [
    "oof = pd.DataFrame(result_dict['oof'])\n",
    "oof.to_csv(path_oof, index=False)"
   ]
  },
  {
   "cell_type": "markdown",
   "metadata": {},
   "source": [
    "# analysis"
   ]
  },
  {
   "cell_type": "code",
   "execution_count": 66,
   "metadata": {},
   "outputs": [
    {
     "data": {
      "image/png": "[encoded data removed]",
      "text/plain": [
       "<Figure size 432x432 with 1 Axes>"
      ]
     },
     "metadata": {
      "needs_background": "light"
     },
     "output_type": "display_data"
    },
    {
     "data": {
      "image/png": "[encoded data removed]",
      "text/plain": [
       "<Figure size 432x432 with 1 Axes>"
      ]
     },
     "metadata": {
      "needs_background": "light"
     },
     "output_type": "display_data"
    },
    {
     "data": {
      "image/png": "[encoded data removed]",
      "text/plain": [
       "<Figure size 432x432 with 1 Axes>"
      ]
     },
     "metadata": {
      "needs_background": "light"
     },
     "output_type": "display_data"
    },
    {
     "data": {
      "image/png": "[encoded data removed]",
      "text/plain": [
       "<Figure size 432x432 with 1 Axes>"
      ]
     },
     "metadata": {
      "needs_background": "light"
     },
     "output_type": "display_data"
    },
    {
     "data": {
      "image/png": "[encoded data removed]",
      "text/plain": [
       "<Figure size 432x432 with 1 Axes>"
      ]
     },
     "metadata": {
      "needs_background": "light"
     },
     "output_type": "display_data"
    },
    {
     "data": {
      "image/png": "[encoded data removed]",
      "text/plain": [
       "<Figure size 432x432 with 1 Axes>"
      ]
     },
     "metadata": {
      "needs_background": "light"
     },
     "output_type": "display_data"
    },
    {
     "data": {
      "image/png": "[encoded data removed]",
      "text/plain": [
       "<Figure size 432x432 with 1 Axes>"
      ]
     },
     "metadata": {
      "needs_background": "light"
     },
     "output_type": "display_data"
    },
    {
     "data": {
      "image/png": "[encoded data removed]",
      "text/plain": [
       "<Figure size 432x432 with 1 Axes>"
      ]
     },
     "metadata": {
      "needs_background": "light"
     },
     "output_type": "display_data"
    }
   ],
   "source": [
    "plot_data = pd.DataFrame(y)\n",
    "plot_data.index.name = 'id'\n",
    "plot_data['yhat'] = X_short['oof']\n",
    "plot_data['type'] = lbl.inverse_transform(X['type'])\n",
    "\n",
    "def plot_oof_preds(ctype, llim, ulim):\n",
    "        plt.figure(figsize=(6,6))\n",
    "        sns.scatterplot(x='scalar_coupling_constant',y='yhat',\n",
    "                        data=plot_data.loc[plot_data['type']==ctype,\n",
    "                        ['scalar_coupling_constant', 'yhat']]);\n",
    "        plt.xlim((llim, ulim))\n",
    "        plt.ylim((llim, ulim))\n",
    "        plt.plot([llim, ulim], [llim, ulim])\n",
    "        plt.xlabel('scalar_coupling_constant')\n",
    "        plt.ylabel('predicted')\n",
    "        plt.title(f'{ctype}', fontsize=18)\n",
    "        plt.show()\n",
    "\n",
    "plot_oof_preds('1JHC', 0, 250)\n",
    "plot_oof_preds('1JHN', 0, 100)\n",
    "plot_oof_preds('2JHC', -50, 50)\n",
    "plot_oof_preds('2JHH', -50, 50)\n",
    "plot_oof_preds('2JHN', -25, 25)\n",
    "plot_oof_preds('3JHC', -25, 100)\n",
    "plot_oof_preds('3JHH', -20, 20)\n",
    "plot_oof_preds('3JHN', -10, 15)"
   ]
  },
  {
   "cell_type": "code",
   "execution_count": null,
   "metadata": {},
   "outputs": [],
   "source": []
  },
  {
   "cell_type": "code",
   "execution_count": null,
   "metadata": {},
   "outputs": [],
   "source": []
  },
  {
   "cell_type": "code",
   "execution_count": null,
   "metadata": {},
   "outputs": [],
   "source": []
  },
  {
   "cell_type": "code",
   "execution_count": null,
   "metadata": {},
   "outputs": [],
   "source": []
  }
 ],
 "metadata": {
  "kernelspec": {
   "display_name": "Python 3",
   "language": "python",
   "name": "python3"
  },
  "language_info": {
   "codemirror_mode": {
    "name": "ipython",
    "version": 3
   },
   "file_extension": ".py",
   "mimetype": "text/x-python",
   "name": "python",
   "nbconvert_exporter": "python",
   "pygments_lexer": "ipython3",
   "version": "3.6.8"
  }
 },
 "nbformat": 4,
 "nbformat_minor": 4
}
