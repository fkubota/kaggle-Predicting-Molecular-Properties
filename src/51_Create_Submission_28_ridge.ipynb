{
 "cells": [
  {
   "cell_type": "markdown",
   "metadata": {},
   "source": [
    "# Introduction\n",
    "- nb45の編集\n",
    "- nb50 の結果を参考にRidge回帰を行う"
   ]
  },
  {
   "cell_type": "markdown",
   "metadata": {},
   "source": [
    "# Import everything I need :)"
   ]
  },
  {
   "cell_type": "code",
   "execution_count": 1,
   "metadata": {},
   "outputs": [],
   "source": [
    "import warnings\n",
    "warnings.filterwarnings('ignore')\n",
    "import time\n",
    "import multiprocessing\n",
    "import glob\n",
    "import gc\n",
    "import matplotlib.pyplot as plt\n",
    "import seaborn as sns\n",
    "import numpy as np\n",
    "import pandas as pd\n",
    "from plotly.offline import init_notebook_mode, iplot\n",
    "import plotly.graph_objs as go\n",
    "from sklearn.preprocessing import LabelEncoder, StandardScaler\n",
    "from sklearn.model_selection import KFold\n",
    "from sklearn.metrics import mean_absolute_error\n",
    "from sklearn import linear_model\n",
    "from fastprogress import progress_bar"
   ]
  },
  {
   "cell_type": "markdown",
   "metadata": {},
   "source": [
    "# Preparation"
   ]
  },
  {
   "cell_type": "code",
   "execution_count": 2,
   "metadata": {},
   "outputs": [],
   "source": [
    "nb = 51\n",
    "isSmallSet = False\n",
    "length = 200000\n",
    "model_name = 'ridge'"
   ]
  },
  {
   "cell_type": "code",
   "execution_count": 3,
   "metadata": {},
   "outputs": [],
   "source": [
    "pd.set_option('display.max_columns', 200)"
   ]
  },
  {
   "cell_type": "code",
   "execution_count": 4,
   "metadata": {},
   "outputs": [],
   "source": [
    "# use atomic numbers to recode atomic names\n",
    "ATOMIC_NUMBERS = {\n",
    "    'H': 1,\n",
    "    'C': 6,\n",
    "    'N': 7,\n",
    "    'O': 8,\n",
    "    'F': 9\n",
    "}"
   ]
  },
  {
   "cell_type": "code",
   "execution_count": 5,
   "metadata": {},
   "outputs": [
    {
     "data": {
      "text/plain": [
       "['../input/champs-scalar-coupling/scalar_coupling_contributions.csv',\n",
       " '../input/champs-scalar-coupling/magnetic_shielding_tensors.csv',\n",
       " '../input/champs-scalar-coupling/structures.csv',\n",
       " '../input/champs-scalar-coupling/test.csv',\n",
       " '../input/champs-scalar-coupling/dipole_moments.csv',\n",
       " '../input/champs-scalar-coupling/potential_energy.csv',\n",
       " '../input/champs-scalar-coupling/sample_submission.csv',\n",
       " '../input/champs-scalar-coupling/train.csv',\n",
       " '../input/champs-scalar-coupling/nb33_train_dist-interaction.csv',\n",
       " '../input/champs-scalar-coupling/test_ob_charges_V7EstimatioofMullikenChargeswithOpenBabel.csv',\n",
       " '../input/champs-scalar-coupling/nb29_fc_test_feature.csv',\n",
       " '../input/champs-scalar-coupling/train_ob_charges_V7EstimatioofMullikenChargeswithOpenBabel.csv',\n",
       " '../input/champs-scalar-coupling/nb33_test_dist-interaction.csv',\n",
       " '../input/champs-scalar-coupling/mulliken_charges.csv',\n",
       " '../input/champs-scalar-coupling/nb29_fc_train_feature.csv']"
      ]
     },
     "execution_count": 5,
     "metadata": {},
     "output_type": "execute_result"
    }
   ],
   "source": [
    "file_path = '../input/champs-scalar-coupling/'\n",
    "glob.glob(file_path + '*')"
   ]
  },
  {
   "cell_type": "code",
   "execution_count": 6,
   "metadata": {},
   "outputs": [],
   "source": [
    "# train\n",
    "path = file_path + 'train.csv'\n",
    "if isSmallSet:\n",
    "    train = pd.read_csv(path) [:length]\n",
    "else:\n",
    "    train = pd.read_csv(path)"
   ]
  },
  {
   "cell_type": "code",
   "execution_count": 7,
   "metadata": {},
   "outputs": [],
   "source": [
    "# test\n",
    "path = file_path + 'test.csv'\n",
    "if isSmallSet:\n",
    "    test = pd.read_csv(path)[:length]\n",
    "else:\n",
    "    test = pd.read_csv(path)"
   ]
  },
  {
   "cell_type": "code",
   "execution_count": 8,
   "metadata": {},
   "outputs": [],
   "source": [
    "# structure\n",
    "path = file_path + 'structures.csv'\n",
    "structures = pd.read_csv(path)"
   ]
  },
  {
   "cell_type": "code",
   "execution_count": 9,
   "metadata": {},
   "outputs": [],
   "source": [
    "# fc_train\n",
    "path = file_path + 'nb47_fc_train.csv'\n",
    "if isSmallSet:\n",
    "    fc_train = pd.read_csv(path)[:length]\n",
    "else:\n",
    "    fc_train = pd.read_csv(path)"
   ]
  },
  {
   "cell_type": "code",
   "execution_count": 10,
   "metadata": {},
   "outputs": [],
   "source": [
    "# fc_test\n",
    "path = file_path + 'nb47_fc_test.csv'\n",
    "if isSmallSet:\n",
    "    fc_test = pd.read_csv(path)[:length]\n",
    "else:\n",
    "    fc_test = pd.read_csv(path)"
   ]
  },
  {
   "cell_type": "code",
   "execution_count": 11,
   "metadata": {},
   "outputs": [],
   "source": [
    "# train dist-interact\n",
    "path = file_path + 'nb33_train_dist-interaction.csv'\n",
    "if isSmallSet:\n",
    "    dist_interact_train = pd.read_csv(path)[:length]\n",
    "else:\n",
    "    dist_interact_train = pd.read_csv(path)"
   ]
  },
  {
   "cell_type": "code",
   "execution_count": 12,
   "metadata": {},
   "outputs": [],
   "source": [
    "# test dist-interact\n",
    "path = file_path + 'nb33_test_dist-interaction.csv'\n",
    "if isSmallSet:\n",
    "    dist_interact_test = pd.read_csv(path)[:length]\n",
    "else:\n",
    "    dist_interact_test = pd.read_csv(path)"
   ]
  },
  {
   "cell_type": "code",
   "execution_count": 13,
   "metadata": {},
   "outputs": [],
   "source": [
    "# ob charge train\n",
    "path = file_path + 'train_ob_charges_V7EstimatioofMullikenChargeswithOpenBabel.csv'\n",
    "if isSmallSet:\n",
    "    ob_charge_train = pd.read_csv(path)[:length].drop(['Unnamed: 0', 'error'], axis=1)\n",
    "else:\n",
    "    ob_charge_train = pd.read_csv(path).drop(['Unnamed: 0', 'error'], axis=1)"
   ]
  },
  {
   "cell_type": "code",
   "execution_count": 14,
   "metadata": {},
   "outputs": [],
   "source": [
    "# ob charge test\n",
    "path = file_path + 'test_ob_charges_V7EstimatioofMullikenChargeswithOpenBabel.csv'\n",
    "if isSmallSet:\n",
    "    ob_charge_test = pd.read_csv(path)[:length].drop(['Unnamed: 0', 'error'], axis=1)\n",
    "else:\n",
    "    ob_charge_test = pd.read_csv(path).drop(['Unnamed: 0', 'error'], axis=1)"
   ]
  },
  {
   "cell_type": "code",
   "execution_count": 15,
   "metadata": {},
   "outputs": [
    {
     "data": {
      "text/plain": [
       "(2505542, 2505542)"
      ]
     },
     "execution_count": 15,
     "metadata": {},
     "output_type": "execute_result"
    }
   ],
   "source": [
    "len(test), len(fc_test)"
   ]
  },
  {
   "cell_type": "code",
   "execution_count": 16,
   "metadata": {},
   "outputs": [
    {
     "data": {
      "text/plain": [
       "(4658147, 4658147)"
      ]
     },
     "execution_count": 16,
     "metadata": {},
     "output_type": "execute_result"
    }
   ],
   "source": [
    "len(train), len(fc_train)"
   ]
  },
  {
   "cell_type": "code",
   "execution_count": 17,
   "metadata": {},
   "outputs": [
    {
     "name": "stdout",
     "output_type": "stream",
     "text": [
      "There are 4658147 rows in train data.\n",
      "There are 2505542 rows in test data.\n",
      "There are 85003 distinct molecules in train data.\n",
      "There are 45772 distinct molecules in test data.\n",
      "There are 29 unique atoms.\n",
      "There are 8 unique types.\n"
     ]
    }
   ],
   "source": [
    "if isSmallSet:\n",
    "    print('using SmallSet !!')\n",
    "    print('-------------------')\n",
    "\n",
    "print(f'There are {train.shape[0]} rows in train data.')\n",
    "print(f'There are {test.shape[0]} rows in test data.')\n",
    "\n",
    "print(f\"There are {train['molecule_name'].nunique()} distinct molecules in train data.\")\n",
    "print(f\"There are {test['molecule_name'].nunique()} distinct molecules in test data.\")\n",
    "print(f\"There are {train['atom_index_0'].nunique()} unique atoms.\")\n",
    "print(f\"There are {train['type'].nunique()} unique types.\")"
   ]
  },
  {
   "cell_type": "markdown",
   "metadata": {},
   "source": [
    "---\n",
    "## myFunc\n",
    "**metrics**"
   ]
  },
  {
   "cell_type": "code",
   "execution_count": 18,
   "metadata": {},
   "outputs": [],
   "source": [
    "def kaggle_metric(df, preds):\n",
    "    df[\"prediction\"] = preds\n",
    "    maes = []\n",
    "    for t in df.type.unique():\n",
    "        y_true = df[df.type==t].scalar_coupling_constant.values\n",
    "        y_pred = df[df.type==t].prediction.values\n",
    "        mae = np.log(mean_absolute_error(y_true, y_pred))\n",
    "        maes.append(mae)\n",
    "    return np.mean(maes)"
   ]
  },
  {
   "cell_type": "markdown",
   "metadata": {},
   "source": [
    "---\n",
    "**momory**"
   ]
  },
  {
   "cell_type": "code",
   "execution_count": 19,
   "metadata": {},
   "outputs": [],
   "source": [
    "def reduce_mem_usage(df, verbose=True):\n",
    "    numerics = ['int16', 'int32', 'int64', 'float16', 'float32', 'float64']\n",
    "    start_mem = df.memory_usage().sum() / 1024**2\n",
    "    for col in df.columns:\n",
    "        col_type = df[col].dtypes\n",
    "        if col_type in numerics:\n",
    "            c_min = df[col].min()\n",
    "            c_max = df[col].max()\n",
    "            if str(col_type)[:3] == 'int':\n",
    "                if c_min > np.iinfo(np.int8).min and c_max < np.iinfo(np.int8).max:\n",
    "                    df[col] = df[col].astype(np.int8)\n",
    "                elif c_min > np.iinfo(np.int16).min and c_max < np.iinfo(np.int16).max:\n",
    "                    df[col] = df[col].astype(np.int16)\n",
    "                elif c_min > np.iinfo(np.int32).min and c_max < np.iinfo(np.int32).max:\n",
    "                    df[col] = df[col].astype(np.int32)\n",
    "                elif c_min > np.iinfo(np.int64).min and c_max < np.iinfo(np.int64).max:\n",
    "                    df[col] = df[col].astype(np.int64)\n",
    "            else:\n",
    "                c_prec = df[col].apply(lambda x: np.finfo(x).precision).max()\n",
    "                if c_min > np.finfo(np.float16).min and c_max < np.finfo(np.float16).max and c_prec == np.finfo(np.float16).precision:\n",
    "                    df[col] = df[col].astype(np.float16)\n",
    "                elif c_min > np.finfo(np.float32).min and c_max < np.finfo(np.float32).max and c_prec == np.finfo(np.float32).precision:\n",
    "                    df[col] = df[col].astype(np.float32)\n",
    "                else:\n",
    "                    df[col] = df[col].astype(np.float64)\n",
    "    end_mem = df.memory_usage().sum() / 1024**2\n",
    "    if verbose: print('Mem. usage decreased to {:5.2f} Mb ({:.1f}% reduction)'.format(end_mem, 100 * (start_mem - end_mem) / start_mem))\n",
    "    return df"
   ]
  },
  {
   "cell_type": "markdown",
   "metadata": {},
   "source": [
    "# Feature Engineering"
   ]
  },
  {
   "cell_type": "markdown",
   "metadata": {},
   "source": [
    "Build Distance Dataset"
   ]
  },
  {
   "cell_type": "code",
   "execution_count": 20,
   "metadata": {},
   "outputs": [],
   "source": [
    "def build_type_dataframes(base, structures, coupling_type):\n",
    "    base = base[base['type'] == coupling_type].drop('type', axis=1).copy()\n",
    "    base = base.reset_index()\n",
    "    base['id'] = base['id'].astype('int32')\n",
    "    structures = structures[structures['molecule_name'].isin(base['molecule_name'])]\n",
    "    return base, structures\n",
    "\n",
    "# a,b = build_type_dataframes(train, structures, '1JHN')"
   ]
  },
  {
   "cell_type": "code",
   "execution_count": 21,
   "metadata": {},
   "outputs": [],
   "source": [
    "def add_coordinates(base, structures, index):\n",
    "    df = pd.merge(base, structures, how='inner',\n",
    "                  left_on=['molecule_name', f'atom_index_{index}'],\n",
    "                  right_on=['molecule_name', 'atom_index']).drop(['atom_index'], axis=1)\n",
    "    df = df.rename(columns={\n",
    "        'atom': f'atom_{index}',\n",
    "        'x': f'x_{index}',\n",
    "        'y': f'y_{index}',\n",
    "        'z': f'z_{index}'\n",
    "    })\n",
    "    return df"
   ]
  },
  {
   "cell_type": "code",
   "execution_count": 22,
   "metadata": {},
   "outputs": [],
   "source": [
    "def add_atoms(base, atoms):\n",
    "    df = pd.merge(base, atoms, how='inner',\n",
    "                  on=['molecule_name', 'atom_index_0', 'atom_index_1'])\n",
    "    return df"
   ]
  },
  {
   "cell_type": "code",
   "execution_count": 23,
   "metadata": {},
   "outputs": [],
   "source": [
    "def merge_all_atoms(base, structures):\n",
    "    df = pd.merge(base, structures, how='left',\n",
    "                  left_on=['molecule_name'],\n",
    "                  right_on=['molecule_name'])\n",
    "    df = df[(df.atom_index_0 != df.atom_index) & (df.atom_index_1 != df.atom_index)]\n",
    "    return df"
   ]
  },
  {
   "cell_type": "code",
   "execution_count": 24,
   "metadata": {},
   "outputs": [],
   "source": [
    "def add_center(df):\n",
    "    df['x_c'] = ((df['x_1'] + df['x_0']) * np.float32(0.5))\n",
    "    df['y_c'] = ((df['y_1'] + df['y_0']) * np.float32(0.5))\n",
    "    df['z_c'] = ((df['z_1'] + df['z_0']) * np.float32(0.5))\n",
    "\n",
    "def add_distance_to_center(df):\n",
    "    df['d_c'] = ((\n",
    "        (df['x_c'] - df['x'])**np.float32(2) +\n",
    "        (df['y_c'] - df['y'])**np.float32(2) + \n",
    "        (df['z_c'] - df['z'])**np.float32(2)\n",
    "    )**np.float32(0.5))\n",
    "\n",
    "def add_distance_between(df, suffix1, suffix2):\n",
    "    df[f'd_{suffix1}_{suffix2}'] = ((\n",
    "        (df[f'x_{suffix1}'] - df[f'x_{suffix2}'])**np.float32(2) +\n",
    "        (df[f'y_{suffix1}'] - df[f'y_{suffix2}'])**np.float32(2) + \n",
    "        (df[f'z_{suffix1}'] - df[f'z_{suffix2}'])**np.float32(2)\n",
    "    )**np.float32(0.5))"
   ]
  },
  {
   "cell_type": "code",
   "execution_count": 25,
   "metadata": {},
   "outputs": [],
   "source": [
    "def add_distances(df):\n",
    "    n_atoms = 1 + max([int(c.split('_')[1]) for c in df.columns if c.startswith('x_')])\n",
    "    \n",
    "    for i in range(1, n_atoms):\n",
    "        for vi in range(min(4, i)):\n",
    "            add_distance_between(df, i, vi)"
   ]
  },
  {
   "cell_type": "code",
   "execution_count": 26,
   "metadata": {},
   "outputs": [],
   "source": [
    "def add_n_atoms(base, structures):\n",
    "    dfs = structures['molecule_name'].value_counts().rename('n_atoms').to_frame()\n",
    "    return pd.merge(base, dfs, left_on='molecule_name', right_index=True)"
   ]
  },
  {
   "cell_type": "code",
   "execution_count": 27,
   "metadata": {},
   "outputs": [],
   "source": [
    "def build_couple_dataframe(some_csv, structures_csv, coupling_type, n_atoms=10):\n",
    "    base, structures = build_type_dataframes(some_csv, structures_csv, coupling_type)\n",
    "    base = add_coordinates(base, structures, 0)\n",
    "    base = add_coordinates(base, structures, 1)\n",
    "    \n",
    "    base = base.drop(['atom_0', 'atom_1'], axis=1)\n",
    "    atoms = base.drop('id', axis=1).copy()\n",
    "    if 'scalar_coupling_constant' in some_csv:\n",
    "        atoms = atoms.drop(['scalar_coupling_constant'], axis=1)\n",
    "        \n",
    "    add_center(atoms)\n",
    "    atoms = atoms.drop(['x_0', 'y_0', 'z_0', 'x_1', 'y_1', 'z_1'], axis=1)\n",
    "\n",
    "    atoms = merge_all_atoms(atoms, structures)\n",
    "    \n",
    "    add_distance_to_center(atoms)\n",
    "    \n",
    "    atoms = atoms.drop(['x_c', 'y_c', 'z_c', 'atom_index'], axis=1)\n",
    "    atoms.sort_values(['molecule_name', 'atom_index_0', 'atom_index_1', 'd_c'], inplace=True)\n",
    "    atom_groups = atoms.groupby(['molecule_name', 'atom_index_0', 'atom_index_1'])\n",
    "    atoms['num'] = atom_groups.cumcount() + 2\n",
    "    atoms = atoms.drop(['d_c'], axis=1)\n",
    "    atoms = atoms[atoms['num'] < n_atoms]\n",
    "\n",
    "    atoms = atoms.set_index(['molecule_name', 'atom_index_0', 'atom_index_1', 'num']).unstack()\n",
    "    atoms.columns = [f'{col[0]}_{col[1]}' for col in atoms.columns]\n",
    "    atoms = atoms.reset_index()\n",
    "    \n",
    "#     # downcast back to int8\n",
    "    for col in atoms.columns:\n",
    "        if col.startswith('atom_'):\n",
    "            atoms[col] = atoms[col].fillna(0).astype('int8')\n",
    "            \n",
    "#     atoms['molecule_name'] = atoms['molecule_name'].astype('int32')\n",
    "    \n",
    "    full = add_atoms(base, atoms)\n",
    "    add_distances(full)\n",
    "    \n",
    "    full.sort_values('id', inplace=True)\n",
    "    \n",
    "    return full"
   ]
  },
  {
   "cell_type": "code",
   "execution_count": 28,
   "metadata": {},
   "outputs": [],
   "source": [
    "def take_n_atoms(df, n_atoms, four_start=4):\n",
    "    labels = ['id', 'molecule_name', 'atom_index_1', 'atom_index_0']\n",
    "    for i in range(2, n_atoms):\n",
    "        label = f'atom_{i}'\n",
    "        labels.append(label)\n",
    "\n",
    "    for i in range(n_atoms):\n",
    "        num = min(i, 4) if i < four_start else 4\n",
    "        for j in range(num):\n",
    "            labels.append(f'd_{i}_{j}')\n",
    "    if 'scalar_coupling_constant' in df:\n",
    "        labels.append('scalar_coupling_constant')\n",
    "    return df[labels]"
   ]
  },
  {
   "cell_type": "code",
   "execution_count": 29,
   "metadata": {},
   "outputs": [
    {
     "data": {
      "text/html": [
       "\n",
       "    <div>\n",
       "        <style>\n",
       "            /* Turns off some styling */\n",
       "            progress {\n",
       "                /* gets rid of default border in Firefox and Opera. */\n",
       "                border: none;\n",
       "                /* Needs to be in here for Safari polyfill so background images work as expected. */\n",
       "                background-size: auto;\n",
       "            }\n",
       "            .progress-bar-interrupted, .progress-bar-interrupted::-webkit-progress-bar {\n",
       "                background: #F44336;\n",
       "            }\n",
       "        </style>\n",
       "      <progress value='8' class='' max='8', style='width:300px; height:20px; vertical-align: middle;'></progress>\n",
       "      100.00% [8/8 07:02<00:00]\n",
       "    </div>\n",
       "    "
      ],
      "text/plain": [
       "<IPython.core.display.HTML object>"
      ]
     },
     "metadata": {},
     "output_type": "display_data"
    }
   ],
   "source": [
    "atoms = structures['atom'].values\n",
    "types_train = train['type'].values\n",
    "types_test = test['type'].values\n",
    "structures['atom'] = structures['atom'].replace(ATOMIC_NUMBERS).astype('int8')\n",
    "fulls_train = []\n",
    "fulls_test  = []\n",
    "for type_ in progress_bar(train['type'].unique()):\n",
    "    full_train = build_couple_dataframe(train, structures, type_, n_atoms=10)\n",
    "    full_test  = build_couple_dataframe(test, structures, type_, n_atoms=10)\n",
    "    full_train = take_n_atoms(full_train, 10)\n",
    "    full_test  = take_n_atoms(full_test, 10)\n",
    "    fulls_train.append(full_train)\n",
    "    fulls_test.append(full_test)\n",
    "    \n",
    "structures['atom'] = atoms\n",
    "train = pd.concat(fulls_train).sort_values(by=['id']) #, axis=0)\n",
    "test  = pd.concat(fulls_test).sort_values(by=['id']) #, axis=0)\n",
    "train['type'] = types_train\n",
    "test['type'] = types_test\n",
    "train = train.fillna(0)\n",
    "test  = test.fillna(0)"
   ]
  },
  {
   "cell_type": "markdown",
   "metadata": {},
   "source": [
    "<br>\n",
    "<br>\n",
    "dist-interact"
   ]
  },
  {
   "cell_type": "code",
   "execution_count": 30,
   "metadata": {},
   "outputs": [],
   "source": [
    "train['dist_interact'] = dist_interact_train.values\n",
    "test['dist_interact'] = dist_interact_test.values"
   ]
  },
  {
   "cell_type": "markdown",
   "metadata": {},
   "source": [
    "<br>\n",
    "<br>\n",
    "basic"
   ]
  },
  {
   "cell_type": "code",
   "execution_count": 31,
   "metadata": {},
   "outputs": [],
   "source": [
    "def map_atom_info(df_1,df_2, atom_idx):\n",
    "    df = pd.merge(df_1, df_2, how = 'left',\n",
    "                  left_on  = ['molecule_name', f'atom_index_{atom_idx}'],\n",
    "                  right_on = ['molecule_name',  'atom_index'])\n",
    "    df = df.drop('atom_index', axis=1)\n",
    "    return df\n",
    "\n",
    "\n",
    "# structure and ob_charges\n",
    "ob_charge = pd.concat([ob_charge_train, ob_charge_test])\n",
    "merge = pd.merge(ob_charge, structures, how='left',\n",
    "                  left_on  = ['molecule_name', 'atom_index'],\n",
    "                  right_on = ['molecule_name', 'atom_index'])\n",
    "for atom_idx in [0,1]:\n",
    "    train = map_atom_info(train, merge, atom_idx)\n",
    "    test  = map_atom_info(test,  merge, atom_idx)\n",
    "    \n",
    "    train = train.rename(columns={\n",
    "                                        'atom': f'atom_{atom_idx}',\n",
    "                                        'x': f'x_{atom_idx}',\n",
    "                                        'y': f'y_{atom_idx}',\n",
    "                                        'z': f'z_{atom_idx}',\n",
    "                                        'eem': f'eem_{atom_idx}',\n",
    "                                     'mmff94': f'mmff94_{atom_idx}',\n",
    "                                  'gasteiger': f'gasteiger_{atom_idx}', \n",
    "                                        'qeq': f'qeq_{atom_idx}',\n",
    "                                      'qtpie': f'qtpie_{atom_idx}', \n",
    "                                  'eem2015ha': f'eem2015ha_{atom_idx}', \n",
    "                                  'eem2015hm': f'eem2015hm_{atom_idx}', \n",
    "                                  'eem2015hn': f'eem2015hn_{atom_idx}', \n",
    "                                  'eem2015ba': f'eem2015ba_{atom_idx}', \n",
    "                                  'eem2015bm': f'eem2015bm_{atom_idx}', \n",
    "                                  'eem2015bn': f'eem2015bn_{atom_idx}',})\n",
    "    test = test.rename(columns={\n",
    "                                        'atom': f'atom_{atom_idx}',\n",
    "                                        'x': f'x_{atom_idx}',\n",
    "                                        'y': f'y_{atom_idx}',\n",
    "                                        'z': f'z_{atom_idx}',\n",
    "                                        'eem': f'eem_{atom_idx}',\n",
    "                                     'mmff94': f'mmff94_{atom_idx}',\n",
    "                                  'gasteiger': f'gasteiger_{atom_idx}', \n",
    "                                        'qeq': f'qeq_{atom_idx}', \n",
    "                                      'qtpie': f'qtpie_{atom_idx}', \n",
    "                                  'eem2015ha': f'eem2015ha_{atom_idx}', \n",
    "                                  'eem2015hm': f'eem2015hm_{atom_idx}', \n",
    "                                  'eem2015hn': f'eem2015hn_{atom_idx}', \n",
    "                                  'eem2015ba': f'eem2015ba_{atom_idx}', \n",
    "                                  'eem2015bm': f'eem2015bm_{atom_idx}', \n",
    "                                  'eem2015bn': f'eem2015bn_{atom_idx}'})\n",
    "#     test  =  test.rename(columns={'atom': f'atom_{atom_idx}',\n",
    "#                                         'x': f'x_{atom_idx}',\n",
    "#                                         'y': f'y_{atom_idx}',\n",
    "#                                         'z': f'z_{atom_idx}'})\n",
    "\n",
    "# ob_charges\n",
    "# train = map_atom_info(train, ob_charge_train, 0)\n",
    "# test  = map_atom_info(test,  ob_charge_test,  0)\n",
    "# train = map_atom_info(train, ob_charge_train, 1)\n",
    "# test  = map_atom_info(test,  ob_charge_test,  1)"
   ]
  },
  {
   "cell_type": "markdown",
   "metadata": {},
   "source": [
    "<br>\n",
    "<br>\n",
    "type0"
   ]
  },
  {
   "cell_type": "code",
   "execution_count": 32,
   "metadata": {},
   "outputs": [],
   "source": [
    "def create_type0(df):\n",
    "    df['type_0'] = df['type'].apply(lambda x : x[0])\n",
    "    return df\n",
    "# train['type_0'] = train['type'].apply(lambda x: x[0])\n",
    "# test['type_0'] = test['type'].apply(lambda x: x[0])"
   ]
  },
  {
   "cell_type": "markdown",
   "metadata": {},
   "source": [
    "<br>\n",
    "<br>\n",
    "distances"
   ]
  },
  {
   "cell_type": "code",
   "execution_count": 33,
   "metadata": {},
   "outputs": [],
   "source": [
    "def distances(df):\n",
    "    df_p_0 = df[['x_0', 'y_0', 'z_0']].values\n",
    "    df_p_1 = df[['x_1', 'y_1', 'z_1']].values\n",
    "    \n",
    "    df['dist'] = np.linalg.norm(df_p_0 - df_p_1, axis=1)\n",
    "    df['dist_x'] = (df['x_0'] - df['x_1']) ** 2\n",
    "    df['dist_y'] = (df['y_0'] - df['y_1']) ** 2\n",
    "    df['dist_z'] = (df['z_0'] - df['z_1']) ** 2\n",
    "    \n",
    "    return df\n",
    "\n",
    "# train = distances(train)\n",
    "# test  = distances(test)"
   ]
  },
  {
   "cell_type": "markdown",
   "metadata": {},
   "source": [
    "<br>\n",
    "<br>\n",
    "統計量"
   ]
  },
  {
   "cell_type": "code",
   "execution_count": 34,
   "metadata": {},
   "outputs": [],
   "source": [
    "def create_features(df):\n",
    "    df['molecule_couples'] = df.groupby('molecule_name')['id'].transform('count')\n",
    "    df['molecule_dist_mean'] = df.groupby('molecule_name')['dist'].transform('mean')\n",
    "    df['molecule_dist_min'] = df.groupby('molecule_name')['dist'].transform('min')\n",
    "    df['molecule_dist_max'] = df.groupby('molecule_name')['dist'].transform('max')\n",
    "    df['atom_0_couples_count'] = df.groupby(['molecule_name', 'atom_index_0'])['id'].transform('count')\n",
    "    df['atom_1_couples_count'] = df.groupby(['molecule_name', 'atom_index_1'])['id'].transform('count')\n",
    "    df[f'molecule_atom_index_0_x_1_std'] = df.groupby(['molecule_name', 'atom_index_0'])['x_1'].transform('std')\n",
    "    df[f'molecule_atom_index_0_y_1_mean'] = df.groupby(['molecule_name', 'atom_index_0'])['y_1'].transform('mean')\n",
    "    df[f'molecule_atom_index_0_y_1_mean_diff'] = df[f'molecule_atom_index_0_y_1_mean'] - df['y_1']\n",
    "    df[f'molecule_atom_index_0_y_1_mean_div'] = df[f'molecule_atom_index_0_y_1_mean'] / df['y_1']\n",
    "    df[f'molecule_atom_index_0_y_1_max'] = df.groupby(['molecule_name', 'atom_index_0'])['y_1'].transform('max')\n",
    "    df[f'molecule_atom_index_0_y_1_max_diff'] = df[f'molecule_atom_index_0_y_1_max'] - df['y_1']\n",
    "    df[f'molecule_atom_index_0_y_1_std'] = df.groupby(['molecule_name', 'atom_index_0'])['y_1'].transform('std')\n",
    "    df[f'molecule_atom_index_0_z_1_std'] = df.groupby(['molecule_name', 'atom_index_0'])['z_1'].transform('std')\n",
    "    df[f'molecule_atom_index_0_dist_mean'] = df.groupby(['molecule_name', 'atom_index_0'])['dist'].transform('mean')\n",
    "    df[f'molecule_atom_index_0_dist_mean_diff'] = df[f'molecule_atom_index_0_dist_mean'] - df['dist']\n",
    "    df[f'molecule_atom_index_0_dist_mean_div'] = df[f'molecule_atom_index_0_dist_mean'] / df['dist']\n",
    "    df[f'molecule_atom_index_0_dist_max'] = df.groupby(['molecule_name', 'atom_index_0'])['dist'].transform('max')\n",
    "    df[f'molecule_atom_index_0_dist_max_diff'] = df[f'molecule_atom_index_0_dist_max'] - df['dist']\n",
    "    df[f'molecule_atom_index_0_dist_max_div'] = df[f'molecule_atom_index_0_dist_max'] / df['dist']\n",
    "    df[f'molecule_atom_index_0_dist_min'] = df.groupby(['molecule_name', 'atom_index_0'])['dist'].transform('min')\n",
    "    df[f'molecule_atom_index_0_dist_min_diff'] = df[f'molecule_atom_index_0_dist_min'] - df['dist']\n",
    "    df[f'molecule_atom_index_0_dist_min_div'] = df[f'molecule_atom_index_0_dist_min'] / df['dist']\n",
    "    df[f'molecule_atom_index_0_dist_std'] = df.groupby(['molecule_name', 'atom_index_0'])['dist'].transform('std')\n",
    "    df[f'molecule_atom_index_0_dist_std_diff'] = df[f'molecule_atom_index_0_dist_std'] - df['dist']\n",
    "    df[f'molecule_atom_index_0_dist_std_div'] = df[f'molecule_atom_index_0_dist_std'] / df['dist']\n",
    "    df[f'molecule_atom_index_1_dist_mean'] = df.groupby(['molecule_name', 'atom_index_1'])['dist'].transform('mean')\n",
    "    df[f'molecule_atom_index_1_dist_mean_diff'] = df[f'molecule_atom_index_1_dist_mean'] - df['dist']\n",
    "    df[f'molecule_atom_index_1_dist_mean_div'] = df[f'molecule_atom_index_1_dist_mean'] / df['dist']\n",
    "    df[f'molecule_atom_index_1_dist_max'] = df.groupby(['molecule_name', 'atom_index_1'])['dist'].transform('max')\n",
    "    df[f'molecule_atom_index_1_dist_max_diff'] = df[f'molecule_atom_index_1_dist_max'] - df['dist']\n",
    "    df[f'molecule_atom_index_1_dist_max_div'] = df[f'molecule_atom_index_1_dist_max'] / df['dist']\n",
    "    df[f'molecule_atom_index_1_dist_min'] = df.groupby(['molecule_name', 'atom_index_1'])['dist'].transform('min')\n",
    "    df[f'molecule_atom_index_1_dist_min_diff'] = df[f'molecule_atom_index_1_dist_min'] - df['dist']\n",
    "    df[f'molecule_atom_index_1_dist_min_div'] = df[f'molecule_atom_index_1_dist_min'] / df['dist']\n",
    "    df[f'molecule_atom_index_1_dist_std'] = df.groupby(['molecule_name', 'atom_index_1'])['dist'].transform('std')\n",
    "    df[f'molecule_atom_index_1_dist_std_diff'] = df[f'molecule_atom_index_1_dist_std'] - df['dist']\n",
    "    df[f'molecule_atom_index_1_dist_std_div'] = df[f'molecule_atom_index_1_dist_std'] / df['dist']\n",
    "    df[f'molecule_atom_1_dist_mean'] = df.groupby(['molecule_name', 'atom_1'])['dist'].transform('mean')\n",
    "    df[f'molecule_atom_1_dist_min'] = df.groupby(['molecule_name', 'atom_1'])['dist'].transform('min')\n",
    "    df[f'molecule_atom_1_dist_min_diff'] = df[f'molecule_atom_1_dist_min'] - df['dist']\n",
    "    df[f'molecule_atom_1_dist_min_div'] = df[f'molecule_atom_1_dist_min'] / df['dist']\n",
    "    df[f'molecule_atom_1_dist_std'] = df.groupby(['molecule_name', 'atom_1'])['dist'].transform('std')\n",
    "    df[f'molecule_atom_1_dist_std_diff'] = df[f'molecule_atom_1_dist_std'] - df['dist']\n",
    "    df[f'molecule_type_0_dist_std'] = df.groupby(['molecule_name', 'type_0'])['dist'].transform('std')\n",
    "    df[f'molecule_type_0_dist_std_diff'] = df[f'molecule_type_0_dist_std'] - df['dist']\n",
    "    df[f'molecule_type_dist_mean'] = df.groupby(['molecule_name', 'type'])['dist'].transform('mean')\n",
    "    df[f'molecule_type_dist_mean_diff'] = df[f'molecule_type_dist_mean'] - df['dist']\n",
    "    df[f'molecule_type_dist_mean_div'] = df[f'molecule_type_dist_mean'] / df['dist']\n",
    "    df[f'molecule_type_dist_max'] = df.groupby(['molecule_name', 'type'])['dist'].transform('max')\n",
    "    df[f'molecule_type_dist_min'] = df.groupby(['molecule_name', 'type'])['dist'].transform('min')\n",
    "    df[f'molecule_type_dist_std'] = df.groupby(['molecule_name', 'type'])['dist'].transform('std')\n",
    "    df[f'molecule_type_dist_std_diff'] = df[f'molecule_type_dist_std'] - df['dist']\n",
    "    # fc\n",
    "    df[f'molecule_type_fc_max'] = df.groupby(['molecule_name', 'type'])['fc'].transform('max')\n",
    "    df[f'molecule_type_fc_min'] = df.groupby(['molecule_name', 'type'])['fc'].transform('min')\n",
    "    df[f'molecule_type_fc_std'] = df.groupby(['molecule_name', 'type'])['fc'].transform('std')\n",
    "    df[f'molecule_type_fc_std_diff'] = df[f'molecule_type_fc_std'] - df['fc']\n",
    "    return df"
   ]
  },
  {
   "cell_type": "markdown",
   "metadata": {},
   "source": [
    "angle features"
   ]
  },
  {
   "cell_type": "code",
   "execution_count": 35,
   "metadata": {},
   "outputs": [],
   "source": [
    "def map_atom_info(df_1,df_2, atom_idx):\n",
    "    df = pd.merge(df_1, df_2, how = 'left',\n",
    "                  left_on  = ['molecule_name', f'atom_index_{atom_idx}'],\n",
    "                  right_on = ['molecule_name',  'atom_index'])\n",
    "    df = df.drop('atom_index', axis=1)\n",
    "\n",
    "    return df\n",
    "\n",
    "def create_closest(df):\n",
    "    df_temp=df.loc[:,[\"molecule_name\",\"atom_index_0\",\"atom_index_1\",\"dist\",\"x_0\",\"y_0\",\"z_0\",\"x_1\",\"y_1\",\"z_1\"]].copy()\n",
    "    df_temp_=df_temp.copy()\n",
    "    df_temp_= df_temp_.rename(columns={'atom_index_0': 'atom_index_1',\n",
    "                                       'atom_index_1': 'atom_index_0',\n",
    "                                       'x_0': 'x_1',\n",
    "                                       'y_0': 'y_1',\n",
    "                                       'z_0': 'z_1',\n",
    "                                       'x_1': 'x_0',\n",
    "                                       'y_1': 'y_0',\n",
    "                                       'z_1': 'z_0'})\n",
    "    df_temp=pd.concat(objs=[df_temp,df_temp_],axis=0)\n",
    "\n",
    "    df_temp[\"min_distance\"]=df_temp.groupby(['molecule_name', 'atom_index_0'])['dist'].transform('min')\n",
    "    df_temp= df_temp[df_temp[\"min_distance\"]==df_temp[\"dist\"]]\n",
    "\n",
    "    df_temp=df_temp.drop(['x_0','y_0','z_0','min_distance', 'dist'], axis=1)\n",
    "    df_temp= df_temp.rename(columns={'atom_index_0': 'atom_index',\n",
    "                                     'atom_index_1': 'atom_index_closest',\n",
    "                                     'distance': 'distance_closest',\n",
    "                                     'x_1': 'x_closest',\n",
    "                                     'y_1': 'y_closest',\n",
    "                                     'z_1': 'z_closest'})\n",
    "\n",
    "    for atom_idx in [0,1]:\n",
    "        df = map_atom_info(df,df_temp, atom_idx)\n",
    "        df = df.rename(columns={'atom_index_closest': f'atom_index_closest_{atom_idx}',\n",
    "                                        'distance_closest': f'distance_closest_{atom_idx}',\n",
    "                                        'x_closest': f'x_closest_{atom_idx}',\n",
    "                                        'y_closest': f'y_closest_{atom_idx}',\n",
    "                                        'z_closest': f'z_closest_{atom_idx}'})\n",
    "    return df\n",
    "\n",
    "def add_cos_features(df):\n",
    "    df[\"distance_0\"]=((df['x_0']-df['x_closest_0'])**2+(df['y_0']-df['y_closest_0'])**2+(df['z_0']-df['z_closest_0'])**2)**(1/2)\n",
    "    df[\"distance_1\"]=((df['x_1']-df['x_closest_1'])**2+(df['y_1']-df['y_closest_1'])**2+(df['z_1']-df['z_closest_1'])**2)**(1/2)\n",
    "    df[\"vec_0_x\"]=(df['x_0']-df['x_closest_0'])/df[\"distance_0\"]\n",
    "    df[\"vec_0_y\"]=(df['y_0']-df['y_closest_0'])/df[\"distance_0\"]\n",
    "    df[\"vec_0_z\"]=(df['z_0']-df['z_closest_0'])/df[\"distance_0\"]\n",
    "    df[\"vec_1_x\"]=(df['x_1']-df['x_closest_1'])/df[\"distance_1\"]\n",
    "    df[\"vec_1_y\"]=(df['y_1']-df['y_closest_1'])/df[\"distance_1\"]\n",
    "    df[\"vec_1_z\"]=(df['z_1']-df['z_closest_1'])/df[\"distance_1\"]\n",
    "    df[\"vec_x\"]=(df['x_1']-df['x_0'])/df[\"dist\"]\n",
    "    df[\"vec_y\"]=(df['y_1']-df['y_0'])/df[\"dist\"]\n",
    "    df[\"vec_z\"]=(df['z_1']-df['z_0'])/df[\"dist\"]\n",
    "    df[\"cos_0_1\"]=df[\"vec_0_x\"]*df[\"vec_1_x\"]+df[\"vec_0_y\"]*df[\"vec_1_y\"]+df[\"vec_0_z\"]*df[\"vec_1_z\"]\n",
    "    df[\"cos_0\"]=df[\"vec_0_x\"]*df[\"vec_x\"]+df[\"vec_0_y\"]*df[\"vec_y\"]+df[\"vec_0_z\"]*df[\"vec_z\"]\n",
    "    df[\"cos_1\"]=df[\"vec_1_x\"]*df[\"vec_x\"]+df[\"vec_1_y\"]*df[\"vec_y\"]+df[\"vec_1_z\"]*df[\"vec_z\"]\n",
    "    df=df.drop(['vec_0_x','vec_0_y','vec_0_z','vec_1_x','vec_1_y','vec_1_z','vec_x','vec_y','vec_z'], axis=1)\n",
    "    return df\n",
    "\n"
   ]
  },
  {
   "cell_type": "code",
   "execution_count": 36,
   "metadata": {},
   "outputs": [
    {
     "name": "stdout",
     "output_type": "stream",
     "text": [
      "add fc\n",
      "4658147 2505542\n",
      "type0\n",
      "4658147 2505542\n",
      "distances\n",
      "4658147 2505542\n",
      "create_featueres\n",
      "4658147 2505542\n",
      "create_closest\n",
      "4658147 2505542\n",
      "add_cos_features\n",
      "4658147 2505542\n",
      "CPU times: user 2min 24s, sys: 3min 41s, total: 6min 5s\n",
      "Wall time: 6min 5s\n"
     ]
    }
   ],
   "source": [
    "%%time\n",
    "\n",
    "print('add fc')\n",
    "print(len(train), len(test))\n",
    "train['fc'] = fc_train.values\n",
    "test['fc']  = fc_test.values\n",
    "\n",
    "print('type0')\n",
    "print(len(train), len(test))\n",
    "train = create_type0(train)\n",
    "test  = create_type0(test)\n",
    "\n",
    "print('distances')\n",
    "print(len(train), len(test))\n",
    "train = distances(train)\n",
    "test  = distances(test)\n",
    "\n",
    "print('create_featueres')\n",
    "print(len(train), len(test))\n",
    "train = create_features(train)\n",
    "test  = create_features(test)\n",
    "\n",
    "print('create_closest')\n",
    "print(len(train), len(test))\n",
    "train = create_closest(train)\n",
    "test  = create_closest(test)\n",
    "train.drop_duplicates(inplace=True, subset=['id'])   # なぜかtrainの行数が増えるバグが発生\n",
    "train = train.reset_index(drop=True)\n",
    "\n",
    "print('add_cos_features')\n",
    "print(len(train), len(test))\n",
    "train = add_cos_features(train)\n",
    "test  = add_cos_features(test)"
   ]
  },
  {
   "cell_type": "markdown",
   "metadata": {},
   "source": [
    "---\n",
    "<br>\n",
    "<br>\n",
    "<br>\n",
    "nanがある特徴量を削除"
   ]
  },
  {
   "cell_type": "code",
   "execution_count": 37,
   "metadata": {},
   "outputs": [
    {
     "data": {
      "text/plain": [
       "array(['dist_interact', 'molecule_atom_index_0_x_1_std',\n",
       "       'molecule_atom_index_0_y_1_mean_div',\n",
       "       'molecule_atom_index_0_y_1_std', 'molecule_atom_index_0_z_1_std',\n",
       "       'molecule_atom_index_0_dist_std',\n",
       "       'molecule_atom_index_0_dist_std_diff',\n",
       "       'molecule_atom_index_0_dist_std_div',\n",
       "       'molecule_atom_index_1_dist_std',\n",
       "       'molecule_atom_index_1_dist_std_diff',\n",
       "       'molecule_atom_index_1_dist_std_div', 'molecule_atom_1_dist_std',\n",
       "       'molecule_atom_1_dist_std_diff', 'molecule_type_0_dist_std',\n",
       "       'molecule_type_0_dist_std_diff', 'molecule_type_dist_std',\n",
       "       'molecule_type_dist_std_diff', 'molecule_type_fc_std',\n",
       "       'molecule_type_fc_std_diff'], dtype=object)"
      ]
     },
     "execution_count": 37,
     "metadata": {},
     "output_type": "execute_result"
    }
   ],
   "source": [
    "drop_feats = train.columns[train.isnull().sum(axis=0) != 0].values\n",
    "drop_feats"
   ]
  },
  {
   "cell_type": "code",
   "execution_count": 38,
   "metadata": {},
   "outputs": [],
   "source": [
    "train = train.drop(drop_feats, axis=1)\n",
    "test  = test.drop(drop_feats, axis=1)\n",
    "\n",
    "assert sum(train.isnull().sum(axis=0))==0, f'train に nan があります。'\n",
    "assert sum(test.isnull().sum(axis=0))==0,  f'test に nan があります。'"
   ]
  },
  {
   "cell_type": "markdown",
   "metadata": {},
   "source": [
    "<br>\n",
    "<br>\n",
    "<br>\n",
    "エンコーディング"
   ]
  },
  {
   "cell_type": "code",
   "execution_count": 39,
   "metadata": {},
   "outputs": [
    {
     "name": "stdout",
     "output_type": "stream",
     "text": [
      "カテゴリカル: ['atom_1']\n",
      "数値:        ['distance_0', 'molecule_dist_min', 'z_closest_0', 'eem2015bm_0', 'gasteiger_1', 'dist_y', 'molecule_type_dist_min', 'd_9_0', 'd_8_3', 'cos_0_1', 'y_closest_1', 'd_2_1', 'atom_index_closest_0', 'z_closest_1', 'molecule_type_dist_max', 'd_4_1', 'eem2015hn_0', 'd_8_1', 'molecule_atom_index_0_y_1_mean_diff', 'molecule_atom_index_1_dist_mean_diff', 'cos_1', 'molecule_atom_index_0_y_1_mean', 'molecule_atom_index_0_dist_mean_diff', 'eem2015bm_1', 'd_7_1', 'molecule_atom_index_0_dist_max_diff', 'atom_index_1', 'molecule_atom_index_0_dist_mean', 'atom_0_couples_count', 'qeq_1', 'eem2015ha_0', 'molecule_atom_index_0_dist_max', 'd_2_0', 'eem2015ba_0', 'molecule_type_fc_max', 'd_3_0', 'eem_0', 'molecule_atom_index_0_dist_min_diff', 'eem_1', 'd_5_2', 'type_0', 'dist_x', 'x_closest_0', 'd_4_0', 'distance_1', 'molecule_atom_index_1_dist_mean_div', 'd_8_0', 'd_9_3', 'd_5_3', 'molecule_atom_index_0_dist_max_div', 'd_7_2', 'd_4_3', 'molecule_atom_1_dist_mean', 'molecule_atom_1_dist_min', 'qtpie_1', 'molecule_atom_1_dist_min_diff', 'd_7_3', 'molecule_type_fc_min', 'molecule_atom_index_1_dist_max_diff', 'molecule_atom_index_1_dist_max_div', 'molecule_dist_mean', 'mmff94_1', 'd_5_1', 'eem2015hm_0', 'fc', 'eem2015ba_1', 'molecule_atom_index_0_dist_min_div', 'd_9_2', 'eem2015bn_0', 'gasteiger_0', 'd_6_2', 'molecule_dist_max', 'molecule_atom_index_1_dist_max', 'eem2015bn_1', 'eem2015hn_1', 'd_1_0', 'd_3_2', 'molecule_atom_1_dist_min_div', 'molecule_type_dist_mean_diff', 'molecule_atom_index_0_y_1_max_diff', 'y_0', 'molecule_atom_index_0_dist_min', 'atom_index_closest_1', 'atom_1_couples_count', 'dist_z', 'x_0', 'd_4_2', 'molecule_atom_index_1_dist_min', 'd_8_2', 'd_6_1', 'y_1', 'mmff94_0', 'y_closest_0', 'd_6_0', 'z_1', 'd_5_0', 'x_1', 'eem2015hm_1', 'molecule_atom_index_1_dist_mean', 'd_6_3', 'cos_0', 'd_7_0', 'molecule_atom_index_1_dist_min_div', 'molecule_type_dist_mean', 'x_closest_1', 'atom_index_0', 'qtpie_0', 'dist', 'molecule_atom_index_0_dist_mean_div', 'molecule_atom_index_0_y_1_max', 'd_9_1', 'z_0', 'qeq_0', 'molecule_couples', 'd_3_1', 'eem2015ha_1', 'molecule_type_dist_mean_div', 'molecule_atom_index_1_dist_min_diff']\n"
     ]
    }
   ],
   "source": [
    "cat_cols = ['atom_1']\n",
    "num_cols = list(set(train.columns) - set(cat_cols) - set(['type', \"scalar_coupling_constant\", 'molecule_name', 'id',\n",
    "                                                          'atom_0', 'atom_1','atom_2', 'atom_3', 'atom_4', 'atom_5', 'atom_6', 'atom_7', 'atom_8', 'atom_9']))\n",
    "                \n",
    "print(f'カテゴリカル: {cat_cols}')\n",
    "print(f'数値:        {num_cols}')"
   ]
  },
  {
   "cell_type": "markdown",
   "metadata": {},
   "source": [
    "<br>\n",
    "<br>\n",
    "LabelEncode\n",
    "\n",
    "- `atom_1` = {H, C, N}\n",
    "- `type_0` = {1, 2, 3}\n",
    "- `type`   = {2JHC, ...}"
   ]
  },
  {
   "cell_type": "code",
   "execution_count": 40,
   "metadata": {},
   "outputs": [],
   "source": [
    "for f in ['type_0', 'type']:\n",
    "    if f in train.columns:\n",
    "        lbl = LabelEncoder()\n",
    "        lbl.fit(list(train[f].values) + list(test[f].values))\n",
    "        train[f] = lbl.transform(list(train[f].values))\n",
    "        test[f] = lbl.transform(list(test[f].values))"
   ]
  },
  {
   "cell_type": "markdown",
   "metadata": {},
   "source": [
    "<br>\n",
    "<br>\n",
    "<br>\n",
    "one hot encoding"
   ]
  },
  {
   "cell_type": "code",
   "execution_count": 41,
   "metadata": {},
   "outputs": [],
   "source": [
    "train = pd.get_dummies(train, columns=cat_cols)\n",
    "test  = pd.get_dummies(test,  columns=cat_cols)"
   ]
  },
  {
   "cell_type": "markdown",
   "metadata": {},
   "source": [
    "<br>\n",
    "<br>\n",
    "<br>\n",
    "標準化"
   ]
  },
  {
   "cell_type": "code",
   "execution_count": 42,
   "metadata": {},
   "outputs": [],
   "source": [
    "scaler = StandardScaler()\n",
    "train[num_cols] = scaler.fit_transform(train[num_cols])\n",
    "test[num_cols] = scaler.transform(test[num_cols])"
   ]
  },
  {
   "cell_type": "markdown",
   "metadata": {},
   "source": [
    "<br>\n",
    "<br>\n",
    "\n",
    "---\n",
    "**show features**"
   ]
  },
  {
   "cell_type": "code",
   "execution_count": 43,
   "metadata": {},
   "outputs": [
    {
     "data": {
      "text/html": [
       "<div>\n",
       "<style scoped>\n",
       "    .dataframe tbody tr th:only-of-type {\n",
       "        vertical-align: middle;\n",
       "    }\n",
       "\n",
       "    .dataframe tbody tr th {\n",
       "        vertical-align: top;\n",
       "    }\n",
       "\n",
       "    .dataframe thead th {\n",
       "        text-align: right;\n",
       "    }\n",
       "</style>\n",
       "<table border=\"1\" class=\"dataframe\">\n",
       "  <thead>\n",
       "    <tr style=\"text-align: right;\">\n",
       "      <th></th>\n",
       "      <th>id</th>\n",
       "      <th>molecule_name</th>\n",
       "      <th>atom_index_1</th>\n",
       "      <th>atom_index_0</th>\n",
       "      <th>atom_2</th>\n",
       "      <th>atom_3</th>\n",
       "      <th>atom_4</th>\n",
       "      <th>atom_5</th>\n",
       "      <th>atom_6</th>\n",
       "      <th>atom_7</th>\n",
       "      <th>atom_8</th>\n",
       "      <th>atom_9</th>\n",
       "      <th>d_1_0</th>\n",
       "      <th>d_2_0</th>\n",
       "      <th>d_2_1</th>\n",
       "      <th>d_3_0</th>\n",
       "      <th>d_3_1</th>\n",
       "      <th>d_3_2</th>\n",
       "      <th>d_4_0</th>\n",
       "      <th>d_4_1</th>\n",
       "      <th>d_4_2</th>\n",
       "      <th>d_4_3</th>\n",
       "      <th>d_5_0</th>\n",
       "      <th>d_5_1</th>\n",
       "      <th>d_5_2</th>\n",
       "      <th>d_5_3</th>\n",
       "      <th>d_6_0</th>\n",
       "      <th>d_6_1</th>\n",
       "      <th>d_6_2</th>\n",
       "      <th>d_6_3</th>\n",
       "      <th>d_7_0</th>\n",
       "      <th>d_7_1</th>\n",
       "      <th>d_7_2</th>\n",
       "      <th>d_7_3</th>\n",
       "      <th>d_8_0</th>\n",
       "      <th>d_8_1</th>\n",
       "      <th>d_8_2</th>\n",
       "      <th>d_8_3</th>\n",
       "      <th>d_9_0</th>\n",
       "      <th>d_9_1</th>\n",
       "      <th>d_9_2</th>\n",
       "      <th>d_9_3</th>\n",
       "      <th>scalar_coupling_constant</th>\n",
       "      <th>type</th>\n",
       "      <th>eem_0</th>\n",
       "      <th>mmff94_0</th>\n",
       "      <th>gasteiger_0</th>\n",
       "      <th>qeq_0</th>\n",
       "      <th>qtpie_0</th>\n",
       "      <th>eem2015ha_0</th>\n",
       "      <th>eem2015hm_0</th>\n",
       "      <th>eem2015hn_0</th>\n",
       "      <th>eem2015ba_0</th>\n",
       "      <th>eem2015bm_0</th>\n",
       "      <th>eem2015bn_0</th>\n",
       "      <th>atom_0</th>\n",
       "      <th>x_0</th>\n",
       "      <th>y_0</th>\n",
       "      <th>z_0</th>\n",
       "      <th>eem_1</th>\n",
       "      <th>mmff94_1</th>\n",
       "      <th>gasteiger_1</th>\n",
       "      <th>qeq_1</th>\n",
       "      <th>qtpie_1</th>\n",
       "      <th>eem2015ha_1</th>\n",
       "      <th>eem2015hm_1</th>\n",
       "      <th>eem2015hn_1</th>\n",
       "      <th>eem2015ba_1</th>\n",
       "      <th>eem2015bm_1</th>\n",
       "      <th>eem2015bn_1</th>\n",
       "      <th>x_1</th>\n",
       "      <th>y_1</th>\n",
       "      <th>z_1</th>\n",
       "      <th>fc</th>\n",
       "      <th>type_0</th>\n",
       "      <th>dist</th>\n",
       "      <th>dist_x</th>\n",
       "      <th>dist_y</th>\n",
       "      <th>dist_z</th>\n",
       "      <th>molecule_couples</th>\n",
       "      <th>molecule_dist_mean</th>\n",
       "      <th>molecule_dist_min</th>\n",
       "      <th>molecule_dist_max</th>\n",
       "      <th>atom_0_couples_count</th>\n",
       "      <th>atom_1_couples_count</th>\n",
       "      <th>molecule_atom_index_0_y_1_mean</th>\n",
       "      <th>molecule_atom_index_0_y_1_mean_diff</th>\n",
       "      <th>molecule_atom_index_0_y_1_max</th>\n",
       "      <th>molecule_atom_index_0_y_1_max_diff</th>\n",
       "      <th>molecule_atom_index_0_dist_mean</th>\n",
       "      <th>molecule_atom_index_0_dist_mean_diff</th>\n",
       "      <th>molecule_atom_index_0_dist_mean_div</th>\n",
       "      <th>molecule_atom_index_0_dist_max</th>\n",
       "      <th>molecule_atom_index_0_dist_max_diff</th>\n",
       "      <th>molecule_atom_index_0_dist_max_div</th>\n",
       "      <th>molecule_atom_index_0_dist_min</th>\n",
       "      <th>molecule_atom_index_0_dist_min_diff</th>\n",
       "      <th>molecule_atom_index_0_dist_min_div</th>\n",
       "      <th>molecule_atom_index_1_dist_mean</th>\n",
       "      <th>molecule_atom_index_1_dist_mean_diff</th>\n",
       "      <th>molecule_atom_index_1_dist_mean_div</th>\n",
       "      <th>molecule_atom_index_1_dist_max</th>\n",
       "      <th>molecule_atom_index_1_dist_max_diff</th>\n",
       "      <th>molecule_atom_index_1_dist_max_div</th>\n",
       "      <th>molecule_atom_index_1_dist_min</th>\n",
       "      <th>molecule_atom_index_1_dist_min_diff</th>\n",
       "      <th>molecule_atom_index_1_dist_min_div</th>\n",
       "      <th>molecule_atom_1_dist_mean</th>\n",
       "      <th>molecule_atom_1_dist_min</th>\n",
       "      <th>molecule_atom_1_dist_min_diff</th>\n",
       "      <th>molecule_atom_1_dist_min_div</th>\n",
       "      <th>molecule_type_dist_mean</th>\n",
       "      <th>molecule_type_dist_mean_diff</th>\n",
       "      <th>molecule_type_dist_mean_div</th>\n",
       "      <th>molecule_type_dist_max</th>\n",
       "      <th>molecule_type_dist_min</th>\n",
       "      <th>molecule_type_fc_max</th>\n",
       "      <th>molecule_type_fc_min</th>\n",
       "      <th>atom_index_closest_0</th>\n",
       "      <th>x_closest_0</th>\n",
       "      <th>y_closest_0</th>\n",
       "      <th>z_closest_0</th>\n",
       "      <th>atom_index_closest_1</th>\n",
       "      <th>x_closest_1</th>\n",
       "      <th>y_closest_1</th>\n",
       "      <th>z_closest_1</th>\n",
       "      <th>distance_0</th>\n",
       "      <th>distance_1</th>\n",
       "      <th>cos_0_1</th>\n",
       "      <th>cos_0</th>\n",
       "      <th>cos_1</th>\n",
       "      <th>atom_1_C</th>\n",
       "      <th>atom_1_H</th>\n",
       "      <th>atom_1_N</th>\n",
       "    </tr>\n",
       "  </thead>\n",
       "  <tbody>\n",
       "    <tr>\n",
       "      <th>0</th>\n",
       "      <td>0</td>\n",
       "      <td>dsgdb9nsd_000001</td>\n",
       "      <td>-1.178221</td>\n",
       "      <td>-3.78151</td>\n",
       "      <td>1</td>\n",
       "      <td>1</td>\n",
       "      <td>1</td>\n",
       "      <td>0</td>\n",
       "      <td>0</td>\n",
       "      <td>0</td>\n",
       "      <td>0</td>\n",
       "      <td>0</td>\n",
       "      <td>-1.722482</td>\n",
       "      <td>0.388287</td>\n",
       "      <td>-1.11985</td>\n",
       "      <td>-0.066678</td>\n",
       "      <td>-1.266758</td>\n",
       "      <td>0.332310</td>\n",
       "      <td>-1.088616</td>\n",
       "      <td>-1.598243</td>\n",
       "      <td>-0.111521</td>\n",
       "      <td>-0.652012</td>\n",
       "      <td>-5.227948</td>\n",
       "      <td>-3.789738</td>\n",
       "      <td>-3.342599</td>\n",
       "      <td>-2.952238</td>\n",
       "      <td>-5.126057</td>\n",
       "      <td>-3.493791</td>\n",
       "      <td>-3.695558</td>\n",
       "      <td>-3.032618</td>\n",
       "      <td>-5.074233</td>\n",
       "      <td>-3.479619</td>\n",
       "      <td>-3.945181</td>\n",
       "      <td>-3.10861</td>\n",
       "      <td>-4.931235</td>\n",
       "      <td>-3.495262</td>\n",
       "      <td>-4.221123</td>\n",
       "      <td>-3.280988</td>\n",
       "      <td>-4.76834</td>\n",
       "      <td>-3.498921</td>\n",
       "      <td>-4.187851</td>\n",
       "      <td>-3.417919</td>\n",
       "      <td>84.8076</td>\n",
       "      <td>0</td>\n",
       "      <td>0.003097</td>\n",
       "      <td>-0.499733</td>\n",
       "      <td>-0.95708</td>\n",
       "      <td>-1.643398</td>\n",
       "      <td>1.849851</td>\n",
       "      <td>-0.677666</td>\n",
       "      <td>-0.464362</td>\n",
       "      <td>-0.12988</td>\n",
       "      <td>-0.631483</td>\n",
       "      <td>-0.51689</td>\n",
       "      <td>-0.06599</td>\n",
       "      <td>H</td>\n",
       "      <td>-0.05894</td>\n",
       "      <td>0.101017</td>\n",
       "      <td>-0.028861</td>\n",
       "      <td>-2.353258</td>\n",
       "      <td>-0.134371</td>\n",
       "      <td>-0.590919</td>\n",
       "      <td>2.500747</td>\n",
       "      <td>-2.627887</td>\n",
       "      <td>-0.220396</td>\n",
       "      <td>-2.200383</td>\n",
       "      <td>-2.429677</td>\n",
       "      <td>-0.423880</td>\n",
       "      <td>-2.000200</td>\n",
       "      <td>-2.638834</td>\n",
       "      <td>-0.074536</td>\n",
       "      <td>0.838296</td>\n",
       "      <td>-0.055483</td>\n",
       "      <td>1.972632</td>\n",
       "      <td>-1.798918</td>\n",
       "      <td>-1.722482</td>\n",
       "      <td>-0.842808</td>\n",
       "      <td>-0.418014</td>\n",
       "      <td>-0.830647</td>\n",
       "      <td>-2.643476</td>\n",
       "      <td>-8.777103</td>\n",
       "      <td>0.842387</td>\n",
       "      <td>-17.88846</td>\n",
       "      <td>-1.459968</td>\n",
       "      <td>-0.669045</td>\n",
       "      <td>1.177064</td>\n",
       "      <td>0.287480</td>\n",
       "      <td>0.297533</td>\n",
       "      <td>-0.954755</td>\n",
       "      <td>-4.628945</td>\n",
       "      <td>0.721347</td>\n",
       "      <td>0.709285</td>\n",
       "      <td>-6.26685</td>\n",
       "      <td>-0.315382</td>\n",
       "      <td>0.067509</td>\n",
       "      <td>-0.129872</td>\n",
       "      <td>1.685214</td>\n",
       "      <td>2.044783</td>\n",
       "      <td>-3.476210</td>\n",
       "      <td>-5.328889e-06</td>\n",
       "      <td>-0.257917</td>\n",
       "      <td>-3.776544</td>\n",
       "      <td>-0.987157</td>\n",
       "      <td>-0.717324</td>\n",
       "      <td>-0.767633</td>\n",
       "      <td>1.022706</td>\n",
       "      <td>1.092896</td>\n",
       "      <td>-8.015849</td>\n",
       "      <td>-0.502064</td>\n",
       "      <td>1.393794</td>\n",
       "      <td>1.577591</td>\n",
       "      <td>-1.790897</td>\n",
       "      <td>-0.000017</td>\n",
       "      <td>-0.068309</td>\n",
       "      <td>-1.689915</td>\n",
       "      <td>-1.876405</td>\n",
       "      <td>1.482137</td>\n",
       "      <td>2.350283</td>\n",
       "      <td>-1.335143</td>\n",
       "      <td>-0.080287</td>\n",
       "      <td>0.726164</td>\n",
       "      <td>-0.046094</td>\n",
       "      <td>-1.666440</td>\n",
       "      <td>-0.373139</td>\n",
       "      <td>0.914106</td>\n",
       "      <td>-0.621105</td>\n",
       "      <td>-0.129872</td>\n",
       "      <td>-0.490764</td>\n",
       "      <td>0.698087</td>\n",
       "      <td>-1.215360</td>\n",
       "      <td>-0.661580</td>\n",
       "      <td>1</td>\n",
       "      <td>0</td>\n",
       "      <td>0</td>\n",
       "    </tr>\n",
       "    <tr>\n",
       "      <th>1</th>\n",
       "      <td>1</td>\n",
       "      <td>dsgdb9nsd_000001</td>\n",
       "      <td>-0.777735</td>\n",
       "      <td>-3.78151</td>\n",
       "      <td>6</td>\n",
       "      <td>1</td>\n",
       "      <td>1</td>\n",
       "      <td>0</td>\n",
       "      <td>0</td>\n",
       "      <td>0</td>\n",
       "      <td>0</td>\n",
       "      <td>0</td>\n",
       "      <td>-0.784301</td>\n",
       "      <td>-0.973078</td>\n",
       "      <td>-1.11985</td>\n",
       "      <td>-0.066662</td>\n",
       "      <td>-0.057485</td>\n",
       "      <td>-1.450712</td>\n",
       "      <td>-1.088637</td>\n",
       "      <td>-0.314878</td>\n",
       "      <td>-1.420969</td>\n",
       "      <td>-0.652012</td>\n",
       "      <td>-5.227948</td>\n",
       "      <td>-3.789738</td>\n",
       "      <td>-3.342599</td>\n",
       "      <td>-2.952238</td>\n",
       "      <td>-5.126057</td>\n",
       "      <td>-3.493791</td>\n",
       "      <td>-3.695558</td>\n",
       "      <td>-3.032618</td>\n",
       "      <td>-5.074233</td>\n",
       "      <td>-3.479619</td>\n",
       "      <td>-3.945181</td>\n",
       "      <td>-3.10861</td>\n",
       "      <td>-4.931235</td>\n",
       "      <td>-3.495262</td>\n",
       "      <td>-4.221123</td>\n",
       "      <td>-3.280988</td>\n",
       "      <td>-4.76834</td>\n",
       "      <td>-3.498921</td>\n",
       "      <td>-4.187851</td>\n",
       "      <td>-3.417919</td>\n",
       "      <td>-11.2570</td>\n",
       "      <td>3</td>\n",
       "      <td>0.003097</td>\n",
       "      <td>-0.499733</td>\n",
       "      <td>-0.95708</td>\n",
       "      <td>-1.643398</td>\n",
       "      <td>1.849851</td>\n",
       "      <td>-0.677666</td>\n",
       "      <td>-0.464362</td>\n",
       "      <td>-0.12988</td>\n",
       "      <td>-0.631483</td>\n",
       "      <td>-0.51689</td>\n",
       "      <td>-0.06599</td>\n",
       "      <td>H</td>\n",
       "      <td>-0.05894</td>\n",
       "      <td>0.101017</td>\n",
       "      <td>-0.028861</td>\n",
       "      <td>0.849271</td>\n",
       "      <td>-0.134371</td>\n",
       "      <td>0.191466</td>\n",
       "      <td>-0.684059</td>\n",
       "      <td>0.717267</td>\n",
       "      <td>-0.266436</td>\n",
       "      <td>0.858001</td>\n",
       "      <td>0.879388</td>\n",
       "      <td>-0.168473</td>\n",
       "      <td>0.866453</td>\n",
       "      <td>1.022241</td>\n",
       "      <td>0.617919</td>\n",
       "      <td>1.052165</td>\n",
       "      <td>-0.061633</td>\n",
       "      <td>-0.796477</td>\n",
       "      <td>-0.441404</td>\n",
       "      <td>-0.784301</td>\n",
       "      <td>-0.406314</td>\n",
       "      <td>-0.033683</td>\n",
       "      <td>-0.830662</td>\n",
       "      <td>-2.643476</td>\n",
       "      <td>-8.777103</td>\n",
       "      <td>0.842387</td>\n",
       "      <td>-17.88846</td>\n",
       "      <td>-1.459968</td>\n",
       "      <td>-1.664136</td>\n",
       "      <td>1.177064</td>\n",
       "      <td>-0.110587</td>\n",
       "      <td>0.297533</td>\n",
       "      <td>-1.305192</td>\n",
       "      <td>-4.628945</td>\n",
       "      <td>-0.240419</td>\n",
       "      <td>-0.489393</td>\n",
       "      <td>-6.26685</td>\n",
       "      <td>-1.241980</td>\n",
       "      <td>-0.861893</td>\n",
       "      <td>-0.129872</td>\n",
       "      <td>0.755201</td>\n",
       "      <td>0.340918</td>\n",
       "      <td>-1.582825</td>\n",
       "      <td>1.054060e-19</td>\n",
       "      <td>-0.257909</td>\n",
       "      <td>-2.478168</td>\n",
       "      <td>-0.987157</td>\n",
       "      <td>-0.717324</td>\n",
       "      <td>0.481321</td>\n",
       "      <td>1.022715</td>\n",
       "      <td>1.092919</td>\n",
       "      <td>-3.649695</td>\n",
       "      <td>1.655811</td>\n",
       "      <td>1.393802</td>\n",
       "      <td>1.577615</td>\n",
       "      <td>-0.815413</td>\n",
       "      <td>0.000132</td>\n",
       "      <td>-0.068049</td>\n",
       "      <td>-0.911640</td>\n",
       "      <td>-0.617288</td>\n",
       "      <td>-0.837331</td>\n",
       "      <td>-0.730714</td>\n",
       "      <td>-1.335143</td>\n",
       "      <td>-0.080287</td>\n",
       "      <td>0.726164</td>\n",
       "      <td>-0.046094</td>\n",
       "      <td>-2.250754</td>\n",
       "      <td>-0.062443</td>\n",
       "      <td>0.733214</td>\n",
       "      <td>-0.033967</td>\n",
       "      <td>-0.129872</td>\n",
       "      <td>-0.490752</td>\n",
       "      <td>-0.404406</td>\n",
       "      <td>-0.282955</td>\n",
       "      <td>1.129537</td>\n",
       "      <td>0</td>\n",
       "      <td>1</td>\n",
       "      <td>0</td>\n",
       "    </tr>\n",
       "  </tbody>\n",
       "</table>\n",
       "</div>"
      ],
      "text/plain": [
       "   id     molecule_name  atom_index_1  atom_index_0  atom_2  atom_3  atom_4  \\\n",
       "0   0  dsgdb9nsd_000001     -1.178221      -3.78151       1       1       1   \n",
       "1   1  dsgdb9nsd_000001     -0.777735      -3.78151       6       1       1   \n",
       "\n",
       "   atom_5  atom_6  atom_7  atom_8  atom_9     d_1_0     d_2_0    d_2_1  \\\n",
       "0       0       0       0       0       0 -1.722482  0.388287 -1.11985   \n",
       "1       0       0       0       0       0 -0.784301 -0.973078 -1.11985   \n",
       "\n",
       "      d_3_0     d_3_1     d_3_2     d_4_0     d_4_1     d_4_2     d_4_3  \\\n",
       "0 -0.066678 -1.266758  0.332310 -1.088616 -1.598243 -0.111521 -0.652012   \n",
       "1 -0.066662 -0.057485 -1.450712 -1.088637 -0.314878 -1.420969 -0.652012   \n",
       "\n",
       "      d_5_0     d_5_1     d_5_2     d_5_3     d_6_0     d_6_1     d_6_2  \\\n",
       "0 -5.227948 -3.789738 -3.342599 -2.952238 -5.126057 -3.493791 -3.695558   \n",
       "1 -5.227948 -3.789738 -3.342599 -2.952238 -5.126057 -3.493791 -3.695558   \n",
       "\n",
       "      d_6_3     d_7_0     d_7_1     d_7_2    d_7_3     d_8_0     d_8_1  \\\n",
       "0 -3.032618 -5.074233 -3.479619 -3.945181 -3.10861 -4.931235 -3.495262   \n",
       "1 -3.032618 -5.074233 -3.479619 -3.945181 -3.10861 -4.931235 -3.495262   \n",
       "\n",
       "      d_8_2     d_8_3    d_9_0     d_9_1     d_9_2     d_9_3  \\\n",
       "0 -4.221123 -3.280988 -4.76834 -3.498921 -4.187851 -3.417919   \n",
       "1 -4.221123 -3.280988 -4.76834 -3.498921 -4.187851 -3.417919   \n",
       "\n",
       "   scalar_coupling_constant  type     eem_0  mmff94_0  gasteiger_0     qeq_0  \\\n",
       "0                   84.8076     0  0.003097 -0.499733     -0.95708 -1.643398   \n",
       "1                  -11.2570     3  0.003097 -0.499733     -0.95708 -1.643398   \n",
       "\n",
       "    qtpie_0  eem2015ha_0  eem2015hm_0  eem2015hn_0  eem2015ba_0  eem2015bm_0  \\\n",
       "0  1.849851    -0.677666    -0.464362     -0.12988    -0.631483     -0.51689   \n",
       "1  1.849851    -0.677666    -0.464362     -0.12988    -0.631483     -0.51689   \n",
       "\n",
       "   eem2015bn_0 atom_0      x_0       y_0       z_0     eem_1  mmff94_1  \\\n",
       "0     -0.06599      H -0.05894  0.101017 -0.028861 -2.353258 -0.134371   \n",
       "1     -0.06599      H -0.05894  0.101017 -0.028861  0.849271 -0.134371   \n",
       "\n",
       "   gasteiger_1     qeq_1   qtpie_1  eem2015ha_1  eem2015hm_1  eem2015hn_1  \\\n",
       "0    -0.590919  2.500747 -2.627887    -0.220396    -2.200383    -2.429677   \n",
       "1     0.191466 -0.684059  0.717267    -0.266436     0.858001     0.879388   \n",
       "\n",
       "   eem2015ba_1  eem2015bm_1  eem2015bn_1       x_1       y_1       z_1  \\\n",
       "0    -0.423880    -2.000200    -2.638834 -0.074536  0.838296 -0.055483   \n",
       "1    -0.168473     0.866453     1.022241  0.617919  1.052165 -0.061633   \n",
       "\n",
       "         fc    type_0      dist    dist_x    dist_y    dist_z  \\\n",
       "0  1.972632 -1.798918 -1.722482 -0.842808 -0.418014 -0.830647   \n",
       "1 -0.796477 -0.441404 -0.784301 -0.406314 -0.033683 -0.830662   \n",
       "\n",
       "   molecule_couples  molecule_dist_mean  molecule_dist_min  molecule_dist_max  \\\n",
       "0         -2.643476           -8.777103           0.842387          -17.88846   \n",
       "1         -2.643476           -8.777103           0.842387          -17.88846   \n",
       "\n",
       "   atom_0_couples_count  atom_1_couples_count  molecule_atom_index_0_y_1_mean  \\\n",
       "0             -1.459968             -0.669045                        1.177064   \n",
       "1             -1.459968             -1.664136                        1.177064   \n",
       "\n",
       "   molecule_atom_index_0_y_1_mean_diff  molecule_atom_index_0_y_1_max  \\\n",
       "0                             0.287480                       0.297533   \n",
       "1                            -0.110587                       0.297533   \n",
       "\n",
       "   molecule_atom_index_0_y_1_max_diff  molecule_atom_index_0_dist_mean  \\\n",
       "0                           -0.954755                        -4.628945   \n",
       "1                           -1.305192                        -4.628945   \n",
       "\n",
       "   molecule_atom_index_0_dist_mean_diff  molecule_atom_index_0_dist_mean_div  \\\n",
       "0                              0.721347                             0.709285   \n",
       "1                             -0.240419                            -0.489393   \n",
       "\n",
       "   molecule_atom_index_0_dist_max  molecule_atom_index_0_dist_max_diff  \\\n",
       "0                        -6.26685                            -0.315382   \n",
       "1                        -6.26685                            -1.241980   \n",
       "\n",
       "   molecule_atom_index_0_dist_max_div  molecule_atom_index_0_dist_min  \\\n",
       "0                            0.067509                       -0.129872   \n",
       "1                           -0.861893                       -0.129872   \n",
       "\n",
       "   molecule_atom_index_0_dist_min_diff  molecule_atom_index_0_dist_min_div  \\\n",
       "0                             1.685214                            2.044783   \n",
       "1                             0.755201                            0.340918   \n",
       "\n",
       "   molecule_atom_index_1_dist_mean  molecule_atom_index_1_dist_mean_diff  \\\n",
       "0                        -3.476210                         -5.328889e-06   \n",
       "1                        -1.582825                          1.054060e-19   \n",
       "\n",
       "   molecule_atom_index_1_dist_mean_div  molecule_atom_index_1_dist_max  \\\n",
       "0                            -0.257917                       -3.776544   \n",
       "1                            -0.257909                       -2.478168   \n",
       "\n",
       "   molecule_atom_index_1_dist_max_diff  molecule_atom_index_1_dist_max_div  \\\n",
       "0                            -0.987157                           -0.717324   \n",
       "1                            -0.987157                           -0.717324   \n",
       "\n",
       "   molecule_atom_index_1_dist_min  molecule_atom_index_1_dist_min_diff  \\\n",
       "0                       -0.767633                             1.022706   \n",
       "1                        0.481321                             1.022715   \n",
       "\n",
       "   molecule_atom_index_1_dist_min_div  molecule_atom_1_dist_mean  \\\n",
       "0                            1.092896                  -8.015849   \n",
       "1                            1.092919                  -3.649695   \n",
       "\n",
       "   molecule_atom_1_dist_min  molecule_atom_1_dist_min_diff  \\\n",
       "0                 -0.502064                       1.393794   \n",
       "1                  1.655811                       1.393802   \n",
       "\n",
       "   molecule_atom_1_dist_min_div  molecule_type_dist_mean  \\\n",
       "0                      1.577591                -1.790897   \n",
       "1                      1.577615                -0.815413   \n",
       "\n",
       "   molecule_type_dist_mean_diff  molecule_type_dist_mean_div  \\\n",
       "0                     -0.000017                    -0.068309   \n",
       "1                      0.000132                    -0.068049   \n",
       "\n",
       "   molecule_type_dist_max  molecule_type_dist_min  molecule_type_fc_max  \\\n",
       "0               -1.689915               -1.876405              1.482137   \n",
       "1               -0.911640               -0.617288             -0.837331   \n",
       "\n",
       "   molecule_type_fc_min  atom_index_closest_0  x_closest_0  y_closest_0  \\\n",
       "0              2.350283             -1.335143    -0.080287     0.726164   \n",
       "1             -0.730714             -1.335143    -0.080287     0.726164   \n",
       "\n",
       "   z_closest_0  atom_index_closest_1  x_closest_1  y_closest_1  z_closest_1  \\\n",
       "0    -0.046094             -1.666440    -0.373139     0.914106    -0.621105   \n",
       "1    -0.046094             -2.250754    -0.062443     0.733214    -0.033967   \n",
       "\n",
       "   distance_0  distance_1   cos_0_1     cos_0     cos_1  atom_1_C  atom_1_H  \\\n",
       "0   -0.129872   -0.490764  0.698087 -1.215360 -0.661580         1         0   \n",
       "1   -0.129872   -0.490752 -0.404406 -0.282955  1.129537         0         1   \n",
       "\n",
       "   atom_1_N  \n",
       "0         0  \n",
       "1         0  "
      ]
     },
     "execution_count": 43,
     "metadata": {},
     "output_type": "execute_result"
    }
   ],
   "source": [
    "train.head(2)"
   ]
  },
  {
   "cell_type": "code",
   "execution_count": 44,
   "metadata": {},
   "outputs": [
    {
     "name": "stdout",
     "output_type": "stream",
     "text": [
      "Index(['id', 'molecule_name', 'atom_index_1', 'atom_index_0', 'atom_2',\n",
      "       'atom_3', 'atom_4', 'atom_5', 'atom_6', 'atom_7',\n",
      "       ...\n",
      "       'y_closest_1', 'z_closest_1', 'distance_0', 'distance_1', 'cos_0_1',\n",
      "       'cos_0', 'cos_1', 'atom_1_C', 'atom_1_H', 'atom_1_N'],\n",
      "      dtype='object', length=134)\n"
     ]
    }
   ],
   "source": [
    "print(train.columns)"
   ]
  },
  {
   "cell_type": "markdown",
   "metadata": {},
   "source": [
    "# create train, test data"
   ]
  },
  {
   "cell_type": "code",
   "execution_count": 45,
   "metadata": {},
   "outputs": [
    {
     "name": "stdout",
     "output_type": "stream",
     "text": [
      "Mem. usage decreased to 4246.89 Mb (0.7% reduction)\n",
      "Mem. usage decreased to 2303.45 Mb (0.7% reduction)\n"
     ]
    }
   ],
   "source": [
    "y = train['scalar_coupling_constant']\n",
    "train = train.drop(['id', 'molecule_name', 'atom_0', 'scalar_coupling_constant'], axis=1)\n",
    "test  =  test.drop(['id', 'molecule_name', 'atom_0'], axis=1)\n",
    "train = reduce_mem_usage(train)\n",
    "test  = reduce_mem_usage(test)\n",
    "\n",
    "X = train.copy()\n",
    "X_test = test.copy()\n",
    "\n",
    "assert len(X.columns) == len(X_test.columns), f'X と X_test のサイズが違います X: {len(X.columns)}, X_test: {len(X_test.columns)}'"
   ]
  },
  {
   "cell_type": "code",
   "execution_count": 46,
   "metadata": {},
   "outputs": [],
   "source": [
    "del train, test, full_train, full_test"
   ]
  },
  {
   "cell_type": "code",
   "execution_count": 47,
   "metadata": {},
   "outputs": [
    {
     "data": {
      "text/plain": [
       "126"
      ]
     },
     "execution_count": 47,
     "metadata": {},
     "output_type": "execute_result"
    }
   ],
   "source": [
    "gc.collect()"
   ]
  },
  {
   "cell_type": "markdown",
   "metadata": {},
   "source": [
    "# Training model"
   ]
  },
  {
   "cell_type": "markdown",
   "metadata": {},
   "source": [
    "**params**"
   ]
  },
  {
   "cell_type": "code",
   "execution_count": 48,
   "metadata": {},
   "outputs": [],
   "source": [
    "# Configuration\n",
    "model_params = {'alpha': 1}"
   ]
  },
  {
   "cell_type": "code",
   "execution_count": 49,
   "metadata": {},
   "outputs": [],
   "source": [
    "n_folds = 6\n",
    "folds = KFold(n_splits=n_folds, shuffle=True)"
   ]
  },
  {
   "cell_type": "code",
   "execution_count": 50,
   "metadata": {},
   "outputs": [],
   "source": [
    "def train_model(X, X_test, y, folds, model_params):\n",
    "    model = linear_model.Ridge(**model_params)  # <=================\n",
    "\n",
    "    scores = []\n",
    "    oof = np.zeros(len(X))  # <========\n",
    "    prediction = np.zeros(len(X))  # <========\n",
    "    result_dict = {}\n",
    "    for fold_n, (train_idx, valid_idx) in enumerate(folds.split(X)):\n",
    "        print(f'Fold {fold_n + 1} started at {time.ctime()}')\n",
    "        model.fit(X.iloc[train_idx, :], y[train_idx])\n",
    "        y_valid_pred = model.predict(X.iloc[valid_idx, :])\n",
    "        prediction = model.predict(X_test)\n",
    "        oof[valid_idx] = y_valid_pred\n",
    "        score = mean_absolute_error(y[valid_idx], y_valid_pred)\n",
    "        scores.append(score)\n",
    "\n",
    "        print(f'fold {fold_n+1} mae: {score :.5f}')\n",
    "        print('')\n",
    "    print('CV mean score: {0:.4f}, std: {1:.4f}.'.format(np.mean(scores), np.std(scores)))\n",
    "    print('')\n",
    "    \n",
    "    result_dict['oof'] = oof\n",
    "    result_dict['prediction'] = prediction\n",
    "    result_dict['scores'] = scores\n",
    "    return result_dict"
   ]
  },
  {
   "cell_type": "code",
   "execution_count": 51,
   "metadata": {},
   "outputs": [
    {
     "name": "stdout",
     "output_type": "stream",
     "text": [
      "********************************************************************************\n",
      "Training of type 0\n",
      "********************************************************************************\n",
      "Fold 1 started at Wed Aug 21 07:54:49 2019\n",
      "fold 1 mae: 1.50137\n",
      "\n",
      "Fold 2 started at Wed Aug 21 07:54:52 2019\n",
      "fold 2 mae: 1.50334\n",
      "\n",
      "Fold 3 started at Wed Aug 21 07:54:54 2019\n",
      "fold 3 mae: 1.49626\n",
      "\n",
      "Fold 4 started at Wed Aug 21 07:54:56 2019\n",
      "fold 4 mae: 1.50266\n",
      "\n",
      "Fold 5 started at Wed Aug 21 07:54:59 2019\n",
      "fold 5 mae: 1.50270\n",
      "\n",
      "Fold 6 started at Wed Aug 21 07:55:01 2019\n",
      "fold 6 mae: 1.50037\n",
      "\n",
      "CV mean score: 1.5011, std: 0.0024.\n",
      "\n",
      "********************************************************************************\n",
      "Training of type 3\n",
      "********************************************************************************\n",
      "Fold 1 started at Wed Aug 21 07:55:06 2019\n",
      "fold 1 mae: 0.33788\n",
      "\n",
      "Fold 2 started at Wed Aug 21 07:55:07 2019\n",
      "fold 2 mae: 0.34176\n",
      "\n",
      "Fold 3 started at Wed Aug 21 07:55:08 2019\n",
      "fold 3 mae: 0.34263\n",
      "\n",
      "Fold 4 started at Wed Aug 21 07:55:10 2019\n",
      "fold 4 mae: 0.33838\n",
      "\n",
      "Fold 5 started at Wed Aug 21 07:55:11 2019\n",
      "fold 5 mae: 0.33793\n",
      "\n",
      "Fold 6 started at Wed Aug 21 07:55:12 2019\n",
      "fold 6 mae: 0.33962\n",
      "\n",
      "CV mean score: 0.3397, std: 0.0019.\n",
      "\n",
      "********************************************************************************\n",
      "Training of type 1\n",
      "********************************************************************************\n",
      "Fold 1 started at Wed Aug 21 07:55:14 2019\n",
      "fold 1 mae: 0.70419\n",
      "\n",
      "Fold 2 started at Wed Aug 21 07:55:14 2019\n",
      "fold 2 mae: 0.71076\n",
      "\n",
      "Fold 3 started at Wed Aug 21 07:55:15 2019\n",
      "fold 3 mae: 0.70179\n",
      "\n",
      "Fold 4 started at Wed Aug 21 07:55:15 2019\n",
      "fold 4 mae: 0.72125\n",
      "\n",
      "Fold 5 started at Wed Aug 21 07:55:15 2019\n",
      "fold 5 mae: 0.72661\n",
      "\n",
      "Fold 6 started at Wed Aug 21 07:55:15 2019\n",
      "fold 6 mae: 0.69185\n",
      "\n",
      "CV mean score: 0.7094, std: 0.0118.\n",
      "\n",
      "********************************************************************************\n",
      "Training of type 4\n",
      "********************************************************************************\n",
      "Fold 1 started at Wed Aug 21 07:55:16 2019\n",
      "fold 1 mae: 0.29742\n",
      "\n",
      "Fold 2 started at Wed Aug 21 07:55:17 2019\n",
      "fold 2 mae: 0.30235\n",
      "\n",
      "Fold 3 started at Wed Aug 21 07:55:17 2019\n",
      "fold 3 mae: 0.29925\n",
      "\n",
      "Fold 4 started at Wed Aug 21 07:55:18 2019\n",
      "fold 4 mae: 0.29767\n",
      "\n",
      "Fold 5 started at Wed Aug 21 07:55:18 2019\n",
      "fold 5 mae: 0.30004\n",
      "\n",
      "Fold 6 started at Wed Aug 21 07:55:19 2019\n",
      "fold 6 mae: 0.29807\n",
      "\n",
      "CV mean score: 0.2991, std: 0.0017.\n",
      "\n",
      "********************************************************************************\n",
      "Training of type 2\n",
      "********************************************************************************\n",
      "Fold 1 started at Wed Aug 21 07:55:21 2019\n",
      "fold 1 mae: 0.62379\n",
      "\n",
      "Fold 2 started at Wed Aug 21 07:55:25 2019\n",
      "fold 2 mae: 0.62491\n",
      "\n",
      "Fold 3 started at Wed Aug 21 07:55:28 2019\n",
      "fold 3 mae: 0.62663\n",
      "\n",
      "Fold 4 started at Wed Aug 21 07:55:32 2019\n",
      "fold 4 mae: 0.62350\n",
      "\n",
      "Fold 5 started at Wed Aug 21 07:55:36 2019\n",
      "fold 5 mae: 0.62647\n",
      "\n",
      "Fold 6 started at Wed Aug 21 07:55:40 2019\n",
      "fold 6 mae: 0.62408\n",
      "\n",
      "CV mean score: 0.6249, std: 0.0012.\n",
      "\n",
      "********************************************************************************\n",
      "Training of type 6\n",
      "********************************************************************************\n",
      "Fold 1 started at Wed Aug 21 07:55:46 2019\n",
      "fold 1 mae: 0.27727\n",
      "\n",
      "Fold 2 started at Wed Aug 21 07:55:48 2019\n",
      "fold 2 mae: 0.27889\n",
      "\n",
      "Fold 3 started at Wed Aug 21 07:55:50 2019\n",
      "fold 3 mae: 0.27895\n",
      "\n",
      "Fold 4 started at Wed Aug 21 07:55:52 2019\n",
      "fold 4 mae: 0.27813\n",
      "\n",
      "Fold 5 started at Wed Aug 21 07:55:54 2019\n",
      "fold 5 mae: 0.27695\n",
      "\n",
      "Fold 6 started at Wed Aug 21 07:55:56 2019\n",
      "fold 6 mae: 0.27869\n",
      "\n",
      "CV mean score: 0.2781, std: 0.0008.\n",
      "\n",
      "********************************************************************************\n",
      "Training of type 5\n",
      "********************************************************************************\n",
      "Fold 1 started at Wed Aug 21 07:56:00 2019\n",
      "fold 1 mae: 0.52010\n",
      "\n",
      "Fold 2 started at Wed Aug 21 07:56:05 2019\n",
      "fold 2 mae: 0.51894\n",
      "\n",
      "Fold 3 started at Wed Aug 21 07:56:10 2019\n",
      "fold 3 mae: 0.51958\n",
      "\n",
      "Fold 4 started at Wed Aug 21 07:56:15 2019\n",
      "fold 4 mae: 0.52007\n",
      "\n",
      "Fold 5 started at Wed Aug 21 07:56:20 2019\n",
      "fold 5 mae: 0.51878\n",
      "\n",
      "Fold 6 started at Wed Aug 21 07:56:25 2019\n",
      "fold 6 mae: 0.51943\n",
      "\n",
      "CV mean score: 0.5195, std: 0.0005.\n",
      "\n",
      "********************************************************************************\n",
      "Training of type 7\n",
      "********************************************************************************\n",
      "Fold 1 started at Wed Aug 21 07:56:31 2019\n",
      "fold 1 mae: 0.19666\n",
      "\n",
      "Fold 2 started at Wed Aug 21 07:56:32 2019\n",
      "fold 2 mae: 0.19675\n",
      "\n",
      "Fold 3 started at Wed Aug 21 07:56:32 2019\n",
      "fold 3 mae: 0.19808\n",
      "\n",
      "Fold 4 started at Wed Aug 21 07:56:33 2019\n",
      "fold 4 mae: 0.19895\n",
      "\n",
      "Fold 5 started at Wed Aug 21 07:56:34 2019\n",
      "fold 5 mae: 0.19747\n",
      "\n",
      "Fold 6 started at Wed Aug 21 07:56:34 2019\n",
      "fold 6 mae: 0.19709\n",
      "\n",
      "CV mean score: 0.1975, std: 0.0008.\n",
      "\n",
      "\n",
      "===== finish =====\n",
      "CV mean score(group log mae): -0.7813\n",
      "CPU times: user 5min 11s, sys: 13min 53s, total: 19min 4s\n",
      "Wall time: 2min 6s\n"
     ]
    }
   ],
   "source": [
    "%%time\n",
    "# type ごとの学習 \n",
    "\n",
    "X_short = pd.DataFrame({'ind': list(X.index), 'type': X['type'].values, 'oof': [0] * len(X), 'target': y.values})\n",
    "X_short_test = pd.DataFrame({'ind': list(X_test.index), 'type': X_test['type'].values, 'prediction': [0] * len(X_test)})\n",
    "for t in X['type'].unique():\n",
    "    print('*'*80)\n",
    "    print(f'Training of type {t}')\n",
    "    print('*'*80)\n",
    "    X_t = X.loc[X['type'] == t]\n",
    "    X_test_t = X_test.loc[X_test['type'] == t]\n",
    "    y_t = X_short.loc[X_short['type'] == t, 'target'].values\n",
    "    \n",
    "    result_dict = train_model(X_t, X_test_t, y_t, folds, model_params)\n",
    "    X_short.loc[X_short['type'] == t, 'oof'] = result_dict['oof']\n",
    "    X_short_test.loc[X_short_test['type'] == t, 'prediction'] = result_dict['prediction']\n",
    "    \n",
    "    \n",
    "\n",
    "print('')\n",
    "print('===== finish =====')\n",
    "X['scalar_coupling_constant'] = y\n",
    "metric = kaggle_metric(X, X_short['oof'])\n",
    "X = X.drop(['scalar_coupling_constant', 'prediction'], axis=1)\n",
    "print('CV mean score(group log mae): {0:.4f}'.format(metric))\n",
    "prediction = X_short_test['prediction']"
   ]
  },
  {
   "cell_type": "markdown",
   "metadata": {},
   "source": [
    "# Save"
   ]
  },
  {
   "cell_type": "markdown",
   "metadata": {},
   "source": [
    "**submission**"
   ]
  },
  {
   "cell_type": "code",
   "execution_count": 52,
   "metadata": {},
   "outputs": [
    {
     "name": "stdout",
     "output_type": "stream",
     "text": [
      "save pash: ../output/nb51_submission_ridge_-0.78130.csv\n"
     ]
    }
   ],
   "source": [
    "# path_submittion = './output/' + 'nb{}_submission_lgb_{}.csv'.format(nb, metric)\n",
    "path_submittion = f'../output/nb{nb}_submission_{model_name}_{metric :.5f}.csv'\n",
    "print(f'save pash: {path_submittion}')"
   ]
  },
  {
   "cell_type": "code",
   "execution_count": 53,
   "metadata": {},
   "outputs": [],
   "source": [
    "submittion = pd.read_csv('../input/champs-scalar-coupling/sample_submission.csv')\n",
    "# submittion = pd.read_csv('./input/champs-scalar-coupling/sample_submission.csv')[::100]\n",
    "submittion['scalar_coupling_constant'] = prediction\n",
    "submittion.to_csv(path_submittion, index=False)"
   ]
  },
  {
   "cell_type": "markdown",
   "metadata": {},
   "source": [
    "---\n",
    "**result**"
   ]
  },
  {
   "cell_type": "code",
   "execution_count": 54,
   "metadata": {},
   "outputs": [
    {
     "name": "stdout",
     "output_type": "stream",
     "text": [
      "save pash: ../output/nb51_oof_ridge_-0.78130.csv\n"
     ]
    }
   ],
   "source": [
    "path_oof = f'../output/nb{nb}_oof_{model_name}_{metric :.5f}.csv'\n",
    "print(f'save pash: {path_oof}')"
   ]
  },
  {
   "cell_type": "code",
   "execution_count": 55,
   "metadata": {},
   "outputs": [],
   "source": [
    "oof = pd.DataFrame(result_dict['oof'])\n",
    "oof.to_csv(path_oof, index=False)"
   ]
  },
  {
   "cell_type": "markdown",
   "metadata": {},
   "source": [
    "# analysis"
   ]
  },
  {
   "cell_type": "code",
   "execution_count": 56,
   "metadata": {},
   "outputs": [
    {
     "data": {
      "image/png": "[encoded data removed]",
      "text/plain": [
       "<Figure size 432x432 with 1 Axes>"
      ]
     },
     "metadata": {
      "needs_background": "light"
     },
     "output_type": "display_data"
    },
    {
     "data": {
      "image/png": "[encoded data removed]",
      "text/plain": [
       "<Figure size 432x432 with 1 Axes>"
      ]
     },
     "metadata": {
      "needs_background": "light"
     },
     "output_type": "display_data"
    },
    {
     "data": {
      "image/png": "[encoded data removed]",
      "text/plain": [
       "<Figure size 432x432 with 1 Axes>"
      ]
     },
     "metadata": {
      "needs_background": "light"
     },
     "output_type": "display_data"
    },
    {
     "data": {
      "image/png": "[encoded data removed]",
      "text/plain": [
       "<Figure size 432x432 with 1 Axes>"
      ]
     },
     "metadata": {
      "needs_background": "light"
     },
     "output_type": "display_data"
    },
    {
     "data": {
      "image/png": "[encoded data removed]",
      "text/plain": [
       "<Figure size 432x432 with 1 Axes>"
      ]
     },
     "metadata": {
      "needs_background": "light"
     },
     "output_type": "display_data"
    },
    {
     "data": {
      "image/png": "[encoded data removed]",
      "text/plain": [
       "<Figure size 432x432 with 1 Axes>"
      ]
     },
     "metadata": {
      "needs_background": "light"
     },
     "output_type": "display_data"
    },
    {
     "data": {
      "image/png": "[encoded data removed]",
      "text/plain": [
       "<Figure size 432x432 with 1 Axes>"
      ]
     },
     "metadata": {
      "needs_background": "light"
     },
     "output_type": "display_data"
    },
    {
     "data": {
      "image/png": "[encoded data removed]",
      "text/plain": [
       "<Figure size 432x432 with 1 Axes>"
      ]
     },
     "metadata": {
      "needs_background": "light"
     },
     "output_type": "display_data"
    }
   ],
   "source": [
    "plot_data = pd.DataFrame(y)\n",
    "plot_data.index.name = 'id'\n",
    "plot_data['yhat'] = X_short['oof']\n",
    "plot_data['type'] = lbl.inverse_transform(X['type'])\n",
    "\n",
    "def plot_oof_preds(ctype, llim, ulim):\n",
    "        plt.figure(figsize=(6,6))\n",
    "        sns.scatterplot(x='scalar_coupling_constant',y='yhat',\n",
    "                        data=plot_data.loc[plot_data['type']==ctype,\n",
    "                        ['scalar_coupling_constant', 'yhat']]);\n",
    "        plt.xlim((llim, ulim))\n",
    "        plt.ylim((llim, ulim))\n",
    "        plt.plot([llim, ulim], [llim, ulim])\n",
    "        plt.xlabel('scalar_coupling_constant')\n",
    "        plt.ylabel('predicted')\n",
    "        plt.title(f'{ctype}', fontsize=18)\n",
    "        plt.show()\n",
    "\n",
    "plot_oof_preds('1JHC', 0, 250)\n",
    "plot_oof_preds('1JHN', 0, 100)\n",
    "plot_oof_preds('2JHC', -50, 50)\n",
    "plot_oof_preds('2JHH', -50, 50)\n",
    "plot_oof_preds('2JHN', -25, 25)\n",
    "plot_oof_preds('3JHC', -25, 60)\n",
    "plot_oof_preds('3JHH', -20, 20)\n",
    "plot_oof_preds('3JHN', -10, 15)"
   ]
  },
  {
   "cell_type": "code",
   "execution_count": null,
   "metadata": {},
   "outputs": [],
   "source": []
  },
  {
   "cell_type": "code",
   "execution_count": null,
   "metadata": {},
   "outputs": [],
   "source": []
  },
  {
   "cell_type": "code",
   "execution_count": null,
   "metadata": {},
   "outputs": [],
   "source": []
  },
  {
   "cell_type": "code",
   "execution_count": null,
   "metadata": {},
   "outputs": [],
   "source": []
  }
 ],
 "metadata": {
  "kernelspec": {
   "display_name": "Python 3",
   "language": "python",
   "name": "python3"
  },
  "language_info": {
   "codemirror_mode": {
    "name": "ipython",
    "version": 3
   },
   "file_extension": ".py",
   "mimetype": "text/x-python",
   "name": "python",
   "nbconvert_exporter": "python",
   "pygments_lexer": "ipython3",
   "version": "3.6.8"
  }
 },
 "nbformat": 4,
 "nbformat_minor": 4
}
