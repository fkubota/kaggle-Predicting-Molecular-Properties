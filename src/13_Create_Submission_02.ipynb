{
 "cells": [
  {
   "cell_type": "markdown",
   "metadata": {},
   "source": [
    "# Introduction\n",
    "- ref\n",
    "> https://www.kaggle.com/robikscube/exploring-molecular-properties-data\n",
    "\n",
    "- model: lightgbm"
   ]
  },
  {
   "cell_type": "markdown",
   "metadata": {},
   "source": [
    "# Import everything I nead :)"
   ]
  },
  {
   "cell_type": "code",
   "execution_count": 1,
   "metadata": {},
   "outputs": [
    {
     "name": "stderr",
     "output_type": "stream",
     "text": [
      "/usr/local/lib/python3.6/dist-packages/matplotlib/__init__.py:886: MatplotlibDeprecationWarning: \n",
      "examples.directory is deprecated; in the future, examples will be found relative to the 'datapath' directory.\n",
      "  \"found relative to the 'datapath' directory.\".format(key))\n"
     ]
    }
   ],
   "source": [
    "import numpy as np\n",
    "import pandas as pd\n",
    "import matplotlib.pyplot as plt\n",
    "import seaborn as sns\n",
    "from sklearn.model_selection import KFold\n",
    "from sklearn.metrics import mean_absolute_error\n",
    "import lightgbm as lgb"
   ]
  },
  {
   "cell_type": "raw",
   "metadata": {},
   "source": [
    "!pip3 install --user lightgbm"
   ]
  },
  {
   "cell_type": "markdown",
   "metadata": {},
   "source": [
    "# Data Preparation\n",
    "- nb11 で作ったdataframe"
   ]
  },
  {
   "cell_type": "code",
   "execution_count": 2,
   "metadata": {},
   "outputs": [],
   "source": [
    "# notebook No.\n",
    "nb = 13"
   ]
  },
  {
   "cell_type": "code",
   "execution_count": 3,
   "metadata": {},
   "outputs": [
    {
     "name": "stderr",
     "output_type": "stream",
     "text": [
      "/usr/local/lib/python3.6/dist-packages/IPython/core/interactiveshell.py:3049: DtypeWarning: Columns (29,30) have mixed types. Specify dtype option on import or set low_memory=False.\n",
      "  interactivity=interactivity, compiler=compiler, result=result)\n"
     ]
    },
    {
     "data": {
      "text/html": [
       "<div>\n",
       "<style scoped>\n",
       "    .dataframe tbody tr th:only-of-type {\n",
       "        vertical-align: middle;\n",
       "    }\n",
       "\n",
       "    .dataframe tbody tr th {\n",
       "        vertical-align: top;\n",
       "    }\n",
       "\n",
       "    .dataframe thead th {\n",
       "        text-align: right;\n",
       "    }\n",
       "</style>\n",
       "<table border=\"1\" class=\"dataframe\">\n",
       "  <thead>\n",
       "    <tr style=\"text-align: right;\">\n",
       "      <th></th>\n",
       "      <th>id</th>\n",
       "      <th>molecule_name</th>\n",
       "      <th>atom_index_0</th>\n",
       "      <th>atom_index_1</th>\n",
       "      <th>type</th>\n",
       "      <th>scalar_coupling_constant</th>\n",
       "      <th>atom_count</th>\n",
       "      <th>x_0</th>\n",
       "      <th>y_0</th>\n",
       "      <th>z_0</th>\n",
       "      <th>...</th>\n",
       "      <th>type_1_JHH</th>\n",
       "      <th>type_1_JHN</th>\n",
       "      <th>type_0</th>\n",
       "      <th>type_1</th>\n",
       "      <th>atom_0_H</th>\n",
       "      <th>atom_1_C</th>\n",
       "      <th>atom_1_H</th>\n",
       "      <th>atom_1_N</th>\n",
       "      <th>atom_0</th>\n",
       "      <th>atom_1</th>\n",
       "    </tr>\n",
       "  </thead>\n",
       "  <tbody>\n",
       "    <tr>\n",
       "      <th>0</th>\n",
       "      <td>0</td>\n",
       "      <td>dsgdb9nsd_000001</td>\n",
       "      <td>1</td>\n",
       "      <td>0</td>\n",
       "      <td>1JHC</td>\n",
       "      <td>84.8076</td>\n",
       "      <td>5</td>\n",
       "      <td>0.002150</td>\n",
       "      <td>-0.006031</td>\n",
       "      <td>0.001976</td>\n",
       "      <td>...</td>\n",
       "      <td>0</td>\n",
       "      <td>0</td>\n",
       "      <td>H</td>\n",
       "      <td>C</td>\n",
       "      <td>1</td>\n",
       "      <td>1</td>\n",
       "      <td>0</td>\n",
       "      <td>0</td>\n",
       "      <td>H</td>\n",
       "      <td>C</td>\n",
       "    </tr>\n",
       "    <tr>\n",
       "      <th>1</th>\n",
       "      <td>1</td>\n",
       "      <td>dsgdb9nsd_000001</td>\n",
       "      <td>1</td>\n",
       "      <td>2</td>\n",
       "      <td>2JHH</td>\n",
       "      <td>-11.2570</td>\n",
       "      <td>5</td>\n",
       "      <td>0.002150</td>\n",
       "      <td>-0.006031</td>\n",
       "      <td>0.001976</td>\n",
       "      <td>...</td>\n",
       "      <td>1</td>\n",
       "      <td>0</td>\n",
       "      <td>H</td>\n",
       "      <td>C</td>\n",
       "      <td>1</td>\n",
       "      <td>0</td>\n",
       "      <td>1</td>\n",
       "      <td>0</td>\n",
       "      <td>H</td>\n",
       "      <td>H</td>\n",
       "    </tr>\n",
       "    <tr>\n",
       "      <th>2</th>\n",
       "      <td>2</td>\n",
       "      <td>dsgdb9nsd_000001</td>\n",
       "      <td>1</td>\n",
       "      <td>3</td>\n",
       "      <td>2JHH</td>\n",
       "      <td>-11.2548</td>\n",
       "      <td>5</td>\n",
       "      <td>0.002150</td>\n",
       "      <td>-0.006031</td>\n",
       "      <td>0.001976</td>\n",
       "      <td>...</td>\n",
       "      <td>1</td>\n",
       "      <td>0</td>\n",
       "      <td>H</td>\n",
       "      <td>H</td>\n",
       "      <td>1</td>\n",
       "      <td>0</td>\n",
       "      <td>1</td>\n",
       "      <td>0</td>\n",
       "      <td>H</td>\n",
       "      <td>H</td>\n",
       "    </tr>\n",
       "    <tr>\n",
       "      <th>3</th>\n",
       "      <td>3</td>\n",
       "      <td>dsgdb9nsd_000001</td>\n",
       "      <td>1</td>\n",
       "      <td>4</td>\n",
       "      <td>2JHH</td>\n",
       "      <td>-11.2543</td>\n",
       "      <td>5</td>\n",
       "      <td>0.002150</td>\n",
       "      <td>-0.006031</td>\n",
       "      <td>0.001976</td>\n",
       "      <td>...</td>\n",
       "      <td>1</td>\n",
       "      <td>0</td>\n",
       "      <td>H</td>\n",
       "      <td>C</td>\n",
       "      <td>1</td>\n",
       "      <td>0</td>\n",
       "      <td>1</td>\n",
       "      <td>0</td>\n",
       "      <td>H</td>\n",
       "      <td>H</td>\n",
       "    </tr>\n",
       "    <tr>\n",
       "      <th>4</th>\n",
       "      <td>4</td>\n",
       "      <td>dsgdb9nsd_000001</td>\n",
       "      <td>2</td>\n",
       "      <td>0</td>\n",
       "      <td>1JHC</td>\n",
       "      <td>84.8074</td>\n",
       "      <td>5</td>\n",
       "      <td>1.011731</td>\n",
       "      <td>1.463751</td>\n",
       "      <td>0.000277</td>\n",
       "      <td>...</td>\n",
       "      <td>0</td>\n",
       "      <td>0</td>\n",
       "      <td>H</td>\n",
       "      <td>C</td>\n",
       "      <td>1</td>\n",
       "      <td>1</td>\n",
       "      <td>0</td>\n",
       "      <td>0</td>\n",
       "      <td>H</td>\n",
       "      <td>C</td>\n",
       "    </tr>\n",
       "  </tbody>\n",
       "</table>\n",
       "<p>5 rows × 37 columns</p>\n",
       "</div>"
      ],
      "text/plain": [
       "   id     molecule_name  atom_index_0  atom_index_1  type  \\\n",
       "0   0  dsgdb9nsd_000001             1             0  1JHC   \n",
       "1   1  dsgdb9nsd_000001             1             2  2JHH   \n",
       "2   2  dsgdb9nsd_000001             1             3  2JHH   \n",
       "3   3  dsgdb9nsd_000001             1             4  2JHH   \n",
       "4   4  dsgdb9nsd_000001             2             0  1JHC   \n",
       "\n",
       "   scalar_coupling_constant  atom_count       x_0       y_0       z_0  ...  \\\n",
       "0                   84.8076           5  0.002150 -0.006031  0.001976  ...   \n",
       "1                  -11.2570           5  0.002150 -0.006031  0.001976  ...   \n",
       "2                  -11.2548           5  0.002150 -0.006031  0.001976  ...   \n",
       "3                  -11.2543           5  0.002150 -0.006031  0.001976  ...   \n",
       "4                   84.8074           5  1.011731  1.463751  0.000277  ...   \n",
       "\n",
       "   type_1_JHH  type_1_JHN  type_0  type_1  atom_0_H  atom_1_C  atom_1_H  \\\n",
       "0           0           0       H       C         1         1         0   \n",
       "1           1           0       H       C         1         0         1   \n",
       "2           1           0       H       H         1         0         1   \n",
       "3           1           0       H       C         1         0         1   \n",
       "4           0           0       H       C         1         1         0   \n",
       "\n",
       "   atom_1_N  atom_0  atom_1  \n",
       "0         0       H       C  \n",
       "1         0       H       H  \n",
       "2         0       H       H  \n",
       "3         0       H       H  \n",
       "4         0       H       C  \n",
       "\n",
       "[5 rows x 37 columns]"
      ]
     },
     "execution_count": 3,
     "metadata": {},
     "output_type": "execute_result"
    }
   ],
   "source": [
    "path = './dataframe/20190614_nb12_train.csv'\n",
    "df_train = pd.read_csv(path)\n",
    "\n",
    "df_train.head()"
   ]
  },
  {
   "cell_type": "code",
   "execution_count": 4,
   "metadata": {},
   "outputs": [],
   "source": [
    "path = './dataframe/20190614_nb12_test.csv'\n",
    "df_test = pd.read_csv(path)"
   ]
  },
  {
   "cell_type": "markdown",
   "metadata": {},
   "source": [
    "# LightGBM - 5 Fold Cross Valified"
   ]
  },
  {
   "cell_type": "code",
   "execution_count": 5,
   "metadata": {},
   "outputs": [
    {
     "data": {
      "text/plain": [
       "Index(['id', 'molecule_name', 'atom_index_0', 'atom_index_1', 'type',\n",
       "       'scalar_coupling_constant', 'atom_count', 'x_0', 'y_0', 'z_0', 'x_1',\n",
       "       'y_1', 'z_1', 'dist', 'dist_to_type_mean', '1JHC', '1JHN', '2JHC',\n",
       "       '2JHH', '2JHN', '3JHC', '3JHH', '3JHN', 'type_0_1', 'type_0_2',\n",
       "       'type_0_3', 'type_1_JHC', 'type_1_JHH', 'type_1_JHN', 'type_0',\n",
       "       'type_1', 'atom_0_H', 'atom_1_C', 'atom_1_H', 'atom_1_N', 'atom_0',\n",
       "       'atom_1'],\n",
       "      dtype='object')"
      ]
     },
     "execution_count": 5,
     "metadata": {},
     "output_type": "execute_result"
    }
   ],
   "source": [
    "# feature_list\n",
    "df_train.columns"
   ]
  },
  {
   "cell_type": "markdown",
   "metadata": {},
   "source": [
    "## params"
   ]
  },
  {
   "cell_type": "code",
   "execution_count": 11,
   "metadata": {},
   "outputs": [],
   "source": [
    "# Configurables\n",
    "FEATURES = ['atom_index_0', 'atom_index_1',\n",
    "            'x_0', 'y_0', 'z_0',\n",
    "            'x_1', 'y_1', 'z_1',\n",
    "            'atom_1_H', 'atom_1_C', 'atom_1_N',\n",
    "            'dist', 'dist_to_type_mean',\n",
    "            'atom_count',\n",
    "            '1JHC', '1JHN', '2JHC', '2JHH', '2JHN', '3JHC', '3JHH', '3JHN',\n",
    "            'type_0_1', 'type_0_2', 'type_0_3',\n",
    "            'type_1_JHC', 'type_1_JHH', 'type_1_JHN'\n",
    "           ]\n",
    "TARGET = 'scalar_coupling_constant'\n",
    "N_ESTIMATORS = 2000  # 決定木の数\n",
    "VERBOSE = 500\n",
    "EARLY_STOPPING_ROUNDS = 200 # 200回学習して性能の向上がなければ学習をやめる\n",
    "RANDOM_STATE = 529\n",
    "\n",
    "X = df_train[FEATURES]\n",
    "X_test = df_test[FEATURES]\n",
    "y = df_train[TARGET]"
   ]
  },
  {
   "cell_type": "markdown",
   "metadata": {},
   "source": [
    "# Apply"
   ]
  },
  {
   "cell_type": "code",
   "execution_count": 12,
   "metadata": {},
   "outputs": [
    {
     "name": "stdout",
     "output_type": "stream",
     "text": [
      "Training until validation scores don't improve for 200 rounds.\n",
      "[500]\ttraining's l1: 2.13427\tvalid_1's l1: 2.1451\n",
      "[1000]\ttraining's l1: 2.05223\tvalid_1's l1: 2.07213\n",
      "[1500]\ttraining's l1: 2.00098\tvalid_1's l1: 2.02932\n",
      "[2000]\ttraining's l1: 1.96387\tvalid_1's l1: 1.9998\n",
      "Did not meet early stopping. Best iteration is:\n",
      "[2000]\ttraining's l1: 1.96387\tvalid_1's l1: 1.9998\n",
      "CV mean score: 1.9998, std: 0.0000.\n",
      "Training until validation scores don't improve for 200 rounds.\n",
      "[500]\ttraining's l1: 2.13618\tvalid_1's l1: 2.14384\n",
      "[1000]\ttraining's l1: 2.05219\tvalid_1's l1: 2.06903\n",
      "[1500]\ttraining's l1: 2.00062\tvalid_1's l1: 2.02591\n",
      "[2000]\ttraining's l1: 1.96318\tvalid_1's l1: 1.99609\n",
      "Did not meet early stopping. Best iteration is:\n",
      "[2000]\ttraining's l1: 1.96318\tvalid_1's l1: 1.99609\n",
      "CV mean score: 1.9986, std: 0.0017.\n",
      "Training until validation scores don't improve for 200 rounds.\n",
      "[500]\ttraining's l1: 2.13674\tvalid_1's l1: 2.15121\n",
      "[1000]\ttraining's l1: 2.05356\tvalid_1's l1: 2.07673\n",
      "[1500]\ttraining's l1: 2.00109\tvalid_1's l1: 2.03272\n",
      "[2000]\ttraining's l1: 1.9638\tvalid_1's l1: 2.00335\n",
      "Did not meet early stopping. Best iteration is:\n",
      "[2000]\ttraining's l1: 1.9638\tvalid_1's l1: 2.00335\n",
      "CV mean score: 1.9990, std: 0.0027.\n",
      "Training until validation scores don't improve for 200 rounds.\n",
      "[500]\ttraining's l1: 2.13233\tvalid_1's l1: 2.1396\n",
      "[1000]\ttraining's l1: 2.05163\tvalid_1's l1: 2.06834\n",
      "[1500]\ttraining's l1: 2.00053\tvalid_1's l1: 2.02593\n",
      "[2000]\ttraining's l1: 1.96337\tvalid_1's l1: 1.99672\n",
      "Did not meet early stopping. Best iteration is:\n",
      "[2000]\ttraining's l1: 1.96337\tvalid_1's l1: 1.99672\n",
      "CV mean score: 1.9993, std: 0.0029.\n",
      "Training until validation scores don't improve for 200 rounds.\n",
      "[500]\ttraining's l1: 2.13181\tvalid_1's l1: 2.14701\n",
      "[1000]\ttraining's l1: 2.0497\tvalid_1's l1: 2.07391\n",
      "[1500]\ttraining's l1: 1.99965\tvalid_1's l1: 2.03211\n",
      "[2000]\ttraining's l1: 1.96232\tvalid_1's l1: 2.00204\n",
      "Did not meet early stopping. Best iteration is:\n",
      "[2000]\ttraining's l1: 1.96232\tvalid_1's l1: 2.00204\n",
      "CV mean score: 1.9993, std: 0.0029.\n",
      "CPU times: user 3h 58min 17s, sys: 31.8 s, total: 3h 58min 48s\n",
      "Wall time: 21min 25s\n"
     ]
    }
   ],
   "source": [
    "%%time\n",
    "lgb_params = {'num_leaves': 128,\n",
    "              'min_child_samples': 64,\n",
    "              'objective': 'regression',\n",
    "              'max_depth': 6,\n",
    "              'learning_rate': 0.1,\n",
    "              \"boosting_type\": \"gbdt\",\n",
    "              \"subsample_freq\": 1,\n",
    "              \"subsample\": 0.9,\n",
    "              \"bagging_seed\": 11,\n",
    "              \"metric\": 'mae',\n",
    "              \"verbosity\": -1,\n",
    "              'reg_alpha': 0.1,\n",
    "              'reg_lambda': 0.4,\n",
    "              'colsample_bytree': 1.0\n",
    "         }\n",
    "\n",
    "# ----- set params -----\n",
    "RUN_LGB = True\n",
    "# ----------------------\n",
    "if RUN_LGB:\n",
    "    n_fold = 5\n",
    "    folds = KFold(n_splits=n_fold, shuffle=True, random_state=RANDOM_STATE)\n",
    "\n",
    "    # Setup arrays for storing results\n",
    "    oof = np.zeros(len(X))\n",
    "    prediction = np.zeros(len(X_test))\n",
    "    scores = []\n",
    "    feature_importance = pd.DataFrame()\n",
    "    \n",
    "    # Train the model\n",
    "    for fold_n, (train_idx, valid_idx) in enumerate(folds.split(X)):\n",
    "        X_train, X_valid = X.iloc[train_idx], X.iloc[valid_idx]\n",
    "        y_train, y_valid = y.iloc[train_idx], y.iloc[valid_idx]\n",
    "        model = lgb.LGBMRegressor(**lgb_params, n_estimators = N_ESTIMATORS, n_jobs = -1)\n",
    "        model.fit(X_train, y_train,\n",
    "                  eval_set=[(X_train, y_train), (X_valid, y_valid)],\n",
    "                  eval_metric='mae',\n",
    "                  verbose=VERBOSE,\n",
    "                  early_stopping_rounds=EARLY_STOPPING_ROUNDS)\n",
    "\n",
    "        y_pred_valid = model.predict(X_valid)\n",
    "        y_pred = model.predict(X_test, num_iteration=model.best_iteration_)\n",
    "        \n",
    "        # feature importance\n",
    "        fold_importance = pd.DataFrame()\n",
    "        fold_importance[\"feature\"] = FEATURES\n",
    "        fold_importance[\"importance\"] = model.feature_importances_\n",
    "        fold_importance[\"fold\"] = fold_n + 1\n",
    "        feature_importance = pd.concat([feature_importance, fold_importance], axis=0)\n",
    "\n",
    "        prediction /= folds.n_splits\n",
    "        scores.append(mean_absolute_error(y_valid, y_pred_valid))\n",
    "        print('CV mean score: {0:.4f}, std: {1:.4f}.'.format(np.mean(scores), np.std(scores)))\n",
    "        oof[valid_idx] = y_pred_valid.reshape(-1,)\n",
    "        scores.append(mean_absolute_error(y_valid, y_pred_valid))\n",
    "        prediction += y_pred\n",
    "        "
   ]
  },
  {
   "cell_type": "markdown",
   "metadata": {},
   "source": [
    "## save Result"
   ]
  },
  {
   "cell_type": "code",
   "execution_count": 13,
   "metadata": {},
   "outputs": [
    {
     "name": "stdout",
     "output_type": "stream",
     "text": [
      "Saving LGB Submission as:\n",
      "./output/nb13_submission_lgb_5folds_1.9995990985933818CV.csv\n"
     ]
    }
   ],
   "source": [
    "if RUN_LGB:\n",
    "    # Save Prediction and name appropriately\n",
    "    dir_save = './output/'\n",
    "    submission_csv_name = dir_save + 'nb{}_submission_lgb_{}folds_{}CV.csv'.format(nb, n_fold, np.mean(scores))\n",
    "    oof_csv_name = dir_save + 'nb{}_oof_lgb_{}folds_{}CV.csv'.format(nb, n_fold, np.mean(scores))\n",
    "    fi_csv_name = dir_save + 'nb{}_fi_lgb_{}folds_{}CV.csv'.format(nb, n_fold, np.mean(scores))\n",
    "\n",
    "    print('Saving LGB Submission as:')\n",
    "    print(submission_csv_name)\n",
    "    ss = pd.read_csv( './input/champs-scalar-coupling/sample_submission.csv')\n",
    "    ss['scalar_coupling_constant'] = prediction\n",
    "    ss.to_csv(submission_csv_name, index=False)\n",
    "    ss.head()\n",
    "    # OOF\n",
    "    oof_df = df_train[['id','molecule_name','scalar_coupling_constant']].copy()\n",
    "    oof_df['oof_pred'] = oof\n",
    "    oof_df.to_csv(oof_csv_name, index=False)\n",
    "    # Feature Importance\n",
    "    feature_importance.to_csv(fi_csv_name, index=False)"
   ]
  },
  {
   "cell_type": "markdown",
   "metadata": {},
   "source": [
    "## Feature Importance"
   ]
  },
  {
   "cell_type": "code",
   "execution_count": 14,
   "metadata": {},
   "outputs": [
    {
     "data": {
      "image/png": "[encoded data removed]",
      "text/plain": [
       "<Figure size 1080x1440 with 1 Axes>"
      ]
     },
     "metadata": {
      "needs_background": "light"
     },
     "output_type": "display_data"
    }
   ],
   "source": [
    "if RUN_LGB:\n",
    "    # Plot feature importance as done in https://www.kaggle.com/artgor/artgor-utils\n",
    "    feature_importance[\"importance\"] /= folds.n_splits\n",
    "    cols = feature_importance[[\"feature\", \"importance\"]].groupby(\"feature\").mean().sort_values(\n",
    "        by=\"importance\", ascending=False)[:50].index\n",
    "\n",
    "    best_features = feature_importance.loc[feature_importance.feature.isin(cols)]\n",
    "\n",
    "    plt.figure(figsize=(15, 20));\n",
    "    ax = sns.barplot(x=\"importance\",\n",
    "                y=\"feature\",\n",
    "                hue='fold',\n",
    "                data=best_features.sort_values(by=\"importance\", ascending=False));\n",
    "    plt.title('LGB Features (avg over folds)');"
   ]
  },
  {
   "cell_type": "code",
   "execution_count": null,
   "metadata": {},
   "outputs": [],
   "source": []
  },
  {
   "cell_type": "code",
   "execution_count": null,
   "metadata": {},
   "outputs": [],
   "source": []
  },
  {
   "cell_type": "code",
   "execution_count": null,
   "metadata": {},
   "outputs": [],
   "source": []
  },
  {
   "cell_type": "code",
   "execution_count": null,
   "metadata": {},
   "outputs": [],
   "source": []
  },
  {
   "cell_type": "code",
   "execution_count": null,
   "metadata": {},
   "outputs": [],
   "source": []
  },
  {
   "cell_type": "code",
   "execution_count": null,
   "metadata": {},
   "outputs": [],
   "source": []
  },
  {
   "cell_type": "code",
   "execution_count": null,
   "metadata": {},
   "outputs": [],
   "source": []
  },
  {
   "cell_type": "code",
   "execution_count": null,
   "metadata": {},
   "outputs": [],
   "source": []
  },
  {
   "cell_type": "code",
   "execution_count": null,
   "metadata": {},
   "outputs": [],
   "source": []
  },
  {
   "cell_type": "code",
   "execution_count": null,
   "metadata": {},
   "outputs": [],
   "source": []
  },
  {
   "cell_type": "code",
   "execution_count": null,
   "metadata": {},
   "outputs": [],
   "source": []
  },
  {
   "cell_type": "code",
   "execution_count": null,
   "metadata": {},
   "outputs": [],
   "source": []
  },
  {
   "cell_type": "code",
   "execution_count": null,
   "metadata": {},
   "outputs": [],
   "source": []
  },
  {
   "cell_type": "code",
   "execution_count": null,
   "metadata": {},
   "outputs": [],
   "source": []
  }
 ],
 "metadata": {
  "kernelspec": {
   "display_name": "Python 3",
   "language": "python",
   "name": "python3"
  },
  "language_info": {
   "codemirror_mode": {
    "name": "ipython",
    "version": 3
   },
   "file_extension": ".py",
   "mimetype": "text/x-python",
   "name": "python",
   "nbconvert_exporter": "python",
   "pygments_lexer": "ipython3",
   "version": "3.6.8"
  }
 },
 "nbformat": 4,
 "nbformat_minor": 2
}
