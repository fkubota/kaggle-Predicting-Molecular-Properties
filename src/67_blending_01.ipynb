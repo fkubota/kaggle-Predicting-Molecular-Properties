{
 "cells": [
  {
   "cell_type": "markdown",
   "metadata": {},
   "source": [
    "# Overview\n",
    "- ブレンディングやってみる"
   ]
  },
  {
   "cell_type": "markdown",
   "metadata": {},
   "source": [
    "# Import everything I need :)"
   ]
  },
  {
   "cell_type": "code",
   "execution_count": 124,
   "metadata": {},
   "outputs": [
    {
     "name": "stderr",
     "output_type": "stream",
     "text": [
      "/usr/local/lib/python3.6/dist-packages/matplotlib/__init__.py:886: MatplotlibDeprecationWarning: \n",
      "examples.directory is deprecated; in the future, examples will be found relative to the 'datapath' directory.\n",
      "  \"found relative to the 'datapath' directory.\".format(key))\n"
     ]
    }
   ],
   "source": [
    "import glob\n",
    "import numpy as np\n",
    "import pandas as pd\n",
    "import matplotlib.pyplot as plt\n",
    "import seaborn as sns\n",
    "from sklearn.metrics import mean_absolute_error"
   ]
  },
  {
   "cell_type": "markdown",
   "metadata": {},
   "source": [
    "# All function in this notebook"
   ]
  },
  {
   "cell_type": "code",
   "execution_count": 2,
   "metadata": {},
   "outputs": [],
   "source": [
    "def kaggle_metric(df, preds):\n",
    "    df[\"prediction\"] = preds\n",
    "    maes = []\n",
    "    for t in df.type.unique():\n",
    "        y_true = df[df.type==t].scalar_coupling_constant.values\n",
    "        y_pred = df[df.type==t].prediction.values\n",
    "        mae = np.log(mean_absolute_error(y_true, y_pred))\n",
    "        maes.append(mae)\n",
    "    return np.mean(maes)"
   ]
  },
  {
   "cell_type": "markdown",
   "metadata": {},
   "source": [
    "# Preparation"
   ]
  },
  {
   "cell_type": "code",
   "execution_count": 21,
   "metadata": {},
   "outputs": [],
   "source": [
    "nb = 67"
   ]
  },
  {
   "cell_type": "code",
   "execution_count": 16,
   "metadata": {},
   "outputs": [],
   "source": [
    "train = pd.read_csv('./../input/champs-scalar-coupling/train.csv')[['type', 'scalar_coupling_constant']]\n",
    "type_train = train.type"
   ]
  },
  {
   "cell_type": "markdown",
   "metadata": {},
   "source": [
    "## my submission, oof data"
   ]
  },
  {
   "cell_type": "code",
   "execution_count": 3,
   "metadata": {},
   "outputs": [],
   "source": [
    "path_dir = './../output/'"
   ]
  },
  {
   "cell_type": "markdown",
   "metadata": {},
   "source": [
    "<br>\n",
    "<br>\n",
    "score が -1.0 以下のファイルパスを取り出す"
   ]
  },
  {
   "cell_type": "code",
   "execution_count": 4,
   "metadata": {
    "scrolled": true
   },
   "outputs": [
    {
     "data": {
      "text/plain": [
       "['./../output/nb51_oof_ridge_-1.00907.csv',\n",
       " './../output/nb51_submission_ridge_-1.00907.csv',\n",
       " './../output/nb53_oof_extra_trees_regressor_-1.18839.csv',\n",
       " './../output/nb53_submission_extra_trees_regressor_-1.18839.csv',\n",
       " './../output/nb54_oof_random_forest_regressor_-1.45569.csv',\n",
       " './../output/nb54_submission_random_forest_regressor_-1.45569.csv',\n",
       " './../output/nb56_oof_ridge_-1.36626.csv',\n",
       " './../output/nb56_oof_ridge_-1.36800.csv',\n",
       " './../output/nb56_submission_ridge_-1.36626.csv',\n",
       " './../output/nb56_submission_ridge_-1.36800.csv',\n",
       " './../output/nb57_oof_lasso_-1.07263.csv',\n",
       " './../output/nb57_submission_lasso_-1.07263.csv',\n",
       " './../output/nb60_oof_lgb_-1.2476036248694709.csv',\n",
       " './../output/nb60_oof_lgb_-1.5330660525700779.csv',\n",
       " './../output/nb60_submission_lgb_-1.2476036248694709.csv',\n",
       " './../output/nb60_submission_lgb_-1.5330660525700779.csv',\n",
       " './../output/nb63_oof_ridge_-1.05675.csv',\n",
       " './../output/nb63_oof_ridge_-1.37017.csv',\n",
       " './../output/nb63_submission_ridge_-1.05675.csv',\n",
       " './../output/nb63_submission_ridge_-1.37017.csv',\n",
       " './../output/nb64_oof_lasso_-1.00737.csv',\n",
       " './../output/nb64_submission_lasso_-1.00737.csv',\n",
       " './../output/nb66_oof_lgb_-1.1841484573529812.csv',\n",
       " './../output/nb66_oof_lgb_-1.2290049024374545.csv',\n",
       " './../output/nb66_oof_lgb_-1.2620223396736945.csv',\n",
       " './../output/nb66_oof_lgb_-1.2653899219118332.csv',\n",
       " './../output/nb66_oof_lgb_-1.2758947194580286.csv',\n",
       " './../output/nb66_submission_lgb_-1.2012252574493854.csv',\n",
       " './../output/nb66_submission_lgb_-1.2274537170402333.csv',\n",
       " './../output/nb66_submission_lgb_-1.228644127659678.csv',\n",
       " './../output/nb66_submission_lgb_-1.2475799399411476.csv',\n",
       " './../output/nb66_submission_lgb_-1.2675944050352421.csv',\n",
       " './../output/nb66_submission_lgb_-1.269968062677878.csv']"
      ]
     },
     "execution_count": 4,
     "metadata": {},
     "output_type": "execute_result"
    }
   ],
   "source": [
    "output_paths = sorted(glob.glob(path_dir + '*-1.*.csv'))\n",
    "output_paths"
   ]
  },
  {
   "cell_type": "markdown",
   "metadata": {},
   "source": [
    "<br>\n",
    "<br>\n",
    "oof path list"
   ]
  },
  {
   "cell_type": "code",
   "execution_count": 5,
   "metadata": {
    "scrolled": true
   },
   "outputs": [
    {
     "name": "stdout",
     "output_type": "stream",
     "text": [
      "16\n"
     ]
    },
    {
     "data": {
      "text/plain": [
       "['./../output/nb51_oof_ridge_-1.00907.csv',\n",
       " './../output/nb53_oof_extra_trees_regressor_-1.18839.csv',\n",
       " './../output/nb54_oof_random_forest_regressor_-1.45569.csv',\n",
       " './../output/nb56_oof_ridge_-1.36626.csv',\n",
       " './../output/nb56_oof_ridge_-1.36800.csv',\n",
       " './../output/nb57_oof_lasso_-1.07263.csv',\n",
       " './../output/nb60_oof_lgb_-1.2476036248694709.csv',\n",
       " './../output/nb60_oof_lgb_-1.5330660525700779.csv',\n",
       " './../output/nb63_oof_ridge_-1.05675.csv',\n",
       " './../output/nb63_oof_ridge_-1.37017.csv',\n",
       " './../output/nb64_oof_lasso_-1.00737.csv',\n",
       " './../output/nb66_oof_lgb_-1.1841484573529812.csv',\n",
       " './../output/nb66_oof_lgb_-1.2290049024374545.csv',\n",
       " './../output/nb66_oof_lgb_-1.2620223396736945.csv',\n",
       " './../output/nb66_oof_lgb_-1.2653899219118332.csv',\n",
       " './../output/nb66_oof_lgb_-1.2758947194580286.csv']"
      ]
     },
     "execution_count": 5,
     "metadata": {},
     "output_type": "execute_result"
    }
   ],
   "source": [
    "oof_paths = []\n",
    "for path in output_paths:\n",
    "    if 'oof' in path:\n",
    "        oof_paths.append(path)\n",
    "        \n",
    "print(len(oof_paths))\n",
    "oof_paths"
   ]
  },
  {
   "cell_type": "markdown",
   "metadata": {},
   "source": [
    "<br>\n",
    "<br>\n",
    "submission path list"
   ]
  },
  {
   "cell_type": "code",
   "execution_count": 6,
   "metadata": {
    "scrolled": true
   },
   "outputs": [
    {
     "name": "stdout",
     "output_type": "stream",
     "text": [
      "17\n"
     ]
    },
    {
     "data": {
      "text/plain": [
       "['./../output/nb51_submission_ridge_-1.00907.csv',\n",
       " './../output/nb53_submission_extra_trees_regressor_-1.18839.csv',\n",
       " './../output/nb54_submission_random_forest_regressor_-1.45569.csv',\n",
       " './../output/nb56_submission_ridge_-1.36626.csv',\n",
       " './../output/nb56_submission_ridge_-1.36800.csv',\n",
       " './../output/nb57_submission_lasso_-1.07263.csv',\n",
       " './../output/nb60_submission_lgb_-1.2476036248694709.csv',\n",
       " './../output/nb60_submission_lgb_-1.5330660525700779.csv',\n",
       " './../output/nb63_submission_ridge_-1.05675.csv',\n",
       " './../output/nb63_submission_ridge_-1.37017.csv',\n",
       " './../output/nb64_submission_lasso_-1.00737.csv',\n",
       " './../output/nb66_submission_lgb_-1.2012252574493854.csv',\n",
       " './../output/nb66_submission_lgb_-1.2274537170402333.csv',\n",
       " './../output/nb66_submission_lgb_-1.228644127659678.csv',\n",
       " './../output/nb66_submission_lgb_-1.2475799399411476.csv',\n",
       " './../output/nb66_submission_lgb_-1.2675944050352421.csv',\n",
       " './../output/nb66_submission_lgb_-1.269968062677878.csv']"
      ]
     },
     "execution_count": 6,
     "metadata": {},
     "output_type": "execute_result"
    }
   ],
   "source": [
    "sub_paths = []\n",
    "for path in output_paths:\n",
    "    if 'submission' in path:\n",
    "        sub_paths.append(path)\n",
    "print(len(sub_paths))\n",
    "sub_paths"
   ]
  },
  {
   "cell_type": "markdown",
   "metadata": {},
   "source": [
    "<br>\n",
    "<br>\n",
    "data_paths    \n",
    "\n",
    "- これらをブレンドする "
   ]
  },
  {
   "cell_type": "code",
   "execution_count": 78,
   "metadata": {},
   "outputs": [
    {
     "data": {
      "text/plain": [
       "['random_forest_regressor_-1.45569.csv',\n",
       " 'lasso_-1.07263.csv',\n",
       " 'lgb_-1.5330660525700779.csv',\n",
       " 'ridge_-1.37017.csv']"
      ]
     },
     "execution_count": 78,
     "metadata": {},
     "output_type": "execute_result"
    }
   ],
   "source": [
    "data_paths = [\n",
    "'./../output/nb54_{}_random_forest_regressor_-1.45569.csv',\n",
    "'./../output/nb57_{}_lasso_-1.07263.csv',\n",
    "'./../output/nb60_{}_lgb_-1.5330660525700779.csv',\n",
    "'./../output/nb63_{}_ridge_-1.37017.csv',\n",
    "]\n",
    "\n",
    "details = [data_paths[i].split('_{}_')[1] for i in range(len(data_paths))]\n",
    "details"
   ]
  },
  {
   "cell_type": "markdown",
   "metadata": {},
   "source": [
    "<br>\n",
    "<br>\n",
    "load data"
   ]
  },
  {
   "cell_type": "code",
   "execution_count": 81,
   "metadata": {},
   "outputs": [
    {
     "name": "stdout",
     "output_type": "stream",
     "text": [
      "submission0: ./../output/nb54_submission_random_forest_regressor_-1.45569.csv\n",
      "submission1: ./../output/nb57_submission_lasso_-1.07263.csv\n",
      "submission2: ./../output/nb60_submission_lgb_-1.5330660525700779.csv\n",
      "submission3: ./../output/nb63_submission_ridge_-1.37017.csv\n",
      "--------------------------------------------------------------------------------\n",
      "oof0: ./../output/nb54_oof_random_forest_regressor_-1.45569.csv\n",
      "oof1: ./../output/nb57_oof_lasso_-1.07263.csv\n",
      "oof2: ./../output/nb60_oof_lgb_-1.5330660525700779.csv\n",
      "oof3: ./../output/nb63_oof_ridge_-1.37017.csv\n"
     ]
    }
   ],
   "source": [
    "# submission\n",
    "sub_dfs = []\n",
    "for i, path in enumerate(data_paths):\n",
    "    sub_dfs.append(pd.read_csv(path.format('submission')).drop(['id'], axis=1))\n",
    "    print(f'submission{i}: {path.format(\"submission\")}')\n",
    "    \n",
    "print('-'*80)\n",
    "oof_dfs = []\n",
    "for i, path in enumerate(data_paths):\n",
    "    df = pd.read_csv(path.format('oof'))\n",
    "    oof_dfs.append(df)\n",
    "    print(f'oof{i}: {path.format(\"oof\")}')"
   ]
  },
  {
   "cell_type": "markdown",
   "metadata": {},
   "source": [
    "<br>\n",
    "<br>\n",
    "concat"
   ]
  },
  {
   "cell_type": "code",
   "execution_count": 82,
   "metadata": {},
   "outputs": [],
   "source": [
    "concat_oof = pd.concat(oof_dfs, axis=1)\n",
    "concat_sub = pd.concat(sub_dfs, axis=1)"
   ]
  },
  {
   "cell_type": "markdown",
   "metadata": {},
   "source": [
    "# Blending"
   ]
  },
  {
   "cell_type": "code",
   "execution_count": 83,
   "metadata": {},
   "outputs": [],
   "source": [
    "median_oof = concat_oof.median(axis=1).values\n",
    "mean_oof = concat_oof.mean(axis=1).values\n",
    "\n",
    "median_sub = concat_sub.median(axis=1).values\n",
    "mean_sub = concat_sub.mean(axis=1).values"
   ]
  },
  {
   "cell_type": "markdown",
   "metadata": {},
   "source": [
    "# score"
   ]
  },
  {
   "cell_type": "code",
   "execution_count": 84,
   "metadata": {},
   "outputs": [
    {
     "name": "stdout",
     "output_type": "stream",
     "text": [
      "median: -1.4611282492592697\n"
     ]
    }
   ],
   "source": [
    "median_oof = kaggle_metric(train, median_oof)\n",
    "print(f'median: {median_oof}')"
   ]
  },
  {
   "cell_type": "code",
   "execution_count": 85,
   "metadata": {},
   "outputs": [
    {
     "name": "stdout",
     "output_type": "stream",
     "text": [
      "mean: -1.4300632218515297\n"
     ]
    }
   ],
   "source": [
    "mean_oof = kaggle_metric(train, mean_oof)\n",
    "print(f'mean: {mean_oof}')"
   ]
  },
  {
   "cell_type": "raw",
   "metadata": {},
   "source": [
    "save_score = mean_oof\n",
    "save_data = mean_sub\n",
    "save_path = f'nb{nb}_blend_{save_score}.csv'\n",
    "\n",
    "sample_sub = pd.read_csv('./../input/champs-scalar-coupling/sample_submission.csv')\n",
    "sample_sub['scalar_coupling_constant'] = save_data\n",
    "sample_sub.to_csv(save_path, index=False)"
   ]
  },
  {
   "cell_type": "markdown",
   "metadata": {},
   "source": [
    "# analysis each type"
   ]
  },
  {
   "cell_type": "code",
   "execution_count": 104,
   "metadata": {},
   "outputs": [],
   "source": [
    "types = np.unique(type_train)"
   ]
  },
  {
   "cell_type": "code",
   "execution_count": 201,
   "metadata": {},
   "outputs": [
    {
     "name": "stdout",
     "output_type": "stream",
     "text": [
      "\n",
      " ----- 1JHC -----\n",
      "score: -0.3666289979440921 \t random_forest_regressor_-1.45569.csv\n",
      "score: -0.29629858862958747 \t lasso_-1.07263.csv\n",
      "score: -0.4634454006815642 \t lgb_-1.5330660525700779.csv\n",
      "score: -0.35289388452411236 \t ridge_-1.37017.csv\n",
      "---> best score is lgb_-1.5330660525700779.csv\n",
      "\n",
      " ----- 1JHN -----\n",
      "score: -0.951987833578046 \t random_forest_regressor_-1.45569.csv\n",
      "score: -0.84785507949602 \t lasso_-1.07263.csv\n",
      "score: -1.0762678023505958 \t lgb_-1.5330660525700779.csv\n",
      "score: -0.941734218824693 \t ridge_-1.37017.csv\n",
      "---> best score is lgb_-1.5330660525700779.csv\n",
      "\n",
      " ----- 2JHC -----\n",
      "score: -1.3179475990904663 \t random_forest_regressor_-1.45569.csv\n",
      "score: -0.9091375813685633 \t lasso_-1.07263.csv\n",
      "score: -1.4628949572695749 \t lgb_-1.5330660525700779.csv\n",
      "score: -1.1849914285763905 \t ridge_-1.37017.csv\n",
      "---> best score is lgb_-1.5330660525700779.csv\n",
      "\n",
      " ----- 2JHH -----\n",
      "score: -1.8093836314767306 \t random_forest_regressor_-1.45569.csv\n",
      "score: -1.542903929347229 \t lasso_-1.07263.csv\n",
      "score: -1.86072841750416 \t lgb_-1.5330660525700779.csv\n",
      "score: -1.7481314890882047 \t ridge_-1.37017.csv\n",
      "---> best score is lgb_-1.5330660525700779.csv\n",
      "\n",
      " ----- 2JHN -----\n",
      "score: -1.8654901514411202 \t random_forest_regressor_-1.45569.csv\n",
      "score: -1.3773773896054466 \t lasso_-1.07263.csv\n",
      "score: -1.9042764787360518 \t lgb_-1.5330660525700779.csv\n",
      "score: -1.7089369344011418 \t ridge_-1.37017.csv\n",
      "---> best score is lgb_-1.5330660525700779.csv\n",
      "\n",
      " ----- 3JHC -----\n",
      "score: -1.2901942442293313 \t random_forest_regressor_-1.45569.csv\n",
      "score: -1.1588734277812425 \t lasso_-1.07263.csv\n",
      "score: -1.4451578259585738 \t lgb_-1.5330660525700779.csv\n",
      "score: -1.2268679398380247 \t ridge_-1.37017.csv\n",
      "---> best score is lgb_-1.5330660525700779.csv\n",
      "\n",
      " ----- 3JHH -----\n",
      "score: -1.8869856604193445 \t random_forest_regressor_-1.45569.csv\n",
      "score: -1.0604417304326337 \t lasso_-1.07263.csv\n",
      "score: -1.8760752404764902 \t lgb_-1.5330660525700779.csv\n",
      "score: -1.7888975660601683 \t ridge_-1.37017.csv\n",
      "---> best score is random_forest_regressor_-1.45569.csv\n",
      "\n",
      " ----- 3JHN -----\n",
      "score: -2.1568887399029015 \t random_forest_regressor_-1.45569.csv\n",
      "score: -1.3881899735129124 \t lasso_-1.07263.csv\n",
      "score: -2.175682297583613 \t lgb_-1.5330660525700779.csv\n",
      "score: -2.008890557211385 \t ridge_-1.37017.csv\n",
      "---> best score is lgb_-1.5330660525700779.csv\n"
     ]
    },
    {
     "data": {
      "text/html": [
       "<div>\n",
       "<style scoped>\n",
       "    .dataframe tbody tr th:only-of-type {\n",
       "        vertical-align: middle;\n",
       "    }\n",
       "\n",
       "    .dataframe tbody tr th {\n",
       "        vertical-align: top;\n",
       "    }\n",
       "\n",
       "    .dataframe thead th {\n",
       "        text-align: right;\n",
       "    }\n",
       "</style>\n",
       "<table border=\"1\" class=\"dataframe\">\n",
       "  <thead>\n",
       "    <tr style=\"text-align: right;\">\n",
       "      <th></th>\n",
       "      <th>type</th>\n",
       "      <th>random_forest_regressor_-1.45569.csv</th>\n",
       "      <th>lasso_-1.07263.csv</th>\n",
       "      <th>lgb_-1.5330660525700779.csv</th>\n",
       "      <th>ridge_-1.37017.csv</th>\n",
       "    </tr>\n",
       "  </thead>\n",
       "  <tbody>\n",
       "    <tr>\n",
       "      <td>0</td>\n",
       "      <td>1JHC</td>\n",
       "      <td>-0.366629</td>\n",
       "      <td>-0.296299</td>\n",
       "      <td>-0.463445</td>\n",
       "      <td>-0.352894</td>\n",
       "    </tr>\n",
       "    <tr>\n",
       "      <td>1</td>\n",
       "      <td>1JHN</td>\n",
       "      <td>-0.951988</td>\n",
       "      <td>-0.847855</td>\n",
       "      <td>-1.076268</td>\n",
       "      <td>-0.941734</td>\n",
       "    </tr>\n",
       "    <tr>\n",
       "      <td>2</td>\n",
       "      <td>2JHC</td>\n",
       "      <td>-1.317948</td>\n",
       "      <td>-0.909138</td>\n",
       "      <td>-1.462895</td>\n",
       "      <td>-1.184991</td>\n",
       "    </tr>\n",
       "    <tr>\n",
       "      <td>3</td>\n",
       "      <td>2JHH</td>\n",
       "      <td>-1.809384</td>\n",
       "      <td>-1.542904</td>\n",
       "      <td>-1.860728</td>\n",
       "      <td>-1.748131</td>\n",
       "    </tr>\n",
       "    <tr>\n",
       "      <td>4</td>\n",
       "      <td>2JHN</td>\n",
       "      <td>-1.865490</td>\n",
       "      <td>-1.377377</td>\n",
       "      <td>-1.904276</td>\n",
       "      <td>-1.708937</td>\n",
       "    </tr>\n",
       "    <tr>\n",
       "      <td>5</td>\n",
       "      <td>3JHC</td>\n",
       "      <td>-1.290194</td>\n",
       "      <td>-1.158873</td>\n",
       "      <td>-1.445158</td>\n",
       "      <td>-1.226868</td>\n",
       "    </tr>\n",
       "    <tr>\n",
       "      <td>6</td>\n",
       "      <td>3JHH</td>\n",
       "      <td>-1.886986</td>\n",
       "      <td>-1.060442</td>\n",
       "      <td>-1.876075</td>\n",
       "      <td>-1.788898</td>\n",
       "    </tr>\n",
       "    <tr>\n",
       "      <td>7</td>\n",
       "      <td>3JHN</td>\n",
       "      <td>-2.156889</td>\n",
       "      <td>-1.388190</td>\n",
       "      <td>-2.175682</td>\n",
       "      <td>-2.008891</td>\n",
       "    </tr>\n",
       "  </tbody>\n",
       "</table>\n",
       "</div>"
      ],
      "text/plain": [
       "   type  random_forest_regressor_-1.45569.csv  lasso_-1.07263.csv  \\\n",
       "0  1JHC                             -0.366629           -0.296299   \n",
       "1  1JHN                             -0.951988           -0.847855   \n",
       "2  2JHC                             -1.317948           -0.909138   \n",
       "3  2JHH                             -1.809384           -1.542904   \n",
       "4  2JHN                             -1.865490           -1.377377   \n",
       "5  3JHC                             -1.290194           -1.158873   \n",
       "6  3JHH                             -1.886986           -1.060442   \n",
       "7  3JHN                             -2.156889           -1.388190   \n",
       "\n",
       "   lgb_-1.5330660525700779.csv  ridge_-1.37017.csv  \n",
       "0                    -0.463445           -0.352894  \n",
       "1                    -1.076268           -0.941734  \n",
       "2                    -1.462895           -1.184991  \n",
       "3                    -1.860728           -1.748131  \n",
       "4                    -1.904276           -1.708937  \n",
       "5                    -1.445158           -1.226868  \n",
       "6                    -1.876075           -1.788898  \n",
       "7                    -2.175682           -2.008891  "
      ]
     },
     "metadata": {},
     "output_type": "display_data"
    }
   ],
   "source": [
    "result_df = pd.DataFrame({'type': types})\n",
    "type_scores = []\n",
    "for i_type, type_ in enumerate(types):\n",
    "    print(f'\\n ----- {type_} -----')\n",
    "    idx = type_train==type_\n",
    "    y_true = train['scalar_coupling_constant'][idx]\n",
    "    \n",
    "    oof_scores = []\n",
    "    for i_oof in range(len(oof_dfs)):\n",
    "        pred = oof_dfs[i_oof][idx]['oof']\n",
    "        score = np.log(mean_absolute_error(y_true, pred))\n",
    "        print(f'score: {score} \\t {details[i_oof]}')\n",
    "        oof_scores.append(score)\n",
    "    type_scores.append(oof_scores)\n",
    "        \n",
    "        \n",
    "    best_idx = np.argmin(oof_scores)\n",
    "    print(f'---> best score is {details[best_idx]}')\n",
    "type_scores = np.array(type_scores)\n",
    "type_scores = pd.DataFrame(type_scores, columns=details)\n",
    "result_df = pd.concat([result_df, pd.DataFrame(type_scores)], axis=1)\n",
    "display(result_df)"
   ]
  },
  {
   "cell_type": "code",
   "execution_count": 202,
   "metadata": {},
   "outputs": [
    {
     "data": {
      "text/plain": [
       "<matplotlib.axes._subplots.AxesSubplot at 0x7f598da5ad68>"
      ]
     },
     "execution_count": 202,
     "metadata": {},
     "output_type": "execute_result"
    },
    {
     "data": {
      "image/png": "[encoded data removed]",
      "text/plain": [
       "<Figure size 720x504 with 1 Axes>"
      ]
     },
     "metadata": {
      "needs_background": "light"
     },
     "output_type": "display_data"
    }
   ],
   "source": [
    "result_df.plot.bar(x='type', figsize=(10,7))"
   ]
  },
  {
   "cell_type": "code",
   "execution_count": null,
   "metadata": {},
   "outputs": [],
   "source": []
  }
 ],
 "metadata": {
  "kernelspec": {
   "display_name": "Python 3",
   "language": "python",
   "name": "python3"
  },
  "language_info": {
   "codemirror_mode": {
    "name": "ipython",
    "version": 3
   },
   "file_extension": ".py",
   "mimetype": "text/x-python",
   "name": "python",
   "nbconvert_exporter": "python",
   "pygments_lexer": "ipython3",
   "version": "3.6.8"
  },
  "toc-autonumbering": true
 },
 "nbformat": 4,
 "nbformat_minor": 4
}
