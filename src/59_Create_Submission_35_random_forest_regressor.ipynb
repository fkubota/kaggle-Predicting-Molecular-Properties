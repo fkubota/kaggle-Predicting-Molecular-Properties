{
 "cells": [
  {
   "cell_type": "markdown",
   "metadata": {},
   "source": [
    "# Introduction\n",
    "- nb54の編集\n",
    "- permutation importanceを追加"
   ]
  },
  {
   "cell_type": "markdown",
   "metadata": {},
   "source": [
    "# Import everything I need :)"
   ]
  },
  {
   "cell_type": "code",
   "execution_count": 118,
   "metadata": {},
   "outputs": [],
   "source": [
    "import warnings\n",
    "warnings.filterwarnings('ignore')\n",
    "import time\n",
    "import multiprocessing\n",
    "import glob\n",
    "import gc\n",
    "import matplotlib.pyplot as plt\n",
    "import seaborn as sns\n",
    "import numpy as np\n",
    "import pandas as pd\n",
    "from plotly.offline import init_notebook_mode, iplot\n",
    "import plotly.graph_objs as go\n",
    "from sklearn.preprocessing import LabelEncoder, StandardScaler\n",
    "from sklearn.model_selection import KFold, train_test_split\n",
    "from sklearn.metrics import mean_absolute_error\n",
    "from sklearn.ensemble import ExtraTreesRegressor, AdaBoostRegressor, RandomForestRegressor\n",
    "from fastprogress import progress_bar"
   ]
  },
  {
   "cell_type": "markdown",
   "metadata": {},
   "source": [
    "# Preparation"
   ]
  },
  {
   "cell_type": "code",
   "execution_count": 119,
   "metadata": {},
   "outputs": [],
   "source": [
    "nb = 59\n",
    "isSmallSet = True\n",
    "length = 2000\n",
    "model_name = 'random_forest_regressor'"
   ]
  },
  {
   "cell_type": "code",
   "execution_count": 120,
   "metadata": {},
   "outputs": [],
   "source": [
    "pd.set_option('display.max_columns', 200)"
   ]
  },
  {
   "cell_type": "code",
   "execution_count": 121,
   "metadata": {},
   "outputs": [],
   "source": [
    "# use atomic numbers to recode atomic names\n",
    "ATOMIC_NUMBERS = {\n",
    "    'H': 1,\n",
    "    'C': 6,\n",
    "    'N': 7,\n",
    "    'O': 8,\n",
    "    'F': 9\n",
    "}"
   ]
  },
  {
   "cell_type": "code",
   "execution_count": 122,
   "metadata": {},
   "outputs": [
    {
     "data": {
      "text/plain": [
       "['../input/champs-scalar-coupling/nb29_fc_train_feature.csv',\n",
       " '../input/champs-scalar-coupling/train_ob_charges_V7EstimatioofMullikenChargeswithOpenBabel.csv',\n",
       " '../input/champs-scalar-coupling/mulliken_charges.csv',\n",
       " '../input/champs-scalar-coupling/nb33_train_dist-interaction.csv',\n",
       " '../input/champs-scalar-coupling/test_ob_charges_V7EstimatioofMullikenChargeswithOpenBabel.csv',\n",
       " '../input/champs-scalar-coupling/structures.csv',\n",
       " '../input/champs-scalar-coupling/magnetic_shielding_tensors.csv',\n",
       " '../input/champs-scalar-coupling/train.csv',\n",
       " '../input/champs-scalar-coupling/nb47_fc_test.csv',\n",
       " '../input/champs-scalar-coupling/dipole_moments.csv',\n",
       " '../input/champs-scalar-coupling/test.csv',\n",
       " '../input/champs-scalar-coupling/nb29_fc_test_feature.csv',\n",
       " '../input/champs-scalar-coupling/scalar_coupling_contributions.csv',\n",
       " '../input/champs-scalar-coupling/nb47_fc_train.csv',\n",
       " '../input/champs-scalar-coupling/potential_energy.csv',\n",
       " '../input/champs-scalar-coupling/sample_submission.csv',\n",
       " '../input/champs-scalar-coupling/nb33_test_dist-interaction.csv']"
      ]
     },
     "execution_count": 122,
     "metadata": {},
     "output_type": "execute_result"
    }
   ],
   "source": [
    "file_path = '../input/champs-scalar-coupling/'\n",
    "glob.glob(file_path + '*')"
   ]
  },
  {
   "cell_type": "code",
   "execution_count": 123,
   "metadata": {},
   "outputs": [],
   "source": [
    "# train\n",
    "path = file_path + 'train.csv'\n",
    "if isSmallSet:\n",
    "    train = pd.read_csv(path) [:length]\n",
    "else:\n",
    "    train = pd.read_csv(path)"
   ]
  },
  {
   "cell_type": "code",
   "execution_count": 124,
   "metadata": {},
   "outputs": [],
   "source": [
    "# test\n",
    "path = file_path + 'test.csv'\n",
    "if isSmallSet:\n",
    "    test = pd.read_csv(path)[:length]\n",
    "else:\n",
    "    test = pd.read_csv(path)"
   ]
  },
  {
   "cell_type": "code",
   "execution_count": 125,
   "metadata": {},
   "outputs": [],
   "source": [
    "# structure\n",
    "path = file_path + 'structures.csv'\n",
    "structures = pd.read_csv(path)"
   ]
  },
  {
   "cell_type": "code",
   "execution_count": 126,
   "metadata": {},
   "outputs": [],
   "source": [
    "# fc_train\n",
    "path = file_path + 'nb47_fc_train.csv'\n",
    "if isSmallSet:\n",
    "    fc_train = pd.read_csv(path)[:length]\n",
    "else:\n",
    "    fc_train = pd.read_csv(path)"
   ]
  },
  {
   "cell_type": "code",
   "execution_count": 127,
   "metadata": {},
   "outputs": [],
   "source": [
    "# fc_test\n",
    "path = file_path + 'nb47_fc_test.csv'\n",
    "if isSmallSet:\n",
    "    fc_test = pd.read_csv(path)[:length]\n",
    "else:\n",
    "    fc_test = pd.read_csv(path)"
   ]
  },
  {
   "cell_type": "code",
   "execution_count": 128,
   "metadata": {},
   "outputs": [],
   "source": [
    "# train dist-interact\n",
    "path = file_path + 'nb33_train_dist-interaction.csv'\n",
    "if isSmallSet:\n",
    "    dist_interact_train = pd.read_csv(path)[:length]\n",
    "else:\n",
    "    dist_interact_train = pd.read_csv(path)"
   ]
  },
  {
   "cell_type": "code",
   "execution_count": 129,
   "metadata": {},
   "outputs": [],
   "source": [
    "# test dist-interact\n",
    "path = file_path + 'nb33_test_dist-interaction.csv'\n",
    "if isSmallSet:\n",
    "    dist_interact_test = pd.read_csv(path)[:length]\n",
    "else:\n",
    "    dist_interact_test = pd.read_csv(path)"
   ]
  },
  {
   "cell_type": "code",
   "execution_count": 130,
   "metadata": {},
   "outputs": [],
   "source": [
    "# ob charge train\n",
    "path = file_path + 'train_ob_charges_V7EstimatioofMullikenChargeswithOpenBabel.csv'\n",
    "if isSmallSet:\n",
    "    ob_charge_train = pd.read_csv(path)[:length].drop(['Unnamed: 0', 'error'], axis=1)\n",
    "else:\n",
    "    ob_charge_train = pd.read_csv(path).drop(['Unnamed: 0', 'error'], axis=1)"
   ]
  },
  {
   "cell_type": "code",
   "execution_count": 131,
   "metadata": {},
   "outputs": [],
   "source": [
    "# ob charge test\n",
    "path = file_path + 'test_ob_charges_V7EstimatioofMullikenChargeswithOpenBabel.csv'\n",
    "if isSmallSet:\n",
    "    ob_charge_test = pd.read_csv(path)[:length].drop(['Unnamed: 0', 'error'], axis=1)\n",
    "else:\n",
    "    ob_charge_test = pd.read_csv(path).drop(['Unnamed: 0', 'error'], axis=1)"
   ]
  },
  {
   "cell_type": "code",
   "execution_count": 132,
   "metadata": {},
   "outputs": [
    {
     "data": {
      "text/plain": [
       "(2000, 2000)"
      ]
     },
     "execution_count": 132,
     "metadata": {},
     "output_type": "execute_result"
    }
   ],
   "source": [
    "len(test), len(fc_test)"
   ]
  },
  {
   "cell_type": "code",
   "execution_count": 133,
   "metadata": {},
   "outputs": [
    {
     "data": {
      "text/plain": [
       "(2000, 2000)"
      ]
     },
     "execution_count": 133,
     "metadata": {},
     "output_type": "execute_result"
    }
   ],
   "source": [
    "len(train), len(fc_train)"
   ]
  },
  {
   "cell_type": "code",
   "execution_count": 134,
   "metadata": {},
   "outputs": [
    {
     "name": "stdout",
     "output_type": "stream",
     "text": [
      "using SmallSet !!\n",
      "-------------------\n",
      "There are 2000 rows in train data.\n",
      "There are 2000 rows in test data.\n",
      "There are 77 distinct molecules in train data.\n",
      "There are 68 distinct molecules in test data.\n",
      "There are 16 unique atoms.\n",
      "There are 8 unique types.\n"
     ]
    }
   ],
   "source": [
    "if isSmallSet:\n",
    "    print('using SmallSet !!')\n",
    "    print('-------------------')\n",
    "\n",
    "print(f'There are {train.shape[0]} rows in train data.')\n",
    "print(f'There are {test.shape[0]} rows in test data.')\n",
    "\n",
    "print(f\"There are {train['molecule_name'].nunique()} distinct molecules in train data.\")\n",
    "print(f\"There are {test['molecule_name'].nunique()} distinct molecules in test data.\")\n",
    "print(f\"There are {train['atom_index_0'].nunique()} unique atoms.\")\n",
    "print(f\"There are {train['type'].nunique()} unique types.\")"
   ]
  },
  {
   "cell_type": "markdown",
   "metadata": {},
   "source": [
    "---\n",
    "## myFunc\n",
    "**metrics**"
   ]
  },
  {
   "cell_type": "code",
   "execution_count": 135,
   "metadata": {},
   "outputs": [],
   "source": [
    "def kaggle_metric(df, preds):\n",
    "    df[\"prediction\"] = preds\n",
    "    maes = []\n",
    "    for t in df.type.unique():\n",
    "        y_true = df[df.type==t].scalar_coupling_constant.values\n",
    "        y_pred = df[df.type==t].prediction.values\n",
    "        mae = np.log(mean_absolute_error(y_true, y_pred))\n",
    "        maes.append(mae)\n",
    "    return np.mean(maes)"
   ]
  },
  {
   "cell_type": "markdown",
   "metadata": {},
   "source": [
    "---\n",
    "**momory**"
   ]
  },
  {
   "cell_type": "code",
   "execution_count": 136,
   "metadata": {},
   "outputs": [],
   "source": [
    "def reduce_mem_usage(df, verbose=True):\n",
    "    numerics = ['int16', 'int32', 'int64', 'float16', 'float32', 'float64']\n",
    "    start_mem = df.memory_usage().sum() / 1024**2\n",
    "    for col in df.columns:\n",
    "        col_type = df[col].dtypes\n",
    "        if col_type in numerics:\n",
    "            c_min = df[col].min()\n",
    "            c_max = df[col].max()\n",
    "            if str(col_type)[:3] == 'int':\n",
    "                if c_min > np.iinfo(np.int8).min and c_max < np.iinfo(np.int8).max:\n",
    "                    df[col] = df[col].astype(np.int8)\n",
    "                elif c_min > np.iinfo(np.int16).min and c_max < np.iinfo(np.int16).max:\n",
    "                    df[col] = df[col].astype(np.int16)\n",
    "                elif c_min > np.iinfo(np.int32).min and c_max < np.iinfo(np.int32).max:\n",
    "                    df[col] = df[col].astype(np.int32)\n",
    "                elif c_min > np.iinfo(np.int64).min and c_max < np.iinfo(np.int64).max:\n",
    "                    df[col] = df[col].astype(np.int64)\n",
    "            else:\n",
    "                c_prec = df[col].apply(lambda x: np.finfo(x).precision).max()\n",
    "                if c_min > np.finfo(np.float16).min and c_max < np.finfo(np.float16).max and c_prec == np.finfo(np.float16).precision:\n",
    "                    df[col] = df[col].astype(np.float16)\n",
    "                elif c_min > np.finfo(np.float32).min and c_max < np.finfo(np.float32).max and c_prec == np.finfo(np.float32).precision:\n",
    "                    df[col] = df[col].astype(np.float32)\n",
    "                else:\n",
    "                    df[col] = df[col].astype(np.float64)\n",
    "    end_mem = df.memory_usage().sum() / 1024**2\n",
    "    if verbose: print('Mem. usage decreased to {:5.2f} Mb ({:.1f}% reduction)'.format(end_mem, 100 * (start_mem - end_mem) / start_mem))\n",
    "    return df"
   ]
  },
  {
   "cell_type": "code",
   "execution_count": 137,
   "metadata": {},
   "outputs": [],
   "source": [
    "class permutation_importance():\n",
    "    def __init__(self, model, metric):\n",
    "        self.is_computed = False\n",
    "        self.n_feat = 0\n",
    "        self.base_score = 0\n",
    "        self.model = model\n",
    "        self.metric = metric\n",
    "        self.df_result = []\n",
    "    \n",
    "    def compute(self, X_valid, y_valid):\n",
    "        self.n_feat = len(X_valid.columns)\n",
    "        self.base_score = self.metric(y_valid, self.model.predict(X_valid))\n",
    "        self.df_result = pd.DataFrame({'feat': X_valid.columns, \n",
    "                                       'score': np.zeros(self.n_feat),\n",
    "                                       'score_diff': np.zeros(self.n_feat)})\n",
    "        \n",
    "        # predict\n",
    "        for i, col in enumerate(X_valid.columns):\n",
    "            df_perm = X_valid.copy()\n",
    "            np.random.seed(1)\n",
    "            df_perm[col] = np.random.permutation(df_perm[col])\n",
    "            y_valid_pred = model.predict(df_perm)\n",
    "            score = self.metric(y_valid, y_valid_pred)\n",
    "            self.df_result['score'][self.df_result['feat']==col] = score\n",
    "            self.df_result['score_diff'][self.df_result['feat']==col] = self.base_score - score\n",
    "        self.is_computed = True\n",
    "    \n",
    "    def get_negative_feature(self):\n",
    "        assert self.is_computed!=False, 'compute メソッドが実行されていません'\n",
    "        idx = self.df_result['score_diff'] < 0\n",
    "        return self.df_result.loc[idx, 'feat'].values.tolist()\n",
    "        \n",
    "    def get_positive_feature(self):\n",
    "        assert self.is_computed!=False, 'compute メソッドが実行されていません'\n",
    "        idx = self.df_result['score_diff'] > 0\n",
    "        return self.df_result.loc[idx, 'feat'].values.tolist()\n",
    "    \n",
    "    def show_permutation_importance(self, score_type='loss'):\n",
    "        assert self.is_computed!=False, 'compute メソッドが実行されていません'\n",
    "        if score_type=='loss':\n",
    "            ascending = True\n",
    "        elif score_type=='accuracy':\n",
    "            ascending = False\n",
    "        else:\n",
    "            ascending = ''\n",
    "        \n",
    "        plt.figure(figsize=(15, int(0.25*self.n_feat)))\n",
    "        sns.barplot(x=\"score_diff\", y=\"feat\", data=self.df_result.sort_values(by=\"score_diff\", ascending=ascending))\n",
    "        plt.title('base_score - permutation_score')"
   ]
  },
  {
   "cell_type": "markdown",
   "metadata": {},
   "source": [
    "# Feature Engineering"
   ]
  },
  {
   "cell_type": "markdown",
   "metadata": {},
   "source": [
    "Build Distance Dataset"
   ]
  },
  {
   "cell_type": "code",
   "execution_count": 138,
   "metadata": {},
   "outputs": [],
   "source": [
    "def build_type_dataframes(base, structures, coupling_type):\n",
    "    base = base[base['type'] == coupling_type].drop('type', axis=1).copy()\n",
    "    base = base.reset_index()\n",
    "    base['id'] = base['id'].astype('int32')\n",
    "    structures = structures[structures['molecule_name'].isin(base['molecule_name'])]\n",
    "    return base, structures\n",
    "\n",
    "# a,b = build_type_dataframes(train, structures, '1JHN')"
   ]
  },
  {
   "cell_type": "code",
   "execution_count": 139,
   "metadata": {},
   "outputs": [],
   "source": [
    "def add_coordinates(base, structures, index):\n",
    "    df = pd.merge(base, structures, how='inner',\n",
    "                  left_on=['molecule_name', f'atom_index_{index}'],\n",
    "                  right_on=['molecule_name', 'atom_index']).drop(['atom_index'], axis=1)\n",
    "    df = df.rename(columns={\n",
    "        'atom': f'atom_{index}',\n",
    "        'x': f'x_{index}',\n",
    "        'y': f'y_{index}',\n",
    "        'z': f'z_{index}'\n",
    "    })\n",
    "    return df"
   ]
  },
  {
   "cell_type": "code",
   "execution_count": 140,
   "metadata": {},
   "outputs": [],
   "source": [
    "def add_atoms(base, atoms):\n",
    "    df = pd.merge(base, atoms, how='inner',\n",
    "                  on=['molecule_name', 'atom_index_0', 'atom_index_1'])\n",
    "    return df"
   ]
  },
  {
   "cell_type": "code",
   "execution_count": 141,
   "metadata": {},
   "outputs": [],
   "source": [
    "def merge_all_atoms(base, structures):\n",
    "    df = pd.merge(base, structures, how='left',\n",
    "                  left_on=['molecule_name'],\n",
    "                  right_on=['molecule_name'])\n",
    "    df = df[(df.atom_index_0 != df.atom_index) & (df.atom_index_1 != df.atom_index)]\n",
    "    return df"
   ]
  },
  {
   "cell_type": "code",
   "execution_count": 142,
   "metadata": {},
   "outputs": [],
   "source": [
    "def add_center(df):\n",
    "    df['x_c'] = ((df['x_1'] + df['x_0']) * np.float32(0.5))\n",
    "    df['y_c'] = ((df['y_1'] + df['y_0']) * np.float32(0.5))\n",
    "    df['z_c'] = ((df['z_1'] + df['z_0']) * np.float32(0.5))\n",
    "\n",
    "def add_distance_to_center(df):\n",
    "    df['d_c'] = ((\n",
    "        (df['x_c'] - df['x'])**np.float32(2) +\n",
    "        (df['y_c'] - df['y'])**np.float32(2) + \n",
    "        (df['z_c'] - df['z'])**np.float32(2)\n",
    "    )**np.float32(0.5))\n",
    "\n",
    "def add_distance_between(df, suffix1, suffix2):\n",
    "    df[f'd_{suffix1}_{suffix2}'] = ((\n",
    "        (df[f'x_{suffix1}'] - df[f'x_{suffix2}'])**np.float32(2) +\n",
    "        (df[f'y_{suffix1}'] - df[f'y_{suffix2}'])**np.float32(2) + \n",
    "        (df[f'z_{suffix1}'] - df[f'z_{suffix2}'])**np.float32(2)\n",
    "    )**np.float32(0.5))"
   ]
  },
  {
   "cell_type": "code",
   "execution_count": 143,
   "metadata": {},
   "outputs": [],
   "source": [
    "def add_distances(df):\n",
    "    n_atoms = 1 + max([int(c.split('_')[1]) for c in df.columns if c.startswith('x_')])\n",
    "    \n",
    "    for i in range(1, n_atoms):\n",
    "        for vi in range(min(4, i)):\n",
    "            add_distance_between(df, i, vi)"
   ]
  },
  {
   "cell_type": "code",
   "execution_count": 144,
   "metadata": {},
   "outputs": [],
   "source": [
    "def add_n_atoms(base, structures):\n",
    "    dfs = structures['molecule_name'].value_counts().rename('n_atoms').to_frame()\n",
    "    return pd.merge(base, dfs, left_on='molecule_name', right_index=True)"
   ]
  },
  {
   "cell_type": "code",
   "execution_count": 145,
   "metadata": {},
   "outputs": [],
   "source": [
    "def build_couple_dataframe(some_csv, structures_csv, coupling_type, n_atoms=10):\n",
    "    base, structures = build_type_dataframes(some_csv, structures_csv, coupling_type)\n",
    "    base = add_coordinates(base, structures, 0)\n",
    "    base = add_coordinates(base, structures, 1)\n",
    "    \n",
    "    base = base.drop(['atom_0', 'atom_1'], axis=1)\n",
    "    atoms = base.drop('id', axis=1).copy()\n",
    "    if 'scalar_coupling_constant' in some_csv:\n",
    "        atoms = atoms.drop(['scalar_coupling_constant'], axis=1)\n",
    "        \n",
    "    add_center(atoms)\n",
    "    atoms = atoms.drop(['x_0', 'y_0', 'z_0', 'x_1', 'y_1', 'z_1'], axis=1)\n",
    "\n",
    "    atoms = merge_all_atoms(atoms, structures)\n",
    "    \n",
    "    add_distance_to_center(atoms)\n",
    "    \n",
    "    atoms = atoms.drop(['x_c', 'y_c', 'z_c', 'atom_index'], axis=1)\n",
    "    atoms.sort_values(['molecule_name', 'atom_index_0', 'atom_index_1', 'd_c'], inplace=True)\n",
    "    atom_groups = atoms.groupby(['molecule_name', 'atom_index_0', 'atom_index_1'])\n",
    "    atoms['num'] = atom_groups.cumcount() + 2\n",
    "    atoms = atoms.drop(['d_c'], axis=1)\n",
    "    atoms = atoms[atoms['num'] < n_atoms]\n",
    "\n",
    "    atoms = atoms.set_index(['molecule_name', 'atom_index_0', 'atom_index_1', 'num']).unstack()\n",
    "    atoms.columns = [f'{col[0]}_{col[1]}' for col in atoms.columns]\n",
    "    atoms = atoms.reset_index()\n",
    "    \n",
    "#     # downcast back to int8\n",
    "    for col in atoms.columns:\n",
    "        if col.startswith('atom_'):\n",
    "            atoms[col] = atoms[col].fillna(0).astype('int8')\n",
    "            \n",
    "#     atoms['molecule_name'] = atoms['molecule_name'].astype('int32')\n",
    "    \n",
    "    full = add_atoms(base, atoms)\n",
    "    add_distances(full)\n",
    "    \n",
    "    full.sort_values('id', inplace=True)\n",
    "    \n",
    "    return full"
   ]
  },
  {
   "cell_type": "code",
   "execution_count": 146,
   "metadata": {},
   "outputs": [],
   "source": [
    "def take_n_atoms(df, n_atoms, four_start=4):\n",
    "    labels = ['id', 'molecule_name', 'atom_index_1', 'atom_index_0']\n",
    "    for i in range(2, n_atoms):\n",
    "        label = f'atom_{i}'\n",
    "        labels.append(label)\n",
    "\n",
    "    for i in range(n_atoms):\n",
    "        num = min(i, 4) if i < four_start else 4\n",
    "        for j in range(num):\n",
    "            labels.append(f'd_{i}_{j}')\n",
    "    if 'scalar_coupling_constant' in df:\n",
    "        labels.append('scalar_coupling_constant')\n",
    "    return df[labels]"
   ]
  },
  {
   "cell_type": "code",
   "execution_count": 147,
   "metadata": {},
   "outputs": [
    {
     "data": {
      "text/html": [
       "\n",
       "    <div>\n",
       "        <style>\n",
       "            /* Turns off some styling */\n",
       "            progress {\n",
       "                /* gets rid of default border in Firefox and Opera. */\n",
       "                border: none;\n",
       "                /* Needs to be in here for Safari polyfill so background images work as expected. */\n",
       "                background-size: auto;\n",
       "            }\n",
       "            .progress-bar-interrupted, .progress-bar-interrupted::-webkit-progress-bar {\n",
       "                background: #F44336;\n",
       "            }\n",
       "        </style>\n",
       "      <progress value='8' class='' max='8', style='width:300px; height:20px; vertical-align: middle;'></progress>\n",
       "      100.00% [8/8 00:02<00:00]\n",
       "    </div>\n",
       "    "
      ],
      "text/plain": [
       "<IPython.core.display.HTML object>"
      ]
     },
     "metadata": {},
     "output_type": "display_data"
    }
   ],
   "source": [
    "atoms = structures['atom'].values\n",
    "types_train = train['type'].values\n",
    "types_test = test['type'].values\n",
    "structures['atom'] = structures['atom'].replace(ATOMIC_NUMBERS).astype('int8')\n",
    "fulls_train = []\n",
    "fulls_test  = []\n",
    "for type_ in progress_bar(train['type'].unique()):\n",
    "    full_train = build_couple_dataframe(train, structures, type_, n_atoms=10)\n",
    "    full_test  = build_couple_dataframe(test, structures, type_, n_atoms=10)\n",
    "    full_train = take_n_atoms(full_train, 10)\n",
    "    full_test  = take_n_atoms(full_test, 10)\n",
    "    fulls_train.append(full_train)\n",
    "    fulls_test.append(full_test)\n",
    "    \n",
    "structures['atom'] = atoms\n",
    "train = pd.concat(fulls_train).sort_values(by=['id']) #, axis=0)\n",
    "test  = pd.concat(fulls_test).sort_values(by=['id']) #, axis=0)\n",
    "train['type'] = types_train\n",
    "test['type'] = types_test\n",
    "train = train.fillna(0)\n",
    "test  = test.fillna(0)"
   ]
  },
  {
   "cell_type": "markdown",
   "metadata": {},
   "source": [
    "<br>\n",
    "<br>\n",
    "dist-interact"
   ]
  },
  {
   "cell_type": "code",
   "execution_count": 148,
   "metadata": {},
   "outputs": [],
   "source": [
    "train['dist_interact'] = dist_interact_train.values\n",
    "test['dist_interact'] = dist_interact_test.values"
   ]
  },
  {
   "cell_type": "markdown",
   "metadata": {},
   "source": [
    "<br>\n",
    "<br>\n",
    "basic"
   ]
  },
  {
   "cell_type": "code",
   "execution_count": 149,
   "metadata": {},
   "outputs": [],
   "source": [
    "def map_atom_info(df_1,df_2, atom_idx):\n",
    "    df = pd.merge(df_1, df_2, how = 'left',\n",
    "                  left_on  = ['molecule_name', f'atom_index_{atom_idx}'],\n",
    "                  right_on = ['molecule_name',  'atom_index'])\n",
    "    df = df.drop('atom_index', axis=1)\n",
    "    return df\n",
    "\n",
    "\n",
    "# structure and ob_charges\n",
    "ob_charge = pd.concat([ob_charge_train, ob_charge_test])\n",
    "merge = pd.merge(ob_charge, structures, how='left',\n",
    "                  left_on  = ['molecule_name', 'atom_index'],\n",
    "                  right_on = ['molecule_name', 'atom_index'])\n",
    "for atom_idx in [0,1]:\n",
    "    train = map_atom_info(train, merge, atom_idx)\n",
    "    test  = map_atom_info(test,  merge, atom_idx)\n",
    "    \n",
    "    train = train.rename(columns={\n",
    "                                        'atom': f'atom_{atom_idx}',\n",
    "                                        'x': f'x_{atom_idx}',\n",
    "                                        'y': f'y_{atom_idx}',\n",
    "                                        'z': f'z_{atom_idx}',\n",
    "                                        'eem': f'eem_{atom_idx}',\n",
    "                                     'mmff94': f'mmff94_{atom_idx}',\n",
    "                                  'gasteiger': f'gasteiger_{atom_idx}', \n",
    "                                        'qeq': f'qeq_{atom_idx}',\n",
    "                                      'qtpie': f'qtpie_{atom_idx}', \n",
    "                                  'eem2015ha': f'eem2015ha_{atom_idx}', \n",
    "                                  'eem2015hm': f'eem2015hm_{atom_idx}', \n",
    "                                  'eem2015hn': f'eem2015hn_{atom_idx}', \n",
    "                                  'eem2015ba': f'eem2015ba_{atom_idx}', \n",
    "                                  'eem2015bm': f'eem2015bm_{atom_idx}', \n",
    "                                  'eem2015bn': f'eem2015bn_{atom_idx}',})\n",
    "    test = test.rename(columns={\n",
    "                                        'atom': f'atom_{atom_idx}',\n",
    "                                        'x': f'x_{atom_idx}',\n",
    "                                        'y': f'y_{atom_idx}',\n",
    "                                        'z': f'z_{atom_idx}',\n",
    "                                        'eem': f'eem_{atom_idx}',\n",
    "                                     'mmff94': f'mmff94_{atom_idx}',\n",
    "                                  'gasteiger': f'gasteiger_{atom_idx}', \n",
    "                                        'qeq': f'qeq_{atom_idx}', \n",
    "                                      'qtpie': f'qtpie_{atom_idx}', \n",
    "                                  'eem2015ha': f'eem2015ha_{atom_idx}', \n",
    "                                  'eem2015hm': f'eem2015hm_{atom_idx}', \n",
    "                                  'eem2015hn': f'eem2015hn_{atom_idx}', \n",
    "                                  'eem2015ba': f'eem2015ba_{atom_idx}', \n",
    "                                  'eem2015bm': f'eem2015bm_{atom_idx}', \n",
    "                                  'eem2015bn': f'eem2015bn_{atom_idx}'})\n",
    "#     test  =  test.rename(columns={'atom': f'atom_{atom_idx}',\n",
    "#                                         'x': f'x_{atom_idx}',\n",
    "#                                         'y': f'y_{atom_idx}',\n",
    "#                                         'z': f'z_{atom_idx}'})\n",
    "\n",
    "# ob_charges\n",
    "# train = map_atom_info(train, ob_charge_train, 0)\n",
    "# test  = map_atom_info(test,  ob_charge_test,  0)\n",
    "# train = map_atom_info(train, ob_charge_train, 1)\n",
    "# test  = map_atom_info(test,  ob_charge_test,  1)"
   ]
  },
  {
   "cell_type": "markdown",
   "metadata": {},
   "source": [
    "<br>\n",
    "<br>\n",
    "type0"
   ]
  },
  {
   "cell_type": "code",
   "execution_count": 150,
   "metadata": {},
   "outputs": [],
   "source": [
    "def create_type0(df):\n",
    "    df['type_0'] = df['type'].apply(lambda x : x[0])\n",
    "    return df\n",
    "# train['type_0'] = train['type'].apply(lambda x: x[0])\n",
    "# test['type_0'] = test['type'].apply(lambda x: x[0])"
   ]
  },
  {
   "cell_type": "markdown",
   "metadata": {},
   "source": [
    "<br>\n",
    "<br>\n",
    "distances"
   ]
  },
  {
   "cell_type": "code",
   "execution_count": 151,
   "metadata": {},
   "outputs": [],
   "source": [
    "def distances(df):\n",
    "    df_p_0 = df[['x_0', 'y_0', 'z_0']].values\n",
    "    df_p_1 = df[['x_1', 'y_1', 'z_1']].values\n",
    "    \n",
    "    df['dist'] = np.linalg.norm(df_p_0 - df_p_1, axis=1)\n",
    "    df['dist_x'] = (df['x_0'] - df['x_1']) ** 2\n",
    "    df['dist_y'] = (df['y_0'] - df['y_1']) ** 2\n",
    "    df['dist_z'] = (df['z_0'] - df['z_1']) ** 2\n",
    "    \n",
    "    return df\n",
    "\n",
    "# train = distances(train)\n",
    "# test  = distances(test)"
   ]
  },
  {
   "cell_type": "markdown",
   "metadata": {},
   "source": [
    "<br>\n",
    "<br>\n",
    "統計量"
   ]
  },
  {
   "cell_type": "code",
   "execution_count": 152,
   "metadata": {},
   "outputs": [],
   "source": [
    "def create_features(df):\n",
    "    df['molecule_couples'] = df.groupby('molecule_name')['id'].transform('count')\n",
    "    df['molecule_dist_mean'] = df.groupby('molecule_name')['dist'].transform('mean')\n",
    "    df['molecule_dist_min'] = df.groupby('molecule_name')['dist'].transform('min')\n",
    "    df['molecule_dist_max'] = df.groupby('molecule_name')['dist'].transform('max')\n",
    "    df['atom_0_couples_count'] = df.groupby(['molecule_name', 'atom_index_0'])['id'].transform('count')\n",
    "    df['atom_1_couples_count'] = df.groupby(['molecule_name', 'atom_index_1'])['id'].transform('count')\n",
    "    df[f'molecule_atom_index_0_x_1_std'] = df.groupby(['molecule_name', 'atom_index_0'])['x_1'].transform('std')\n",
    "    df[f'molecule_atom_index_0_y_1_mean'] = df.groupby(['molecule_name', 'atom_index_0'])['y_1'].transform('mean')\n",
    "    df[f'molecule_atom_index_0_y_1_mean_diff'] = df[f'molecule_atom_index_0_y_1_mean'] - df['y_1']\n",
    "    df[f'molecule_atom_index_0_y_1_mean_div'] = df[f'molecule_atom_index_0_y_1_mean'] / df['y_1']\n",
    "    df[f'molecule_atom_index_0_y_1_max'] = df.groupby(['molecule_name', 'atom_index_0'])['y_1'].transform('max')\n",
    "    df[f'molecule_atom_index_0_y_1_max_diff'] = df[f'molecule_atom_index_0_y_1_max'] - df['y_1']\n",
    "    df[f'molecule_atom_index_0_y_1_std'] = df.groupby(['molecule_name', 'atom_index_0'])['y_1'].transform('std')\n",
    "    df[f'molecule_atom_index_0_z_1_std'] = df.groupby(['molecule_name', 'atom_index_0'])['z_1'].transform('std')\n",
    "    df[f'molecule_atom_index_0_dist_mean'] = df.groupby(['molecule_name', 'atom_index_0'])['dist'].transform('mean')\n",
    "    df[f'molecule_atom_index_0_dist_mean_diff'] = df[f'molecule_atom_index_0_dist_mean'] - df['dist']\n",
    "    df[f'molecule_atom_index_0_dist_mean_div'] = df[f'molecule_atom_index_0_dist_mean'] / df['dist']\n",
    "    df[f'molecule_atom_index_0_dist_max'] = df.groupby(['molecule_name', 'atom_index_0'])['dist'].transform('max')\n",
    "    df[f'molecule_atom_index_0_dist_max_diff'] = df[f'molecule_atom_index_0_dist_max'] - df['dist']\n",
    "    df[f'molecule_atom_index_0_dist_max_div'] = df[f'molecule_atom_index_0_dist_max'] / df['dist']\n",
    "    df[f'molecule_atom_index_0_dist_min'] = df.groupby(['molecule_name', 'atom_index_0'])['dist'].transform('min')\n",
    "    df[f'molecule_atom_index_0_dist_min_diff'] = df[f'molecule_atom_index_0_dist_min'] - df['dist']\n",
    "    df[f'molecule_atom_index_0_dist_min_div'] = df[f'molecule_atom_index_0_dist_min'] / df['dist']\n",
    "    df[f'molecule_atom_index_0_dist_std'] = df.groupby(['molecule_name', 'atom_index_0'])['dist'].transform('std')\n",
    "    df[f'molecule_atom_index_0_dist_std_diff'] = df[f'molecule_atom_index_0_dist_std'] - df['dist']\n",
    "    df[f'molecule_atom_index_0_dist_std_div'] = df[f'molecule_atom_index_0_dist_std'] / df['dist']\n",
    "    df[f'molecule_atom_index_1_dist_mean'] = df.groupby(['molecule_name', 'atom_index_1'])['dist'].transform('mean')\n",
    "    df[f'molecule_atom_index_1_dist_mean_diff'] = df[f'molecule_atom_index_1_dist_mean'] - df['dist']\n",
    "    df[f'molecule_atom_index_1_dist_mean_div'] = df[f'molecule_atom_index_1_dist_mean'] / df['dist']\n",
    "    df[f'molecule_atom_index_1_dist_max'] = df.groupby(['molecule_name', 'atom_index_1'])['dist'].transform('max')\n",
    "    df[f'molecule_atom_index_1_dist_max_diff'] = df[f'molecule_atom_index_1_dist_max'] - df['dist']\n",
    "    df[f'molecule_atom_index_1_dist_max_div'] = df[f'molecule_atom_index_1_dist_max'] / df['dist']\n",
    "    df[f'molecule_atom_index_1_dist_min'] = df.groupby(['molecule_name', 'atom_index_1'])['dist'].transform('min')\n",
    "    df[f'molecule_atom_index_1_dist_min_diff'] = df[f'molecule_atom_index_1_dist_min'] - df['dist']\n",
    "    df[f'molecule_atom_index_1_dist_min_div'] = df[f'molecule_atom_index_1_dist_min'] / df['dist']\n",
    "    df[f'molecule_atom_index_1_dist_std'] = df.groupby(['molecule_name', 'atom_index_1'])['dist'].transform('std')\n",
    "    df[f'molecule_atom_index_1_dist_std_diff'] = df[f'molecule_atom_index_1_dist_std'] - df['dist']\n",
    "    df[f'molecule_atom_index_1_dist_std_div'] = df[f'molecule_atom_index_1_dist_std'] / df['dist']\n",
    "    df[f'molecule_atom_1_dist_mean'] = df.groupby(['molecule_name', 'atom_1'])['dist'].transform('mean')\n",
    "    df[f'molecule_atom_1_dist_min'] = df.groupby(['molecule_name', 'atom_1'])['dist'].transform('min')\n",
    "    df[f'molecule_atom_1_dist_min_diff'] = df[f'molecule_atom_1_dist_min'] - df['dist']\n",
    "    df[f'molecule_atom_1_dist_min_div'] = df[f'molecule_atom_1_dist_min'] / df['dist']\n",
    "    df[f'molecule_atom_1_dist_std'] = df.groupby(['molecule_name', 'atom_1'])['dist'].transform('std')\n",
    "    df[f'molecule_atom_1_dist_std_diff'] = df[f'molecule_atom_1_dist_std'] - df['dist']\n",
    "    df[f'molecule_type_0_dist_std'] = df.groupby(['molecule_name', 'type_0'])['dist'].transform('std')\n",
    "    df[f'molecule_type_0_dist_std_diff'] = df[f'molecule_type_0_dist_std'] - df['dist']\n",
    "    df[f'molecule_type_dist_mean'] = df.groupby(['molecule_name', 'type'])['dist'].transform('mean')\n",
    "    df[f'molecule_type_dist_mean_diff'] = df[f'molecule_type_dist_mean'] - df['dist']\n",
    "    df[f'molecule_type_dist_mean_div'] = df[f'molecule_type_dist_mean'] / df['dist']\n",
    "    df[f'molecule_type_dist_max'] = df.groupby(['molecule_name', 'type'])['dist'].transform('max')\n",
    "    df[f'molecule_type_dist_min'] = df.groupby(['molecule_name', 'type'])['dist'].transform('min')\n",
    "    df[f'molecule_type_dist_std'] = df.groupby(['molecule_name', 'type'])['dist'].transform('std')\n",
    "    df[f'molecule_type_dist_std_diff'] = df[f'molecule_type_dist_std'] - df['dist']\n",
    "    # fc\n",
    "    df[f'molecule_type_fc_max'] = df.groupby(['molecule_name', 'type'])['fc'].transform('max')\n",
    "    df[f'molecule_type_fc_min'] = df.groupby(['molecule_name', 'type'])['fc'].transform('min')\n",
    "    df[f'molecule_type_fc_std'] = df.groupby(['molecule_name', 'type'])['fc'].transform('std')\n",
    "    df[f'molecule_type_fc_std_diff'] = df[f'molecule_type_fc_std'] - df['fc']\n",
    "    df[f'molecule_atom_index_0_fc_mean'] = df.groupby(['molecule_name', 'atom_index_0'])['fc'].transform('mean')\n",
    "    df[f'molecule_atom_index_0_fc_mean_diff'] = df[f'molecule_atom_index_0_fc_mean'] - df['fc']\n",
    "    df[f'molecule_atom_index_0_fc_mean_div'] = df[f'molecule_atom_index_0_fc_mean'] / df['dist']\n",
    "    df[f'molecule_atom_index_0_fc_max'] = df.groupby(['molecule_name', 'atom_index_0'])['fc'].transform('max')\n",
    "    df[f'molecule_atom_index_0_fc_max_diff'] = df[f'molecule_atom_index_0_fc_max'] - df['fc']\n",
    "    df[f'molecule_atom_index_0_fc_max_div'] = df[f'molecule_atom_index_0_fc_max'] / df['fc']\n",
    "    df[f'molecule_atom_index_0_fc_min'] = df.groupby(['molecule_name', 'atom_index_0'])['fc'].transform('min')\n",
    "    df[f'molecule_atom_index_0_fc_min_diff'] = df[f'molecule_atom_index_0_fc_min'] - df['fc']\n",
    "    df[f'molecule_atom_index_0_fc_min_div'] = df[f'molecule_atom_index_0_fc_min'] / df['fc']\n",
    "    df[f'molecule_atom_index_0_fc_std'] = df.groupby(['molecule_name', 'atom_index_0'])['fc'].transform('std')\n",
    "    df[f'molecule_atom_index_0_fc_std_diff'] = df[f'molecule_atom_index_0_fc_std'] - df['fc']\n",
    "    df[f'molecule_atom_index_0_fc_std_div'] = df[f'molecule_atom_index_0_fc_std'] / df['fc']\n",
    "    df[f'molecule_atom_index_1_fc_mean'] = df.groupby(['molecule_name', 'atom_index_1'])['fc'].transform('mean')\n",
    "    df[f'molecule_atom_index_1_fc_mean_diff'] = df[f'molecule_atom_index_1_fc_mean'] - df['fc']\n",
    "    df[f'molecule_atom_index_1_fc_mean_div'] = df[f'molecule_atom_index_1_fc_mean'] / df['fc']\n",
    "    df[f'molecule_atom_index_1_fc_max'] = df.groupby(['molecule_name', 'atom_index_1'])['fc'].transform('max')\n",
    "    df[f'molecule_atom_index_1_fc_max_diff'] = df[f'molecule_atom_index_1_fc_max'] - df['fc']\n",
    "    df[f'molecule_atom_index_1_fc_max_div'] = df[f'molecule_atom_index_1_fc_max'] / df['fc']\n",
    "    df[f'molecule_atom_index_1_fc_min'] = df.groupby(['molecule_name', 'atom_index_1'])['fc'].transform('min')\n",
    "    df[f'molecule_atom_index_1_fc_min_diff'] = df[f'molecule_atom_index_1_fc_min'] - df['fc']\n",
    "    df[f'molecule_atom_index_1_fc_min_div'] = df[f'molecule_atom_index_1_fc_min'] / df['fc']\n",
    "    df[f'molecule_atom_index_1_fc_std'] = df.groupby(['molecule_name', 'atom_index_1'])['fc'].transform('std')\n",
    "    df[f'molecule_atom_index_1_fc_std_diff'] = df[f'molecule_atom_index_1_fc_std'] - df['fc']\n",
    "    df[f'molecule_atom_index_1_fc_std_div'] = df[f'molecule_atom_index_1_fc_std'] / df['fc']\n",
    "  \n",
    "    return df"
   ]
  },
  {
   "cell_type": "markdown",
   "metadata": {},
   "source": [
    "angle features"
   ]
  },
  {
   "cell_type": "code",
   "execution_count": 153,
   "metadata": {},
   "outputs": [],
   "source": [
    "def map_atom_info(df_1,df_2, atom_idx):\n",
    "    df = pd.merge(df_1, df_2, how = 'left',\n",
    "                  left_on  = ['molecule_name', f'atom_index_{atom_idx}'],\n",
    "                  right_on = ['molecule_name',  'atom_index'])\n",
    "    df = df.drop('atom_index', axis=1)\n",
    "\n",
    "    return df\n",
    "\n",
    "def create_closest(df):\n",
    "    df_temp=df.loc[:,[\"molecule_name\",\"atom_index_0\",\"atom_index_1\",\"dist\",\"x_0\",\"y_0\",\"z_0\",\"x_1\",\"y_1\",\"z_1\"]].copy()\n",
    "    df_temp_=df_temp.copy()\n",
    "    df_temp_= df_temp_.rename(columns={'atom_index_0': 'atom_index_1',\n",
    "                                       'atom_index_1': 'atom_index_0',\n",
    "                                       'x_0': 'x_1',\n",
    "                                       'y_0': 'y_1',\n",
    "                                       'z_0': 'z_1',\n",
    "                                       'x_1': 'x_0',\n",
    "                                       'y_1': 'y_0',\n",
    "                                       'z_1': 'z_0'})\n",
    "    df_temp=pd.concat(objs=[df_temp,df_temp_],axis=0)\n",
    "\n",
    "    df_temp[\"min_distance\"]=df_temp.groupby(['molecule_name', 'atom_index_0'])['dist'].transform('min')\n",
    "    df_temp= df_temp[df_temp[\"min_distance\"]==df_temp[\"dist\"]]\n",
    "\n",
    "    df_temp=df_temp.drop(['x_0','y_0','z_0','min_distance', 'dist'], axis=1)\n",
    "    df_temp= df_temp.rename(columns={'atom_index_0': 'atom_index',\n",
    "                                     'atom_index_1': 'atom_index_closest',\n",
    "                                     'distance': 'distance_closest',\n",
    "                                     'x_1': 'x_closest',\n",
    "                                     'y_1': 'y_closest',\n",
    "                                     'z_1': 'z_closest'})\n",
    "\n",
    "    for atom_idx in [0,1]:\n",
    "        df = map_atom_info(df,df_temp, atom_idx)\n",
    "        df = df.rename(columns={'atom_index_closest': f'atom_index_closest_{atom_idx}',\n",
    "                                        'distance_closest': f'distance_closest_{atom_idx}',\n",
    "                                        'x_closest': f'x_closest_{atom_idx}',\n",
    "                                        'y_closest': f'y_closest_{atom_idx}',\n",
    "                                        'z_closest': f'z_closest_{atom_idx}'})\n",
    "    return df\n",
    "\n",
    "def add_cos_features(df):\n",
    "    df[\"distance_0\"]=((df['x_0']-df['x_closest_0'])**2+(df['y_0']-df['y_closest_0'])**2+(df['z_0']-df['z_closest_0'])**2)**(1/2)\n",
    "    df[\"distance_1\"]=((df['x_1']-df['x_closest_1'])**2+(df['y_1']-df['y_closest_1'])**2+(df['z_1']-df['z_closest_1'])**2)**(1/2)\n",
    "    df[\"vec_0_x\"]=(df['x_0']-df['x_closest_0'])/df[\"distance_0\"]\n",
    "    df[\"vec_0_y\"]=(df['y_0']-df['y_closest_0'])/df[\"distance_0\"]\n",
    "    df[\"vec_0_z\"]=(df['z_0']-df['z_closest_0'])/df[\"distance_0\"]\n",
    "    df[\"vec_1_x\"]=(df['x_1']-df['x_closest_1'])/df[\"distance_1\"]\n",
    "    df[\"vec_1_y\"]=(df['y_1']-df['y_closest_1'])/df[\"distance_1\"]\n",
    "    df[\"vec_1_z\"]=(df['z_1']-df['z_closest_1'])/df[\"distance_1\"]\n",
    "    df[\"vec_x\"]=(df['x_1']-df['x_0'])/df[\"dist\"]\n",
    "    df[\"vec_y\"]=(df['y_1']-df['y_0'])/df[\"dist\"]\n",
    "    df[\"vec_z\"]=(df['z_1']-df['z_0'])/df[\"dist\"]\n",
    "    df[\"cos_0_1\"]=df[\"vec_0_x\"]*df[\"vec_1_x\"]+df[\"vec_0_y\"]*df[\"vec_1_y\"]+df[\"vec_0_z\"]*df[\"vec_1_z\"]\n",
    "    df[\"cos_0\"]=df[\"vec_0_x\"]*df[\"vec_x\"]+df[\"vec_0_y\"]*df[\"vec_y\"]+df[\"vec_0_z\"]*df[\"vec_z\"]\n",
    "    df[\"cos_1\"]=df[\"vec_1_x\"]*df[\"vec_x\"]+df[\"vec_1_y\"]*df[\"vec_y\"]+df[\"vec_1_z\"]*df[\"vec_z\"]\n",
    "    df=df.drop(['vec_0_x','vec_0_y','vec_0_z','vec_1_x','vec_1_y','vec_1_z','vec_x','vec_y','vec_z'], axis=1)\n",
    "    return df\n",
    "\n"
   ]
  },
  {
   "cell_type": "code",
   "execution_count": 154,
   "metadata": {},
   "outputs": [
    {
     "name": "stdout",
     "output_type": "stream",
     "text": [
      "add fc\n",
      "2000 2000\n",
      "type0\n",
      "2000 2000\n",
      "distances\n",
      "2000 2000\n",
      "create_featueres\n",
      "2000 2000\n",
      "create_closest\n",
      "2000 2000\n",
      "add_cos_features\n",
      "2000 2000\n",
      "CPU times: user 524 ms, sys: 8 ms, total: 532 ms\n",
      "Wall time: 531 ms\n"
     ]
    }
   ],
   "source": [
    "%%time\n",
    "\n",
    "print('add fc')\n",
    "print(len(train), len(test))\n",
    "train['fc'] = fc_train.values\n",
    "test['fc']  = fc_test.values\n",
    "\n",
    "print('type0')\n",
    "print(len(train), len(test))\n",
    "train = create_type0(train)\n",
    "test  = create_type0(test)\n",
    "\n",
    "print('distances')\n",
    "print(len(train), len(test))\n",
    "train = distances(train)\n",
    "test  = distances(test)\n",
    "\n",
    "print('create_featueres')\n",
    "print(len(train), len(test))\n",
    "train = create_features(train)\n",
    "test  = create_features(test)\n",
    "\n",
    "print('create_closest')\n",
    "print(len(train), len(test))\n",
    "train = create_closest(train)\n",
    "test  = create_closest(test)\n",
    "train.drop_duplicates(inplace=True, subset=['id'])   # なぜかtrainの行数が増えるバグが発生\n",
    "train = train.reset_index(drop=True)\n",
    "\n",
    "print('add_cos_features')\n",
    "print(len(train), len(test))\n",
    "train = add_cos_features(train)\n",
    "test  = add_cos_features(test)"
   ]
  },
  {
   "cell_type": "markdown",
   "metadata": {},
   "source": [
    "---\n",
    "<br>\n",
    "<br>\n",
    "<br>\n",
    "nanがある特徴量を削除"
   ]
  },
  {
   "cell_type": "code",
   "execution_count": 155,
   "metadata": {},
   "outputs": [
    {
     "data": {
      "text/plain": [
       "array(['molecule_atom_index_0_x_1_std',\n",
       "       'molecule_atom_index_0_y_1_mean_div',\n",
       "       'molecule_atom_index_0_y_1_std', 'molecule_atom_index_0_z_1_std',\n",
       "       'molecule_atom_index_0_dist_std',\n",
       "       'molecule_atom_index_0_dist_std_diff',\n",
       "       'molecule_atom_index_0_dist_std_div',\n",
       "       'molecule_atom_index_1_dist_std',\n",
       "       'molecule_atom_index_1_dist_std_diff',\n",
       "       'molecule_atom_index_1_dist_std_div', 'molecule_atom_1_dist_std',\n",
       "       'molecule_atom_1_dist_std_diff', 'molecule_type_0_dist_std',\n",
       "       'molecule_type_0_dist_std_diff', 'molecule_type_dist_std',\n",
       "       'molecule_type_dist_std_diff', 'molecule_type_fc_std',\n",
       "       'molecule_type_fc_std_diff', 'molecule_atom_index_0_fc_std',\n",
       "       'molecule_atom_index_0_fc_std_diff',\n",
       "       'molecule_atom_index_0_fc_std_div', 'molecule_atom_index_1_fc_std',\n",
       "       'molecule_atom_index_1_fc_std_diff',\n",
       "       'molecule_atom_index_1_fc_std_div'], dtype=object)"
      ]
     },
     "execution_count": 155,
     "metadata": {},
     "output_type": "execute_result"
    }
   ],
   "source": [
    "drop_feats = train.columns[train.isnull().sum(axis=0) != 0].values\n",
    "drop_feats"
   ]
  },
  {
   "cell_type": "code",
   "execution_count": 156,
   "metadata": {},
   "outputs": [],
   "source": [
    "train = train.drop(drop_feats, axis=1)\n",
    "test  = test.drop(drop_feats, axis=1)\n",
    "\n",
    "assert sum(train.isnull().sum(axis=0))==0, f'train に nan があります。'\n",
    "assert sum(test.isnull().sum(axis=0))==0,  f'test に nan があります。'"
   ]
  },
  {
   "cell_type": "markdown",
   "metadata": {},
   "source": [
    "<br>\n",
    "<br>\n",
    "<br>\n",
    "エンコーディング"
   ]
  },
  {
   "cell_type": "code",
   "execution_count": 157,
   "metadata": {},
   "outputs": [
    {
     "name": "stdout",
     "output_type": "stream",
     "text": [
      "カテゴリカル: ['atom_1']\n",
      "数値:        ['gasteiger_0', 'd_7_2', 'y_1', 'd_8_1', 'eem2015ha_1', 'eem2015hn_0', 'eem2015bn_1', 'd_7_1', 'd_8_3', 'molecule_atom_index_0_dist_max', 'molecule_type_fc_max', 'eem2015bn_0', 'd_9_1', 'molecule_atom_index_1_fc_min', 'eem2015hn_1', 'd_5_0', 'molecule_atom_1_dist_min', 'molecule_atom_index_1_fc_mean', 'molecule_dist_mean', 'molecule_atom_index_0_y_1_max_diff', 'd_3_2', 'd_9_3', 'atom_index_0', 'molecule_type_dist_max', 'd_7_3', 'qeq_1', 'molecule_atom_index_1_dist_max_div', 'molecule_atom_index_1_dist_mean_div', 'd_4_2', 'z_0', 'molecule_couples', 'eem2015bm_1', 'atom_1_couples_count', 'molecule_atom_index_0_dist_max_diff', 'z_1', 'molecule_atom_index_1_fc_mean_diff', 'eem2015ba_1', 'eem2015ha_0', 'mmff94_0', 'atom_index_1', 'qtpie_1', 'molecule_atom_index_0_fc_mean_diff', 'dist_x', 'eem2015hm_0', 'z_closest_1', 'molecule_type_dist_mean_diff', 'molecule_atom_index_1_dist_max', 'd_4_3', 'molecule_atom_index_1_dist_min_div', 'molecule_atom_index_0_dist_min', 'atom_index_closest_0', 'mmff94_1', 'distance_1', 'dist_z', 'molecule_atom_index_0_y_1_mean_diff', 'molecule_dist_min', 'fc', 'molecule_atom_1_dist_min_diff', 'molecule_atom_index_1_fc_min_diff', 'molecule_atom_1_dist_min_div', 'molecule_atom_index_0_fc_min', 'molecule_atom_index_0_dist_mean_div', 'd_6_0', 'molecule_atom_index_0_fc_max_div', 'd_6_2', 'y_0', 'd_4_0', 'molecule_atom_index_0_dist_min_div', 'y_closest_1', 'molecule_atom_index_1_dist_mean', 'z_closest_0', 'molecule_dist_max', 'cos_0', 'molecule_atom_index_0_dist_mean', 'gasteiger_1', 'd_5_3', 'cos_1', 'molecule_atom_index_1_dist_max_diff', 'dist', 'd_8_2', 'x_closest_0', 'd_2_0', 'molecule_atom_index_1_dist_mean_diff', 'x_0', 'molecule_atom_index_1_fc_mean_div', 'y_closest_0', 'molecule_atom_index_1_fc_min_div', 'molecule_atom_index_0_dist_mean_diff', 'eem_1', 'molecule_atom_index_0_dist_max_div', 'eem_0', 'molecule_atom_1_dist_mean', 'molecule_atom_index_1_fc_max', 'molecule_atom_index_0_fc_mean_div', 'molecule_atom_index_0_dist_min_diff', 'molecule_atom_index_1_dist_min_diff', 'd_9_0', 'molecule_type_dist_mean_div', 'distance_0', 'molecule_type_dist_min', 'd_3_0', 'd_1_0', 'd_4_1', 'molecule_atom_index_1_fc_max_div', 'd_2_1', 'd_6_1', 'eem2015bm_0', 'molecule_atom_index_0_y_1_max', 'eem2015ba_0', 'd_8_0', 'd_3_1', 'molecule_atom_index_0_fc_max', 'x_1', 'd_5_1', 'molecule_atom_index_0_fc_min_div', 'd_5_2', 'atom_0_couples_count', 'eem2015hm_1', 'qtpie_0', 'd_9_2', 'x_closest_1', 'molecule_atom_index_1_dist_min', 'molecule_type_dist_mean', 'molecule_atom_index_0_fc_mean', 'type_0', 'molecule_atom_index_0_fc_min_diff', 'd_6_3', 'molecule_atom_index_1_fc_max_diff', 'atom_index_closest_1', 'd_7_0', 'cos_0_1', 'qeq_0', 'molecule_atom_index_0_fc_max_diff', 'molecule_atom_index_0_y_1_mean', 'dist_interact', 'molecule_type_fc_min', 'dist_y']\n"
     ]
    }
   ],
   "source": [
    "cat_cols = ['atom_1']\n",
    "num_cols = list(set(train.columns) - set(cat_cols) - set(['type', \"scalar_coupling_constant\", 'molecule_name', 'id',\n",
    "                                                          'atom_0', 'atom_1','atom_2', 'atom_3', 'atom_4', 'atom_5', 'atom_6', 'atom_7', 'atom_8', 'atom_9']))\n",
    "                \n",
    "print(f'カテゴリカル: {cat_cols}')\n",
    "print(f'数値:        {num_cols}')"
   ]
  },
  {
   "cell_type": "markdown",
   "metadata": {},
   "source": [
    "<br>\n",
    "<br>\n",
    "LabelEncode\n",
    "\n",
    "- `atom_1` = {H, C, N}\n",
    "- `type_0` = {1, 2, 3}\n",
    "- `type`   = {2JHC, ...}"
   ]
  },
  {
   "cell_type": "code",
   "execution_count": 158,
   "metadata": {},
   "outputs": [],
   "source": [
    "for f in ['type_0', 'type']:\n",
    "    if f in train.columns:\n",
    "        lbl = LabelEncoder()\n",
    "        lbl.fit(list(train[f].values) + list(test[f].values))\n",
    "        train[f] = lbl.transform(list(train[f].values))\n",
    "        test[f] = lbl.transform(list(test[f].values))"
   ]
  },
  {
   "cell_type": "markdown",
   "metadata": {},
   "source": [
    "<br>\n",
    "<br>\n",
    "<br>\n",
    "one hot encoding"
   ]
  },
  {
   "cell_type": "code",
   "execution_count": 159,
   "metadata": {},
   "outputs": [],
   "source": [
    "train = pd.get_dummies(train, columns=cat_cols)\n",
    "test  = pd.get_dummies(test,  columns=cat_cols)"
   ]
  },
  {
   "cell_type": "markdown",
   "metadata": {},
   "source": [
    "<br>\n",
    "<br>\n",
    "<br>\n",
    "標準化"
   ]
  },
  {
   "cell_type": "code",
   "execution_count": 160,
   "metadata": {},
   "outputs": [],
   "source": [
    "scaler = StandardScaler()\n",
    "train[num_cols] = scaler.fit_transform(train[num_cols])\n",
    "test[num_cols] = scaler.transform(test[num_cols])"
   ]
  },
  {
   "cell_type": "markdown",
   "metadata": {},
   "source": [
    "<br>\n",
    "<br>\n",
    "\n",
    "---\n",
    "**show features**"
   ]
  },
  {
   "cell_type": "code",
   "execution_count": 161,
   "metadata": {},
   "outputs": [
    {
     "data": {
      "text/html": [
       "<div>\n",
       "<style scoped>\n",
       "    .dataframe tbody tr th:only-of-type {\n",
       "        vertical-align: middle;\n",
       "    }\n",
       "\n",
       "    .dataframe tbody tr th {\n",
       "        vertical-align: top;\n",
       "    }\n",
       "\n",
       "    .dataframe thead th {\n",
       "        text-align: right;\n",
       "    }\n",
       "</style>\n",
       "<table border=\"1\" class=\"dataframe\">\n",
       "  <thead>\n",
       "    <tr style=\"text-align: right;\">\n",
       "      <th></th>\n",
       "      <th>id</th>\n",
       "      <th>molecule_name</th>\n",
       "      <th>atom_index_1</th>\n",
       "      <th>atom_index_0</th>\n",
       "      <th>atom_2</th>\n",
       "      <th>atom_3</th>\n",
       "      <th>atom_4</th>\n",
       "      <th>atom_5</th>\n",
       "      <th>atom_6</th>\n",
       "      <th>atom_7</th>\n",
       "      <th>atom_8</th>\n",
       "      <th>atom_9</th>\n",
       "      <th>d_1_0</th>\n",
       "      <th>d_2_0</th>\n",
       "      <th>d_2_1</th>\n",
       "      <th>d_3_0</th>\n",
       "      <th>d_3_1</th>\n",
       "      <th>d_3_2</th>\n",
       "      <th>d_4_0</th>\n",
       "      <th>d_4_1</th>\n",
       "      <th>d_4_2</th>\n",
       "      <th>d_4_3</th>\n",
       "      <th>d_5_0</th>\n",
       "      <th>d_5_1</th>\n",
       "      <th>d_5_2</th>\n",
       "      <th>d_5_3</th>\n",
       "      <th>d_6_0</th>\n",
       "      <th>d_6_1</th>\n",
       "      <th>d_6_2</th>\n",
       "      <th>d_6_3</th>\n",
       "      <th>d_7_0</th>\n",
       "      <th>d_7_1</th>\n",
       "      <th>d_7_2</th>\n",
       "      <th>d_7_3</th>\n",
       "      <th>d_8_0</th>\n",
       "      <th>d_8_1</th>\n",
       "      <th>d_8_2</th>\n",
       "      <th>d_8_3</th>\n",
       "      <th>d_9_0</th>\n",
       "      <th>d_9_1</th>\n",
       "      <th>d_9_2</th>\n",
       "      <th>d_9_3</th>\n",
       "      <th>scalar_coupling_constant</th>\n",
       "      <th>type</th>\n",
       "      <th>dist_interact</th>\n",
       "      <th>eem_0</th>\n",
       "      <th>mmff94_0</th>\n",
       "      <th>gasteiger_0</th>\n",
       "      <th>qeq_0</th>\n",
       "      <th>qtpie_0</th>\n",
       "      <th>eem2015ha_0</th>\n",
       "      <th>eem2015hm_0</th>\n",
       "      <th>eem2015hn_0</th>\n",
       "      <th>eem2015ba_0</th>\n",
       "      <th>eem2015bm_0</th>\n",
       "      <th>eem2015bn_0</th>\n",
       "      <th>atom_0</th>\n",
       "      <th>x_0</th>\n",
       "      <th>y_0</th>\n",
       "      <th>z_0</th>\n",
       "      <th>eem_1</th>\n",
       "      <th>mmff94_1</th>\n",
       "      <th>gasteiger_1</th>\n",
       "      <th>qeq_1</th>\n",
       "      <th>qtpie_1</th>\n",
       "      <th>eem2015ha_1</th>\n",
       "      <th>eem2015hm_1</th>\n",
       "      <th>eem2015hn_1</th>\n",
       "      <th>eem2015ba_1</th>\n",
       "      <th>eem2015bm_1</th>\n",
       "      <th>eem2015bn_1</th>\n",
       "      <th>x_1</th>\n",
       "      <th>y_1</th>\n",
       "      <th>z_1</th>\n",
       "      <th>fc</th>\n",
       "      <th>type_0</th>\n",
       "      <th>dist</th>\n",
       "      <th>dist_x</th>\n",
       "      <th>dist_y</th>\n",
       "      <th>dist_z</th>\n",
       "      <th>molecule_couples</th>\n",
       "      <th>molecule_dist_mean</th>\n",
       "      <th>molecule_dist_min</th>\n",
       "      <th>molecule_dist_max</th>\n",
       "      <th>atom_0_couples_count</th>\n",
       "      <th>atom_1_couples_count</th>\n",
       "      <th>molecule_atom_index_0_y_1_mean</th>\n",
       "      <th>molecule_atom_index_0_y_1_mean_diff</th>\n",
       "      <th>molecule_atom_index_0_y_1_max</th>\n",
       "      <th>molecule_atom_index_0_y_1_max_diff</th>\n",
       "      <th>molecule_atom_index_0_dist_mean</th>\n",
       "      <th>molecule_atom_index_0_dist_mean_diff</th>\n",
       "      <th>molecule_atom_index_0_dist_mean_div</th>\n",
       "      <th>molecule_atom_index_0_dist_max</th>\n",
       "      <th>molecule_atom_index_0_dist_max_diff</th>\n",
       "      <th>molecule_atom_index_0_dist_max_div</th>\n",
       "      <th>molecule_atom_index_0_dist_min</th>\n",
       "      <th>molecule_atom_index_0_dist_min_diff</th>\n",
       "      <th>molecule_atom_index_0_dist_min_div</th>\n",
       "      <th>molecule_atom_index_1_dist_mean</th>\n",
       "      <th>molecule_atom_index_1_dist_mean_diff</th>\n",
       "      <th>molecule_atom_index_1_dist_mean_div</th>\n",
       "      <th>molecule_atom_index_1_dist_max</th>\n",
       "      <th>molecule_atom_index_1_dist_max_diff</th>\n",
       "      <th>molecule_atom_index_1_dist_max_div</th>\n",
       "      <th>molecule_atom_index_1_dist_min</th>\n",
       "      <th>molecule_atom_index_1_dist_min_diff</th>\n",
       "      <th>molecule_atom_index_1_dist_min_div</th>\n",
       "      <th>molecule_atom_1_dist_mean</th>\n",
       "      <th>molecule_atom_1_dist_min</th>\n",
       "      <th>molecule_atom_1_dist_min_diff</th>\n",
       "      <th>molecule_atom_1_dist_min_div</th>\n",
       "      <th>molecule_type_dist_mean</th>\n",
       "      <th>molecule_type_dist_mean_diff</th>\n",
       "      <th>molecule_type_dist_mean_div</th>\n",
       "      <th>molecule_type_dist_max</th>\n",
       "      <th>molecule_type_dist_min</th>\n",
       "      <th>molecule_type_fc_max</th>\n",
       "      <th>molecule_type_fc_min</th>\n",
       "      <th>molecule_atom_index_0_fc_mean</th>\n",
       "      <th>molecule_atom_index_0_fc_mean_diff</th>\n",
       "      <th>molecule_atom_index_0_fc_mean_div</th>\n",
       "      <th>molecule_atom_index_0_fc_max</th>\n",
       "      <th>molecule_atom_index_0_fc_max_diff</th>\n",
       "      <th>molecule_atom_index_0_fc_max_div</th>\n",
       "      <th>molecule_atom_index_0_fc_min</th>\n",
       "      <th>molecule_atom_index_0_fc_min_diff</th>\n",
       "      <th>molecule_atom_index_0_fc_min_div</th>\n",
       "      <th>molecule_atom_index_1_fc_mean</th>\n",
       "      <th>molecule_atom_index_1_fc_mean_diff</th>\n",
       "      <th>molecule_atom_index_1_fc_mean_div</th>\n",
       "      <th>molecule_atom_index_1_fc_max</th>\n",
       "      <th>molecule_atom_index_1_fc_max_diff</th>\n",
       "      <th>molecule_atom_index_1_fc_max_div</th>\n",
       "      <th>molecule_atom_index_1_fc_min</th>\n",
       "      <th>molecule_atom_index_1_fc_min_diff</th>\n",
       "      <th>molecule_atom_index_1_fc_min_div</th>\n",
       "      <th>atom_index_closest_0</th>\n",
       "      <th>x_closest_0</th>\n",
       "      <th>y_closest_0</th>\n",
       "      <th>z_closest_0</th>\n",
       "      <th>atom_index_closest_1</th>\n",
       "      <th>x_closest_1</th>\n",
       "      <th>y_closest_1</th>\n",
       "      <th>z_closest_1</th>\n",
       "      <th>distance_0</th>\n",
       "      <th>distance_1</th>\n",
       "      <th>cos_0_1</th>\n",
       "      <th>cos_0</th>\n",
       "      <th>cos_1</th>\n",
       "      <th>atom_1_C</th>\n",
       "      <th>atom_1_H</th>\n",
       "      <th>atom_1_N</th>\n",
       "    </tr>\n",
       "  </thead>\n",
       "  <tbody>\n",
       "    <tr>\n",
       "      <th>0</th>\n",
       "      <td>0</td>\n",
       "      <td>dsgdb9nsd_000001</td>\n",
       "      <td>-1.036991</td>\n",
       "      <td>-2.42783</td>\n",
       "      <td>1</td>\n",
       "      <td>1</td>\n",
       "      <td>1</td>\n",
       "      <td>0</td>\n",
       "      <td>0</td>\n",
       "      <td>0</td>\n",
       "      <td>0</td>\n",
       "      <td>0</td>\n",
       "      <td>-1.519246</td>\n",
       "      <td>0.504113</td>\n",
       "      <td>-0.933233</td>\n",
       "      <td>-0.112088</td>\n",
       "      <td>-1.090126</td>\n",
       "      <td>0.365569</td>\n",
       "      <td>-0.852916</td>\n",
       "      <td>-1.559582</td>\n",
       "      <td>0.038373</td>\n",
       "      <td>-0.526324</td>\n",
       "      <td>-4.002409</td>\n",
       "      <td>-3.559112</td>\n",
       "      <td>-2.995511</td>\n",
       "      <td>-2.775854</td>\n",
       "      <td>-3.412472</td>\n",
       "      <td>-2.674534</td>\n",
       "      <td>-2.8583</td>\n",
       "      <td>-2.667606</td>\n",
       "      <td>-2.851707</td>\n",
       "      <td>-2.386283</td>\n",
       "      <td>-2.559752</td>\n",
       "      <td>-2.346238</td>\n",
       "      <td>-2.08907</td>\n",
       "      <td>-1.905278</td>\n",
       "      <td>-2.028096</td>\n",
       "      <td>-1.85557</td>\n",
       "      <td>-1.605398</td>\n",
       "      <td>-1.495551</td>\n",
       "      <td>-1.573942</td>\n",
       "      <td>-1.486159</td>\n",
       "      <td>84.8076</td>\n",
       "      <td>0</td>\n",
       "      <td>-1.544081</td>\n",
       "      <td>-0.028542</td>\n",
       "      <td>-0.454456</td>\n",
       "      <td>-0.810053</td>\n",
       "      <td>-1.186089</td>\n",
       "      <td>1.317925</td>\n",
       "      <td>-0.52829</td>\n",
       "      <td>-0.38508</td>\n",
       "      <td>-0.098057</td>\n",
       "      <td>-0.484426</td>\n",
       "      <td>-0.405226</td>\n",
       "      <td>-0.030632</td>\n",
       "      <td>H</td>\n",
       "      <td>-0.107815</td>\n",
       "      <td>-0.327462</td>\n",
       "      <td>-0.027017</td>\n",
       "      <td>-1.926012</td>\n",
       "      <td>-0.159818</td>\n",
       "      <td>-0.600304</td>\n",
       "      <td>1.923489</td>\n",
       "      <td>-1.998603</td>\n",
       "      <td>-0.249230</td>\n",
       "      <td>-1.873351</td>\n",
       "      <td>-2.011233</td>\n",
       "      <td>-0.442403</td>\n",
       "      <td>-1.420243</td>\n",
       "      <td>-2.127714</td>\n",
       "      <td>-0.083137</td>\n",
       "      <td>0.834496</td>\n",
       "      <td>-0.036485</td>\n",
       "      <td>1.661858</td>\n",
       "      <td>-1.596698</td>\n",
       "      <td>-1.519246</td>\n",
       "      <td>-0.796302</td>\n",
       "      <td>-0.414060</td>\n",
       "      <td>-0.751681</td>\n",
       "      <td>-1.573588</td>\n",
       "      <td>-4.776805</td>\n",
       "      <td>0.464754</td>\n",
       "      <td>-6.264551</td>\n",
       "      <td>-0.77024</td>\n",
       "      <td>-0.451674</td>\n",
       "      <td>1.775836</td>\n",
       "      <td>0.301449</td>\n",
       "      <td>0.046563</td>\n",
       "      <td>-0.897644</td>\n",
       "      <td>-2.985593</td>\n",
       "      <td>0.741035</td>\n",
       "      <td>0.731648</td>\n",
       "      <td>-3.906583</td>\n",
       "      <td>-0.297222</td>\n",
       "      <td>0.028138</td>\n",
       "      <td>-0.155549</td>\n",
       "      <td>1.481269</td>\n",
       "      <td>1.776746</td>\n",
       "      <td>-2.910584</td>\n",
       "      <td>-5.502841e-06</td>\n",
       "      <td>-0.265627</td>\n",
       "      <td>-2.876695</td>\n",
       "      <td>-0.896055</td>\n",
       "      <td>-0.695496</td>\n",
       "      <td>-0.741842</td>\n",
       "      <td>0.895239</td>\n",
       "      <td>0.956594</td>\n",
       "      <td>-4.546249</td>\n",
       "      <td>-0.605363</td>\n",
       "      <td>1.151897</td>\n",
       "      <td>1.270125</td>\n",
       "      <td>-1.565611</td>\n",
       "      <td>-0.000019</td>\n",
       "      <td>-0.060903</td>\n",
       "      <td>-1.470423</td>\n",
       "      <td>-1.596803</td>\n",
       "      <td>1.361275</td>\n",
       "      <td>1.865755</td>\n",
       "      <td>-0.521101</td>\n",
       "      <td>-1.912477</td>\n",
       "      <td>0.164790</td>\n",
       "      <td>-0.144743</td>\n",
       "      <td>-1.649308</td>\n",
       "      <td>-0.035831</td>\n",
       "      <td>-0.77401</td>\n",
       "      <td>-1.818648</td>\n",
       "      <td>-0.011814</td>\n",
       "      <td>2.732363</td>\n",
       "      <td>1.867209e-02</td>\n",
       "      <td>0.022497</td>\n",
       "      <td>0.594049</td>\n",
       "      <td>-0.799233</td>\n",
       "      <td>0.025045</td>\n",
       "      <td>5.064681</td>\n",
       "      <td>0.533329</td>\n",
       "      <td>0.154013</td>\n",
       "      <td>-1.032964</td>\n",
       "      <td>-0.145435</td>\n",
       "      <td>0.599438</td>\n",
       "      <td>-0.07754</td>\n",
       "      <td>-0.823936</td>\n",
       "      <td>-0.572466</td>\n",
       "      <td>0.962179</td>\n",
       "      <td>-0.919043</td>\n",
       "      <td>-0.155549</td>\n",
       "      <td>-0.352618</td>\n",
       "      <td>0.714498</td>\n",
       "      <td>-1.157629</td>\n",
       "      <td>-0.744704</td>\n",
       "      <td>1</td>\n",
       "      <td>0</td>\n",
       "      <td>0</td>\n",
       "    </tr>\n",
       "    <tr>\n",
       "      <th>1</th>\n",
       "      <td>1</td>\n",
       "      <td>dsgdb9nsd_000001</td>\n",
       "      <td>-0.460725</td>\n",
       "      <td>-2.42783</td>\n",
       "      <td>6</td>\n",
       "      <td>1</td>\n",
       "      <td>1</td>\n",
       "      <td>0</td>\n",
       "      <td>0</td>\n",
       "      <td>0</td>\n",
       "      <td>0</td>\n",
       "      <td>0</td>\n",
       "      <td>-0.567888</td>\n",
       "      <td>-0.922760</td>\n",
       "      <td>-0.933233</td>\n",
       "      <td>-0.112071</td>\n",
       "      <td>0.128656</td>\n",
       "      <td>-1.335447</td>\n",
       "      <td>-0.852935</td>\n",
       "      <td>-0.304934</td>\n",
       "      <td>-1.231186</td>\n",
       "      <td>-0.526324</td>\n",
       "      <td>-4.002409</td>\n",
       "      <td>-3.559112</td>\n",
       "      <td>-2.995511</td>\n",
       "      <td>-2.775854</td>\n",
       "      <td>-3.412472</td>\n",
       "      <td>-2.674534</td>\n",
       "      <td>-2.8583</td>\n",
       "      <td>-2.667606</td>\n",
       "      <td>-2.851707</td>\n",
       "      <td>-2.386283</td>\n",
       "      <td>-2.559752</td>\n",
       "      <td>-2.346238</td>\n",
       "      <td>-2.08907</td>\n",
       "      <td>-1.905278</td>\n",
       "      <td>-2.028096</td>\n",
       "      <td>-1.85557</td>\n",
       "      <td>-1.605398</td>\n",
       "      <td>-1.495551</td>\n",
       "      <td>-1.573942</td>\n",
       "      <td>-1.486159</td>\n",
       "      <td>-11.2570</td>\n",
       "      <td>3</td>\n",
       "      <td>-0.527625</td>\n",
       "      <td>-0.028542</td>\n",
       "      <td>-0.454456</td>\n",
       "      <td>-0.810053</td>\n",
       "      <td>-1.186089</td>\n",
       "      <td>1.317925</td>\n",
       "      <td>-0.52829</td>\n",
       "      <td>-0.38508</td>\n",
       "      <td>-0.098057</td>\n",
       "      <td>-0.484426</td>\n",
       "      <td>-0.405226</td>\n",
       "      <td>-0.030632</td>\n",
       "      <td>H</td>\n",
       "      <td>-0.107815</td>\n",
       "      <td>-0.327462</td>\n",
       "      <td>-0.027017</td>\n",
       "      <td>0.783772</td>\n",
       "      <td>-0.159818</td>\n",
       "      <td>0.192904</td>\n",
       "      <td>-0.606939</td>\n",
       "      <td>0.630368</td>\n",
       "      <td>-0.296078</td>\n",
       "      <td>0.819102</td>\n",
       "      <td>0.808019</td>\n",
       "      <td>-0.187974</td>\n",
       "      <td>0.669593</td>\n",
       "      <td>0.914768</td>\n",
       "      <td>0.952465</td>\n",
       "      <td>1.166826</td>\n",
       "      <td>-0.045852</td>\n",
       "      <td>-0.767093</td>\n",
       "      <td>-0.266671</td>\n",
       "      <td>-0.567888</td>\n",
       "      <td>-0.321687</td>\n",
       "      <td>-0.038064</td>\n",
       "      <td>-0.751700</td>\n",
       "      <td>-1.573588</td>\n",
       "      <td>-4.776805</td>\n",
       "      <td>0.464754</td>\n",
       "      <td>-6.264551</td>\n",
       "      <td>-0.77024</td>\n",
       "      <td>-1.514437</td>\n",
       "      <td>1.775836</td>\n",
       "      <td>-0.115961</td>\n",
       "      <td>0.046563</td>\n",
       "      <td>-1.268538</td>\n",
       "      <td>-2.985593</td>\n",
       "      <td>-0.246981</td>\n",
       "      <td>-0.509450</td>\n",
       "      <td>-3.906583</td>\n",
       "      <td>-1.230089</td>\n",
       "      <td>-0.903985</td>\n",
       "      <td>-0.155549</td>\n",
       "      <td>0.534356</td>\n",
       "      <td>0.139416</td>\n",
       "      <td>-1.087960</td>\n",
       "      <td>8.958031e-19</td>\n",
       "      <td>-0.265619</td>\n",
       "      <td>-1.774416</td>\n",
       "      <td>-0.896055</td>\n",
       "      <td>-0.695496</td>\n",
       "      <td>0.523453</td>\n",
       "      <td>0.895247</td>\n",
       "      <td>0.956617</td>\n",
       "      <td>-1.699253</td>\n",
       "      <td>1.291719</td>\n",
       "      <td>1.151906</td>\n",
       "      <td>1.270149</td>\n",
       "      <td>-0.585179</td>\n",
       "      <td>0.000151</td>\n",
       "      <td>-0.060602</td>\n",
       "      <td>-0.665107</td>\n",
       "      <td>-0.464160</td>\n",
       "      <td>-0.816941</td>\n",
       "      <td>-0.724632</td>\n",
       "      <td>-0.521101</td>\n",
       "      <td>0.638421</td>\n",
       "      <td>-0.332977</td>\n",
       "      <td>-0.144743</td>\n",
       "      <td>0.628821</td>\n",
       "      <td>-0.059970</td>\n",
       "      <td>-0.77401</td>\n",
       "      <td>0.645566</td>\n",
       "      <td>0.059136</td>\n",
       "      <td>-1.250134</td>\n",
       "      <td>-2.098936e-18</td>\n",
       "      <td>0.022383</td>\n",
       "      <td>-1.398619</td>\n",
       "      <td>-0.831897</td>\n",
       "      <td>0.024945</td>\n",
       "      <td>-0.645409</td>\n",
       "      <td>0.546186</td>\n",
       "      <td>0.154923</td>\n",
       "      <td>-1.032964</td>\n",
       "      <td>-0.145435</td>\n",
       "      <td>0.599438</td>\n",
       "      <td>-0.07754</td>\n",
       "      <td>-1.666551</td>\n",
       "      <td>-0.115680</td>\n",
       "      <td>0.700820</td>\n",
       "      <td>0.034363</td>\n",
       "      <td>-0.155549</td>\n",
       "      <td>-0.352604</td>\n",
       "      <td>-0.411162</td>\n",
       "      <td>-0.186883</td>\n",
       "      <td>0.992434</td>\n",
       "      <td>0</td>\n",
       "      <td>1</td>\n",
       "      <td>0</td>\n",
       "    </tr>\n",
       "  </tbody>\n",
       "</table>\n",
       "</div>"
      ],
      "text/plain": [
       "   id     molecule_name  atom_index_1  atom_index_0  atom_2  atom_3  atom_4  \\\n",
       "0   0  dsgdb9nsd_000001     -1.036991      -2.42783       1       1       1   \n",
       "1   1  dsgdb9nsd_000001     -0.460725      -2.42783       6       1       1   \n",
       "\n",
       "   atom_5  atom_6  atom_7  atom_8  atom_9     d_1_0     d_2_0     d_2_1  \\\n",
       "0       0       0       0       0       0 -1.519246  0.504113 -0.933233   \n",
       "1       0       0       0       0       0 -0.567888 -0.922760 -0.933233   \n",
       "\n",
       "      d_3_0     d_3_1     d_3_2     d_4_0     d_4_1     d_4_2     d_4_3  \\\n",
       "0 -0.112088 -1.090126  0.365569 -0.852916 -1.559582  0.038373 -0.526324   \n",
       "1 -0.112071  0.128656 -1.335447 -0.852935 -0.304934 -1.231186 -0.526324   \n",
       "\n",
       "      d_5_0     d_5_1     d_5_2     d_5_3     d_6_0     d_6_1   d_6_2  \\\n",
       "0 -4.002409 -3.559112 -2.995511 -2.775854 -3.412472 -2.674534 -2.8583   \n",
       "1 -4.002409 -3.559112 -2.995511 -2.775854 -3.412472 -2.674534 -2.8583   \n",
       "\n",
       "      d_6_3     d_7_0     d_7_1     d_7_2     d_7_3    d_8_0     d_8_1  \\\n",
       "0 -2.667606 -2.851707 -2.386283 -2.559752 -2.346238 -2.08907 -1.905278   \n",
       "1 -2.667606 -2.851707 -2.386283 -2.559752 -2.346238 -2.08907 -1.905278   \n",
       "\n",
       "      d_8_2    d_8_3     d_9_0     d_9_1     d_9_2     d_9_3  \\\n",
       "0 -2.028096 -1.85557 -1.605398 -1.495551 -1.573942 -1.486159   \n",
       "1 -2.028096 -1.85557 -1.605398 -1.495551 -1.573942 -1.486159   \n",
       "\n",
       "   scalar_coupling_constant  type  dist_interact     eem_0  mmff94_0  \\\n",
       "0                   84.8076     0      -1.544081 -0.028542 -0.454456   \n",
       "1                  -11.2570     3      -0.527625 -0.028542 -0.454456   \n",
       "\n",
       "   gasteiger_0     qeq_0   qtpie_0  eem2015ha_0  eem2015hm_0  eem2015hn_0  \\\n",
       "0    -0.810053 -1.186089  1.317925     -0.52829     -0.38508    -0.098057   \n",
       "1    -0.810053 -1.186089  1.317925     -0.52829     -0.38508    -0.098057   \n",
       "\n",
       "   eem2015ba_0  eem2015bm_0  eem2015bn_0 atom_0       x_0       y_0       z_0  \\\n",
       "0    -0.484426    -0.405226    -0.030632      H -0.107815 -0.327462 -0.027017   \n",
       "1    -0.484426    -0.405226    -0.030632      H -0.107815 -0.327462 -0.027017   \n",
       "\n",
       "      eem_1  mmff94_1  gasteiger_1     qeq_1   qtpie_1  eem2015ha_1  \\\n",
       "0 -1.926012 -0.159818    -0.600304  1.923489 -1.998603    -0.249230   \n",
       "1  0.783772 -0.159818     0.192904 -0.606939  0.630368    -0.296078   \n",
       "\n",
       "   eem2015hm_1  eem2015hn_1  eem2015ba_1  eem2015bm_1  eem2015bn_1       x_1  \\\n",
       "0    -1.873351    -2.011233    -0.442403    -1.420243    -2.127714 -0.083137   \n",
       "1     0.819102     0.808019    -0.187974     0.669593     0.914768  0.952465   \n",
       "\n",
       "        y_1       z_1        fc    type_0      dist    dist_x    dist_y  \\\n",
       "0  0.834496 -0.036485  1.661858 -1.596698 -1.519246 -0.796302 -0.414060   \n",
       "1  1.166826 -0.045852 -0.767093 -0.266671 -0.567888 -0.321687 -0.038064   \n",
       "\n",
       "     dist_z  molecule_couples  molecule_dist_mean  molecule_dist_min  \\\n",
       "0 -0.751681         -1.573588           -4.776805           0.464754   \n",
       "1 -0.751700         -1.573588           -4.776805           0.464754   \n",
       "\n",
       "   molecule_dist_max  atom_0_couples_count  atom_1_couples_count  \\\n",
       "0          -6.264551              -0.77024             -0.451674   \n",
       "1          -6.264551              -0.77024             -1.514437   \n",
       "\n",
       "   molecule_atom_index_0_y_1_mean  molecule_atom_index_0_y_1_mean_diff  \\\n",
       "0                        1.775836                             0.301449   \n",
       "1                        1.775836                            -0.115961   \n",
       "\n",
       "   molecule_atom_index_0_y_1_max  molecule_atom_index_0_y_1_max_diff  \\\n",
       "0                       0.046563                           -0.897644   \n",
       "1                       0.046563                           -1.268538   \n",
       "\n",
       "   molecule_atom_index_0_dist_mean  molecule_atom_index_0_dist_mean_diff  \\\n",
       "0                        -2.985593                              0.741035   \n",
       "1                        -2.985593                             -0.246981   \n",
       "\n",
       "   molecule_atom_index_0_dist_mean_div  molecule_atom_index_0_dist_max  \\\n",
       "0                             0.731648                       -3.906583   \n",
       "1                            -0.509450                       -3.906583   \n",
       "\n",
       "   molecule_atom_index_0_dist_max_diff  molecule_atom_index_0_dist_max_div  \\\n",
       "0                            -0.297222                            0.028138   \n",
       "1                            -1.230089                           -0.903985   \n",
       "\n",
       "   molecule_atom_index_0_dist_min  molecule_atom_index_0_dist_min_diff  \\\n",
       "0                       -0.155549                             1.481269   \n",
       "1                       -0.155549                             0.534356   \n",
       "\n",
       "   molecule_atom_index_0_dist_min_div  molecule_atom_index_1_dist_mean  \\\n",
       "0                            1.776746                        -2.910584   \n",
       "1                            0.139416                        -1.087960   \n",
       "\n",
       "   molecule_atom_index_1_dist_mean_diff  molecule_atom_index_1_dist_mean_div  \\\n",
       "0                         -5.502841e-06                            -0.265627   \n",
       "1                          8.958031e-19                            -0.265619   \n",
       "\n",
       "   molecule_atom_index_1_dist_max  molecule_atom_index_1_dist_max_diff  \\\n",
       "0                       -2.876695                            -0.896055   \n",
       "1                       -1.774416                            -0.896055   \n",
       "\n",
       "   molecule_atom_index_1_dist_max_div  molecule_atom_index_1_dist_min  \\\n",
       "0                           -0.695496                       -0.741842   \n",
       "1                           -0.695496                        0.523453   \n",
       "\n",
       "   molecule_atom_index_1_dist_min_diff  molecule_atom_index_1_dist_min_div  \\\n",
       "0                             0.895239                            0.956594   \n",
       "1                             0.895247                            0.956617   \n",
       "\n",
       "   molecule_atom_1_dist_mean  molecule_atom_1_dist_min  \\\n",
       "0                  -4.546249                 -0.605363   \n",
       "1                  -1.699253                  1.291719   \n",
       "\n",
       "   molecule_atom_1_dist_min_diff  molecule_atom_1_dist_min_div  \\\n",
       "0                       1.151897                      1.270125   \n",
       "1                       1.151906                      1.270149   \n",
       "\n",
       "   molecule_type_dist_mean  molecule_type_dist_mean_diff  \\\n",
       "0                -1.565611                     -0.000019   \n",
       "1                -0.585179                      0.000151   \n",
       "\n",
       "   molecule_type_dist_mean_div  molecule_type_dist_max  \\\n",
       "0                    -0.060903               -1.470423   \n",
       "1                    -0.060602               -0.665107   \n",
       "\n",
       "   molecule_type_dist_min  molecule_type_fc_max  molecule_type_fc_min  \\\n",
       "0               -1.596803              1.361275              1.865755   \n",
       "1               -0.464160             -0.816941             -0.724632   \n",
       "\n",
       "   molecule_atom_index_0_fc_mean  molecule_atom_index_0_fc_mean_diff  \\\n",
       "0                      -0.521101                           -1.912477   \n",
       "1                      -0.521101                            0.638421   \n",
       "\n",
       "   molecule_atom_index_0_fc_mean_div  molecule_atom_index_0_fc_max  \\\n",
       "0                           0.164790                     -0.144743   \n",
       "1                          -0.332977                     -0.144743   \n",
       "\n",
       "   molecule_atom_index_0_fc_max_diff  molecule_atom_index_0_fc_max_div  \\\n",
       "0                          -1.649308                         -0.035831   \n",
       "1                           0.628821                         -0.059970   \n",
       "\n",
       "   molecule_atom_index_0_fc_min  molecule_atom_index_0_fc_min_diff  \\\n",
       "0                      -0.77401                          -1.818648   \n",
       "1                      -0.77401                           0.645566   \n",
       "\n",
       "   molecule_atom_index_0_fc_min_div  molecule_atom_index_1_fc_mean  \\\n",
       "0                         -0.011814                       2.732363   \n",
       "1                          0.059136                      -1.250134   \n",
       "\n",
       "   molecule_atom_index_1_fc_mean_diff  molecule_atom_index_1_fc_mean_div  \\\n",
       "0                        1.867209e-02                           0.022497   \n",
       "1                       -2.098936e-18                           0.022383   \n",
       "\n",
       "   molecule_atom_index_1_fc_max  molecule_atom_index_1_fc_max_diff  \\\n",
       "0                      0.594049                          -0.799233   \n",
       "1                     -1.398619                          -0.831897   \n",
       "\n",
       "   molecule_atom_index_1_fc_max_div  molecule_atom_index_1_fc_min  \\\n",
       "0                          0.025045                      5.064681   \n",
       "1                          0.024945                     -0.645409   \n",
       "\n",
       "   molecule_atom_index_1_fc_min_diff  molecule_atom_index_1_fc_min_div  \\\n",
       "0                           0.533329                          0.154013   \n",
       "1                           0.546186                          0.154923   \n",
       "\n",
       "   atom_index_closest_0  x_closest_0  y_closest_0  z_closest_0  \\\n",
       "0             -1.032964    -0.145435     0.599438     -0.07754   \n",
       "1             -1.032964    -0.145435     0.599438     -0.07754   \n",
       "\n",
       "   atom_index_closest_1  x_closest_1  y_closest_1  z_closest_1  distance_0  \\\n",
       "0             -0.823936    -0.572466     0.962179    -0.919043   -0.155549   \n",
       "1             -1.666551    -0.115680     0.700820     0.034363   -0.155549   \n",
       "\n",
       "   distance_1   cos_0_1     cos_0     cos_1  atom_1_C  atom_1_H  atom_1_N  \n",
       "0   -0.352618  0.714498 -1.157629 -0.744704         1         0         0  \n",
       "1   -0.352604 -0.411162 -0.186883  0.992434         0         1         0  "
      ]
     },
     "execution_count": 161,
     "metadata": {},
     "output_type": "execute_result"
    }
   ],
   "source": [
    "train.head(2)"
   ]
  },
  {
   "cell_type": "code",
   "execution_count": 162,
   "metadata": {},
   "outputs": [
    {
     "name": "stdout",
     "output_type": "stream",
     "text": [
      "Index(['id', 'molecule_name', 'atom_index_1', 'atom_index_0', 'atom_2',\n",
      "       'atom_3', 'atom_4', 'atom_5', 'atom_6', 'atom_7',\n",
      "       ...\n",
      "       'y_closest_1', 'z_closest_1', 'distance_0', 'distance_1', 'cos_0_1',\n",
      "       'cos_0', 'cos_1', 'atom_1_C', 'atom_1_H', 'atom_1_N'],\n",
      "      dtype='object', length=153)\n"
     ]
    }
   ],
   "source": [
    "print(train.columns)"
   ]
  },
  {
   "cell_type": "markdown",
   "metadata": {},
   "source": [
    "# create train, test data"
   ]
  },
  {
   "cell_type": "code",
   "execution_count": 163,
   "metadata": {},
   "outputs": [],
   "source": [
    "y = train['scalar_coupling_constant']\n",
    "train = train.drop(['id', 'molecule_name', 'atom_0', 'scalar_coupling_constant'], axis=1)\n",
    "test  =  test.drop(['id', 'molecule_name', 'atom_0'], axis=1)\n",
    "# train = reduce_mem_usage(train)\n",
    "# test  = reduce_mem_usage(test)\n",
    "\n",
    "X = train.copy()\n",
    "X_test = test.copy()\n",
    "\n",
    "assert len(X.columns) == len(X_test.columns), f'X と X_test のサイズが違います X: {len(X.columns)}, X_test: {len(X_test.columns)}'"
   ]
  },
  {
   "cell_type": "code",
   "execution_count": 164,
   "metadata": {},
   "outputs": [],
   "source": [
    "del train, test, full_train, full_test"
   ]
  },
  {
   "cell_type": "code",
   "execution_count": 165,
   "metadata": {},
   "outputs": [
    {
     "data": {
      "text/plain": [
       "24546"
      ]
     },
     "execution_count": 165,
     "metadata": {},
     "output_type": "execute_result"
    }
   ],
   "source": [
    "gc.collect()"
   ]
  },
  {
   "cell_type": "markdown",
   "metadata": {},
   "source": [
    "# Feature Selection"
   ]
  },
  {
   "cell_type": "markdown",
   "metadata": {},
   "source": [
    "**params**"
   ]
  },
  {
   "cell_type": "code",
   "execution_count": 166,
   "metadata": {},
   "outputs": [],
   "source": [
    "# Configuration\n",
    "model_params = {'n_estimators': 300,\n",
    "                  'max_depth': 50,\n",
    "                  'n_jobs': 30}"
   ]
  },
  {
   "cell_type": "code",
   "execution_count": 167,
   "metadata": {},
   "outputs": [],
   "source": [
    "X_train, X_valid, y_train, y_valid = train_test_split(X, y, test_size=0.3, random_state=42)"
   ]
  },
  {
   "cell_type": "code",
   "execution_count": 168,
   "metadata": {},
   "outputs": [
    {
     "data": {
      "text/plain": [
       "RandomForestRegressor(bootstrap=True, criterion='mse', max_depth=50,\n",
       "           max_features='auto', max_leaf_nodes=None,\n",
       "           min_impurity_decrease=0.0, min_impurity_split=None,\n",
       "           min_samples_leaf=1, min_samples_split=2,\n",
       "           min_weight_fraction_leaf=0.0, n_estimators=300, n_jobs=30,\n",
       "           oob_score=False, random_state=None, verbose=0, warm_start=False)"
      ]
     },
     "execution_count": 168,
     "metadata": {},
     "output_type": "execute_result"
    }
   ],
   "source": [
    "model = RandomForestRegressor(**model_params)  # <=================\n",
    "model.fit(X_train, y_train)"
   ]
  },
  {
   "cell_type": "code",
   "execution_count": 169,
   "metadata": {},
   "outputs": [
    {
     "data": {
      "image/png": "[encoded data removed]",
      "text/plain": [
       "<Figure size 1080x2664 with 1 Axes>"
      ]
     },
     "metadata": {
      "needs_background": "light"
     },
     "output_type": "display_data"
    }
   ],
   "source": [
    "pi = permutation_importance(model, mean_absolute_error) # model と metric を渡す\n",
    "pi.compute(X_valid, y_valid)\n",
    "pi.show_permutation_importance(score_type='loss')  # loss or accuracy"
   ]
  },
  {
   "cell_type": "code",
   "execution_count": 170,
   "metadata": {},
   "outputs": [
    {
     "name": "stdout",
     "output_type": "stream",
     "text": [
      "24/149\n"
     ]
    },
    {
     "data": {
      "text/plain": [
       "['atom_index_1',\n",
       " 'atom_index_0',\n",
       " 'atom_7',\n",
       " 'd_6_1',\n",
       " 'eem_0',\n",
       " 'qeq_0',\n",
       " 'x_0',\n",
       " 'mmff94_1',\n",
       " 'eem2015ba_1',\n",
       " 'x_1',\n",
       " 'z_1',\n",
       " 'type_0',\n",
       " 'dist_x',\n",
       " 'molecule_atom_index_0_dist_mean_diff',\n",
       " 'molecule_atom_index_1_dist_max_diff',\n",
       " 'molecule_type_dist_mean_div',\n",
       " 'molecule_atom_index_1_fc_mean_div',\n",
       " 'molecule_atom_index_1_fc_min_div',\n",
       " 'atom_index_closest_0',\n",
       " 'x_closest_0',\n",
       " 'x_closest_1',\n",
       " 'z_closest_1',\n",
       " 'atom_1_H',\n",
       " 'atom_1_N']"
      ]
     },
     "execution_count": 170,
     "metadata": {},
     "output_type": "execute_result"
    }
   ],
   "source": [
    "best_feats = pi.get_negative_feature()\n",
    "drop_feats = pi.get_positive_feature()\n",
    "print(f'{len(drop_feats)}/{len(X.columns)}')\n",
    "drop_feats"
   ]
  },
  {
   "cell_type": "markdown",
   "metadata": {},
   "source": [
    "<br>\n",
    "<br>\n",
    "比較"
   ]
  },
  {
   "cell_type": "code",
   "execution_count": 171,
   "metadata": {},
   "outputs": [
    {
     "name": "stdout",
     "output_type": "stream",
     "text": [
      "base_feats error: 0.478839194747265\n",
      "best_feats error: 0.45076630779030646\n"
     ]
    }
   ],
   "source": [
    "print(f'base_feats error: {mean_absolute_error(y_valid, model.predict(X_valid))}')\n",
    "\n",
    "model_best = RandomForestRegressor(**model_params)  # <=================\n",
    "model_best.fit(X_train[best_feats], y_train)\n",
    "print(f'best_feats error: {mean_absolute_error(y_valid, model_best.predict(X_valid[best_feats]))}')"
   ]
  },
  {
   "cell_type": "markdown",
   "metadata": {},
   "source": [
    "<br>\n",
    "<br>\n",
    "特徴量削減"
   ]
  },
  {
   "cell_type": "code",
   "execution_count": 172,
   "metadata": {},
   "outputs": [],
   "source": [
    "X = X[best_feats]\n",
    "X_test = X_test[best_feats]"
   ]
  },
  {
   "cell_type": "markdown",
   "metadata": {},
   "source": [
    "# Training model"
   ]
  },
  {
   "cell_type": "markdown",
   "metadata": {},
   "source": [
    "**params**"
   ]
  },
  {
   "cell_type": "code",
   "execution_count": 173,
   "metadata": {},
   "outputs": [],
   "source": [
    "# Configuration\n",
    "model_params = {'n_estimators': 300,\n",
    "                  'max_depth': 50,\n",
    "                  'n_jobs': 30}"
   ]
  },
  {
   "cell_type": "code",
   "execution_count": 174,
   "metadata": {},
   "outputs": [],
   "source": [
    "n_folds = 4\n",
    "folds = KFold(n_splits=n_folds, shuffle=True)"
   ]
  },
  {
   "cell_type": "code",
   "execution_count": 175,
   "metadata": {},
   "outputs": [],
   "source": [
    "def train_model(X, X_test, y, folds, model_params):\n",
    "    model = RandomForestRegressor(**model_params)  # <=================\n",
    "\n",
    "    scores = []\n",
    "    oof = np.zeros(len(X))  # <========\n",
    "    prediction = np.zeros(len(X))  # <========\n",
    "    result_dict = {}\n",
    "    for fold_n, (train_idx, valid_idx) in enumerate(folds.split(X)):\n",
    "        print(f'Fold {fold_n + 1} started at {time.ctime()}')\n",
    "        model.fit(X.iloc[train_idx, :], y[train_idx])\n",
    "        y_valid_pred = model.predict(X.iloc[valid_idx, :])\n",
    "        prediction = model.predict(X_test)\n",
    "        oof[valid_idx] = y_valid_pred\n",
    "        score = mean_absolute_error(y[valid_idx], y_valid_pred)\n",
    "        scores.append(score)\n",
    "\n",
    "        print(f'fold {fold_n+1} mae: {score :.5f}')\n",
    "        print('')\n",
    "    print('CV mean score: {0:.4f}, std: {1:.4f}.'.format(np.mean(scores), np.std(scores)))\n",
    "    print('')\n",
    "    \n",
    "    result_dict['oof'] = oof\n",
    "    result_dict['prediction'] = prediction\n",
    "    result_dict['scores'] = scores\n",
    "    return result_dict"
   ]
  },
  {
   "cell_type": "code",
   "execution_count": 176,
   "metadata": {},
   "outputs": [
    {
     "name": "stdout",
     "output_type": "stream",
     "text": [
      "********************************************************************************\n",
      "Training of type 0\n",
      "********************************************************************************\n",
      "Fold 1 started at Thu Aug 22 04:03:26 2019\n",
      "fold 1 mae: 0.75146\n",
      "\n",
      "Fold 2 started at Thu Aug 22 04:03:27 2019\n",
      "fold 2 mae: 1.25582\n",
      "\n",
      "Fold 3 started at Thu Aug 22 04:03:27 2019\n",
      "fold 3 mae: 0.89191\n",
      "\n",
      "Fold 4 started at Thu Aug 22 04:03:28 2019\n",
      "fold 4 mae: 0.88916\n",
      "\n",
      "CV mean score: 0.9471, std: 0.1871.\n",
      "\n",
      "********************************************************************************\n",
      "Training of type 3\n",
      "********************************************************************************\n",
      "Fold 1 started at Thu Aug 22 04:03:29 2019\n",
      "fold 1 mae: 0.44251\n",
      "\n",
      "Fold 2 started at Thu Aug 22 04:03:29 2019\n",
      "fold 2 mae: 0.41973\n",
      "\n",
      "Fold 3 started at Thu Aug 22 04:03:30 2019\n",
      "fold 3 mae: 0.29005\n",
      "\n",
      "Fold 4 started at Thu Aug 22 04:03:31 2019\n",
      "fold 4 mae: 0.32698\n",
      "\n",
      "CV mean score: 0.3698, std: 0.0632.\n",
      "\n",
      "********************************************************************************\n",
      "Training of type 1\n",
      "********************************************************************************\n",
      "Fold 1 started at Thu Aug 22 04:03:31 2019\n",
      "fold 1 mae: 2.44439\n",
      "\n",
      "Fold 2 started at Thu Aug 22 04:03:32 2019\n",
      "fold 2 mae: 1.35107\n",
      "\n",
      "Fold 3 started at Thu Aug 22 04:03:32 2019\n",
      "fold 3 mae: 2.34987\n",
      "\n",
      "Fold 4 started at Thu Aug 22 04:03:33 2019\n",
      "fold 4 mae: 2.38861\n",
      "\n",
      "CV mean score: 2.1335, std: 0.4530.\n",
      "\n",
      "********************************************************************************\n",
      "Training of type 4\n",
      "********************************************************************************\n",
      "Fold 1 started at Thu Aug 22 04:03:33 2019\n",
      "fold 1 mae: 2.67882\n",
      "\n",
      "Fold 2 started at Thu Aug 22 04:03:34 2019\n",
      "fold 2 mae: 1.24043\n",
      "\n",
      "Fold 3 started at Thu Aug 22 04:03:34 2019\n",
      "fold 3 mae: 1.88364\n",
      "\n",
      "Fold 4 started at Thu Aug 22 04:03:35 2019\n",
      "fold 4 mae: 3.04748\n",
      "\n",
      "CV mean score: 2.2126, std: 0.7014.\n",
      "\n",
      "********************************************************************************\n",
      "Training of type 2\n",
      "********************************************************************************\n",
      "Fold 1 started at Thu Aug 22 04:03:36 2019\n",
      "fold 1 mae: 0.27219\n",
      "\n",
      "Fold 2 started at Thu Aug 22 04:03:36 2019\n",
      "fold 2 mae: 0.47215\n",
      "\n",
      "Fold 3 started at Thu Aug 22 04:03:37 2019\n",
      "fold 3 mae: 0.28443\n",
      "\n",
      "Fold 4 started at Thu Aug 22 04:03:38 2019\n",
      "fold 4 mae: 0.51817\n",
      "\n",
      "CV mean score: 0.3867, std: 0.1097.\n",
      "\n",
      "********************************************************************************\n",
      "Training of type 6\n",
      "********************************************************************************\n",
      "Fold 1 started at Thu Aug 22 04:03:38 2019\n",
      "fold 1 mae: 0.26805\n",
      "\n",
      "Fold 2 started at Thu Aug 22 04:03:39 2019\n",
      "fold 2 mae: 0.32737\n",
      "\n",
      "Fold 3 started at Thu Aug 22 04:03:39 2019\n",
      "fold 3 mae: 0.28713\n",
      "\n",
      "Fold 4 started at Thu Aug 22 04:03:40 2019\n",
      "fold 4 mae: 0.24010\n",
      "\n",
      "CV mean score: 0.2807, std: 0.0317.\n",
      "\n",
      "********************************************************************************\n",
      "Training of type 5\n",
      "********************************************************************************\n",
      "Fold 1 started at Thu Aug 22 04:03:41 2019\n",
      "fold 1 mae: 0.22668\n",
      "\n",
      "Fold 2 started at Thu Aug 22 04:03:41 2019\n",
      "fold 2 mae: 0.24777\n",
      "\n",
      "Fold 3 started at Thu Aug 22 04:03:42 2019\n",
      "fold 3 mae: 0.21778\n",
      "\n",
      "Fold 4 started at Thu Aug 22 04:03:43 2019\n",
      "fold 4 mae: 0.25070\n",
      "\n",
      "CV mean score: 0.2357, std: 0.0139.\n",
      "\n",
      "********************************************************************************\n",
      "Training of type 7\n",
      "********************************************************************************\n",
      "Fold 1 started at Thu Aug 22 04:03:43 2019\n",
      "fold 1 mae: 0.83662\n",
      "\n",
      "Fold 2 started at Thu Aug 22 04:03:44 2019\n",
      "fold 2 mae: 0.26235\n",
      "\n",
      "Fold 3 started at Thu Aug 22 04:03:44 2019\n",
      "fold 3 mae: 0.15237\n",
      "\n",
      "Fold 4 started at Thu Aug 22 04:03:45 2019\n",
      "fold 4 mae: 0.23534\n",
      "\n",
      "CV mean score: 0.3717, std: 0.2715.\n",
      "\n",
      "\n",
      "===== finish =====\n",
      "CV mean score(group log mae): -0.5182\n",
      "CPU times: user 1min 42s, sys: 4.75 s, total: 1min 47s\n",
      "Wall time: 19.4 s\n"
     ]
    }
   ],
   "source": [
    "%%time\n",
    "# type ごとの学習 \n",
    "\n",
    "X_short = pd.DataFrame({'ind': list(X.index), 'type': X['type'].values, 'oof': [0] * len(X), 'target': y.values})\n",
    "X_short_test = pd.DataFrame({'ind': list(X_test.index), 'type': X_test['type'].values, 'prediction': [0] * len(X_test)})\n",
    "for t in X['type'].unique():\n",
    "    print('*'*80)\n",
    "    print(f'Training of type {t}')\n",
    "    print('*'*80)\n",
    "    X_t = X.loc[X['type'] == t]\n",
    "    X_test_t = X_test.loc[X_test['type'] == t]\n",
    "    y_t = X_short.loc[X_short['type'] == t, 'target'].values\n",
    "    \n",
    "    result_dict = train_model(X_t, X_test_t, y_t, folds, model_params)\n",
    "    X_short.loc[X_short['type'] == t, 'oof'] = result_dict['oof']\n",
    "    X_short_test.loc[X_short_test['type'] == t, 'prediction'] = result_dict['prediction']\n",
    "    \n",
    "    \n",
    "\n",
    "print('')\n",
    "print('===== finish =====')\n",
    "X['scalar_coupling_constant'] = y\n",
    "metric = kaggle_metric(X, X_short['oof'])\n",
    "X = X.drop(['scalar_coupling_constant', 'prediction'], axis=1)\n",
    "print('CV mean score(group log mae): {0:.4f}'.format(metric))\n",
    "prediction = X_short_test['prediction']"
   ]
  },
  {
   "cell_type": "markdown",
   "metadata": {},
   "source": [
    "# Save"
   ]
  },
  {
   "cell_type": "markdown",
   "metadata": {},
   "source": [
    "**submission**"
   ]
  },
  {
   "cell_type": "code",
   "execution_count": 177,
   "metadata": {},
   "outputs": [
    {
     "name": "stdout",
     "output_type": "stream",
     "text": [
      "save pash: ../output/nb59_submission_random_forest_regressor_-0.51821.csv\n"
     ]
    }
   ],
   "source": [
    "# path_submittion = './output/' + 'nb{}_submission_lgb_{}.csv'.format(nb, metric)\n",
    "path_submittion = f'../output/nb{nb}_submission_{model_name}_{metric :.5f}.csv'\n",
    "print(f'save pash: {path_submittion}')"
   ]
  },
  {
   "cell_type": "code",
   "execution_count": 178,
   "metadata": {},
   "outputs": [],
   "source": [
    "submittion = pd.read_csv('../input/champs-scalar-coupling/sample_submission.csv')\n",
    "# submittion = pd.read_csv('./input/champs-scalar-coupling/sample_submission.csv')[::100]\n",
    "submittion['scalar_coupling_constant'] = prediction\n",
    "submittion.to_csv(path_submittion, index=False)"
   ]
  },
  {
   "cell_type": "markdown",
   "metadata": {},
   "source": [
    "---\n",
    "**result**"
   ]
  },
  {
   "cell_type": "code",
   "execution_count": 179,
   "metadata": {},
   "outputs": [
    {
     "name": "stdout",
     "output_type": "stream",
     "text": [
      "save pash: ../output/nb59_oof_random_forest_regressor_-0.51821.csv\n"
     ]
    }
   ],
   "source": [
    "path_oof = f'../output/nb{nb}_oof_{model_name}_{metric :.5f}.csv'\n",
    "print(f'save pash: {path_oof}')"
   ]
  },
  {
   "cell_type": "code",
   "execution_count": 180,
   "metadata": {},
   "outputs": [],
   "source": [
    "oof = pd.DataFrame(result_dict['oof'])\n",
    "oof.to_csv(path_oof, index=False)"
   ]
  },
  {
   "cell_type": "markdown",
   "metadata": {},
   "source": [
    "# analysis"
   ]
  },
  {
   "cell_type": "code",
   "execution_count": 181,
   "metadata": {},
   "outputs": [
    {
     "data": {
      "image/png": "[encoded data removed]",
      "text/plain": [
       "<Figure size 432x432 with 1 Axes>"
      ]
     },
     "metadata": {
      "needs_background": "light"
     },
     "output_type": "display_data"
    },
    {
     "data": {
      "image/png": "[encoded data removed]",
      "text/plain": [
       "<Figure size 432x432 with 1 Axes>"
      ]
     },
     "metadata": {
      "needs_background": "light"
     },
     "output_type": "display_data"
    },
    {
     "data": {
      "image/png": "[encoded data removed]",
      "text/plain": [
       "<Figure size 432x432 with 1 Axes>"
      ]
     },
     "metadata": {
      "needs_background": "light"
     },
     "output_type": "display_data"
    },
    {
     "data": {
      "image/png": "[encoded data removed]",
      "text/plain": [
       "<Figure size 432x432 with 1 Axes>"
      ]
     },
     "metadata": {
      "needs_background": "light"
     },
     "output_type": "display_data"
    },
    {
     "data": {
      "image/png": "[encoded data removed]",
      "text/plain": [
       "<Figure size 432x432 with 1 Axes>"
      ]
     },
     "metadata": {
      "needs_background": "light"
     },
     "output_type": "display_data"
    },
    {
     "data": {
      "image/png": "[encoded data removed]",
      "text/plain": [
       "<Figure size 432x432 with 1 Axes>"
      ]
     },
     "metadata": {
      "needs_background": "light"
     },
     "output_type": "display_data"
    },
    {
     "data": {
      "image/png": "[encoded data removed]",
      "text/plain": [
       "<Figure size 432x432 with 1 Axes>"
      ]
     },
     "metadata": {
      "needs_background": "light"
     },
     "output_type": "display_data"
    },
    {
     "data": {
      "image/png": "[encoded data removed]",
      "text/plain": [
       "<Figure size 432x432 with 1 Axes>"
      ]
     },
     "metadata": {
      "needs_background": "light"
     },
     "output_type": "display_data"
    }
   ],
   "source": [
    "plot_data = pd.DataFrame(y)\n",
    "plot_data.index.name = 'id'\n",
    "plot_data['yhat'] = X_short['oof']\n",
    "plot_data['type'] = lbl.inverse_transform(X['type'])\n",
    "\n",
    "def plot_oof_preds(ctype, llim, ulim):\n",
    "        plt.figure(figsize=(6,6))\n",
    "        sns.scatterplot(x='scalar_coupling_constant',y='yhat',\n",
    "                        data=plot_data.loc[plot_data['type']==ctype,\n",
    "                        ['scalar_coupling_constant', 'yhat']]);\n",
    "        plt.xlim((llim, ulim))\n",
    "        plt.ylim((llim, ulim))\n",
    "        plt.plot([llim, ulim], [llim, ulim])\n",
    "        plt.xlabel('scalar_coupling_constant')\n",
    "        plt.ylabel('predicted')\n",
    "        plt.title(f'{ctype}', fontsize=18)\n",
    "        plt.show()\n",
    "\n",
    "plot_oof_preds('1JHC', 0, 250)\n",
    "plot_oof_preds('1JHN', 0, 100)\n",
    "plot_oof_preds('2JHC', -50, 50)\n",
    "plot_oof_preds('2JHH', -50, 50)\n",
    "plot_oof_preds('2JHN', -25, 25)\n",
    "plot_oof_preds('3JHC', -25, 60)\n",
    "plot_oof_preds('3JHH', -20, 20)\n",
    "plot_oof_preds('3JHN', -10, 15)"
   ]
  },
  {
   "cell_type": "code",
   "execution_count": null,
   "metadata": {},
   "outputs": [],
   "source": []
  },
  {
   "cell_type": "code",
   "execution_count": null,
   "metadata": {},
   "outputs": [],
   "source": []
  },
  {
   "cell_type": "code",
   "execution_count": null,
   "metadata": {},
   "outputs": [],
   "source": []
  },
  {
   "cell_type": "code",
   "execution_count": null,
   "metadata": {},
   "outputs": [],
   "source": []
  }
 ],
 "metadata": {
  "kernelspec": {
   "display_name": "Python 3",
   "language": "python",
   "name": "python3"
  },
  "language_info": {
   "codemirror_mode": {
    "name": "ipython",
    "version": 3
   },
   "file_extension": ".py",
   "mimetype": "text/x-python",
   "name": "python",
   "nbconvert_exporter": "python",
   "pygments_lexer": "ipython3",
   "version": "3.6.8"
  }
 },
 "nbformat": 4,
 "nbformat_minor": 4
}
