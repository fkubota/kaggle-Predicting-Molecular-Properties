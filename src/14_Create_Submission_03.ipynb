{
 "cells": [
  {
   "cell_type": "markdown",
   "metadata": {},
   "source": [
    "# Introduction\n",
    "- ref:\n",
    "    > https://www.kaggle.com/artgor/brute-force-feature-engineering\n",
    "- nb10, nb12 に続いて、特徴量を増やす。\n",
    "- molecule ごとを意識した特徴量を意識する"
   ]
  },
  {
   "cell_type": "markdown",
   "metadata": {},
   "source": [
    "# Import evetything I nead :)"
   ]
  },
  {
   "cell_type": "code",
   "execution_count": 28,
   "metadata": {},
   "outputs": [],
   "source": [
    "import glob\n",
    "import multiprocessing\n",
    "import gc\n",
    "import numpy as np\n",
    "import pandas as pd\n",
    "import matplotlib.pyplot as plt\n",
    "import seaborn as sns\n",
    "from sklearn.preprocessing import LabelEncoder\n",
    "from sklearn.model_selection import KFold\n",
    "from sklearn.metrics import mean_absolute_error\n",
    "import lightgbm as lgb"
   ]
  },
  {
   "cell_type": "markdown",
   "metadata": {},
   "source": [
    "# Data Preparation"
   ]
  },
  {
   "cell_type": "code",
   "execution_count": 29,
   "metadata": {},
   "outputs": [
    {
     "data": {
      "text/plain": [
       "['./input/champs-scalar-coupling/scalar_coupling_contributions.csv',\n",
       " './input/champs-scalar-coupling/magnetic_shielding_tensors.csv',\n",
       " './input/champs-scalar-coupling/structures.csv',\n",
       " './input/champs-scalar-coupling/test.csv',\n",
       " './input/champs-scalar-coupling/dipole_moments.csv',\n",
       " './input/champs-scalar-coupling/potential_energy.csv',\n",
       " './input/champs-scalar-coupling/sample_submission.csv',\n",
       " './input/champs-scalar-coupling/train.csv',\n",
       " './input/champs-scalar-coupling/mulliken_charges.csv']"
      ]
     },
     "execution_count": 29,
     "metadata": {},
     "output_type": "execute_result"
    }
   ],
   "source": [
    "file_path = './input/champs-scalar-coupling/'\n",
    "glob.glob(file_path + '*')"
   ]
  },
  {
   "cell_type": "code",
   "execution_count": 30,
   "metadata": {},
   "outputs": [],
   "source": [
    "# train\n",
    "path = file_path + 'train.csv'\n",
    "train = pd.read_csv(path)"
   ]
  },
  {
   "cell_type": "code",
   "execution_count": 31,
   "metadata": {},
   "outputs": [],
   "source": [
    "# test\n",
    "path = file_path + 'test.csv'\n",
    "test = pd.read_csv(path)"
   ]
  },
  {
   "cell_type": "code",
   "execution_count": 32,
   "metadata": {},
   "outputs": [],
   "source": [
    "# structure\n",
    "path = file_path + 'structures.csv'\n",
    "structures = pd.read_csv(path)"
   ]
  },
  {
   "cell_type": "code",
   "execution_count": 33,
   "metadata": {},
   "outputs": [
    {
     "name": "stdout",
     "output_type": "stream",
     "text": [
      "There are 4658147 rows in train data.\n",
      "There are 2505542 rows in test data.\n",
      "There are 85003 distinct molecules in train data.\n",
      "There are 45772 distinct molecules in test data.\n",
      "There are 29 unique atoms.\n",
      "There are 8 unique types.\n"
     ]
    }
   ],
   "source": [
    "print(f'There are {train.shape[0]} rows in train data.')\n",
    "print(f'There are {test.shape[0]} rows in test data.')\n",
    "\n",
    "print(f\"There are {train['molecule_name'].nunique()} distinct molecules in train data.\")\n",
    "print(f\"There are {test['molecule_name'].nunique()} distinct molecules in test data.\")\n",
    "print(f\"There are {train['atom_index_0'].nunique()} unique atoms.\")\n",
    "print(f\"There are {train['type'].nunique()} unique types.\")"
   ]
  },
  {
   "cell_type": "code",
   "execution_count": 34,
   "metadata": {},
   "outputs": [
    {
     "data": {
      "text/plain": [
       "77"
      ]
     },
     "execution_count": 34,
     "metadata": {},
     "output_type": "execute_result"
    }
   ],
   "source": [
    "# using n_cpu\n",
    "n_cpu = multiprocessing.cpu_count()-3\n",
    "n_cpu"
   ]
  },
  {
   "cell_type": "markdown",
   "metadata": {},
   "source": [
    "# Feature Engineering"
   ]
  },
  {
   "cell_type": "markdown",
   "metadata": {},
   "source": [
    "**before**"
   ]
  },
  {
   "cell_type": "code",
   "execution_count": 35,
   "metadata": {},
   "outputs": [
    {
     "data": {
      "text/html": [
       "<div>\n",
       "<style scoped>\n",
       "    .dataframe tbody tr th:only-of-type {\n",
       "        vertical-align: middle;\n",
       "    }\n",
       "\n",
       "    .dataframe tbody tr th {\n",
       "        vertical-align: top;\n",
       "    }\n",
       "\n",
       "    .dataframe thead th {\n",
       "        text-align: right;\n",
       "    }\n",
       "</style>\n",
       "<table border=\"1\" class=\"dataframe\">\n",
       "  <thead>\n",
       "    <tr style=\"text-align: right;\">\n",
       "      <th></th>\n",
       "      <th>id</th>\n",
       "      <th>molecule_name</th>\n",
       "      <th>atom_index_0</th>\n",
       "      <th>atom_index_1</th>\n",
       "      <th>type</th>\n",
       "      <th>scalar_coupling_constant</th>\n",
       "    </tr>\n",
       "  </thead>\n",
       "  <tbody>\n",
       "  </tbody>\n",
       "</table>\n",
       "</div>"
      ],
      "text/plain": [
       "Empty DataFrame\n",
       "Columns: [id, molecule_name, atom_index_0, atom_index_1, type, scalar_coupling_constant]\n",
       "Index: []"
      ]
     },
     "execution_count": 35,
     "metadata": {},
     "output_type": "execute_result"
    }
   ],
   "source": [
    "train.head(0)"
   ]
  },
  {
   "cell_type": "markdown",
   "metadata": {},
   "source": [
    "---\n",
    "**after**\n",
    "- structure から座標情報を付与"
   ]
  },
  {
   "cell_type": "code",
   "execution_count": 36,
   "metadata": {},
   "outputs": [
    {
     "data": {
      "text/html": [
       "<div>\n",
       "<style scoped>\n",
       "    .dataframe tbody tr th:only-of-type {\n",
       "        vertical-align: middle;\n",
       "    }\n",
       "\n",
       "    .dataframe tbody tr th {\n",
       "        vertical-align: top;\n",
       "    }\n",
       "\n",
       "    .dataframe thead th {\n",
       "        text-align: right;\n",
       "    }\n",
       "</style>\n",
       "<table border=\"1\" class=\"dataframe\">\n",
       "  <thead>\n",
       "    <tr style=\"text-align: right;\">\n",
       "      <th></th>\n",
       "      <th>id</th>\n",
       "      <th>molecule_name</th>\n",
       "      <th>atom_index_0</th>\n",
       "      <th>atom_index_1</th>\n",
       "      <th>type</th>\n",
       "      <th>scalar_coupling_constant</th>\n",
       "      <th>atom_0</th>\n",
       "      <th>x_0</th>\n",
       "      <th>y_0</th>\n",
       "      <th>z_0</th>\n",
       "      <th>atom_1</th>\n",
       "      <th>x_1</th>\n",
       "      <th>y_1</th>\n",
       "      <th>z_1</th>\n",
       "    </tr>\n",
       "  </thead>\n",
       "  <tbody>\n",
       "    <tr>\n",
       "      <th>0</th>\n",
       "      <td>0</td>\n",
       "      <td>dsgdb9nsd_000001</td>\n",
       "      <td>1</td>\n",
       "      <td>0</td>\n",
       "      <td>1JHC</td>\n",
       "      <td>84.8076</td>\n",
       "      <td>H</td>\n",
       "      <td>0.00215</td>\n",
       "      <td>-0.006031</td>\n",
       "      <td>0.001976</td>\n",
       "      <td>C</td>\n",
       "      <td>-0.012698</td>\n",
       "      <td>1.085804</td>\n",
       "      <td>0.008001</td>\n",
       "    </tr>\n",
       "    <tr>\n",
       "      <th>1</th>\n",
       "      <td>1</td>\n",
       "      <td>dsgdb9nsd_000001</td>\n",
       "      <td>1</td>\n",
       "      <td>2</td>\n",
       "      <td>2JHH</td>\n",
       "      <td>-11.2570</td>\n",
       "      <td>H</td>\n",
       "      <td>0.00215</td>\n",
       "      <td>-0.006031</td>\n",
       "      <td>0.001976</td>\n",
       "      <td>H</td>\n",
       "      <td>1.011731</td>\n",
       "      <td>1.463751</td>\n",
       "      <td>0.000277</td>\n",
       "    </tr>\n",
       "    <tr>\n",
       "      <th>2</th>\n",
       "      <td>2</td>\n",
       "      <td>dsgdb9nsd_000001</td>\n",
       "      <td>1</td>\n",
       "      <td>3</td>\n",
       "      <td>2JHH</td>\n",
       "      <td>-11.2548</td>\n",
       "      <td>H</td>\n",
       "      <td>0.00215</td>\n",
       "      <td>-0.006031</td>\n",
       "      <td>0.001976</td>\n",
       "      <td>H</td>\n",
       "      <td>-0.540815</td>\n",
       "      <td>1.447527</td>\n",
       "      <td>-0.876644</td>\n",
       "    </tr>\n",
       "  </tbody>\n",
       "</table>\n",
       "</div>"
      ],
      "text/plain": [
       "   id     molecule_name  atom_index_0  atom_index_1  type  \\\n",
       "0   0  dsgdb9nsd_000001             1             0  1JHC   \n",
       "1   1  dsgdb9nsd_000001             1             2  2JHH   \n",
       "2   2  dsgdb9nsd_000001             1             3  2JHH   \n",
       "\n",
       "   scalar_coupling_constant atom_0      x_0       y_0       z_0 atom_1  \\\n",
       "0                   84.8076      H  0.00215 -0.006031  0.001976      C   \n",
       "1                  -11.2570      H  0.00215 -0.006031  0.001976      H   \n",
       "2                  -11.2548      H  0.00215 -0.006031  0.001976      H   \n",
       "\n",
       "        x_1       y_1       z_1  \n",
       "0 -0.012698  1.085804  0.008001  \n",
       "1  1.011731  1.463751  0.000277  \n",
       "2 -0.540815  1.447527 -0.876644  "
      ]
     },
     "execution_count": 36,
     "metadata": {},
     "output_type": "execute_result"
    }
   ],
   "source": [
    "def map_atom_info(df, atom_idx):\n",
    "    df = pd.merge(df, structures, how = 'left',\n",
    "                  left_on  = ['molecule_name', f'atom_index_{atom_idx}'],\n",
    "                  right_on = ['molecule_name',  'atom_index'])\n",
    "    \n",
    "    df = df.drop('atom_index', axis=1)\n",
    "    df = df.rename(columns={'atom': f'atom_{atom_idx}',\n",
    "                            'x': f'x_{atom_idx}',\n",
    "                            'y': f'y_{atom_idx}',\n",
    "                            'z': f'z_{atom_idx}'})\n",
    "    return df\n",
    "\n",
    "train = map_atom_info(train, 0)\n",
    "train = map_atom_info(train, 1)\n",
    "\n",
    "test = map_atom_info(test, 0)\n",
    "test = map_atom_info(test, 1)\n",
    "\n",
    "train.head(3)"
   ]
  },
  {
   "cell_type": "code",
   "execution_count": 37,
   "metadata": {},
   "outputs": [
    {
     "data": {
      "text/plain": [
       "98"
      ]
     },
     "execution_count": 37,
     "metadata": {},
     "output_type": "execute_result"
    }
   ],
   "source": [
    "# メモリの開放\n",
    "del structures\n",
    "gc.collect()"
   ]
  },
  {
   "cell_type": "markdown",
   "metadata": {},
   "source": [
    "---\n",
    "**距離情報の付与**"
   ]
  },
  {
   "cell_type": "code",
   "execution_count": 38,
   "metadata": {},
   "outputs": [],
   "source": [
    "train_p_0 = train[['x_0', 'y_0', 'z_0']].values\n",
    "train_p_1 = train[['x_1', 'y_1', 'z_1']].values\n",
    "test_p_0 = test[['x_0', 'y_0', 'z_0']].values\n",
    "test_p_1 = test[['x_1', 'y_1', 'z_1']].values\n",
    "\n",
    "train['dist'] = np.linalg.norm(train_p_0 - train_p_1, axis=1)\n",
    "test['dist'] = np.linalg.norm(test_p_0 - test_p_1, axis=1)\n",
    "train['dist_x'] = (train['x_0'] - train['x_1']) ** 2\n",
    "test['dist_x'] = (test['x_0'] - test['x_1']) ** 2\n",
    "train['dist_y'] = (train['y_0'] - train['y_1']) ** 2\n",
    "test['dist_y'] = (test['y_0'] - test['y_1']) ** 2\n",
    "train['dist_z'] = (train['z_0'] - train['z_1']) ** 2\n",
    "test['dist_z'] = (test['z_0'] - test['z_1']) ** 2"
   ]
  },
  {
   "cell_type": "markdown",
   "metadata": {},
   "source": [
    "---\n",
    "**typeの分解**\n",
    "- 2JHC から、 2 を取り出す"
   ]
  },
  {
   "cell_type": "code",
   "execution_count": 39,
   "metadata": {},
   "outputs": [],
   "source": [
    "train['type_0'] = train['type'].apply(lambda x: x[0])\n",
    "test['type_0'] = test['type'].apply(lambda x: x[0])"
   ]
  },
  {
   "cell_type": "code",
   "execution_count": 40,
   "metadata": {},
   "outputs": [
    {
     "data": {
      "text/plain": [
       "Index(['id', 'molecule_name', 'atom_index_0', 'atom_index_1', 'type',\n",
       "       'scalar_coupling_constant', 'atom_0', 'x_0', 'y_0', 'z_0', 'atom_1',\n",
       "       'x_1', 'y_1', 'z_1', 'dist', 'dist_x', 'dist_y', 'dist_z', 'type_0'],\n",
       "      dtype='object')"
      ]
     },
     "execution_count": 40,
     "metadata": {},
     "output_type": "execute_result"
    }
   ],
   "source": [
    "# ここまでの特徴量\n",
    "train.columns"
   ]
  },
  {
   "cell_type": "markdown",
   "metadata": {},
   "source": [
    "---\n",
    "**現在の特徴量から、副次的な特徴量を生成**"
   ]
  },
  {
   "cell_type": "code",
   "execution_count": 41,
   "metadata": {},
   "outputs": [],
   "source": [
    "def create_features(df):\n",
    "    df['molecule_couples'] = df.groupby('molecule_name')['id'].transform('count')\n",
    "    df['molecule_dist_mean'] = df.groupby('molecule_name')['dist'].transform('mean')\n",
    "    df['molecule_dist_min'] = df.groupby('molecule_name')['dist'].transform('min')\n",
    "    df['molecule_dist_max'] = df.groupby('molecule_name')['dist'].transform('max')\n",
    "    df['atom_0_couples_count'] = df.groupby(['molecule_name', 'atom_index_0'])['id'].transform('count')\n",
    "    df['atom_1_couples_count'] = df.groupby(['molecule_name', 'atom_index_1'])['id'].transform('count')\n",
    "    \n",
    "    df[f'molecule_atom_index_0_x_1_std'] = df.groupby(['molecule_name', 'atom_index_0'])['x_1'].transform('std')\n",
    "    df[f'molecule_atom_index_0_y_1_mean'] = df.groupby(['molecule_name', 'atom_index_0'])['y_1'].transform('mean')\n",
    "    df[f'molecule_atom_index_0_y_1_mean_diff'] = df[f'molecule_atom_index_0_y_1_mean'] - df['y_1']\n",
    "    df[f'molecule_atom_index_0_y_1_mean_div'] = df[f'molecule_atom_index_0_y_1_mean'] / df['y_1']\n",
    "    df[f'molecule_atom_index_0_y_1_max'] = df.groupby(['molecule_name', 'atom_index_0'])['y_1'].transform('max')\n",
    "    df[f'molecule_atom_index_0_y_1_max_diff'] = df[f'molecule_atom_index_0_y_1_max'] - df['y_1']\n",
    "    df[f'molecule_atom_index_0_y_1_std'] = df.groupby(['molecule_name', 'atom_index_0'])['y_1'].transform('std')\n",
    "    df[f'molecule_atom_index_0_z_1_std'] = df.groupby(['molecule_name', 'atom_index_0'])['z_1'].transform('std')\n",
    "    df[f'molecule_atom_index_0_dist_mean'] = df.groupby(['molecule_name', 'atom_index_0'])['dist'].transform('mean')\n",
    "    df[f'molecule_atom_index_0_dist_mean_diff'] = df[f'molecule_atom_index_0_dist_mean'] - df['dist']\n",
    "    df[f'molecule_atom_index_0_dist_mean_div'] = df[f'molecule_atom_index_0_dist_mean'] / df['dist']\n",
    "    df[f'molecule_atom_index_0_dist_max'] = df.groupby(['molecule_name', 'atom_index_0'])['dist'].transform('max')\n",
    "    df[f'molecule_atom_index_0_dist_max_diff'] = df[f'molecule_atom_index_0_dist_max'] - df['dist']\n",
    "    df[f'molecule_atom_index_0_dist_max_div'] = df[f'molecule_atom_index_0_dist_max'] / df['dist']\n",
    "    df[f'molecule_atom_index_0_dist_min'] = df.groupby(['molecule_name', 'atom_index_0'])['dist'].transform('min')\n",
    "    df[f'molecule_atom_index_0_dist_min_diff'] = df[f'molecule_atom_index_0_dist_min'] - df['dist']\n",
    "    df[f'molecule_atom_index_0_dist_min_div'] = df[f'molecule_atom_index_0_dist_min'] / df['dist']\n",
    "    df[f'molecule_atom_index_0_dist_std'] = df.groupby(['molecule_name', 'atom_index_0'])['dist'].transform('std')\n",
    "    df[f'molecule_atom_index_0_dist_std_diff'] = df[f'molecule_atom_index_0_dist_std'] - df['dist']\n",
    "    df[f'molecule_atom_index_0_dist_std_div'] = df[f'molecule_atom_index_0_dist_std'] / df['dist']\n",
    "    df[f'molecule_atom_index_1_dist_mean'] = df.groupby(['molecule_name', 'atom_index_1'])['dist'].transform('mean')\n",
    "    df[f'molecule_atom_index_1_dist_mean_diff'] = df[f'molecule_atom_index_1_dist_mean'] - df['dist']\n",
    "    df[f'molecule_atom_index_1_dist_mean_div'] = df[f'molecule_atom_index_1_dist_mean'] / df['dist']\n",
    "    df[f'molecule_atom_index_1_dist_max'] = df.groupby(['molecule_name', 'atom_index_1'])['dist'].transform('max')\n",
    "    df[f'molecule_atom_index_1_dist_max_diff'] = df[f'molecule_atom_index_1_dist_max'] - df['dist']\n",
    "    df[f'molecule_atom_index_1_dist_max_div'] = df[f'molecule_atom_index_1_dist_max'] / df['dist']\n",
    "    df[f'molecule_atom_index_1_dist_min'] = df.groupby(['molecule_name', 'atom_index_1'])['dist'].transform('min')\n",
    "    df[f'molecule_atom_index_1_dist_min_diff'] = df[f'molecule_atom_index_1_dist_min'] - df['dist']\n",
    "    df[f'molecule_atom_index_1_dist_min_div'] = df[f'molecule_atom_index_1_dist_min'] / df['dist']\n",
    "    df[f'molecule_atom_index_1_dist_std'] = df.groupby(['molecule_name', 'atom_index_1'])['dist'].transform('std')\n",
    "    df[f'molecule_atom_index_1_dist_std_diff'] = df[f'molecule_atom_index_1_dist_std'] - df['dist']\n",
    "    df[f'molecule_atom_index_1_dist_std_div'] = df[f'molecule_atom_index_1_dist_std'] / df['dist']\n",
    "    df[f'molecule_atom_1_dist_mean'] = df.groupby(['molecule_name', 'atom_1'])['dist'].transform('mean')\n",
    "    df[f'molecule_atom_1_dist_min'] = df.groupby(['molecule_name', 'atom_1'])['dist'].transform('min')\n",
    "    df[f'molecule_atom_1_dist_min_diff'] = df[f'molecule_atom_1_dist_min'] - df['dist']\n",
    "    df[f'molecule_atom_1_dist_min_div'] = df[f'molecule_atom_1_dist_min'] / df['dist']\n",
    "    df[f'molecule_atom_1_dist_std'] = df.groupby(['molecule_name', 'atom_1'])['dist'].transform('std')\n",
    "    df[f'molecule_atom_1_dist_std_diff'] = df[f'molecule_atom_1_dist_std'] - df['dist']\n",
    "    df[f'molecule_type_0_dist_std'] = df.groupby(['molecule_name', 'type_0'])['dist'].transform('std')\n",
    "    df[f'molecule_type_0_dist_std_diff'] = df[f'molecule_type_0_dist_std'] - df['dist']\n",
    "    df[f'molecule_type_dist_mean'] = df.groupby(['molecule_name', 'type'])['dist'].transform('mean')\n",
    "    df[f'molecule_type_dist_mean_diff'] = df[f'molecule_type_dist_mean'] - df['dist']\n",
    "    df[f'molecule_type_dist_mean_div'] = df[f'molecule_type_dist_mean'] / df['dist']\n",
    "    df[f'molecule_type_dist_max'] = df.groupby(['molecule_name', 'type'])['dist'].transform('max')\n",
    "    df[f'molecule_type_dist_min'] = df.groupby(['molecule_name', 'type'])['dist'].transform('min')\n",
    "    df[f'molecule_type_dist_std'] = df.groupby(['molecule_name', 'type'])['dist'].transform('std')\n",
    "    df[f'molecule_type_dist_std_diff'] = df[f'molecule_type_dist_std'] - df['dist']\n",
    "\n",
    "    return df"
   ]
  },
  {
   "cell_type": "code",
   "execution_count": 42,
   "metadata": {},
   "outputs": [],
   "source": [
    "train = create_features(train)"
   ]
  },
  {
   "cell_type": "code",
   "execution_count": 43,
   "metadata": {},
   "outputs": [],
   "source": [
    "test = create_features(test)"
   ]
  },
  {
   "cell_type": "code",
   "execution_count": 44,
   "metadata": {},
   "outputs": [
    {
     "name": "stdout",
     "output_type": "stream",
     "text": [
      "n_features: 72\n",
      "-------------\n"
     ]
    },
    {
     "data": {
      "text/plain": [
       "Index(['id', 'molecule_name', 'atom_index_0', 'atom_index_1', 'type',\n",
       "       'scalar_coupling_constant', 'atom_0', 'x_0', 'y_0', 'z_0', 'atom_1',\n",
       "       'x_1', 'y_1', 'z_1', 'dist', 'dist_x', 'dist_y', 'dist_z', 'type_0',\n",
       "       'molecule_couples', 'molecule_dist_mean', 'molecule_dist_min',\n",
       "       'molecule_dist_max', 'atom_0_couples_count', 'atom_1_couples_count',\n",
       "       'molecule_atom_index_0_x_1_std', 'molecule_atom_index_0_y_1_mean',\n",
       "       'molecule_atom_index_0_y_1_mean_diff',\n",
       "       'molecule_atom_index_0_y_1_mean_div', 'molecule_atom_index_0_y_1_max',\n",
       "       'molecule_atom_index_0_y_1_max_diff', 'molecule_atom_index_0_y_1_std',\n",
       "       'molecule_atom_index_0_z_1_std', 'molecule_atom_index_0_dist_mean',\n",
       "       'molecule_atom_index_0_dist_mean_diff',\n",
       "       'molecule_atom_index_0_dist_mean_div', 'molecule_atom_index_0_dist_max',\n",
       "       'molecule_atom_index_0_dist_max_diff',\n",
       "       'molecule_atom_index_0_dist_max_div', 'molecule_atom_index_0_dist_min',\n",
       "       'molecule_atom_index_0_dist_min_diff',\n",
       "       'molecule_atom_index_0_dist_min_div', 'molecule_atom_index_0_dist_std',\n",
       "       'molecule_atom_index_0_dist_std_diff',\n",
       "       'molecule_atom_index_0_dist_std_div', 'molecule_atom_index_1_dist_mean',\n",
       "       'molecule_atom_index_1_dist_mean_diff',\n",
       "       'molecule_atom_index_1_dist_mean_div', 'molecule_atom_index_1_dist_max',\n",
       "       'molecule_atom_index_1_dist_max_diff',\n",
       "       'molecule_atom_index_1_dist_max_div', 'molecule_atom_index_1_dist_min',\n",
       "       'molecule_atom_index_1_dist_min_diff',\n",
       "       'molecule_atom_index_1_dist_min_div', 'molecule_atom_index_1_dist_std',\n",
       "       'molecule_atom_index_1_dist_std_diff',\n",
       "       'molecule_atom_index_1_dist_std_div', 'molecule_atom_1_dist_mean',\n",
       "       'molecule_atom_1_dist_min', 'molecule_atom_1_dist_min_diff',\n",
       "       'molecule_atom_1_dist_min_div', 'molecule_atom_1_dist_std',\n",
       "       'molecule_atom_1_dist_std_diff', 'molecule_type_0_dist_std',\n",
       "       'molecule_type_0_dist_std_diff', 'molecule_type_dist_mean',\n",
       "       'molecule_type_dist_mean_diff', 'molecule_type_dist_mean_div',\n",
       "       'molecule_type_dist_max', 'molecule_type_dist_min',\n",
       "       'molecule_type_dist_std', 'molecule_type_dist_std_diff'],\n",
       "      dtype='object')"
      ]
     },
     "execution_count": 44,
     "metadata": {},
     "output_type": "execute_result"
    }
   ],
   "source": [
    "# ここまでの特徴量\n",
    "print(f'n_features: {len(train.columns)}')\n",
    "print('-------------')\n",
    "train.columns"
   ]
  },
  {
   "cell_type": "markdown",
   "metadata": {},
   "source": [
    "## Preparation data for model"
   ]
  },
  {
   "cell_type": "code",
   "execution_count": 45,
   "metadata": {},
   "outputs": [
    {
     "name": "stdout",
     "output_type": "stream",
     "text": [
      "usig n_features: 51\n"
     ]
    }
   ],
   "source": [
    "# \n",
    "good_columns = [\n",
    "'molecule_atom_index_0_dist_min',\n",
    "'molecule_atom_index_0_dist_max',\n",
    "'molecule_atom_index_1_dist_min',\n",
    "'molecule_atom_index_0_dist_mean',\n",
    "'molecule_atom_index_0_dist_std',\n",
    "'dist',\n",
    "'molecule_atom_index_1_dist_std',\n",
    "'molecule_atom_index_1_dist_max',\n",
    "'molecule_atom_index_1_dist_mean',\n",
    "'molecule_atom_index_0_dist_max_diff',\n",
    "'molecule_atom_index_0_dist_max_div',\n",
    "'molecule_atom_index_0_dist_std_diff',\n",
    "'molecule_atom_index_0_dist_std_div',\n",
    "'atom_0_couples_count',\n",
    "'molecule_atom_index_0_dist_min_div',\n",
    "'molecule_atom_index_1_dist_std_diff',\n",
    "'molecule_atom_index_0_dist_mean_div',\n",
    "'atom_1_couples_count',\n",
    "'molecule_atom_index_0_dist_mean_diff',\n",
    "'molecule_couples',\n",
    "'atom_index_1',\n",
    "'molecule_dist_mean',\n",
    "'molecule_atom_index_1_dist_max_diff',\n",
    "'molecule_atom_index_0_y_1_std',\n",
    "'molecule_atom_index_1_dist_mean_diff',\n",
    "'molecule_atom_index_1_dist_std_div',\n",
    "'molecule_atom_index_1_dist_mean_div',\n",
    "'molecule_atom_index_1_dist_min_diff',\n",
    "'molecule_atom_index_1_dist_min_div',\n",
    "'molecule_atom_index_1_dist_max_div',\n",
    "'molecule_atom_index_0_z_1_std',\n",
    "'y_0',\n",
    "'molecule_type_dist_std_diff',\n",
    "'molecule_atom_1_dist_min_diff',\n",
    "'molecule_atom_index_0_x_1_std',\n",
    "'molecule_dist_min',\n",
    "'molecule_atom_index_0_dist_min_diff',\n",
    "'molecule_atom_index_0_y_1_mean_diff',\n",
    "'molecule_type_dist_min',\n",
    "'molecule_atom_1_dist_min_div',\n",
    "'atom_index_0',\n",
    "'molecule_dist_max',\n",
    "'molecule_atom_1_dist_std_diff',\n",
    "'molecule_type_dist_max',\n",
    "'molecule_atom_index_0_y_1_max_diff',\n",
    "'molecule_type_0_dist_std_diff',\n",
    "'molecule_type_dist_mean_diff',\n",
    "'molecule_atom_1_dist_mean',\n",
    "'molecule_atom_index_0_y_1_mean_div',\n",
    "'molecule_type_dist_mean_div',\n",
    "'type']\n",
    "print('usig n_features:', len(good_columns))"
   ]
  },
  {
   "cell_type": "code",
   "execution_count": 46,
   "metadata": {},
   "outputs": [],
   "source": [
    "for f in ['atom_1', 'type_0', 'type']:\n",
    "    if f in good_columns:\n",
    "        lbl = LabelEncoder()\n",
    "        lbl.fit(list(train[f].values) + list(test[f].values))\n",
    "        train[f] = lbl.transform(list(train[f].values))\n",
    "        test[f] = lbl.transform(list(test[f].values))"
   ]
  },
  {
   "cell_type": "code",
   "execution_count": 47,
   "metadata": {},
   "outputs": [],
   "source": [
    "X = train[good_columns].copy()\n",
    "y = train['scalar_coupling_constant']\n",
    "X_test = test[good_columns].copy()"
   ]
  },
  {
   "cell_type": "code",
   "execution_count": 48,
   "metadata": {},
   "outputs": [
    {
     "data": {
      "text/plain": [
       "147"
      ]
     },
     "execution_count": 48,
     "metadata": {},
     "output_type": "execute_result"
    }
   ],
   "source": [
    "del train, test\n",
    "gc.collect()"
   ]
  },
  {
   "cell_type": "markdown",
   "metadata": {},
   "source": [
    "# Training model on selected features"
   ]
  },
  {
   "cell_type": "code",
   "execution_count": 49,
   "metadata": {},
   "outputs": [],
   "source": [
    "# Configuration\n",
    "TARGET = 'scalar_coupling_constant'\n",
    "# CAT_FEATS = ['atom_0','atom_1']\n",
    "N_ESTIMATORS = 10000\n",
    "VERBOSE = 1000\n",
    "EARLY_STOPPING_ROUNDS = 200\n",
    "RANDOM_STATE = 529"
   ]
  },
  {
   "cell_type": "code",
   "execution_count": 50,
   "metadata": {},
   "outputs": [
    {
     "name": "stdout",
     "output_type": "stream",
     "text": [
      "Training until validation scores don't improve for 200 rounds.\n",
      "[1000]\ttraining's l1: 0.9727\tvalid_1's l1: 1.06124\n",
      "[2000]\ttraining's l1: 0.831151\tvalid_1's l1: 0.978054\n",
      "[3000]\ttraining's l1: 0.741566\tvalid_1's l1: 0.934866\n",
      "[4000]\ttraining's l1: 0.674261\tvalid_1's l1: 0.906888\n",
      "[5000]\ttraining's l1: 0.620014\tvalid_1's l1: 0.886955\n",
      "[6000]\ttraining's l1: 0.574744\tvalid_1's l1: 0.871789\n",
      "[7000]\ttraining's l1: 0.536093\tvalid_1's l1: 0.860693\n",
      "[8000]\ttraining's l1: 0.502257\tvalid_1's l1: 0.851517\n",
      "[9000]\ttraining's l1: 0.471715\tvalid_1's l1: 0.843602\n",
      "[10000]\ttraining's l1: 0.444333\tvalid_1's l1: 0.837239\n",
      "Did not meet early stopping. Best iteration is:\n",
      "[10000]\ttraining's l1: 0.444333\tvalid_1's l1: 0.837239\n",
      "CV mean score: 0.8372, std: 0.0000.\n",
      "Training until validation scores don't improve for 200 rounds.\n",
      "[1000]\ttraining's l1: 0.972187\tvalid_1's l1: 1.06192\n",
      "[2000]\ttraining's l1: 0.828789\tvalid_1's l1: 0.975649\n",
      "[3000]\ttraining's l1: 0.739158\tvalid_1's l1: 0.932504\n",
      "[4000]\ttraining's l1: 0.672529\tvalid_1's l1: 0.904399\n",
      "[5000]\ttraining's l1: 0.618814\tvalid_1's l1: 0.884633\n",
      "[6000]\ttraining's l1: 0.57396\tvalid_1's l1: 0.869989\n",
      "[7000]\ttraining's l1: 0.535202\tvalid_1's l1: 0.858388\n",
      "[8000]\ttraining's l1: 0.501278\tvalid_1's l1: 0.849077\n",
      "[9000]\ttraining's l1: 0.470976\tvalid_1's l1: 0.841485\n",
      "[10000]\ttraining's l1: 0.443463\tvalid_1's l1: 0.834973\n",
      "Did not meet early stopping. Best iteration is:\n",
      "[10000]\ttraining's l1: 0.443463\tvalid_1's l1: 0.834973\n",
      "CV mean score: 0.8365, std: 0.0011.\n",
      "Training until validation scores don't improve for 200 rounds.\n",
      "[1000]\ttraining's l1: 0.970222\tvalid_1's l1: 1.06427\n",
      "[2000]\ttraining's l1: 0.828162\tvalid_1's l1: 0.97955\n",
      "[3000]\ttraining's l1: 0.739263\tvalid_1's l1: 0.93657\n",
      "[4000]\ttraining's l1: 0.672195\tvalid_1's l1: 0.908254\n",
      "[5000]\ttraining's l1: 0.618816\tvalid_1's l1: 0.888415\n",
      "[6000]\ttraining's l1: 0.573834\tvalid_1's l1: 0.87348\n",
      "[7000]\ttraining's l1: 0.535051\tvalid_1's l1: 0.861849\n",
      "[8000]\ttraining's l1: 0.501033\tvalid_1's l1: 0.852749\n",
      "[9000]\ttraining's l1: 0.470553\tvalid_1's l1: 0.844673\n",
      "[10000]\ttraining's l1: 0.443218\tvalid_1's l1: 0.838098\n",
      "Did not meet early stopping. Best iteration is:\n",
      "[10000]\ttraining's l1: 0.443218\tvalid_1's l1: 0.838098\n",
      "CV mean score: 0.8365, std: 0.0013.\n",
      "CPU times: user 4d 6h 30min 50s, sys: 50min 13s, total: 4d 7h 21min 3s\n",
      "Wall time: 1h 41min 42s\n"
     ]
    }
   ],
   "source": [
    "%%time\n",
    "lgb_params = {'num_leaves': 128,\n",
    "          'min_child_samples': 79,\n",
    "          'objective': 'regression',\n",
    "          'max_depth': 9,\n",
    "          'learning_rate': 0.2,\n",
    "          \"boosting_type\": \"gbdt\",\n",
    "          \"subsample_freq\": 1,\n",
    "          \"subsample\": 0.9,\n",
    "          \"bagging_seed\": 11,\n",
    "          \"metric\": 'mae',\n",
    "          \"verbosity\": -1,\n",
    "          'reg_alpha': 0.1,\n",
    "          'reg_lambda': 0.3,\n",
    "          'colsample_bytree': 1.0\n",
    "         }\n",
    "\n",
    "n_fold = 3\n",
    "folds = KFold(n_splits=n_fold, shuffle=True, random_state=RANDOM_STATE)\n",
    "\n",
    "# Setup arrays for storing results\n",
    "prediction = np.zeros(len(X_test))\n",
    "scores = []\n",
    "feature_importance = pd.DataFrame()\n",
    "\n",
    "# Train the model\n",
    "for fold_n, (train_idx, valid_idx) in enumerate(folds.split(X)):\n",
    "    X_train, X_valid = X.iloc[train_idx], X.iloc[valid_idx]\n",
    "    y_train, y_valid = y.iloc[train_idx], y.iloc[valid_idx]\n",
    "    model = lgb.LGBMRegressor(**lgb_params, n_estimators = N_ESTIMATORS, n_jobs = n_cpu)\n",
    "    model.fit(X_train, y_train,\n",
    "              eval_set=[(X_train, y_train), (X_valid, y_valid)],\n",
    "              eval_metric='mae',\n",
    "              verbose=VERBOSE,\n",
    "              early_stopping_rounds=EARLY_STOPPING_ROUNDS)\n",
    "\n",
    "    y_pred_valid = model.predict(X_valid)\n",
    "    y_pred = model.predict(X_test, num_iteration=model.best_iteration_)\n",
    "\n",
    "    # feature importance\n",
    "    fold_importance = pd.DataFrame()\n",
    "    fold_importance[\"feature\"] = good_columns\n",
    "    fold_importance[\"importance\"] = model.feature_importances_\n",
    "    fold_importance[\"fold\"] = fold_n + 1\n",
    "    feature_importance = pd.concat([feature_importance, fold_importance], axis=0)\n",
    "\n",
    "    prediction /= folds.n_splits\n",
    "    scores.append(mean_absolute_error(y_valid, y_pred_valid))\n",
    "    print('CV mean score: {0:.4f}, std: {1:.4f}.'.format(np.mean(scores), np.std(scores)))\n",
    "    scores.append(mean_absolute_error(y_valid, y_pred_valid))\n",
    "    prediction += y_pred\n"
   ]
  },
  {
   "cell_type": "markdown",
   "metadata": {},
   "source": [
    "## Save Result"
   ]
  },
  {
   "cell_type": "code",
   "execution_count": 51,
   "metadata": {},
   "outputs": [
    {
     "name": "stdout",
     "output_type": "stream",
     "text": [
      "save pash: ./output/nb14_submission_lgb_0.8367698907126849.csv\n"
     ]
    }
   ],
   "source": [
    "path_submittion = './output/' + 'nb14_submission_lgb_{}.csv'.format(np.mean(scores))\n",
    "print(f'save pash: {path_submittion}')"
   ]
  },
  {
   "cell_type": "code",
   "execution_count": 52,
   "metadata": {},
   "outputs": [],
   "source": [
    "submittion = pd.read_csv('./input/champs-scalar-coupling/sample_submission.csv')\n",
    "submittion['scalar_coupling_constant'] = prediction\n",
    "submittion.to_csv(path_submittion, index=False)"
   ]
  },
  {
   "cell_type": "code",
   "execution_count": 53,
   "metadata": {},
   "outputs": [],
   "source": [
    "X.iloc[0:1000, :].to_csv('./dataframe/nb14_X_sample.csv', index=None)"
   ]
  },
  {
   "cell_type": "markdown",
   "metadata": {},
   "source": [
    "## Feature importance"
   ]
  },
  {
   "cell_type": "code",
   "execution_count": 54,
   "metadata": {},
   "outputs": [
    {
     "data": {
      "image/png": "[encoded data removed]",
      "text/plain": [
       "<Figure size 1080x1440 with 1 Axes>"
      ]
     },
     "metadata": {
      "needs_background": "light"
     },
     "output_type": "display_data"
    }
   ],
   "source": [
    "feature_importance[\"importance\"] /= folds.n_splits\n",
    "cols = feature_importance[[\"feature\", \"importance\"]].groupby(\"feature\").mean().sort_values(\n",
    "    by=\"importance\", ascending=False)[:50].index\n",
    "\n",
    "best_features = feature_importance.loc[feature_importance.feature.isin(cols)]\n",
    "\n",
    "plt.figure(figsize=(15, 20));\n",
    "ax = sns.barplot(x=\"importance\",\n",
    "            y=\"feature\",\n",
    "            hue='fold',\n",
    "            data=best_features.sort_values(by=\"importance\", ascending=False));\n",
    "plt.title('LGB Features (avg over folds)');"
   ]
  },
  {
   "cell_type": "code",
   "execution_count": 60,
   "metadata": {},
   "outputs": [
    {
     "data": {
      "text/plain": [
       "array(['molecule_atom_index_0_dist_min', 'molecule_atom_index_0_dist_max',\n",
       "       'molecule_atom_index_1_dist_min',\n",
       "       'molecule_atom_index_0_dist_mean',\n",
       "       'molecule_atom_index_0_dist_std', 'dist',\n",
       "       'molecule_atom_index_1_dist_std', 'molecule_atom_index_1_dist_max',\n",
       "       'molecule_atom_index_1_dist_mean',\n",
       "       'molecule_atom_index_0_dist_max_diff',\n",
       "       'molecule_atom_index_0_dist_max_div',\n",
       "       'molecule_atom_index_0_dist_std_diff',\n",
       "       'molecule_atom_index_0_dist_std_div', 'atom_0_couples_count',\n",
       "       'molecule_atom_index_0_dist_min_div',\n",
       "       'molecule_atom_index_1_dist_std_diff',\n",
       "       'molecule_atom_index_0_dist_mean_div', 'atom_1_couples_count',\n",
       "       'molecule_atom_index_0_dist_mean_diff', 'molecule_couples'],\n",
       "      dtype=object)"
      ]
     },
     "execution_count": 60,
     "metadata": {},
     "output_type": "execute_result"
    }
   ],
   "source": [
    "# top 20 features\n",
    "featers_fold1 = best_features[best_features['fold']==1]\n",
    "featers_fold1['feature'][:20].values"
   ]
  },
  {
   "cell_type": "code",
   "execution_count": 62,
   "metadata": {},
   "outputs": [
    {
     "data": {
      "text/plain": [
       "array(['molecule_atom_index_0_dist_min', 'molecule_atom_index_0_dist_max',\n",
       "       'molecule_atom_index_1_dist_min',\n",
       "       'molecule_atom_index_0_dist_mean',\n",
       "       'molecule_atom_index_0_dist_std', 'dist',\n",
       "       'molecule_atom_index_1_dist_std', 'molecule_atom_index_1_dist_max',\n",
       "       'molecule_atom_index_1_dist_mean',\n",
       "       'molecule_atom_index_0_dist_max_diff',\n",
       "       'molecule_atom_index_0_dist_max_div',\n",
       "       'molecule_atom_index_0_dist_std_diff',\n",
       "       'molecule_atom_index_0_dist_std_div', 'atom_0_couples_count',\n",
       "       'molecule_atom_index_0_dist_min_div',\n",
       "       'molecule_atom_index_1_dist_std_diff',\n",
       "       'molecule_atom_index_0_dist_mean_div', 'atom_1_couples_count',\n",
       "       'molecule_atom_index_0_dist_mean_diff', 'molecule_couples',\n",
       "       'atom_index_1', 'molecule_dist_mean',\n",
       "       'molecule_atom_index_1_dist_max_diff',\n",
       "       'molecule_atom_index_0_y_1_std',\n",
       "       'molecule_atom_index_1_dist_mean_diff',\n",
       "       'molecule_atom_index_1_dist_std_div',\n",
       "       'molecule_atom_index_1_dist_mean_div',\n",
       "       'molecule_atom_index_1_dist_min_diff',\n",
       "       'molecule_atom_index_1_dist_min_div',\n",
       "       'molecule_atom_index_1_dist_max_div'], dtype=object)"
      ]
     },
     "execution_count": 62,
     "metadata": {},
     "output_type": "execute_result"
    }
   ],
   "source": [
    "# top 30 features\n",
    "featers_fold1 = best_features[best_features['fold']==1]\n",
    "featers_fold1['feature'][:30].values"
   ]
  },
  {
   "cell_type": "code",
   "execution_count": null,
   "metadata": {},
   "outputs": [],
   "source": []
  },
  {
   "cell_type": "code",
   "execution_count": null,
   "metadata": {},
   "outputs": [],
   "source": []
  },
  {
   "cell_type": "code",
   "execution_count": null,
   "metadata": {},
   "outputs": [],
   "source": []
  }
 ],
 "metadata": {
  "kernelspec": {
   "display_name": "Python 3",
   "language": "python",
   "name": "python3"
  },
  "language_info": {
   "codemirror_mode": {
    "name": "ipython",
    "version": 3
   },
   "file_extension": ".py",
   "mimetype": "text/x-python",
   "name": "python",
   "nbconvert_exporter": "python",
   "pygments_lexer": "ipython3",
   "version": "3.6.8"
  },
  "toc-autonumbering": true
 },
 "nbformat": 4,
 "nbformat_minor": 2
}
