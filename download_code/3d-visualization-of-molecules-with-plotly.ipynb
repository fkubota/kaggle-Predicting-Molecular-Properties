{
 "cells": [
  {
   "cell_type": "markdown",
   "metadata": {},
   "source": [
    "# 3D Visualization of Molecules with Plotly"
   ]
  },
  {
   "cell_type": "raw",
   "metadata": {},
   "source": [
    "!pip3 install sympy --user"
   ]
  },
  {
   "cell_type": "code",
   "execution_count": 5,
   "metadata": {
    "_cell_guid": "79c7e3d0-c299-4dcb-8224-4455121ee9b0",
    "_kg_hide-input": true,
    "_kg_hide-output": false,
    "_uuid": "d629ff2d2480ee46fbb7e2d37f6b5fab8052498a"
   },
   "outputs": [
    {
     "data": {
      "text/html": [
       "        <script type=\"text/javascript\">\n",
       "        window.PlotlyConfig = {MathJaxConfig: 'local'};\n",
       "        if (window.MathJax) {MathJax.Hub.Config({SVG: {font: \"STIX-Web\"}});}\n",
       "        if (typeof require !== 'undefined') {\n",
       "        require.undef(\"plotly\");\n",
       "        requirejs.config({\n",
       "            paths: {\n",
       "                'plotly': ['https://cdn.plot.ly/plotly-latest.min']\n",
       "            }\n",
       "        });\n",
       "        require(['plotly'], function(Plotly) {\n",
       "            window._Plotly = Plotly;\n",
       "        });\n",
       "        }\n",
       "        </script>\n",
       "        "
      ]
     },
     "metadata": {},
     "output_type": "display_data"
    }
   ],
   "source": [
    "import numpy as np\n",
    "import pandas as pd\n",
    "\n",
    "import plotly.graph_objs as go\n",
    "from plotly.offline import init_notebook_mode, iplot\n",
    "from sympy.geometry import Point3D\n",
    "\n",
    "structures = pd.read_csv('../input/champs-scalar-coupling/structures.csv')\n",
    "\n",
    "# initiate the plotly notebook mode\n",
    "init_notebook_mode(connected=True)\n",
    "\n",
    "\n",
    "def plot_molecule(molecule_name, structures_df):\n",
    "    \"\"\"Creates a 3D plot of the molecule\"\"\"\n",
    "    \n",
    "    atomic_radii = dict(C=0.77, F=0.71, H=0.38, N=0.75, O=0.73)  \n",
    "    cpk_colors = dict(C='black', F='green', H='white', N='blue', O='red')\n",
    "\n",
    "    molecule = structures_df[structures_df.molecule_name == molecule_name]\n",
    "    coordinates = molecule[['x', 'y', 'z']].values\n",
    "    x_coordinates = coordinates[:, 0]\n",
    "    y_coordinates = coordinates[:, 1]\n",
    "    z_coordinates = coordinates[:, 2]\n",
    "    elements = molecule.atom.tolist()\n",
    "    radii = [atomic_radii[element] for element in elements]\n",
    "    \n",
    "    def get_bonds():\n",
    "        \"\"\"Generates a set of bonds from atomic cartesian coordinates\"\"\"\n",
    "        ids = np.arange(coordinates.shape[0])\n",
    "        bonds = dict()\n",
    "        coordinates_compare, radii_compare, ids_compare = coordinates, radii, ids\n",
    "        \n",
    "        for _ in range(len(ids)):\n",
    "            coordinates_compare = np.roll(coordinates_compare, -1, axis=0)\n",
    "            radii_compare = np.roll(radii_compare, -1, axis=0)\n",
    "            ids_compare = np.roll(ids_compare, -1, axis=0)\n",
    "            distances = np.linalg.norm(coordinates - coordinates_compare, axis=1)\n",
    "            bond_distances = (radii + radii_compare) * 1.3\n",
    "            mask = np.logical_and(distances > 0.1, distances <  bond_distances)\n",
    "            distances = distances.round(2)\n",
    "            new_bonds = {frozenset([i, j]): dist for i, j, dist in zip(ids[mask], ids_compare[mask], distances[mask])}\n",
    "            bonds.update(new_bonds)\n",
    "        return bonds            \n",
    "            \n",
    "    def atom_trace():\n",
    "        \"\"\"Creates an atom trace for the plot\"\"\"\n",
    "        colors = [cpk_colors[element] for element in elements]\n",
    "        markers = dict(color=colors, line=dict(color='lightgray', width=2), size=7, symbol='circle', opacity=0.8)\n",
    "        trace = go.Scatter3d(x=x_coordinates, y=y_coordinates, z=z_coordinates, mode='markers', marker=markers,\n",
    "                             text=elements, name='')\n",
    "        return trace\n",
    "\n",
    "    def bond_trace():\n",
    "        \"\"\"\"Creates a bond trace for the plot\"\"\"\n",
    "        trace = go.Scatter3d(x=[], y=[], z=[], hoverinfo='none', mode='lines',\n",
    "                             marker=dict(color='grey', size=7, opacity=1))\n",
    "        for i, j in bonds.keys():\n",
    "            trace['x'] += (x_coordinates[i], x_coordinates[j], None)\n",
    "            trace['y'] += (y_coordinates[i], y_coordinates[j], None)\n",
    "            trace['z'] += (z_coordinates[i], z_coordinates[j], None)\n",
    "        return trace\n",
    "    \n",
    "    bonds = get_bonds()\n",
    "    \n",
    "    zipped = zip(range(len(elements)), x_coordinates, y_coordinates, z_coordinates)\n",
    "    annotations_id = [dict(text=num, x=x, y=y, z=z, showarrow=False, yshift=15)\n",
    "                   for num, x, y, z in zipped]\n",
    "    \n",
    "    annotations_length = []\n",
    "    for (i, j), dist in bonds.items():\n",
    "        p_i, p_j = Point3D(coordinates[i]), Point3D(coordinates[j])\n",
    "        p = p_i.midpoint(p_j)\n",
    "        annotation = dict(text=dist, x=float(p.x), y=float(p.y), z=float(p.z), showarrow=False, yshift=15)\n",
    "        annotations_length.append(annotation)   \n",
    "    \n",
    "    updatemenus = list([\n",
    "        dict(buttons=list([\n",
    "                 dict(label = 'Atom indices',\n",
    "                      method = 'relayout',\n",
    "                      args = [{'scene.annotations': annotations_id}]),\n",
    "                 dict(label = 'Bond lengths',\n",
    "                      method = 'relayout',\n",
    "                      args = [{'scene.annotations': annotations_length}]),\n",
    "                 dict(label = 'Atom indices & Bond lengths',\n",
    "                      method = 'relayout',\n",
    "                      args = [{'scene.annotations': annotations_id + annotations_length}]),\n",
    "                 dict(label = 'Hide all',\n",
    "                      method = 'relayout',\n",
    "                      args = [{'scene.annotations': []}])\n",
    "                 ]),\n",
    "                 direction='down',\n",
    "                 xanchor = 'left',\n",
    "                 yanchor = 'top'\n",
    "            ),        \n",
    "    ])\n",
    "    \n",
    "    data = [atom_trace(), bond_trace()]\n",
    "    axis_params = dict(showgrid=False, showticklabels=False, zeroline=False, titlefont=dict(color='white'))\n",
    "    layout = dict(scene=dict(xaxis=axis_params, yaxis=axis_params, zaxis=axis_params, annotations=annotations_id), \n",
    "                  margin=dict(r=0, l=0, b=0, t=0), showlegend=False, updatemenus=updatemenus)\n",
    "\n",
    "    fig = go.Figure(data=data, layout=layout)\n",
    "    iplot(fig)"
   ]
  },
  {
   "cell_type": "code",
   "execution_count": 6,
   "metadata": {},
   "outputs": [
    {
     "data": {
      "application/vnd.plotly.v1+json": {
       "config": {
        "linkText": "Export to plot.ly",
        "plotlyServerURL": "https://plot.ly",
        "showLink": false
       },
       "data": [
        {
         "marker": {
          "color": [
           "black",
           "blue",
           "black",
           "black",
           "black",
           "red",
           "black",
           "black",
           "black",
           "white",
           "white",
           "white",
           "white",
           "white",
           "white",
           "white"
          ],
          "line": {
           "color": "lightgray",
           "width": 2
          },
          "opacity": 0.8,
          "size": 7,
          "symbol": "circle"
         },
         "mode": "markers",
         "name": "",
         "text": [
          "C",
          "N",
          "C",
          "C",
          "C",
          "O",
          "C",
          "C",
          "C",
          "H",
          "H",
          "H",
          "H",
          "H",
          "H",
          "H"
         ],
         "type": "scatter3d",
         "uid": "5ca487fb-684c-472c-b428-dd953d7182a9",
         "x": [
          -1.4098766040000001,
          -1.5645935690000001,
          -0.8328987002,
          0.2710295071,
          1.528453597,
          1.250212807,
          -0.0573999238,
          -0.0959285633,
          0.8166944813,
          -2.090436078,
          -1.44004201,
          -1.454004495,
          0.2777789004,
          2.5158540609999998,
          0.0136988019,
          1.260745327
         ],
         "y": [
          1.337337361,
          0.09912485060000001,
          -0.7075502498999999,
          -1.618613843,
          -0.7551229418000001,
          0.4586399968,
          0.6112101834,
          0.3804239493,
          -0.8130667666,
          1.327066088,
          2.287217978,
          -0.9673087774,
          -2.697872397,
          -1.151783773,
          1.19943057,
          -1.246753647
         ],
         "z": [
          0.4099526107,
          -0.5169414085,
          0.6042954267,
          0.1448045117,
          0.3395081289,
          1.0471189509999999,
          0.5411015062,
          -0.9720975179000001,
          -1.022359648,
          1.2636607579999999,
          -0.1275429128,
          1.459246448,
          0.19576999949999999,
          0.5273692559000001,
          -1.680192303,
          -1.906767156
         ]
        },
        {
         "hoverinfo": "none",
         "marker": {
          "color": "grey",
          "opacity": 1,
          "size": 7
         },
         "mode": "lines",
         "type": "scatter3d",
         "uid": "5da16780-15ad-47ec-acb3-d95f7d5c169c",
         "x": [
          -1.4098766040000001,
          -1.5645935690000001,
          null,
          -1.5645935690000001,
          -0.8328987002,
          null,
          -0.8328987002,
          0.2710295071,
          null,
          0.2710295071,
          1.528453597,
          null,
          1.528453597,
          1.250212807,
          null,
          1.250212807,
          -0.0573999238,
          null,
          -0.0573999238,
          -0.0959285633,
          null,
          0.8166944813,
          -0.0959285633,
          null,
          -0.8328987002,
          -0.0573999238,
          null,
          0.8166944813,
          1.528453597,
          null,
          -1.5645935690000001,
          -0.0573999238,
          null,
          0.8166944813,
          0.2710295071,
          null,
          -1.4098766040000001,
          -0.0573999238,
          null,
          -1.5645935690000001,
          -0.0959285633,
          null,
          -1.4098766040000001,
          -1.44004201,
          null,
          0.0136988019,
          -0.0959285633,
          null,
          0.8166944813,
          1.260745327,
          null,
          -1.4098766040000001,
          -2.090436078,
          null,
          -0.8328987002,
          -1.454004495,
          null,
          0.2710295071,
          0.2777789004,
          null,
          1.528453597,
          2.5158540609999998,
          null
         ],
         "y": [
          1.337337361,
          0.09912485060000001,
          null,
          0.09912485060000001,
          -0.7075502498999999,
          null,
          -0.7075502498999999,
          -1.618613843,
          null,
          -1.618613843,
          -0.7551229418000001,
          null,
          -0.7551229418000001,
          0.4586399968,
          null,
          0.4586399968,
          0.6112101834,
          null,
          0.6112101834,
          0.3804239493,
          null,
          -0.8130667666,
          0.3804239493,
          null,
          -0.7075502498999999,
          0.6112101834,
          null,
          -0.8130667666,
          -0.7551229418000001,
          null,
          0.09912485060000001,
          0.6112101834,
          null,
          -0.8130667666,
          -1.618613843,
          null,
          1.337337361,
          0.6112101834,
          null,
          0.09912485060000001,
          0.3804239493,
          null,
          1.337337361,
          2.287217978,
          null,
          1.19943057,
          0.3804239493,
          null,
          -0.8130667666,
          -1.246753647,
          null,
          1.337337361,
          1.327066088,
          null,
          -0.7075502498999999,
          -0.9673087774,
          null,
          -1.618613843,
          -2.697872397,
          null,
          -0.7551229418000001,
          -1.151783773,
          null
         ],
         "z": [
          0.4099526107,
          -0.5169414085,
          null,
          -0.5169414085,
          0.6042954267,
          null,
          0.6042954267,
          0.1448045117,
          null,
          0.1448045117,
          0.3395081289,
          null,
          0.3395081289,
          1.0471189509999999,
          null,
          1.0471189509999999,
          0.5411015062,
          null,
          0.5411015062,
          -0.9720975179000001,
          null,
          -1.022359648,
          -0.9720975179000001,
          null,
          0.6042954267,
          0.5411015062,
          null,
          -1.022359648,
          0.3395081289,
          null,
          -0.5169414085,
          0.5411015062,
          null,
          -1.022359648,
          0.1448045117,
          null,
          0.4099526107,
          0.5411015062,
          null,
          -0.5169414085,
          -0.9720975179000001,
          null,
          0.4099526107,
          -0.1275429128,
          null,
          -1.680192303,
          -0.9720975179000001,
          null,
          -1.022359648,
          -1.906767156,
          null,
          0.4099526107,
          1.2636607579999999,
          null,
          0.6042954267,
          1.459246448,
          null,
          0.1448045117,
          0.19576999949999999,
          null,
          0.3395081289,
          0.5273692559000001,
          null
         ]
        }
       ],
       "layout": {
        "autosize": true,
        "margin": {
         "b": 0,
         "l": 0,
         "r": 0,
         "t": 0
        },
        "scene": {
         "annotations": [
          {
           "showarrow": false,
           "text": "0",
           "x": -1.4098766040000001,
           "y": 1.337337361,
           "yshift": 15,
           "z": 0.4099526107
          },
          {
           "showarrow": false,
           "text": "1",
           "x": -1.5645935690000001,
           "y": 0.09912485060000001,
           "yshift": 15,
           "z": -0.5169414085
          },
          {
           "showarrow": false,
           "text": "2",
           "x": -0.8328987002,
           "y": -0.7075502498999999,
           "yshift": 15,
           "z": 0.6042954267
          },
          {
           "showarrow": false,
           "text": "3",
           "x": 0.2710295071,
           "y": -1.618613843,
           "yshift": 15,
           "z": 0.1448045117
          },
          {
           "showarrow": false,
           "text": "4",
           "x": 1.528453597,
           "y": -0.7551229418000001,
           "yshift": 15,
           "z": 0.3395081289
          },
          {
           "showarrow": false,
           "text": "5",
           "x": 1.250212807,
           "y": 0.4586399968,
           "yshift": 15,
           "z": 1.0471189509999999
          },
          {
           "showarrow": false,
           "text": "6",
           "x": -0.0573999238,
           "y": 0.6112101834,
           "yshift": 15,
           "z": 0.5411015062
          },
          {
           "showarrow": false,
           "text": "7",
           "x": -0.0959285633,
           "y": 0.3804239493,
           "yshift": 15,
           "z": -0.9720975179000001
          },
          {
           "showarrow": false,
           "text": "8",
           "x": 0.8166944813,
           "y": -0.8130667666,
           "yshift": 15,
           "z": -1.022359648
          },
          {
           "showarrow": false,
           "text": "9",
           "x": -2.090436078,
           "y": 1.327066088,
           "yshift": 15,
           "z": 1.2636607579999999
          },
          {
           "showarrow": false,
           "text": "10",
           "x": -1.44004201,
           "y": 2.287217978,
           "yshift": 15,
           "z": -0.1275429128
          },
          {
           "showarrow": false,
           "text": "11",
           "x": -1.454004495,
           "y": -0.9673087774,
           "yshift": 15,
           "z": 1.459246448
          },
          {
           "showarrow": false,
           "text": "12",
           "x": 0.2777789004,
           "y": -2.697872397,
           "yshift": 15,
           "z": 0.19576999949999999
          },
          {
           "showarrow": false,
           "text": "13",
           "x": 2.5158540609999998,
           "y": -1.151783773,
           "yshift": 15,
           "z": 0.5273692559000001
          },
          {
           "showarrow": false,
           "text": "14",
           "x": 0.0136988019,
           "y": 1.19943057,
           "yshift": 15,
           "z": -1.680192303
          },
          {
           "showarrow": false,
           "text": "15",
           "x": 1.260745327,
           "y": -1.246753647,
           "yshift": 15,
           "z": -1.906767156
          }
         ],
         "aspectmode": "auto",
         "aspectratio": {
          "x": 1,
          "y": 1,
          "z": 1
         },
         "xaxis": {
          "showgrid": false,
          "showticklabels": false,
          "title": {
           "font": {
            "color": "white"
           }
          },
          "type": "linear",
          "zeroline": false
         },
         "yaxis": {
          "showgrid": false,
          "showticklabels": false,
          "title": {
           "font": {
            "color": "white"
           }
          },
          "type": "linear",
          "zeroline": false
         },
         "zaxis": {
          "showgrid": false,
          "showticklabels": false,
          "title": {
           "font": {
            "color": "white"
           }
          },
          "type": "linear",
          "zeroline": false
         }
        },
        "showlegend": false,
        "updatemenus": [
         {
          "buttons": [
           {
            "args": [
             {
              "scene.annotations": [
               {
                "showarrow": false,
                "text": 0,
                "x": -1.4098766040000001,
                "y": 1.337337361,
                "yshift": 15,
                "z": 0.4099526107
               },
               {
                "showarrow": false,
                "text": 1,
                "x": -1.5645935690000001,
                "y": 0.09912485060000001,
                "yshift": 15,
                "z": -0.5169414085
               },
               {
                "showarrow": false,
                "text": 2,
                "x": -0.8328987002,
                "y": -0.7075502498999999,
                "yshift": 15,
                "z": 0.6042954267
               },
               {
                "showarrow": false,
                "text": 3,
                "x": 0.2710295071,
                "y": -1.618613843,
                "yshift": 15,
                "z": 0.1448045117
               },
               {
                "showarrow": false,
                "text": 4,
                "x": 1.528453597,
                "y": -0.7551229418000001,
                "yshift": 15,
                "z": 0.3395081289
               },
               {
                "showarrow": false,
                "text": 5,
                "x": 1.250212807,
                "y": 0.4586399968,
                "yshift": 15,
                "z": 1.0471189509999999
               },
               {
                "showarrow": false,
                "text": 6,
                "x": -0.0573999238,
                "y": 0.6112101834,
                "yshift": 15,
                "z": 0.5411015062
               },
               {
                "showarrow": false,
                "text": 7,
                "x": -0.0959285633,
                "y": 0.3804239493,
                "yshift": 15,
                "z": -0.9720975179000001
               },
               {
                "showarrow": false,
                "text": 8,
                "x": 0.8166944813,
                "y": -0.8130667666,
                "yshift": 15,
                "z": -1.022359648
               },
               {
                "showarrow": false,
                "text": 9,
                "x": -2.090436078,
                "y": 1.327066088,
                "yshift": 15,
                "z": 1.2636607579999999
               },
               {
                "showarrow": false,
                "text": 10,
                "x": -1.44004201,
                "y": 2.287217978,
                "yshift": 15,
                "z": -0.1275429128
               },
               {
                "showarrow": false,
                "text": 11,
                "x": -1.454004495,
                "y": -0.9673087774,
                "yshift": 15,
                "z": 1.459246448
               },
               {
                "showarrow": false,
                "text": 12,
                "x": 0.2777789004,
                "y": -2.697872397,
                "yshift": 15,
                "z": 0.19576999949999999
               },
               {
                "showarrow": false,
                "text": 13,
                "x": 2.5158540609999998,
                "y": -1.151783773,
                "yshift": 15,
                "z": 0.5273692559000001
               },
               {
                "showarrow": false,
                "text": 14,
                "x": 0.0136988019,
                "y": 1.19943057,
                "yshift": 15,
                "z": -1.680192303
               },
               {
                "showarrow": false,
                "text": 15,
                "x": 1.260745327,
                "y": -1.246753647,
                "yshift": 15,
                "z": -1.906767156
               }
              ]
             }
            ],
            "label": "Atom indices",
            "method": "relayout"
           },
           {
            "args": [
             {
              "scene.annotations": [
               {
                "showarrow": false,
                "text": 1.55,
                "x": -1.4872350865,
                "y": 0.7182311058,
                "yshift": 15,
                "z": -0.0534943989
               },
               {
                "showarrow": false,
                "text": 1.56,
                "x": -1.1987461346,
                "y": -0.30421269965,
                "yshift": 15,
                "z": 0.0436770091
               },
               {
                "showarrow": false,
                "text": 1.5,
                "x": -0.28093459655,
                "y": -1.16308204645,
                "yshift": 15,
                "z": 0.3745499692
               },
               {
                "showarrow": false,
                "text": 1.54,
                "x": 0.89974155205,
                "y": -1.1868683924,
                "yshift": 15,
                "z": 0.2421563203
               },
               {
                "showarrow": false,
                "text": 1.43,
                "x": 1.389333202,
                "y": -0.1482414725,
                "yshift": 15,
                "z": 0.69331353995
               },
               {
                "showarrow": false,
                "text": 1.41,
                "x": 0.5964064416,
                "y": 0.5349250901,
                "yshift": 15,
                "z": 0.7941102286
               },
               {
                "showarrow": false,
                "text": 1.53,
                "x": -0.07666424355,
                "y": 0.49581706635,
                "yshift": 15,
                "z": -0.21549800585
               },
               {
                "showarrow": false,
                "text": 1.5,
                "x": 0.360382959,
                "y": -0.21632140865,
                "yshift": 15,
                "z": -0.99722858295
               },
               {
                "showarrow": false,
                "text": 1.53,
                "x": -0.445149312,
                "y": -0.04817003325,
                "yshift": 15,
                "z": 0.57269846645
               },
               {
                "showarrow": false,
                "text": 1.54,
                "x": 1.17257403915,
                "y": -0.7840948542,
                "yshift": 15,
                "z": -0.34142575955
               },
               {
                "showarrow": false,
                "text": 1.91,
                "x": -0.8109967464,
                "y": 0.355167517,
                "yshift": 15,
                "z": 0.01208004885
               },
               {
                "showarrow": false,
                "text": 1.52,
                "x": 0.5438619942,
                "y": -1.2158403048,
                "yshift": 15,
                "z": -0.43877756815
               },
               {
                "showarrow": false,
                "text": 1.54,
                "x": -0.7336382639,
                "y": 0.9742737722,
                "yshift": 15,
                "z": 0.47552705845
               },
               {
                "showarrow": false,
                "text": 1.56,
                "x": -0.83026106615,
                "y": 0.23977439995,
                "yshift": 15,
                "z": -0.7445194632
               },
               {
                "showarrow": false,
                "text": 1.09,
                "x": -1.424959307,
                "y": 1.8122776695,
                "yshift": 15,
                "z": 0.14120484895
               },
               {
                "showarrow": false,
                "text": 1.09,
                "x": -0.0411148807,
                "y": 0.78992725965,
                "yshift": 15,
                "z": -1.32614491045
               },
               {
                "showarrow": false,
                "text": 1.08,
                "x": 1.03871990415,
                "y": -1.0299102068,
                "yshift": 15,
                "z": -1.464563402
               },
               {
                "showarrow": false,
                "text": 1.09,
                "x": -1.750156341,
                "y": 1.3322017245,
                "yshift": 15,
                "z": 0.83680668435
               },
               {
                "showarrow": false,
                "text": 1.09,
                "x": -1.1434515976,
                "y": -0.83742951365,
                "yshift": 15,
                "z": 1.03177093735
               },
               {
                "showarrow": false,
                "text": 1.08,
                "x": 0.27440420375,
                "y": -2.15824312,
                "yshift": 15,
                "z": 0.1702872556
               },
               {
                "showarrow": false,
                "text": 1.08,
                "x": 2.022153829,
                "y": -0.9534533574,
                "yshift": 15,
                "z": 0.4334386924
               }
              ]
             }
            ],
            "label": "Bond lengths",
            "method": "relayout"
           },
           {
            "args": [
             {
              "scene.annotations": [
               {
                "showarrow": false,
                "text": 0,
                "x": -1.4098766040000001,
                "y": 1.337337361,
                "yshift": 15,
                "z": 0.4099526107
               },
               {
                "showarrow": false,
                "text": 1,
                "x": -1.5645935690000001,
                "y": 0.09912485060000001,
                "yshift": 15,
                "z": -0.5169414085
               },
               {
                "showarrow": false,
                "text": 2,
                "x": -0.8328987002,
                "y": -0.7075502498999999,
                "yshift": 15,
                "z": 0.6042954267
               },
               {
                "showarrow": false,
                "text": 3,
                "x": 0.2710295071,
                "y": -1.618613843,
                "yshift": 15,
                "z": 0.1448045117
               },
               {
                "showarrow": false,
                "text": 4,
                "x": 1.528453597,
                "y": -0.7551229418000001,
                "yshift": 15,
                "z": 0.3395081289
               },
               {
                "showarrow": false,
                "text": 5,
                "x": 1.250212807,
                "y": 0.4586399968,
                "yshift": 15,
                "z": 1.0471189509999999
               },
               {
                "showarrow": false,
                "text": 6,
                "x": -0.0573999238,
                "y": 0.6112101834,
                "yshift": 15,
                "z": 0.5411015062
               },
               {
                "showarrow": false,
                "text": 7,
                "x": -0.0959285633,
                "y": 0.3804239493,
                "yshift": 15,
                "z": -0.9720975179000001
               },
               {
                "showarrow": false,
                "text": 8,
                "x": 0.8166944813,
                "y": -0.8130667666,
                "yshift": 15,
                "z": -1.022359648
               },
               {
                "showarrow": false,
                "text": 9,
                "x": -2.090436078,
                "y": 1.327066088,
                "yshift": 15,
                "z": 1.2636607579999999
               },
               {
                "showarrow": false,
                "text": 10,
                "x": -1.44004201,
                "y": 2.287217978,
                "yshift": 15,
                "z": -0.1275429128
               },
               {
                "showarrow": false,
                "text": 11,
                "x": -1.454004495,
                "y": -0.9673087774,
                "yshift": 15,
                "z": 1.459246448
               },
               {
                "showarrow": false,
                "text": 12,
                "x": 0.2777789004,
                "y": -2.697872397,
                "yshift": 15,
                "z": 0.19576999949999999
               },
               {
                "showarrow": false,
                "text": 13,
                "x": 2.5158540609999998,
                "y": -1.151783773,
                "yshift": 15,
                "z": 0.5273692559000001
               },
               {
                "showarrow": false,
                "text": 14,
                "x": 0.0136988019,
                "y": 1.19943057,
                "yshift": 15,
                "z": -1.680192303
               },
               {
                "showarrow": false,
                "text": 15,
                "x": 1.260745327,
                "y": -1.246753647,
                "yshift": 15,
                "z": -1.906767156
               },
               {
                "showarrow": false,
                "text": 1.55,
                "x": -1.4872350865,
                "y": 0.7182311058,
                "yshift": 15,
                "z": -0.0534943989
               },
               {
                "showarrow": false,
                "text": 1.56,
                "x": -1.1987461346,
                "y": -0.30421269965,
                "yshift": 15,
                "z": 0.0436770091
               },
               {
                "showarrow": false,
                "text": 1.5,
                "x": -0.28093459655,
                "y": -1.16308204645,
                "yshift": 15,
                "z": 0.3745499692
               },
               {
                "showarrow": false,
                "text": 1.54,
                "x": 0.89974155205,
                "y": -1.1868683924,
                "yshift": 15,
                "z": 0.2421563203
               },
               {
                "showarrow": false,
                "text": 1.43,
                "x": 1.389333202,
                "y": -0.1482414725,
                "yshift": 15,
                "z": 0.69331353995
               },
               {
                "showarrow": false,
                "text": 1.41,
                "x": 0.5964064416,
                "y": 0.5349250901,
                "yshift": 15,
                "z": 0.7941102286
               },
               {
                "showarrow": false,
                "text": 1.53,
                "x": -0.07666424355,
                "y": 0.49581706635,
                "yshift": 15,
                "z": -0.21549800585
               },
               {
                "showarrow": false,
                "text": 1.5,
                "x": 0.360382959,
                "y": -0.21632140865,
                "yshift": 15,
                "z": -0.99722858295
               },
               {
                "showarrow": false,
                "text": 1.53,
                "x": -0.445149312,
                "y": -0.04817003325,
                "yshift": 15,
                "z": 0.57269846645
               },
               {
                "showarrow": false,
                "text": 1.54,
                "x": 1.17257403915,
                "y": -0.7840948542,
                "yshift": 15,
                "z": -0.34142575955
               },
               {
                "showarrow": false,
                "text": 1.91,
                "x": -0.8109967464,
                "y": 0.355167517,
                "yshift": 15,
                "z": 0.01208004885
               },
               {
                "showarrow": false,
                "text": 1.52,
                "x": 0.5438619942,
                "y": -1.2158403048,
                "yshift": 15,
                "z": -0.43877756815
               },
               {
                "showarrow": false,
                "text": 1.54,
                "x": -0.7336382639,
                "y": 0.9742737722,
                "yshift": 15,
                "z": 0.47552705845
               },
               {
                "showarrow": false,
                "text": 1.56,
                "x": -0.83026106615,
                "y": 0.23977439995,
                "yshift": 15,
                "z": -0.7445194632
               },
               {
                "showarrow": false,
                "text": 1.09,
                "x": -1.424959307,
                "y": 1.8122776695,
                "yshift": 15,
                "z": 0.14120484895
               },
               {
                "showarrow": false,
                "text": 1.09,
                "x": -0.0411148807,
                "y": 0.78992725965,
                "yshift": 15,
                "z": -1.32614491045
               },
               {
                "showarrow": false,
                "text": 1.08,
                "x": 1.03871990415,
                "y": -1.0299102068,
                "yshift": 15,
                "z": -1.464563402
               },
               {
                "showarrow": false,
                "text": 1.09,
                "x": -1.750156341,
                "y": 1.3322017245,
                "yshift": 15,
                "z": 0.83680668435
               },
               {
                "showarrow": false,
                "text": 1.09,
                "x": -1.1434515976,
                "y": -0.83742951365,
                "yshift": 15,
                "z": 1.03177093735
               },
               {
                "showarrow": false,
                "text": 1.08,
                "x": 0.27440420375,
                "y": -2.15824312,
                "yshift": 15,
                "z": 0.1702872556
               },
               {
                "showarrow": false,
                "text": 1.08,
                "x": 2.022153829,
                "y": -0.9534533574,
                "yshift": 15,
                "z": 0.4334386924
               }
              ]
             }
            ],
            "label": "Atom indices & Bond lengths",
            "method": "relayout"
           },
           {
            "args": [
             {
              "scene.annotations": []
             }
            ],
            "label": "Hide all",
            "method": "relayout"
           }
          ],
          "direction": "down",
          "xanchor": "left",
          "yanchor": "top"
         }
        ]
       }
      },
      "text/html": [
       "<div>\n",
       "        \n",
       "        \n",
       "            <div id=\"5f170267-7921-44ac-9565-ea4a3f392ee6\" class=\"plotly-graph-div\" style=\"height:525px; width:100%;\"></div>\n",
       "            <script type=\"text/javascript\">\n",
       "                require([\"plotly\"], function(Plotly) {\n",
       "                    window.PLOTLYENV=window.PLOTLYENV || {};\n",
       "                    window.PLOTLYENV.BASE_URL='https://plot.ly';\n",
       "                    \n",
       "                if (document.getElementById(\"5f170267-7921-44ac-9565-ea4a3f392ee6\")) {\n",
       "                    Plotly.newPlot(\n",
       "                        '5f170267-7921-44ac-9565-ea4a3f392ee6',\n",
       "                        [{\"marker\": {\"color\": [\"black\", \"blue\", \"black\", \"black\", \"black\", \"red\", \"black\", \"black\", \"black\", \"white\", \"white\", \"white\", \"white\", \"white\", \"white\", \"white\"], \"line\": {\"color\": \"lightgray\", \"width\": 2}, \"opacity\": 0.8, \"size\": 7, \"symbol\": \"circle\"}, \"mode\": \"markers\", \"name\": \"\", \"text\": [\"C\", \"N\", \"C\", \"C\", \"C\", \"O\", \"C\", \"C\", \"C\", \"H\", \"H\", \"H\", \"H\", \"H\", \"H\", \"H\"], \"type\": \"scatter3d\", \"uid\": \"5ca487fb-684c-472c-b428-dd953d7182a9\", \"x\": [-1.4098766040000001, -1.5645935690000001, -0.8328987002, 0.2710295071, 1.528453597, 1.250212807, -0.0573999238, -0.0959285633, 0.8166944813, -2.090436078, -1.44004201, -1.454004495, 0.2777789004, 2.5158540609999998, 0.0136988019, 1.260745327], \"y\": [1.337337361, 0.09912485060000001, -0.7075502498999999, -1.618613843, -0.7551229418000001, 0.4586399968, 0.6112101834, 0.3804239493, -0.8130667666, 1.327066088, 2.287217978, -0.9673087774, -2.697872397, -1.151783773, 1.19943057, -1.246753647], \"z\": [0.4099526107, -0.5169414085, 0.6042954267, 0.1448045117, 0.3395081289, 1.0471189509999999, 0.5411015062, -0.9720975179000001, -1.022359648, 1.2636607579999999, -0.1275429128, 1.459246448, 0.19576999949999999, 0.5273692559000001, -1.680192303, -1.906767156]}, {\"hoverinfo\": \"none\", \"marker\": {\"color\": \"grey\", \"opacity\": 1, \"size\": 7}, \"mode\": \"lines\", \"type\": \"scatter3d\", \"uid\": \"5da16780-15ad-47ec-acb3-d95f7d5c169c\", \"x\": [-1.4098766040000001, -1.5645935690000001, null, -1.5645935690000001, -0.8328987002, null, -0.8328987002, 0.2710295071, null, 0.2710295071, 1.528453597, null, 1.528453597, 1.250212807, null, 1.250212807, -0.0573999238, null, -0.0573999238, -0.0959285633, null, 0.8166944813, -0.0959285633, null, -0.8328987002, -0.0573999238, null, 0.8166944813, 1.528453597, null, -1.5645935690000001, -0.0573999238, null, 0.8166944813, 0.2710295071, null, -1.4098766040000001, -0.0573999238, null, -1.5645935690000001, -0.0959285633, null, -1.4098766040000001, -1.44004201, null, 0.0136988019, -0.0959285633, null, 0.8166944813, 1.260745327, null, -1.4098766040000001, -2.090436078, null, -0.8328987002, -1.454004495, null, 0.2710295071, 0.2777789004, null, 1.528453597, 2.5158540609999998, null], \"y\": [1.337337361, 0.09912485060000001, null, 0.09912485060000001, -0.7075502498999999, null, -0.7075502498999999, -1.618613843, null, -1.618613843, -0.7551229418000001, null, -0.7551229418000001, 0.4586399968, null, 0.4586399968, 0.6112101834, null, 0.6112101834, 0.3804239493, null, -0.8130667666, 0.3804239493, null, -0.7075502498999999, 0.6112101834, null, -0.8130667666, -0.7551229418000001, null, 0.09912485060000001, 0.6112101834, null, -0.8130667666, -1.618613843, null, 1.337337361, 0.6112101834, null, 0.09912485060000001, 0.3804239493, null, 1.337337361, 2.287217978, null, 1.19943057, 0.3804239493, null, -0.8130667666, -1.246753647, null, 1.337337361, 1.327066088, null, -0.7075502498999999, -0.9673087774, null, -1.618613843, -2.697872397, null, -0.7551229418000001, -1.151783773, null], \"z\": [0.4099526107, -0.5169414085, null, -0.5169414085, 0.6042954267, null, 0.6042954267, 0.1448045117, null, 0.1448045117, 0.3395081289, null, 0.3395081289, 1.0471189509999999, null, 1.0471189509999999, 0.5411015062, null, 0.5411015062, -0.9720975179000001, null, -1.022359648, -0.9720975179000001, null, 0.6042954267, 0.5411015062, null, -1.022359648, 0.3395081289, null, -0.5169414085, 0.5411015062, null, -1.022359648, 0.1448045117, null, 0.4099526107, 0.5411015062, null, -0.5169414085, -0.9720975179000001, null, 0.4099526107, -0.1275429128, null, -1.680192303, -0.9720975179000001, null, -1.022359648, -1.906767156, null, 0.4099526107, 1.2636607579999999, null, 0.6042954267, 1.459246448, null, 0.1448045117, 0.19576999949999999, null, 0.3395081289, 0.5273692559000001, null]}],\n",
       "                        {\"margin\": {\"b\": 0, \"l\": 0, \"r\": 0, \"t\": 0}, \"scene\": {\"annotations\": [{\"showarrow\": false, \"text\": \"0\", \"x\": -1.4098766040000001, \"y\": 1.337337361, \"yshift\": 15, \"z\": 0.4099526107}, {\"showarrow\": false, \"text\": \"1\", \"x\": -1.5645935690000001, \"y\": 0.09912485060000001, \"yshift\": 15, \"z\": -0.5169414085}, {\"showarrow\": false, \"text\": \"2\", \"x\": -0.8328987002, \"y\": -0.7075502498999999, \"yshift\": 15, \"z\": 0.6042954267}, {\"showarrow\": false, \"text\": \"3\", \"x\": 0.2710295071, \"y\": -1.618613843, \"yshift\": 15, \"z\": 0.1448045117}, {\"showarrow\": false, \"text\": \"4\", \"x\": 1.528453597, \"y\": -0.7551229418000001, \"yshift\": 15, \"z\": 0.3395081289}, {\"showarrow\": false, \"text\": \"5\", \"x\": 1.250212807, \"y\": 0.4586399968, \"yshift\": 15, \"z\": 1.0471189509999999}, {\"showarrow\": false, \"text\": \"6\", \"x\": -0.0573999238, \"y\": 0.6112101834, \"yshift\": 15, \"z\": 0.5411015062}, {\"showarrow\": false, \"text\": \"7\", \"x\": -0.0959285633, \"y\": 0.3804239493, \"yshift\": 15, \"z\": -0.9720975179000001}, {\"showarrow\": false, \"text\": \"8\", \"x\": 0.8166944813, \"y\": -0.8130667666, \"yshift\": 15, \"z\": -1.022359648}, {\"showarrow\": false, \"text\": \"9\", \"x\": -2.090436078, \"y\": 1.327066088, \"yshift\": 15, \"z\": 1.2636607579999999}, {\"showarrow\": false, \"text\": \"10\", \"x\": -1.44004201, \"y\": 2.287217978, \"yshift\": 15, \"z\": -0.1275429128}, {\"showarrow\": false, \"text\": \"11\", \"x\": -1.454004495, \"y\": -0.9673087774, \"yshift\": 15, \"z\": 1.459246448}, {\"showarrow\": false, \"text\": \"12\", \"x\": 0.2777789004, \"y\": -2.697872397, \"yshift\": 15, \"z\": 0.19576999949999999}, {\"showarrow\": false, \"text\": \"13\", \"x\": 2.5158540609999998, \"y\": -1.151783773, \"yshift\": 15, \"z\": 0.5273692559000001}, {\"showarrow\": false, \"text\": \"14\", \"x\": 0.0136988019, \"y\": 1.19943057, \"yshift\": 15, \"z\": -1.680192303}, {\"showarrow\": false, \"text\": \"15\", \"x\": 1.260745327, \"y\": -1.246753647, \"yshift\": 15, \"z\": -1.906767156}], \"xaxis\": {\"showgrid\": false, \"showticklabels\": false, \"title\": {\"font\": {\"color\": \"white\"}}, \"zeroline\": false}, \"yaxis\": {\"showgrid\": false, \"showticklabels\": false, \"title\": {\"font\": {\"color\": \"white\"}}, \"zeroline\": false}, \"zaxis\": {\"showgrid\": false, \"showticklabels\": false, \"title\": {\"font\": {\"color\": \"white\"}}, \"zeroline\": false}}, \"showlegend\": false, \"updatemenus\": [{\"buttons\": [{\"args\": [{\"scene.annotations\": [{\"showarrow\": false, \"text\": 0, \"x\": -1.4098766040000001, \"y\": 1.337337361, \"yshift\": 15, \"z\": 0.4099526107}, {\"showarrow\": false, \"text\": 1, \"x\": -1.5645935690000001, \"y\": 0.09912485060000001, \"yshift\": 15, \"z\": -0.5169414085}, {\"showarrow\": false, \"text\": 2, \"x\": -0.8328987002, \"y\": -0.7075502498999999, \"yshift\": 15, \"z\": 0.6042954267}, {\"showarrow\": false, \"text\": 3, \"x\": 0.2710295071, \"y\": -1.618613843, \"yshift\": 15, \"z\": 0.1448045117}, {\"showarrow\": false, \"text\": 4, \"x\": 1.528453597, \"y\": -0.7551229418000001, \"yshift\": 15, \"z\": 0.3395081289}, {\"showarrow\": false, \"text\": 5, \"x\": 1.250212807, \"y\": 0.4586399968, \"yshift\": 15, \"z\": 1.0471189509999999}, {\"showarrow\": false, \"text\": 6, \"x\": -0.0573999238, \"y\": 0.6112101834, \"yshift\": 15, \"z\": 0.5411015062}, {\"showarrow\": false, \"text\": 7, \"x\": -0.0959285633, \"y\": 0.3804239493, \"yshift\": 15, \"z\": -0.9720975179000001}, {\"showarrow\": false, \"text\": 8, \"x\": 0.8166944813, \"y\": -0.8130667666, \"yshift\": 15, \"z\": -1.022359648}, {\"showarrow\": false, \"text\": 9, \"x\": -2.090436078, \"y\": 1.327066088, \"yshift\": 15, \"z\": 1.2636607579999999}, {\"showarrow\": false, \"text\": 10, \"x\": -1.44004201, \"y\": 2.287217978, \"yshift\": 15, \"z\": -0.1275429128}, {\"showarrow\": false, \"text\": 11, \"x\": -1.454004495, \"y\": -0.9673087774, \"yshift\": 15, \"z\": 1.459246448}, {\"showarrow\": false, \"text\": 12, \"x\": 0.2777789004, \"y\": -2.697872397, \"yshift\": 15, \"z\": 0.19576999949999999}, {\"showarrow\": false, \"text\": 13, \"x\": 2.5158540609999998, \"y\": -1.151783773, \"yshift\": 15, \"z\": 0.5273692559000001}, {\"showarrow\": false, \"text\": 14, \"x\": 0.0136988019, \"y\": 1.19943057, \"yshift\": 15, \"z\": -1.680192303}, {\"showarrow\": false, \"text\": 15, \"x\": 1.260745327, \"y\": -1.246753647, \"yshift\": 15, \"z\": -1.906767156}]}], \"label\": \"Atom indices\", \"method\": \"relayout\"}, {\"args\": [{\"scene.annotations\": [{\"showarrow\": false, \"text\": 1.55, \"x\": -1.4872350865, \"y\": 0.7182311058, \"yshift\": 15, \"z\": -0.0534943989}, {\"showarrow\": false, \"text\": 1.56, \"x\": -1.1987461346, \"y\": -0.30421269965, \"yshift\": 15, \"z\": 0.0436770091}, {\"showarrow\": false, \"text\": 1.5, \"x\": -0.28093459655, \"y\": -1.16308204645, \"yshift\": 15, \"z\": 0.3745499692}, {\"showarrow\": false, \"text\": 1.54, \"x\": 0.89974155205, \"y\": -1.1868683924, \"yshift\": 15, \"z\": 0.2421563203}, {\"showarrow\": false, \"text\": 1.43, \"x\": 1.389333202, \"y\": -0.1482414725, \"yshift\": 15, \"z\": 0.69331353995}, {\"showarrow\": false, \"text\": 1.41, \"x\": 0.5964064416, \"y\": 0.5349250901, \"yshift\": 15, \"z\": 0.7941102286}, {\"showarrow\": false, \"text\": 1.53, \"x\": -0.07666424355, \"y\": 0.49581706635, \"yshift\": 15, \"z\": -0.21549800585}, {\"showarrow\": false, \"text\": 1.5, \"x\": 0.360382959, \"y\": -0.21632140865, \"yshift\": 15, \"z\": -0.99722858295}, {\"showarrow\": false, \"text\": 1.53, \"x\": -0.445149312, \"y\": -0.04817003325, \"yshift\": 15, \"z\": 0.57269846645}, {\"showarrow\": false, \"text\": 1.54, \"x\": 1.17257403915, \"y\": -0.7840948542, \"yshift\": 15, \"z\": -0.34142575955}, {\"showarrow\": false, \"text\": 1.91, \"x\": -0.8109967464, \"y\": 0.355167517, \"yshift\": 15, \"z\": 0.01208004885}, {\"showarrow\": false, \"text\": 1.52, \"x\": 0.5438619942, \"y\": -1.2158403048, \"yshift\": 15, \"z\": -0.43877756815}, {\"showarrow\": false, \"text\": 1.54, \"x\": -0.7336382639, \"y\": 0.9742737722, \"yshift\": 15, \"z\": 0.47552705845}, {\"showarrow\": false, \"text\": 1.56, \"x\": -0.83026106615, \"y\": 0.23977439995, \"yshift\": 15, \"z\": -0.7445194632}, {\"showarrow\": false, \"text\": 1.09, \"x\": -1.424959307, \"y\": 1.8122776695, \"yshift\": 15, \"z\": 0.14120484895}, {\"showarrow\": false, \"text\": 1.09, \"x\": -0.0411148807, \"y\": 0.78992725965, \"yshift\": 15, \"z\": -1.32614491045}, {\"showarrow\": false, \"text\": 1.08, \"x\": 1.03871990415, \"y\": -1.0299102068, \"yshift\": 15, \"z\": -1.464563402}, {\"showarrow\": false, \"text\": 1.09, \"x\": -1.750156341, \"y\": 1.3322017245, \"yshift\": 15, \"z\": 0.83680668435}, {\"showarrow\": false, \"text\": 1.09, \"x\": -1.1434515976, \"y\": -0.83742951365, \"yshift\": 15, \"z\": 1.03177093735}, {\"showarrow\": false, \"text\": 1.08, \"x\": 0.27440420375, \"y\": -2.15824312, \"yshift\": 15, \"z\": 0.1702872556}, {\"showarrow\": false, \"text\": 1.08, \"x\": 2.022153829, \"y\": -0.9534533574, \"yshift\": 15, \"z\": 0.4334386924}]}], \"label\": \"Bond lengths\", \"method\": \"relayout\"}, {\"args\": [{\"scene.annotations\": [{\"showarrow\": false, \"text\": 0, \"x\": -1.4098766040000001, \"y\": 1.337337361, \"yshift\": 15, \"z\": 0.4099526107}, {\"showarrow\": false, \"text\": 1, \"x\": -1.5645935690000001, \"y\": 0.09912485060000001, \"yshift\": 15, \"z\": -0.5169414085}, {\"showarrow\": false, \"text\": 2, \"x\": -0.8328987002, \"y\": -0.7075502498999999, \"yshift\": 15, \"z\": 0.6042954267}, {\"showarrow\": false, \"text\": 3, \"x\": 0.2710295071, \"y\": -1.618613843, \"yshift\": 15, \"z\": 0.1448045117}, {\"showarrow\": false, \"text\": 4, \"x\": 1.528453597, \"y\": -0.7551229418000001, \"yshift\": 15, \"z\": 0.3395081289}, {\"showarrow\": false, \"text\": 5, \"x\": 1.250212807, \"y\": 0.4586399968, \"yshift\": 15, \"z\": 1.0471189509999999}, {\"showarrow\": false, \"text\": 6, \"x\": -0.0573999238, \"y\": 0.6112101834, \"yshift\": 15, \"z\": 0.5411015062}, {\"showarrow\": false, \"text\": 7, \"x\": -0.0959285633, \"y\": 0.3804239493, \"yshift\": 15, \"z\": -0.9720975179000001}, {\"showarrow\": false, \"text\": 8, \"x\": 0.8166944813, \"y\": -0.8130667666, \"yshift\": 15, \"z\": -1.022359648}, {\"showarrow\": false, \"text\": 9, \"x\": -2.090436078, \"y\": 1.327066088, \"yshift\": 15, \"z\": 1.2636607579999999}, {\"showarrow\": false, \"text\": 10, \"x\": -1.44004201, \"y\": 2.287217978, \"yshift\": 15, \"z\": -0.1275429128}, {\"showarrow\": false, \"text\": 11, \"x\": -1.454004495, \"y\": -0.9673087774, \"yshift\": 15, \"z\": 1.459246448}, {\"showarrow\": false, \"text\": 12, \"x\": 0.2777789004, \"y\": -2.697872397, \"yshift\": 15, \"z\": 0.19576999949999999}, {\"showarrow\": false, \"text\": 13, \"x\": 2.5158540609999998, \"y\": -1.151783773, \"yshift\": 15, \"z\": 0.5273692559000001}, {\"showarrow\": false, \"text\": 14, \"x\": 0.0136988019, \"y\": 1.19943057, \"yshift\": 15, \"z\": -1.680192303}, {\"showarrow\": false, \"text\": 15, \"x\": 1.260745327, \"y\": -1.246753647, \"yshift\": 15, \"z\": -1.906767156}, {\"showarrow\": false, \"text\": 1.55, \"x\": -1.4872350865, \"y\": 0.7182311058, \"yshift\": 15, \"z\": -0.0534943989}, {\"showarrow\": false, \"text\": 1.56, \"x\": -1.1987461346, \"y\": -0.30421269965, \"yshift\": 15, \"z\": 0.0436770091}, {\"showarrow\": false, \"text\": 1.5, \"x\": -0.28093459655, \"y\": -1.16308204645, \"yshift\": 15, \"z\": 0.3745499692}, {\"showarrow\": false, \"text\": 1.54, \"x\": 0.89974155205, \"y\": -1.1868683924, \"yshift\": 15, \"z\": 0.2421563203}, {\"showarrow\": false, \"text\": 1.43, \"x\": 1.389333202, \"y\": -0.1482414725, \"yshift\": 15, \"z\": 0.69331353995}, {\"showarrow\": false, \"text\": 1.41, \"x\": 0.5964064416, \"y\": 0.5349250901, \"yshift\": 15, \"z\": 0.7941102286}, {\"showarrow\": false, \"text\": 1.53, \"x\": -0.07666424355, \"y\": 0.49581706635, \"yshift\": 15, \"z\": -0.21549800585}, {\"showarrow\": false, \"text\": 1.5, \"x\": 0.360382959, \"y\": -0.21632140865, \"yshift\": 15, \"z\": -0.99722858295}, {\"showarrow\": false, \"text\": 1.53, \"x\": -0.445149312, \"y\": -0.04817003325, \"yshift\": 15, \"z\": 0.57269846645}, {\"showarrow\": false, \"text\": 1.54, \"x\": 1.17257403915, \"y\": -0.7840948542, \"yshift\": 15, \"z\": -0.34142575955}, {\"showarrow\": false, \"text\": 1.91, \"x\": -0.8109967464, \"y\": 0.355167517, \"yshift\": 15, \"z\": 0.01208004885}, {\"showarrow\": false, \"text\": 1.52, \"x\": 0.5438619942, \"y\": -1.2158403048, \"yshift\": 15, \"z\": -0.43877756815}, {\"showarrow\": false, \"text\": 1.54, \"x\": -0.7336382639, \"y\": 0.9742737722, \"yshift\": 15, \"z\": 0.47552705845}, {\"showarrow\": false, \"text\": 1.56, \"x\": -0.83026106615, \"y\": 0.23977439995, \"yshift\": 15, \"z\": -0.7445194632}, {\"showarrow\": false, \"text\": 1.09, \"x\": -1.424959307, \"y\": 1.8122776695, \"yshift\": 15, \"z\": 0.14120484895}, {\"showarrow\": false, \"text\": 1.09, \"x\": -0.0411148807, \"y\": 0.78992725965, \"yshift\": 15, \"z\": -1.32614491045}, {\"showarrow\": false, \"text\": 1.08, \"x\": 1.03871990415, \"y\": -1.0299102068, \"yshift\": 15, \"z\": -1.464563402}, {\"showarrow\": false, \"text\": 1.09, \"x\": -1.750156341, \"y\": 1.3322017245, \"yshift\": 15, \"z\": 0.83680668435}, {\"showarrow\": false, \"text\": 1.09, \"x\": -1.1434515976, \"y\": -0.83742951365, \"yshift\": 15, \"z\": 1.03177093735}, {\"showarrow\": false, \"text\": 1.08, \"x\": 0.27440420375, \"y\": -2.15824312, \"yshift\": 15, \"z\": 0.1702872556}, {\"showarrow\": false, \"text\": 1.08, \"x\": 2.022153829, \"y\": -0.9534533574, \"yshift\": 15, \"z\": 0.4334386924}]}], \"label\": \"Atom indices & Bond lengths\", \"method\": \"relayout\"}, {\"args\": [{\"scene.annotations\": []}], \"label\": \"Hide all\", \"method\": \"relayout\"}], \"direction\": \"down\", \"xanchor\": \"left\", \"yanchor\": \"top\"}]},\n",
       "                        {\"showLink\": false, \"linkText\": \"Export to plot.ly\", \"plotlyServerURL\": \"https://plot.ly\", \"responsive\": true}\n",
       "                    ).then(function(){\n",
       "                            \n",
       "var gd = document.getElementById('5f170267-7921-44ac-9565-ea4a3f392ee6');\n",
       "var x = new MutationObserver(function (mutations, observer) {{\n",
       "        var display = window.getComputedStyle(gd).display;\n",
       "        if (!display || display === 'none') {{\n",
       "            console.log([gd, 'removed!']);\n",
       "            Plotly.purge(gd);\n",
       "            observer.disconnect();\n",
       "        }}\n",
       "}});\n",
       "\n",
       "// Listen for the removal of the full notebook cells\n",
       "var notebookContainer = gd.closest('#notebook-container');\n",
       "if (notebookContainer) {{\n",
       "    x.observe(notebookContainer, {childList: true});\n",
       "}}\n",
       "\n",
       "// Listen for the clearing of the current output cell\n",
       "var outputEl = gd.closest('.output');\n",
       "if (outputEl) {{\n",
       "    x.observe(outputEl, {childList: true});\n",
       "}}\n",
       "\n",
       "                        })\n",
       "                };\n",
       "                });\n",
       "            </script>\n",
       "        </div>"
      ]
     },
     "metadata": {},
     "output_type": "display_data"
    }
   ],
   "source": [
    "plot_molecule('dsgdb9nsd_133885', structures)"
   ]
  },
  {
   "cell_type": "code",
   "execution_count": 3,
   "metadata": {},
   "outputs": [
    {
     "data": {
      "application/vnd.plotly.v1+json": {
       "config": {
        "linkText": "Export to plot.ly",
        "plotlyServerURL": "https://plot.ly",
        "showLink": false
       },
       "data": [
        {
         "marker": {
          "color": [
           "black",
           "black",
           "black",
           "black",
           "black",
           "black",
           "black",
           "black",
           "black",
           "white",
           "white",
           "white",
           "white",
           "white",
           "white",
           "white",
           "white",
           "white",
           "white",
           "white",
           "white",
           "white",
           "white",
           "white",
           "white",
           "white",
           "white"
          ],
          "line": {
           "color": "lightgray",
           "width": 2
          },
          "opacity": 0.8,
          "size": 7,
          "symbol": "circle"
         },
         "mode": "markers",
         "name": "",
         "text": [
          "C",
          "C",
          "C",
          "C",
          "C",
          "C",
          "C",
          "C",
          "C",
          "H",
          "H",
          "H",
          "H",
          "H",
          "H",
          "H",
          "H",
          "H",
          "H",
          "H",
          "H",
          "H",
          "H",
          "H",
          "H",
          "H",
          "H"
         ],
         "type": "scatter3d",
         "uid": "02d207a3-20ef-49be-be20-1abb50c60ba8",
         "x": [
          1.1823021059999999,
          0.2115087571,
          0.5367999565,
          1.735916363,
          0.34664254479999995,
          -0.2676080396,
          0.2123222632,
          1.018484868,
          -1.295283912,
          2.208877138,
          1.178465359,
          0.9140064995,
          0.21785889379999998,
          -0.8111152226999999,
          2.404492518,
          2.237227535,
          0.0963913085,
          0.0633289168,
          -1.3625573819999999,
          0.0170065112,
          0.46649396090000006,
          0.8619345740000001,
          0.7080417306,
          2.091301495,
          -1.545855346,
          -1.605199807,
          -1.89802902
         ],
         "y": [
          1.442858134,
          0.2985793897,
          -0.4437906414,
          -1.372646073,
          -1.949619992,
          -2.7970818619999998,
          0.3692477205,
          -0.0184400163,
          0.3226678695,
          1.072505318,
          2.220165946,
          1.92172531,
          -0.4027283623,
          0.6943731601,
          -1.445441199,
          -1.471747058,
          -2.3121700869999997,
          -2.495171365,
          -2.7479599639999996,
          -3.8477894580000003,
          1.414945703,
          -1.065080003,
          0.5964746906,
          0.13583860720000002,
          0.9943505049,
          -0.6886456266,
          0.6214998743
         ],
         "z": [
          0.2975428168,
          -0.027096836699999998,
          -1.322766559,
          -1.274073835,
          -1.3889159290000002,
          -0.2944067984,
          -2.5934010169999997,
          -3.8412446030000003,
          -2.90061471,
          0.3870818253,
          -0.47306486020000005,
          1.244782859,
          0.8126588139,
          -0.0744816109,
          -2.123626449,
          -0.31498410649999997,
          -2.383986581,
          0.7028598505,
          -0.3109841618,
          -0.42198269509999997,
          -2.375686429,
          -4.126831402,
          -4.692357923,
          -3.696176168,
          -3.7285284610000002,
          -3.186509366,
          -2.037839915
         ]
        },
        {
         "hoverinfo": "none",
         "marker": {
          "color": "grey",
          "opacity": 1,
          "size": 7
         },
         "mode": "lines",
         "type": "scatter3d",
         "uid": "db9c9e41-b788-44d6-b31a-f9d83bcd22fe",
         "x": [
          1.1823021059999999,
          0.2115087571,
          null,
          0.2115087571,
          0.5367999565,
          null,
          0.5367999565,
          1.735916363,
          null,
          1.735916363,
          0.34664254479999995,
          null,
          0.34664254479999995,
          -0.2676080396,
          null,
          0.2123222632,
          1.018484868,
          null,
          0.5367999565,
          0.34664254479999995,
          null,
          -1.295283912,
          0.2123222632,
          null,
          0.5367999565,
          0.2123222632,
          null,
          1.1823021059999999,
          2.208877138,
          null,
          -1.295283912,
          -1.89802902,
          null,
          1.1823021059999999,
          1.178465359,
          null,
          -1.295283912,
          -1.605199807,
          null,
          1.1823021059999999,
          0.9140064995,
          null,
          0.2115087571,
          0.21785889379999998,
          null,
          1.735916363,
          2.404492518,
          null,
          1.018484868,
          2.091301495,
          null,
          -1.545855346,
          -1.295283912,
          null,
          0.2115087571,
          -0.8111152226999999,
          null,
          1.735916363,
          2.237227535,
          null,
          0.0963913085,
          0.34664254479999995,
          null,
          0.0633289168,
          -0.2676080396,
          null,
          0.7080417306,
          1.018484868,
          null,
          -1.3625573819999999,
          -0.2676080396,
          null,
          0.0170065112,
          -0.2676080396,
          null,
          0.46649396090000006,
          0.2123222632,
          null,
          0.8619345740000001,
          1.018484868,
          null
         ],
         "y": [
          1.442858134,
          0.2985793897,
          null,
          0.2985793897,
          -0.4437906414,
          null,
          -0.4437906414,
          -1.372646073,
          null,
          -1.372646073,
          -1.949619992,
          null,
          -1.949619992,
          -2.7970818619999998,
          null,
          0.3692477205,
          -0.0184400163,
          null,
          -0.4437906414,
          -1.949619992,
          null,
          0.3226678695,
          0.3692477205,
          null,
          -0.4437906414,
          0.3692477205,
          null,
          1.442858134,
          1.072505318,
          null,
          0.3226678695,
          0.6214998743,
          null,
          1.442858134,
          2.220165946,
          null,
          0.3226678695,
          -0.6886456266,
          null,
          1.442858134,
          1.92172531,
          null,
          0.2985793897,
          -0.4027283623,
          null,
          -1.372646073,
          -1.445441199,
          null,
          -0.0184400163,
          0.13583860720000002,
          null,
          0.9943505049,
          0.3226678695,
          null,
          0.2985793897,
          0.6943731601,
          null,
          -1.372646073,
          -1.471747058,
          null,
          -2.3121700869999997,
          -1.949619992,
          null,
          -2.495171365,
          -2.7970818619999998,
          null,
          0.5964746906,
          -0.0184400163,
          null,
          -2.7479599639999996,
          -2.7970818619999998,
          null,
          -3.8477894580000003,
          -2.7970818619999998,
          null,
          1.414945703,
          0.3692477205,
          null,
          -1.065080003,
          -0.0184400163,
          null
         ],
         "z": [
          0.2975428168,
          -0.027096836699999998,
          null,
          -0.027096836699999998,
          -1.322766559,
          null,
          -1.322766559,
          -1.274073835,
          null,
          -1.274073835,
          -1.3889159290000002,
          null,
          -1.3889159290000002,
          -0.2944067984,
          null,
          -2.5934010169999997,
          -3.8412446030000003,
          null,
          -1.322766559,
          -1.3889159290000002,
          null,
          -2.90061471,
          -2.5934010169999997,
          null,
          -1.322766559,
          -2.5934010169999997,
          null,
          0.2975428168,
          0.3870818253,
          null,
          -2.90061471,
          -2.037839915,
          null,
          0.2975428168,
          -0.47306486020000005,
          null,
          -2.90061471,
          -3.186509366,
          null,
          0.2975428168,
          1.244782859,
          null,
          -0.027096836699999998,
          0.8126588139,
          null,
          -1.274073835,
          -2.123626449,
          null,
          -3.8412446030000003,
          -3.696176168,
          null,
          -3.7285284610000002,
          -2.90061471,
          null,
          -0.027096836699999998,
          -0.0744816109,
          null,
          -1.274073835,
          -0.31498410649999997,
          null,
          -2.383986581,
          -1.3889159290000002,
          null,
          0.7028598505,
          -0.2944067984,
          null,
          -4.692357923,
          -3.8412446030000003,
          null,
          -0.3109841618,
          -0.2944067984,
          null,
          -0.42198269509999997,
          -0.2944067984,
          null,
          -2.375686429,
          -2.5934010169999997,
          null,
          -4.126831402,
          -3.8412446030000003,
          null
         ]
        }
       ],
       "layout": {
        "margin": {
         "b": 0,
         "l": 0,
         "r": 0,
         "t": 0
        },
        "scene": {
         "annotations": [
          {
           "showarrow": false,
           "text": "0",
           "x": 1.1823021059999999,
           "y": 1.442858134,
           "yshift": 15,
           "z": 0.2975428168
          },
          {
           "showarrow": false,
           "text": "1",
           "x": 0.2115087571,
           "y": 0.2985793897,
           "yshift": 15,
           "z": -0.027096836699999998
          },
          {
           "showarrow": false,
           "text": "2",
           "x": 0.5367999565,
           "y": -0.4437906414,
           "yshift": 15,
           "z": -1.322766559
          },
          {
           "showarrow": false,
           "text": "3",
           "x": 1.735916363,
           "y": -1.372646073,
           "yshift": 15,
           "z": -1.274073835
          },
          {
           "showarrow": false,
           "text": "4",
           "x": 0.34664254479999995,
           "y": -1.949619992,
           "yshift": 15,
           "z": -1.3889159290000002
          },
          {
           "showarrow": false,
           "text": "5",
           "x": -0.2676080396,
           "y": -2.7970818619999998,
           "yshift": 15,
           "z": -0.2944067984
          },
          {
           "showarrow": false,
           "text": "6",
           "x": 0.2123222632,
           "y": 0.3692477205,
           "yshift": 15,
           "z": -2.5934010169999997
          },
          {
           "showarrow": false,
           "text": "7",
           "x": 1.018484868,
           "y": -0.0184400163,
           "yshift": 15,
           "z": -3.8412446030000003
          },
          {
           "showarrow": false,
           "text": "8",
           "x": -1.295283912,
           "y": 0.3226678695,
           "yshift": 15,
           "z": -2.90061471
          },
          {
           "showarrow": false,
           "text": "9",
           "x": 2.208877138,
           "y": 1.072505318,
           "yshift": 15,
           "z": 0.3870818253
          },
          {
           "showarrow": false,
           "text": "10",
           "x": 1.178465359,
           "y": 2.220165946,
           "yshift": 15,
           "z": -0.47306486020000005
          },
          {
           "showarrow": false,
           "text": "11",
           "x": 0.9140064995,
           "y": 1.92172531,
           "yshift": 15,
           "z": 1.244782859
          },
          {
           "showarrow": false,
           "text": "12",
           "x": 0.21785889379999998,
           "y": -0.4027283623,
           "yshift": 15,
           "z": 0.8126588139
          },
          {
           "showarrow": false,
           "text": "13",
           "x": -0.8111152226999999,
           "y": 0.6943731601,
           "yshift": 15,
           "z": -0.0744816109
          },
          {
           "showarrow": false,
           "text": "14",
           "x": 2.404492518,
           "y": -1.445441199,
           "yshift": 15,
           "z": -2.123626449
          },
          {
           "showarrow": false,
           "text": "15",
           "x": 2.237227535,
           "y": -1.471747058,
           "yshift": 15,
           "z": -0.31498410649999997
          },
          {
           "showarrow": false,
           "text": "16",
           "x": 0.0963913085,
           "y": -2.3121700869999997,
           "yshift": 15,
           "z": -2.383986581
          },
          {
           "showarrow": false,
           "text": "17",
           "x": 0.0633289168,
           "y": -2.495171365,
           "yshift": 15,
           "z": 0.7028598505
          },
          {
           "showarrow": false,
           "text": "18",
           "x": -1.3625573819999999,
           "y": -2.7479599639999996,
           "yshift": 15,
           "z": -0.3109841618
          },
          {
           "showarrow": false,
           "text": "19",
           "x": 0.0170065112,
           "y": -3.8477894580000003,
           "yshift": 15,
           "z": -0.42198269509999997
          },
          {
           "showarrow": false,
           "text": "20",
           "x": 0.46649396090000006,
           "y": 1.414945703,
           "yshift": 15,
           "z": -2.375686429
          },
          {
           "showarrow": false,
           "text": "21",
           "x": 0.8619345740000001,
           "y": -1.065080003,
           "yshift": 15,
           "z": -4.126831402
          },
          {
           "showarrow": false,
           "text": "22",
           "x": 0.7080417306,
           "y": 0.5964746906,
           "yshift": 15,
           "z": -4.692357923
          },
          {
           "showarrow": false,
           "text": "23",
           "x": 2.091301495,
           "y": 0.13583860720000002,
           "yshift": 15,
           "z": -3.696176168
          },
          {
           "showarrow": false,
           "text": "24",
           "x": -1.545855346,
           "y": 0.9943505049,
           "yshift": 15,
           "z": -3.7285284610000002
          },
          {
           "showarrow": false,
           "text": "25",
           "x": -1.605199807,
           "y": -0.6886456266,
           "yshift": 15,
           "z": -3.186509366
          },
          {
           "showarrow": false,
           "text": "26",
           "x": -1.89802902,
           "y": 0.6214998743,
           "yshift": 15,
           "z": -2.037839915
          }
         ],
         "aspectmode": "auto",
         "aspectratio": {
          "x": 0.80095624684624,
          "y": 1.1296089382686547,
          "z": 1.1052565235870924
         },
         "xaxis": {
          "showgrid": false,
          "showticklabels": false,
          "title": {
           "font": {
            "color": "white"
           }
          },
          "type": "linear",
          "zeroline": false
         },
         "yaxis": {
          "showgrid": false,
          "showticklabels": false,
          "title": {
           "font": {
            "color": "white"
           }
          },
          "type": "linear",
          "zeroline": false
         },
         "zaxis": {
          "showgrid": false,
          "showticklabels": false,
          "title": {
           "font": {
            "color": "white"
           }
          },
          "type": "linear",
          "zeroline": false
         }
        },
        "showlegend": false,
        "updatemenus": [
         {
          "buttons": [
           {
            "args": [
             {
              "scene.annotations": [
               {
                "showarrow": false,
                "text": 0,
                "x": 1.1823021059999999,
                "y": 1.442858134,
                "yshift": 15,
                "z": 0.2975428168
               },
               {
                "showarrow": false,
                "text": 1,
                "x": 0.2115087571,
                "y": 0.2985793897,
                "yshift": 15,
                "z": -0.027096836699999998
               },
               {
                "showarrow": false,
                "text": 2,
                "x": 0.5367999565,
                "y": -0.4437906414,
                "yshift": 15,
                "z": -1.322766559
               },
               {
                "showarrow": false,
                "text": 3,
                "x": 1.735916363,
                "y": -1.372646073,
                "yshift": 15,
                "z": -1.274073835
               },
               {
                "showarrow": false,
                "text": 4,
                "x": 0.34664254479999995,
                "y": -1.949619992,
                "yshift": 15,
                "z": -1.3889159290000002
               },
               {
                "showarrow": false,
                "text": 5,
                "x": -0.2676080396,
                "y": -2.7970818619999998,
                "yshift": 15,
                "z": -0.2944067984
               },
               {
                "showarrow": false,
                "text": 6,
                "x": 0.2123222632,
                "y": 0.3692477205,
                "yshift": 15,
                "z": -2.5934010169999997
               },
               {
                "showarrow": false,
                "text": 7,
                "x": 1.018484868,
                "y": -0.0184400163,
                "yshift": 15,
                "z": -3.8412446030000003
               },
               {
                "showarrow": false,
                "text": 8,
                "x": -1.295283912,
                "y": 0.3226678695,
                "yshift": 15,
                "z": -2.90061471
               },
               {
                "showarrow": false,
                "text": 9,
                "x": 2.208877138,
                "y": 1.072505318,
                "yshift": 15,
                "z": 0.3870818253
               },
               {
                "showarrow": false,
                "text": 10,
                "x": 1.178465359,
                "y": 2.220165946,
                "yshift": 15,
                "z": -0.47306486020000005
               },
               {
                "showarrow": false,
                "text": 11,
                "x": 0.9140064995,
                "y": 1.92172531,
                "yshift": 15,
                "z": 1.244782859
               },
               {
                "showarrow": false,
                "text": 12,
                "x": 0.21785889379999998,
                "y": -0.4027283623,
                "yshift": 15,
                "z": 0.8126588139
               },
               {
                "showarrow": false,
                "text": 13,
                "x": -0.8111152226999999,
                "y": 0.6943731601,
                "yshift": 15,
                "z": -0.0744816109
               },
               {
                "showarrow": false,
                "text": 14,
                "x": 2.404492518,
                "y": -1.445441199,
                "yshift": 15,
                "z": -2.123626449
               },
               {
                "showarrow": false,
                "text": 15,
                "x": 2.237227535,
                "y": -1.471747058,
                "yshift": 15,
                "z": -0.31498410649999997
               },
               {
                "showarrow": false,
                "text": 16,
                "x": 0.0963913085,
                "y": -2.3121700869999997,
                "yshift": 15,
                "z": -2.383986581
               },
               {
                "showarrow": false,
                "text": 17,
                "x": 0.0633289168,
                "y": -2.495171365,
                "yshift": 15,
                "z": 0.7028598505
               },
               {
                "showarrow": false,
                "text": 18,
                "x": -1.3625573819999999,
                "y": -2.7479599639999996,
                "yshift": 15,
                "z": -0.3109841618
               },
               {
                "showarrow": false,
                "text": 19,
                "x": 0.0170065112,
                "y": -3.8477894580000003,
                "yshift": 15,
                "z": -0.42198269509999997
               },
               {
                "showarrow": false,
                "text": 20,
                "x": 0.46649396090000006,
                "y": 1.414945703,
                "yshift": 15,
                "z": -2.375686429
               },
               {
                "showarrow": false,
                "text": 21,
                "x": 0.8619345740000001,
                "y": -1.065080003,
                "yshift": 15,
                "z": -4.126831402
               },
               {
                "showarrow": false,
                "text": 22,
                "x": 0.7080417306,
                "y": 0.5964746906,
                "yshift": 15,
                "z": -4.692357923
               },
               {
                "showarrow": false,
                "text": 23,
                "x": 2.091301495,
                "y": 0.13583860720000002,
                "yshift": 15,
                "z": -3.696176168
               },
               {
                "showarrow": false,
                "text": 24,
                "x": -1.545855346,
                "y": 0.9943505049,
                "yshift": 15,
                "z": -3.7285284610000002
               },
               {
                "showarrow": false,
                "text": 25,
                "x": -1.605199807,
                "y": -0.6886456266,
                "yshift": 15,
                "z": -3.186509366
               },
               {
                "showarrow": false,
                "text": 26,
                "x": -1.89802902,
                "y": 0.6214998743,
                "yshift": 15,
                "z": -2.037839915
               }
              ]
             }
            ],
            "label": "Atom indices",
            "method": "relayout"
           },
           {
            "args": [
             {
              "scene.annotations": [
               {
                "showarrow": false,
                "text": 1.54,
                "x": 0.69690543155,
                "y": 0.87071876185,
                "yshift": 15,
                "z": 0.13522299005
               },
               {
                "showarrow": false,
                "text": 1.53,
                "x": 0.3741543568,
                "y": -0.07260562585,
                "yshift": 15,
                "z": -0.67493169785
               },
               {
                "showarrow": false,
                "text": 1.52,
                "x": 1.13635815975,
                "y": -0.9082183572,
                "yshift": 15,
                "z": -1.298420197
               },
               {
                "showarrow": false,
                "text": 1.51,
                "x": 1.0412794539,
                "y": -1.6611330325,
                "yshift": 15,
                "z": -1.331494882
               },
               {
                "showarrow": false,
                "text": 1.51,
                "x": 0.0395172526,
                "y": -2.373350927,
                "yshift": 15,
                "z": -0.8416613637
               },
               {
                "showarrow": false,
                "text": 1.54,
                "x": 0.6154035656,
                "y": 0.1754038521,
                "yshift": 15,
                "z": -3.21732281
               },
               {
                "showarrow": false,
                "text": 1.52,
                "x": 0.44172125065,
                "y": -1.1967053167,
                "yshift": 15,
                "z": -1.355841244
               },
               {
                "showarrow": false,
                "text": 1.54,
                "x": -0.5414808244,
                "y": 0.345957795,
                "yshift": 15,
                "z": -2.7470078635
               },
               {
                "showarrow": false,
                "text": 1.54,
                "x": 0.37456110985,
                "y": -0.03727146045,
                "yshift": 15,
                "z": -1.958083788
               },
               {
                "showarrow": false,
                "text": 1.1,
                "x": 1.695589622,
                "y": 1.257681726,
                "yshift": 15,
                "z": 0.34231232105
               },
               {
                "showarrow": false,
                "text": 1.09,
                "x": -1.596656466,
                "y": 0.4720838719,
                "yshift": 15,
                "z": -2.4692273125
               },
               {
                "showarrow": false,
                "text": 1.09,
                "x": 1.1803837325,
                "y": 1.83151204,
                "yshift": 15,
                "z": -0.0877610217
               },
               {
                "showarrow": false,
                "text": 1.1,
                "x": -1.4502418595,
                "y": -0.18298887855,
                "yshift": 15,
                "z": -3.043562038
               },
               {
                "showarrow": false,
                "text": 1.09,
                "x": 1.04815430275,
                "y": 1.682291722,
                "yshift": 15,
                "z": 0.7711628379
               },
               {
                "showarrow": false,
                "text": 1.09,
                "x": 0.21468382545,
                "y": -0.0520744863,
                "yshift": 15,
                "z": 0.3927809886
               },
               {
                "showarrow": false,
                "text": 1.08,
                "x": 2.0702044405,
                "y": -1.409043636,
                "yshift": 15,
                "z": -1.698850142
               },
               {
                "showarrow": false,
                "text": 1.09,
                "x": 1.5548931815,
                "y": 0.05869929545,
                "yshift": 15,
                "z": -3.7687103855
               },
               {
                "showarrow": false,
                "text": 1.1,
                "x": -1.420569629,
                "y": 0.6585091872,
                "yshift": 15,
                "z": -3.3145715855
               },
               {
                "showarrow": false,
                "text": 1.1,
                "x": -0.2998032328,
                "y": 0.4964762749,
                "yshift": 15,
                "z": -0.0507892238
               },
               {
                "showarrow": false,
                "text": 1.09,
                "x": 1.986571949,
                "y": -1.4221965655,
                "yshift": 15,
                "z": -0.79452897075
               },
               {
                "showarrow": false,
                "text": 1.09,
                "x": 0.22151692665,
                "y": -2.1308950395,
                "yshift": 15,
                "z": -1.886451255
               },
               {
                "showarrow": false,
                "text": 1.09,
                "x": -0.1021395614,
                "y": -2.6461266135,
                "yshift": 15,
                "z": 0.20422652605
               },
               {
                "showarrow": false,
                "text": 1.09,
                "x": 0.8632632993,
                "y": 0.28901733715,
                "yshift": 15,
                "z": -4.266801263
               },
               {
                "showarrow": false,
                "text": 1.1,
                "x": -0.8150827108,
                "y": -2.772520913,
                "yshift": 15,
                "z": -0.3026954801
               },
               {
                "showarrow": false,
                "text": 1.1,
                "x": -0.1253007642,
                "y": -3.32243566,
                "yshift": 15,
                "z": -0.35819474675
               },
               {
                "showarrow": false,
                "text": 1.1,
                "x": 0.33940811205,
                "y": 0.89209671175,
                "yshift": 15,
                "z": -2.484543723
               },
               {
                "showarrow": false,
                "text": 1.1,
                "x": 0.940209721,
                "y": -0.54176000965,
                "yshift": 15,
                "z": -3.9840380025
               }
              ]
             }
            ],
            "label": "Bond lengths",
            "method": "relayout"
           },
           {
            "args": [
             {
              "scene.annotations": [
               {
                "showarrow": false,
                "text": 0,
                "x": 1.1823021059999999,
                "y": 1.442858134,
                "yshift": 15,
                "z": 0.2975428168
               },
               {
                "showarrow": false,
                "text": 1,
                "x": 0.2115087571,
                "y": 0.2985793897,
                "yshift": 15,
                "z": -0.027096836699999998
               },
               {
                "showarrow": false,
                "text": 2,
                "x": 0.5367999565,
                "y": -0.4437906414,
                "yshift": 15,
                "z": -1.322766559
               },
               {
                "showarrow": false,
                "text": 3,
                "x": 1.735916363,
                "y": -1.372646073,
                "yshift": 15,
                "z": -1.274073835
               },
               {
                "showarrow": false,
                "text": 4,
                "x": 0.34664254479999995,
                "y": -1.949619992,
                "yshift": 15,
                "z": -1.3889159290000002
               },
               {
                "showarrow": false,
                "text": 5,
                "x": -0.2676080396,
                "y": -2.7970818619999998,
                "yshift": 15,
                "z": -0.2944067984
               },
               {
                "showarrow": false,
                "text": 6,
                "x": 0.2123222632,
                "y": 0.3692477205,
                "yshift": 15,
                "z": -2.5934010169999997
               },
               {
                "showarrow": false,
                "text": 7,
                "x": 1.018484868,
                "y": -0.0184400163,
                "yshift": 15,
                "z": -3.8412446030000003
               },
               {
                "showarrow": false,
                "text": 8,
                "x": -1.295283912,
                "y": 0.3226678695,
                "yshift": 15,
                "z": -2.90061471
               },
               {
                "showarrow": false,
                "text": 9,
                "x": 2.208877138,
                "y": 1.072505318,
                "yshift": 15,
                "z": 0.3870818253
               },
               {
                "showarrow": false,
                "text": 10,
                "x": 1.178465359,
                "y": 2.220165946,
                "yshift": 15,
                "z": -0.47306486020000005
               },
               {
                "showarrow": false,
                "text": 11,
                "x": 0.9140064995,
                "y": 1.92172531,
                "yshift": 15,
                "z": 1.244782859
               },
               {
                "showarrow": false,
                "text": 12,
                "x": 0.21785889379999998,
                "y": -0.4027283623,
                "yshift": 15,
                "z": 0.8126588139
               },
               {
                "showarrow": false,
                "text": 13,
                "x": -0.8111152226999999,
                "y": 0.6943731601,
                "yshift": 15,
                "z": -0.0744816109
               },
               {
                "showarrow": false,
                "text": 14,
                "x": 2.404492518,
                "y": -1.445441199,
                "yshift": 15,
                "z": -2.123626449
               },
               {
                "showarrow": false,
                "text": 15,
                "x": 2.237227535,
                "y": -1.471747058,
                "yshift": 15,
                "z": -0.31498410649999997
               },
               {
                "showarrow": false,
                "text": 16,
                "x": 0.0963913085,
                "y": -2.3121700869999997,
                "yshift": 15,
                "z": -2.383986581
               },
               {
                "showarrow": false,
                "text": 17,
                "x": 0.0633289168,
                "y": -2.495171365,
                "yshift": 15,
                "z": 0.7028598505
               },
               {
                "showarrow": false,
                "text": 18,
                "x": -1.3625573819999999,
                "y": -2.7479599639999996,
                "yshift": 15,
                "z": -0.3109841618
               },
               {
                "showarrow": false,
                "text": 19,
                "x": 0.0170065112,
                "y": -3.8477894580000003,
                "yshift": 15,
                "z": -0.42198269509999997
               },
               {
                "showarrow": false,
                "text": 20,
                "x": 0.46649396090000006,
                "y": 1.414945703,
                "yshift": 15,
                "z": -2.375686429
               },
               {
                "showarrow": false,
                "text": 21,
                "x": 0.8619345740000001,
                "y": -1.065080003,
                "yshift": 15,
                "z": -4.126831402
               },
               {
                "showarrow": false,
                "text": 22,
                "x": 0.7080417306,
                "y": 0.5964746906,
                "yshift": 15,
                "z": -4.692357923
               },
               {
                "showarrow": false,
                "text": 23,
                "x": 2.091301495,
                "y": 0.13583860720000002,
                "yshift": 15,
                "z": -3.696176168
               },
               {
                "showarrow": false,
                "text": 24,
                "x": -1.545855346,
                "y": 0.9943505049,
                "yshift": 15,
                "z": -3.7285284610000002
               },
               {
                "showarrow": false,
                "text": 25,
                "x": -1.605199807,
                "y": -0.6886456266,
                "yshift": 15,
                "z": -3.186509366
               },
               {
                "showarrow": false,
                "text": 26,
                "x": -1.89802902,
                "y": 0.6214998743,
                "yshift": 15,
                "z": -2.037839915
               },
               {
                "showarrow": false,
                "text": 1.54,
                "x": 0.69690543155,
                "y": 0.87071876185,
                "yshift": 15,
                "z": 0.13522299005
               },
               {
                "showarrow": false,
                "text": 1.53,
                "x": 0.3741543568,
                "y": -0.07260562585,
                "yshift": 15,
                "z": -0.67493169785
               },
               {
                "showarrow": false,
                "text": 1.52,
                "x": 1.13635815975,
                "y": -0.9082183572,
                "yshift": 15,
                "z": -1.298420197
               },
               {
                "showarrow": false,
                "text": 1.51,
                "x": 1.0412794539,
                "y": -1.6611330325,
                "yshift": 15,
                "z": -1.331494882
               },
               {
                "showarrow": false,
                "text": 1.51,
                "x": 0.0395172526,
                "y": -2.373350927,
                "yshift": 15,
                "z": -0.8416613637
               },
               {
                "showarrow": false,
                "text": 1.54,
                "x": 0.6154035656,
                "y": 0.1754038521,
                "yshift": 15,
                "z": -3.21732281
               },
               {
                "showarrow": false,
                "text": 1.52,
                "x": 0.44172125065,
                "y": -1.1967053167,
                "yshift": 15,
                "z": -1.355841244
               },
               {
                "showarrow": false,
                "text": 1.54,
                "x": -0.5414808244,
                "y": 0.345957795,
                "yshift": 15,
                "z": -2.7470078635
               },
               {
                "showarrow": false,
                "text": 1.54,
                "x": 0.37456110985,
                "y": -0.03727146045,
                "yshift": 15,
                "z": -1.958083788
               },
               {
                "showarrow": false,
                "text": 1.1,
                "x": 1.695589622,
                "y": 1.257681726,
                "yshift": 15,
                "z": 0.34231232105
               },
               {
                "showarrow": false,
                "text": 1.09,
                "x": -1.596656466,
                "y": 0.4720838719,
                "yshift": 15,
                "z": -2.4692273125
               },
               {
                "showarrow": false,
                "text": 1.09,
                "x": 1.1803837325,
                "y": 1.83151204,
                "yshift": 15,
                "z": -0.0877610217
               },
               {
                "showarrow": false,
                "text": 1.1,
                "x": -1.4502418595,
                "y": -0.18298887855,
                "yshift": 15,
                "z": -3.043562038
               },
               {
                "showarrow": false,
                "text": 1.09,
                "x": 1.04815430275,
                "y": 1.682291722,
                "yshift": 15,
                "z": 0.7711628379
               },
               {
                "showarrow": false,
                "text": 1.09,
                "x": 0.21468382545,
                "y": -0.0520744863,
                "yshift": 15,
                "z": 0.3927809886
               },
               {
                "showarrow": false,
                "text": 1.08,
                "x": 2.0702044405,
                "y": -1.409043636,
                "yshift": 15,
                "z": -1.698850142
               },
               {
                "showarrow": false,
                "text": 1.09,
                "x": 1.5548931815,
                "y": 0.05869929545,
                "yshift": 15,
                "z": -3.7687103855
               },
               {
                "showarrow": false,
                "text": 1.1,
                "x": -1.420569629,
                "y": 0.6585091872,
                "yshift": 15,
                "z": -3.3145715855
               },
               {
                "showarrow": false,
                "text": 1.1,
                "x": -0.2998032328,
                "y": 0.4964762749,
                "yshift": 15,
                "z": -0.0507892238
               },
               {
                "showarrow": false,
                "text": 1.09,
                "x": 1.986571949,
                "y": -1.4221965655,
                "yshift": 15,
                "z": -0.79452897075
               },
               {
                "showarrow": false,
                "text": 1.09,
                "x": 0.22151692665,
                "y": -2.1308950395,
                "yshift": 15,
                "z": -1.886451255
               },
               {
                "showarrow": false,
                "text": 1.09,
                "x": -0.1021395614,
                "y": -2.6461266135,
                "yshift": 15,
                "z": 0.20422652605
               },
               {
                "showarrow": false,
                "text": 1.09,
                "x": 0.8632632993,
                "y": 0.28901733715,
                "yshift": 15,
                "z": -4.266801263
               },
               {
                "showarrow": false,
                "text": 1.1,
                "x": -0.8150827108,
                "y": -2.772520913,
                "yshift": 15,
                "z": -0.3026954801
               },
               {
                "showarrow": false,
                "text": 1.1,
                "x": -0.1253007642,
                "y": -3.32243566,
                "yshift": 15,
                "z": -0.35819474675
               },
               {
                "showarrow": false,
                "text": 1.1,
                "x": 0.33940811205,
                "y": 0.89209671175,
                "yshift": 15,
                "z": -2.484543723
               },
               {
                "showarrow": false,
                "text": 1.1,
                "x": 0.940209721,
                "y": -0.54176000965,
                "yshift": 15,
                "z": -3.9840380025
               }
              ]
             }
            ],
            "label": "Atom indices & Bond lengths",
            "method": "relayout"
           },
           {
            "args": [
             {
              "scene.annotations": []
             }
            ],
            "label": "Hide all",
            "method": "relayout"
           }
          ],
          "direction": "down",
          "xanchor": "left",
          "yanchor": "top"
         }
        ]
       }
      },
      "text/html": [
       "<div>\n",
       "        \n",
       "        \n",
       "            <div id=\"aaf20b09-8169-4e16-bf89-b1b7a7f10d37\" class=\"plotly-graph-div\" style=\"height:525px; width:100%;\"></div>\n",
       "            <script type=\"text/javascript\">\n",
       "                require([\"plotly\"], function(Plotly) {\n",
       "                    window.PLOTLYENV=window.PLOTLYENV || {};\n",
       "                    window.PLOTLYENV.BASE_URL='https://plot.ly';\n",
       "                    \n",
       "                if (document.getElementById(\"aaf20b09-8169-4e16-bf89-b1b7a7f10d37\")) {\n",
       "                    Plotly.newPlot(\n",
       "                        'aaf20b09-8169-4e16-bf89-b1b7a7f10d37',\n",
       "                        [{\"marker\": {\"color\": [\"black\", \"black\", \"black\", \"black\", \"black\", \"black\", \"black\", \"black\", \"black\", \"white\", \"white\", \"white\", \"white\", \"white\", \"white\", \"white\", \"white\", \"white\", \"white\", \"white\", \"white\", \"white\", \"white\", \"white\", \"white\", \"white\", \"white\"], \"line\": {\"color\": \"lightgray\", \"width\": 2}, \"opacity\": 0.8, \"size\": 7, \"symbol\": \"circle\"}, \"mode\": \"markers\", \"name\": \"\", \"text\": [\"C\", \"C\", \"C\", \"C\", \"C\", \"C\", \"C\", \"C\", \"C\", \"H\", \"H\", \"H\", \"H\", \"H\", \"H\", \"H\", \"H\", \"H\", \"H\", \"H\", \"H\", \"H\", \"H\", \"H\", \"H\", \"H\", \"H\"], \"type\": \"scatter3d\", \"uid\": \"02d207a3-20ef-49be-be20-1abb50c60ba8\", \"x\": [1.1823021059999999, 0.2115087571, 0.5367999565, 1.735916363, 0.34664254479999995, -0.2676080396, 0.2123222632, 1.018484868, -1.295283912, 2.208877138, 1.178465359, 0.9140064995, 0.21785889379999998, -0.8111152226999999, 2.404492518, 2.237227535, 0.0963913085, 0.0633289168, -1.3625573819999999, 0.0170065112, 0.46649396090000006, 0.8619345740000001, 0.7080417306, 2.091301495, -1.545855346, -1.605199807, -1.89802902], \"y\": [1.442858134, 0.2985793897, -0.4437906414, -1.372646073, -1.949619992, -2.7970818619999998, 0.3692477205, -0.0184400163, 0.3226678695, 1.072505318, 2.220165946, 1.92172531, -0.4027283623, 0.6943731601, -1.445441199, -1.471747058, -2.3121700869999997, -2.495171365, -2.7479599639999996, -3.8477894580000003, 1.414945703, -1.065080003, 0.5964746906, 0.13583860720000002, 0.9943505049, -0.6886456266, 0.6214998743], \"z\": [0.2975428168, -0.027096836699999998, -1.322766559, -1.274073835, -1.3889159290000002, -0.2944067984, -2.5934010169999997, -3.8412446030000003, -2.90061471, 0.3870818253, -0.47306486020000005, 1.244782859, 0.8126588139, -0.0744816109, -2.123626449, -0.31498410649999997, -2.383986581, 0.7028598505, -0.3109841618, -0.42198269509999997, -2.375686429, -4.126831402, -4.692357923, -3.696176168, -3.7285284610000002, -3.186509366, -2.037839915]}, {\"hoverinfo\": \"none\", \"marker\": {\"color\": \"grey\", \"opacity\": 1, \"size\": 7}, \"mode\": \"lines\", \"type\": \"scatter3d\", \"uid\": \"db9c9e41-b788-44d6-b31a-f9d83bcd22fe\", \"x\": [1.1823021059999999, 0.2115087571, null, 0.2115087571, 0.5367999565, null, 0.5367999565, 1.735916363, null, 1.735916363, 0.34664254479999995, null, 0.34664254479999995, -0.2676080396, null, 0.2123222632, 1.018484868, null, 0.5367999565, 0.34664254479999995, null, -1.295283912, 0.2123222632, null, 0.5367999565, 0.2123222632, null, 1.1823021059999999, 2.208877138, null, -1.295283912, -1.89802902, null, 1.1823021059999999, 1.178465359, null, -1.295283912, -1.605199807, null, 1.1823021059999999, 0.9140064995, null, 0.2115087571, 0.21785889379999998, null, 1.735916363, 2.404492518, null, 1.018484868, 2.091301495, null, -1.545855346, -1.295283912, null, 0.2115087571, -0.8111152226999999, null, 1.735916363, 2.237227535, null, 0.0963913085, 0.34664254479999995, null, 0.0633289168, -0.2676080396, null, 0.7080417306, 1.018484868, null, -1.3625573819999999, -0.2676080396, null, 0.0170065112, -0.2676080396, null, 0.46649396090000006, 0.2123222632, null, 0.8619345740000001, 1.018484868, null], \"y\": [1.442858134, 0.2985793897, null, 0.2985793897, -0.4437906414, null, -0.4437906414, -1.372646073, null, -1.372646073, -1.949619992, null, -1.949619992, -2.7970818619999998, null, 0.3692477205, -0.0184400163, null, -0.4437906414, -1.949619992, null, 0.3226678695, 0.3692477205, null, -0.4437906414, 0.3692477205, null, 1.442858134, 1.072505318, null, 0.3226678695, 0.6214998743, null, 1.442858134, 2.220165946, null, 0.3226678695, -0.6886456266, null, 1.442858134, 1.92172531, null, 0.2985793897, -0.4027283623, null, -1.372646073, -1.445441199, null, -0.0184400163, 0.13583860720000002, null, 0.9943505049, 0.3226678695, null, 0.2985793897, 0.6943731601, null, -1.372646073, -1.471747058, null, -2.3121700869999997, -1.949619992, null, -2.495171365, -2.7970818619999998, null, 0.5964746906, -0.0184400163, null, -2.7479599639999996, -2.7970818619999998, null, -3.8477894580000003, -2.7970818619999998, null, 1.414945703, 0.3692477205, null, -1.065080003, -0.0184400163, null], \"z\": [0.2975428168, -0.027096836699999998, null, -0.027096836699999998, -1.322766559, null, -1.322766559, -1.274073835, null, -1.274073835, -1.3889159290000002, null, -1.3889159290000002, -0.2944067984, null, -2.5934010169999997, -3.8412446030000003, null, -1.322766559, -1.3889159290000002, null, -2.90061471, -2.5934010169999997, null, -1.322766559, -2.5934010169999997, null, 0.2975428168, 0.3870818253, null, -2.90061471, -2.037839915, null, 0.2975428168, -0.47306486020000005, null, -2.90061471, -3.186509366, null, 0.2975428168, 1.244782859, null, -0.027096836699999998, 0.8126588139, null, -1.274073835, -2.123626449, null, -3.8412446030000003, -3.696176168, null, -3.7285284610000002, -2.90061471, null, -0.027096836699999998, -0.0744816109, null, -1.274073835, -0.31498410649999997, null, -2.383986581, -1.3889159290000002, null, 0.7028598505, -0.2944067984, null, -4.692357923, -3.8412446030000003, null, -0.3109841618, -0.2944067984, null, -0.42198269509999997, -0.2944067984, null, -2.375686429, -2.5934010169999997, null, -4.126831402, -3.8412446030000003, null]}],\n",
       "                        {\"margin\": {\"b\": 0, \"l\": 0, \"r\": 0, \"t\": 0}, \"scene\": {\"annotations\": [{\"showarrow\": false, \"text\": \"0\", \"x\": 1.1823021059999999, \"y\": 1.442858134, \"yshift\": 15, \"z\": 0.2975428168}, {\"showarrow\": false, \"text\": \"1\", \"x\": 0.2115087571, \"y\": 0.2985793897, \"yshift\": 15, \"z\": -0.027096836699999998}, {\"showarrow\": false, \"text\": \"2\", \"x\": 0.5367999565, \"y\": -0.4437906414, \"yshift\": 15, \"z\": -1.322766559}, {\"showarrow\": false, \"text\": \"3\", \"x\": 1.735916363, \"y\": -1.372646073, \"yshift\": 15, \"z\": -1.274073835}, {\"showarrow\": false, \"text\": \"4\", \"x\": 0.34664254479999995, \"y\": -1.949619992, \"yshift\": 15, \"z\": -1.3889159290000002}, {\"showarrow\": false, \"text\": \"5\", \"x\": -0.2676080396, \"y\": -2.7970818619999998, \"yshift\": 15, \"z\": -0.2944067984}, {\"showarrow\": false, \"text\": \"6\", \"x\": 0.2123222632, \"y\": 0.3692477205, \"yshift\": 15, \"z\": -2.5934010169999997}, {\"showarrow\": false, \"text\": \"7\", \"x\": 1.018484868, \"y\": -0.0184400163, \"yshift\": 15, \"z\": -3.8412446030000003}, {\"showarrow\": false, \"text\": \"8\", \"x\": -1.295283912, \"y\": 0.3226678695, \"yshift\": 15, \"z\": -2.90061471}, {\"showarrow\": false, \"text\": \"9\", \"x\": 2.208877138, \"y\": 1.072505318, \"yshift\": 15, \"z\": 0.3870818253}, {\"showarrow\": false, \"text\": \"10\", \"x\": 1.178465359, \"y\": 2.220165946, \"yshift\": 15, \"z\": -0.47306486020000005}, {\"showarrow\": false, \"text\": \"11\", \"x\": 0.9140064995, \"y\": 1.92172531, \"yshift\": 15, \"z\": 1.244782859}, {\"showarrow\": false, \"text\": \"12\", \"x\": 0.21785889379999998, \"y\": -0.4027283623, \"yshift\": 15, \"z\": 0.8126588139}, {\"showarrow\": false, \"text\": \"13\", \"x\": -0.8111152226999999, \"y\": 0.6943731601, \"yshift\": 15, \"z\": -0.0744816109}, {\"showarrow\": false, \"text\": \"14\", \"x\": 2.404492518, \"y\": -1.445441199, \"yshift\": 15, \"z\": -2.123626449}, {\"showarrow\": false, \"text\": \"15\", \"x\": 2.237227535, \"y\": -1.471747058, \"yshift\": 15, \"z\": -0.31498410649999997}, {\"showarrow\": false, \"text\": \"16\", \"x\": 0.0963913085, \"y\": -2.3121700869999997, \"yshift\": 15, \"z\": -2.383986581}, {\"showarrow\": false, \"text\": \"17\", \"x\": 0.0633289168, \"y\": -2.495171365, \"yshift\": 15, \"z\": 0.7028598505}, {\"showarrow\": false, \"text\": \"18\", \"x\": -1.3625573819999999, \"y\": -2.7479599639999996, \"yshift\": 15, \"z\": -0.3109841618}, {\"showarrow\": false, \"text\": \"19\", \"x\": 0.0170065112, \"y\": -3.8477894580000003, \"yshift\": 15, \"z\": -0.42198269509999997}, {\"showarrow\": false, \"text\": \"20\", \"x\": 0.46649396090000006, \"y\": 1.414945703, \"yshift\": 15, \"z\": -2.375686429}, {\"showarrow\": false, \"text\": \"21\", \"x\": 0.8619345740000001, \"y\": -1.065080003, \"yshift\": 15, \"z\": -4.126831402}, {\"showarrow\": false, \"text\": \"22\", \"x\": 0.7080417306, \"y\": 0.5964746906, \"yshift\": 15, \"z\": -4.692357923}, {\"showarrow\": false, \"text\": \"23\", \"x\": 2.091301495, \"y\": 0.13583860720000002, \"yshift\": 15, \"z\": -3.696176168}, {\"showarrow\": false, \"text\": \"24\", \"x\": -1.545855346, \"y\": 0.9943505049, \"yshift\": 15, \"z\": -3.7285284610000002}, {\"showarrow\": false, \"text\": \"25\", \"x\": -1.605199807, \"y\": -0.6886456266, \"yshift\": 15, \"z\": -3.186509366}, {\"showarrow\": false, \"text\": \"26\", \"x\": -1.89802902, \"y\": 0.6214998743, \"yshift\": 15, \"z\": -2.037839915}], \"xaxis\": {\"showgrid\": false, \"showticklabels\": false, \"title\": {\"font\": {\"color\": \"white\"}}, \"zeroline\": false}, \"yaxis\": {\"showgrid\": false, \"showticklabels\": false, \"title\": {\"font\": {\"color\": \"white\"}}, \"zeroline\": false}, \"zaxis\": {\"showgrid\": false, \"showticklabels\": false, \"title\": {\"font\": {\"color\": \"white\"}}, \"zeroline\": false}}, \"showlegend\": false, \"updatemenus\": [{\"buttons\": [{\"args\": [{\"scene.annotations\": [{\"showarrow\": false, \"text\": 0, \"x\": 1.1823021059999999, \"y\": 1.442858134, \"yshift\": 15, \"z\": 0.2975428168}, {\"showarrow\": false, \"text\": 1, \"x\": 0.2115087571, \"y\": 0.2985793897, \"yshift\": 15, \"z\": -0.027096836699999998}, {\"showarrow\": false, \"text\": 2, \"x\": 0.5367999565, \"y\": -0.4437906414, \"yshift\": 15, \"z\": -1.322766559}, {\"showarrow\": false, \"text\": 3, \"x\": 1.735916363, \"y\": -1.372646073, \"yshift\": 15, \"z\": -1.274073835}, {\"showarrow\": false, \"text\": 4, \"x\": 0.34664254479999995, \"y\": -1.949619992, \"yshift\": 15, \"z\": -1.3889159290000002}, {\"showarrow\": false, \"text\": 5, \"x\": -0.2676080396, \"y\": -2.7970818619999998, \"yshift\": 15, \"z\": -0.2944067984}, {\"showarrow\": false, \"text\": 6, \"x\": 0.2123222632, \"y\": 0.3692477205, \"yshift\": 15, \"z\": -2.5934010169999997}, {\"showarrow\": false, \"text\": 7, \"x\": 1.018484868, \"y\": -0.0184400163, \"yshift\": 15, \"z\": -3.8412446030000003}, {\"showarrow\": false, \"text\": 8, \"x\": -1.295283912, \"y\": 0.3226678695, \"yshift\": 15, \"z\": -2.90061471}, {\"showarrow\": false, \"text\": 9, \"x\": 2.208877138, \"y\": 1.072505318, \"yshift\": 15, \"z\": 0.3870818253}, {\"showarrow\": false, \"text\": 10, \"x\": 1.178465359, \"y\": 2.220165946, \"yshift\": 15, \"z\": -0.47306486020000005}, {\"showarrow\": false, \"text\": 11, \"x\": 0.9140064995, \"y\": 1.92172531, \"yshift\": 15, \"z\": 1.244782859}, {\"showarrow\": false, \"text\": 12, \"x\": 0.21785889379999998, \"y\": -0.4027283623, \"yshift\": 15, \"z\": 0.8126588139}, {\"showarrow\": false, \"text\": 13, \"x\": -0.8111152226999999, \"y\": 0.6943731601, \"yshift\": 15, \"z\": -0.0744816109}, {\"showarrow\": false, \"text\": 14, \"x\": 2.404492518, \"y\": -1.445441199, \"yshift\": 15, \"z\": -2.123626449}, {\"showarrow\": false, \"text\": 15, \"x\": 2.237227535, \"y\": -1.471747058, \"yshift\": 15, \"z\": -0.31498410649999997}, {\"showarrow\": false, \"text\": 16, \"x\": 0.0963913085, \"y\": -2.3121700869999997, \"yshift\": 15, \"z\": -2.383986581}, {\"showarrow\": false, \"text\": 17, \"x\": 0.0633289168, \"y\": -2.495171365, \"yshift\": 15, \"z\": 0.7028598505}, {\"showarrow\": false, \"text\": 18, \"x\": -1.3625573819999999, \"y\": -2.7479599639999996, \"yshift\": 15, \"z\": -0.3109841618}, {\"showarrow\": false, \"text\": 19, \"x\": 0.0170065112, \"y\": -3.8477894580000003, \"yshift\": 15, \"z\": -0.42198269509999997}, {\"showarrow\": false, \"text\": 20, \"x\": 0.46649396090000006, \"y\": 1.414945703, \"yshift\": 15, \"z\": -2.375686429}, {\"showarrow\": false, \"text\": 21, \"x\": 0.8619345740000001, \"y\": -1.065080003, \"yshift\": 15, \"z\": -4.126831402}, {\"showarrow\": false, \"text\": 22, \"x\": 0.7080417306, \"y\": 0.5964746906, \"yshift\": 15, \"z\": -4.692357923}, {\"showarrow\": false, \"text\": 23, \"x\": 2.091301495, \"y\": 0.13583860720000002, \"yshift\": 15, \"z\": -3.696176168}, {\"showarrow\": false, \"text\": 24, \"x\": -1.545855346, \"y\": 0.9943505049, \"yshift\": 15, \"z\": -3.7285284610000002}, {\"showarrow\": false, \"text\": 25, \"x\": -1.605199807, \"y\": -0.6886456266, \"yshift\": 15, \"z\": -3.186509366}, {\"showarrow\": false, \"text\": 26, \"x\": -1.89802902, \"y\": 0.6214998743, \"yshift\": 15, \"z\": -2.037839915}]}], \"label\": \"Atom indices\", \"method\": \"relayout\"}, {\"args\": [{\"scene.annotations\": [{\"showarrow\": false, \"text\": 1.54, \"x\": 0.69690543155, \"y\": 0.87071876185, \"yshift\": 15, \"z\": 0.13522299005}, {\"showarrow\": false, \"text\": 1.53, \"x\": 0.3741543568, \"y\": -0.07260562585, \"yshift\": 15, \"z\": -0.67493169785}, {\"showarrow\": false, \"text\": 1.52, \"x\": 1.13635815975, \"y\": -0.9082183572, \"yshift\": 15, \"z\": -1.298420197}, {\"showarrow\": false, \"text\": 1.51, \"x\": 1.0412794539, \"y\": -1.6611330325, \"yshift\": 15, \"z\": -1.331494882}, {\"showarrow\": false, \"text\": 1.51, \"x\": 0.0395172526, \"y\": -2.373350927, \"yshift\": 15, \"z\": -0.8416613637}, {\"showarrow\": false, \"text\": 1.54, \"x\": 0.6154035656, \"y\": 0.1754038521, \"yshift\": 15, \"z\": -3.21732281}, {\"showarrow\": false, \"text\": 1.52, \"x\": 0.44172125065, \"y\": -1.1967053167, \"yshift\": 15, \"z\": -1.355841244}, {\"showarrow\": false, \"text\": 1.54, \"x\": -0.5414808244, \"y\": 0.345957795, \"yshift\": 15, \"z\": -2.7470078635}, {\"showarrow\": false, \"text\": 1.54, \"x\": 0.37456110985, \"y\": -0.03727146045, \"yshift\": 15, \"z\": -1.958083788}, {\"showarrow\": false, \"text\": 1.1, \"x\": 1.695589622, \"y\": 1.257681726, \"yshift\": 15, \"z\": 0.34231232105}, {\"showarrow\": false, \"text\": 1.09, \"x\": -1.596656466, \"y\": 0.4720838719, \"yshift\": 15, \"z\": -2.4692273125}, {\"showarrow\": false, \"text\": 1.09, \"x\": 1.1803837325, \"y\": 1.83151204, \"yshift\": 15, \"z\": -0.0877610217}, {\"showarrow\": false, \"text\": 1.1, \"x\": -1.4502418595, \"y\": -0.18298887855, \"yshift\": 15, \"z\": -3.043562038}, {\"showarrow\": false, \"text\": 1.09, \"x\": 1.04815430275, \"y\": 1.682291722, \"yshift\": 15, \"z\": 0.7711628379}, {\"showarrow\": false, \"text\": 1.09, \"x\": 0.21468382545, \"y\": -0.0520744863, \"yshift\": 15, \"z\": 0.3927809886}, {\"showarrow\": false, \"text\": 1.08, \"x\": 2.0702044405, \"y\": -1.409043636, \"yshift\": 15, \"z\": -1.698850142}, {\"showarrow\": false, \"text\": 1.09, \"x\": 1.5548931815, \"y\": 0.05869929545, \"yshift\": 15, \"z\": -3.7687103855}, {\"showarrow\": false, \"text\": 1.1, \"x\": -1.420569629, \"y\": 0.6585091872, \"yshift\": 15, \"z\": -3.3145715855}, {\"showarrow\": false, \"text\": 1.1, \"x\": -0.2998032328, \"y\": 0.4964762749, \"yshift\": 15, \"z\": -0.0507892238}, {\"showarrow\": false, \"text\": 1.09, \"x\": 1.986571949, \"y\": -1.4221965655, \"yshift\": 15, \"z\": -0.79452897075}, {\"showarrow\": false, \"text\": 1.09, \"x\": 0.22151692665, \"y\": -2.1308950395, \"yshift\": 15, \"z\": -1.886451255}, {\"showarrow\": false, \"text\": 1.09, \"x\": -0.1021395614, \"y\": -2.6461266135, \"yshift\": 15, \"z\": 0.20422652605}, {\"showarrow\": false, \"text\": 1.09, \"x\": 0.8632632993, \"y\": 0.28901733715, \"yshift\": 15, \"z\": -4.266801263}, {\"showarrow\": false, \"text\": 1.1, \"x\": -0.8150827108, \"y\": -2.772520913, \"yshift\": 15, \"z\": -0.3026954801}, {\"showarrow\": false, \"text\": 1.1, \"x\": -0.1253007642, \"y\": -3.32243566, \"yshift\": 15, \"z\": -0.35819474675}, {\"showarrow\": false, \"text\": 1.1, \"x\": 0.33940811205, \"y\": 0.89209671175, \"yshift\": 15, \"z\": -2.484543723}, {\"showarrow\": false, \"text\": 1.1, \"x\": 0.940209721, \"y\": -0.54176000965, \"yshift\": 15, \"z\": -3.9840380025}]}], \"label\": \"Bond lengths\", \"method\": \"relayout\"}, {\"args\": [{\"scene.annotations\": [{\"showarrow\": false, \"text\": 0, \"x\": 1.1823021059999999, \"y\": 1.442858134, \"yshift\": 15, \"z\": 0.2975428168}, {\"showarrow\": false, \"text\": 1, \"x\": 0.2115087571, \"y\": 0.2985793897, \"yshift\": 15, \"z\": -0.027096836699999998}, {\"showarrow\": false, \"text\": 2, \"x\": 0.5367999565, \"y\": -0.4437906414, \"yshift\": 15, \"z\": -1.322766559}, {\"showarrow\": false, \"text\": 3, \"x\": 1.735916363, \"y\": -1.372646073, \"yshift\": 15, \"z\": -1.274073835}, {\"showarrow\": false, \"text\": 4, \"x\": 0.34664254479999995, \"y\": -1.949619992, \"yshift\": 15, \"z\": -1.3889159290000002}, {\"showarrow\": false, \"text\": 5, \"x\": -0.2676080396, \"y\": -2.7970818619999998, \"yshift\": 15, \"z\": -0.2944067984}, {\"showarrow\": false, \"text\": 6, \"x\": 0.2123222632, \"y\": 0.3692477205, \"yshift\": 15, \"z\": -2.5934010169999997}, {\"showarrow\": false, \"text\": 7, \"x\": 1.018484868, \"y\": -0.0184400163, \"yshift\": 15, \"z\": -3.8412446030000003}, {\"showarrow\": false, \"text\": 8, \"x\": -1.295283912, \"y\": 0.3226678695, \"yshift\": 15, \"z\": -2.90061471}, {\"showarrow\": false, \"text\": 9, \"x\": 2.208877138, \"y\": 1.072505318, \"yshift\": 15, \"z\": 0.3870818253}, {\"showarrow\": false, \"text\": 10, \"x\": 1.178465359, \"y\": 2.220165946, \"yshift\": 15, \"z\": -0.47306486020000005}, {\"showarrow\": false, \"text\": 11, \"x\": 0.9140064995, \"y\": 1.92172531, \"yshift\": 15, \"z\": 1.244782859}, {\"showarrow\": false, \"text\": 12, \"x\": 0.21785889379999998, \"y\": -0.4027283623, \"yshift\": 15, \"z\": 0.8126588139}, {\"showarrow\": false, \"text\": 13, \"x\": -0.8111152226999999, \"y\": 0.6943731601, \"yshift\": 15, \"z\": -0.0744816109}, {\"showarrow\": false, \"text\": 14, \"x\": 2.404492518, \"y\": -1.445441199, \"yshift\": 15, \"z\": -2.123626449}, {\"showarrow\": false, \"text\": 15, \"x\": 2.237227535, \"y\": -1.471747058, \"yshift\": 15, \"z\": -0.31498410649999997}, {\"showarrow\": false, \"text\": 16, \"x\": 0.0963913085, \"y\": -2.3121700869999997, \"yshift\": 15, \"z\": -2.383986581}, {\"showarrow\": false, \"text\": 17, \"x\": 0.0633289168, \"y\": -2.495171365, \"yshift\": 15, \"z\": 0.7028598505}, {\"showarrow\": false, \"text\": 18, \"x\": -1.3625573819999999, \"y\": -2.7479599639999996, \"yshift\": 15, \"z\": -0.3109841618}, {\"showarrow\": false, \"text\": 19, \"x\": 0.0170065112, \"y\": -3.8477894580000003, \"yshift\": 15, \"z\": -0.42198269509999997}, {\"showarrow\": false, \"text\": 20, \"x\": 0.46649396090000006, \"y\": 1.414945703, \"yshift\": 15, \"z\": -2.375686429}, {\"showarrow\": false, \"text\": 21, \"x\": 0.8619345740000001, \"y\": -1.065080003, \"yshift\": 15, \"z\": -4.126831402}, {\"showarrow\": false, \"text\": 22, \"x\": 0.7080417306, \"y\": 0.5964746906, \"yshift\": 15, \"z\": -4.692357923}, {\"showarrow\": false, \"text\": 23, \"x\": 2.091301495, \"y\": 0.13583860720000002, \"yshift\": 15, \"z\": -3.696176168}, {\"showarrow\": false, \"text\": 24, \"x\": -1.545855346, \"y\": 0.9943505049, \"yshift\": 15, \"z\": -3.7285284610000002}, {\"showarrow\": false, \"text\": 25, \"x\": -1.605199807, \"y\": -0.6886456266, \"yshift\": 15, \"z\": -3.186509366}, {\"showarrow\": false, \"text\": 26, \"x\": -1.89802902, \"y\": 0.6214998743, \"yshift\": 15, \"z\": -2.037839915}, {\"showarrow\": false, \"text\": 1.54, \"x\": 0.69690543155, \"y\": 0.87071876185, \"yshift\": 15, \"z\": 0.13522299005}, {\"showarrow\": false, \"text\": 1.53, \"x\": 0.3741543568, \"y\": -0.07260562585, \"yshift\": 15, \"z\": -0.67493169785}, {\"showarrow\": false, \"text\": 1.52, \"x\": 1.13635815975, \"y\": -0.9082183572, \"yshift\": 15, \"z\": -1.298420197}, {\"showarrow\": false, \"text\": 1.51, \"x\": 1.0412794539, \"y\": -1.6611330325, \"yshift\": 15, \"z\": -1.331494882}, {\"showarrow\": false, \"text\": 1.51, \"x\": 0.0395172526, \"y\": -2.373350927, \"yshift\": 15, \"z\": -0.8416613637}, {\"showarrow\": false, \"text\": 1.54, \"x\": 0.6154035656, \"y\": 0.1754038521, \"yshift\": 15, \"z\": -3.21732281}, {\"showarrow\": false, \"text\": 1.52, \"x\": 0.44172125065, \"y\": -1.1967053167, \"yshift\": 15, \"z\": -1.355841244}, {\"showarrow\": false, \"text\": 1.54, \"x\": -0.5414808244, \"y\": 0.345957795, \"yshift\": 15, \"z\": -2.7470078635}, {\"showarrow\": false, \"text\": 1.54, \"x\": 0.37456110985, \"y\": -0.03727146045, \"yshift\": 15, \"z\": -1.958083788}, {\"showarrow\": false, \"text\": 1.1, \"x\": 1.695589622, \"y\": 1.257681726, \"yshift\": 15, \"z\": 0.34231232105}, {\"showarrow\": false, \"text\": 1.09, \"x\": -1.596656466, \"y\": 0.4720838719, \"yshift\": 15, \"z\": -2.4692273125}, {\"showarrow\": false, \"text\": 1.09, \"x\": 1.1803837325, \"y\": 1.83151204, \"yshift\": 15, \"z\": -0.0877610217}, {\"showarrow\": false, \"text\": 1.1, \"x\": -1.4502418595, \"y\": -0.18298887855, \"yshift\": 15, \"z\": -3.043562038}, {\"showarrow\": false, \"text\": 1.09, \"x\": 1.04815430275, \"y\": 1.682291722, \"yshift\": 15, \"z\": 0.7711628379}, {\"showarrow\": false, \"text\": 1.09, \"x\": 0.21468382545, \"y\": -0.0520744863, \"yshift\": 15, \"z\": 0.3927809886}, {\"showarrow\": false, \"text\": 1.08, \"x\": 2.0702044405, \"y\": -1.409043636, \"yshift\": 15, \"z\": -1.698850142}, {\"showarrow\": false, \"text\": 1.09, \"x\": 1.5548931815, \"y\": 0.05869929545, \"yshift\": 15, \"z\": -3.7687103855}, {\"showarrow\": false, \"text\": 1.1, \"x\": -1.420569629, \"y\": 0.6585091872, \"yshift\": 15, \"z\": -3.3145715855}, {\"showarrow\": false, \"text\": 1.1, \"x\": -0.2998032328, \"y\": 0.4964762749, \"yshift\": 15, \"z\": -0.0507892238}, {\"showarrow\": false, \"text\": 1.09, \"x\": 1.986571949, \"y\": -1.4221965655, \"yshift\": 15, \"z\": -0.79452897075}, {\"showarrow\": false, \"text\": 1.09, \"x\": 0.22151692665, \"y\": -2.1308950395, \"yshift\": 15, \"z\": -1.886451255}, {\"showarrow\": false, \"text\": 1.09, \"x\": -0.1021395614, \"y\": -2.6461266135, \"yshift\": 15, \"z\": 0.20422652605}, {\"showarrow\": false, \"text\": 1.09, \"x\": 0.8632632993, \"y\": 0.28901733715, \"yshift\": 15, \"z\": -4.266801263}, {\"showarrow\": false, \"text\": 1.1, \"x\": -0.8150827108, \"y\": -2.772520913, \"yshift\": 15, \"z\": -0.3026954801}, {\"showarrow\": false, \"text\": 1.1, \"x\": -0.1253007642, \"y\": -3.32243566, \"yshift\": 15, \"z\": -0.35819474675}, {\"showarrow\": false, \"text\": 1.1, \"x\": 0.33940811205, \"y\": 0.89209671175, \"yshift\": 15, \"z\": -2.484543723}, {\"showarrow\": false, \"text\": 1.1, \"x\": 0.940209721, \"y\": -0.54176000965, \"yshift\": 15, \"z\": -3.9840380025}]}], \"label\": \"Atom indices & Bond lengths\", \"method\": \"relayout\"}, {\"args\": [{\"scene.annotations\": []}], \"label\": \"Hide all\", \"method\": \"relayout\"}], \"direction\": \"down\", \"xanchor\": \"left\", \"yanchor\": \"top\"}]},\n",
       "                        {\"showLink\": false, \"linkText\": \"Export to plot.ly\", \"plotlyServerURL\": \"https://plot.ly\", \"responsive\": true}\n",
       "                    ).then(function(){\n",
       "                            \n",
       "var gd = document.getElementById('aaf20b09-8169-4e16-bf89-b1b7a7f10d37');\n",
       "var x = new MutationObserver(function (mutations, observer) {{\n",
       "        var display = window.getComputedStyle(gd).display;\n",
       "        if (!display || display === 'none') {{\n",
       "            console.log([gd, 'removed!']);\n",
       "            Plotly.purge(gd);\n",
       "            observer.disconnect();\n",
       "        }}\n",
       "}});\n",
       "\n",
       "// Listen for the removal of the full notebook cells\n",
       "var notebookContainer = gd.closest('#notebook-container');\n",
       "if (notebookContainer) {{\n",
       "    x.observe(notebookContainer, {childList: true});\n",
       "}}\n",
       "\n",
       "// Listen for the clearing of the current output cell\n",
       "var outputEl = gd.closest('.output');\n",
       "if (outputEl) {{\n",
       "    x.observe(outputEl, {childList: true});\n",
       "}}\n",
       "\n",
       "                        })\n",
       "                };\n",
       "                });\n",
       "            </script>\n",
       "        </div>"
      ]
     },
     "metadata": {},
     "output_type": "display_data"
    }
   ],
   "source": [
    "plot_molecule('dsgdb9nsd_105227', structures)"
   ]
  },
  {
   "cell_type": "code",
   "execution_count": 4,
   "metadata": {},
   "outputs": [
    {
     "data": {
      "application/vnd.plotly.v1+json": {
       "config": {
        "linkText": "Export to plot.ly",
        "plotlyServerURL": "https://plot.ly",
        "showLink": false
       },
       "data": [
        {
         "marker": {
          "color": [
           "black",
           "black",
           "black",
           "black",
           "black",
           "black",
           "black",
           "black",
           "black",
           "white",
           "white",
           "white",
           "white",
           "white",
           "white",
           "white",
           "white",
           "white",
           "white",
           "white",
           "white",
           "white",
           "white",
           "white",
           "white",
           "white",
           "white",
           "white",
           "white"
          ],
          "line": {
           "color": "lightgray",
           "width": 2
          },
          "opacity": 0.8,
          "size": 7,
          "symbol": "circle"
         },
         "mode": "markers",
         "name": "",
         "text": [
          "C",
          "C",
          "C",
          "C",
          "C",
          "C",
          "C",
          "C",
          "C",
          "H",
          "H",
          "H",
          "H",
          "H",
          "H",
          "H",
          "H",
          "H",
          "H",
          "H",
          "H",
          "H",
          "H",
          "H",
          "H",
          "H",
          "H",
          "H",
          "H"
         ],
         "type": "scatter3d",
         "uid": "6f041e5a-43c6-4629-8117-091cf0757879",
         "x": [
          -0.0516921211,
          -0.1432825244,
          0.7232621459999999,
          0.1238245416,
          2.157210129,
          0.7428933326,
          -0.6759062129000001,
          1.31159294,
          1.6186126730000001,
          0.9480097826999999,
          -0.3092738062,
          -0.7508269465,
          0.12227674990000001,
          -1.192357123,
          -0.0006103823999999999,
          0.7729881094,
          -0.8596096222,
          2.580025748,
          2.834657692,
          2.164788549,
          -1.381022363,
          -0.6427266620000001,
          -1.086960082,
          2.2932008880000003,
          1.4330460090000001,
          0.6453360499,
          1.325710642,
          1.520565454,
          2.678386831
         ],
         "y": [
          1.595759449,
          0.0889346097,
          -0.4584290076,
          0.0501887372,
          0.10442007800000001,
          -2.050006231,
          -2.634685029,
          -2.634483827,
          -2.579973006,
          1.8943453369999999,
          2.200721494,
          1.86842654,
          -0.4379293295,
          -0.15703497630000002,
          1.136766667,
          -0.1743256111,
          -0.3845220736,
          -0.0376716686,
          -0.3640105429,
          1.1780230520000001,
          -2.255239187,
          -3.72399217,
          -2.423118681,
          -2.2219338509999997,
          -3.7183363839999997,
          -2.460897357,
          -2.1679296519999998,
          -3.668834055,
          -2.358743505
         ],
         "z": [
          0.1533218843,
          -0.1272520405,
          -1.300876188,
          -2.6308841519999997,
          -1.187704771,
          -1.266926595,
          -1.084507557,
          -2.5795749,
          -0.1091192601,
          0.481421173,
          -0.7217730353,
          0.9505787670999999,
          0.7962946154,
          -0.3240585306,
          -2.604969604,
          -3.481458537,
          -2.834517706,
          -0.18893727940000002,
          -1.907436446,
          -1.396398206,
          -1.8303136880000002,
          -1.195436365,
          -0.09406155990000001,
          -2.8316444169999997,
          -2.4781804640000002,
          -3.428841438,
          0.861082772,
          -0.0402536398,
          -0.2618302212
         ]
        },
        {
         "hoverinfo": "none",
         "marker": {
          "color": "grey",
          "opacity": 1,
          "size": 7
         },
         "mode": "lines",
         "type": "scatter3d",
         "uid": "34c41730-308a-4b6f-b9b8-40fcaf3573ce",
         "x": [
          -0.0516921211,
          -0.1432825244,
          null,
          -0.1432825244,
          0.7232621459999999,
          null,
          0.7232621459999999,
          0.1238245416,
          null,
          0.7428933326,
          -0.6759062129000001,
          null,
          0.7232621459999999,
          2.157210129,
          null,
          0.7428933326,
          1.31159294,
          null,
          0.7232621459999999,
          0.7428933326,
          null,
          1.6186126730000001,
          0.7428933326,
          null,
          -0.0516921211,
          0.9480097826999999,
          null,
          1.6186126730000001,
          2.678386831,
          null,
          -0.0516921211,
          -0.3092738062,
          null,
          1.6186126730000001,
          1.520565454,
          null,
          -0.0516921211,
          -0.7508269465,
          null,
          -0.1432825244,
          0.12227674990000001,
          null,
          0.1238245416,
          -0.0006103823999999999,
          null,
          0.6453360499,
          1.31159294,
          null,
          1.6186126730000001,
          1.325710642,
          null,
          -0.1432825244,
          -1.192357123,
          null,
          0.1238245416,
          0.7729881094,
          null,
          1.4330460090000001,
          1.31159294,
          null,
          -0.8596096222,
          0.1238245416,
          null,
          2.580025748,
          2.157210129,
          null,
          -1.086960082,
          -0.6759062129000001,
          null,
          1.31159294,
          2.2932008880000003,
          null,
          2.834657692,
          2.157210129,
          null,
          -1.381022363,
          -0.6759062129000001,
          null,
          2.164788549,
          2.157210129,
          null,
          -0.6427266620000001,
          -0.6759062129000001,
          null
         ],
         "y": [
          1.595759449,
          0.0889346097,
          null,
          0.0889346097,
          -0.4584290076,
          null,
          -0.4584290076,
          0.0501887372,
          null,
          -2.050006231,
          -2.634685029,
          null,
          -0.4584290076,
          0.10442007800000001,
          null,
          -2.050006231,
          -2.634483827,
          null,
          -0.4584290076,
          -2.050006231,
          null,
          -2.579973006,
          -2.050006231,
          null,
          1.595759449,
          1.8943453369999999,
          null,
          -2.579973006,
          -2.358743505,
          null,
          1.595759449,
          2.200721494,
          null,
          -2.579973006,
          -3.668834055,
          null,
          1.595759449,
          1.86842654,
          null,
          0.0889346097,
          -0.4379293295,
          null,
          0.0501887372,
          1.136766667,
          null,
          -2.460897357,
          -2.634483827,
          null,
          -2.579973006,
          -2.1679296519999998,
          null,
          0.0889346097,
          -0.15703497630000002,
          null,
          0.0501887372,
          -0.1743256111,
          null,
          -3.7183363839999997,
          -2.634483827,
          null,
          -0.3845220736,
          0.0501887372,
          null,
          -0.0376716686,
          0.10442007800000001,
          null,
          -2.423118681,
          -2.634685029,
          null,
          -2.634483827,
          -2.2219338509999997,
          null,
          -0.3640105429,
          0.10442007800000001,
          null,
          -2.255239187,
          -2.634685029,
          null,
          1.1780230520000001,
          0.10442007800000001,
          null,
          -3.72399217,
          -2.634685029,
          null
         ],
         "z": [
          0.1533218843,
          -0.1272520405,
          null,
          -0.1272520405,
          -1.300876188,
          null,
          -1.300876188,
          -2.6308841519999997,
          null,
          -1.266926595,
          -1.084507557,
          null,
          -1.300876188,
          -1.187704771,
          null,
          -1.266926595,
          -2.5795749,
          null,
          -1.300876188,
          -1.266926595,
          null,
          -0.1091192601,
          -1.266926595,
          null,
          0.1533218843,
          0.481421173,
          null,
          -0.1091192601,
          -0.2618302212,
          null,
          0.1533218843,
          -0.7217730353,
          null,
          -0.1091192601,
          -0.0402536398,
          null,
          0.1533218843,
          0.9505787670999999,
          null,
          -0.1272520405,
          0.7962946154,
          null,
          -2.6308841519999997,
          -2.604969604,
          null,
          -3.428841438,
          -2.5795749,
          null,
          -0.1091192601,
          0.861082772,
          null,
          -0.1272520405,
          -0.3240585306,
          null,
          -2.6308841519999997,
          -3.481458537,
          null,
          -2.4781804640000002,
          -2.5795749,
          null,
          -2.834517706,
          -2.6308841519999997,
          null,
          -0.18893727940000002,
          -1.187704771,
          null,
          -0.09406155990000001,
          -1.084507557,
          null,
          -2.5795749,
          -2.8316444169999997,
          null,
          -1.907436446,
          -1.187704771,
          null,
          -1.8303136880000002,
          -1.084507557,
          null,
          -1.396398206,
          -1.187704771,
          null,
          -1.195436365,
          -1.084507557,
          null
         ]
        }
       ],
       "layout": {
        "margin": {
         "b": 0,
         "l": 0,
         "r": 0,
         "t": 0
        },
        "scene": {
         "annotations": [
          {
           "showarrow": false,
           "text": "0",
           "x": -0.0516921211,
           "y": 1.595759449,
           "yshift": 15,
           "z": 0.1533218843
          },
          {
           "showarrow": false,
           "text": "1",
           "x": -0.1432825244,
           "y": 0.0889346097,
           "yshift": 15,
           "z": -0.1272520405
          },
          {
           "showarrow": false,
           "text": "2",
           "x": 0.7232621459999999,
           "y": -0.4584290076,
           "yshift": 15,
           "z": -1.300876188
          },
          {
           "showarrow": false,
           "text": "3",
           "x": 0.1238245416,
           "y": 0.0501887372,
           "yshift": 15,
           "z": -2.6308841519999997
          },
          {
           "showarrow": false,
           "text": "4",
           "x": 2.157210129,
           "y": 0.10442007800000001,
           "yshift": 15,
           "z": -1.187704771
          },
          {
           "showarrow": false,
           "text": "5",
           "x": 0.7428933326,
           "y": -2.050006231,
           "yshift": 15,
           "z": -1.266926595
          },
          {
           "showarrow": false,
           "text": "6",
           "x": -0.6759062129000001,
           "y": -2.634685029,
           "yshift": 15,
           "z": -1.084507557
          },
          {
           "showarrow": false,
           "text": "7",
           "x": 1.31159294,
           "y": -2.634483827,
           "yshift": 15,
           "z": -2.5795749
          },
          {
           "showarrow": false,
           "text": "8",
           "x": 1.6186126730000001,
           "y": -2.579973006,
           "yshift": 15,
           "z": -0.1091192601
          },
          {
           "showarrow": false,
           "text": "9",
           "x": 0.9480097826999999,
           "y": 1.8943453369999999,
           "yshift": 15,
           "z": 0.481421173
          },
          {
           "showarrow": false,
           "text": "10",
           "x": -0.3092738062,
           "y": 2.200721494,
           "yshift": 15,
           "z": -0.7217730353
          },
          {
           "showarrow": false,
           "text": "11",
           "x": -0.7508269465,
           "y": 1.86842654,
           "yshift": 15,
           "z": 0.9505787670999999
          },
          {
           "showarrow": false,
           "text": "12",
           "x": 0.12227674990000001,
           "y": -0.4379293295,
           "yshift": 15,
           "z": 0.7962946154
          },
          {
           "showarrow": false,
           "text": "13",
           "x": -1.192357123,
           "y": -0.15703497630000002,
           "yshift": 15,
           "z": -0.3240585306
          },
          {
           "showarrow": false,
           "text": "14",
           "x": -0.0006103823999999999,
           "y": 1.136766667,
           "yshift": 15,
           "z": -2.604969604
          },
          {
           "showarrow": false,
           "text": "15",
           "x": 0.7729881094,
           "y": -0.1743256111,
           "yshift": 15,
           "z": -3.481458537
          },
          {
           "showarrow": false,
           "text": "16",
           "x": -0.8596096222,
           "y": -0.3845220736,
           "yshift": 15,
           "z": -2.834517706
          },
          {
           "showarrow": false,
           "text": "17",
           "x": 2.580025748,
           "y": -0.0376716686,
           "yshift": 15,
           "z": -0.18893727940000002
          },
          {
           "showarrow": false,
           "text": "18",
           "x": 2.834657692,
           "y": -0.3640105429,
           "yshift": 15,
           "z": -1.907436446
          },
          {
           "showarrow": false,
           "text": "19",
           "x": 2.164788549,
           "y": 1.1780230520000001,
           "yshift": 15,
           "z": -1.396398206
          },
          {
           "showarrow": false,
           "text": "20",
           "x": -1.381022363,
           "y": -2.255239187,
           "yshift": 15,
           "z": -1.8303136880000002
          },
          {
           "showarrow": false,
           "text": "21",
           "x": -0.6427266620000001,
           "y": -3.72399217,
           "yshift": 15,
           "z": -1.195436365
          },
          {
           "showarrow": false,
           "text": "22",
           "x": -1.086960082,
           "y": -2.423118681,
           "yshift": 15,
           "z": -0.09406155990000001
          },
          {
           "showarrow": false,
           "text": "23",
           "x": 2.2932008880000003,
           "y": -2.2219338509999997,
           "yshift": 15,
           "z": -2.8316444169999997
          },
          {
           "showarrow": false,
           "text": "24",
           "x": 1.4330460090000001,
           "y": -3.7183363839999997,
           "yshift": 15,
           "z": -2.4781804640000002
          },
          {
           "showarrow": false,
           "text": "25",
           "x": 0.6453360499,
           "y": -2.460897357,
           "yshift": 15,
           "z": -3.428841438
          },
          {
           "showarrow": false,
           "text": "26",
           "x": 1.325710642,
           "y": -2.1679296519999998,
           "yshift": 15,
           "z": 0.861082772
          },
          {
           "showarrow": false,
           "text": "27",
           "x": 1.520565454,
           "y": -3.668834055,
           "yshift": 15,
           "z": -0.0402536398
          },
          {
           "showarrow": false,
           "text": "28",
           "x": 2.678386831,
           "y": -2.358743505,
           "yshift": 15,
           "z": -0.2618302212
          }
         ],
         "aspectmode": "auto",
         "aspectratio": {
          "x": 0.8779871727163441,
          "y": 1.233922529969901,
          "z": 0.923047254827816
         },
         "xaxis": {
          "showgrid": false,
          "showticklabels": false,
          "title": {
           "font": {
            "color": "white"
           }
          },
          "type": "linear",
          "zeroline": false
         },
         "yaxis": {
          "showgrid": false,
          "showticklabels": false,
          "title": {
           "font": {
            "color": "white"
           }
          },
          "type": "linear",
          "zeroline": false
         },
         "zaxis": {
          "showgrid": false,
          "showticklabels": false,
          "title": {
           "font": {
            "color": "white"
           }
          },
          "type": "linear",
          "zeroline": false
         }
        },
        "showlegend": false,
        "updatemenus": [
         {
          "buttons": [
           {
            "args": [
             {
              "scene.annotations": [
               {
                "showarrow": false,
                "text": 0,
                "x": -0.0516921211,
                "y": 1.595759449,
                "yshift": 15,
                "z": 0.1533218843
               },
               {
                "showarrow": false,
                "text": 1,
                "x": -0.1432825244,
                "y": 0.0889346097,
                "yshift": 15,
                "z": -0.1272520405
               },
               {
                "showarrow": false,
                "text": 2,
                "x": 0.7232621459999999,
                "y": -0.4584290076,
                "yshift": 15,
                "z": -1.300876188
               },
               {
                "showarrow": false,
                "text": 3,
                "x": 0.1238245416,
                "y": 0.0501887372,
                "yshift": 15,
                "z": -2.6308841519999997
               },
               {
                "showarrow": false,
                "text": 4,
                "x": 2.157210129,
                "y": 0.10442007800000001,
                "yshift": 15,
                "z": -1.187704771
               },
               {
                "showarrow": false,
                "text": 5,
                "x": 0.7428933326,
                "y": -2.050006231,
                "yshift": 15,
                "z": -1.266926595
               },
               {
                "showarrow": false,
                "text": 6,
                "x": -0.6759062129000001,
                "y": -2.634685029,
                "yshift": 15,
                "z": -1.084507557
               },
               {
                "showarrow": false,
                "text": 7,
                "x": 1.31159294,
                "y": -2.634483827,
                "yshift": 15,
                "z": -2.5795749
               },
               {
                "showarrow": false,
                "text": 8,
                "x": 1.6186126730000001,
                "y": -2.579973006,
                "yshift": 15,
                "z": -0.1091192601
               },
               {
                "showarrow": false,
                "text": 9,
                "x": 0.9480097826999999,
                "y": 1.8943453369999999,
                "yshift": 15,
                "z": 0.481421173
               },
               {
                "showarrow": false,
                "text": 10,
                "x": -0.3092738062,
                "y": 2.200721494,
                "yshift": 15,
                "z": -0.7217730353
               },
               {
                "showarrow": false,
                "text": 11,
                "x": -0.7508269465,
                "y": 1.86842654,
                "yshift": 15,
                "z": 0.9505787670999999
               },
               {
                "showarrow": false,
                "text": 12,
                "x": 0.12227674990000001,
                "y": -0.4379293295,
                "yshift": 15,
                "z": 0.7962946154
               },
               {
                "showarrow": false,
                "text": 13,
                "x": -1.192357123,
                "y": -0.15703497630000002,
                "yshift": 15,
                "z": -0.3240585306
               },
               {
                "showarrow": false,
                "text": 14,
                "x": -0.0006103823999999999,
                "y": 1.136766667,
                "yshift": 15,
                "z": -2.604969604
               },
               {
                "showarrow": false,
                "text": 15,
                "x": 0.7729881094,
                "y": -0.1743256111,
                "yshift": 15,
                "z": -3.481458537
               },
               {
                "showarrow": false,
                "text": 16,
                "x": -0.8596096222,
                "y": -0.3845220736,
                "yshift": 15,
                "z": -2.834517706
               },
               {
                "showarrow": false,
                "text": 17,
                "x": 2.580025748,
                "y": -0.0376716686,
                "yshift": 15,
                "z": -0.18893727940000002
               },
               {
                "showarrow": false,
                "text": 18,
                "x": 2.834657692,
                "y": -0.3640105429,
                "yshift": 15,
                "z": -1.907436446
               },
               {
                "showarrow": false,
                "text": 19,
                "x": 2.164788549,
                "y": 1.1780230520000001,
                "yshift": 15,
                "z": -1.396398206
               },
               {
                "showarrow": false,
                "text": 20,
                "x": -1.381022363,
                "y": -2.255239187,
                "yshift": 15,
                "z": -1.8303136880000002
               },
               {
                "showarrow": false,
                "text": 21,
                "x": -0.6427266620000001,
                "y": -3.72399217,
                "yshift": 15,
                "z": -1.195436365
               },
               {
                "showarrow": false,
                "text": 22,
                "x": -1.086960082,
                "y": -2.423118681,
                "yshift": 15,
                "z": -0.09406155990000001
               },
               {
                "showarrow": false,
                "text": 23,
                "x": 2.2932008880000003,
                "y": -2.2219338509999997,
                "yshift": 15,
                "z": -2.8316444169999997
               },
               {
                "showarrow": false,
                "text": 24,
                "x": 1.4330460090000001,
                "y": -3.7183363839999997,
                "yshift": 15,
                "z": -2.4781804640000002
               },
               {
                "showarrow": false,
                "text": 25,
                "x": 0.6453360499,
                "y": -2.460897357,
                "yshift": 15,
                "z": -3.428841438
               },
               {
                "showarrow": false,
                "text": 26,
                "x": 1.325710642,
                "y": -2.1679296519999998,
                "yshift": 15,
                "z": 0.861082772
               },
               {
                "showarrow": false,
                "text": 27,
                "x": 1.520565454,
                "y": -3.668834055,
                "yshift": 15,
                "z": -0.0402536398
               },
               {
                "showarrow": false,
                "text": 28,
                "x": 2.678386831,
                "y": -2.358743505,
                "yshift": 15,
                "z": -0.2618302212
               }
              ]
             }
            ],
            "label": "Atom indices",
            "method": "relayout"
           },
           {
            "args": [
             {
              "scene.annotations": [
               {
                "showarrow": false,
                "text": 1.54,
                "x": -0.09748732275,
                "y": 0.84234702935,
                "yshift": 15,
                "z": 0.0130349219
               },
               {
                "showarrow": false,
                "text": 1.56,
                "x": 0.2899898108,
                "y": -0.18474719895,
                "yshift": 15,
                "z": -0.71406411425
               },
               {
                "showarrow": false,
                "text": 1.54,
                "x": 0.4235433438,
                "y": -0.2041201352,
                "yshift": 15,
                "z": -1.96588017
               },
               {
                "showarrow": false,
                "text": 1.55,
                "x": 0.03349355985,
                "y": -2.34234563,
                "yshift": 15,
                "z": -1.175717076
               },
               {
                "showarrow": false,
                "text": 1.54,
                "x": 1.4402361375,
                "y": -0.1770044648,
                "yshift": 15,
                "z": -1.2442904795
               },
               {
                "showarrow": false,
                "text": 1.55,
                "x": 1.0272431363,
                "y": -2.342245029,
                "yshift": 15,
                "z": -1.9232507475
               },
               {
                "showarrow": false,
                "text": 1.59,
                "x": 0.7330777393,
                "y": -1.2542176193,
                "yshift": 15,
                "z": -1.2839013915
               },
               {
                "showarrow": false,
                "text": 1.55,
                "x": 1.1807530028,
                "y": -2.3149896185,
                "yshift": 15,
                "z": -0.68802292755
               },
               {
                "showarrow": false,
                "text": 1.09,
                "x": 0.4481588308,
                "y": 1.745052393,
                "yshift": 15,
                "z": 0.31737152865
               },
               {
                "showarrow": false,
                "text": 1.09,
                "x": 2.148499752,
                "y": -2.4693582555,
                "yshift": 15,
                "z": -0.18547474065
               },
               {
                "showarrow": false,
                "text": 1.09,
                "x": -0.18048296365,
                "y": 1.8982404715,
                "yshift": 15,
                "z": -0.2842255755
               },
               {
                "showarrow": false,
                "text": 1.1,
                "x": 1.5695890635,
                "y": -3.1244035305,
                "yshift": 15,
                "z": -0.07468644995
               },
               {
                "showarrow": false,
                "text": 1.09,
                "x": -0.4012595338,
                "y": 1.7320929945,
                "yshift": 15,
                "z": 0.5519503257
               },
               {
                "showarrow": false,
                "text": 1.1,
                "x": -0.01050288725,
                "y": -0.1744973599,
                "yshift": 15,
                "z": 0.33452128745
               },
               {
                "showarrow": false,
                "text": 1.09,
                "x": 0.0616070796,
                "y": 0.5934777021,
                "yshift": 15,
                "z": -2.617926878
               },
               {
                "showarrow": false,
                "text": 1.09,
                "x": 0.97846449495,
                "y": -2.547690592,
                "yshift": 15,
                "z": -3.004208169
               },
               {
                "showarrow": false,
                "text": 1.09,
                "x": 1.4721616575,
                "y": -2.373951329,
                "yshift": 15,
                "z": 0.37598175595
               },
               {
                "showarrow": false,
                "text": 1.1,
                "x": -0.6678198237,
                "y": -0.0340501833,
                "yshift": 15,
                "z": -0.22565528555
               },
               {
                "showarrow": false,
                "text": 1.09,
                "x": 0.4484063255,
                "y": -0.06206843695,
                "yshift": 15,
                "z": -3.0561713445
               },
               {
                "showarrow": false,
                "text": 1.1,
                "x": 1.3723194745,
                "y": -3.1764101055,
                "yshift": 15,
                "z": -2.528877682
               },
               {
                "showarrow": false,
                "text": 1.09,
                "x": -0.3678925403,
                "y": -0.1671666682,
                "yshift": 15,
                "z": -2.732700929
               },
               {
                "showarrow": false,
                "text": 1.09,
                "x": 2.3686179385,
                "y": 0.0333742047,
                "yshift": 15,
                "z": -0.6883210252
               },
               {
                "showarrow": false,
                "text": 1.09,
                "x": -0.88143314745,
                "y": -2.528901855,
                "yshift": 15,
                "z": -0.58928455845
               },
               {
                "showarrow": false,
                "text": 1.09,
                "x": 1.802396914,
                "y": -2.428208839,
                "yshift": 15,
                "z": -2.7056096585
               },
               {
                "showarrow": false,
                "text": 1.09,
                "x": 2.4959339105,
                "y": -0.12979523245,
                "yshift": 15,
                "z": -1.5475706085
               },
               {
                "showarrow": false,
                "text": 1.09,
                "x": -1.02846428795,
                "y": -2.444962108,
                "yshift": 15,
                "z": -1.4574106225
               },
               {
                "showarrow": false,
                "text": 1.09,
                "x": 2.160999339,
                "y": 0.641221565,
                "yshift": 15,
                "z": -1.2920514885
               },
               {
                "showarrow": false,
                "text": 1.1,
                "x": -0.65931643745,
                "y": -3.1793385995,
                "yshift": 15,
                "z": -1.139971961
               }
              ]
             }
            ],
            "label": "Bond lengths",
            "method": "relayout"
           },
           {
            "args": [
             {
              "scene.annotations": [
               {
                "showarrow": false,
                "text": 0,
                "x": -0.0516921211,
                "y": 1.595759449,
                "yshift": 15,
                "z": 0.1533218843
               },
               {
                "showarrow": false,
                "text": 1,
                "x": -0.1432825244,
                "y": 0.0889346097,
                "yshift": 15,
                "z": -0.1272520405
               },
               {
                "showarrow": false,
                "text": 2,
                "x": 0.7232621459999999,
                "y": -0.4584290076,
                "yshift": 15,
                "z": -1.300876188
               },
               {
                "showarrow": false,
                "text": 3,
                "x": 0.1238245416,
                "y": 0.0501887372,
                "yshift": 15,
                "z": -2.6308841519999997
               },
               {
                "showarrow": false,
                "text": 4,
                "x": 2.157210129,
                "y": 0.10442007800000001,
                "yshift": 15,
                "z": -1.187704771
               },
               {
                "showarrow": false,
                "text": 5,
                "x": 0.7428933326,
                "y": -2.050006231,
                "yshift": 15,
                "z": -1.266926595
               },
               {
                "showarrow": false,
                "text": 6,
                "x": -0.6759062129000001,
                "y": -2.634685029,
                "yshift": 15,
                "z": -1.084507557
               },
               {
                "showarrow": false,
                "text": 7,
                "x": 1.31159294,
                "y": -2.634483827,
                "yshift": 15,
                "z": -2.5795749
               },
               {
                "showarrow": false,
                "text": 8,
                "x": 1.6186126730000001,
                "y": -2.579973006,
                "yshift": 15,
                "z": -0.1091192601
               },
               {
                "showarrow": false,
                "text": 9,
                "x": 0.9480097826999999,
                "y": 1.8943453369999999,
                "yshift": 15,
                "z": 0.481421173
               },
               {
                "showarrow": false,
                "text": 10,
                "x": -0.3092738062,
                "y": 2.200721494,
                "yshift": 15,
                "z": -0.7217730353
               },
               {
                "showarrow": false,
                "text": 11,
                "x": -0.7508269465,
                "y": 1.86842654,
                "yshift": 15,
                "z": 0.9505787670999999
               },
               {
                "showarrow": false,
                "text": 12,
                "x": 0.12227674990000001,
                "y": -0.4379293295,
                "yshift": 15,
                "z": 0.7962946154
               },
               {
                "showarrow": false,
                "text": 13,
                "x": -1.192357123,
                "y": -0.15703497630000002,
                "yshift": 15,
                "z": -0.3240585306
               },
               {
                "showarrow": false,
                "text": 14,
                "x": -0.0006103823999999999,
                "y": 1.136766667,
                "yshift": 15,
                "z": -2.604969604
               },
               {
                "showarrow": false,
                "text": 15,
                "x": 0.7729881094,
                "y": -0.1743256111,
                "yshift": 15,
                "z": -3.481458537
               },
               {
                "showarrow": false,
                "text": 16,
                "x": -0.8596096222,
                "y": -0.3845220736,
                "yshift": 15,
                "z": -2.834517706
               },
               {
                "showarrow": false,
                "text": 17,
                "x": 2.580025748,
                "y": -0.0376716686,
                "yshift": 15,
                "z": -0.18893727940000002
               },
               {
                "showarrow": false,
                "text": 18,
                "x": 2.834657692,
                "y": -0.3640105429,
                "yshift": 15,
                "z": -1.907436446
               },
               {
                "showarrow": false,
                "text": 19,
                "x": 2.164788549,
                "y": 1.1780230520000001,
                "yshift": 15,
                "z": -1.396398206
               },
               {
                "showarrow": false,
                "text": 20,
                "x": -1.381022363,
                "y": -2.255239187,
                "yshift": 15,
                "z": -1.8303136880000002
               },
               {
                "showarrow": false,
                "text": 21,
                "x": -0.6427266620000001,
                "y": -3.72399217,
                "yshift": 15,
                "z": -1.195436365
               },
               {
                "showarrow": false,
                "text": 22,
                "x": -1.086960082,
                "y": -2.423118681,
                "yshift": 15,
                "z": -0.09406155990000001
               },
               {
                "showarrow": false,
                "text": 23,
                "x": 2.2932008880000003,
                "y": -2.2219338509999997,
                "yshift": 15,
                "z": -2.8316444169999997
               },
               {
                "showarrow": false,
                "text": 24,
                "x": 1.4330460090000001,
                "y": -3.7183363839999997,
                "yshift": 15,
                "z": -2.4781804640000002
               },
               {
                "showarrow": false,
                "text": 25,
                "x": 0.6453360499,
                "y": -2.460897357,
                "yshift": 15,
                "z": -3.428841438
               },
               {
                "showarrow": false,
                "text": 26,
                "x": 1.325710642,
                "y": -2.1679296519999998,
                "yshift": 15,
                "z": 0.861082772
               },
               {
                "showarrow": false,
                "text": 27,
                "x": 1.520565454,
                "y": -3.668834055,
                "yshift": 15,
                "z": -0.0402536398
               },
               {
                "showarrow": false,
                "text": 28,
                "x": 2.678386831,
                "y": -2.358743505,
                "yshift": 15,
                "z": -0.2618302212
               },
               {
                "showarrow": false,
                "text": 1.54,
                "x": -0.09748732275,
                "y": 0.84234702935,
                "yshift": 15,
                "z": 0.0130349219
               },
               {
                "showarrow": false,
                "text": 1.56,
                "x": 0.2899898108,
                "y": -0.18474719895,
                "yshift": 15,
                "z": -0.71406411425
               },
               {
                "showarrow": false,
                "text": 1.54,
                "x": 0.4235433438,
                "y": -0.2041201352,
                "yshift": 15,
                "z": -1.96588017
               },
               {
                "showarrow": false,
                "text": 1.55,
                "x": 0.03349355985,
                "y": -2.34234563,
                "yshift": 15,
                "z": -1.175717076
               },
               {
                "showarrow": false,
                "text": 1.54,
                "x": 1.4402361375,
                "y": -0.1770044648,
                "yshift": 15,
                "z": -1.2442904795
               },
               {
                "showarrow": false,
                "text": 1.55,
                "x": 1.0272431363,
                "y": -2.342245029,
                "yshift": 15,
                "z": -1.9232507475
               },
               {
                "showarrow": false,
                "text": 1.59,
                "x": 0.7330777393,
                "y": -1.2542176193,
                "yshift": 15,
                "z": -1.2839013915
               },
               {
                "showarrow": false,
                "text": 1.55,
                "x": 1.1807530028,
                "y": -2.3149896185,
                "yshift": 15,
                "z": -0.68802292755
               },
               {
                "showarrow": false,
                "text": 1.09,
                "x": 0.4481588308,
                "y": 1.745052393,
                "yshift": 15,
                "z": 0.31737152865
               },
               {
                "showarrow": false,
                "text": 1.09,
                "x": 2.148499752,
                "y": -2.4693582555,
                "yshift": 15,
                "z": -0.18547474065
               },
               {
                "showarrow": false,
                "text": 1.09,
                "x": -0.18048296365,
                "y": 1.8982404715,
                "yshift": 15,
                "z": -0.2842255755
               },
               {
                "showarrow": false,
                "text": 1.1,
                "x": 1.5695890635,
                "y": -3.1244035305,
                "yshift": 15,
                "z": -0.07468644995
               },
               {
                "showarrow": false,
                "text": 1.09,
                "x": -0.4012595338,
                "y": 1.7320929945,
                "yshift": 15,
                "z": 0.5519503257
               },
               {
                "showarrow": false,
                "text": 1.1,
                "x": -0.01050288725,
                "y": -0.1744973599,
                "yshift": 15,
                "z": 0.33452128745
               },
               {
                "showarrow": false,
                "text": 1.09,
                "x": 0.0616070796,
                "y": 0.5934777021,
                "yshift": 15,
                "z": -2.617926878
               },
               {
                "showarrow": false,
                "text": 1.09,
                "x": 0.97846449495,
                "y": -2.547690592,
                "yshift": 15,
                "z": -3.004208169
               },
               {
                "showarrow": false,
                "text": 1.09,
                "x": 1.4721616575,
                "y": -2.373951329,
                "yshift": 15,
                "z": 0.37598175595
               },
               {
                "showarrow": false,
                "text": 1.1,
                "x": -0.6678198237,
                "y": -0.0340501833,
                "yshift": 15,
                "z": -0.22565528555
               },
               {
                "showarrow": false,
                "text": 1.09,
                "x": 0.4484063255,
                "y": -0.06206843695,
                "yshift": 15,
                "z": -3.0561713445
               },
               {
                "showarrow": false,
                "text": 1.1,
                "x": 1.3723194745,
                "y": -3.1764101055,
                "yshift": 15,
                "z": -2.528877682
               },
               {
                "showarrow": false,
                "text": 1.09,
                "x": -0.3678925403,
                "y": -0.1671666682,
                "yshift": 15,
                "z": -2.732700929
               },
               {
                "showarrow": false,
                "text": 1.09,
                "x": 2.3686179385,
                "y": 0.0333742047,
                "yshift": 15,
                "z": -0.6883210252
               },
               {
                "showarrow": false,
                "text": 1.09,
                "x": -0.88143314745,
                "y": -2.528901855,
                "yshift": 15,
                "z": -0.58928455845
               },
               {
                "showarrow": false,
                "text": 1.09,
                "x": 1.802396914,
                "y": -2.428208839,
                "yshift": 15,
                "z": -2.7056096585
               },
               {
                "showarrow": false,
                "text": 1.09,
                "x": 2.4959339105,
                "y": -0.12979523245,
                "yshift": 15,
                "z": -1.5475706085
               },
               {
                "showarrow": false,
                "text": 1.09,
                "x": -1.02846428795,
                "y": -2.444962108,
                "yshift": 15,
                "z": -1.4574106225
               },
               {
                "showarrow": false,
                "text": 1.09,
                "x": 2.160999339,
                "y": 0.641221565,
                "yshift": 15,
                "z": -1.2920514885
               },
               {
                "showarrow": false,
                "text": 1.1,
                "x": -0.65931643745,
                "y": -3.1793385995,
                "yshift": 15,
                "z": -1.139971961
               }
              ]
             }
            ],
            "label": "Atom indices & Bond lengths",
            "method": "relayout"
           },
           {
            "args": [
             {
              "scene.annotations": []
             }
            ],
            "label": "Hide all",
            "method": "relayout"
           }
          ],
          "direction": "down",
          "xanchor": "left",
          "yanchor": "top"
         }
        ]
       }
      },
      "text/html": [
       "<div>\n",
       "        \n",
       "        \n",
       "            <div id=\"ad620310-0643-4d69-b89d-6684a2c676ea\" class=\"plotly-graph-div\" style=\"height:525px; width:100%;\"></div>\n",
       "            <script type=\"text/javascript\">\n",
       "                require([\"plotly\"], function(Plotly) {\n",
       "                    window.PLOTLYENV=window.PLOTLYENV || {};\n",
       "                    window.PLOTLYENV.BASE_URL='https://plot.ly';\n",
       "                    \n",
       "                if (document.getElementById(\"ad620310-0643-4d69-b89d-6684a2c676ea\")) {\n",
       "                    Plotly.newPlot(\n",
       "                        'ad620310-0643-4d69-b89d-6684a2c676ea',\n",
       "                        [{\"marker\": {\"color\": [\"black\", \"black\", \"black\", \"black\", \"black\", \"black\", \"black\", \"black\", \"black\", \"white\", \"white\", \"white\", \"white\", \"white\", \"white\", \"white\", \"white\", \"white\", \"white\", \"white\", \"white\", \"white\", \"white\", \"white\", \"white\", \"white\", \"white\", \"white\", \"white\"], \"line\": {\"color\": \"lightgray\", \"width\": 2}, \"opacity\": 0.8, \"size\": 7, \"symbol\": \"circle\"}, \"mode\": \"markers\", \"name\": \"\", \"text\": [\"C\", \"C\", \"C\", \"C\", \"C\", \"C\", \"C\", \"C\", \"C\", \"H\", \"H\", \"H\", \"H\", \"H\", \"H\", \"H\", \"H\", \"H\", \"H\", \"H\", \"H\", \"H\", \"H\", \"H\", \"H\", \"H\", \"H\", \"H\", \"H\"], \"type\": \"scatter3d\", \"uid\": \"6f041e5a-43c6-4629-8117-091cf0757879\", \"x\": [-0.0516921211, -0.1432825244, 0.7232621459999999, 0.1238245416, 2.157210129, 0.7428933326, -0.6759062129000001, 1.31159294, 1.6186126730000001, 0.9480097826999999, -0.3092738062, -0.7508269465, 0.12227674990000001, -1.192357123, -0.0006103823999999999, 0.7729881094, -0.8596096222, 2.580025748, 2.834657692, 2.164788549, -1.381022363, -0.6427266620000001, -1.086960082, 2.2932008880000003, 1.4330460090000001, 0.6453360499, 1.325710642, 1.520565454, 2.678386831], \"y\": [1.595759449, 0.0889346097, -0.4584290076, 0.0501887372, 0.10442007800000001, -2.050006231, -2.634685029, -2.634483827, -2.579973006, 1.8943453369999999, 2.200721494, 1.86842654, -0.4379293295, -0.15703497630000002, 1.136766667, -0.1743256111, -0.3845220736, -0.0376716686, -0.3640105429, 1.1780230520000001, -2.255239187, -3.72399217, -2.423118681, -2.2219338509999997, -3.7183363839999997, -2.460897357, -2.1679296519999998, -3.668834055, -2.358743505], \"z\": [0.1533218843, -0.1272520405, -1.300876188, -2.6308841519999997, -1.187704771, -1.266926595, -1.084507557, -2.5795749, -0.1091192601, 0.481421173, -0.7217730353, 0.9505787670999999, 0.7962946154, -0.3240585306, -2.604969604, -3.481458537, -2.834517706, -0.18893727940000002, -1.907436446, -1.396398206, -1.8303136880000002, -1.195436365, -0.09406155990000001, -2.8316444169999997, -2.4781804640000002, -3.428841438, 0.861082772, -0.0402536398, -0.2618302212]}, {\"hoverinfo\": \"none\", \"marker\": {\"color\": \"grey\", \"opacity\": 1, \"size\": 7}, \"mode\": \"lines\", \"type\": \"scatter3d\", \"uid\": \"34c41730-308a-4b6f-b9b8-40fcaf3573ce\", \"x\": [-0.0516921211, -0.1432825244, null, -0.1432825244, 0.7232621459999999, null, 0.7232621459999999, 0.1238245416, null, 0.7428933326, -0.6759062129000001, null, 0.7232621459999999, 2.157210129, null, 0.7428933326, 1.31159294, null, 0.7232621459999999, 0.7428933326, null, 1.6186126730000001, 0.7428933326, null, -0.0516921211, 0.9480097826999999, null, 1.6186126730000001, 2.678386831, null, -0.0516921211, -0.3092738062, null, 1.6186126730000001, 1.520565454, null, -0.0516921211, -0.7508269465, null, -0.1432825244, 0.12227674990000001, null, 0.1238245416, -0.0006103823999999999, null, 0.6453360499, 1.31159294, null, 1.6186126730000001, 1.325710642, null, -0.1432825244, -1.192357123, null, 0.1238245416, 0.7729881094, null, 1.4330460090000001, 1.31159294, null, -0.8596096222, 0.1238245416, null, 2.580025748, 2.157210129, null, -1.086960082, -0.6759062129000001, null, 1.31159294, 2.2932008880000003, null, 2.834657692, 2.157210129, null, -1.381022363, -0.6759062129000001, null, 2.164788549, 2.157210129, null, -0.6427266620000001, -0.6759062129000001, null], \"y\": [1.595759449, 0.0889346097, null, 0.0889346097, -0.4584290076, null, -0.4584290076, 0.0501887372, null, -2.050006231, -2.634685029, null, -0.4584290076, 0.10442007800000001, null, -2.050006231, -2.634483827, null, -0.4584290076, -2.050006231, null, -2.579973006, -2.050006231, null, 1.595759449, 1.8943453369999999, null, -2.579973006, -2.358743505, null, 1.595759449, 2.200721494, null, -2.579973006, -3.668834055, null, 1.595759449, 1.86842654, null, 0.0889346097, -0.4379293295, null, 0.0501887372, 1.136766667, null, -2.460897357, -2.634483827, null, -2.579973006, -2.1679296519999998, null, 0.0889346097, -0.15703497630000002, null, 0.0501887372, -0.1743256111, null, -3.7183363839999997, -2.634483827, null, -0.3845220736, 0.0501887372, null, -0.0376716686, 0.10442007800000001, null, -2.423118681, -2.634685029, null, -2.634483827, -2.2219338509999997, null, -0.3640105429, 0.10442007800000001, null, -2.255239187, -2.634685029, null, 1.1780230520000001, 0.10442007800000001, null, -3.72399217, -2.634685029, null], \"z\": [0.1533218843, -0.1272520405, null, -0.1272520405, -1.300876188, null, -1.300876188, -2.6308841519999997, null, -1.266926595, -1.084507557, null, -1.300876188, -1.187704771, null, -1.266926595, -2.5795749, null, -1.300876188, -1.266926595, null, -0.1091192601, -1.266926595, null, 0.1533218843, 0.481421173, null, -0.1091192601, -0.2618302212, null, 0.1533218843, -0.7217730353, null, -0.1091192601, -0.0402536398, null, 0.1533218843, 0.9505787670999999, null, -0.1272520405, 0.7962946154, null, -2.6308841519999997, -2.604969604, null, -3.428841438, -2.5795749, null, -0.1091192601, 0.861082772, null, -0.1272520405, -0.3240585306, null, -2.6308841519999997, -3.481458537, null, -2.4781804640000002, -2.5795749, null, -2.834517706, -2.6308841519999997, null, -0.18893727940000002, -1.187704771, null, -0.09406155990000001, -1.084507557, null, -2.5795749, -2.8316444169999997, null, -1.907436446, -1.187704771, null, -1.8303136880000002, -1.084507557, null, -1.396398206, -1.187704771, null, -1.195436365, -1.084507557, null]}],\n",
       "                        {\"margin\": {\"b\": 0, \"l\": 0, \"r\": 0, \"t\": 0}, \"scene\": {\"annotations\": [{\"showarrow\": false, \"text\": \"0\", \"x\": -0.0516921211, \"y\": 1.595759449, \"yshift\": 15, \"z\": 0.1533218843}, {\"showarrow\": false, \"text\": \"1\", \"x\": -0.1432825244, \"y\": 0.0889346097, \"yshift\": 15, \"z\": -0.1272520405}, {\"showarrow\": false, \"text\": \"2\", \"x\": 0.7232621459999999, \"y\": -0.4584290076, \"yshift\": 15, \"z\": -1.300876188}, {\"showarrow\": false, \"text\": \"3\", \"x\": 0.1238245416, \"y\": 0.0501887372, \"yshift\": 15, \"z\": -2.6308841519999997}, {\"showarrow\": false, \"text\": \"4\", \"x\": 2.157210129, \"y\": 0.10442007800000001, \"yshift\": 15, \"z\": -1.187704771}, {\"showarrow\": false, \"text\": \"5\", \"x\": 0.7428933326, \"y\": -2.050006231, \"yshift\": 15, \"z\": -1.266926595}, {\"showarrow\": false, \"text\": \"6\", \"x\": -0.6759062129000001, \"y\": -2.634685029, \"yshift\": 15, \"z\": -1.084507557}, {\"showarrow\": false, \"text\": \"7\", \"x\": 1.31159294, \"y\": -2.634483827, \"yshift\": 15, \"z\": -2.5795749}, {\"showarrow\": false, \"text\": \"8\", \"x\": 1.6186126730000001, \"y\": -2.579973006, \"yshift\": 15, \"z\": -0.1091192601}, {\"showarrow\": false, \"text\": \"9\", \"x\": 0.9480097826999999, \"y\": 1.8943453369999999, \"yshift\": 15, \"z\": 0.481421173}, {\"showarrow\": false, \"text\": \"10\", \"x\": -0.3092738062, \"y\": 2.200721494, \"yshift\": 15, \"z\": -0.7217730353}, {\"showarrow\": false, \"text\": \"11\", \"x\": -0.7508269465, \"y\": 1.86842654, \"yshift\": 15, \"z\": 0.9505787670999999}, {\"showarrow\": false, \"text\": \"12\", \"x\": 0.12227674990000001, \"y\": -0.4379293295, \"yshift\": 15, \"z\": 0.7962946154}, {\"showarrow\": false, \"text\": \"13\", \"x\": -1.192357123, \"y\": -0.15703497630000002, \"yshift\": 15, \"z\": -0.3240585306}, {\"showarrow\": false, \"text\": \"14\", \"x\": -0.0006103823999999999, \"y\": 1.136766667, \"yshift\": 15, \"z\": -2.604969604}, {\"showarrow\": false, \"text\": \"15\", \"x\": 0.7729881094, \"y\": -0.1743256111, \"yshift\": 15, \"z\": -3.481458537}, {\"showarrow\": false, \"text\": \"16\", \"x\": -0.8596096222, \"y\": -0.3845220736, \"yshift\": 15, \"z\": -2.834517706}, {\"showarrow\": false, \"text\": \"17\", \"x\": 2.580025748, \"y\": -0.0376716686, \"yshift\": 15, \"z\": -0.18893727940000002}, {\"showarrow\": false, \"text\": \"18\", \"x\": 2.834657692, \"y\": -0.3640105429, \"yshift\": 15, \"z\": -1.907436446}, {\"showarrow\": false, \"text\": \"19\", \"x\": 2.164788549, \"y\": 1.1780230520000001, \"yshift\": 15, \"z\": -1.396398206}, {\"showarrow\": false, \"text\": \"20\", \"x\": -1.381022363, \"y\": -2.255239187, \"yshift\": 15, \"z\": -1.8303136880000002}, {\"showarrow\": false, \"text\": \"21\", \"x\": -0.6427266620000001, \"y\": -3.72399217, \"yshift\": 15, \"z\": -1.195436365}, {\"showarrow\": false, \"text\": \"22\", \"x\": -1.086960082, \"y\": -2.423118681, \"yshift\": 15, \"z\": -0.09406155990000001}, {\"showarrow\": false, \"text\": \"23\", \"x\": 2.2932008880000003, \"y\": -2.2219338509999997, \"yshift\": 15, \"z\": -2.8316444169999997}, {\"showarrow\": false, \"text\": \"24\", \"x\": 1.4330460090000001, \"y\": -3.7183363839999997, \"yshift\": 15, \"z\": -2.4781804640000002}, {\"showarrow\": false, \"text\": \"25\", \"x\": 0.6453360499, \"y\": -2.460897357, \"yshift\": 15, \"z\": -3.428841438}, {\"showarrow\": false, \"text\": \"26\", \"x\": 1.325710642, \"y\": -2.1679296519999998, \"yshift\": 15, \"z\": 0.861082772}, {\"showarrow\": false, \"text\": \"27\", \"x\": 1.520565454, \"y\": -3.668834055, \"yshift\": 15, \"z\": -0.0402536398}, {\"showarrow\": false, \"text\": \"28\", \"x\": 2.678386831, \"y\": -2.358743505, \"yshift\": 15, \"z\": -0.2618302212}], \"xaxis\": {\"showgrid\": false, \"showticklabels\": false, \"title\": {\"font\": {\"color\": \"white\"}}, \"zeroline\": false}, \"yaxis\": {\"showgrid\": false, \"showticklabels\": false, \"title\": {\"font\": {\"color\": \"white\"}}, \"zeroline\": false}, \"zaxis\": {\"showgrid\": false, \"showticklabels\": false, \"title\": {\"font\": {\"color\": \"white\"}}, \"zeroline\": false}}, \"showlegend\": false, \"updatemenus\": [{\"buttons\": [{\"args\": [{\"scene.annotations\": [{\"showarrow\": false, \"text\": 0, \"x\": -0.0516921211, \"y\": 1.595759449, \"yshift\": 15, \"z\": 0.1533218843}, {\"showarrow\": false, \"text\": 1, \"x\": -0.1432825244, \"y\": 0.0889346097, \"yshift\": 15, \"z\": -0.1272520405}, {\"showarrow\": false, \"text\": 2, \"x\": 0.7232621459999999, \"y\": -0.4584290076, \"yshift\": 15, \"z\": -1.300876188}, {\"showarrow\": false, \"text\": 3, \"x\": 0.1238245416, \"y\": 0.0501887372, \"yshift\": 15, \"z\": -2.6308841519999997}, {\"showarrow\": false, \"text\": 4, \"x\": 2.157210129, \"y\": 0.10442007800000001, \"yshift\": 15, \"z\": -1.187704771}, {\"showarrow\": false, \"text\": 5, \"x\": 0.7428933326, \"y\": -2.050006231, \"yshift\": 15, \"z\": -1.266926595}, {\"showarrow\": false, \"text\": 6, \"x\": -0.6759062129000001, \"y\": -2.634685029, \"yshift\": 15, \"z\": -1.084507557}, {\"showarrow\": false, \"text\": 7, \"x\": 1.31159294, \"y\": -2.634483827, \"yshift\": 15, \"z\": -2.5795749}, {\"showarrow\": false, \"text\": 8, \"x\": 1.6186126730000001, \"y\": -2.579973006, \"yshift\": 15, \"z\": -0.1091192601}, {\"showarrow\": false, \"text\": 9, \"x\": 0.9480097826999999, \"y\": 1.8943453369999999, \"yshift\": 15, \"z\": 0.481421173}, {\"showarrow\": false, \"text\": 10, \"x\": -0.3092738062, \"y\": 2.200721494, \"yshift\": 15, \"z\": -0.7217730353}, {\"showarrow\": false, \"text\": 11, \"x\": -0.7508269465, \"y\": 1.86842654, \"yshift\": 15, \"z\": 0.9505787670999999}, {\"showarrow\": false, \"text\": 12, \"x\": 0.12227674990000001, \"y\": -0.4379293295, \"yshift\": 15, \"z\": 0.7962946154}, {\"showarrow\": false, \"text\": 13, \"x\": -1.192357123, \"y\": -0.15703497630000002, \"yshift\": 15, \"z\": -0.3240585306}, {\"showarrow\": false, \"text\": 14, \"x\": -0.0006103823999999999, \"y\": 1.136766667, \"yshift\": 15, \"z\": -2.604969604}, {\"showarrow\": false, \"text\": 15, \"x\": 0.7729881094, \"y\": -0.1743256111, \"yshift\": 15, \"z\": -3.481458537}, {\"showarrow\": false, \"text\": 16, \"x\": -0.8596096222, \"y\": -0.3845220736, \"yshift\": 15, \"z\": -2.834517706}, {\"showarrow\": false, \"text\": 17, \"x\": 2.580025748, \"y\": -0.0376716686, \"yshift\": 15, \"z\": -0.18893727940000002}, {\"showarrow\": false, \"text\": 18, \"x\": 2.834657692, \"y\": -0.3640105429, \"yshift\": 15, \"z\": -1.907436446}, {\"showarrow\": false, \"text\": 19, \"x\": 2.164788549, \"y\": 1.1780230520000001, \"yshift\": 15, \"z\": -1.396398206}, {\"showarrow\": false, \"text\": 20, \"x\": -1.381022363, \"y\": -2.255239187, \"yshift\": 15, \"z\": -1.8303136880000002}, {\"showarrow\": false, \"text\": 21, \"x\": -0.6427266620000001, \"y\": -3.72399217, \"yshift\": 15, \"z\": -1.195436365}, {\"showarrow\": false, \"text\": 22, \"x\": -1.086960082, \"y\": -2.423118681, \"yshift\": 15, \"z\": -0.09406155990000001}, {\"showarrow\": false, \"text\": 23, \"x\": 2.2932008880000003, \"y\": -2.2219338509999997, \"yshift\": 15, \"z\": -2.8316444169999997}, {\"showarrow\": false, \"text\": 24, \"x\": 1.4330460090000001, \"y\": -3.7183363839999997, \"yshift\": 15, \"z\": -2.4781804640000002}, {\"showarrow\": false, \"text\": 25, \"x\": 0.6453360499, \"y\": -2.460897357, \"yshift\": 15, \"z\": -3.428841438}, {\"showarrow\": false, \"text\": 26, \"x\": 1.325710642, \"y\": -2.1679296519999998, \"yshift\": 15, \"z\": 0.861082772}, {\"showarrow\": false, \"text\": 27, \"x\": 1.520565454, \"y\": -3.668834055, \"yshift\": 15, \"z\": -0.0402536398}, {\"showarrow\": false, \"text\": 28, \"x\": 2.678386831, \"y\": -2.358743505, \"yshift\": 15, \"z\": -0.2618302212}]}], \"label\": \"Atom indices\", \"method\": \"relayout\"}, {\"args\": [{\"scene.annotations\": [{\"showarrow\": false, \"text\": 1.54, \"x\": -0.09748732275, \"y\": 0.84234702935, \"yshift\": 15, \"z\": 0.0130349219}, {\"showarrow\": false, \"text\": 1.56, \"x\": 0.2899898108, \"y\": -0.18474719895, \"yshift\": 15, \"z\": -0.71406411425}, {\"showarrow\": false, \"text\": 1.54, \"x\": 0.4235433438, \"y\": -0.2041201352, \"yshift\": 15, \"z\": -1.96588017}, {\"showarrow\": false, \"text\": 1.55, \"x\": 0.03349355985, \"y\": -2.34234563, \"yshift\": 15, \"z\": -1.175717076}, {\"showarrow\": false, \"text\": 1.54, \"x\": 1.4402361375, \"y\": -0.1770044648, \"yshift\": 15, \"z\": -1.2442904795}, {\"showarrow\": false, \"text\": 1.55, \"x\": 1.0272431363, \"y\": -2.342245029, \"yshift\": 15, \"z\": -1.9232507475}, {\"showarrow\": false, \"text\": 1.59, \"x\": 0.7330777393, \"y\": -1.2542176193, \"yshift\": 15, \"z\": -1.2839013915}, {\"showarrow\": false, \"text\": 1.55, \"x\": 1.1807530028, \"y\": -2.3149896185, \"yshift\": 15, \"z\": -0.68802292755}, {\"showarrow\": false, \"text\": 1.09, \"x\": 0.4481588308, \"y\": 1.745052393, \"yshift\": 15, \"z\": 0.31737152865}, {\"showarrow\": false, \"text\": 1.09, \"x\": 2.148499752, \"y\": -2.4693582555, \"yshift\": 15, \"z\": -0.18547474065}, {\"showarrow\": false, \"text\": 1.09, \"x\": -0.18048296365, \"y\": 1.8982404715, \"yshift\": 15, \"z\": -0.2842255755}, {\"showarrow\": false, \"text\": 1.1, \"x\": 1.5695890635, \"y\": -3.1244035305, \"yshift\": 15, \"z\": -0.07468644995}, {\"showarrow\": false, \"text\": 1.09, \"x\": -0.4012595338, \"y\": 1.7320929945, \"yshift\": 15, \"z\": 0.5519503257}, {\"showarrow\": false, \"text\": 1.1, \"x\": -0.01050288725, \"y\": -0.1744973599, \"yshift\": 15, \"z\": 0.33452128745}, {\"showarrow\": false, \"text\": 1.09, \"x\": 0.0616070796, \"y\": 0.5934777021, \"yshift\": 15, \"z\": -2.617926878}, {\"showarrow\": false, \"text\": 1.09, \"x\": 0.97846449495, \"y\": -2.547690592, \"yshift\": 15, \"z\": -3.004208169}, {\"showarrow\": false, \"text\": 1.09, \"x\": 1.4721616575, \"y\": -2.373951329, \"yshift\": 15, \"z\": 0.37598175595}, {\"showarrow\": false, \"text\": 1.1, \"x\": -0.6678198237, \"y\": -0.0340501833, \"yshift\": 15, \"z\": -0.22565528555}, {\"showarrow\": false, \"text\": 1.09, \"x\": 0.4484063255, \"y\": -0.06206843695, \"yshift\": 15, \"z\": -3.0561713445}, {\"showarrow\": false, \"text\": 1.1, \"x\": 1.3723194745, \"y\": -3.1764101055, \"yshift\": 15, \"z\": -2.528877682}, {\"showarrow\": false, \"text\": 1.09, \"x\": -0.3678925403, \"y\": -0.1671666682, \"yshift\": 15, \"z\": -2.732700929}, {\"showarrow\": false, \"text\": 1.09, \"x\": 2.3686179385, \"y\": 0.0333742047, \"yshift\": 15, \"z\": -0.6883210252}, {\"showarrow\": false, \"text\": 1.09, \"x\": -0.88143314745, \"y\": -2.528901855, \"yshift\": 15, \"z\": -0.58928455845}, {\"showarrow\": false, \"text\": 1.09, \"x\": 1.802396914, \"y\": -2.428208839, \"yshift\": 15, \"z\": -2.7056096585}, {\"showarrow\": false, \"text\": 1.09, \"x\": 2.4959339105, \"y\": -0.12979523245, \"yshift\": 15, \"z\": -1.5475706085}, {\"showarrow\": false, \"text\": 1.09, \"x\": -1.02846428795, \"y\": -2.444962108, \"yshift\": 15, \"z\": -1.4574106225}, {\"showarrow\": false, \"text\": 1.09, \"x\": 2.160999339, \"y\": 0.641221565, \"yshift\": 15, \"z\": -1.2920514885}, {\"showarrow\": false, \"text\": 1.1, \"x\": -0.65931643745, \"y\": -3.1793385995, \"yshift\": 15, \"z\": -1.139971961}]}], \"label\": \"Bond lengths\", \"method\": \"relayout\"}, {\"args\": [{\"scene.annotations\": [{\"showarrow\": false, \"text\": 0, \"x\": -0.0516921211, \"y\": 1.595759449, \"yshift\": 15, \"z\": 0.1533218843}, {\"showarrow\": false, \"text\": 1, \"x\": -0.1432825244, \"y\": 0.0889346097, \"yshift\": 15, \"z\": -0.1272520405}, {\"showarrow\": false, \"text\": 2, \"x\": 0.7232621459999999, \"y\": -0.4584290076, \"yshift\": 15, \"z\": -1.300876188}, {\"showarrow\": false, \"text\": 3, \"x\": 0.1238245416, \"y\": 0.0501887372, \"yshift\": 15, \"z\": -2.6308841519999997}, {\"showarrow\": false, \"text\": 4, \"x\": 2.157210129, \"y\": 0.10442007800000001, \"yshift\": 15, \"z\": -1.187704771}, {\"showarrow\": false, \"text\": 5, \"x\": 0.7428933326, \"y\": -2.050006231, \"yshift\": 15, \"z\": -1.266926595}, {\"showarrow\": false, \"text\": 6, \"x\": -0.6759062129000001, \"y\": -2.634685029, \"yshift\": 15, \"z\": -1.084507557}, {\"showarrow\": false, \"text\": 7, \"x\": 1.31159294, \"y\": -2.634483827, \"yshift\": 15, \"z\": -2.5795749}, {\"showarrow\": false, \"text\": 8, \"x\": 1.6186126730000001, \"y\": -2.579973006, \"yshift\": 15, \"z\": -0.1091192601}, {\"showarrow\": false, \"text\": 9, \"x\": 0.9480097826999999, \"y\": 1.8943453369999999, \"yshift\": 15, \"z\": 0.481421173}, {\"showarrow\": false, \"text\": 10, \"x\": -0.3092738062, \"y\": 2.200721494, \"yshift\": 15, \"z\": -0.7217730353}, {\"showarrow\": false, \"text\": 11, \"x\": -0.7508269465, \"y\": 1.86842654, \"yshift\": 15, \"z\": 0.9505787670999999}, {\"showarrow\": false, \"text\": 12, \"x\": 0.12227674990000001, \"y\": -0.4379293295, \"yshift\": 15, \"z\": 0.7962946154}, {\"showarrow\": false, \"text\": 13, \"x\": -1.192357123, \"y\": -0.15703497630000002, \"yshift\": 15, \"z\": -0.3240585306}, {\"showarrow\": false, \"text\": 14, \"x\": -0.0006103823999999999, \"y\": 1.136766667, \"yshift\": 15, \"z\": -2.604969604}, {\"showarrow\": false, \"text\": 15, \"x\": 0.7729881094, \"y\": -0.1743256111, \"yshift\": 15, \"z\": -3.481458537}, {\"showarrow\": false, \"text\": 16, \"x\": -0.8596096222, \"y\": -0.3845220736, \"yshift\": 15, \"z\": -2.834517706}, {\"showarrow\": false, \"text\": 17, \"x\": 2.580025748, \"y\": -0.0376716686, \"yshift\": 15, \"z\": -0.18893727940000002}, {\"showarrow\": false, \"text\": 18, \"x\": 2.834657692, \"y\": -0.3640105429, \"yshift\": 15, \"z\": -1.907436446}, {\"showarrow\": false, \"text\": 19, \"x\": 2.164788549, \"y\": 1.1780230520000001, \"yshift\": 15, \"z\": -1.396398206}, {\"showarrow\": false, \"text\": 20, \"x\": -1.381022363, \"y\": -2.255239187, \"yshift\": 15, \"z\": -1.8303136880000002}, {\"showarrow\": false, \"text\": 21, \"x\": -0.6427266620000001, \"y\": -3.72399217, \"yshift\": 15, \"z\": -1.195436365}, {\"showarrow\": false, \"text\": 22, \"x\": -1.086960082, \"y\": -2.423118681, \"yshift\": 15, \"z\": -0.09406155990000001}, {\"showarrow\": false, \"text\": 23, \"x\": 2.2932008880000003, \"y\": -2.2219338509999997, \"yshift\": 15, \"z\": -2.8316444169999997}, {\"showarrow\": false, \"text\": 24, \"x\": 1.4330460090000001, \"y\": -3.7183363839999997, \"yshift\": 15, \"z\": -2.4781804640000002}, {\"showarrow\": false, \"text\": 25, \"x\": 0.6453360499, \"y\": -2.460897357, \"yshift\": 15, \"z\": -3.428841438}, {\"showarrow\": false, \"text\": 26, \"x\": 1.325710642, \"y\": -2.1679296519999998, \"yshift\": 15, \"z\": 0.861082772}, {\"showarrow\": false, \"text\": 27, \"x\": 1.520565454, \"y\": -3.668834055, \"yshift\": 15, \"z\": -0.0402536398}, {\"showarrow\": false, \"text\": 28, \"x\": 2.678386831, \"y\": -2.358743505, \"yshift\": 15, \"z\": -0.2618302212}, {\"showarrow\": false, \"text\": 1.54, \"x\": -0.09748732275, \"y\": 0.84234702935, \"yshift\": 15, \"z\": 0.0130349219}, {\"showarrow\": false, \"text\": 1.56, \"x\": 0.2899898108, \"y\": -0.18474719895, \"yshift\": 15, \"z\": -0.71406411425}, {\"showarrow\": false, \"text\": 1.54, \"x\": 0.4235433438, \"y\": -0.2041201352, \"yshift\": 15, \"z\": -1.96588017}, {\"showarrow\": false, \"text\": 1.55, \"x\": 0.03349355985, \"y\": -2.34234563, \"yshift\": 15, \"z\": -1.175717076}, {\"showarrow\": false, \"text\": 1.54, \"x\": 1.4402361375, \"y\": -0.1770044648, \"yshift\": 15, \"z\": -1.2442904795}, {\"showarrow\": false, \"text\": 1.55, \"x\": 1.0272431363, \"y\": -2.342245029, \"yshift\": 15, \"z\": -1.9232507475}, {\"showarrow\": false, \"text\": 1.59, \"x\": 0.7330777393, \"y\": -1.2542176193, \"yshift\": 15, \"z\": -1.2839013915}, {\"showarrow\": false, \"text\": 1.55, \"x\": 1.1807530028, \"y\": -2.3149896185, \"yshift\": 15, \"z\": -0.68802292755}, {\"showarrow\": false, \"text\": 1.09, \"x\": 0.4481588308, \"y\": 1.745052393, \"yshift\": 15, \"z\": 0.31737152865}, {\"showarrow\": false, \"text\": 1.09, \"x\": 2.148499752, \"y\": -2.4693582555, \"yshift\": 15, \"z\": -0.18547474065}, {\"showarrow\": false, \"text\": 1.09, \"x\": -0.18048296365, \"y\": 1.8982404715, \"yshift\": 15, \"z\": -0.2842255755}, {\"showarrow\": false, \"text\": 1.1, \"x\": 1.5695890635, \"y\": -3.1244035305, \"yshift\": 15, \"z\": -0.07468644995}, {\"showarrow\": false, \"text\": 1.09, \"x\": -0.4012595338, \"y\": 1.7320929945, \"yshift\": 15, \"z\": 0.5519503257}, {\"showarrow\": false, \"text\": 1.1, \"x\": -0.01050288725, \"y\": -0.1744973599, \"yshift\": 15, \"z\": 0.33452128745}, {\"showarrow\": false, \"text\": 1.09, \"x\": 0.0616070796, \"y\": 0.5934777021, \"yshift\": 15, \"z\": -2.617926878}, {\"showarrow\": false, \"text\": 1.09, \"x\": 0.97846449495, \"y\": -2.547690592, \"yshift\": 15, \"z\": -3.004208169}, {\"showarrow\": false, \"text\": 1.09, \"x\": 1.4721616575, \"y\": -2.373951329, \"yshift\": 15, \"z\": 0.37598175595}, {\"showarrow\": false, \"text\": 1.1, \"x\": -0.6678198237, \"y\": -0.0340501833, \"yshift\": 15, \"z\": -0.22565528555}, {\"showarrow\": false, \"text\": 1.09, \"x\": 0.4484063255, \"y\": -0.06206843695, \"yshift\": 15, \"z\": -3.0561713445}, {\"showarrow\": false, \"text\": 1.1, \"x\": 1.3723194745, \"y\": -3.1764101055, \"yshift\": 15, \"z\": -2.528877682}, {\"showarrow\": false, \"text\": 1.09, \"x\": -0.3678925403, \"y\": -0.1671666682, \"yshift\": 15, \"z\": -2.732700929}, {\"showarrow\": false, \"text\": 1.09, \"x\": 2.3686179385, \"y\": 0.0333742047, \"yshift\": 15, \"z\": -0.6883210252}, {\"showarrow\": false, \"text\": 1.09, \"x\": -0.88143314745, \"y\": -2.528901855, \"yshift\": 15, \"z\": -0.58928455845}, {\"showarrow\": false, \"text\": 1.09, \"x\": 1.802396914, \"y\": -2.428208839, \"yshift\": 15, \"z\": -2.7056096585}, {\"showarrow\": false, \"text\": 1.09, \"x\": 2.4959339105, \"y\": -0.12979523245, \"yshift\": 15, \"z\": -1.5475706085}, {\"showarrow\": false, \"text\": 1.09, \"x\": -1.02846428795, \"y\": -2.444962108, \"yshift\": 15, \"z\": -1.4574106225}, {\"showarrow\": false, \"text\": 1.09, \"x\": 2.160999339, \"y\": 0.641221565, \"yshift\": 15, \"z\": -1.2920514885}, {\"showarrow\": false, \"text\": 1.1, \"x\": -0.65931643745, \"y\": -3.1793385995, \"yshift\": 15, \"z\": -1.139971961}]}], \"label\": \"Atom indices & Bond lengths\", \"method\": \"relayout\"}, {\"args\": [{\"scene.annotations\": []}], \"label\": \"Hide all\", \"method\": \"relayout\"}], \"direction\": \"down\", \"xanchor\": \"left\", \"yanchor\": \"top\"}]},\n",
       "                        {\"showLink\": false, \"linkText\": \"Export to plot.ly\", \"plotlyServerURL\": \"https://plot.ly\", \"responsive\": true}\n",
       "                    ).then(function(){\n",
       "                            \n",
       "var gd = document.getElementById('ad620310-0643-4d69-b89d-6684a2c676ea');\n",
       "var x = new MutationObserver(function (mutations, observer) {{\n",
       "        var display = window.getComputedStyle(gd).display;\n",
       "        if (!display || display === 'none') {{\n",
       "            console.log([gd, 'removed!']);\n",
       "            Plotly.purge(gd);\n",
       "            observer.disconnect();\n",
       "        }}\n",
       "}});\n",
       "\n",
       "// Listen for the removal of the full notebook cells\n",
       "var notebookContainer = gd.closest('#notebook-container');\n",
       "if (notebookContainer) {{\n",
       "    x.observe(notebookContainer, {childList: true});\n",
       "}}\n",
       "\n",
       "// Listen for the clearing of the current output cell\n",
       "var outputEl = gd.closest('.output');\n",
       "if (outputEl) {{\n",
       "    x.observe(outputEl, {childList: true});\n",
       "}}\n",
       "\n",
       "                        })\n",
       "                };\n",
       "                });\n",
       "            </script>\n",
       "        </div>"
      ]
     },
     "metadata": {},
     "output_type": "display_data"
    }
   ],
   "source": [
    "plot_molecule('dsgdb9nsd_099964', structures)"
   ]
  },
  {
   "cell_type": "code",
   "execution_count": 5,
   "metadata": {},
   "outputs": [
    {
     "data": {
      "application/vnd.plotly.v1+json": {
       "config": {
        "linkText": "Export to plot.ly",
        "plotlyServerURL": "https://plot.ly",
        "showLink": false
       },
       "data": [
        {
         "marker": {
          "color": [
           "green",
           "black",
           "green",
           "green",
           "black",
           "black",
           "green",
           "green",
           "green",
           "white",
           "white"
          ],
          "line": {
           "color": "lightgray",
           "width": 2
          },
          "opacity": 0.8,
          "size": 7,
          "symbol": "circle"
         },
         "mode": "markers",
         "name": "",
         "text": [
          "F",
          "C",
          "F",
          "F",
          "C",
          "C",
          "F",
          "F",
          "F",
          "H",
          "H"
         ],
         "type": "scatter3d",
         "uid": "c14a1f8e-5c6d-424d-bf42-84b70d9c452e",
         "x": [
          0.0050047185,
          -0.026107292200000003,
          1.22929072,
          -0.7151526759000001,
          -0.6913309301,
          -0.0017665914000000002,
          1.2555010420000001,
          -0.6704934934000001,
          0.0307837415,
          -0.7135092253,
          -1.7182057640000001
         ],
         "y": [
          0.0679721175,
          1.4011204940000002,
          1.850310423,
          1.873120394,
          1.859658649,
          1.387316148,
          1.8352196230000002,
          1.848189743,
          0.0531781831,
          2.951204768,
          1.4888894259999998
         ],
         "z": [
          -0.12013764140000001,
          -0.0205173977,
          -0.1223617279,
          -1.0695347290000001,
          1.267943786,
          2.53849863,
          2.621130074,
          3.605461113,
          2.623283613,
          1.274038531,
          1.275716679
         ]
        },
        {
         "hoverinfo": "none",
         "marker": {
          "color": "grey",
          "opacity": 1,
          "size": 7
         },
         "mode": "lines",
         "type": "scatter3d",
         "uid": "bb95ad1c-8284-448d-963d-254ffbb38424",
         "x": [
          0.0050047185,
          -0.026107292200000003,
          null,
          -0.026107292200000003,
          1.22929072,
          null,
          -0.6913309301,
          -0.0017665914000000002,
          null,
          -0.0017665914000000002,
          1.2555010420000001,
          null,
          -0.026107292200000003,
          -0.7151526759000001,
          null,
          -0.0017665914000000002,
          -0.6704934934000001,
          null,
          -0.026107292200000003,
          -0.6913309301,
          null,
          0.0307837415,
          -0.0017665914000000002,
          null,
          -0.7135092253,
          -0.6913309301,
          null,
          -1.7182057640000001,
          -0.6913309301,
          null
         ],
         "y": [
          0.0679721175,
          1.4011204940000002,
          null,
          1.4011204940000002,
          1.850310423,
          null,
          1.859658649,
          1.387316148,
          null,
          1.387316148,
          1.8352196230000002,
          null,
          1.4011204940000002,
          1.873120394,
          null,
          1.387316148,
          1.848189743,
          null,
          1.4011204940000002,
          1.859658649,
          null,
          0.0531781831,
          1.387316148,
          null,
          2.951204768,
          1.859658649,
          null,
          1.4888894259999998,
          1.859658649,
          null
         ],
         "z": [
          -0.12013764140000001,
          -0.0205173977,
          null,
          -0.0205173977,
          -0.1223617279,
          null,
          1.267943786,
          2.53849863,
          null,
          2.53849863,
          2.621130074,
          null,
          -0.0205173977,
          -1.0695347290000001,
          null,
          2.53849863,
          3.605461113,
          null,
          -0.0205173977,
          1.267943786,
          null,
          2.623283613,
          2.53849863,
          null,
          1.274038531,
          1.267943786,
          null,
          1.275716679,
          1.267943786,
          null
         ]
        }
       ],
       "layout": {
        "margin": {
         "b": 0,
         "l": 0,
         "r": 0,
         "t": 0
        },
        "scene": {
         "annotations": [
          {
           "showarrow": false,
           "text": "0",
           "x": 0.0050047185,
           "y": 0.0679721175,
           "yshift": 15,
           "z": -0.12013764140000001
          },
          {
           "showarrow": false,
           "text": "1",
           "x": -0.026107292200000003,
           "y": 1.4011204940000002,
           "yshift": 15,
           "z": -0.0205173977
          },
          {
           "showarrow": false,
           "text": "2",
           "x": 1.22929072,
           "y": 1.850310423,
           "yshift": 15,
           "z": -0.1223617279
          },
          {
           "showarrow": false,
           "text": "3",
           "x": -0.7151526759000001,
           "y": 1.873120394,
           "yshift": 15,
           "z": -1.0695347290000001
          },
          {
           "showarrow": false,
           "text": "4",
           "x": -0.6913309301,
           "y": 1.859658649,
           "yshift": 15,
           "z": 1.267943786
          },
          {
           "showarrow": false,
           "text": "5",
           "x": -0.0017665914000000002,
           "y": 1.387316148,
           "yshift": 15,
           "z": 2.53849863
          },
          {
           "showarrow": false,
           "text": "6",
           "x": 1.2555010420000001,
           "y": 1.8352196230000002,
           "yshift": 15,
           "z": 2.621130074
          },
          {
           "showarrow": false,
           "text": "7",
           "x": -0.6704934934000001,
           "y": 1.848189743,
           "yshift": 15,
           "z": 3.605461113
          },
          {
           "showarrow": false,
           "text": "8",
           "x": 0.0307837415,
           "y": 0.0531781831,
           "yshift": 15,
           "z": 2.623283613
          },
          {
           "showarrow": false,
           "text": "9",
           "x": -0.7135092253,
           "y": 2.951204768,
           "yshift": 15,
           "z": 1.274038531
          },
          {
           "showarrow": false,
           "text": "10",
           "x": -1.7182057640000001,
           "y": 1.4888894259999998,
           "yshift": 15,
           "z": 1.275716679
          }
         ],
         "aspectmode": "auto",
         "aspectratio": {
          "x": 0.8674362485053875,
          "y": 0.8453601759939395,
          "z": 1.363705677634571
         },
         "xaxis": {
          "showgrid": false,
          "showticklabels": false,
          "title": {
           "font": {
            "color": "white"
           }
          },
          "type": "linear",
          "zeroline": false
         },
         "yaxis": {
          "showgrid": false,
          "showticklabels": false,
          "title": {
           "font": {
            "color": "white"
           }
          },
          "type": "linear",
          "zeroline": false
         },
         "zaxis": {
          "showgrid": false,
          "showticklabels": false,
          "title": {
           "font": {
            "color": "white"
           }
          },
          "type": "linear",
          "zeroline": false
         }
        },
        "showlegend": false,
        "updatemenus": [
         {
          "buttons": [
           {
            "args": [
             {
              "scene.annotations": [
               {
                "showarrow": false,
                "text": 0,
                "x": 0.0050047185,
                "y": 0.0679721175,
                "yshift": 15,
                "z": -0.12013764140000001
               },
               {
                "showarrow": false,
                "text": 1,
                "x": -0.026107292200000003,
                "y": 1.4011204940000002,
                "yshift": 15,
                "z": -0.0205173977
               },
               {
                "showarrow": false,
                "text": 2,
                "x": 1.22929072,
                "y": 1.850310423,
                "yshift": 15,
                "z": -0.1223617279
               },
               {
                "showarrow": false,
                "text": 3,
                "x": -0.7151526759000001,
                "y": 1.873120394,
                "yshift": 15,
                "z": -1.0695347290000001
               },
               {
                "showarrow": false,
                "text": 4,
                "x": -0.6913309301,
                "y": 1.859658649,
                "yshift": 15,
                "z": 1.267943786
               },
               {
                "showarrow": false,
                "text": 5,
                "x": -0.0017665914000000002,
                "y": 1.387316148,
                "yshift": 15,
                "z": 2.53849863
               },
               {
                "showarrow": false,
                "text": 6,
                "x": 1.2555010420000001,
                "y": 1.8352196230000002,
                "yshift": 15,
                "z": 2.621130074
               },
               {
                "showarrow": false,
                "text": 7,
                "x": -0.6704934934000001,
                "y": 1.848189743,
                "yshift": 15,
                "z": 3.605461113
               },
               {
                "showarrow": false,
                "text": 8,
                "x": 0.0307837415,
                "y": 0.0531781831,
                "yshift": 15,
                "z": 2.623283613
               },
               {
                "showarrow": false,
                "text": 9,
                "x": -0.7135092253,
                "y": 2.951204768,
                "yshift": 15,
                "z": 1.274038531
               },
               {
                "showarrow": false,
                "text": 10,
                "x": -1.7182057640000001,
                "y": 1.4888894259999998,
                "yshift": 15,
                "z": 1.275716679
               }
              ]
             }
            ],
            "label": "Atom indices",
            "method": "relayout"
           },
           {
            "args": [
             {
              "scene.annotations": [
               {
                "showarrow": false,
                "text": 1.34,
                "x": -0.01055128685,
                "y": 0.73454630575,
                "yshift": 15,
                "z": -0.07032751955
               },
               {
                "showarrow": false,
                "text": 1.34,
                "x": 0.6015917139,
                "y": 1.6257154585,
                "yshift": 15,
                "z": -0.0714395628
               },
               {
                "showarrow": false,
                "text": 1.52,
                "x": -0.34654876075,
                "y": 1.6234873985,
                "yshift": 15,
                "z": 1.903221208
               },
               {
                "showarrow": false,
                "text": 1.34,
                "x": 0.6268672253,
                "y": 1.6112678855,
                "yshift": 15,
                "z": 2.579814352
               },
               {
                "showarrow": false,
                "text": 1.34,
                "x": -0.37062998405,
                "y": 1.637120444,
                "yshift": 15,
                "z": -0.54502606335
               },
               {
                "showarrow": false,
                "text": 1.34,
                "x": -0.3361300424,
                "y": 1.6177529455,
                "yshift": 15,
                "z": 3.0719798715
               },
               {
                "showarrow": false,
                "text": 1.52,
                "x": -0.35871911115,
                "y": 1.6303895715,
                "yshift": 15,
                "z": 0.62371319415
               },
               {
                "showarrow": false,
                "text": 1.34,
                "x": 0.01450857505,
                "y": 0.72024716555,
                "yshift": 15,
                "z": 2.5808911215
               },
               {
                "showarrow": false,
                "text": 1.09,
                "x": -0.7024200777,
                "y": 2.4054317085,
                "yshift": 15,
                "z": 1.2709911585
               },
               {
                "showarrow": false,
                "text": 1.09,
                "x": -1.20476834705,
                "y": 1.6742740375,
                "yshift": 15,
                "z": 1.2718302325
               }
              ]
             }
            ],
            "label": "Bond lengths",
            "method": "relayout"
           },
           {
            "args": [
             {
              "scene.annotations": [
               {
                "showarrow": false,
                "text": 0,
                "x": 0.0050047185,
                "y": 0.0679721175,
                "yshift": 15,
                "z": -0.12013764140000001
               },
               {
                "showarrow": false,
                "text": 1,
                "x": -0.026107292200000003,
                "y": 1.4011204940000002,
                "yshift": 15,
                "z": -0.0205173977
               },
               {
                "showarrow": false,
                "text": 2,
                "x": 1.22929072,
                "y": 1.850310423,
                "yshift": 15,
                "z": -0.1223617279
               },
               {
                "showarrow": false,
                "text": 3,
                "x": -0.7151526759000001,
                "y": 1.873120394,
                "yshift": 15,
                "z": -1.0695347290000001
               },
               {
                "showarrow": false,
                "text": 4,
                "x": -0.6913309301,
                "y": 1.859658649,
                "yshift": 15,
                "z": 1.267943786
               },
               {
                "showarrow": false,
                "text": 5,
                "x": -0.0017665914000000002,
                "y": 1.387316148,
                "yshift": 15,
                "z": 2.53849863
               },
               {
                "showarrow": false,
                "text": 6,
                "x": 1.2555010420000001,
                "y": 1.8352196230000002,
                "yshift": 15,
                "z": 2.621130074
               },
               {
                "showarrow": false,
                "text": 7,
                "x": -0.6704934934000001,
                "y": 1.848189743,
                "yshift": 15,
                "z": 3.605461113
               },
               {
                "showarrow": false,
                "text": 8,
                "x": 0.0307837415,
                "y": 0.0531781831,
                "yshift": 15,
                "z": 2.623283613
               },
               {
                "showarrow": false,
                "text": 9,
                "x": -0.7135092253,
                "y": 2.951204768,
                "yshift": 15,
                "z": 1.274038531
               },
               {
                "showarrow": false,
                "text": 10,
                "x": -1.7182057640000001,
                "y": 1.4888894259999998,
                "yshift": 15,
                "z": 1.275716679
               },
               {
                "showarrow": false,
                "text": 1.34,
                "x": -0.01055128685,
                "y": 0.73454630575,
                "yshift": 15,
                "z": -0.07032751955
               },
               {
                "showarrow": false,
                "text": 1.34,
                "x": 0.6015917139,
                "y": 1.6257154585,
                "yshift": 15,
                "z": -0.0714395628
               },
               {
                "showarrow": false,
                "text": 1.52,
                "x": -0.34654876075,
                "y": 1.6234873985,
                "yshift": 15,
                "z": 1.903221208
               },
               {
                "showarrow": false,
                "text": 1.34,
                "x": 0.6268672253,
                "y": 1.6112678855,
                "yshift": 15,
                "z": 2.579814352
               },
               {
                "showarrow": false,
                "text": 1.34,
                "x": -0.37062998405,
                "y": 1.637120444,
                "yshift": 15,
                "z": -0.54502606335
               },
               {
                "showarrow": false,
                "text": 1.34,
                "x": -0.3361300424,
                "y": 1.6177529455,
                "yshift": 15,
                "z": 3.0719798715
               },
               {
                "showarrow": false,
                "text": 1.52,
                "x": -0.35871911115,
                "y": 1.6303895715,
                "yshift": 15,
                "z": 0.62371319415
               },
               {
                "showarrow": false,
                "text": 1.34,
                "x": 0.01450857505,
                "y": 0.72024716555,
                "yshift": 15,
                "z": 2.5808911215
               },
               {
                "showarrow": false,
                "text": 1.09,
                "x": -0.7024200777,
                "y": 2.4054317085,
                "yshift": 15,
                "z": 1.2709911585
               },
               {
                "showarrow": false,
                "text": 1.09,
                "x": -1.20476834705,
                "y": 1.6742740375,
                "yshift": 15,
                "z": 1.2718302325
               }
              ]
             }
            ],
            "label": "Atom indices & Bond lengths",
            "method": "relayout"
           },
           {
            "args": [
             {
              "scene.annotations": []
             }
            ],
            "label": "Hide all",
            "method": "relayout"
           }
          ],
          "direction": "down",
          "xanchor": "left",
          "yanchor": "top"
         }
        ]
       }
      },
      "text/html": [
       "<div>\n",
       "        \n",
       "        \n",
       "            <div id=\"970b977e-03e8-4971-9b8c-30f8e173692f\" class=\"plotly-graph-div\" style=\"height:525px; width:100%;\"></div>\n",
       "            <script type=\"text/javascript\">\n",
       "                require([\"plotly\"], function(Plotly) {\n",
       "                    window.PLOTLYENV=window.PLOTLYENV || {};\n",
       "                    window.PLOTLYENV.BASE_URL='https://plot.ly';\n",
       "                    \n",
       "                if (document.getElementById(\"970b977e-03e8-4971-9b8c-30f8e173692f\")) {\n",
       "                    Plotly.newPlot(\n",
       "                        '970b977e-03e8-4971-9b8c-30f8e173692f',\n",
       "                        [{\"marker\": {\"color\": [\"green\", \"black\", \"green\", \"green\", \"black\", \"black\", \"green\", \"green\", \"green\", \"white\", \"white\"], \"line\": {\"color\": \"lightgray\", \"width\": 2}, \"opacity\": 0.8, \"size\": 7, \"symbol\": \"circle\"}, \"mode\": \"markers\", \"name\": \"\", \"text\": [\"F\", \"C\", \"F\", \"F\", \"C\", \"C\", \"F\", \"F\", \"F\", \"H\", \"H\"], \"type\": \"scatter3d\", \"uid\": \"c14a1f8e-5c6d-424d-bf42-84b70d9c452e\", \"x\": [0.0050047185, -0.026107292200000003, 1.22929072, -0.7151526759000001, -0.6913309301, -0.0017665914000000002, 1.2555010420000001, -0.6704934934000001, 0.0307837415, -0.7135092253, -1.7182057640000001], \"y\": [0.0679721175, 1.4011204940000002, 1.850310423, 1.873120394, 1.859658649, 1.387316148, 1.8352196230000002, 1.848189743, 0.0531781831, 2.951204768, 1.4888894259999998], \"z\": [-0.12013764140000001, -0.0205173977, -0.1223617279, -1.0695347290000001, 1.267943786, 2.53849863, 2.621130074, 3.605461113, 2.623283613, 1.274038531, 1.275716679]}, {\"hoverinfo\": \"none\", \"marker\": {\"color\": \"grey\", \"opacity\": 1, \"size\": 7}, \"mode\": \"lines\", \"type\": \"scatter3d\", \"uid\": \"bb95ad1c-8284-448d-963d-254ffbb38424\", \"x\": [0.0050047185, -0.026107292200000003, null, -0.026107292200000003, 1.22929072, null, -0.6913309301, -0.0017665914000000002, null, -0.0017665914000000002, 1.2555010420000001, null, -0.026107292200000003, -0.7151526759000001, null, -0.0017665914000000002, -0.6704934934000001, null, -0.026107292200000003, -0.6913309301, null, 0.0307837415, -0.0017665914000000002, null, -0.7135092253, -0.6913309301, null, -1.7182057640000001, -0.6913309301, null], \"y\": [0.0679721175, 1.4011204940000002, null, 1.4011204940000002, 1.850310423, null, 1.859658649, 1.387316148, null, 1.387316148, 1.8352196230000002, null, 1.4011204940000002, 1.873120394, null, 1.387316148, 1.848189743, null, 1.4011204940000002, 1.859658649, null, 0.0531781831, 1.387316148, null, 2.951204768, 1.859658649, null, 1.4888894259999998, 1.859658649, null], \"z\": [-0.12013764140000001, -0.0205173977, null, -0.0205173977, -0.1223617279, null, 1.267943786, 2.53849863, null, 2.53849863, 2.621130074, null, -0.0205173977, -1.0695347290000001, null, 2.53849863, 3.605461113, null, -0.0205173977, 1.267943786, null, 2.623283613, 2.53849863, null, 1.274038531, 1.267943786, null, 1.275716679, 1.267943786, null]}],\n",
       "                        {\"margin\": {\"b\": 0, \"l\": 0, \"r\": 0, \"t\": 0}, \"scene\": {\"annotations\": [{\"showarrow\": false, \"text\": \"0\", \"x\": 0.0050047185, \"y\": 0.0679721175, \"yshift\": 15, \"z\": -0.12013764140000001}, {\"showarrow\": false, \"text\": \"1\", \"x\": -0.026107292200000003, \"y\": 1.4011204940000002, \"yshift\": 15, \"z\": -0.0205173977}, {\"showarrow\": false, \"text\": \"2\", \"x\": 1.22929072, \"y\": 1.850310423, \"yshift\": 15, \"z\": -0.1223617279}, {\"showarrow\": false, \"text\": \"3\", \"x\": -0.7151526759000001, \"y\": 1.873120394, \"yshift\": 15, \"z\": -1.0695347290000001}, {\"showarrow\": false, \"text\": \"4\", \"x\": -0.6913309301, \"y\": 1.859658649, \"yshift\": 15, \"z\": 1.267943786}, {\"showarrow\": false, \"text\": \"5\", \"x\": -0.0017665914000000002, \"y\": 1.387316148, \"yshift\": 15, \"z\": 2.53849863}, {\"showarrow\": false, \"text\": \"6\", \"x\": 1.2555010420000001, \"y\": 1.8352196230000002, \"yshift\": 15, \"z\": 2.621130074}, {\"showarrow\": false, \"text\": \"7\", \"x\": -0.6704934934000001, \"y\": 1.848189743, \"yshift\": 15, \"z\": 3.605461113}, {\"showarrow\": false, \"text\": \"8\", \"x\": 0.0307837415, \"y\": 0.0531781831, \"yshift\": 15, \"z\": 2.623283613}, {\"showarrow\": false, \"text\": \"9\", \"x\": -0.7135092253, \"y\": 2.951204768, \"yshift\": 15, \"z\": 1.274038531}, {\"showarrow\": false, \"text\": \"10\", \"x\": -1.7182057640000001, \"y\": 1.4888894259999998, \"yshift\": 15, \"z\": 1.275716679}], \"xaxis\": {\"showgrid\": false, \"showticklabels\": false, \"title\": {\"font\": {\"color\": \"white\"}}, \"zeroline\": false}, \"yaxis\": {\"showgrid\": false, \"showticklabels\": false, \"title\": {\"font\": {\"color\": \"white\"}}, \"zeroline\": false}, \"zaxis\": {\"showgrid\": false, \"showticklabels\": false, \"title\": {\"font\": {\"color\": \"white\"}}, \"zeroline\": false}}, \"showlegend\": false, \"updatemenus\": [{\"buttons\": [{\"args\": [{\"scene.annotations\": [{\"showarrow\": false, \"text\": 0, \"x\": 0.0050047185, \"y\": 0.0679721175, \"yshift\": 15, \"z\": -0.12013764140000001}, {\"showarrow\": false, \"text\": 1, \"x\": -0.026107292200000003, \"y\": 1.4011204940000002, \"yshift\": 15, \"z\": -0.0205173977}, {\"showarrow\": false, \"text\": 2, \"x\": 1.22929072, \"y\": 1.850310423, \"yshift\": 15, \"z\": -0.1223617279}, {\"showarrow\": false, \"text\": 3, \"x\": -0.7151526759000001, \"y\": 1.873120394, \"yshift\": 15, \"z\": -1.0695347290000001}, {\"showarrow\": false, \"text\": 4, \"x\": -0.6913309301, \"y\": 1.859658649, \"yshift\": 15, \"z\": 1.267943786}, {\"showarrow\": false, \"text\": 5, \"x\": -0.0017665914000000002, \"y\": 1.387316148, \"yshift\": 15, \"z\": 2.53849863}, {\"showarrow\": false, \"text\": 6, \"x\": 1.2555010420000001, \"y\": 1.8352196230000002, \"yshift\": 15, \"z\": 2.621130074}, {\"showarrow\": false, \"text\": 7, \"x\": -0.6704934934000001, \"y\": 1.848189743, \"yshift\": 15, \"z\": 3.605461113}, {\"showarrow\": false, \"text\": 8, \"x\": 0.0307837415, \"y\": 0.0531781831, \"yshift\": 15, \"z\": 2.623283613}, {\"showarrow\": false, \"text\": 9, \"x\": -0.7135092253, \"y\": 2.951204768, \"yshift\": 15, \"z\": 1.274038531}, {\"showarrow\": false, \"text\": 10, \"x\": -1.7182057640000001, \"y\": 1.4888894259999998, \"yshift\": 15, \"z\": 1.275716679}]}], \"label\": \"Atom indices\", \"method\": \"relayout\"}, {\"args\": [{\"scene.annotations\": [{\"showarrow\": false, \"text\": 1.34, \"x\": -0.01055128685, \"y\": 0.73454630575, \"yshift\": 15, \"z\": -0.07032751955}, {\"showarrow\": false, \"text\": 1.34, \"x\": 0.6015917139, \"y\": 1.6257154585, \"yshift\": 15, \"z\": -0.0714395628}, {\"showarrow\": false, \"text\": 1.52, \"x\": -0.34654876075, \"y\": 1.6234873985, \"yshift\": 15, \"z\": 1.903221208}, {\"showarrow\": false, \"text\": 1.34, \"x\": 0.6268672253, \"y\": 1.6112678855, \"yshift\": 15, \"z\": 2.579814352}, {\"showarrow\": false, \"text\": 1.34, \"x\": -0.37062998405, \"y\": 1.637120444, \"yshift\": 15, \"z\": -0.54502606335}, {\"showarrow\": false, \"text\": 1.34, \"x\": -0.3361300424, \"y\": 1.6177529455, \"yshift\": 15, \"z\": 3.0719798715}, {\"showarrow\": false, \"text\": 1.52, \"x\": -0.35871911115, \"y\": 1.6303895715, \"yshift\": 15, \"z\": 0.62371319415}, {\"showarrow\": false, \"text\": 1.34, \"x\": 0.01450857505, \"y\": 0.72024716555, \"yshift\": 15, \"z\": 2.5808911215}, {\"showarrow\": false, \"text\": 1.09, \"x\": -0.7024200777, \"y\": 2.4054317085, \"yshift\": 15, \"z\": 1.2709911585}, {\"showarrow\": false, \"text\": 1.09, \"x\": -1.20476834705, \"y\": 1.6742740375, \"yshift\": 15, \"z\": 1.2718302325}]}], \"label\": \"Bond lengths\", \"method\": \"relayout\"}, {\"args\": [{\"scene.annotations\": [{\"showarrow\": false, \"text\": 0, \"x\": 0.0050047185, \"y\": 0.0679721175, \"yshift\": 15, \"z\": -0.12013764140000001}, {\"showarrow\": false, \"text\": 1, \"x\": -0.026107292200000003, \"y\": 1.4011204940000002, \"yshift\": 15, \"z\": -0.0205173977}, {\"showarrow\": false, \"text\": 2, \"x\": 1.22929072, \"y\": 1.850310423, \"yshift\": 15, \"z\": -0.1223617279}, {\"showarrow\": false, \"text\": 3, \"x\": -0.7151526759000001, \"y\": 1.873120394, \"yshift\": 15, \"z\": -1.0695347290000001}, {\"showarrow\": false, \"text\": 4, \"x\": -0.6913309301, \"y\": 1.859658649, \"yshift\": 15, \"z\": 1.267943786}, {\"showarrow\": false, \"text\": 5, \"x\": -0.0017665914000000002, \"y\": 1.387316148, \"yshift\": 15, \"z\": 2.53849863}, {\"showarrow\": false, \"text\": 6, \"x\": 1.2555010420000001, \"y\": 1.8352196230000002, \"yshift\": 15, \"z\": 2.621130074}, {\"showarrow\": false, \"text\": 7, \"x\": -0.6704934934000001, \"y\": 1.848189743, \"yshift\": 15, \"z\": 3.605461113}, {\"showarrow\": false, \"text\": 8, \"x\": 0.0307837415, \"y\": 0.0531781831, \"yshift\": 15, \"z\": 2.623283613}, {\"showarrow\": false, \"text\": 9, \"x\": -0.7135092253, \"y\": 2.951204768, \"yshift\": 15, \"z\": 1.274038531}, {\"showarrow\": false, \"text\": 10, \"x\": -1.7182057640000001, \"y\": 1.4888894259999998, \"yshift\": 15, \"z\": 1.275716679}, {\"showarrow\": false, \"text\": 1.34, \"x\": -0.01055128685, \"y\": 0.73454630575, \"yshift\": 15, \"z\": -0.07032751955}, {\"showarrow\": false, \"text\": 1.34, \"x\": 0.6015917139, \"y\": 1.6257154585, \"yshift\": 15, \"z\": -0.0714395628}, {\"showarrow\": false, \"text\": 1.52, \"x\": -0.34654876075, \"y\": 1.6234873985, \"yshift\": 15, \"z\": 1.903221208}, {\"showarrow\": false, \"text\": 1.34, \"x\": 0.6268672253, \"y\": 1.6112678855, \"yshift\": 15, \"z\": 2.579814352}, {\"showarrow\": false, \"text\": 1.34, \"x\": -0.37062998405, \"y\": 1.637120444, \"yshift\": 15, \"z\": -0.54502606335}, {\"showarrow\": false, \"text\": 1.34, \"x\": -0.3361300424, \"y\": 1.6177529455, \"yshift\": 15, \"z\": 3.0719798715}, {\"showarrow\": false, \"text\": 1.52, \"x\": -0.35871911115, \"y\": 1.6303895715, \"yshift\": 15, \"z\": 0.62371319415}, {\"showarrow\": false, \"text\": 1.34, \"x\": 0.01450857505, \"y\": 0.72024716555, \"yshift\": 15, \"z\": 2.5808911215}, {\"showarrow\": false, \"text\": 1.09, \"x\": -0.7024200777, \"y\": 2.4054317085, \"yshift\": 15, \"z\": 1.2709911585}, {\"showarrow\": false, \"text\": 1.09, \"x\": -1.20476834705, \"y\": 1.6742740375, \"yshift\": 15, \"z\": 1.2718302325}]}], \"label\": \"Atom indices & Bond lengths\", \"method\": \"relayout\"}, {\"args\": [{\"scene.annotations\": []}], \"label\": \"Hide all\", \"method\": \"relayout\"}], \"direction\": \"down\", \"xanchor\": \"left\", \"yanchor\": \"top\"}]},\n",
       "                        {\"showLink\": false, \"linkText\": \"Export to plot.ly\", \"plotlyServerURL\": \"https://plot.ly\", \"responsive\": true}\n",
       "                    ).then(function(){\n",
       "                            \n",
       "var gd = document.getElementById('970b977e-03e8-4971-9b8c-30f8e173692f');\n",
       "var x = new MutationObserver(function (mutations, observer) {{\n",
       "        var display = window.getComputedStyle(gd).display;\n",
       "        if (!display || display === 'none') {{\n",
       "            console.log([gd, 'removed!']);\n",
       "            Plotly.purge(gd);\n",
       "            observer.disconnect();\n",
       "        }}\n",
       "}});\n",
       "\n",
       "// Listen for the removal of the full notebook cells\n",
       "var notebookContainer = gd.closest('#notebook-container');\n",
       "if (notebookContainer) {{\n",
       "    x.observe(notebookContainer, {childList: true});\n",
       "}}\n",
       "\n",
       "// Listen for the clearing of the current output cell\n",
       "var outputEl = gd.closest('.output');\n",
       "if (outputEl) {{\n",
       "    x.observe(outputEl, {childList: true});\n",
       "}}\n",
       "\n",
       "                        })\n",
       "                };\n",
       "                });\n",
       "            </script>\n",
       "        </div>"
      ]
     },
     "metadata": {},
     "output_type": "display_data"
    }
   ],
   "source": [
    "plot_molecule('dsgdb9nsd_133621', structures)"
   ]
  },
  {
   "cell_type": "code",
   "execution_count": 6,
   "metadata": {},
   "outputs": [
    {
     "data": {
      "application/vnd.plotly.v1+json": {
       "config": {
        "linkText": "Export to plot.ly",
        "plotlyServerURL": "https://plot.ly",
        "showLink": false
       },
       "data": [
        {
         "marker": {
          "color": [
           "black",
           "black",
           "black",
           "black",
           "black",
           "black",
           "red",
           "black",
           "black",
           "white",
           "white",
           "white",
           "white",
           "white",
           "white",
           "white",
           "white",
           "white",
           "white",
           "white",
           "white",
           "white",
           "white",
           "white",
           "white",
           "white",
           "white"
          ],
          "line": {
           "color": "lightgray",
           "width": 2
          },
          "opacity": 0.8,
          "size": 7,
          "symbol": "circle"
         },
         "mode": "markers",
         "name": "",
         "text": [
          "C",
          "C",
          "C",
          "C",
          "C",
          "C",
          "O",
          "C",
          "C",
          "H",
          "H",
          "H",
          "H",
          "H",
          "H",
          "H",
          "H",
          "H",
          "H",
          "H",
          "H",
          "H",
          "H",
          "H",
          "H",
          "H",
          "H"
         ],
         "type": "scatter3d",
         "uid": "999a8c23-c40d-4643-ab39-17b6caca64f3",
         "x": [
          -0.0835999808,
          0.016632586799999998,
          0.7568903467,
          0.8137972368,
          1.6084046730000001,
          1.388708866,
          1.304161981,
          1.845953353,
          1.693311866,
          0.9101909078,
          -0.6161932617,
          -0.6181174336999999,
          -0.9918282513,
          0.5201496872,
          1.7808448140000002,
          0.2687439605,
          -0.2152518038,
          1.687180031,
          1.135119325,
          2.625031556,
          2.440729339,
          0.8323595424,
          2.9095487010000003,
          1.327235189,
          0.6380872424,
          2.221051478,
          2.104008018
         ],
         "y": [
          1.5910533669999998,
          0.06543529769999999,
          -0.5500502482999999,
          -2.0877140730000003,
          -2.663234745,
          -2.581169466,
          -3.989277308,
          -4.540301566,
          -6.051257561,
          2.05189365,
          2.007390498,
          1.9018513540000002,
          -0.36541571869999995,
          -0.2089536391,
          -0.14971601140000002,
          -0.2105785641,
          -2.470063161,
          -3.748674803,
          -2.4353930409999998,
          -2.250524187,
          -2.257328416,
          -2.136032026,
          -4.261979033,
          -4.1308014669999995,
          -6.3272670589999995,
          -6.4599831960000005,
          -6.509128798
         ],
         "z": [
          0.07781381009999999,
          -0.0104387967,
          1.1831678190000001,
          1.186628634,
          0.0064700348,
          2.515724692,
          2.569782524,
          3.750778345,
          3.697647635,
          0.1085287408,
          -0.7830355379999999,
          0.9825705953,
          -0.0696535348,
          -0.9447307618,
          1.218092589,
          2.107636477,
          1.1292219829999999,
          0.09866139369999999,
          -0.9525409187,
          -0.0152074697,
          2.617434017,
          3.3587418039999997,
          3.84849208,
          4.634907308,
          3.616453393,
          2.831152308,
          4.602568427
         ]
        },
        {
         "hoverinfo": "none",
         "marker": {
          "color": "grey",
          "opacity": 1,
          "size": 7
         },
         "mode": "lines",
         "type": "scatter3d",
         "uid": "f95596ca-612c-4b33-9713-8056c0af73cb",
         "x": [
          -0.0835999808,
          0.016632586799999998,
          null,
          0.016632586799999998,
          0.7568903467,
          null,
          0.7568903467,
          0.8137972368,
          null,
          0.8137972368,
          1.6084046730000001,
          null,
          1.388708866,
          1.304161981,
          null,
          1.304161981,
          1.845953353,
          null,
          1.693311866,
          1.845953353,
          null,
          0.8137972368,
          1.388708866,
          null,
          -0.0835999808,
          0.9101909078,
          null,
          1.693311866,
          2.104008018,
          null,
          -0.0835999808,
          -0.6161932617,
          null,
          1.693311866,
          2.221051478,
          null,
          -0.0835999808,
          -0.6181174336999999,
          null,
          0.016632586799999998,
          -0.9918282513,
          null,
          1.388708866,
          0.8323595424,
          null,
          1.845953353,
          1.327235189,
          null,
          0.6380872424,
          1.693311866,
          null,
          0.016632586799999998,
          0.5201496872,
          null,
          0.7568903467,
          1.7808448140000002,
          null,
          2.625031556,
          1.6084046730000001,
          null,
          2.440729339,
          1.388708866,
          null,
          2.9095487010000003,
          1.845953353,
          null,
          0.7568903467,
          0.2687439605,
          null,
          -0.2152518038,
          0.8137972368,
          null,
          1.687180031,
          1.6084046730000001,
          null,
          1.135119325,
          1.6084046730000001,
          null
         ],
         "y": [
          1.5910533669999998,
          0.06543529769999999,
          null,
          0.06543529769999999,
          -0.5500502482999999,
          null,
          -0.5500502482999999,
          -2.0877140730000003,
          null,
          -2.0877140730000003,
          -2.663234745,
          null,
          -2.581169466,
          -3.989277308,
          null,
          -3.989277308,
          -4.540301566,
          null,
          -6.051257561,
          -4.540301566,
          null,
          -2.0877140730000003,
          -2.581169466,
          null,
          1.5910533669999998,
          2.05189365,
          null,
          -6.051257561,
          -6.509128798,
          null,
          1.5910533669999998,
          2.007390498,
          null,
          -6.051257561,
          -6.4599831960000005,
          null,
          1.5910533669999998,
          1.9018513540000002,
          null,
          0.06543529769999999,
          -0.36541571869999995,
          null,
          -2.581169466,
          -2.136032026,
          null,
          -4.540301566,
          -4.1308014669999995,
          null,
          -6.3272670589999995,
          -6.051257561,
          null,
          0.06543529769999999,
          -0.2089536391,
          null,
          -0.5500502482999999,
          -0.14971601140000002,
          null,
          -2.250524187,
          -2.663234745,
          null,
          -2.257328416,
          -2.581169466,
          null,
          -4.261979033,
          -4.540301566,
          null,
          -0.5500502482999999,
          -0.2105785641,
          null,
          -2.470063161,
          -2.0877140730000003,
          null,
          -3.748674803,
          -2.663234745,
          null,
          -2.4353930409999998,
          -2.663234745,
          null
         ],
         "z": [
          0.07781381009999999,
          -0.0104387967,
          null,
          -0.0104387967,
          1.1831678190000001,
          null,
          1.1831678190000001,
          1.186628634,
          null,
          1.186628634,
          0.0064700348,
          null,
          2.515724692,
          2.569782524,
          null,
          2.569782524,
          3.750778345,
          null,
          3.697647635,
          3.750778345,
          null,
          1.186628634,
          2.515724692,
          null,
          0.07781381009999999,
          0.1085287408,
          null,
          3.697647635,
          4.602568427,
          null,
          0.07781381009999999,
          -0.7830355379999999,
          null,
          3.697647635,
          2.831152308,
          null,
          0.07781381009999999,
          0.9825705953,
          null,
          -0.0104387967,
          -0.0696535348,
          null,
          2.515724692,
          3.3587418039999997,
          null,
          3.750778345,
          4.634907308,
          null,
          3.616453393,
          3.697647635,
          null,
          -0.0104387967,
          -0.9447307618,
          null,
          1.1831678190000001,
          1.218092589,
          null,
          -0.0152074697,
          0.0064700348,
          null,
          2.617434017,
          2.515724692,
          null,
          3.84849208,
          3.750778345,
          null,
          1.1831678190000001,
          2.107636477,
          null,
          1.1292219829999999,
          1.186628634,
          null,
          0.09866139369999999,
          0.0064700348,
          null,
          -0.9525409187,
          0.0064700348,
          null
         ]
        }
       ],
       "layout": {
        "margin": {
         "b": 0,
         "l": 0,
         "r": 0,
         "t": 0
        },
        "scene": {
         "annotations": [
          {
           "showarrow": false,
           "text": "0",
           "x": -0.0835999808,
           "y": 1.5910533669999998,
           "yshift": 15,
           "z": 0.07781381009999999
          },
          {
           "showarrow": false,
           "text": "1",
           "x": 0.016632586799999998,
           "y": 0.06543529769999999,
           "yshift": 15,
           "z": -0.0104387967
          },
          {
           "showarrow": false,
           "text": "2",
           "x": 0.7568903467,
           "y": -0.5500502482999999,
           "yshift": 15,
           "z": 1.1831678190000001
          },
          {
           "showarrow": false,
           "text": "3",
           "x": 0.8137972368,
           "y": -2.0877140730000003,
           "yshift": 15,
           "z": 1.186628634
          },
          {
           "showarrow": false,
           "text": "4",
           "x": 1.6084046730000001,
           "y": -2.663234745,
           "yshift": 15,
           "z": 0.0064700348
          },
          {
           "showarrow": false,
           "text": "5",
           "x": 1.388708866,
           "y": -2.581169466,
           "yshift": 15,
           "z": 2.515724692
          },
          {
           "showarrow": false,
           "text": "6",
           "x": 1.304161981,
           "y": -3.989277308,
           "yshift": 15,
           "z": 2.569782524
          },
          {
           "showarrow": false,
           "text": "7",
           "x": 1.845953353,
           "y": -4.540301566,
           "yshift": 15,
           "z": 3.750778345
          },
          {
           "showarrow": false,
           "text": "8",
           "x": 1.693311866,
           "y": -6.051257561,
           "yshift": 15,
           "z": 3.697647635
          },
          {
           "showarrow": false,
           "text": "9",
           "x": 0.9101909078,
           "y": 2.05189365,
           "yshift": 15,
           "z": 0.1085287408
          },
          {
           "showarrow": false,
           "text": "10",
           "x": -0.6161932617,
           "y": 2.007390498,
           "yshift": 15,
           "z": -0.7830355379999999
          },
          {
           "showarrow": false,
           "text": "11",
           "x": -0.6181174336999999,
           "y": 1.9018513540000002,
           "yshift": 15,
           "z": 0.9825705953
          },
          {
           "showarrow": false,
           "text": "12",
           "x": -0.9918282513,
           "y": -0.36541571869999995,
           "yshift": 15,
           "z": -0.0696535348
          },
          {
           "showarrow": false,
           "text": "13",
           "x": 0.5201496872,
           "y": -0.2089536391,
           "yshift": 15,
           "z": -0.9447307618
          },
          {
           "showarrow": false,
           "text": "14",
           "x": 1.7808448140000002,
           "y": -0.14971601140000002,
           "yshift": 15,
           "z": 1.218092589
          },
          {
           "showarrow": false,
           "text": "15",
           "x": 0.2687439605,
           "y": -0.2105785641,
           "yshift": 15,
           "z": 2.107636477
          },
          {
           "showarrow": false,
           "text": "16",
           "x": -0.2152518038,
           "y": -2.470063161,
           "yshift": 15,
           "z": 1.1292219829999999
          },
          {
           "showarrow": false,
           "text": "17",
           "x": 1.687180031,
           "y": -3.748674803,
           "yshift": 15,
           "z": 0.09866139369999999
          },
          {
           "showarrow": false,
           "text": "18",
           "x": 1.135119325,
           "y": -2.4353930409999998,
           "yshift": 15,
           "z": -0.9525409187
          },
          {
           "showarrow": false,
           "text": "19",
           "x": 2.625031556,
           "y": -2.250524187,
           "yshift": 15,
           "z": -0.0152074697
          },
          {
           "showarrow": false,
           "text": "20",
           "x": 2.440729339,
           "y": -2.257328416,
           "yshift": 15,
           "z": 2.617434017
          },
          {
           "showarrow": false,
           "text": "21",
           "x": 0.8323595424,
           "y": -2.136032026,
           "yshift": 15,
           "z": 3.3587418039999997
          },
          {
           "showarrow": false,
           "text": "22",
           "x": 2.9095487010000003,
           "y": -4.261979033,
           "yshift": 15,
           "z": 3.84849208
          },
          {
           "showarrow": false,
           "text": "23",
           "x": 1.327235189,
           "y": -4.1308014669999995,
           "yshift": 15,
           "z": 4.634907308
          },
          {
           "showarrow": false,
           "text": "24",
           "x": 0.6380872424,
           "y": -6.3272670589999995,
           "yshift": 15,
           "z": 3.616453393
          },
          {
           "showarrow": false,
           "text": "25",
           "x": 2.221051478,
           "y": -6.4599831960000005,
           "yshift": 15,
           "z": 2.831152308
          },
          {
           "showarrow": false,
           "text": "26",
           "x": 2.104008018,
           "y": -6.509128798,
           "yshift": 15,
           "z": 4.602568427
          }
         ],
         "aspectmode": "auto",
         "aspectratio": {
          "x": 0.6827036531014993,
          "y": 1.4980970490656937,
          "z": 0.9777500001979451
         },
         "xaxis": {
          "showgrid": false,
          "showticklabels": false,
          "title": {
           "font": {
            "color": "white"
           }
          },
          "type": "linear",
          "zeroline": false
         },
         "yaxis": {
          "showgrid": false,
          "showticklabels": false,
          "title": {
           "font": {
            "color": "white"
           }
          },
          "type": "linear",
          "zeroline": false
         },
         "zaxis": {
          "showgrid": false,
          "showticklabels": false,
          "title": {
           "font": {
            "color": "white"
           }
          },
          "type": "linear",
          "zeroline": false
         }
        },
        "showlegend": false,
        "updatemenus": [
         {
          "buttons": [
           {
            "args": [
             {
              "scene.annotations": [
               {
                "showarrow": false,
                "text": 0,
                "x": -0.0835999808,
                "y": 1.5910533669999998,
                "yshift": 15,
                "z": 0.07781381009999999
               },
               {
                "showarrow": false,
                "text": 1,
                "x": 0.016632586799999998,
                "y": 0.06543529769999999,
                "yshift": 15,
                "z": -0.0104387967
               },
               {
                "showarrow": false,
                "text": 2,
                "x": 0.7568903467,
                "y": -0.5500502482999999,
                "yshift": 15,
                "z": 1.1831678190000001
               },
               {
                "showarrow": false,
                "text": 3,
                "x": 0.8137972368,
                "y": -2.0877140730000003,
                "yshift": 15,
                "z": 1.186628634
               },
               {
                "showarrow": false,
                "text": 4,
                "x": 1.6084046730000001,
                "y": -2.663234745,
                "yshift": 15,
                "z": 0.0064700348
               },
               {
                "showarrow": false,
                "text": 5,
                "x": 1.388708866,
                "y": -2.581169466,
                "yshift": 15,
                "z": 2.515724692
               },
               {
                "showarrow": false,
                "text": 6,
                "x": 1.304161981,
                "y": -3.989277308,
                "yshift": 15,
                "z": 2.569782524
               },
               {
                "showarrow": false,
                "text": 7,
                "x": 1.845953353,
                "y": -4.540301566,
                "yshift": 15,
                "z": 3.750778345
               },
               {
                "showarrow": false,
                "text": 8,
                "x": 1.693311866,
                "y": -6.051257561,
                "yshift": 15,
                "z": 3.697647635
               },
               {
                "showarrow": false,
                "text": 9,
                "x": 0.9101909078,
                "y": 2.05189365,
                "yshift": 15,
                "z": 0.1085287408
               },
               {
                "showarrow": false,
                "text": 10,
                "x": -0.6161932617,
                "y": 2.007390498,
                "yshift": 15,
                "z": -0.7830355379999999
               },
               {
                "showarrow": false,
                "text": 11,
                "x": -0.6181174336999999,
                "y": 1.9018513540000002,
                "yshift": 15,
                "z": 0.9825705953
               },
               {
                "showarrow": false,
                "text": 12,
                "x": -0.9918282513,
                "y": -0.36541571869999995,
                "yshift": 15,
                "z": -0.0696535348
               },
               {
                "showarrow": false,
                "text": 13,
                "x": 0.5201496872,
                "y": -0.2089536391,
                "yshift": 15,
                "z": -0.9447307618
               },
               {
                "showarrow": false,
                "text": 14,
                "x": 1.7808448140000002,
                "y": -0.14971601140000002,
                "yshift": 15,
                "z": 1.218092589
               },
               {
                "showarrow": false,
                "text": 15,
                "x": 0.2687439605,
                "y": -0.2105785641,
                "yshift": 15,
                "z": 2.107636477
               },
               {
                "showarrow": false,
                "text": 16,
                "x": -0.2152518038,
                "y": -2.470063161,
                "yshift": 15,
                "z": 1.1292219829999999
               },
               {
                "showarrow": false,
                "text": 17,
                "x": 1.687180031,
                "y": -3.748674803,
                "yshift": 15,
                "z": 0.09866139369999999
               },
               {
                "showarrow": false,
                "text": 18,
                "x": 1.135119325,
                "y": -2.4353930409999998,
                "yshift": 15,
                "z": -0.9525409187
               },
               {
                "showarrow": false,
                "text": 19,
                "x": 2.625031556,
                "y": -2.250524187,
                "yshift": 15,
                "z": -0.0152074697
               },
               {
                "showarrow": false,
                "text": 20,
                "x": 2.440729339,
                "y": -2.257328416,
                "yshift": 15,
                "z": 2.617434017
               },
               {
                "showarrow": false,
                "text": 21,
                "x": 0.8323595424,
                "y": -2.136032026,
                "yshift": 15,
                "z": 3.3587418039999997
               },
               {
                "showarrow": false,
                "text": 22,
                "x": 2.9095487010000003,
                "y": -4.261979033,
                "yshift": 15,
                "z": 3.84849208
               },
               {
                "showarrow": false,
                "text": 23,
                "x": 1.327235189,
                "y": -4.1308014669999995,
                "yshift": 15,
                "z": 4.634907308
               },
               {
                "showarrow": false,
                "text": 24,
                "x": 0.6380872424,
                "y": -6.3272670589999995,
                "yshift": 15,
                "z": 3.616453393
               },
               {
                "showarrow": false,
                "text": 25,
                "x": 2.221051478,
                "y": -6.4599831960000005,
                "yshift": 15,
                "z": 2.831152308
               },
               {
                "showarrow": false,
                "text": 26,
                "x": 2.104008018,
                "y": -6.509128798,
                "yshift": 15,
                "z": 4.602568427
               }
              ]
             }
            ],
            "label": "Atom indices",
            "method": "relayout"
           },
           {
            "args": [
             {
              "scene.annotations": [
               {
                "showarrow": false,
                "text": 1.53,
                "x": -0.033483697,
                "y": 0.82824433235,
                "yshift": 15,
                "z": 0.0336875067
               },
               {
                "showarrow": false,
                "text": 1.53,
                "x": 0.38676146675,
                "y": -0.2423074753,
                "yshift": 15,
                "z": 0.58636451115
               },
               {
                "showarrow": false,
                "text": 1.54,
                "x": 0.78534379175,
                "y": -1.31888216065,
                "yshift": 15,
                "z": 1.1848982265
               },
               {
                "showarrow": false,
                "text": 1.53,
                "x": 1.2111009549,
                "y": -2.375474409,
                "yshift": 15,
                "z": 0.5965493344
               },
               {
                "showarrow": false,
                "text": 1.41,
                "x": 1.3464354235,
                "y": -3.285223387,
                "yshift": 15,
                "z": 2.542753608
               },
               {
                "showarrow": false,
                "text": 1.41,
                "x": 1.575057667,
                "y": -4.264789437,
                "yshift": 15,
                "z": 3.1602804345
               },
               {
                "showarrow": false,
                "text": 1.52,
                "x": 1.7696326095,
                "y": -5.2957795635,
                "yshift": 15,
                "z": 3.72421299
               },
               {
                "showarrow": false,
                "text": 1.53,
                "x": 1.1012530514,
                "y": -2.3344417695,
                "yshift": 15,
                "z": 1.851176663
               },
               {
                "showarrow": false,
                "text": 1.1,
                "x": 0.4132954635,
                "y": 1.8214735085,
                "yshift": 15,
                "z": 0.09317127545
               },
               {
                "showarrow": false,
                "text": 1.09,
                "x": 1.898659942,
                "y": -6.2801931795,
                "yshift": 15,
                "z": 4.150108031
               },
               {
                "showarrow": false,
                "text": 1.09,
                "x": -0.34989662125,
                "y": 1.7992219325,
                "yshift": 15,
                "z": -0.35261086395
               },
               {
                "showarrow": false,
                "text": 1.09,
                "x": 1.957181672,
                "y": -6.2556203785,
                "yshift": 15,
                "z": 3.2643999715
               },
               {
                "showarrow": false,
                "text": 1.1,
                "x": -0.35085870725,
                "y": 1.7464523605,
                "yshift": 15,
                "z": 0.5301922027
               },
               {
                "showarrow": false,
                "text": 1.1,
                "x": -0.48759783225,
                "y": -0.1499902105,
                "yshift": 15,
                "z": -0.04004616575
               },
               {
                "showarrow": false,
                "text": 1.1,
                "x": 1.1105342042,
                "y": -2.358600746,
                "yshift": 15,
                "z": 2.937233248
               },
               {
                "showarrow": false,
                "text": 1.1,
                "x": 1.586594271,
                "y": -4.3355515165,
                "yshift": 15,
                "z": 4.1928428265
               },
               {
                "showarrow": false,
                "text": 1.09,
                "x": 1.1656995542,
                "y": -6.18926231,
                "yshift": 15,
                "z": 3.657050514
               },
               {
                "showarrow": false,
                "text": 1.1,
                "x": 0.268391137,
                "y": -0.0717591707,
                "yshift": 15,
                "z": -0.47758477925
               },
               {
                "showarrow": false,
                "text": 1.1,
                "x": 1.26886758035,
                "y": -0.34988312985,
                "yshift": 15,
                "z": 1.200630204
               },
               {
                "showarrow": false,
                "text": 1.1,
                "x": 2.1167181145,
                "y": -2.456879466,
                "yshift": 15,
                "z": -0.00436871745
               },
               {
                "showarrow": false,
                "text": 1.11,
                "x": 1.9147191025,
                "y": -2.419248941,
                "yshift": 15,
                "z": 2.5665793545
               },
               {
                "showarrow": false,
                "text": 1.1,
                "x": 2.377751027,
                "y": -4.4011402995,
                "yshift": 15,
                "z": 3.7996352125
               },
               {
                "showarrow": false,
                "text": 1.1,
                "x": 0.5128171536,
                "y": -0.3803144062,
                "yshift": 15,
                "z": 1.645402148
               },
               {
                "showarrow": false,
                "text": 1.1,
                "x": 0.2992727165,
                "y": -2.278888617,
                "yshift": 15,
                "z": 1.1579253085
               },
               {
                "showarrow": false,
                "text": 1.09,
                "x": 1.647792352,
                "y": -3.205954774,
                "yshift": 15,
                "z": 0.05256571425
               },
               {
                "showarrow": false,
                "text": 1.09,
                "x": 1.371761999,
                "y": -2.549313893,
                "yshift": 15,
                "z": -0.47303544195
               }
              ]
             }
            ],
            "label": "Bond lengths",
            "method": "relayout"
           },
           {
            "args": [
             {
              "scene.annotations": [
               {
                "showarrow": false,
                "text": 0,
                "x": -0.0835999808,
                "y": 1.5910533669999998,
                "yshift": 15,
                "z": 0.07781381009999999
               },
               {
                "showarrow": false,
                "text": 1,
                "x": 0.016632586799999998,
                "y": 0.06543529769999999,
                "yshift": 15,
                "z": -0.0104387967
               },
               {
                "showarrow": false,
                "text": 2,
                "x": 0.7568903467,
                "y": -0.5500502482999999,
                "yshift": 15,
                "z": 1.1831678190000001
               },
               {
                "showarrow": false,
                "text": 3,
                "x": 0.8137972368,
                "y": -2.0877140730000003,
                "yshift": 15,
                "z": 1.186628634
               },
               {
                "showarrow": false,
                "text": 4,
                "x": 1.6084046730000001,
                "y": -2.663234745,
                "yshift": 15,
                "z": 0.0064700348
               },
               {
                "showarrow": false,
                "text": 5,
                "x": 1.388708866,
                "y": -2.581169466,
                "yshift": 15,
                "z": 2.515724692
               },
               {
                "showarrow": false,
                "text": 6,
                "x": 1.304161981,
                "y": -3.989277308,
                "yshift": 15,
                "z": 2.569782524
               },
               {
                "showarrow": false,
                "text": 7,
                "x": 1.845953353,
                "y": -4.540301566,
                "yshift": 15,
                "z": 3.750778345
               },
               {
                "showarrow": false,
                "text": 8,
                "x": 1.693311866,
                "y": -6.051257561,
                "yshift": 15,
                "z": 3.697647635
               },
               {
                "showarrow": false,
                "text": 9,
                "x": 0.9101909078,
                "y": 2.05189365,
                "yshift": 15,
                "z": 0.1085287408
               },
               {
                "showarrow": false,
                "text": 10,
                "x": -0.6161932617,
                "y": 2.007390498,
                "yshift": 15,
                "z": -0.7830355379999999
               },
               {
                "showarrow": false,
                "text": 11,
                "x": -0.6181174336999999,
                "y": 1.9018513540000002,
                "yshift": 15,
                "z": 0.9825705953
               },
               {
                "showarrow": false,
                "text": 12,
                "x": -0.9918282513,
                "y": -0.36541571869999995,
                "yshift": 15,
                "z": -0.0696535348
               },
               {
                "showarrow": false,
                "text": 13,
                "x": 0.5201496872,
                "y": -0.2089536391,
                "yshift": 15,
                "z": -0.9447307618
               },
               {
                "showarrow": false,
                "text": 14,
                "x": 1.7808448140000002,
                "y": -0.14971601140000002,
                "yshift": 15,
                "z": 1.218092589
               },
               {
                "showarrow": false,
                "text": 15,
                "x": 0.2687439605,
                "y": -0.2105785641,
                "yshift": 15,
                "z": 2.107636477
               },
               {
                "showarrow": false,
                "text": 16,
                "x": -0.2152518038,
                "y": -2.470063161,
                "yshift": 15,
                "z": 1.1292219829999999
               },
               {
                "showarrow": false,
                "text": 17,
                "x": 1.687180031,
                "y": -3.748674803,
                "yshift": 15,
                "z": 0.09866139369999999
               },
               {
                "showarrow": false,
                "text": 18,
                "x": 1.135119325,
                "y": -2.4353930409999998,
                "yshift": 15,
                "z": -0.9525409187
               },
               {
                "showarrow": false,
                "text": 19,
                "x": 2.625031556,
                "y": -2.250524187,
                "yshift": 15,
                "z": -0.0152074697
               },
               {
                "showarrow": false,
                "text": 20,
                "x": 2.440729339,
                "y": -2.257328416,
                "yshift": 15,
                "z": 2.617434017
               },
               {
                "showarrow": false,
                "text": 21,
                "x": 0.8323595424,
                "y": -2.136032026,
                "yshift": 15,
                "z": 3.3587418039999997
               },
               {
                "showarrow": false,
                "text": 22,
                "x": 2.9095487010000003,
                "y": -4.261979033,
                "yshift": 15,
                "z": 3.84849208
               },
               {
                "showarrow": false,
                "text": 23,
                "x": 1.327235189,
                "y": -4.1308014669999995,
                "yshift": 15,
                "z": 4.634907308
               },
               {
                "showarrow": false,
                "text": 24,
                "x": 0.6380872424,
                "y": -6.3272670589999995,
                "yshift": 15,
                "z": 3.616453393
               },
               {
                "showarrow": false,
                "text": 25,
                "x": 2.221051478,
                "y": -6.4599831960000005,
                "yshift": 15,
                "z": 2.831152308
               },
               {
                "showarrow": false,
                "text": 26,
                "x": 2.104008018,
                "y": -6.509128798,
                "yshift": 15,
                "z": 4.602568427
               },
               {
                "showarrow": false,
                "text": 1.53,
                "x": -0.033483697,
                "y": 0.82824433235,
                "yshift": 15,
                "z": 0.0336875067
               },
               {
                "showarrow": false,
                "text": 1.53,
                "x": 0.38676146675,
                "y": -0.2423074753,
                "yshift": 15,
                "z": 0.58636451115
               },
               {
                "showarrow": false,
                "text": 1.54,
                "x": 0.78534379175,
                "y": -1.31888216065,
                "yshift": 15,
                "z": 1.1848982265
               },
               {
                "showarrow": false,
                "text": 1.53,
                "x": 1.2111009549,
                "y": -2.375474409,
                "yshift": 15,
                "z": 0.5965493344
               },
               {
                "showarrow": false,
                "text": 1.41,
                "x": 1.3464354235,
                "y": -3.285223387,
                "yshift": 15,
                "z": 2.542753608
               },
               {
                "showarrow": false,
                "text": 1.41,
                "x": 1.575057667,
                "y": -4.264789437,
                "yshift": 15,
                "z": 3.1602804345
               },
               {
                "showarrow": false,
                "text": 1.52,
                "x": 1.7696326095,
                "y": -5.2957795635,
                "yshift": 15,
                "z": 3.72421299
               },
               {
                "showarrow": false,
                "text": 1.53,
                "x": 1.1012530514,
                "y": -2.3344417695,
                "yshift": 15,
                "z": 1.851176663
               },
               {
                "showarrow": false,
                "text": 1.1,
                "x": 0.4132954635,
                "y": 1.8214735085,
                "yshift": 15,
                "z": 0.09317127545
               },
               {
                "showarrow": false,
                "text": 1.09,
                "x": 1.898659942,
                "y": -6.2801931795,
                "yshift": 15,
                "z": 4.150108031
               },
               {
                "showarrow": false,
                "text": 1.09,
                "x": -0.34989662125,
                "y": 1.7992219325,
                "yshift": 15,
                "z": -0.35261086395
               },
               {
                "showarrow": false,
                "text": 1.09,
                "x": 1.957181672,
                "y": -6.2556203785,
                "yshift": 15,
                "z": 3.2643999715
               },
               {
                "showarrow": false,
                "text": 1.1,
                "x": -0.35085870725,
                "y": 1.7464523605,
                "yshift": 15,
                "z": 0.5301922027
               },
               {
                "showarrow": false,
                "text": 1.1,
                "x": -0.48759783225,
                "y": -0.1499902105,
                "yshift": 15,
                "z": -0.04004616575
               },
               {
                "showarrow": false,
                "text": 1.1,
                "x": 1.1105342042,
                "y": -2.358600746,
                "yshift": 15,
                "z": 2.937233248
               },
               {
                "showarrow": false,
                "text": 1.1,
                "x": 1.586594271,
                "y": -4.3355515165,
                "yshift": 15,
                "z": 4.1928428265
               },
               {
                "showarrow": false,
                "text": 1.09,
                "x": 1.1656995542,
                "y": -6.18926231,
                "yshift": 15,
                "z": 3.657050514
               },
               {
                "showarrow": false,
                "text": 1.1,
                "x": 0.268391137,
                "y": -0.0717591707,
                "yshift": 15,
                "z": -0.47758477925
               },
               {
                "showarrow": false,
                "text": 1.1,
                "x": 1.26886758035,
                "y": -0.34988312985,
                "yshift": 15,
                "z": 1.200630204
               },
               {
                "showarrow": false,
                "text": 1.1,
                "x": 2.1167181145,
                "y": -2.456879466,
                "yshift": 15,
                "z": -0.00436871745
               },
               {
                "showarrow": false,
                "text": 1.11,
                "x": 1.9147191025,
                "y": -2.419248941,
                "yshift": 15,
                "z": 2.5665793545
               },
               {
                "showarrow": false,
                "text": 1.1,
                "x": 2.377751027,
                "y": -4.4011402995,
                "yshift": 15,
                "z": 3.7996352125
               },
               {
                "showarrow": false,
                "text": 1.1,
                "x": 0.5128171536,
                "y": -0.3803144062,
                "yshift": 15,
                "z": 1.645402148
               },
               {
                "showarrow": false,
                "text": 1.1,
                "x": 0.2992727165,
                "y": -2.278888617,
                "yshift": 15,
                "z": 1.1579253085
               },
               {
                "showarrow": false,
                "text": 1.09,
                "x": 1.647792352,
                "y": -3.205954774,
                "yshift": 15,
                "z": 0.05256571425
               },
               {
                "showarrow": false,
                "text": 1.09,
                "x": 1.371761999,
                "y": -2.549313893,
                "yshift": 15,
                "z": -0.47303544195
               }
              ]
             }
            ],
            "label": "Atom indices & Bond lengths",
            "method": "relayout"
           },
           {
            "args": [
             {
              "scene.annotations": []
             }
            ],
            "label": "Hide all",
            "method": "relayout"
           }
          ],
          "direction": "down",
          "xanchor": "left",
          "yanchor": "top"
         }
        ]
       }
      },
      "text/html": [
       "<div>\n",
       "        \n",
       "        \n",
       "            <div id=\"59995da6-e3e5-4904-b94e-c3203fca61aa\" class=\"plotly-graph-div\" style=\"height:525px; width:100%;\"></div>\n",
       "            <script type=\"text/javascript\">\n",
       "                require([\"plotly\"], function(Plotly) {\n",
       "                    window.PLOTLYENV=window.PLOTLYENV || {};\n",
       "                    window.PLOTLYENV.BASE_URL='https://plot.ly';\n",
       "                    \n",
       "                if (document.getElementById(\"59995da6-e3e5-4904-b94e-c3203fca61aa\")) {\n",
       "                    Plotly.newPlot(\n",
       "                        '59995da6-e3e5-4904-b94e-c3203fca61aa',\n",
       "                        [{\"marker\": {\"color\": [\"black\", \"black\", \"black\", \"black\", \"black\", \"black\", \"red\", \"black\", \"black\", \"white\", \"white\", \"white\", \"white\", \"white\", \"white\", \"white\", \"white\", \"white\", \"white\", \"white\", \"white\", \"white\", \"white\", \"white\", \"white\", \"white\", \"white\"], \"line\": {\"color\": \"lightgray\", \"width\": 2}, \"opacity\": 0.8, \"size\": 7, \"symbol\": \"circle\"}, \"mode\": \"markers\", \"name\": \"\", \"text\": [\"C\", \"C\", \"C\", \"C\", \"C\", \"C\", \"O\", \"C\", \"C\", \"H\", \"H\", \"H\", \"H\", \"H\", \"H\", \"H\", \"H\", \"H\", \"H\", \"H\", \"H\", \"H\", \"H\", \"H\", \"H\", \"H\", \"H\"], \"type\": \"scatter3d\", \"uid\": \"999a8c23-c40d-4643-ab39-17b6caca64f3\", \"x\": [-0.0835999808, 0.016632586799999998, 0.7568903467, 0.8137972368, 1.6084046730000001, 1.388708866, 1.304161981, 1.845953353, 1.693311866, 0.9101909078, -0.6161932617, -0.6181174336999999, -0.9918282513, 0.5201496872, 1.7808448140000002, 0.2687439605, -0.2152518038, 1.687180031, 1.135119325, 2.625031556, 2.440729339, 0.8323595424, 2.9095487010000003, 1.327235189, 0.6380872424, 2.221051478, 2.104008018], \"y\": [1.5910533669999998, 0.06543529769999999, -0.5500502482999999, -2.0877140730000003, -2.663234745, -2.581169466, -3.989277308, -4.540301566, -6.051257561, 2.05189365, 2.007390498, 1.9018513540000002, -0.36541571869999995, -0.2089536391, -0.14971601140000002, -0.2105785641, -2.470063161, -3.748674803, -2.4353930409999998, -2.250524187, -2.257328416, -2.136032026, -4.261979033, -4.1308014669999995, -6.3272670589999995, -6.4599831960000005, -6.509128798], \"z\": [0.07781381009999999, -0.0104387967, 1.1831678190000001, 1.186628634, 0.0064700348, 2.515724692, 2.569782524, 3.750778345, 3.697647635, 0.1085287408, -0.7830355379999999, 0.9825705953, -0.0696535348, -0.9447307618, 1.218092589, 2.107636477, 1.1292219829999999, 0.09866139369999999, -0.9525409187, -0.0152074697, 2.617434017, 3.3587418039999997, 3.84849208, 4.634907308, 3.616453393, 2.831152308, 4.602568427]}, {\"hoverinfo\": \"none\", \"marker\": {\"color\": \"grey\", \"opacity\": 1, \"size\": 7}, \"mode\": \"lines\", \"type\": \"scatter3d\", \"uid\": \"f95596ca-612c-4b33-9713-8056c0af73cb\", \"x\": [-0.0835999808, 0.016632586799999998, null, 0.016632586799999998, 0.7568903467, null, 0.7568903467, 0.8137972368, null, 0.8137972368, 1.6084046730000001, null, 1.388708866, 1.304161981, null, 1.304161981, 1.845953353, null, 1.693311866, 1.845953353, null, 0.8137972368, 1.388708866, null, -0.0835999808, 0.9101909078, null, 1.693311866, 2.104008018, null, -0.0835999808, -0.6161932617, null, 1.693311866, 2.221051478, null, -0.0835999808, -0.6181174336999999, null, 0.016632586799999998, -0.9918282513, null, 1.388708866, 0.8323595424, null, 1.845953353, 1.327235189, null, 0.6380872424, 1.693311866, null, 0.016632586799999998, 0.5201496872, null, 0.7568903467, 1.7808448140000002, null, 2.625031556, 1.6084046730000001, null, 2.440729339, 1.388708866, null, 2.9095487010000003, 1.845953353, null, 0.7568903467, 0.2687439605, null, -0.2152518038, 0.8137972368, null, 1.687180031, 1.6084046730000001, null, 1.135119325, 1.6084046730000001, null], \"y\": [1.5910533669999998, 0.06543529769999999, null, 0.06543529769999999, -0.5500502482999999, null, -0.5500502482999999, -2.0877140730000003, null, -2.0877140730000003, -2.663234745, null, -2.581169466, -3.989277308, null, -3.989277308, -4.540301566, null, -6.051257561, -4.540301566, null, -2.0877140730000003, -2.581169466, null, 1.5910533669999998, 2.05189365, null, -6.051257561, -6.509128798, null, 1.5910533669999998, 2.007390498, null, -6.051257561, -6.4599831960000005, null, 1.5910533669999998, 1.9018513540000002, null, 0.06543529769999999, -0.36541571869999995, null, -2.581169466, -2.136032026, null, -4.540301566, -4.1308014669999995, null, -6.3272670589999995, -6.051257561, null, 0.06543529769999999, -0.2089536391, null, -0.5500502482999999, -0.14971601140000002, null, -2.250524187, -2.663234745, null, -2.257328416, -2.581169466, null, -4.261979033, -4.540301566, null, -0.5500502482999999, -0.2105785641, null, -2.470063161, -2.0877140730000003, null, -3.748674803, -2.663234745, null, -2.4353930409999998, -2.663234745, null], \"z\": [0.07781381009999999, -0.0104387967, null, -0.0104387967, 1.1831678190000001, null, 1.1831678190000001, 1.186628634, null, 1.186628634, 0.0064700348, null, 2.515724692, 2.569782524, null, 2.569782524, 3.750778345, null, 3.697647635, 3.750778345, null, 1.186628634, 2.515724692, null, 0.07781381009999999, 0.1085287408, null, 3.697647635, 4.602568427, null, 0.07781381009999999, -0.7830355379999999, null, 3.697647635, 2.831152308, null, 0.07781381009999999, 0.9825705953, null, -0.0104387967, -0.0696535348, null, 2.515724692, 3.3587418039999997, null, 3.750778345, 4.634907308, null, 3.616453393, 3.697647635, null, -0.0104387967, -0.9447307618, null, 1.1831678190000001, 1.218092589, null, -0.0152074697, 0.0064700348, null, 2.617434017, 2.515724692, null, 3.84849208, 3.750778345, null, 1.1831678190000001, 2.107636477, null, 1.1292219829999999, 1.186628634, null, 0.09866139369999999, 0.0064700348, null, -0.9525409187, 0.0064700348, null]}],\n",
       "                        {\"margin\": {\"b\": 0, \"l\": 0, \"r\": 0, \"t\": 0}, \"scene\": {\"annotations\": [{\"showarrow\": false, \"text\": \"0\", \"x\": -0.0835999808, \"y\": 1.5910533669999998, \"yshift\": 15, \"z\": 0.07781381009999999}, {\"showarrow\": false, \"text\": \"1\", \"x\": 0.016632586799999998, \"y\": 0.06543529769999999, \"yshift\": 15, \"z\": -0.0104387967}, {\"showarrow\": false, \"text\": \"2\", \"x\": 0.7568903467, \"y\": -0.5500502482999999, \"yshift\": 15, \"z\": 1.1831678190000001}, {\"showarrow\": false, \"text\": \"3\", \"x\": 0.8137972368, \"y\": -2.0877140730000003, \"yshift\": 15, \"z\": 1.186628634}, {\"showarrow\": false, \"text\": \"4\", \"x\": 1.6084046730000001, \"y\": -2.663234745, \"yshift\": 15, \"z\": 0.0064700348}, {\"showarrow\": false, \"text\": \"5\", \"x\": 1.388708866, \"y\": -2.581169466, \"yshift\": 15, \"z\": 2.515724692}, {\"showarrow\": false, \"text\": \"6\", \"x\": 1.304161981, \"y\": -3.989277308, \"yshift\": 15, \"z\": 2.569782524}, {\"showarrow\": false, \"text\": \"7\", \"x\": 1.845953353, \"y\": -4.540301566, \"yshift\": 15, \"z\": 3.750778345}, {\"showarrow\": false, \"text\": \"8\", \"x\": 1.693311866, \"y\": -6.051257561, \"yshift\": 15, \"z\": 3.697647635}, {\"showarrow\": false, \"text\": \"9\", \"x\": 0.9101909078, \"y\": 2.05189365, \"yshift\": 15, \"z\": 0.1085287408}, {\"showarrow\": false, \"text\": \"10\", \"x\": -0.6161932617, \"y\": 2.007390498, \"yshift\": 15, \"z\": -0.7830355379999999}, {\"showarrow\": false, \"text\": \"11\", \"x\": -0.6181174336999999, \"y\": 1.9018513540000002, \"yshift\": 15, \"z\": 0.9825705953}, {\"showarrow\": false, \"text\": \"12\", \"x\": -0.9918282513, \"y\": -0.36541571869999995, \"yshift\": 15, \"z\": -0.0696535348}, {\"showarrow\": false, \"text\": \"13\", \"x\": 0.5201496872, \"y\": -0.2089536391, \"yshift\": 15, \"z\": -0.9447307618}, {\"showarrow\": false, \"text\": \"14\", \"x\": 1.7808448140000002, \"y\": -0.14971601140000002, \"yshift\": 15, \"z\": 1.218092589}, {\"showarrow\": false, \"text\": \"15\", \"x\": 0.2687439605, \"y\": -0.2105785641, \"yshift\": 15, \"z\": 2.107636477}, {\"showarrow\": false, \"text\": \"16\", \"x\": -0.2152518038, \"y\": -2.470063161, \"yshift\": 15, \"z\": 1.1292219829999999}, {\"showarrow\": false, \"text\": \"17\", \"x\": 1.687180031, \"y\": -3.748674803, \"yshift\": 15, \"z\": 0.09866139369999999}, {\"showarrow\": false, \"text\": \"18\", \"x\": 1.135119325, \"y\": -2.4353930409999998, \"yshift\": 15, \"z\": -0.9525409187}, {\"showarrow\": false, \"text\": \"19\", \"x\": 2.625031556, \"y\": -2.250524187, \"yshift\": 15, \"z\": -0.0152074697}, {\"showarrow\": false, \"text\": \"20\", \"x\": 2.440729339, \"y\": -2.257328416, \"yshift\": 15, \"z\": 2.617434017}, {\"showarrow\": false, \"text\": \"21\", \"x\": 0.8323595424, \"y\": -2.136032026, \"yshift\": 15, \"z\": 3.3587418039999997}, {\"showarrow\": false, \"text\": \"22\", \"x\": 2.9095487010000003, \"y\": -4.261979033, \"yshift\": 15, \"z\": 3.84849208}, {\"showarrow\": false, \"text\": \"23\", \"x\": 1.327235189, \"y\": -4.1308014669999995, \"yshift\": 15, \"z\": 4.634907308}, {\"showarrow\": false, \"text\": \"24\", \"x\": 0.6380872424, \"y\": -6.3272670589999995, \"yshift\": 15, \"z\": 3.616453393}, {\"showarrow\": false, \"text\": \"25\", \"x\": 2.221051478, \"y\": -6.4599831960000005, \"yshift\": 15, \"z\": 2.831152308}, {\"showarrow\": false, \"text\": \"26\", \"x\": 2.104008018, \"y\": -6.509128798, \"yshift\": 15, \"z\": 4.602568427}], \"xaxis\": {\"showgrid\": false, \"showticklabels\": false, \"title\": {\"font\": {\"color\": \"white\"}}, \"zeroline\": false}, \"yaxis\": {\"showgrid\": false, \"showticklabels\": false, \"title\": {\"font\": {\"color\": \"white\"}}, \"zeroline\": false}, \"zaxis\": {\"showgrid\": false, \"showticklabels\": false, \"title\": {\"font\": {\"color\": \"white\"}}, \"zeroline\": false}}, \"showlegend\": false, \"updatemenus\": [{\"buttons\": [{\"args\": [{\"scene.annotations\": [{\"showarrow\": false, \"text\": 0, \"x\": -0.0835999808, \"y\": 1.5910533669999998, \"yshift\": 15, \"z\": 0.07781381009999999}, {\"showarrow\": false, \"text\": 1, \"x\": 0.016632586799999998, \"y\": 0.06543529769999999, \"yshift\": 15, \"z\": -0.0104387967}, {\"showarrow\": false, \"text\": 2, \"x\": 0.7568903467, \"y\": -0.5500502482999999, \"yshift\": 15, \"z\": 1.1831678190000001}, {\"showarrow\": false, \"text\": 3, \"x\": 0.8137972368, \"y\": -2.0877140730000003, \"yshift\": 15, \"z\": 1.186628634}, {\"showarrow\": false, \"text\": 4, \"x\": 1.6084046730000001, \"y\": -2.663234745, \"yshift\": 15, \"z\": 0.0064700348}, {\"showarrow\": false, \"text\": 5, \"x\": 1.388708866, \"y\": -2.581169466, \"yshift\": 15, \"z\": 2.515724692}, {\"showarrow\": false, \"text\": 6, \"x\": 1.304161981, \"y\": -3.989277308, \"yshift\": 15, \"z\": 2.569782524}, {\"showarrow\": false, \"text\": 7, \"x\": 1.845953353, \"y\": -4.540301566, \"yshift\": 15, \"z\": 3.750778345}, {\"showarrow\": false, \"text\": 8, \"x\": 1.693311866, \"y\": -6.051257561, \"yshift\": 15, \"z\": 3.697647635}, {\"showarrow\": false, \"text\": 9, \"x\": 0.9101909078, \"y\": 2.05189365, \"yshift\": 15, \"z\": 0.1085287408}, {\"showarrow\": false, \"text\": 10, \"x\": -0.6161932617, \"y\": 2.007390498, \"yshift\": 15, \"z\": -0.7830355379999999}, {\"showarrow\": false, \"text\": 11, \"x\": -0.6181174336999999, \"y\": 1.9018513540000002, \"yshift\": 15, \"z\": 0.9825705953}, {\"showarrow\": false, \"text\": 12, \"x\": -0.9918282513, \"y\": -0.36541571869999995, \"yshift\": 15, \"z\": -0.0696535348}, {\"showarrow\": false, \"text\": 13, \"x\": 0.5201496872, \"y\": -0.2089536391, \"yshift\": 15, \"z\": -0.9447307618}, {\"showarrow\": false, \"text\": 14, \"x\": 1.7808448140000002, \"y\": -0.14971601140000002, \"yshift\": 15, \"z\": 1.218092589}, {\"showarrow\": false, \"text\": 15, \"x\": 0.2687439605, \"y\": -0.2105785641, \"yshift\": 15, \"z\": 2.107636477}, {\"showarrow\": false, \"text\": 16, \"x\": -0.2152518038, \"y\": -2.470063161, \"yshift\": 15, \"z\": 1.1292219829999999}, {\"showarrow\": false, \"text\": 17, \"x\": 1.687180031, \"y\": -3.748674803, \"yshift\": 15, \"z\": 0.09866139369999999}, {\"showarrow\": false, \"text\": 18, \"x\": 1.135119325, \"y\": -2.4353930409999998, \"yshift\": 15, \"z\": -0.9525409187}, {\"showarrow\": false, \"text\": 19, \"x\": 2.625031556, \"y\": -2.250524187, \"yshift\": 15, \"z\": -0.0152074697}, {\"showarrow\": false, \"text\": 20, \"x\": 2.440729339, \"y\": -2.257328416, \"yshift\": 15, \"z\": 2.617434017}, {\"showarrow\": false, \"text\": 21, \"x\": 0.8323595424, \"y\": -2.136032026, \"yshift\": 15, \"z\": 3.3587418039999997}, {\"showarrow\": false, \"text\": 22, \"x\": 2.9095487010000003, \"y\": -4.261979033, \"yshift\": 15, \"z\": 3.84849208}, {\"showarrow\": false, \"text\": 23, \"x\": 1.327235189, \"y\": -4.1308014669999995, \"yshift\": 15, \"z\": 4.634907308}, {\"showarrow\": false, \"text\": 24, \"x\": 0.6380872424, \"y\": -6.3272670589999995, \"yshift\": 15, \"z\": 3.616453393}, {\"showarrow\": false, \"text\": 25, \"x\": 2.221051478, \"y\": -6.4599831960000005, \"yshift\": 15, \"z\": 2.831152308}, {\"showarrow\": false, \"text\": 26, \"x\": 2.104008018, \"y\": -6.509128798, \"yshift\": 15, \"z\": 4.602568427}]}], \"label\": \"Atom indices\", \"method\": \"relayout\"}, {\"args\": [{\"scene.annotations\": [{\"showarrow\": false, \"text\": 1.53, \"x\": -0.033483697, \"y\": 0.82824433235, \"yshift\": 15, \"z\": 0.0336875067}, {\"showarrow\": false, \"text\": 1.53, \"x\": 0.38676146675, \"y\": -0.2423074753, \"yshift\": 15, \"z\": 0.58636451115}, {\"showarrow\": false, \"text\": 1.54, \"x\": 0.78534379175, \"y\": -1.31888216065, \"yshift\": 15, \"z\": 1.1848982265}, {\"showarrow\": false, \"text\": 1.53, \"x\": 1.2111009549, \"y\": -2.375474409, \"yshift\": 15, \"z\": 0.5965493344}, {\"showarrow\": false, \"text\": 1.41, \"x\": 1.3464354235, \"y\": -3.285223387, \"yshift\": 15, \"z\": 2.542753608}, {\"showarrow\": false, \"text\": 1.41, \"x\": 1.575057667, \"y\": -4.264789437, \"yshift\": 15, \"z\": 3.1602804345}, {\"showarrow\": false, \"text\": 1.52, \"x\": 1.7696326095, \"y\": -5.2957795635, \"yshift\": 15, \"z\": 3.72421299}, {\"showarrow\": false, \"text\": 1.53, \"x\": 1.1012530514, \"y\": -2.3344417695, \"yshift\": 15, \"z\": 1.851176663}, {\"showarrow\": false, \"text\": 1.1, \"x\": 0.4132954635, \"y\": 1.8214735085, \"yshift\": 15, \"z\": 0.09317127545}, {\"showarrow\": false, \"text\": 1.09, \"x\": 1.898659942, \"y\": -6.2801931795, \"yshift\": 15, \"z\": 4.150108031}, {\"showarrow\": false, \"text\": 1.09, \"x\": -0.34989662125, \"y\": 1.7992219325, \"yshift\": 15, \"z\": -0.35261086395}, {\"showarrow\": false, \"text\": 1.09, \"x\": 1.957181672, \"y\": -6.2556203785, \"yshift\": 15, \"z\": 3.2643999715}, {\"showarrow\": false, \"text\": 1.1, \"x\": -0.35085870725, \"y\": 1.7464523605, \"yshift\": 15, \"z\": 0.5301922027}, {\"showarrow\": false, \"text\": 1.1, \"x\": -0.48759783225, \"y\": -0.1499902105, \"yshift\": 15, \"z\": -0.04004616575}, {\"showarrow\": false, \"text\": 1.1, \"x\": 1.1105342042, \"y\": -2.358600746, \"yshift\": 15, \"z\": 2.937233248}, {\"showarrow\": false, \"text\": 1.1, \"x\": 1.586594271, \"y\": -4.3355515165, \"yshift\": 15, \"z\": 4.1928428265}, {\"showarrow\": false, \"text\": 1.09, \"x\": 1.1656995542, \"y\": -6.18926231, \"yshift\": 15, \"z\": 3.657050514}, {\"showarrow\": false, \"text\": 1.1, \"x\": 0.268391137, \"y\": -0.0717591707, \"yshift\": 15, \"z\": -0.47758477925}, {\"showarrow\": false, \"text\": 1.1, \"x\": 1.26886758035, \"y\": -0.34988312985, \"yshift\": 15, \"z\": 1.200630204}, {\"showarrow\": false, \"text\": 1.1, \"x\": 2.1167181145, \"y\": -2.456879466, \"yshift\": 15, \"z\": -0.00436871745}, {\"showarrow\": false, \"text\": 1.11, \"x\": 1.9147191025, \"y\": -2.419248941, \"yshift\": 15, \"z\": 2.5665793545}, {\"showarrow\": false, \"text\": 1.1, \"x\": 2.377751027, \"y\": -4.4011402995, \"yshift\": 15, \"z\": 3.7996352125}, {\"showarrow\": false, \"text\": 1.1, \"x\": 0.5128171536, \"y\": -0.3803144062, \"yshift\": 15, \"z\": 1.645402148}, {\"showarrow\": false, \"text\": 1.1, \"x\": 0.2992727165, \"y\": -2.278888617, \"yshift\": 15, \"z\": 1.1579253085}, {\"showarrow\": false, \"text\": 1.09, \"x\": 1.647792352, \"y\": -3.205954774, \"yshift\": 15, \"z\": 0.05256571425}, {\"showarrow\": false, \"text\": 1.09, \"x\": 1.371761999, \"y\": -2.549313893, \"yshift\": 15, \"z\": -0.47303544195}]}], \"label\": \"Bond lengths\", \"method\": \"relayout\"}, {\"args\": [{\"scene.annotations\": [{\"showarrow\": false, \"text\": 0, \"x\": -0.0835999808, \"y\": 1.5910533669999998, \"yshift\": 15, \"z\": 0.07781381009999999}, {\"showarrow\": false, \"text\": 1, \"x\": 0.016632586799999998, \"y\": 0.06543529769999999, \"yshift\": 15, \"z\": -0.0104387967}, {\"showarrow\": false, \"text\": 2, \"x\": 0.7568903467, \"y\": -0.5500502482999999, \"yshift\": 15, \"z\": 1.1831678190000001}, {\"showarrow\": false, \"text\": 3, \"x\": 0.8137972368, \"y\": -2.0877140730000003, \"yshift\": 15, \"z\": 1.186628634}, {\"showarrow\": false, \"text\": 4, \"x\": 1.6084046730000001, \"y\": -2.663234745, \"yshift\": 15, \"z\": 0.0064700348}, {\"showarrow\": false, \"text\": 5, \"x\": 1.388708866, \"y\": -2.581169466, \"yshift\": 15, \"z\": 2.515724692}, {\"showarrow\": false, \"text\": 6, \"x\": 1.304161981, \"y\": -3.989277308, \"yshift\": 15, \"z\": 2.569782524}, {\"showarrow\": false, \"text\": 7, \"x\": 1.845953353, \"y\": -4.540301566, \"yshift\": 15, \"z\": 3.750778345}, {\"showarrow\": false, \"text\": 8, \"x\": 1.693311866, \"y\": -6.051257561, \"yshift\": 15, \"z\": 3.697647635}, {\"showarrow\": false, \"text\": 9, \"x\": 0.9101909078, \"y\": 2.05189365, \"yshift\": 15, \"z\": 0.1085287408}, {\"showarrow\": false, \"text\": 10, \"x\": -0.6161932617, \"y\": 2.007390498, \"yshift\": 15, \"z\": -0.7830355379999999}, {\"showarrow\": false, \"text\": 11, \"x\": -0.6181174336999999, \"y\": 1.9018513540000002, \"yshift\": 15, \"z\": 0.9825705953}, {\"showarrow\": false, \"text\": 12, \"x\": -0.9918282513, \"y\": -0.36541571869999995, \"yshift\": 15, \"z\": -0.0696535348}, {\"showarrow\": false, \"text\": 13, \"x\": 0.5201496872, \"y\": -0.2089536391, \"yshift\": 15, \"z\": -0.9447307618}, {\"showarrow\": false, \"text\": 14, \"x\": 1.7808448140000002, \"y\": -0.14971601140000002, \"yshift\": 15, \"z\": 1.218092589}, {\"showarrow\": false, \"text\": 15, \"x\": 0.2687439605, \"y\": -0.2105785641, \"yshift\": 15, \"z\": 2.107636477}, {\"showarrow\": false, \"text\": 16, \"x\": -0.2152518038, \"y\": -2.470063161, \"yshift\": 15, \"z\": 1.1292219829999999}, {\"showarrow\": false, \"text\": 17, \"x\": 1.687180031, \"y\": -3.748674803, \"yshift\": 15, \"z\": 0.09866139369999999}, {\"showarrow\": false, \"text\": 18, \"x\": 1.135119325, \"y\": -2.4353930409999998, \"yshift\": 15, \"z\": -0.9525409187}, {\"showarrow\": false, \"text\": 19, \"x\": 2.625031556, \"y\": -2.250524187, \"yshift\": 15, \"z\": -0.0152074697}, {\"showarrow\": false, \"text\": 20, \"x\": 2.440729339, \"y\": -2.257328416, \"yshift\": 15, \"z\": 2.617434017}, {\"showarrow\": false, \"text\": 21, \"x\": 0.8323595424, \"y\": -2.136032026, \"yshift\": 15, \"z\": 3.3587418039999997}, {\"showarrow\": false, \"text\": 22, \"x\": 2.9095487010000003, \"y\": -4.261979033, \"yshift\": 15, \"z\": 3.84849208}, {\"showarrow\": false, \"text\": 23, \"x\": 1.327235189, \"y\": -4.1308014669999995, \"yshift\": 15, \"z\": 4.634907308}, {\"showarrow\": false, \"text\": 24, \"x\": 0.6380872424, \"y\": -6.3272670589999995, \"yshift\": 15, \"z\": 3.616453393}, {\"showarrow\": false, \"text\": 25, \"x\": 2.221051478, \"y\": -6.4599831960000005, \"yshift\": 15, \"z\": 2.831152308}, {\"showarrow\": false, \"text\": 26, \"x\": 2.104008018, \"y\": -6.509128798, \"yshift\": 15, \"z\": 4.602568427}, {\"showarrow\": false, \"text\": 1.53, \"x\": -0.033483697, \"y\": 0.82824433235, \"yshift\": 15, \"z\": 0.0336875067}, {\"showarrow\": false, \"text\": 1.53, \"x\": 0.38676146675, \"y\": -0.2423074753, \"yshift\": 15, \"z\": 0.58636451115}, {\"showarrow\": false, \"text\": 1.54, \"x\": 0.78534379175, \"y\": -1.31888216065, \"yshift\": 15, \"z\": 1.1848982265}, {\"showarrow\": false, \"text\": 1.53, \"x\": 1.2111009549, \"y\": -2.375474409, \"yshift\": 15, \"z\": 0.5965493344}, {\"showarrow\": false, \"text\": 1.41, \"x\": 1.3464354235, \"y\": -3.285223387, \"yshift\": 15, \"z\": 2.542753608}, {\"showarrow\": false, \"text\": 1.41, \"x\": 1.575057667, \"y\": -4.264789437, \"yshift\": 15, \"z\": 3.1602804345}, {\"showarrow\": false, \"text\": 1.52, \"x\": 1.7696326095, \"y\": -5.2957795635, \"yshift\": 15, \"z\": 3.72421299}, {\"showarrow\": false, \"text\": 1.53, \"x\": 1.1012530514, \"y\": -2.3344417695, \"yshift\": 15, \"z\": 1.851176663}, {\"showarrow\": false, \"text\": 1.1, \"x\": 0.4132954635, \"y\": 1.8214735085, \"yshift\": 15, \"z\": 0.09317127545}, {\"showarrow\": false, \"text\": 1.09, \"x\": 1.898659942, \"y\": -6.2801931795, \"yshift\": 15, \"z\": 4.150108031}, {\"showarrow\": false, \"text\": 1.09, \"x\": -0.34989662125, \"y\": 1.7992219325, \"yshift\": 15, \"z\": -0.35261086395}, {\"showarrow\": false, \"text\": 1.09, \"x\": 1.957181672, \"y\": -6.2556203785, \"yshift\": 15, \"z\": 3.2643999715}, {\"showarrow\": false, \"text\": 1.1, \"x\": -0.35085870725, \"y\": 1.7464523605, \"yshift\": 15, \"z\": 0.5301922027}, {\"showarrow\": false, \"text\": 1.1, \"x\": -0.48759783225, \"y\": -0.1499902105, \"yshift\": 15, \"z\": -0.04004616575}, {\"showarrow\": false, \"text\": 1.1, \"x\": 1.1105342042, \"y\": -2.358600746, \"yshift\": 15, \"z\": 2.937233248}, {\"showarrow\": false, \"text\": 1.1, \"x\": 1.586594271, \"y\": -4.3355515165, \"yshift\": 15, \"z\": 4.1928428265}, {\"showarrow\": false, \"text\": 1.09, \"x\": 1.1656995542, \"y\": -6.18926231, \"yshift\": 15, \"z\": 3.657050514}, {\"showarrow\": false, \"text\": 1.1, \"x\": 0.268391137, \"y\": -0.0717591707, \"yshift\": 15, \"z\": -0.47758477925}, {\"showarrow\": false, \"text\": 1.1, \"x\": 1.26886758035, \"y\": -0.34988312985, \"yshift\": 15, \"z\": 1.200630204}, {\"showarrow\": false, \"text\": 1.1, \"x\": 2.1167181145, \"y\": -2.456879466, \"yshift\": 15, \"z\": -0.00436871745}, {\"showarrow\": false, \"text\": 1.11, \"x\": 1.9147191025, \"y\": -2.419248941, \"yshift\": 15, \"z\": 2.5665793545}, {\"showarrow\": false, \"text\": 1.1, \"x\": 2.377751027, \"y\": -4.4011402995, \"yshift\": 15, \"z\": 3.7996352125}, {\"showarrow\": false, \"text\": 1.1, \"x\": 0.5128171536, \"y\": -0.3803144062, \"yshift\": 15, \"z\": 1.645402148}, {\"showarrow\": false, \"text\": 1.1, \"x\": 0.2992727165, \"y\": -2.278888617, \"yshift\": 15, \"z\": 1.1579253085}, {\"showarrow\": false, \"text\": 1.09, \"x\": 1.647792352, \"y\": -3.205954774, \"yshift\": 15, \"z\": 0.05256571425}, {\"showarrow\": false, \"text\": 1.09, \"x\": 1.371761999, \"y\": -2.549313893, \"yshift\": 15, \"z\": -0.47303544195}]}], \"label\": \"Atom indices & Bond lengths\", \"method\": \"relayout\"}, {\"args\": [{\"scene.annotations\": []}], \"label\": \"Hide all\", \"method\": \"relayout\"}], \"direction\": \"down\", \"xanchor\": \"left\", \"yanchor\": \"top\"}]},\n",
       "                        {\"showLink\": false, \"linkText\": \"Export to plot.ly\", \"plotlyServerURL\": \"https://plot.ly\", \"responsive\": true}\n",
       "                    ).then(function(){\n",
       "                            \n",
       "var gd = document.getElementById('59995da6-e3e5-4904-b94e-c3203fca61aa');\n",
       "var x = new MutationObserver(function (mutations, observer) {{\n",
       "        var display = window.getComputedStyle(gd).display;\n",
       "        if (!display || display === 'none') {{\n",
       "            console.log([gd, 'removed!']);\n",
       "            Plotly.purge(gd);\n",
       "            observer.disconnect();\n",
       "        }}\n",
       "}});\n",
       "\n",
       "// Listen for the removal of the full notebook cells\n",
       "var notebookContainer = gd.closest('#notebook-container');\n",
       "if (notebookContainer) {{\n",
       "    x.observe(notebookContainer, {childList: true});\n",
       "}}\n",
       "\n",
       "// Listen for the clearing of the current output cell\n",
       "var outputEl = gd.closest('.output');\n",
       "if (outputEl) {{\n",
       "    x.observe(outputEl, {childList: true});\n",
       "}}\n",
       "\n",
       "                        })\n",
       "                };\n",
       "                });\n",
       "            </script>\n",
       "        </div>"
      ]
     },
     "metadata": {},
     "output_type": "display_data"
    }
   ],
   "source": [
    "plot_molecule('dsgdb9nsd_122001', structures)"
   ]
  },
  {
   "cell_type": "code",
   "execution_count": 7,
   "metadata": {},
   "outputs": [
    {
     "data": {
      "application/vnd.plotly.v1+json": {
       "config": {
        "linkText": "Export to plot.ly",
        "plotlyServerURL": "https://plot.ly",
        "showLink": false
       },
       "data": [
        {
         "marker": {
          "color": [
           "black",
           "black",
           "black",
           "black",
           "black",
           "black",
           "blue",
           "black",
           "black",
           "white",
           "white",
           "white",
           "white",
           "white",
           "white",
           "white",
           "white",
           "white",
           "white",
           "white",
           "white",
           "white",
           "white",
           "white",
           "white",
           "white"
          ],
          "line": {
           "color": "lightgray",
           "width": 2
          },
          "opacity": 0.8,
          "size": 7,
          "symbol": "circle"
         },
         "mode": "markers",
         "name": "",
         "text": [
          "C",
          "C",
          "C",
          "C",
          "C",
          "C",
          "N",
          "C",
          "C",
          "H",
          "H",
          "H",
          "H",
          "H",
          "H",
          "H",
          "H",
          "H",
          "H",
          "H",
          "H",
          "H",
          "H",
          "H",
          "H",
          "H"
         ],
         "type": "scatter3d",
         "uid": "1e9e10ed-6d9a-48bd-be20-00941a2cabda",
         "x": [
          0.0498059918,
          -0.0018058929999999998,
          -1.411622902,
          -2.284227356,
          -3.789481583,
          -1.316984441,
          -0.6679238481,
          -1.5454551769999998,
          -0.904647633,
          1.076909018,
          -0.5492031796,
          -0.323863397,
          0.4187542076,
          0.6376832159,
          -1.898636957,
          -2.118744093,
          -1.935340555,
          -4.346093603,
          -4.036662365,
          -4.166804122,
          -2.3194477190000002,
          -0.7142465570000001,
          -1.171500378,
          -2.616807236,
          -1.550538481,
          -0.0527252361
         ],
         "y": [
          1.5010361280000002,
          -0.0211699788,
          -0.632167091,
          -0.3374314131,
          -0.5445633258,
          -2.145072162,
          -2.437130958,
          -2.558387435,
          -3.7611785110000002,
          1.869071049,
          2.023540406,
          1.8022819019999998,
          -0.3025567543,
          -0.4853792732,
          -0.1798546277,
          0.6997163514,
          -0.9591986194,
          -0.2913015763,
          -1.580140097,
          0.0924640601,
          -2.605606008,
          -2.6086518819999998,
          -2.136049543,
          -2.4378117169999998,
          -4.441073187,
          -4.234299346
         ],
         "z": [
          0.0900584891,
          -0.0737935083,
          0.053432155599999996,
          -1.183071157,
          -0.9785914148999999,
          0.3102327413,
          1.585972881,
          2.745164059,
          2.1450328169999997,
          0.0003198909,
          -0.6631744626,
          1.075348887,
          -1.0498547809999998,
          0.6833736234000001,
          0.9310155261,
          -1.495070631,
          -2.0196760080000002,
          -1.8865762730000002,
          -0.7242984463,
          -0.1706417218,
          0.2598962321,
          -0.48255150210000003,
          3.673536926,
          2.588334267,
          1.5907957169999998,
          2.6255037740000002
         ]
        },
        {
         "hoverinfo": "none",
         "marker": {
          "color": "grey",
          "opacity": 1,
          "size": 7
         },
         "mode": "lines",
         "type": "scatter3d",
         "uid": "08044697-ae35-4653-951f-e46031c7fc86",
         "x": [
          0.0498059918,
          -0.0018058929999999998,
          null,
          -0.0018058929999999998,
          -1.411622902,
          null,
          -1.411622902,
          -2.284227356,
          null,
          -2.284227356,
          -3.789481583,
          null,
          -1.316984441,
          -0.6679238481,
          null,
          -0.6679238481,
          -1.5454551769999998,
          null,
          -0.904647633,
          -1.5454551769999998,
          null,
          -0.904647633,
          -0.6679238481,
          null,
          -1.411622902,
          -1.316984441,
          null,
          0.0498059918,
          1.076909018,
          null,
          -0.904647633,
          -0.0527252361,
          null,
          0.0498059918,
          -0.5492031796,
          null,
          -1.316984441,
          -0.7142465570000001,
          null,
          -1.5454551769999998,
          -2.616807236,
          null,
          -1.550538481,
          -0.904647633,
          null,
          0.0498059918,
          -0.323863397,
          null,
          -0.0018058929999999998,
          0.4187542076,
          null,
          -4.166804122,
          -3.789481583,
          null,
          -2.3194477190000002,
          -1.316984441,
          null,
          -1.171500378,
          -1.5454551769999998,
          null,
          -0.0018058929999999998,
          0.6376832159,
          null,
          -1.411622902,
          -1.898636957,
          null,
          -2.284227356,
          -2.118744093,
          null,
          -4.036662365,
          -3.789481583,
          null,
          -1.935340555,
          -2.284227356,
          null,
          -4.346093603,
          -3.789481583,
          null
         ],
         "y": [
          1.5010361280000002,
          -0.0211699788,
          null,
          -0.0211699788,
          -0.632167091,
          null,
          -0.632167091,
          -0.3374314131,
          null,
          -0.3374314131,
          -0.5445633258,
          null,
          -2.145072162,
          -2.437130958,
          null,
          -2.437130958,
          -2.558387435,
          null,
          -3.7611785110000002,
          -2.558387435,
          null,
          -3.7611785110000002,
          -2.437130958,
          null,
          -0.632167091,
          -2.145072162,
          null,
          1.5010361280000002,
          1.869071049,
          null,
          -3.7611785110000002,
          -4.234299346,
          null,
          1.5010361280000002,
          2.023540406,
          null,
          -2.145072162,
          -2.6086518819999998,
          null,
          -2.558387435,
          -2.4378117169999998,
          null,
          -4.441073187,
          -3.7611785110000002,
          null,
          1.5010361280000002,
          1.8022819019999998,
          null,
          -0.0211699788,
          -0.3025567543,
          null,
          0.0924640601,
          -0.5445633258,
          null,
          -2.605606008,
          -2.145072162,
          null,
          -2.136049543,
          -2.558387435,
          null,
          -0.0211699788,
          -0.4853792732,
          null,
          -0.632167091,
          -0.1798546277,
          null,
          -0.3374314131,
          0.6997163514,
          null,
          -1.580140097,
          -0.5445633258,
          null,
          -0.9591986194,
          -0.3374314131,
          null,
          -0.2913015763,
          -0.5445633258,
          null
         ],
         "z": [
          0.0900584891,
          -0.0737935083,
          null,
          -0.0737935083,
          0.053432155599999996,
          null,
          0.053432155599999996,
          -1.183071157,
          null,
          -1.183071157,
          -0.9785914148999999,
          null,
          0.3102327413,
          1.585972881,
          null,
          1.585972881,
          2.745164059,
          null,
          2.1450328169999997,
          2.745164059,
          null,
          2.1450328169999997,
          1.585972881,
          null,
          0.053432155599999996,
          0.3102327413,
          null,
          0.0900584891,
          0.0003198909,
          null,
          2.1450328169999997,
          2.6255037740000002,
          null,
          0.0900584891,
          -0.6631744626,
          null,
          0.3102327413,
          -0.48255150210000003,
          null,
          2.745164059,
          2.588334267,
          null,
          1.5907957169999998,
          2.1450328169999997,
          null,
          0.0900584891,
          1.075348887,
          null,
          -0.0737935083,
          -1.0498547809999998,
          null,
          -0.1706417218,
          -0.9785914148999999,
          null,
          0.2598962321,
          0.3102327413,
          null,
          3.673536926,
          2.745164059,
          null,
          -0.0737935083,
          0.6833736234000001,
          null,
          0.053432155599999996,
          0.9310155261,
          null,
          -1.183071157,
          -1.495070631,
          null,
          -0.7242984463,
          -0.9785914148999999,
          null,
          -2.0196760080000002,
          -1.183071157,
          null,
          -1.8865762730000002,
          -0.9785914148999999,
          null
         ]
        }
       ],
       "layout": {
        "margin": {
         "b": 0,
         "l": 0,
         "r": 0,
         "t": 0
        },
        "scene": {
         "annotations": [
          {
           "showarrow": false,
           "text": "0",
           "x": 0.0498059918,
           "y": 1.5010361280000002,
           "yshift": 15,
           "z": 0.0900584891
          },
          {
           "showarrow": false,
           "text": "1",
           "x": -0.0018058929999999998,
           "y": -0.0211699788,
           "yshift": 15,
           "z": -0.0737935083
          },
          {
           "showarrow": false,
           "text": "2",
           "x": -1.411622902,
           "y": -0.632167091,
           "yshift": 15,
           "z": 0.053432155599999996
          },
          {
           "showarrow": false,
           "text": "3",
           "x": -2.284227356,
           "y": -0.3374314131,
           "yshift": 15,
           "z": -1.183071157
          },
          {
           "showarrow": false,
           "text": "4",
           "x": -3.789481583,
           "y": -0.5445633258,
           "yshift": 15,
           "z": -0.9785914148999999
          },
          {
           "showarrow": false,
           "text": "5",
           "x": -1.316984441,
           "y": -2.145072162,
           "yshift": 15,
           "z": 0.3102327413
          },
          {
           "showarrow": false,
           "text": "6",
           "x": -0.6679238481,
           "y": -2.437130958,
           "yshift": 15,
           "z": 1.585972881
          },
          {
           "showarrow": false,
           "text": "7",
           "x": -1.5454551769999998,
           "y": -2.558387435,
           "yshift": 15,
           "z": 2.745164059
          },
          {
           "showarrow": false,
           "text": "8",
           "x": -0.904647633,
           "y": -3.7611785110000002,
           "yshift": 15,
           "z": 2.1450328169999997
          },
          {
           "showarrow": false,
           "text": "9",
           "x": 1.076909018,
           "y": 1.869071049,
           "yshift": 15,
           "z": 0.0003198909
          },
          {
           "showarrow": false,
           "text": "10",
           "x": -0.5492031796,
           "y": 2.023540406,
           "yshift": 15,
           "z": -0.6631744626
          },
          {
           "showarrow": false,
           "text": "11",
           "x": -0.323863397,
           "y": 1.8022819019999998,
           "yshift": 15,
           "z": 1.075348887
          },
          {
           "showarrow": false,
           "text": "12",
           "x": 0.4187542076,
           "y": -0.3025567543,
           "yshift": 15,
           "z": -1.0498547809999998
          },
          {
           "showarrow": false,
           "text": "13",
           "x": 0.6376832159,
           "y": -0.4853792732,
           "yshift": 15,
           "z": 0.6833736234000001
          },
          {
           "showarrow": false,
           "text": "14",
           "x": -1.898636957,
           "y": -0.1798546277,
           "yshift": 15,
           "z": 0.9310155261
          },
          {
           "showarrow": false,
           "text": "15",
           "x": -2.118744093,
           "y": 0.6997163514,
           "yshift": 15,
           "z": -1.495070631
          },
          {
           "showarrow": false,
           "text": "16",
           "x": -1.935340555,
           "y": -0.9591986194,
           "yshift": 15,
           "z": -2.0196760080000002
          },
          {
           "showarrow": false,
           "text": "17",
           "x": -4.346093603,
           "y": -0.2913015763,
           "yshift": 15,
           "z": -1.8865762730000002
          },
          {
           "showarrow": false,
           "text": "18",
           "x": -4.036662365,
           "y": -1.580140097,
           "yshift": 15,
           "z": -0.7242984463
          },
          {
           "showarrow": false,
           "text": "19",
           "x": -4.166804122,
           "y": 0.0924640601,
           "yshift": 15,
           "z": -0.1706417218
          },
          {
           "showarrow": false,
           "text": "20",
           "x": -2.3194477190000002,
           "y": -2.605606008,
           "yshift": 15,
           "z": 0.2598962321
          },
          {
           "showarrow": false,
           "text": "21",
           "x": -0.7142465570000001,
           "y": -2.6086518819999998,
           "yshift": 15,
           "z": -0.48255150210000003
          },
          {
           "showarrow": false,
           "text": "22",
           "x": -1.171500378,
           "y": -2.136049543,
           "yshift": 15,
           "z": 3.673536926
          },
          {
           "showarrow": false,
           "text": "23",
           "x": -2.616807236,
           "y": -2.4378117169999998,
           "yshift": 15,
           "z": 2.588334267
          },
          {
           "showarrow": false,
           "text": "24",
           "x": -1.550538481,
           "y": -4.441073187,
           "yshift": 15,
           "z": 1.5907957169999998
          },
          {
           "showarrow": false,
           "text": "25",
           "x": -0.0527252361,
           "y": -4.234299346,
           "yshift": 15,
           "z": 2.6255037740000002
          }
         ],
         "aspectmode": "auto",
         "aspectratio": {
          "x": 0.9279542035600814,
          "y": 1.1061889099566398,
          "z": 0.9741910972732912
         },
         "xaxis": {
          "showgrid": false,
          "showticklabels": false,
          "title": {
           "font": {
            "color": "white"
           }
          },
          "type": "linear",
          "zeroline": false
         },
         "yaxis": {
          "showgrid": false,
          "showticklabels": false,
          "title": {
           "font": {
            "color": "white"
           }
          },
          "type": "linear",
          "zeroline": false
         },
         "zaxis": {
          "showgrid": false,
          "showticklabels": false,
          "title": {
           "font": {
            "color": "white"
           }
          },
          "type": "linear",
          "zeroline": false
         }
        },
        "showlegend": false,
        "updatemenus": [
         {
          "buttons": [
           {
            "args": [
             {
              "scene.annotations": [
               {
                "showarrow": false,
                "text": 0,
                "x": 0.0498059918,
                "y": 1.5010361280000002,
                "yshift": 15,
                "z": 0.0900584891
               },
               {
                "showarrow": false,
                "text": 1,
                "x": -0.0018058929999999998,
                "y": -0.0211699788,
                "yshift": 15,
                "z": -0.0737935083
               },
               {
                "showarrow": false,
                "text": 2,
                "x": -1.411622902,
                "y": -0.632167091,
                "yshift": 15,
                "z": 0.053432155599999996
               },
               {
                "showarrow": false,
                "text": 3,
                "x": -2.284227356,
                "y": -0.3374314131,
                "yshift": 15,
                "z": -1.183071157
               },
               {
                "showarrow": false,
                "text": 4,
                "x": -3.789481583,
                "y": -0.5445633258,
                "yshift": 15,
                "z": -0.9785914148999999
               },
               {
                "showarrow": false,
                "text": 5,
                "x": -1.316984441,
                "y": -2.145072162,
                "yshift": 15,
                "z": 0.3102327413
               },
               {
                "showarrow": false,
                "text": 6,
                "x": -0.6679238481,
                "y": -2.437130958,
                "yshift": 15,
                "z": 1.585972881
               },
               {
                "showarrow": false,
                "text": 7,
                "x": -1.5454551769999998,
                "y": -2.558387435,
                "yshift": 15,
                "z": 2.745164059
               },
               {
                "showarrow": false,
                "text": 8,
                "x": -0.904647633,
                "y": -3.7611785110000002,
                "yshift": 15,
                "z": 2.1450328169999997
               },
               {
                "showarrow": false,
                "text": 9,
                "x": 1.076909018,
                "y": 1.869071049,
                "yshift": 15,
                "z": 0.0003198909
               },
               {
                "showarrow": false,
                "text": 10,
                "x": -0.5492031796,
                "y": 2.023540406,
                "yshift": 15,
                "z": -0.6631744626
               },
               {
                "showarrow": false,
                "text": 11,
                "x": -0.323863397,
                "y": 1.8022819019999998,
                "yshift": 15,
                "z": 1.075348887
               },
               {
                "showarrow": false,
                "text": 12,
                "x": 0.4187542076,
                "y": -0.3025567543,
                "yshift": 15,
                "z": -1.0498547809999998
               },
               {
                "showarrow": false,
                "text": 13,
                "x": 0.6376832159,
                "y": -0.4853792732,
                "yshift": 15,
                "z": 0.6833736234000001
               },
               {
                "showarrow": false,
                "text": 14,
                "x": -1.898636957,
                "y": -0.1798546277,
                "yshift": 15,
                "z": 0.9310155261
               },
               {
                "showarrow": false,
                "text": 15,
                "x": -2.118744093,
                "y": 0.6997163514,
                "yshift": 15,
                "z": -1.495070631
               },
               {
                "showarrow": false,
                "text": 16,
                "x": -1.935340555,
                "y": -0.9591986194,
                "yshift": 15,
                "z": -2.0196760080000002
               },
               {
                "showarrow": false,
                "text": 17,
                "x": -4.346093603,
                "y": -0.2913015763,
                "yshift": 15,
                "z": -1.8865762730000002
               },
               {
                "showarrow": false,
                "text": 18,
                "x": -4.036662365,
                "y": -1.580140097,
                "yshift": 15,
                "z": -0.7242984463
               },
               {
                "showarrow": false,
                "text": 19,
                "x": -4.166804122,
                "y": 0.0924640601,
                "yshift": 15,
                "z": -0.1706417218
               },
               {
                "showarrow": false,
                "text": 20,
                "x": -2.3194477190000002,
                "y": -2.605606008,
                "yshift": 15,
                "z": 0.2598962321
               },
               {
                "showarrow": false,
                "text": 21,
                "x": -0.7142465570000001,
                "y": -2.6086518819999998,
                "yshift": 15,
                "z": -0.48255150210000003
               },
               {
                "showarrow": false,
                "text": 22,
                "x": -1.171500378,
                "y": -2.136049543,
                "yshift": 15,
                "z": 3.673536926
               },
               {
                "showarrow": false,
                "text": 23,
                "x": -2.616807236,
                "y": -2.4378117169999998,
                "yshift": 15,
                "z": 2.588334267
               },
               {
                "showarrow": false,
                "text": 24,
                "x": -1.550538481,
                "y": -4.441073187,
                "yshift": 15,
                "z": 1.5907957169999998
               },
               {
                "showarrow": false,
                "text": 25,
                "x": -0.0527252361,
                "y": -4.234299346,
                "yshift": 15,
                "z": 2.6255037740000002
               }
              ]
             }
            ],
            "label": "Atom indices",
            "method": "relayout"
           },
           {
            "args": [
             {
              "scene.annotations": [
               {
                "showarrow": false,
                "text": 1.53,
                "x": 0.0240000494,
                "y": 0.7399330746,
                "yshift": 15,
                "z": 0.0081324904
               },
               {
                "showarrow": false,
                "text": 1.54,
                "x": -0.7067143975,
                "y": -0.3266685349,
                "yshift": 15,
                "z": -0.01018067635
               },
               {
                "showarrow": false,
                "text": 1.54,
                "x": -1.847925129,
                "y": -0.48479925205,
                "yshift": 15,
                "z": -0.5648195007
               },
               {
                "showarrow": false,
                "text": 1.53,
                "x": -3.0368544695,
                "y": -0.44099736945,
                "yshift": 15,
                "z": -1.08083128595
               },
               {
                "showarrow": false,
                "text": 1.46,
                "x": -0.99245414455,
                "y": -2.29110156,
                "yshift": 15,
                "z": 0.94810281115
               },
               {
                "showarrow": false,
                "text": 1.46,
                "x": -1.10668951255,
                "y": -2.4977591965,
                "yshift": 15,
                "z": 2.16556847
               },
               {
                "showarrow": false,
                "text": 1.49,
                "x": -1.225051405,
                "y": -3.159782973,
                "yshift": 15,
                "z": 2.445098438
               },
               {
                "showarrow": false,
                "text": 1.46,
                "x": -0.78628574055,
                "y": -3.0991547345,
                "yshift": 15,
                "z": 1.865502849
               },
               {
                "showarrow": false,
                "text": 1.54,
                "x": -1.3643036715,
                "y": -1.3886196265,
                "yshift": 15,
                "z": 0.18183244845
               },
               {
                "showarrow": false,
                "text": 1.09,
                "x": 0.5633575049,
                "y": 1.6850535885,
                "yshift": 15,
                "z": 0.04518919
               },
               {
                "showarrow": false,
                "text": 1.09,
                "x": -0.47868643455,
                "y": -3.9977389285,
                "yshift": 15,
                "z": 2.3852682955
               },
               {
                "showarrow": false,
                "text": 1.1,
                "x": -0.2496985939,
                "y": 1.762288267,
                "yshift": 15,
                "z": -0.28655798675
               },
               {
                "showarrow": false,
                "text": 1.1,
                "x": -1.015615499,
                "y": -2.376862022,
                "yshift": 15,
                "z": -0.0861593804
               },
               {
                "showarrow": false,
                "text": 1.09,
                "x": -2.0811312065,
                "y": -2.498099576,
                "yshift": 15,
                "z": 2.666749163
               },
               {
                "showarrow": false,
                "text": 1.09,
                "x": -1.227593057,
                "y": -4.101125849,
                "yshift": 15,
                "z": 1.867914267
               },
               {
                "showarrow": false,
                "text": 1.1,
                "x": -0.1370287026,
                "y": 1.651659015,
                "yshift": 15,
                "z": 0.58270368805
               },
               {
                "showarrow": false,
                "text": 1.1,
                "x": 0.2084741573,
                "y": -0.16186336655,
                "yshift": 15,
                "z": -0.56182414465
               },
               {
                "showarrow": false,
                "text": 1.1,
                "x": -3.9781428525,
                "y": -0.22604963285,
                "yshift": 15,
                "z": -0.57461656835
               },
               {
                "showarrow": false,
                "text": 1.1,
                "x": -1.81821608,
                "y": -2.375339085,
                "yshift": 15,
                "z": 0.2850644867
               },
               {
                "showarrow": false,
                "text": 1.09,
                "x": -1.3584777775,
                "y": -2.347218489,
                "yshift": 15,
                "z": 3.2093504925
               },
               {
                "showarrow": false,
                "text": 1.09,
                "x": 0.31793866145,
                "y": -0.253274626,
                "yshift": 15,
                "z": 0.30479005755
               },
               {
                "showarrow": false,
                "text": 1.1,
                "x": -1.6551299295,
                "y": -0.40601085935,
                "yshift": 15,
                "z": 0.49222384085
               },
               {
                "showarrow": false,
                "text": 1.1,
                "x": -2.2014857245,
                "y": 0.18114246915,
                "yshift": 15,
                "z": -1.339070894
               },
               {
                "showarrow": false,
                "text": 1.09,
                "x": -3.913071974,
                "y": -1.0623517114,
                "yshift": 15,
                "z": -0.8514449306
               },
               {
                "showarrow": false,
                "text": 1.1,
                "x": -2.1097839555,
                "y": -0.64831501625,
                "yshift": 15,
                "z": -1.6013735825
               },
               {
                "showarrow": false,
                "text": 1.09,
                "x": -4.067787593,
                "y": -0.41793245105,
                "yshift": 15,
                "z": -1.43258384395
               }
              ]
             }
            ],
            "label": "Bond lengths",
            "method": "relayout"
           },
           {
            "args": [
             {
              "scene.annotations": [
               {
                "showarrow": false,
                "text": 0,
                "x": 0.0498059918,
                "y": 1.5010361280000002,
                "yshift": 15,
                "z": 0.0900584891
               },
               {
                "showarrow": false,
                "text": 1,
                "x": -0.0018058929999999998,
                "y": -0.0211699788,
                "yshift": 15,
                "z": -0.0737935083
               },
               {
                "showarrow": false,
                "text": 2,
                "x": -1.411622902,
                "y": -0.632167091,
                "yshift": 15,
                "z": 0.053432155599999996
               },
               {
                "showarrow": false,
                "text": 3,
                "x": -2.284227356,
                "y": -0.3374314131,
                "yshift": 15,
                "z": -1.183071157
               },
               {
                "showarrow": false,
                "text": 4,
                "x": -3.789481583,
                "y": -0.5445633258,
                "yshift": 15,
                "z": -0.9785914148999999
               },
               {
                "showarrow": false,
                "text": 5,
                "x": -1.316984441,
                "y": -2.145072162,
                "yshift": 15,
                "z": 0.3102327413
               },
               {
                "showarrow": false,
                "text": 6,
                "x": -0.6679238481,
                "y": -2.437130958,
                "yshift": 15,
                "z": 1.585972881
               },
               {
                "showarrow": false,
                "text": 7,
                "x": -1.5454551769999998,
                "y": -2.558387435,
                "yshift": 15,
                "z": 2.745164059
               },
               {
                "showarrow": false,
                "text": 8,
                "x": -0.904647633,
                "y": -3.7611785110000002,
                "yshift": 15,
                "z": 2.1450328169999997
               },
               {
                "showarrow": false,
                "text": 9,
                "x": 1.076909018,
                "y": 1.869071049,
                "yshift": 15,
                "z": 0.0003198909
               },
               {
                "showarrow": false,
                "text": 10,
                "x": -0.5492031796,
                "y": 2.023540406,
                "yshift": 15,
                "z": -0.6631744626
               },
               {
                "showarrow": false,
                "text": 11,
                "x": -0.323863397,
                "y": 1.8022819019999998,
                "yshift": 15,
                "z": 1.075348887
               },
               {
                "showarrow": false,
                "text": 12,
                "x": 0.4187542076,
                "y": -0.3025567543,
                "yshift": 15,
                "z": -1.0498547809999998
               },
               {
                "showarrow": false,
                "text": 13,
                "x": 0.6376832159,
                "y": -0.4853792732,
                "yshift": 15,
                "z": 0.6833736234000001
               },
               {
                "showarrow": false,
                "text": 14,
                "x": -1.898636957,
                "y": -0.1798546277,
                "yshift": 15,
                "z": 0.9310155261
               },
               {
                "showarrow": false,
                "text": 15,
                "x": -2.118744093,
                "y": 0.6997163514,
                "yshift": 15,
                "z": -1.495070631
               },
               {
                "showarrow": false,
                "text": 16,
                "x": -1.935340555,
                "y": -0.9591986194,
                "yshift": 15,
                "z": -2.0196760080000002
               },
               {
                "showarrow": false,
                "text": 17,
                "x": -4.346093603,
                "y": -0.2913015763,
                "yshift": 15,
                "z": -1.8865762730000002
               },
               {
                "showarrow": false,
                "text": 18,
                "x": -4.036662365,
                "y": -1.580140097,
                "yshift": 15,
                "z": -0.7242984463
               },
               {
                "showarrow": false,
                "text": 19,
                "x": -4.166804122,
                "y": 0.0924640601,
                "yshift": 15,
                "z": -0.1706417218
               },
               {
                "showarrow": false,
                "text": 20,
                "x": -2.3194477190000002,
                "y": -2.605606008,
                "yshift": 15,
                "z": 0.2598962321
               },
               {
                "showarrow": false,
                "text": 21,
                "x": -0.7142465570000001,
                "y": -2.6086518819999998,
                "yshift": 15,
                "z": -0.48255150210000003
               },
               {
                "showarrow": false,
                "text": 22,
                "x": -1.171500378,
                "y": -2.136049543,
                "yshift": 15,
                "z": 3.673536926
               },
               {
                "showarrow": false,
                "text": 23,
                "x": -2.616807236,
                "y": -2.4378117169999998,
                "yshift": 15,
                "z": 2.588334267
               },
               {
                "showarrow": false,
                "text": 24,
                "x": -1.550538481,
                "y": -4.441073187,
                "yshift": 15,
                "z": 1.5907957169999998
               },
               {
                "showarrow": false,
                "text": 25,
                "x": -0.0527252361,
                "y": -4.234299346,
                "yshift": 15,
                "z": 2.6255037740000002
               },
               {
                "showarrow": false,
                "text": 1.53,
                "x": 0.0240000494,
                "y": 0.7399330746,
                "yshift": 15,
                "z": 0.0081324904
               },
               {
                "showarrow": false,
                "text": 1.54,
                "x": -0.7067143975,
                "y": -0.3266685349,
                "yshift": 15,
                "z": -0.01018067635
               },
               {
                "showarrow": false,
                "text": 1.54,
                "x": -1.847925129,
                "y": -0.48479925205,
                "yshift": 15,
                "z": -0.5648195007
               },
               {
                "showarrow": false,
                "text": 1.53,
                "x": -3.0368544695,
                "y": -0.44099736945,
                "yshift": 15,
                "z": -1.08083128595
               },
               {
                "showarrow": false,
                "text": 1.46,
                "x": -0.99245414455,
                "y": -2.29110156,
                "yshift": 15,
                "z": 0.94810281115
               },
               {
                "showarrow": false,
                "text": 1.46,
                "x": -1.10668951255,
                "y": -2.4977591965,
                "yshift": 15,
                "z": 2.16556847
               },
               {
                "showarrow": false,
                "text": 1.49,
                "x": -1.225051405,
                "y": -3.159782973,
                "yshift": 15,
                "z": 2.445098438
               },
               {
                "showarrow": false,
                "text": 1.46,
                "x": -0.78628574055,
                "y": -3.0991547345,
                "yshift": 15,
                "z": 1.865502849
               },
               {
                "showarrow": false,
                "text": 1.54,
                "x": -1.3643036715,
                "y": -1.3886196265,
                "yshift": 15,
                "z": 0.18183244845
               },
               {
                "showarrow": false,
                "text": 1.09,
                "x": 0.5633575049,
                "y": 1.6850535885,
                "yshift": 15,
                "z": 0.04518919
               },
               {
                "showarrow": false,
                "text": 1.09,
                "x": -0.47868643455,
                "y": -3.9977389285,
                "yshift": 15,
                "z": 2.3852682955
               },
               {
                "showarrow": false,
                "text": 1.1,
                "x": -0.2496985939,
                "y": 1.762288267,
                "yshift": 15,
                "z": -0.28655798675
               },
               {
                "showarrow": false,
                "text": 1.1,
                "x": -1.015615499,
                "y": -2.376862022,
                "yshift": 15,
                "z": -0.0861593804
               },
               {
                "showarrow": false,
                "text": 1.09,
                "x": -2.0811312065,
                "y": -2.498099576,
                "yshift": 15,
                "z": 2.666749163
               },
               {
                "showarrow": false,
                "text": 1.09,
                "x": -1.227593057,
                "y": -4.101125849,
                "yshift": 15,
                "z": 1.867914267
               },
               {
                "showarrow": false,
                "text": 1.1,
                "x": -0.1370287026,
                "y": 1.651659015,
                "yshift": 15,
                "z": 0.58270368805
               },
               {
                "showarrow": false,
                "text": 1.1,
                "x": 0.2084741573,
                "y": -0.16186336655,
                "yshift": 15,
                "z": -0.56182414465
               },
               {
                "showarrow": false,
                "text": 1.1,
                "x": -3.9781428525,
                "y": -0.22604963285,
                "yshift": 15,
                "z": -0.57461656835
               },
               {
                "showarrow": false,
                "text": 1.1,
                "x": -1.81821608,
                "y": -2.375339085,
                "yshift": 15,
                "z": 0.2850644867
               },
               {
                "showarrow": false,
                "text": 1.09,
                "x": -1.3584777775,
                "y": -2.347218489,
                "yshift": 15,
                "z": 3.2093504925
               },
               {
                "showarrow": false,
                "text": 1.09,
                "x": 0.31793866145,
                "y": -0.253274626,
                "yshift": 15,
                "z": 0.30479005755
               },
               {
                "showarrow": false,
                "text": 1.1,
                "x": -1.6551299295,
                "y": -0.40601085935,
                "yshift": 15,
                "z": 0.49222384085
               },
               {
                "showarrow": false,
                "text": 1.1,
                "x": -2.2014857245,
                "y": 0.18114246915,
                "yshift": 15,
                "z": -1.339070894
               },
               {
                "showarrow": false,
                "text": 1.09,
                "x": -3.913071974,
                "y": -1.0623517114,
                "yshift": 15,
                "z": -0.8514449306
               },
               {
                "showarrow": false,
                "text": 1.1,
                "x": -2.1097839555,
                "y": -0.64831501625,
                "yshift": 15,
                "z": -1.6013735825
               },
               {
                "showarrow": false,
                "text": 1.09,
                "x": -4.067787593,
                "y": -0.41793245105,
                "yshift": 15,
                "z": -1.43258384395
               }
              ]
             }
            ],
            "label": "Atom indices & Bond lengths",
            "method": "relayout"
           },
           {
            "args": [
             {
              "scene.annotations": []
             }
            ],
            "label": "Hide all",
            "method": "relayout"
           }
          ],
          "direction": "down",
          "xanchor": "left",
          "yanchor": "top"
         }
        ]
       }
      },
      "text/html": [
       "<div>\n",
       "        \n",
       "        \n",
       "            <div id=\"29f8aba5-a872-45d9-a996-7af8e414c77d\" class=\"plotly-graph-div\" style=\"height:525px; width:100%;\"></div>\n",
       "            <script type=\"text/javascript\">\n",
       "                require([\"plotly\"], function(Plotly) {\n",
       "                    window.PLOTLYENV=window.PLOTLYENV || {};\n",
       "                    window.PLOTLYENV.BASE_URL='https://plot.ly';\n",
       "                    \n",
       "                if (document.getElementById(\"29f8aba5-a872-45d9-a996-7af8e414c77d\")) {\n",
       "                    Plotly.newPlot(\n",
       "                        '29f8aba5-a872-45d9-a996-7af8e414c77d',\n",
       "                        [{\"marker\": {\"color\": [\"black\", \"black\", \"black\", \"black\", \"black\", \"black\", \"blue\", \"black\", \"black\", \"white\", \"white\", \"white\", \"white\", \"white\", \"white\", \"white\", \"white\", \"white\", \"white\", \"white\", \"white\", \"white\", \"white\", \"white\", \"white\", \"white\"], \"line\": {\"color\": \"lightgray\", \"width\": 2}, \"opacity\": 0.8, \"size\": 7, \"symbol\": \"circle\"}, \"mode\": \"markers\", \"name\": \"\", \"text\": [\"C\", \"C\", \"C\", \"C\", \"C\", \"C\", \"N\", \"C\", \"C\", \"H\", \"H\", \"H\", \"H\", \"H\", \"H\", \"H\", \"H\", \"H\", \"H\", \"H\", \"H\", \"H\", \"H\", \"H\", \"H\", \"H\"], \"type\": \"scatter3d\", \"uid\": \"1e9e10ed-6d9a-48bd-be20-00941a2cabda\", \"x\": [0.0498059918, -0.0018058929999999998, -1.411622902, -2.284227356, -3.789481583, -1.316984441, -0.6679238481, -1.5454551769999998, -0.904647633, 1.076909018, -0.5492031796, -0.323863397, 0.4187542076, 0.6376832159, -1.898636957, -2.118744093, -1.935340555, -4.346093603, -4.036662365, -4.166804122, -2.3194477190000002, -0.7142465570000001, -1.171500378, -2.616807236, -1.550538481, -0.0527252361], \"y\": [1.5010361280000002, -0.0211699788, -0.632167091, -0.3374314131, -0.5445633258, -2.145072162, -2.437130958, -2.558387435, -3.7611785110000002, 1.869071049, 2.023540406, 1.8022819019999998, -0.3025567543, -0.4853792732, -0.1798546277, 0.6997163514, -0.9591986194, -0.2913015763, -1.580140097, 0.0924640601, -2.605606008, -2.6086518819999998, -2.136049543, -2.4378117169999998, -4.441073187, -4.234299346], \"z\": [0.0900584891, -0.0737935083, 0.053432155599999996, -1.183071157, -0.9785914148999999, 0.3102327413, 1.585972881, 2.745164059, 2.1450328169999997, 0.0003198909, -0.6631744626, 1.075348887, -1.0498547809999998, 0.6833736234000001, 0.9310155261, -1.495070631, -2.0196760080000002, -1.8865762730000002, -0.7242984463, -0.1706417218, 0.2598962321, -0.48255150210000003, 3.673536926, 2.588334267, 1.5907957169999998, 2.6255037740000002]}, {\"hoverinfo\": \"none\", \"marker\": {\"color\": \"grey\", \"opacity\": 1, \"size\": 7}, \"mode\": \"lines\", \"type\": \"scatter3d\", \"uid\": \"08044697-ae35-4653-951f-e46031c7fc86\", \"x\": [0.0498059918, -0.0018058929999999998, null, -0.0018058929999999998, -1.411622902, null, -1.411622902, -2.284227356, null, -2.284227356, -3.789481583, null, -1.316984441, -0.6679238481, null, -0.6679238481, -1.5454551769999998, null, -0.904647633, -1.5454551769999998, null, -0.904647633, -0.6679238481, null, -1.411622902, -1.316984441, null, 0.0498059918, 1.076909018, null, -0.904647633, -0.0527252361, null, 0.0498059918, -0.5492031796, null, -1.316984441, -0.7142465570000001, null, -1.5454551769999998, -2.616807236, null, -1.550538481, -0.904647633, null, 0.0498059918, -0.323863397, null, -0.0018058929999999998, 0.4187542076, null, -4.166804122, -3.789481583, null, -2.3194477190000002, -1.316984441, null, -1.171500378, -1.5454551769999998, null, -0.0018058929999999998, 0.6376832159, null, -1.411622902, -1.898636957, null, -2.284227356, -2.118744093, null, -4.036662365, -3.789481583, null, -1.935340555, -2.284227356, null, -4.346093603, -3.789481583, null], \"y\": [1.5010361280000002, -0.0211699788, null, -0.0211699788, -0.632167091, null, -0.632167091, -0.3374314131, null, -0.3374314131, -0.5445633258, null, -2.145072162, -2.437130958, null, -2.437130958, -2.558387435, null, -3.7611785110000002, -2.558387435, null, -3.7611785110000002, -2.437130958, null, -0.632167091, -2.145072162, null, 1.5010361280000002, 1.869071049, null, -3.7611785110000002, -4.234299346, null, 1.5010361280000002, 2.023540406, null, -2.145072162, -2.6086518819999998, null, -2.558387435, -2.4378117169999998, null, -4.441073187, -3.7611785110000002, null, 1.5010361280000002, 1.8022819019999998, null, -0.0211699788, -0.3025567543, null, 0.0924640601, -0.5445633258, null, -2.605606008, -2.145072162, null, -2.136049543, -2.558387435, null, -0.0211699788, -0.4853792732, null, -0.632167091, -0.1798546277, null, -0.3374314131, 0.6997163514, null, -1.580140097, -0.5445633258, null, -0.9591986194, -0.3374314131, null, -0.2913015763, -0.5445633258, null], \"z\": [0.0900584891, -0.0737935083, null, -0.0737935083, 0.053432155599999996, null, 0.053432155599999996, -1.183071157, null, -1.183071157, -0.9785914148999999, null, 0.3102327413, 1.585972881, null, 1.585972881, 2.745164059, null, 2.1450328169999997, 2.745164059, null, 2.1450328169999997, 1.585972881, null, 0.053432155599999996, 0.3102327413, null, 0.0900584891, 0.0003198909, null, 2.1450328169999997, 2.6255037740000002, null, 0.0900584891, -0.6631744626, null, 0.3102327413, -0.48255150210000003, null, 2.745164059, 2.588334267, null, 1.5907957169999998, 2.1450328169999997, null, 0.0900584891, 1.075348887, null, -0.0737935083, -1.0498547809999998, null, -0.1706417218, -0.9785914148999999, null, 0.2598962321, 0.3102327413, null, 3.673536926, 2.745164059, null, -0.0737935083, 0.6833736234000001, null, 0.053432155599999996, 0.9310155261, null, -1.183071157, -1.495070631, null, -0.7242984463, -0.9785914148999999, null, -2.0196760080000002, -1.183071157, null, -1.8865762730000002, -0.9785914148999999, null]}],\n",
       "                        {\"margin\": {\"b\": 0, \"l\": 0, \"r\": 0, \"t\": 0}, \"scene\": {\"annotations\": [{\"showarrow\": false, \"text\": \"0\", \"x\": 0.0498059918, \"y\": 1.5010361280000002, \"yshift\": 15, \"z\": 0.0900584891}, {\"showarrow\": false, \"text\": \"1\", \"x\": -0.0018058929999999998, \"y\": -0.0211699788, \"yshift\": 15, \"z\": -0.0737935083}, {\"showarrow\": false, \"text\": \"2\", \"x\": -1.411622902, \"y\": -0.632167091, \"yshift\": 15, \"z\": 0.053432155599999996}, {\"showarrow\": false, \"text\": \"3\", \"x\": -2.284227356, \"y\": -0.3374314131, \"yshift\": 15, \"z\": -1.183071157}, {\"showarrow\": false, \"text\": \"4\", \"x\": -3.789481583, \"y\": -0.5445633258, \"yshift\": 15, \"z\": -0.9785914148999999}, {\"showarrow\": false, \"text\": \"5\", \"x\": -1.316984441, \"y\": -2.145072162, \"yshift\": 15, \"z\": 0.3102327413}, {\"showarrow\": false, \"text\": \"6\", \"x\": -0.6679238481, \"y\": -2.437130958, \"yshift\": 15, \"z\": 1.585972881}, {\"showarrow\": false, \"text\": \"7\", \"x\": -1.5454551769999998, \"y\": -2.558387435, \"yshift\": 15, \"z\": 2.745164059}, {\"showarrow\": false, \"text\": \"8\", \"x\": -0.904647633, \"y\": -3.7611785110000002, \"yshift\": 15, \"z\": 2.1450328169999997}, {\"showarrow\": false, \"text\": \"9\", \"x\": 1.076909018, \"y\": 1.869071049, \"yshift\": 15, \"z\": 0.0003198909}, {\"showarrow\": false, \"text\": \"10\", \"x\": -0.5492031796, \"y\": 2.023540406, \"yshift\": 15, \"z\": -0.6631744626}, {\"showarrow\": false, \"text\": \"11\", \"x\": -0.323863397, \"y\": 1.8022819019999998, \"yshift\": 15, \"z\": 1.075348887}, {\"showarrow\": false, \"text\": \"12\", \"x\": 0.4187542076, \"y\": -0.3025567543, \"yshift\": 15, \"z\": -1.0498547809999998}, {\"showarrow\": false, \"text\": \"13\", \"x\": 0.6376832159, \"y\": -0.4853792732, \"yshift\": 15, \"z\": 0.6833736234000001}, {\"showarrow\": false, \"text\": \"14\", \"x\": -1.898636957, \"y\": -0.1798546277, \"yshift\": 15, \"z\": 0.9310155261}, {\"showarrow\": false, \"text\": \"15\", \"x\": -2.118744093, \"y\": 0.6997163514, \"yshift\": 15, \"z\": -1.495070631}, {\"showarrow\": false, \"text\": \"16\", \"x\": -1.935340555, \"y\": -0.9591986194, \"yshift\": 15, \"z\": -2.0196760080000002}, {\"showarrow\": false, \"text\": \"17\", \"x\": -4.346093603, \"y\": -0.2913015763, \"yshift\": 15, \"z\": -1.8865762730000002}, {\"showarrow\": false, \"text\": \"18\", \"x\": -4.036662365, \"y\": -1.580140097, \"yshift\": 15, \"z\": -0.7242984463}, {\"showarrow\": false, \"text\": \"19\", \"x\": -4.166804122, \"y\": 0.0924640601, \"yshift\": 15, \"z\": -0.1706417218}, {\"showarrow\": false, \"text\": \"20\", \"x\": -2.3194477190000002, \"y\": -2.605606008, \"yshift\": 15, \"z\": 0.2598962321}, {\"showarrow\": false, \"text\": \"21\", \"x\": -0.7142465570000001, \"y\": -2.6086518819999998, \"yshift\": 15, \"z\": -0.48255150210000003}, {\"showarrow\": false, \"text\": \"22\", \"x\": -1.171500378, \"y\": -2.136049543, \"yshift\": 15, \"z\": 3.673536926}, {\"showarrow\": false, \"text\": \"23\", \"x\": -2.616807236, \"y\": -2.4378117169999998, \"yshift\": 15, \"z\": 2.588334267}, {\"showarrow\": false, \"text\": \"24\", \"x\": -1.550538481, \"y\": -4.441073187, \"yshift\": 15, \"z\": 1.5907957169999998}, {\"showarrow\": false, \"text\": \"25\", \"x\": -0.0527252361, \"y\": -4.234299346, \"yshift\": 15, \"z\": 2.6255037740000002}], \"xaxis\": {\"showgrid\": false, \"showticklabels\": false, \"title\": {\"font\": {\"color\": \"white\"}}, \"zeroline\": false}, \"yaxis\": {\"showgrid\": false, \"showticklabels\": false, \"title\": {\"font\": {\"color\": \"white\"}}, \"zeroline\": false}, \"zaxis\": {\"showgrid\": false, \"showticklabels\": false, \"title\": {\"font\": {\"color\": \"white\"}}, \"zeroline\": false}}, \"showlegend\": false, \"updatemenus\": [{\"buttons\": [{\"args\": [{\"scene.annotations\": [{\"showarrow\": false, \"text\": 0, \"x\": 0.0498059918, \"y\": 1.5010361280000002, \"yshift\": 15, \"z\": 0.0900584891}, {\"showarrow\": false, \"text\": 1, \"x\": -0.0018058929999999998, \"y\": -0.0211699788, \"yshift\": 15, \"z\": -0.0737935083}, {\"showarrow\": false, \"text\": 2, \"x\": -1.411622902, \"y\": -0.632167091, \"yshift\": 15, \"z\": 0.053432155599999996}, {\"showarrow\": false, \"text\": 3, \"x\": -2.284227356, \"y\": -0.3374314131, \"yshift\": 15, \"z\": -1.183071157}, {\"showarrow\": false, \"text\": 4, \"x\": -3.789481583, \"y\": -0.5445633258, \"yshift\": 15, \"z\": -0.9785914148999999}, {\"showarrow\": false, \"text\": 5, \"x\": -1.316984441, \"y\": -2.145072162, \"yshift\": 15, \"z\": 0.3102327413}, {\"showarrow\": false, \"text\": 6, \"x\": -0.6679238481, \"y\": -2.437130958, \"yshift\": 15, \"z\": 1.585972881}, {\"showarrow\": false, \"text\": 7, \"x\": -1.5454551769999998, \"y\": -2.558387435, \"yshift\": 15, \"z\": 2.745164059}, {\"showarrow\": false, \"text\": 8, \"x\": -0.904647633, \"y\": -3.7611785110000002, \"yshift\": 15, \"z\": 2.1450328169999997}, {\"showarrow\": false, \"text\": 9, \"x\": 1.076909018, \"y\": 1.869071049, \"yshift\": 15, \"z\": 0.0003198909}, {\"showarrow\": false, \"text\": 10, \"x\": -0.5492031796, \"y\": 2.023540406, \"yshift\": 15, \"z\": -0.6631744626}, {\"showarrow\": false, \"text\": 11, \"x\": -0.323863397, \"y\": 1.8022819019999998, \"yshift\": 15, \"z\": 1.075348887}, {\"showarrow\": false, \"text\": 12, \"x\": 0.4187542076, \"y\": -0.3025567543, \"yshift\": 15, \"z\": -1.0498547809999998}, {\"showarrow\": false, \"text\": 13, \"x\": 0.6376832159, \"y\": -0.4853792732, \"yshift\": 15, \"z\": 0.6833736234000001}, {\"showarrow\": false, \"text\": 14, \"x\": -1.898636957, \"y\": -0.1798546277, \"yshift\": 15, \"z\": 0.9310155261}, {\"showarrow\": false, \"text\": 15, \"x\": -2.118744093, \"y\": 0.6997163514, \"yshift\": 15, \"z\": -1.495070631}, {\"showarrow\": false, \"text\": 16, \"x\": -1.935340555, \"y\": -0.9591986194, \"yshift\": 15, \"z\": -2.0196760080000002}, {\"showarrow\": false, \"text\": 17, \"x\": -4.346093603, \"y\": -0.2913015763, \"yshift\": 15, \"z\": -1.8865762730000002}, {\"showarrow\": false, \"text\": 18, \"x\": -4.036662365, \"y\": -1.580140097, \"yshift\": 15, \"z\": -0.7242984463}, {\"showarrow\": false, \"text\": 19, \"x\": -4.166804122, \"y\": 0.0924640601, \"yshift\": 15, \"z\": -0.1706417218}, {\"showarrow\": false, \"text\": 20, \"x\": -2.3194477190000002, \"y\": -2.605606008, \"yshift\": 15, \"z\": 0.2598962321}, {\"showarrow\": false, \"text\": 21, \"x\": -0.7142465570000001, \"y\": -2.6086518819999998, \"yshift\": 15, \"z\": -0.48255150210000003}, {\"showarrow\": false, \"text\": 22, \"x\": -1.171500378, \"y\": -2.136049543, \"yshift\": 15, \"z\": 3.673536926}, {\"showarrow\": false, \"text\": 23, \"x\": -2.616807236, \"y\": -2.4378117169999998, \"yshift\": 15, \"z\": 2.588334267}, {\"showarrow\": false, \"text\": 24, \"x\": -1.550538481, \"y\": -4.441073187, \"yshift\": 15, \"z\": 1.5907957169999998}, {\"showarrow\": false, \"text\": 25, \"x\": -0.0527252361, \"y\": -4.234299346, \"yshift\": 15, \"z\": 2.6255037740000002}]}], \"label\": \"Atom indices\", \"method\": \"relayout\"}, {\"args\": [{\"scene.annotations\": [{\"showarrow\": false, \"text\": 1.53, \"x\": 0.0240000494, \"y\": 0.7399330746, \"yshift\": 15, \"z\": 0.0081324904}, {\"showarrow\": false, \"text\": 1.54, \"x\": -0.7067143975, \"y\": -0.3266685349, \"yshift\": 15, \"z\": -0.01018067635}, {\"showarrow\": false, \"text\": 1.54, \"x\": -1.847925129, \"y\": -0.48479925205, \"yshift\": 15, \"z\": -0.5648195007}, {\"showarrow\": false, \"text\": 1.53, \"x\": -3.0368544695, \"y\": -0.44099736945, \"yshift\": 15, \"z\": -1.08083128595}, {\"showarrow\": false, \"text\": 1.46, \"x\": -0.99245414455, \"y\": -2.29110156, \"yshift\": 15, \"z\": 0.94810281115}, {\"showarrow\": false, \"text\": 1.46, \"x\": -1.10668951255, \"y\": -2.4977591965, \"yshift\": 15, \"z\": 2.16556847}, {\"showarrow\": false, \"text\": 1.49, \"x\": -1.225051405, \"y\": -3.159782973, \"yshift\": 15, \"z\": 2.445098438}, {\"showarrow\": false, \"text\": 1.46, \"x\": -0.78628574055, \"y\": -3.0991547345, \"yshift\": 15, \"z\": 1.865502849}, {\"showarrow\": false, \"text\": 1.54, \"x\": -1.3643036715, \"y\": -1.3886196265, \"yshift\": 15, \"z\": 0.18183244845}, {\"showarrow\": false, \"text\": 1.09, \"x\": 0.5633575049, \"y\": 1.6850535885, \"yshift\": 15, \"z\": 0.04518919}, {\"showarrow\": false, \"text\": 1.09, \"x\": -0.47868643455, \"y\": -3.9977389285, \"yshift\": 15, \"z\": 2.3852682955}, {\"showarrow\": false, \"text\": 1.1, \"x\": -0.2496985939, \"y\": 1.762288267, \"yshift\": 15, \"z\": -0.28655798675}, {\"showarrow\": false, \"text\": 1.1, \"x\": -1.015615499, \"y\": -2.376862022, \"yshift\": 15, \"z\": -0.0861593804}, {\"showarrow\": false, \"text\": 1.09, \"x\": -2.0811312065, \"y\": -2.498099576, \"yshift\": 15, \"z\": 2.666749163}, {\"showarrow\": false, \"text\": 1.09, \"x\": -1.227593057, \"y\": -4.101125849, \"yshift\": 15, \"z\": 1.867914267}, {\"showarrow\": false, \"text\": 1.1, \"x\": -0.1370287026, \"y\": 1.651659015, \"yshift\": 15, \"z\": 0.58270368805}, {\"showarrow\": false, \"text\": 1.1, \"x\": 0.2084741573, \"y\": -0.16186336655, \"yshift\": 15, \"z\": -0.56182414465}, {\"showarrow\": false, \"text\": 1.1, \"x\": -3.9781428525, \"y\": -0.22604963285, \"yshift\": 15, \"z\": -0.57461656835}, {\"showarrow\": false, \"text\": 1.1, \"x\": -1.81821608, \"y\": -2.375339085, \"yshift\": 15, \"z\": 0.2850644867}, {\"showarrow\": false, \"text\": 1.09, \"x\": -1.3584777775, \"y\": -2.347218489, \"yshift\": 15, \"z\": 3.2093504925}, {\"showarrow\": false, \"text\": 1.09, \"x\": 0.31793866145, \"y\": -0.253274626, \"yshift\": 15, \"z\": 0.30479005755}, {\"showarrow\": false, \"text\": 1.1, \"x\": -1.6551299295, \"y\": -0.40601085935, \"yshift\": 15, \"z\": 0.49222384085}, {\"showarrow\": false, \"text\": 1.1, \"x\": -2.2014857245, \"y\": 0.18114246915, \"yshift\": 15, \"z\": -1.339070894}, {\"showarrow\": false, \"text\": 1.09, \"x\": -3.913071974, \"y\": -1.0623517114, \"yshift\": 15, \"z\": -0.8514449306}, {\"showarrow\": false, \"text\": 1.1, \"x\": -2.1097839555, \"y\": -0.64831501625, \"yshift\": 15, \"z\": -1.6013735825}, {\"showarrow\": false, \"text\": 1.09, \"x\": -4.067787593, \"y\": -0.41793245105, \"yshift\": 15, \"z\": -1.43258384395}]}], \"label\": \"Bond lengths\", \"method\": \"relayout\"}, {\"args\": [{\"scene.annotations\": [{\"showarrow\": false, \"text\": 0, \"x\": 0.0498059918, \"y\": 1.5010361280000002, \"yshift\": 15, \"z\": 0.0900584891}, {\"showarrow\": false, \"text\": 1, \"x\": -0.0018058929999999998, \"y\": -0.0211699788, \"yshift\": 15, \"z\": -0.0737935083}, {\"showarrow\": false, \"text\": 2, \"x\": -1.411622902, \"y\": -0.632167091, \"yshift\": 15, \"z\": 0.053432155599999996}, {\"showarrow\": false, \"text\": 3, \"x\": -2.284227356, \"y\": -0.3374314131, \"yshift\": 15, \"z\": -1.183071157}, {\"showarrow\": false, \"text\": 4, \"x\": -3.789481583, \"y\": -0.5445633258, \"yshift\": 15, \"z\": -0.9785914148999999}, {\"showarrow\": false, \"text\": 5, \"x\": -1.316984441, \"y\": -2.145072162, \"yshift\": 15, \"z\": 0.3102327413}, {\"showarrow\": false, \"text\": 6, \"x\": -0.6679238481, \"y\": -2.437130958, \"yshift\": 15, \"z\": 1.585972881}, {\"showarrow\": false, \"text\": 7, \"x\": -1.5454551769999998, \"y\": -2.558387435, \"yshift\": 15, \"z\": 2.745164059}, {\"showarrow\": false, \"text\": 8, \"x\": -0.904647633, \"y\": -3.7611785110000002, \"yshift\": 15, \"z\": 2.1450328169999997}, {\"showarrow\": false, \"text\": 9, \"x\": 1.076909018, \"y\": 1.869071049, \"yshift\": 15, \"z\": 0.0003198909}, {\"showarrow\": false, \"text\": 10, \"x\": -0.5492031796, \"y\": 2.023540406, \"yshift\": 15, \"z\": -0.6631744626}, {\"showarrow\": false, \"text\": 11, \"x\": -0.323863397, \"y\": 1.8022819019999998, \"yshift\": 15, \"z\": 1.075348887}, {\"showarrow\": false, \"text\": 12, \"x\": 0.4187542076, \"y\": -0.3025567543, \"yshift\": 15, \"z\": -1.0498547809999998}, {\"showarrow\": false, \"text\": 13, \"x\": 0.6376832159, \"y\": -0.4853792732, \"yshift\": 15, \"z\": 0.6833736234000001}, {\"showarrow\": false, \"text\": 14, \"x\": -1.898636957, \"y\": -0.1798546277, \"yshift\": 15, \"z\": 0.9310155261}, {\"showarrow\": false, \"text\": 15, \"x\": -2.118744093, \"y\": 0.6997163514, \"yshift\": 15, \"z\": -1.495070631}, {\"showarrow\": false, \"text\": 16, \"x\": -1.935340555, \"y\": -0.9591986194, \"yshift\": 15, \"z\": -2.0196760080000002}, {\"showarrow\": false, \"text\": 17, \"x\": -4.346093603, \"y\": -0.2913015763, \"yshift\": 15, \"z\": -1.8865762730000002}, {\"showarrow\": false, \"text\": 18, \"x\": -4.036662365, \"y\": -1.580140097, \"yshift\": 15, \"z\": -0.7242984463}, {\"showarrow\": false, \"text\": 19, \"x\": -4.166804122, \"y\": 0.0924640601, \"yshift\": 15, \"z\": -0.1706417218}, {\"showarrow\": false, \"text\": 20, \"x\": -2.3194477190000002, \"y\": -2.605606008, \"yshift\": 15, \"z\": 0.2598962321}, {\"showarrow\": false, \"text\": 21, \"x\": -0.7142465570000001, \"y\": -2.6086518819999998, \"yshift\": 15, \"z\": -0.48255150210000003}, {\"showarrow\": false, \"text\": 22, \"x\": -1.171500378, \"y\": -2.136049543, \"yshift\": 15, \"z\": 3.673536926}, {\"showarrow\": false, \"text\": 23, \"x\": -2.616807236, \"y\": -2.4378117169999998, \"yshift\": 15, \"z\": 2.588334267}, {\"showarrow\": false, \"text\": 24, \"x\": -1.550538481, \"y\": -4.441073187, \"yshift\": 15, \"z\": 1.5907957169999998}, {\"showarrow\": false, \"text\": 25, \"x\": -0.0527252361, \"y\": -4.234299346, \"yshift\": 15, \"z\": 2.6255037740000002}, {\"showarrow\": false, \"text\": 1.53, \"x\": 0.0240000494, \"y\": 0.7399330746, \"yshift\": 15, \"z\": 0.0081324904}, {\"showarrow\": false, \"text\": 1.54, \"x\": -0.7067143975, \"y\": -0.3266685349, \"yshift\": 15, \"z\": -0.01018067635}, {\"showarrow\": false, \"text\": 1.54, \"x\": -1.847925129, \"y\": -0.48479925205, \"yshift\": 15, \"z\": -0.5648195007}, {\"showarrow\": false, \"text\": 1.53, \"x\": -3.0368544695, \"y\": -0.44099736945, \"yshift\": 15, \"z\": -1.08083128595}, {\"showarrow\": false, \"text\": 1.46, \"x\": -0.99245414455, \"y\": -2.29110156, \"yshift\": 15, \"z\": 0.94810281115}, {\"showarrow\": false, \"text\": 1.46, \"x\": -1.10668951255, \"y\": -2.4977591965, \"yshift\": 15, \"z\": 2.16556847}, {\"showarrow\": false, \"text\": 1.49, \"x\": -1.225051405, \"y\": -3.159782973, \"yshift\": 15, \"z\": 2.445098438}, {\"showarrow\": false, \"text\": 1.46, \"x\": -0.78628574055, \"y\": -3.0991547345, \"yshift\": 15, \"z\": 1.865502849}, {\"showarrow\": false, \"text\": 1.54, \"x\": -1.3643036715, \"y\": -1.3886196265, \"yshift\": 15, \"z\": 0.18183244845}, {\"showarrow\": false, \"text\": 1.09, \"x\": 0.5633575049, \"y\": 1.6850535885, \"yshift\": 15, \"z\": 0.04518919}, {\"showarrow\": false, \"text\": 1.09, \"x\": -0.47868643455, \"y\": -3.9977389285, \"yshift\": 15, \"z\": 2.3852682955}, {\"showarrow\": false, \"text\": 1.1, \"x\": -0.2496985939, \"y\": 1.762288267, \"yshift\": 15, \"z\": -0.28655798675}, {\"showarrow\": false, \"text\": 1.1, \"x\": -1.015615499, \"y\": -2.376862022, \"yshift\": 15, \"z\": -0.0861593804}, {\"showarrow\": false, \"text\": 1.09, \"x\": -2.0811312065, \"y\": -2.498099576, \"yshift\": 15, \"z\": 2.666749163}, {\"showarrow\": false, \"text\": 1.09, \"x\": -1.227593057, \"y\": -4.101125849, \"yshift\": 15, \"z\": 1.867914267}, {\"showarrow\": false, \"text\": 1.1, \"x\": -0.1370287026, \"y\": 1.651659015, \"yshift\": 15, \"z\": 0.58270368805}, {\"showarrow\": false, \"text\": 1.1, \"x\": 0.2084741573, \"y\": -0.16186336655, \"yshift\": 15, \"z\": -0.56182414465}, {\"showarrow\": false, \"text\": 1.1, \"x\": -3.9781428525, \"y\": -0.22604963285, \"yshift\": 15, \"z\": -0.57461656835}, {\"showarrow\": false, \"text\": 1.1, \"x\": -1.81821608, \"y\": -2.375339085, \"yshift\": 15, \"z\": 0.2850644867}, {\"showarrow\": false, \"text\": 1.09, \"x\": -1.3584777775, \"y\": -2.347218489, \"yshift\": 15, \"z\": 3.2093504925}, {\"showarrow\": false, \"text\": 1.09, \"x\": 0.31793866145, \"y\": -0.253274626, \"yshift\": 15, \"z\": 0.30479005755}, {\"showarrow\": false, \"text\": 1.1, \"x\": -1.6551299295, \"y\": -0.40601085935, \"yshift\": 15, \"z\": 0.49222384085}, {\"showarrow\": false, \"text\": 1.1, \"x\": -2.2014857245, \"y\": 0.18114246915, \"yshift\": 15, \"z\": -1.339070894}, {\"showarrow\": false, \"text\": 1.09, \"x\": -3.913071974, \"y\": -1.0623517114, \"yshift\": 15, \"z\": -0.8514449306}, {\"showarrow\": false, \"text\": 1.1, \"x\": -2.1097839555, \"y\": -0.64831501625, \"yshift\": 15, \"z\": -1.6013735825}, {\"showarrow\": false, \"text\": 1.09, \"x\": -4.067787593, \"y\": -0.41793245105, \"yshift\": 15, \"z\": -1.43258384395}]}], \"label\": \"Atom indices & Bond lengths\", \"method\": \"relayout\"}, {\"args\": [{\"scene.annotations\": []}], \"label\": \"Hide all\", \"method\": \"relayout\"}], \"direction\": \"down\", \"xanchor\": \"left\", \"yanchor\": \"top\"}]},\n",
       "                        {\"showLink\": false, \"linkText\": \"Export to plot.ly\", \"plotlyServerURL\": \"https://plot.ly\", \"responsive\": true}\n",
       "                    ).then(function(){\n",
       "                            \n",
       "var gd = document.getElementById('29f8aba5-a872-45d9-a996-7af8e414c77d');\n",
       "var x = new MutationObserver(function (mutations, observer) {{\n",
       "        var display = window.getComputedStyle(gd).display;\n",
       "        if (!display || display === 'none') {{\n",
       "            console.log([gd, 'removed!']);\n",
       "            Plotly.purge(gd);\n",
       "            observer.disconnect();\n",
       "        }}\n",
       "}});\n",
       "\n",
       "// Listen for the removal of the full notebook cells\n",
       "var notebookContainer = gd.closest('#notebook-container');\n",
       "if (notebookContainer) {{\n",
       "    x.observe(notebookContainer, {childList: true});\n",
       "}}\n",
       "\n",
       "// Listen for the clearing of the current output cell\n",
       "var outputEl = gd.closest('.output');\n",
       "if (outputEl) {{\n",
       "    x.observe(outputEl, {childList: true});\n",
       "}}\n",
       "\n",
       "                        })\n",
       "                };\n",
       "                });\n",
       "            </script>\n",
       "        </div>"
      ]
     },
     "metadata": {},
     "output_type": "display_data"
    }
   ],
   "source": [
    "plot_molecule('dsgdb9nsd_102650', structures)"
   ]
  },
  {
   "cell_type": "code",
   "execution_count": 8,
   "metadata": {},
   "outputs": [
    {
     "data": {
      "application/vnd.plotly.v1+json": {
       "config": {
        "linkText": "Export to plot.ly",
        "plotlyServerURL": "https://plot.ly",
        "showLink": false
       },
       "data": [
        {
         "marker": {
          "color": [
           "black",
           "black",
           "black",
           "black",
           "black",
           "black",
           "black",
           "black",
           "red",
           "white",
           "white",
           "white",
           "white",
           "white",
           "white",
           "white",
           "white",
           "white",
           "white",
           "white",
           "white",
           "white",
           "white",
           "white",
           "white"
          ],
          "line": {
           "color": "lightgray",
           "width": 2
          },
          "opacity": 0.8,
          "size": 7,
          "symbol": "circle"
         },
         "mode": "markers",
         "name": "",
         "text": [
          "C",
          "C",
          "C",
          "C",
          "C",
          "C",
          "C",
          "C",
          "O",
          "H",
          "H",
          "H",
          "H",
          "H",
          "H",
          "H",
          "H",
          "H",
          "H",
          "H",
          "H",
          "H",
          "H",
          "H",
          "H"
         ],
         "type": "scatter3d",
         "uid": "d147f9a8-f373-45c4-b7b1-b3e9f4e175f7",
         "x": [
          0.27433847629999997,
          0.026445562599999996,
          0.6642671086,
          2.193505558,
          0.2496226681,
          -1.2724939309999999,
          0.8897758866,
          2.061616823,
          0.7518083537000001,
          1.3290729209999999,
          -0.0485886912,
          -0.2878841207,
          0.3944370488,
          -1.055069067,
          0.2760849321,
          2.634105521,
          2.651748692,
          2.4841318830000003,
          0.6185530414,
          -1.48765523,
          -1.781510427,
          -1.70669839,
          0.7135396263,
          2.729709389,
          2.519892184
         ],
         "y": [
          1.532928591,
          0.0379427896,
          -0.5333876732,
          -0.37423681799999997,
          -2.009825863,
          -2.212527488,
          -2.56274473,
          -3.446779303,
          -3.970788625,
          1.757871491,
          2.126374061,
          1.88500434,
          -0.5332002858,
          -0.1247267617,
          0.0524425013,
          -0.9415576146,
          -0.7306224164,
          0.6720191741,
          -2.61289829,
          -3.2452358739999996,
          -2.0157981819999997,
          -1.552141449,
          -1.968007276,
          -3.476453072,
          -3.7198552260000004
         ],
         "z": [
          0.22787855070000002,
          -0.005322885899999999,
          -1.288195521,
          -1.267960026,
          -1.527090923,
          -1.631378409,
          -2.7886412010000003,
          -2.78456479,
          -3.004291776,
          0.4099607296,
          -0.6353252185,
          1.098537208,
          0.8588728436,
          -0.0386167547,
          -2.136947593,
          -0.43878177119999995,
          -2.193794834,
          -1.14380545,
          -0.6849222290000001,
          -1.9181636069999999,
          -0.6853058395,
          -2.3917953990000003,
          -3.689374438,
          -3.64487026,
          -1.8346477559999999
         ]
        },
        {
         "hoverinfo": "none",
         "marker": {
          "color": "grey",
          "opacity": 1,
          "size": 7
         },
         "mode": "lines",
         "type": "scatter3d",
         "uid": "5baeec7f-e796-440d-afad-95c7b273c3f0",
         "x": [
          0.27433847629999997,
          0.026445562599999996,
          null,
          0.026445562599999996,
          0.6642671086,
          null,
          0.6642671086,
          2.193505558,
          null,
          0.2496226681,
          -1.2724939309999999,
          null,
          0.8897758866,
          2.061616823,
          null,
          0.7518083537000001,
          2.061616823,
          null,
          0.6642671086,
          0.2496226681,
          null,
          0.2496226681,
          0.8897758866,
          null,
          0.7518083537000001,
          0.8897758866,
          null,
          2.519892184,
          2.061616823,
          null,
          0.27433847629999997,
          1.3290729209999999,
          null,
          -1.2724939309999999,
          -1.70669839,
          null,
          0.7135396263,
          0.8897758866,
          null,
          2.061616823,
          2.729709389,
          null,
          0.27433847629999997,
          -0.0485886912,
          null,
          -1.781510427,
          -1.2724939309999999,
          null,
          0.27433847629999997,
          -0.2878841207,
          null,
          0.026445562599999996,
          0.3944370488,
          null,
          2.4841318830000003,
          2.193505558,
          null,
          0.6185530414,
          0.2496226681,
          null,
          -1.48765523,
          -1.2724939309999999,
          null,
          0.026445562599999996,
          -1.055069067,
          null,
          0.6642671086,
          0.2760849321,
          null,
          2.193505558,
          2.634105521,
          null,
          2.651748692,
          2.193505558,
          null
         ],
         "y": [
          1.532928591,
          0.0379427896,
          null,
          0.0379427896,
          -0.5333876732,
          null,
          -0.5333876732,
          -0.37423681799999997,
          null,
          -2.009825863,
          -2.212527488,
          null,
          -2.56274473,
          -3.446779303,
          null,
          -3.970788625,
          -3.446779303,
          null,
          -0.5333876732,
          -2.009825863,
          null,
          -2.009825863,
          -2.56274473,
          null,
          -3.970788625,
          -2.56274473,
          null,
          -3.7198552260000004,
          -3.446779303,
          null,
          1.532928591,
          1.757871491,
          null,
          -2.212527488,
          -1.552141449,
          null,
          -1.968007276,
          -2.56274473,
          null,
          -3.446779303,
          -3.476453072,
          null,
          1.532928591,
          2.126374061,
          null,
          -2.0157981819999997,
          -2.212527488,
          null,
          1.532928591,
          1.88500434,
          null,
          0.0379427896,
          -0.5332002858,
          null,
          0.6720191741,
          -0.37423681799999997,
          null,
          -2.61289829,
          -2.009825863,
          null,
          -3.2452358739999996,
          -2.212527488,
          null,
          0.0379427896,
          -0.1247267617,
          null,
          -0.5333876732,
          0.0524425013,
          null,
          -0.37423681799999997,
          -0.9415576146,
          null,
          -0.7306224164,
          -0.37423681799999997,
          null
         ],
         "z": [
          0.22787855070000002,
          -0.005322885899999999,
          null,
          -0.005322885899999999,
          -1.288195521,
          null,
          -1.288195521,
          -1.267960026,
          null,
          -1.527090923,
          -1.631378409,
          null,
          -2.7886412010000003,
          -2.78456479,
          null,
          -3.004291776,
          -2.78456479,
          null,
          -1.288195521,
          -1.527090923,
          null,
          -1.527090923,
          -2.7886412010000003,
          null,
          -3.004291776,
          -2.7886412010000003,
          null,
          -1.8346477559999999,
          -2.78456479,
          null,
          0.22787855070000002,
          0.4099607296,
          null,
          -1.631378409,
          -2.3917953990000003,
          null,
          -3.689374438,
          -2.7886412010000003,
          null,
          -2.78456479,
          -3.64487026,
          null,
          0.22787855070000002,
          -0.6353252185,
          null,
          -0.6853058395,
          -1.631378409,
          null,
          0.22787855070000002,
          1.098537208,
          null,
          -0.005322885899999999,
          0.8588728436,
          null,
          -1.14380545,
          -1.267960026,
          null,
          -0.6849222290000001,
          -1.527090923,
          null,
          -1.9181636069999999,
          -1.631378409,
          null,
          -0.005322885899999999,
          -0.0386167547,
          null,
          -1.288195521,
          -2.136947593,
          null,
          -1.267960026,
          -0.43878177119999995,
          null,
          -2.193794834,
          -1.267960026,
          null
         ]
        }
       ],
       "layout": {
        "margin": {
         "b": 0,
         "l": 0,
         "r": 0,
         "t": 0
        },
        "scene": {
         "annotations": [
          {
           "showarrow": false,
           "text": "0",
           "x": 0.27433847629999997,
           "y": 1.532928591,
           "yshift": 15,
           "z": 0.22787855070000002
          },
          {
           "showarrow": false,
           "text": "1",
           "x": 0.026445562599999996,
           "y": 0.0379427896,
           "yshift": 15,
           "z": -0.005322885899999999
          },
          {
           "showarrow": false,
           "text": "2",
           "x": 0.6642671086,
           "y": -0.5333876732,
           "yshift": 15,
           "z": -1.288195521
          },
          {
           "showarrow": false,
           "text": "3",
           "x": 2.193505558,
           "y": -0.37423681799999997,
           "yshift": 15,
           "z": -1.267960026
          },
          {
           "showarrow": false,
           "text": "4",
           "x": 0.2496226681,
           "y": -2.009825863,
           "yshift": 15,
           "z": -1.527090923
          },
          {
           "showarrow": false,
           "text": "5",
           "x": -1.2724939309999999,
           "y": -2.212527488,
           "yshift": 15,
           "z": -1.631378409
          },
          {
           "showarrow": false,
           "text": "6",
           "x": 0.8897758866,
           "y": -2.56274473,
           "yshift": 15,
           "z": -2.7886412010000003
          },
          {
           "showarrow": false,
           "text": "7",
           "x": 2.061616823,
           "y": -3.446779303,
           "yshift": 15,
           "z": -2.78456479
          },
          {
           "showarrow": false,
           "text": "8",
           "x": 0.7518083537000001,
           "y": -3.970788625,
           "yshift": 15,
           "z": -3.004291776
          },
          {
           "showarrow": false,
           "text": "9",
           "x": 1.3290729209999999,
           "y": 1.757871491,
           "yshift": 15,
           "z": 0.4099607296
          },
          {
           "showarrow": false,
           "text": "10",
           "x": -0.0485886912,
           "y": 2.126374061,
           "yshift": 15,
           "z": -0.6353252185
          },
          {
           "showarrow": false,
           "text": "11",
           "x": -0.2878841207,
           "y": 1.88500434,
           "yshift": 15,
           "z": 1.098537208
          },
          {
           "showarrow": false,
           "text": "12",
           "x": 0.3944370488,
           "y": -0.5332002858,
           "yshift": 15,
           "z": 0.8588728436
          },
          {
           "showarrow": false,
           "text": "13",
           "x": -1.055069067,
           "y": -0.1247267617,
           "yshift": 15,
           "z": -0.0386167547
          },
          {
           "showarrow": false,
           "text": "14",
           "x": 0.2760849321,
           "y": 0.0524425013,
           "yshift": 15,
           "z": -2.136947593
          },
          {
           "showarrow": false,
           "text": "15",
           "x": 2.634105521,
           "y": -0.9415576146,
           "yshift": 15,
           "z": -0.43878177119999995
          },
          {
           "showarrow": false,
           "text": "16",
           "x": 2.651748692,
           "y": -0.7306224164,
           "yshift": 15,
           "z": -2.193794834
          },
          {
           "showarrow": false,
           "text": "17",
           "x": 2.4841318830000003,
           "y": 0.6720191741,
           "yshift": 15,
           "z": -1.14380545
          },
          {
           "showarrow": false,
           "text": "18",
           "x": 0.6185530414,
           "y": -2.61289829,
           "yshift": 15,
           "z": -0.6849222290000001
          },
          {
           "showarrow": false,
           "text": "19",
           "x": -1.48765523,
           "y": -3.2452358739999996,
           "yshift": 15,
           "z": -1.9181636069999999
          },
          {
           "showarrow": false,
           "text": "20",
           "x": -1.781510427,
           "y": -2.0157981819999997,
           "yshift": 15,
           "z": -0.6853058395
          },
          {
           "showarrow": false,
           "text": "21",
           "x": -1.70669839,
           "y": -1.552141449,
           "yshift": 15,
           "z": -2.3917953990000003
          },
          {
           "showarrow": false,
           "text": "22",
           "x": 0.7135396263,
           "y": -1.968007276,
           "yshift": 15,
           "z": -3.689374438
          },
          {
           "showarrow": false,
           "text": "23",
           "x": 2.729709389,
           "y": -3.476453072,
           "yshift": 15,
           "z": -3.64487026
          },
          {
           "showarrow": false,
           "text": "24",
           "x": 2.519892184,
           "y": -3.7198552260000004,
           "yshift": 15,
           "z": -1.8346477559999999
          }
         ],
         "aspectmode": "auto",
         "aspectratio": {
          "x": 0.8866890718441965,
          "y": 1.1984092426083652,
          "z": 0.941073391814468
         },
         "xaxis": {
          "showgrid": false,
          "showticklabels": false,
          "title": {
           "font": {
            "color": "white"
           }
          },
          "type": "linear",
          "zeroline": false
         },
         "yaxis": {
          "showgrid": false,
          "showticklabels": false,
          "title": {
           "font": {
            "color": "white"
           }
          },
          "type": "linear",
          "zeroline": false
         },
         "zaxis": {
          "showgrid": false,
          "showticklabels": false,
          "title": {
           "font": {
            "color": "white"
           }
          },
          "type": "linear",
          "zeroline": false
         }
        },
        "showlegend": false,
        "updatemenus": [
         {
          "buttons": [
           {
            "args": [
             {
              "scene.annotations": [
               {
                "showarrow": false,
                "text": 0,
                "x": 0.27433847629999997,
                "y": 1.532928591,
                "yshift": 15,
                "z": 0.22787855070000002
               },
               {
                "showarrow": false,
                "text": 1,
                "x": 0.026445562599999996,
                "y": 0.0379427896,
                "yshift": 15,
                "z": -0.005322885899999999
               },
               {
                "showarrow": false,
                "text": 2,
                "x": 0.6642671086,
                "y": -0.5333876732,
                "yshift": 15,
                "z": -1.288195521
               },
               {
                "showarrow": false,
                "text": 3,
                "x": 2.193505558,
                "y": -0.37423681799999997,
                "yshift": 15,
                "z": -1.267960026
               },
               {
                "showarrow": false,
                "text": 4,
                "x": 0.2496226681,
                "y": -2.009825863,
                "yshift": 15,
                "z": -1.527090923
               },
               {
                "showarrow": false,
                "text": 5,
                "x": -1.2724939309999999,
                "y": -2.212527488,
                "yshift": 15,
                "z": -1.631378409
               },
               {
                "showarrow": false,
                "text": 6,
                "x": 0.8897758866,
                "y": -2.56274473,
                "yshift": 15,
                "z": -2.7886412010000003
               },
               {
                "showarrow": false,
                "text": 7,
                "x": 2.061616823,
                "y": -3.446779303,
                "yshift": 15,
                "z": -2.78456479
               },
               {
                "showarrow": false,
                "text": 8,
                "x": 0.7518083537000001,
                "y": -3.970788625,
                "yshift": 15,
                "z": -3.004291776
               },
               {
                "showarrow": false,
                "text": 9,
                "x": 1.3290729209999999,
                "y": 1.757871491,
                "yshift": 15,
                "z": 0.4099607296
               },
               {
                "showarrow": false,
                "text": 10,
                "x": -0.0485886912,
                "y": 2.126374061,
                "yshift": 15,
                "z": -0.6353252185
               },
               {
                "showarrow": false,
                "text": 11,
                "x": -0.2878841207,
                "y": 1.88500434,
                "yshift": 15,
                "z": 1.098537208
               },
               {
                "showarrow": false,
                "text": 12,
                "x": 0.3944370488,
                "y": -0.5332002858,
                "yshift": 15,
                "z": 0.8588728436
               },
               {
                "showarrow": false,
                "text": 13,
                "x": -1.055069067,
                "y": -0.1247267617,
                "yshift": 15,
                "z": -0.0386167547
               },
               {
                "showarrow": false,
                "text": 14,
                "x": 0.2760849321,
                "y": 0.0524425013,
                "yshift": 15,
                "z": -2.136947593
               },
               {
                "showarrow": false,
                "text": 15,
                "x": 2.634105521,
                "y": -0.9415576146,
                "yshift": 15,
                "z": -0.43878177119999995
               },
               {
                "showarrow": false,
                "text": 16,
                "x": 2.651748692,
                "y": -0.7306224164,
                "yshift": 15,
                "z": -2.193794834
               },
               {
                "showarrow": false,
                "text": 17,
                "x": 2.4841318830000003,
                "y": 0.6720191741,
                "yshift": 15,
                "z": -1.14380545
               },
               {
                "showarrow": false,
                "text": 18,
                "x": 0.6185530414,
                "y": -2.61289829,
                "yshift": 15,
                "z": -0.6849222290000001
               },
               {
                "showarrow": false,
                "text": 19,
                "x": -1.48765523,
                "y": -3.2452358739999996,
                "yshift": 15,
                "z": -1.9181636069999999
               },
               {
                "showarrow": false,
                "text": 20,
                "x": -1.781510427,
                "y": -2.0157981819999997,
                "yshift": 15,
                "z": -0.6853058395
               },
               {
                "showarrow": false,
                "text": 21,
                "x": -1.70669839,
                "y": -1.552141449,
                "yshift": 15,
                "z": -2.3917953990000003
               },
               {
                "showarrow": false,
                "text": 22,
                "x": 0.7135396263,
                "y": -1.968007276,
                "yshift": 15,
                "z": -3.689374438
               },
               {
                "showarrow": false,
                "text": 23,
                "x": 2.729709389,
                "y": -3.476453072,
                "yshift": 15,
                "z": -3.64487026
               },
               {
                "showarrow": false,
                "text": 24,
                "x": 2.519892184,
                "y": -3.7198552260000004,
                "yshift": 15,
                "z": -1.8346477559999999
               }
              ]
             }
            ],
            "label": "Atom indices",
            "method": "relayout"
           },
           {
            "args": [
             {
              "scene.annotations": [
               {
                "showarrow": false,
                "text": 1.53,
                "x": 0.15039201945,
                "y": 0.7854356903,
                "yshift": 15,
                "z": 0.1112778324
               },
               {
                "showarrow": false,
                "text": 1.54,
                "x": 0.3453563356,
                "y": -0.2477224418,
                "yshift": 15,
                "z": -0.64675920345
               },
               {
                "showarrow": false,
                "text": 1.54,
                "x": 1.4288863333,
                "y": -0.4538122456,
                "yshift": 15,
                "z": -1.2780777735
               },
               {
                "showarrow": false,
                "text": 1.54,
                "x": -0.51143563145,
                "y": -2.1111766755,
                "yshift": 15,
                "z": -1.579234666
               },
               {
                "showarrow": false,
                "text": 1.47,
                "x": 1.4756963548,
                "y": -3.0047620165,
                "yshift": 15,
                "z": -2.7866029955
               },
               {
                "showarrow": false,
                "text": 1.43,
                "x": 1.40671258835,
                "y": -3.708783964,
                "yshift": 15,
                "z": -2.894428283
               },
               {
                "showarrow": false,
                "text": 1.55,
                "x": 0.45694488835,
                "y": -1.2716067681,
                "yshift": 15,
                "z": -1.407643222
               },
               {
                "showarrow": false,
                "text": 1.52,
                "x": 0.56969927735,
                "y": -2.2862852965,
                "yshift": 15,
                "z": -2.157866062
               },
               {
                "showarrow": false,
                "text": 1.43,
                "x": 0.82079212015,
                "y": -3.2667666775,
                "yshift": 15,
                "z": -2.8964664885
               },
               {
                "showarrow": false,
                "text": 1.09,
                "x": 2.2907545035,
                "y": -3.5833172645,
                "yshift": 15,
                "z": -2.309606273
               },
               {
                "showarrow": false,
                "text": 1.09,
                "x": 0.80170569865,
                "y": 1.645400041,
                "yshift": 15,
                "z": 0.31891964015
               },
               {
                "showarrow": false,
                "text": 1.1,
                "x": -1.4895961605,
                "y": -1.8823344685,
                "yshift": 15,
                "z": -2.011586904
               },
               {
                "showarrow": false,
                "text": 1.09,
                "x": 0.80165775645,
                "y": -2.265376003,
                "yshift": 15,
                "z": -3.2390078195
               },
               {
                "showarrow": false,
                "text": 1.09,
                "x": 2.395663106,
                "y": -3.4616161875,
                "yshift": 15,
                "z": -3.214717525
               },
               {
                "showarrow": false,
                "text": 1.1,
                "x": 0.11287489255,
                "y": 1.829651326,
                "yshift": 15,
                "z": -0.2037233339
               },
               {
                "showarrow": false,
                "text": 1.09,
                "x": -1.527002179,
                "y": -2.114162835,
                "yshift": 15,
                "z": -1.15834212425
               },
               {
                "showarrow": false,
                "text": 1.09,
                "x": -0.0067728222,
                "y": 1.7089664655,
                "yshift": 15,
                "z": 0.66320787935
               },
               {
                "showarrow": false,
                "text": 1.1,
                "x": 0.2104413057,
                "y": -0.2476287481,
                "yshift": 15,
                "z": 0.42677497885
               },
               {
                "showarrow": false,
                "text": 1.09,
                "x": 2.3388187205,
                "y": 0.14889117805,
                "yshift": 15,
                "z": -1.205882738
               },
               {
                "showarrow": false,
                "text": 1.1,
                "x": 0.43408785475,
                "y": -2.3113620765,
                "yshift": 15,
                "z": -1.106006576
               },
               {
                "showarrow": false,
                "text": 1.09,
                "x": -1.3800745805,
                "y": -2.728881681,
                "yshift": 15,
                "z": -1.774771008
               },
               {
                "showarrow": false,
                "text": 1.09,
                "x": -0.5143117522,
                "y": -0.04339198605,
                "yshift": 15,
                "z": -0.0219698203
               },
               {
                "showarrow": false,
                "text": 1.1,
                "x": 0.47017602035,
                "y": -0.24047258595,
                "yshift": 15,
                "z": -1.712571557
               },
               {
                "showarrow": false,
                "text": 1.1,
                "x": 2.4138055395,
                "y": -0.6578972163,
                "yshift": 15,
                "z": -0.8533708986
               },
               {
                "showarrow": false,
                "text": 1.09,
                "x": 2.422627125,
                "y": -0.5524296172,
                "yshift": 15,
                "z": -1.73087743
               }
              ]
             }
            ],
            "label": "Bond lengths",
            "method": "relayout"
           },
           {
            "args": [
             {
              "scene.annotations": [
               {
                "showarrow": false,
                "text": 0,
                "x": 0.27433847629999997,
                "y": 1.532928591,
                "yshift": 15,
                "z": 0.22787855070000002
               },
               {
                "showarrow": false,
                "text": 1,
                "x": 0.026445562599999996,
                "y": 0.0379427896,
                "yshift": 15,
                "z": -0.005322885899999999
               },
               {
                "showarrow": false,
                "text": 2,
                "x": 0.6642671086,
                "y": -0.5333876732,
                "yshift": 15,
                "z": -1.288195521
               },
               {
                "showarrow": false,
                "text": 3,
                "x": 2.193505558,
                "y": -0.37423681799999997,
                "yshift": 15,
                "z": -1.267960026
               },
               {
                "showarrow": false,
                "text": 4,
                "x": 0.2496226681,
                "y": -2.009825863,
                "yshift": 15,
                "z": -1.527090923
               },
               {
                "showarrow": false,
                "text": 5,
                "x": -1.2724939309999999,
                "y": -2.212527488,
                "yshift": 15,
                "z": -1.631378409
               },
               {
                "showarrow": false,
                "text": 6,
                "x": 0.8897758866,
                "y": -2.56274473,
                "yshift": 15,
                "z": -2.7886412010000003
               },
               {
                "showarrow": false,
                "text": 7,
                "x": 2.061616823,
                "y": -3.446779303,
                "yshift": 15,
                "z": -2.78456479
               },
               {
                "showarrow": false,
                "text": 8,
                "x": 0.7518083537000001,
                "y": -3.970788625,
                "yshift": 15,
                "z": -3.004291776
               },
               {
                "showarrow": false,
                "text": 9,
                "x": 1.3290729209999999,
                "y": 1.757871491,
                "yshift": 15,
                "z": 0.4099607296
               },
               {
                "showarrow": false,
                "text": 10,
                "x": -0.0485886912,
                "y": 2.126374061,
                "yshift": 15,
                "z": -0.6353252185
               },
               {
                "showarrow": false,
                "text": 11,
                "x": -0.2878841207,
                "y": 1.88500434,
                "yshift": 15,
                "z": 1.098537208
               },
               {
                "showarrow": false,
                "text": 12,
                "x": 0.3944370488,
                "y": -0.5332002858,
                "yshift": 15,
                "z": 0.8588728436
               },
               {
                "showarrow": false,
                "text": 13,
                "x": -1.055069067,
                "y": -0.1247267617,
                "yshift": 15,
                "z": -0.0386167547
               },
               {
                "showarrow": false,
                "text": 14,
                "x": 0.2760849321,
                "y": 0.0524425013,
                "yshift": 15,
                "z": -2.136947593
               },
               {
                "showarrow": false,
                "text": 15,
                "x": 2.634105521,
                "y": -0.9415576146,
                "yshift": 15,
                "z": -0.43878177119999995
               },
               {
                "showarrow": false,
                "text": 16,
                "x": 2.651748692,
                "y": -0.7306224164,
                "yshift": 15,
                "z": -2.193794834
               },
               {
                "showarrow": false,
                "text": 17,
                "x": 2.4841318830000003,
                "y": 0.6720191741,
                "yshift": 15,
                "z": -1.14380545
               },
               {
                "showarrow": false,
                "text": 18,
                "x": 0.6185530414,
                "y": -2.61289829,
                "yshift": 15,
                "z": -0.6849222290000001
               },
               {
                "showarrow": false,
                "text": 19,
                "x": -1.48765523,
                "y": -3.2452358739999996,
                "yshift": 15,
                "z": -1.9181636069999999
               },
               {
                "showarrow": false,
                "text": 20,
                "x": -1.781510427,
                "y": -2.0157981819999997,
                "yshift": 15,
                "z": -0.6853058395
               },
               {
                "showarrow": false,
                "text": 21,
                "x": -1.70669839,
                "y": -1.552141449,
                "yshift": 15,
                "z": -2.3917953990000003
               },
               {
                "showarrow": false,
                "text": 22,
                "x": 0.7135396263,
                "y": -1.968007276,
                "yshift": 15,
                "z": -3.689374438
               },
               {
                "showarrow": false,
                "text": 23,
                "x": 2.729709389,
                "y": -3.476453072,
                "yshift": 15,
                "z": -3.64487026
               },
               {
                "showarrow": false,
                "text": 24,
                "x": 2.519892184,
                "y": -3.7198552260000004,
                "yshift": 15,
                "z": -1.8346477559999999
               },
               {
                "showarrow": false,
                "text": 1.53,
                "x": 0.15039201945,
                "y": 0.7854356903,
                "yshift": 15,
                "z": 0.1112778324
               },
               {
                "showarrow": false,
                "text": 1.54,
                "x": 0.3453563356,
                "y": -0.2477224418,
                "yshift": 15,
                "z": -0.64675920345
               },
               {
                "showarrow": false,
                "text": 1.54,
                "x": 1.4288863333,
                "y": -0.4538122456,
                "yshift": 15,
                "z": -1.2780777735
               },
               {
                "showarrow": false,
                "text": 1.54,
                "x": -0.51143563145,
                "y": -2.1111766755,
                "yshift": 15,
                "z": -1.579234666
               },
               {
                "showarrow": false,
                "text": 1.47,
                "x": 1.4756963548,
                "y": -3.0047620165,
                "yshift": 15,
                "z": -2.7866029955
               },
               {
                "showarrow": false,
                "text": 1.43,
                "x": 1.40671258835,
                "y": -3.708783964,
                "yshift": 15,
                "z": -2.894428283
               },
               {
                "showarrow": false,
                "text": 1.55,
                "x": 0.45694488835,
                "y": -1.2716067681,
                "yshift": 15,
                "z": -1.407643222
               },
               {
                "showarrow": false,
                "text": 1.52,
                "x": 0.56969927735,
                "y": -2.2862852965,
                "yshift": 15,
                "z": -2.157866062
               },
               {
                "showarrow": false,
                "text": 1.43,
                "x": 0.82079212015,
                "y": -3.2667666775,
                "yshift": 15,
                "z": -2.8964664885
               },
               {
                "showarrow": false,
                "text": 1.09,
                "x": 2.2907545035,
                "y": -3.5833172645,
                "yshift": 15,
                "z": -2.309606273
               },
               {
                "showarrow": false,
                "text": 1.09,
                "x": 0.80170569865,
                "y": 1.645400041,
                "yshift": 15,
                "z": 0.31891964015
               },
               {
                "showarrow": false,
                "text": 1.1,
                "x": -1.4895961605,
                "y": -1.8823344685,
                "yshift": 15,
                "z": -2.011586904
               },
               {
                "showarrow": false,
                "text": 1.09,
                "x": 0.80165775645,
                "y": -2.265376003,
                "yshift": 15,
                "z": -3.2390078195
               },
               {
                "showarrow": false,
                "text": 1.09,
                "x": 2.395663106,
                "y": -3.4616161875,
                "yshift": 15,
                "z": -3.214717525
               },
               {
                "showarrow": false,
                "text": 1.1,
                "x": 0.11287489255,
                "y": 1.829651326,
                "yshift": 15,
                "z": -0.2037233339
               },
               {
                "showarrow": false,
                "text": 1.09,
                "x": -1.527002179,
                "y": -2.114162835,
                "yshift": 15,
                "z": -1.15834212425
               },
               {
                "showarrow": false,
                "text": 1.09,
                "x": -0.0067728222,
                "y": 1.7089664655,
                "yshift": 15,
                "z": 0.66320787935
               },
               {
                "showarrow": false,
                "text": 1.1,
                "x": 0.2104413057,
                "y": -0.2476287481,
                "yshift": 15,
                "z": 0.42677497885
               },
               {
                "showarrow": false,
                "text": 1.09,
                "x": 2.3388187205,
                "y": 0.14889117805,
                "yshift": 15,
                "z": -1.205882738
               },
               {
                "showarrow": false,
                "text": 1.1,
                "x": 0.43408785475,
                "y": -2.3113620765,
                "yshift": 15,
                "z": -1.106006576
               },
               {
                "showarrow": false,
                "text": 1.09,
                "x": -1.3800745805,
                "y": -2.728881681,
                "yshift": 15,
                "z": -1.774771008
               },
               {
                "showarrow": false,
                "text": 1.09,
                "x": -0.5143117522,
                "y": -0.04339198605,
                "yshift": 15,
                "z": -0.0219698203
               },
               {
                "showarrow": false,
                "text": 1.1,
                "x": 0.47017602035,
                "y": -0.24047258595,
                "yshift": 15,
                "z": -1.712571557
               },
               {
                "showarrow": false,
                "text": 1.1,
                "x": 2.4138055395,
                "y": -0.6578972163,
                "yshift": 15,
                "z": -0.8533708986
               },
               {
                "showarrow": false,
                "text": 1.09,
                "x": 2.422627125,
                "y": -0.5524296172,
                "yshift": 15,
                "z": -1.73087743
               }
              ]
             }
            ],
            "label": "Atom indices & Bond lengths",
            "method": "relayout"
           },
           {
            "args": [
             {
              "scene.annotations": []
             }
            ],
            "label": "Hide all",
            "method": "relayout"
           }
          ],
          "direction": "down",
          "xanchor": "left",
          "yanchor": "top"
         }
        ]
       }
      },
      "text/html": [
       "<div>\n",
       "        \n",
       "        \n",
       "            <div id=\"e561a3a5-7dc9-4ba7-843a-701774cce83b\" class=\"plotly-graph-div\" style=\"height:525px; width:100%;\"></div>\n",
       "            <script type=\"text/javascript\">\n",
       "                require([\"plotly\"], function(Plotly) {\n",
       "                    window.PLOTLYENV=window.PLOTLYENV || {};\n",
       "                    window.PLOTLYENV.BASE_URL='https://plot.ly';\n",
       "                    \n",
       "                if (document.getElementById(\"e561a3a5-7dc9-4ba7-843a-701774cce83b\")) {\n",
       "                    Plotly.newPlot(\n",
       "                        'e561a3a5-7dc9-4ba7-843a-701774cce83b',\n",
       "                        [{\"marker\": {\"color\": [\"black\", \"black\", \"black\", \"black\", \"black\", \"black\", \"black\", \"black\", \"red\", \"white\", \"white\", \"white\", \"white\", \"white\", \"white\", \"white\", \"white\", \"white\", \"white\", \"white\", \"white\", \"white\", \"white\", \"white\", \"white\"], \"line\": {\"color\": \"lightgray\", \"width\": 2}, \"opacity\": 0.8, \"size\": 7, \"symbol\": \"circle\"}, \"mode\": \"markers\", \"name\": \"\", \"text\": [\"C\", \"C\", \"C\", \"C\", \"C\", \"C\", \"C\", \"C\", \"O\", \"H\", \"H\", \"H\", \"H\", \"H\", \"H\", \"H\", \"H\", \"H\", \"H\", \"H\", \"H\", \"H\", \"H\", \"H\", \"H\"], \"type\": \"scatter3d\", \"uid\": \"d147f9a8-f373-45c4-b7b1-b3e9f4e175f7\", \"x\": [0.27433847629999997, 0.026445562599999996, 0.6642671086, 2.193505558, 0.2496226681, -1.2724939309999999, 0.8897758866, 2.061616823, 0.7518083537000001, 1.3290729209999999, -0.0485886912, -0.2878841207, 0.3944370488, -1.055069067, 0.2760849321, 2.634105521, 2.651748692, 2.4841318830000003, 0.6185530414, -1.48765523, -1.781510427, -1.70669839, 0.7135396263, 2.729709389, 2.519892184], \"y\": [1.532928591, 0.0379427896, -0.5333876732, -0.37423681799999997, -2.009825863, -2.212527488, -2.56274473, -3.446779303, -3.970788625, 1.757871491, 2.126374061, 1.88500434, -0.5332002858, -0.1247267617, 0.0524425013, -0.9415576146, -0.7306224164, 0.6720191741, -2.61289829, -3.2452358739999996, -2.0157981819999997, -1.552141449, -1.968007276, -3.476453072, -3.7198552260000004], \"z\": [0.22787855070000002, -0.005322885899999999, -1.288195521, -1.267960026, -1.527090923, -1.631378409, -2.7886412010000003, -2.78456479, -3.004291776, 0.4099607296, -0.6353252185, 1.098537208, 0.8588728436, -0.0386167547, -2.136947593, -0.43878177119999995, -2.193794834, -1.14380545, -0.6849222290000001, -1.9181636069999999, -0.6853058395, -2.3917953990000003, -3.689374438, -3.64487026, -1.8346477559999999]}, {\"hoverinfo\": \"none\", \"marker\": {\"color\": \"grey\", \"opacity\": 1, \"size\": 7}, \"mode\": \"lines\", \"type\": \"scatter3d\", \"uid\": \"5baeec7f-e796-440d-afad-95c7b273c3f0\", \"x\": [0.27433847629999997, 0.026445562599999996, null, 0.026445562599999996, 0.6642671086, null, 0.6642671086, 2.193505558, null, 0.2496226681, -1.2724939309999999, null, 0.8897758866, 2.061616823, null, 0.7518083537000001, 2.061616823, null, 0.6642671086, 0.2496226681, null, 0.2496226681, 0.8897758866, null, 0.7518083537000001, 0.8897758866, null, 2.519892184, 2.061616823, null, 0.27433847629999997, 1.3290729209999999, null, -1.2724939309999999, -1.70669839, null, 0.7135396263, 0.8897758866, null, 2.061616823, 2.729709389, null, 0.27433847629999997, -0.0485886912, null, -1.781510427, -1.2724939309999999, null, 0.27433847629999997, -0.2878841207, null, 0.026445562599999996, 0.3944370488, null, 2.4841318830000003, 2.193505558, null, 0.6185530414, 0.2496226681, null, -1.48765523, -1.2724939309999999, null, 0.026445562599999996, -1.055069067, null, 0.6642671086, 0.2760849321, null, 2.193505558, 2.634105521, null, 2.651748692, 2.193505558, null], \"y\": [1.532928591, 0.0379427896, null, 0.0379427896, -0.5333876732, null, -0.5333876732, -0.37423681799999997, null, -2.009825863, -2.212527488, null, -2.56274473, -3.446779303, null, -3.970788625, -3.446779303, null, -0.5333876732, -2.009825863, null, -2.009825863, -2.56274473, null, -3.970788625, -2.56274473, null, -3.7198552260000004, -3.446779303, null, 1.532928591, 1.757871491, null, -2.212527488, -1.552141449, null, -1.968007276, -2.56274473, null, -3.446779303, -3.476453072, null, 1.532928591, 2.126374061, null, -2.0157981819999997, -2.212527488, null, 1.532928591, 1.88500434, null, 0.0379427896, -0.5332002858, null, 0.6720191741, -0.37423681799999997, null, -2.61289829, -2.009825863, null, -3.2452358739999996, -2.212527488, null, 0.0379427896, -0.1247267617, null, -0.5333876732, 0.0524425013, null, -0.37423681799999997, -0.9415576146, null, -0.7306224164, -0.37423681799999997, null], \"z\": [0.22787855070000002, -0.005322885899999999, null, -0.005322885899999999, -1.288195521, null, -1.288195521, -1.267960026, null, -1.527090923, -1.631378409, null, -2.7886412010000003, -2.78456479, null, -3.004291776, -2.78456479, null, -1.288195521, -1.527090923, null, -1.527090923, -2.7886412010000003, null, -3.004291776, -2.7886412010000003, null, -1.8346477559999999, -2.78456479, null, 0.22787855070000002, 0.4099607296, null, -1.631378409, -2.3917953990000003, null, -3.689374438, -2.7886412010000003, null, -2.78456479, -3.64487026, null, 0.22787855070000002, -0.6353252185, null, -0.6853058395, -1.631378409, null, 0.22787855070000002, 1.098537208, null, -0.005322885899999999, 0.8588728436, null, -1.14380545, -1.267960026, null, -0.6849222290000001, -1.527090923, null, -1.9181636069999999, -1.631378409, null, -0.005322885899999999, -0.0386167547, null, -1.288195521, -2.136947593, null, -1.267960026, -0.43878177119999995, null, -2.193794834, -1.267960026, null]}],\n",
       "                        {\"margin\": {\"b\": 0, \"l\": 0, \"r\": 0, \"t\": 0}, \"scene\": {\"annotations\": [{\"showarrow\": false, \"text\": \"0\", \"x\": 0.27433847629999997, \"y\": 1.532928591, \"yshift\": 15, \"z\": 0.22787855070000002}, {\"showarrow\": false, \"text\": \"1\", \"x\": 0.026445562599999996, \"y\": 0.0379427896, \"yshift\": 15, \"z\": -0.005322885899999999}, {\"showarrow\": false, \"text\": \"2\", \"x\": 0.6642671086, \"y\": -0.5333876732, \"yshift\": 15, \"z\": -1.288195521}, {\"showarrow\": false, \"text\": \"3\", \"x\": 2.193505558, \"y\": -0.37423681799999997, \"yshift\": 15, \"z\": -1.267960026}, {\"showarrow\": false, \"text\": \"4\", \"x\": 0.2496226681, \"y\": -2.009825863, \"yshift\": 15, \"z\": -1.527090923}, {\"showarrow\": false, \"text\": \"5\", \"x\": -1.2724939309999999, \"y\": -2.212527488, \"yshift\": 15, \"z\": -1.631378409}, {\"showarrow\": false, \"text\": \"6\", \"x\": 0.8897758866, \"y\": -2.56274473, \"yshift\": 15, \"z\": -2.7886412010000003}, {\"showarrow\": false, \"text\": \"7\", \"x\": 2.061616823, \"y\": -3.446779303, \"yshift\": 15, \"z\": -2.78456479}, {\"showarrow\": false, \"text\": \"8\", \"x\": 0.7518083537000001, \"y\": -3.970788625, \"yshift\": 15, \"z\": -3.004291776}, {\"showarrow\": false, \"text\": \"9\", \"x\": 1.3290729209999999, \"y\": 1.757871491, \"yshift\": 15, \"z\": 0.4099607296}, {\"showarrow\": false, \"text\": \"10\", \"x\": -0.0485886912, \"y\": 2.126374061, \"yshift\": 15, \"z\": -0.6353252185}, {\"showarrow\": false, \"text\": \"11\", \"x\": -0.2878841207, \"y\": 1.88500434, \"yshift\": 15, \"z\": 1.098537208}, {\"showarrow\": false, \"text\": \"12\", \"x\": 0.3944370488, \"y\": -0.5332002858, \"yshift\": 15, \"z\": 0.8588728436}, {\"showarrow\": false, \"text\": \"13\", \"x\": -1.055069067, \"y\": -0.1247267617, \"yshift\": 15, \"z\": -0.0386167547}, {\"showarrow\": false, \"text\": \"14\", \"x\": 0.2760849321, \"y\": 0.0524425013, \"yshift\": 15, \"z\": -2.136947593}, {\"showarrow\": false, \"text\": \"15\", \"x\": 2.634105521, \"y\": -0.9415576146, \"yshift\": 15, \"z\": -0.43878177119999995}, {\"showarrow\": false, \"text\": \"16\", \"x\": 2.651748692, \"y\": -0.7306224164, \"yshift\": 15, \"z\": -2.193794834}, {\"showarrow\": false, \"text\": \"17\", \"x\": 2.4841318830000003, \"y\": 0.6720191741, \"yshift\": 15, \"z\": -1.14380545}, {\"showarrow\": false, \"text\": \"18\", \"x\": 0.6185530414, \"y\": -2.61289829, \"yshift\": 15, \"z\": -0.6849222290000001}, {\"showarrow\": false, \"text\": \"19\", \"x\": -1.48765523, \"y\": -3.2452358739999996, \"yshift\": 15, \"z\": -1.9181636069999999}, {\"showarrow\": false, \"text\": \"20\", \"x\": -1.781510427, \"y\": -2.0157981819999997, \"yshift\": 15, \"z\": -0.6853058395}, {\"showarrow\": false, \"text\": \"21\", \"x\": -1.70669839, \"y\": -1.552141449, \"yshift\": 15, \"z\": -2.3917953990000003}, {\"showarrow\": false, \"text\": \"22\", \"x\": 0.7135396263, \"y\": -1.968007276, \"yshift\": 15, \"z\": -3.689374438}, {\"showarrow\": false, \"text\": \"23\", \"x\": 2.729709389, \"y\": -3.476453072, \"yshift\": 15, \"z\": -3.64487026}, {\"showarrow\": false, \"text\": \"24\", \"x\": 2.519892184, \"y\": -3.7198552260000004, \"yshift\": 15, \"z\": -1.8346477559999999}], \"xaxis\": {\"showgrid\": false, \"showticklabels\": false, \"title\": {\"font\": {\"color\": \"white\"}}, \"zeroline\": false}, \"yaxis\": {\"showgrid\": false, \"showticklabels\": false, \"title\": {\"font\": {\"color\": \"white\"}}, \"zeroline\": false}, \"zaxis\": {\"showgrid\": false, \"showticklabels\": false, \"title\": {\"font\": {\"color\": \"white\"}}, \"zeroline\": false}}, \"showlegend\": false, \"updatemenus\": [{\"buttons\": [{\"args\": [{\"scene.annotations\": [{\"showarrow\": false, \"text\": 0, \"x\": 0.27433847629999997, \"y\": 1.532928591, \"yshift\": 15, \"z\": 0.22787855070000002}, {\"showarrow\": false, \"text\": 1, \"x\": 0.026445562599999996, \"y\": 0.0379427896, \"yshift\": 15, \"z\": -0.005322885899999999}, {\"showarrow\": false, \"text\": 2, \"x\": 0.6642671086, \"y\": -0.5333876732, \"yshift\": 15, \"z\": -1.288195521}, {\"showarrow\": false, \"text\": 3, \"x\": 2.193505558, \"y\": -0.37423681799999997, \"yshift\": 15, \"z\": -1.267960026}, {\"showarrow\": false, \"text\": 4, \"x\": 0.2496226681, \"y\": -2.009825863, \"yshift\": 15, \"z\": -1.527090923}, {\"showarrow\": false, \"text\": 5, \"x\": -1.2724939309999999, \"y\": -2.212527488, \"yshift\": 15, \"z\": -1.631378409}, {\"showarrow\": false, \"text\": 6, \"x\": 0.8897758866, \"y\": -2.56274473, \"yshift\": 15, \"z\": -2.7886412010000003}, {\"showarrow\": false, \"text\": 7, \"x\": 2.061616823, \"y\": -3.446779303, \"yshift\": 15, \"z\": -2.78456479}, {\"showarrow\": false, \"text\": 8, \"x\": 0.7518083537000001, \"y\": -3.970788625, \"yshift\": 15, \"z\": -3.004291776}, {\"showarrow\": false, \"text\": 9, \"x\": 1.3290729209999999, \"y\": 1.757871491, \"yshift\": 15, \"z\": 0.4099607296}, {\"showarrow\": false, \"text\": 10, \"x\": -0.0485886912, \"y\": 2.126374061, \"yshift\": 15, \"z\": -0.6353252185}, {\"showarrow\": false, \"text\": 11, \"x\": -0.2878841207, \"y\": 1.88500434, \"yshift\": 15, \"z\": 1.098537208}, {\"showarrow\": false, \"text\": 12, \"x\": 0.3944370488, \"y\": -0.5332002858, \"yshift\": 15, \"z\": 0.8588728436}, {\"showarrow\": false, \"text\": 13, \"x\": -1.055069067, \"y\": -0.1247267617, \"yshift\": 15, \"z\": -0.0386167547}, {\"showarrow\": false, \"text\": 14, \"x\": 0.2760849321, \"y\": 0.0524425013, \"yshift\": 15, \"z\": -2.136947593}, {\"showarrow\": false, \"text\": 15, \"x\": 2.634105521, \"y\": -0.9415576146, \"yshift\": 15, \"z\": -0.43878177119999995}, {\"showarrow\": false, \"text\": 16, \"x\": 2.651748692, \"y\": -0.7306224164, \"yshift\": 15, \"z\": -2.193794834}, {\"showarrow\": false, \"text\": 17, \"x\": 2.4841318830000003, \"y\": 0.6720191741, \"yshift\": 15, \"z\": -1.14380545}, {\"showarrow\": false, \"text\": 18, \"x\": 0.6185530414, \"y\": -2.61289829, \"yshift\": 15, \"z\": -0.6849222290000001}, {\"showarrow\": false, \"text\": 19, \"x\": -1.48765523, \"y\": -3.2452358739999996, \"yshift\": 15, \"z\": -1.9181636069999999}, {\"showarrow\": false, \"text\": 20, \"x\": -1.781510427, \"y\": -2.0157981819999997, \"yshift\": 15, \"z\": -0.6853058395}, {\"showarrow\": false, \"text\": 21, \"x\": -1.70669839, \"y\": -1.552141449, \"yshift\": 15, \"z\": -2.3917953990000003}, {\"showarrow\": false, \"text\": 22, \"x\": 0.7135396263, \"y\": -1.968007276, \"yshift\": 15, \"z\": -3.689374438}, {\"showarrow\": false, \"text\": 23, \"x\": 2.729709389, \"y\": -3.476453072, \"yshift\": 15, \"z\": -3.64487026}, {\"showarrow\": false, \"text\": 24, \"x\": 2.519892184, \"y\": -3.7198552260000004, \"yshift\": 15, \"z\": -1.8346477559999999}]}], \"label\": \"Atom indices\", \"method\": \"relayout\"}, {\"args\": [{\"scene.annotations\": [{\"showarrow\": false, \"text\": 1.53, \"x\": 0.15039201945, \"y\": 0.7854356903, \"yshift\": 15, \"z\": 0.1112778324}, {\"showarrow\": false, \"text\": 1.54, \"x\": 0.3453563356, \"y\": -0.2477224418, \"yshift\": 15, \"z\": -0.64675920345}, {\"showarrow\": false, \"text\": 1.54, \"x\": 1.4288863333, \"y\": -0.4538122456, \"yshift\": 15, \"z\": -1.2780777735}, {\"showarrow\": false, \"text\": 1.54, \"x\": -0.51143563145, \"y\": -2.1111766755, \"yshift\": 15, \"z\": -1.579234666}, {\"showarrow\": false, \"text\": 1.47, \"x\": 1.4756963548, \"y\": -3.0047620165, \"yshift\": 15, \"z\": -2.7866029955}, {\"showarrow\": false, \"text\": 1.43, \"x\": 1.40671258835, \"y\": -3.708783964, \"yshift\": 15, \"z\": -2.894428283}, {\"showarrow\": false, \"text\": 1.55, \"x\": 0.45694488835, \"y\": -1.2716067681, \"yshift\": 15, \"z\": -1.407643222}, {\"showarrow\": false, \"text\": 1.52, \"x\": 0.56969927735, \"y\": -2.2862852965, \"yshift\": 15, \"z\": -2.157866062}, {\"showarrow\": false, \"text\": 1.43, \"x\": 0.82079212015, \"y\": -3.2667666775, \"yshift\": 15, \"z\": -2.8964664885}, {\"showarrow\": false, \"text\": 1.09, \"x\": 2.2907545035, \"y\": -3.5833172645, \"yshift\": 15, \"z\": -2.309606273}, {\"showarrow\": false, \"text\": 1.09, \"x\": 0.80170569865, \"y\": 1.645400041, \"yshift\": 15, \"z\": 0.31891964015}, {\"showarrow\": false, \"text\": 1.1, \"x\": -1.4895961605, \"y\": -1.8823344685, \"yshift\": 15, \"z\": -2.011586904}, {\"showarrow\": false, \"text\": 1.09, \"x\": 0.80165775645, \"y\": -2.265376003, \"yshift\": 15, \"z\": -3.2390078195}, {\"showarrow\": false, \"text\": 1.09, \"x\": 2.395663106, \"y\": -3.4616161875, \"yshift\": 15, \"z\": -3.214717525}, {\"showarrow\": false, \"text\": 1.1, \"x\": 0.11287489255, \"y\": 1.829651326, \"yshift\": 15, \"z\": -0.2037233339}, {\"showarrow\": false, \"text\": 1.09, \"x\": -1.527002179, \"y\": -2.114162835, \"yshift\": 15, \"z\": -1.15834212425}, {\"showarrow\": false, \"text\": 1.09, \"x\": -0.0067728222, \"y\": 1.7089664655, \"yshift\": 15, \"z\": 0.66320787935}, {\"showarrow\": false, \"text\": 1.1, \"x\": 0.2104413057, \"y\": -0.2476287481, \"yshift\": 15, \"z\": 0.42677497885}, {\"showarrow\": false, \"text\": 1.09, \"x\": 2.3388187205, \"y\": 0.14889117805, \"yshift\": 15, \"z\": -1.205882738}, {\"showarrow\": false, \"text\": 1.1, \"x\": 0.43408785475, \"y\": -2.3113620765, \"yshift\": 15, \"z\": -1.106006576}, {\"showarrow\": false, \"text\": 1.09, \"x\": -1.3800745805, \"y\": -2.728881681, \"yshift\": 15, \"z\": -1.774771008}, {\"showarrow\": false, \"text\": 1.09, \"x\": -0.5143117522, \"y\": -0.04339198605, \"yshift\": 15, \"z\": -0.0219698203}, {\"showarrow\": false, \"text\": 1.1, \"x\": 0.47017602035, \"y\": -0.24047258595, \"yshift\": 15, \"z\": -1.712571557}, {\"showarrow\": false, \"text\": 1.1, \"x\": 2.4138055395, \"y\": -0.6578972163, \"yshift\": 15, \"z\": -0.8533708986}, {\"showarrow\": false, \"text\": 1.09, \"x\": 2.422627125, \"y\": -0.5524296172, \"yshift\": 15, \"z\": -1.73087743}]}], \"label\": \"Bond lengths\", \"method\": \"relayout\"}, {\"args\": [{\"scene.annotations\": [{\"showarrow\": false, \"text\": 0, \"x\": 0.27433847629999997, \"y\": 1.532928591, \"yshift\": 15, \"z\": 0.22787855070000002}, {\"showarrow\": false, \"text\": 1, \"x\": 0.026445562599999996, \"y\": 0.0379427896, \"yshift\": 15, \"z\": -0.005322885899999999}, {\"showarrow\": false, \"text\": 2, \"x\": 0.6642671086, \"y\": -0.5333876732, \"yshift\": 15, \"z\": -1.288195521}, {\"showarrow\": false, \"text\": 3, \"x\": 2.193505558, \"y\": -0.37423681799999997, \"yshift\": 15, \"z\": -1.267960026}, {\"showarrow\": false, \"text\": 4, \"x\": 0.2496226681, \"y\": -2.009825863, \"yshift\": 15, \"z\": -1.527090923}, {\"showarrow\": false, \"text\": 5, \"x\": -1.2724939309999999, \"y\": -2.212527488, \"yshift\": 15, \"z\": -1.631378409}, {\"showarrow\": false, \"text\": 6, \"x\": 0.8897758866, \"y\": -2.56274473, \"yshift\": 15, \"z\": -2.7886412010000003}, {\"showarrow\": false, \"text\": 7, \"x\": 2.061616823, \"y\": -3.446779303, \"yshift\": 15, \"z\": -2.78456479}, {\"showarrow\": false, \"text\": 8, \"x\": 0.7518083537000001, \"y\": -3.970788625, \"yshift\": 15, \"z\": -3.004291776}, {\"showarrow\": false, \"text\": 9, \"x\": 1.3290729209999999, \"y\": 1.757871491, \"yshift\": 15, \"z\": 0.4099607296}, {\"showarrow\": false, \"text\": 10, \"x\": -0.0485886912, \"y\": 2.126374061, \"yshift\": 15, \"z\": -0.6353252185}, {\"showarrow\": false, \"text\": 11, \"x\": -0.2878841207, \"y\": 1.88500434, \"yshift\": 15, \"z\": 1.098537208}, {\"showarrow\": false, \"text\": 12, \"x\": 0.3944370488, \"y\": -0.5332002858, \"yshift\": 15, \"z\": 0.8588728436}, {\"showarrow\": false, \"text\": 13, \"x\": -1.055069067, \"y\": -0.1247267617, \"yshift\": 15, \"z\": -0.0386167547}, {\"showarrow\": false, \"text\": 14, \"x\": 0.2760849321, \"y\": 0.0524425013, \"yshift\": 15, \"z\": -2.136947593}, {\"showarrow\": false, \"text\": 15, \"x\": 2.634105521, \"y\": -0.9415576146, \"yshift\": 15, \"z\": -0.43878177119999995}, {\"showarrow\": false, \"text\": 16, \"x\": 2.651748692, \"y\": -0.7306224164, \"yshift\": 15, \"z\": -2.193794834}, {\"showarrow\": false, \"text\": 17, \"x\": 2.4841318830000003, \"y\": 0.6720191741, \"yshift\": 15, \"z\": -1.14380545}, {\"showarrow\": false, \"text\": 18, \"x\": 0.6185530414, \"y\": -2.61289829, \"yshift\": 15, \"z\": -0.6849222290000001}, {\"showarrow\": false, \"text\": 19, \"x\": -1.48765523, \"y\": -3.2452358739999996, \"yshift\": 15, \"z\": -1.9181636069999999}, {\"showarrow\": false, \"text\": 20, \"x\": -1.781510427, \"y\": -2.0157981819999997, \"yshift\": 15, \"z\": -0.6853058395}, {\"showarrow\": false, \"text\": 21, \"x\": -1.70669839, \"y\": -1.552141449, \"yshift\": 15, \"z\": -2.3917953990000003}, {\"showarrow\": false, \"text\": 22, \"x\": 0.7135396263, \"y\": -1.968007276, \"yshift\": 15, \"z\": -3.689374438}, {\"showarrow\": false, \"text\": 23, \"x\": 2.729709389, \"y\": -3.476453072, \"yshift\": 15, \"z\": -3.64487026}, {\"showarrow\": false, \"text\": 24, \"x\": 2.519892184, \"y\": -3.7198552260000004, \"yshift\": 15, \"z\": -1.8346477559999999}, {\"showarrow\": false, \"text\": 1.53, \"x\": 0.15039201945, \"y\": 0.7854356903, \"yshift\": 15, \"z\": 0.1112778324}, {\"showarrow\": false, \"text\": 1.54, \"x\": 0.3453563356, \"y\": -0.2477224418, \"yshift\": 15, \"z\": -0.64675920345}, {\"showarrow\": false, \"text\": 1.54, \"x\": 1.4288863333, \"y\": -0.4538122456, \"yshift\": 15, \"z\": -1.2780777735}, {\"showarrow\": false, \"text\": 1.54, \"x\": -0.51143563145, \"y\": -2.1111766755, \"yshift\": 15, \"z\": -1.579234666}, {\"showarrow\": false, \"text\": 1.47, \"x\": 1.4756963548, \"y\": -3.0047620165, \"yshift\": 15, \"z\": -2.7866029955}, {\"showarrow\": false, \"text\": 1.43, \"x\": 1.40671258835, \"y\": -3.708783964, \"yshift\": 15, \"z\": -2.894428283}, {\"showarrow\": false, \"text\": 1.55, \"x\": 0.45694488835, \"y\": -1.2716067681, \"yshift\": 15, \"z\": -1.407643222}, {\"showarrow\": false, \"text\": 1.52, \"x\": 0.56969927735, \"y\": -2.2862852965, \"yshift\": 15, \"z\": -2.157866062}, {\"showarrow\": false, \"text\": 1.43, \"x\": 0.82079212015, \"y\": -3.2667666775, \"yshift\": 15, \"z\": -2.8964664885}, {\"showarrow\": false, \"text\": 1.09, \"x\": 2.2907545035, \"y\": -3.5833172645, \"yshift\": 15, \"z\": -2.309606273}, {\"showarrow\": false, \"text\": 1.09, \"x\": 0.80170569865, \"y\": 1.645400041, \"yshift\": 15, \"z\": 0.31891964015}, {\"showarrow\": false, \"text\": 1.1, \"x\": -1.4895961605, \"y\": -1.8823344685, \"yshift\": 15, \"z\": -2.011586904}, {\"showarrow\": false, \"text\": 1.09, \"x\": 0.80165775645, \"y\": -2.265376003, \"yshift\": 15, \"z\": -3.2390078195}, {\"showarrow\": false, \"text\": 1.09, \"x\": 2.395663106, \"y\": -3.4616161875, \"yshift\": 15, \"z\": -3.214717525}, {\"showarrow\": false, \"text\": 1.1, \"x\": 0.11287489255, \"y\": 1.829651326, \"yshift\": 15, \"z\": -0.2037233339}, {\"showarrow\": false, \"text\": 1.09, \"x\": -1.527002179, \"y\": -2.114162835, \"yshift\": 15, \"z\": -1.15834212425}, {\"showarrow\": false, \"text\": 1.09, \"x\": -0.0067728222, \"y\": 1.7089664655, \"yshift\": 15, \"z\": 0.66320787935}, {\"showarrow\": false, \"text\": 1.1, \"x\": 0.2104413057, \"y\": -0.2476287481, \"yshift\": 15, \"z\": 0.42677497885}, {\"showarrow\": false, \"text\": 1.09, \"x\": 2.3388187205, \"y\": 0.14889117805, \"yshift\": 15, \"z\": -1.205882738}, {\"showarrow\": false, \"text\": 1.1, \"x\": 0.43408785475, \"y\": -2.3113620765, \"yshift\": 15, \"z\": -1.106006576}, {\"showarrow\": false, \"text\": 1.09, \"x\": -1.3800745805, \"y\": -2.728881681, \"yshift\": 15, \"z\": -1.774771008}, {\"showarrow\": false, \"text\": 1.09, \"x\": -0.5143117522, \"y\": -0.04339198605, \"yshift\": 15, \"z\": -0.0219698203}, {\"showarrow\": false, \"text\": 1.1, \"x\": 0.47017602035, \"y\": -0.24047258595, \"yshift\": 15, \"z\": -1.712571557}, {\"showarrow\": false, \"text\": 1.1, \"x\": 2.4138055395, \"y\": -0.6578972163, \"yshift\": 15, \"z\": -0.8533708986}, {\"showarrow\": false, \"text\": 1.09, \"x\": 2.422627125, \"y\": -0.5524296172, \"yshift\": 15, \"z\": -1.73087743}]}], \"label\": \"Atom indices & Bond lengths\", \"method\": \"relayout\"}, {\"args\": [{\"scene.annotations\": []}], \"label\": \"Hide all\", \"method\": \"relayout\"}], \"direction\": \"down\", \"xanchor\": \"left\", \"yanchor\": \"top\"}]},\n",
       "                        {\"showLink\": false, \"linkText\": \"Export to plot.ly\", \"plotlyServerURL\": \"https://plot.ly\", \"responsive\": true}\n",
       "                    ).then(function(){\n",
       "                            \n",
       "var gd = document.getElementById('e561a3a5-7dc9-4ba7-843a-701774cce83b');\n",
       "var x = new MutationObserver(function (mutations, observer) {{\n",
       "        var display = window.getComputedStyle(gd).display;\n",
       "        if (!display || display === 'none') {{\n",
       "            console.log([gd, 'removed!']);\n",
       "            Plotly.purge(gd);\n",
       "            observer.disconnect();\n",
       "        }}\n",
       "}});\n",
       "\n",
       "// Listen for the removal of the full notebook cells\n",
       "var notebookContainer = gd.closest('#notebook-container');\n",
       "if (notebookContainer) {{\n",
       "    x.observe(notebookContainer, {childList: true});\n",
       "}}\n",
       "\n",
       "// Listen for the clearing of the current output cell\n",
       "var outputEl = gd.closest('.output');\n",
       "if (outputEl) {{\n",
       "    x.observe(outputEl, {childList: true});\n",
       "}}\n",
       "\n",
       "                        })\n",
       "                };\n",
       "                });\n",
       "            </script>\n",
       "        </div>"
      ]
     },
     "metadata": {},
     "output_type": "display_data"
    }
   ],
   "source": [
    "plot_molecule('dsgdb9nsd_100779', structures)"
   ]
  },
  {
   "cell_type": "code",
   "execution_count": 9,
   "metadata": {},
   "outputs": [
    {
     "data": {
      "application/vnd.plotly.v1+json": {
       "config": {
        "linkText": "Export to plot.ly",
        "plotlyServerURL": "https://plot.ly",
        "showLink": false
       },
       "data": [
        {
         "marker": {
          "color": [
           "black",
           "black",
           "black",
           "black",
           "black",
           "black",
           "black",
           "blue",
           "black",
           "white",
           "white",
           "white",
           "white",
           "white",
           "white",
           "white",
           "white",
           "white",
           "white",
           "white",
           "white",
           "white",
           "white",
           "white"
          ],
          "line": {
           "color": "lightgray",
           "width": 2
          },
          "opacity": 0.8,
          "size": 7,
          "symbol": "circle"
         },
         "mode": "markers",
         "name": "",
         "text": [
          "C",
          "C",
          "C",
          "C",
          "C",
          "C",
          "C",
          "N",
          "C",
          "H",
          "H",
          "H",
          "H",
          "H",
          "H",
          "H",
          "H",
          "H",
          "H",
          "H",
          "H",
          "H",
          "H",
          "H"
         ],
         "type": "scatter3d",
         "uid": "d69a0c2d-a2f6-4cda-ae81-c3ae5229cd73",
         "x": [
          -0.0764282005,
          -0.0429743247,
          -1.4875373669999998,
          0.6984965347,
          0.7672342481000001,
          1.1512918220000001,
          2.392220424,
          1.088091678,
          0.7392569148999999,
          0.9308701070000001,
          -0.6746776604000001,
          -0.5185515927000001,
          -2.0285418859999997,
          -1.522723531,
          -2.032286064,
          0.2050479309,
          1.710306774,
          -0.213972297,
          1.465389316,
          0.8066416634,
          2.95062608,
          3.009058608,
          1.656990173,
          0.1434144393
         ],
         "y": [
          1.5585264419999998,
          0.022663006099999997,
          -0.5118011022,
          -0.4656506153,
          -1.996968813,
          -2.642060447,
          -2.27190838,
          -1.899312249,
          -0.46628829340000005,
          1.980695939,
          1.946731391,
          1.9343898380000002,
          -0.25513734039999997,
          -1.59747679,
          -0.0713422926,
          -0.0776663947,
          -0.0389358199,
          -2.383634884,
          -2.311651315,
          -3.670605112,
          -3.0158789660000003,
          -1.48023913,
          0.1296325742,
          -0.2647965779
         ],
         "z": [
          0.011880698700000001,
          -0.005812229,
          0.0353169517,
          -1.26720266,
          -1.3432622509999999,
          -0.0219709,
          0.7044357494,
          1.249621305,
          1.2331543390000002,
          -0.07466263669999999,
          -0.8200549239,
          0.9416538140999999,
          -0.882589995,
          0.1578093784,
          0.8773470885,
          -2.166339291,
          -1.26651104,
          -1.6410028380000001,
          -2.12848016,
          0.0806350585,
          1.2683552120000001,
          0.2789924545,
          1.328507556,
          2.13270394
         ]
        },
        {
         "hoverinfo": "none",
         "marker": {
          "color": "grey",
          "opacity": 1,
          "size": 7
         },
         "mode": "lines",
         "type": "scatter3d",
         "uid": "e32263f6-1369-4bab-b3ab-91aa218d6742",
         "x": [
          -0.0764282005,
          -0.0429743247,
          null,
          -0.0429743247,
          -1.4875373669999998,
          null,
          0.6984965347,
          0.7672342481000001,
          null,
          0.7672342481000001,
          1.1512918220000001,
          null,
          1.1512918220000001,
          2.392220424,
          null,
          2.392220424,
          1.088091678,
          null,
          0.7392569148999999,
          1.088091678,
          null,
          -0.0429743247,
          0.6984965347,
          null,
          1.1512918220000001,
          1.088091678,
          null,
          0.7392569148999999,
          -0.0429743247,
          null,
          -0.0764282005,
          0.9308701070000001,
          null,
          3.009058608,
          2.392220424,
          null,
          0.7392569148999999,
          0.1434144393,
          null,
          -0.0764282005,
          -0.6746776604000001,
          null,
          -1.4875373669999998,
          -2.0285418859999997,
          null,
          1.465389316,
          0.7672342481000001,
          null,
          0.8066416634,
          1.1512918220000001,
          null,
          2.95062608,
          2.392220424,
          null,
          0.7392569148999999,
          1.656990173,
          null,
          -0.0764282005,
          -0.5185515927000001,
          null,
          -1.4875373669999998,
          -1.522723531,
          null,
          1.710306774,
          0.6984965347,
          null,
          -0.213972297,
          0.7672342481000001,
          null,
          -1.4875373669999998,
          -2.032286064,
          null,
          0.6984965347,
          0.2050479309,
          null
         ],
         "y": [
          1.5585264419999998,
          0.022663006099999997,
          null,
          0.022663006099999997,
          -0.5118011022,
          null,
          -0.4656506153,
          -1.996968813,
          null,
          -1.996968813,
          -2.642060447,
          null,
          -2.642060447,
          -2.27190838,
          null,
          -2.27190838,
          -1.899312249,
          null,
          -0.46628829340000005,
          -1.899312249,
          null,
          0.022663006099999997,
          -0.4656506153,
          null,
          -2.642060447,
          -1.899312249,
          null,
          -0.46628829340000005,
          0.022663006099999997,
          null,
          1.5585264419999998,
          1.980695939,
          null,
          -1.48023913,
          -2.27190838,
          null,
          -0.46628829340000005,
          -0.2647965779,
          null,
          1.5585264419999998,
          1.946731391,
          null,
          -0.5118011022,
          -0.25513734039999997,
          null,
          -2.311651315,
          -1.996968813,
          null,
          -3.670605112,
          -2.642060447,
          null,
          -3.0158789660000003,
          -2.27190838,
          null,
          -0.46628829340000005,
          0.1296325742,
          null,
          1.5585264419999998,
          1.9343898380000002,
          null,
          -0.5118011022,
          -1.59747679,
          null,
          -0.0389358199,
          -0.4656506153,
          null,
          -2.383634884,
          -1.996968813,
          null,
          -0.5118011022,
          -0.0713422926,
          null,
          -0.4656506153,
          -0.0776663947,
          null
         ],
         "z": [
          0.011880698700000001,
          -0.005812229,
          null,
          -0.005812229,
          0.0353169517,
          null,
          -1.26720266,
          -1.3432622509999999,
          null,
          -1.3432622509999999,
          -0.0219709,
          null,
          -0.0219709,
          0.7044357494,
          null,
          0.7044357494,
          1.249621305,
          null,
          1.2331543390000002,
          1.249621305,
          null,
          -0.005812229,
          -1.26720266,
          null,
          -0.0219709,
          1.249621305,
          null,
          1.2331543390000002,
          -0.005812229,
          null,
          0.011880698700000001,
          -0.07466263669999999,
          null,
          0.2789924545,
          0.7044357494,
          null,
          1.2331543390000002,
          2.13270394,
          null,
          0.011880698700000001,
          -0.8200549239,
          null,
          0.0353169517,
          -0.882589995,
          null,
          -2.12848016,
          -1.3432622509999999,
          null,
          0.0806350585,
          -0.0219709,
          null,
          1.2683552120000001,
          0.7044357494,
          null,
          1.2331543390000002,
          1.328507556,
          null,
          0.011880698700000001,
          0.9416538140999999,
          null,
          0.0353169517,
          0.1578093784,
          null,
          -1.26651104,
          -1.26720266,
          null,
          -1.6410028380000001,
          -1.3432622509999999,
          null,
          0.0353169517,
          0.8773470885,
          null,
          -1.26720266,
          -2.166339291,
          null
         ]
        }
       ],
       "layout": {
        "margin": {
         "b": 0,
         "l": 0,
         "r": 0,
         "t": 0
        },
        "scene": {
         "annotations": [
          {
           "showarrow": false,
           "text": "0",
           "x": -0.0764282005,
           "y": 1.5585264419999998,
           "yshift": 15,
           "z": 0.011880698700000001
          },
          {
           "showarrow": false,
           "text": "1",
           "x": -0.0429743247,
           "y": 0.022663006099999997,
           "yshift": 15,
           "z": -0.005812229
          },
          {
           "showarrow": false,
           "text": "2",
           "x": -1.4875373669999998,
           "y": -0.5118011022,
           "yshift": 15,
           "z": 0.0353169517
          },
          {
           "showarrow": false,
           "text": "3",
           "x": 0.6984965347,
           "y": -0.4656506153,
           "yshift": 15,
           "z": -1.26720266
          },
          {
           "showarrow": false,
           "text": "4",
           "x": 0.7672342481000001,
           "y": -1.996968813,
           "yshift": 15,
           "z": -1.3432622509999999
          },
          {
           "showarrow": false,
           "text": "5",
           "x": 1.1512918220000001,
           "y": -2.642060447,
           "yshift": 15,
           "z": -0.0219709
          },
          {
           "showarrow": false,
           "text": "6",
           "x": 2.392220424,
           "y": -2.27190838,
           "yshift": 15,
           "z": 0.7044357494
          },
          {
           "showarrow": false,
           "text": "7",
           "x": 1.088091678,
           "y": -1.899312249,
           "yshift": 15,
           "z": 1.249621305
          },
          {
           "showarrow": false,
           "text": "8",
           "x": 0.7392569148999999,
           "y": -0.46628829340000005,
           "yshift": 15,
           "z": 1.2331543390000002
          },
          {
           "showarrow": false,
           "text": "9",
           "x": 0.9308701070000001,
           "y": 1.980695939,
           "yshift": 15,
           "z": -0.07466263669999999
          },
          {
           "showarrow": false,
           "text": "10",
           "x": -0.6746776604000001,
           "y": 1.946731391,
           "yshift": 15,
           "z": -0.8200549239
          },
          {
           "showarrow": false,
           "text": "11",
           "x": -0.5185515927000001,
           "y": 1.9343898380000002,
           "yshift": 15,
           "z": 0.9416538140999999
          },
          {
           "showarrow": false,
           "text": "12",
           "x": -2.0285418859999997,
           "y": -0.25513734039999997,
           "yshift": 15,
           "z": -0.882589995
          },
          {
           "showarrow": false,
           "text": "13",
           "x": -1.522723531,
           "y": -1.59747679,
           "yshift": 15,
           "z": 0.1578093784
          },
          {
           "showarrow": false,
           "text": "14",
           "x": -2.032286064,
           "y": -0.0713422926,
           "yshift": 15,
           "z": 0.8773470885
          },
          {
           "showarrow": false,
           "text": "15",
           "x": 0.2050479309,
           "y": -0.0776663947,
           "yshift": 15,
           "z": -2.166339291
          },
          {
           "showarrow": false,
           "text": "16",
           "x": 1.710306774,
           "y": -0.0389358199,
           "yshift": 15,
           "z": -1.26651104
          },
          {
           "showarrow": false,
           "text": "17",
           "x": -0.213972297,
           "y": -2.383634884,
           "yshift": 15,
           "z": -1.6410028380000001
          },
          {
           "showarrow": false,
           "text": "18",
           "x": 1.465389316,
           "y": -2.311651315,
           "yshift": 15,
           "z": -2.12848016
          },
          {
           "showarrow": false,
           "text": "19",
           "x": 0.8066416634,
           "y": -3.670605112,
           "yshift": 15,
           "z": 0.0806350585
          },
          {
           "showarrow": false,
           "text": "20",
           "x": 2.95062608,
           "y": -3.0158789660000003,
           "yshift": 15,
           "z": 1.2683552120000001
          },
          {
           "showarrow": false,
           "text": "21",
           "x": 3.009058608,
           "y": -1.48023913,
           "yshift": 15,
           "z": 0.2789924545
          },
          {
           "showarrow": false,
           "text": "22",
           "x": 1.656990173,
           "y": 0.1296325742,
           "yshift": 15,
           "z": 1.328507556
          },
          {
           "showarrow": false,
           "text": "23",
           "x": 0.1434144393,
           "y": -0.2647965779,
           "yshift": 15,
           "z": 2.13270394
          }
         ],
         "aspectmode": "auto",
         "aspectratio": {
          "x": 1.0151358732143796,
          "y": 1.1379579855087174,
          "z": 0.8656644780758906
         },
         "xaxis": {
          "showgrid": false,
          "showticklabels": false,
          "title": {
           "font": {
            "color": "white"
           }
          },
          "type": "linear",
          "zeroline": false
         },
         "yaxis": {
          "showgrid": false,
          "showticklabels": false,
          "title": {
           "font": {
            "color": "white"
           }
          },
          "type": "linear",
          "zeroline": false
         },
         "zaxis": {
          "showgrid": false,
          "showticklabels": false,
          "title": {
           "font": {
            "color": "white"
           }
          },
          "type": "linear",
          "zeroline": false
         }
        },
        "showlegend": false,
        "updatemenus": [
         {
          "buttons": [
           {
            "args": [
             {
              "scene.annotations": [
               {
                "showarrow": false,
                "text": 0,
                "x": -0.0764282005,
                "y": 1.5585264419999998,
                "yshift": 15,
                "z": 0.011880698700000001
               },
               {
                "showarrow": false,
                "text": 1,
                "x": -0.0429743247,
                "y": 0.022663006099999997,
                "yshift": 15,
                "z": -0.005812229
               },
               {
                "showarrow": false,
                "text": 2,
                "x": -1.4875373669999998,
                "y": -0.5118011022,
                "yshift": 15,
                "z": 0.0353169517
               },
               {
                "showarrow": false,
                "text": 3,
                "x": 0.6984965347,
                "y": -0.4656506153,
                "yshift": 15,
                "z": -1.26720266
               },
               {
                "showarrow": false,
                "text": 4,
                "x": 0.7672342481000001,
                "y": -1.996968813,
                "yshift": 15,
                "z": -1.3432622509999999
               },
               {
                "showarrow": false,
                "text": 5,
                "x": 1.1512918220000001,
                "y": -2.642060447,
                "yshift": 15,
                "z": -0.0219709
               },
               {
                "showarrow": false,
                "text": 6,
                "x": 2.392220424,
                "y": -2.27190838,
                "yshift": 15,
                "z": 0.7044357494
               },
               {
                "showarrow": false,
                "text": 7,
                "x": 1.088091678,
                "y": -1.899312249,
                "yshift": 15,
                "z": 1.249621305
               },
               {
                "showarrow": false,
                "text": 8,
                "x": 0.7392569148999999,
                "y": -0.46628829340000005,
                "yshift": 15,
                "z": 1.2331543390000002
               },
               {
                "showarrow": false,
                "text": 9,
                "x": 0.9308701070000001,
                "y": 1.980695939,
                "yshift": 15,
                "z": -0.07466263669999999
               },
               {
                "showarrow": false,
                "text": 10,
                "x": -0.6746776604000001,
                "y": 1.946731391,
                "yshift": 15,
                "z": -0.8200549239
               },
               {
                "showarrow": false,
                "text": 11,
                "x": -0.5185515927000001,
                "y": 1.9343898380000002,
                "yshift": 15,
                "z": 0.9416538140999999
               },
               {
                "showarrow": false,
                "text": 12,
                "x": -2.0285418859999997,
                "y": -0.25513734039999997,
                "yshift": 15,
                "z": -0.882589995
               },
               {
                "showarrow": false,
                "text": 13,
                "x": -1.522723531,
                "y": -1.59747679,
                "yshift": 15,
                "z": 0.1578093784
               },
               {
                "showarrow": false,
                "text": 14,
                "x": -2.032286064,
                "y": -0.0713422926,
                "yshift": 15,
                "z": 0.8773470885
               },
               {
                "showarrow": false,
                "text": 15,
                "x": 0.2050479309,
                "y": -0.0776663947,
                "yshift": 15,
                "z": -2.166339291
               },
               {
                "showarrow": false,
                "text": 16,
                "x": 1.710306774,
                "y": -0.0389358199,
                "yshift": 15,
                "z": -1.26651104
               },
               {
                "showarrow": false,
                "text": 17,
                "x": -0.213972297,
                "y": -2.383634884,
                "yshift": 15,
                "z": -1.6410028380000001
               },
               {
                "showarrow": false,
                "text": 18,
                "x": 1.465389316,
                "y": -2.311651315,
                "yshift": 15,
                "z": -2.12848016
               },
               {
                "showarrow": false,
                "text": 19,
                "x": 0.8066416634,
                "y": -3.670605112,
                "yshift": 15,
                "z": 0.0806350585
               },
               {
                "showarrow": false,
                "text": 20,
                "x": 2.95062608,
                "y": -3.0158789660000003,
                "yshift": 15,
                "z": 1.2683552120000001
               },
               {
                "showarrow": false,
                "text": 21,
                "x": 3.009058608,
                "y": -1.48023913,
                "yshift": 15,
                "z": 0.2789924545
               },
               {
                "showarrow": false,
                "text": 22,
                "x": 1.656990173,
                "y": 0.1296325742,
                "yshift": 15,
                "z": 1.328507556
               },
               {
                "showarrow": false,
                "text": 23,
                "x": 0.1434144393,
                "y": -0.2647965779,
                "yshift": 15,
                "z": 2.13270394
               }
              ]
             }
            ],
            "label": "Atom indices",
            "method": "relayout"
           },
           {
            "args": [
             {
              "scene.annotations": [
               {
                "showarrow": false,
                "text": 1.54,
                "x": -0.0597012626,
                "y": 0.79059472405,
                "yshift": 15,
                "z": 0.00303423485
               },
               {
                "showarrow": false,
                "text": 1.54,
                "x": -0.76525584585,
                "y": -0.24456904805,
                "yshift": 15,
                "z": 0.01475236135
               },
               {
                "showarrow": false,
                "text": 1.53,
                "x": 0.7328653914,
                "y": -1.23130971415,
                "yshift": 15,
                "z": -1.3052324555
               },
               {
                "showarrow": false,
                "text": 1.52,
                "x": 0.95926303505,
                "y": -2.31951463,
                "yshift": 15,
                "z": -0.6826165755
               },
               {
                "showarrow": false,
                "text": 1.48,
                "x": 1.771756123,
                "y": -2.4569844135,
                "yshift": 15,
                "z": 0.3412324247
               },
               {
                "showarrow": false,
                "text": 1.46,
                "x": 1.740156051,
                "y": -2.0856103145,
                "yshift": 15,
                "z": 0.9770285272
               },
               {
                "showarrow": false,
                "text": 1.47,
                "x": 0.91367429645,
                "y": -1.1828002712,
                "yshift": 15,
                "z": 1.241387822
               },
               {
                "showarrow": false,
                "text": 1.54,
                "x": 0.327761105,
                "y": -0.2214938046,
                "yshift": 15,
                "z": -0.6365074445
               },
               {
                "showarrow": false,
                "text": 1.47,
                "x": 1.11969175,
                "y": -2.270686348,
                "yshift": 15,
                "z": 0.6138252025
               },
               {
                "showarrow": false,
                "text": 1.54,
                "x": 0.3481412951,
                "y": -0.22181264365,
                "yshift": 15,
                "z": 0.613671055
               },
               {
                "showarrow": false,
                "text": 1.1,
                "x": 0.42722095325,
                "y": 1.7696111905,
                "yshift": 15,
                "z": -0.031390969
               },
               {
                "showarrow": false,
                "text": 1.09,
                "x": 2.700639516,
                "y": -1.876073755,
                "yshift": 15,
                "z": 0.49171410195
               },
               {
                "showarrow": false,
                "text": 1.1,
                "x": 0.4413356771,
                "y": -0.36554243565,
                "yshift": 15,
                "z": 1.6829291395
               },
               {
                "showarrow": false,
                "text": 1.1,
                "x": -0.37555293045,
                "y": 1.7526289165,
                "yshift": 15,
                "z": -0.4040871126
               },
               {
                "showarrow": false,
                "text": 1.1,
                "x": -1.7580396265,
                "y": -0.3834692213,
                "yshift": 15,
                "z": -0.42363652165
               },
               {
                "showarrow": false,
                "text": 1.1,
                "x": 1.11631178205,
                "y": -2.154310064,
                "yshift": 15,
                "z": -1.7358712055
               },
               {
                "showarrow": false,
                "text": 1.09,
                "x": 0.9789667427,
                "y": -3.1563327795,
                "yshift": 15,
                "z": 0.02933207925
               },
               {
                "showarrow": false,
                "text": 1.09,
                "x": 2.671423252,
                "y": -2.643893673,
                "yshift": 15,
                "z": 0.9863954807
               },
               {
                "showarrow": false,
                "text": 1.1,
                "x": 1.19812354395,
                "y": -0.1683278596,
                "yshift": 15,
                "z": 1.2808309475
               },
               {
                "showarrow": false,
                "text": 1.1,
                "x": -0.2974898966,
                "y": 1.74645814,
                "yshift": 15,
                "z": 0.4767672564
               },
               {
                "showarrow": false,
                "text": 1.09,
                "x": -1.505130449,
                "y": -1.0546389461,
                "yshift": 15,
                "z": 0.09656316505
               },
               {
                "showarrow": false,
                "text": 1.1,
                "x": 1.20440165435,
                "y": -0.2522932176,
                "yshift": 15,
                "z": -1.26685685
               },
               {
                "showarrow": false,
                "text": 1.1,
                "x": 0.27663097555,
                "y": -2.1903018485,
                "yshift": 15,
                "z": -1.4921325445
               },
               {
                "showarrow": false,
                "text": 1.1,
                "x": -1.7599117155,
                "y": -0.2915716974,
                "yshift": 15,
                "z": 0.4563320201
               },
               {
                "showarrow": false,
                "text": 1.1,
                "x": 0.4517722328,
                "y": -0.271658505,
                "yshift": 15,
                "z": -1.7167709755
               }
              ]
             }
            ],
            "label": "Bond lengths",
            "method": "relayout"
           },
           {
            "args": [
             {
              "scene.annotations": [
               {
                "showarrow": false,
                "text": 0,
                "x": -0.0764282005,
                "y": 1.5585264419999998,
                "yshift": 15,
                "z": 0.011880698700000001
               },
               {
                "showarrow": false,
                "text": 1,
                "x": -0.0429743247,
                "y": 0.022663006099999997,
                "yshift": 15,
                "z": -0.005812229
               },
               {
                "showarrow": false,
                "text": 2,
                "x": -1.4875373669999998,
                "y": -0.5118011022,
                "yshift": 15,
                "z": 0.0353169517
               },
               {
                "showarrow": false,
                "text": 3,
                "x": 0.6984965347,
                "y": -0.4656506153,
                "yshift": 15,
                "z": -1.26720266
               },
               {
                "showarrow": false,
                "text": 4,
                "x": 0.7672342481000001,
                "y": -1.996968813,
                "yshift": 15,
                "z": -1.3432622509999999
               },
               {
                "showarrow": false,
                "text": 5,
                "x": 1.1512918220000001,
                "y": -2.642060447,
                "yshift": 15,
                "z": -0.0219709
               },
               {
                "showarrow": false,
                "text": 6,
                "x": 2.392220424,
                "y": -2.27190838,
                "yshift": 15,
                "z": 0.7044357494
               },
               {
                "showarrow": false,
                "text": 7,
                "x": 1.088091678,
                "y": -1.899312249,
                "yshift": 15,
                "z": 1.249621305
               },
               {
                "showarrow": false,
                "text": 8,
                "x": 0.7392569148999999,
                "y": -0.46628829340000005,
                "yshift": 15,
                "z": 1.2331543390000002
               },
               {
                "showarrow": false,
                "text": 9,
                "x": 0.9308701070000001,
                "y": 1.980695939,
                "yshift": 15,
                "z": -0.07466263669999999
               },
               {
                "showarrow": false,
                "text": 10,
                "x": -0.6746776604000001,
                "y": 1.946731391,
                "yshift": 15,
                "z": -0.8200549239
               },
               {
                "showarrow": false,
                "text": 11,
                "x": -0.5185515927000001,
                "y": 1.9343898380000002,
                "yshift": 15,
                "z": 0.9416538140999999
               },
               {
                "showarrow": false,
                "text": 12,
                "x": -2.0285418859999997,
                "y": -0.25513734039999997,
                "yshift": 15,
                "z": -0.882589995
               },
               {
                "showarrow": false,
                "text": 13,
                "x": -1.522723531,
                "y": -1.59747679,
                "yshift": 15,
                "z": 0.1578093784
               },
               {
                "showarrow": false,
                "text": 14,
                "x": -2.032286064,
                "y": -0.0713422926,
                "yshift": 15,
                "z": 0.8773470885
               },
               {
                "showarrow": false,
                "text": 15,
                "x": 0.2050479309,
                "y": -0.0776663947,
                "yshift": 15,
                "z": -2.166339291
               },
               {
                "showarrow": false,
                "text": 16,
                "x": 1.710306774,
                "y": -0.0389358199,
                "yshift": 15,
                "z": -1.26651104
               },
               {
                "showarrow": false,
                "text": 17,
                "x": -0.213972297,
                "y": -2.383634884,
                "yshift": 15,
                "z": -1.6410028380000001
               },
               {
                "showarrow": false,
                "text": 18,
                "x": 1.465389316,
                "y": -2.311651315,
                "yshift": 15,
                "z": -2.12848016
               },
               {
                "showarrow": false,
                "text": 19,
                "x": 0.8066416634,
                "y": -3.670605112,
                "yshift": 15,
                "z": 0.0806350585
               },
               {
                "showarrow": false,
                "text": 20,
                "x": 2.95062608,
                "y": -3.0158789660000003,
                "yshift": 15,
                "z": 1.2683552120000001
               },
               {
                "showarrow": false,
                "text": 21,
                "x": 3.009058608,
                "y": -1.48023913,
                "yshift": 15,
                "z": 0.2789924545
               },
               {
                "showarrow": false,
                "text": 22,
                "x": 1.656990173,
                "y": 0.1296325742,
                "yshift": 15,
                "z": 1.328507556
               },
               {
                "showarrow": false,
                "text": 23,
                "x": 0.1434144393,
                "y": -0.2647965779,
                "yshift": 15,
                "z": 2.13270394
               },
               {
                "showarrow": false,
                "text": 1.54,
                "x": -0.0597012626,
                "y": 0.79059472405,
                "yshift": 15,
                "z": 0.00303423485
               },
               {
                "showarrow": false,
                "text": 1.54,
                "x": -0.76525584585,
                "y": -0.24456904805,
                "yshift": 15,
                "z": 0.01475236135
               },
               {
                "showarrow": false,
                "text": 1.53,
                "x": 0.7328653914,
                "y": -1.23130971415,
                "yshift": 15,
                "z": -1.3052324555
               },
               {
                "showarrow": false,
                "text": 1.52,
                "x": 0.95926303505,
                "y": -2.31951463,
                "yshift": 15,
                "z": -0.6826165755
               },
               {
                "showarrow": false,
                "text": 1.48,
                "x": 1.771756123,
                "y": -2.4569844135,
                "yshift": 15,
                "z": 0.3412324247
               },
               {
                "showarrow": false,
                "text": 1.46,
                "x": 1.740156051,
                "y": -2.0856103145,
                "yshift": 15,
                "z": 0.9770285272
               },
               {
                "showarrow": false,
                "text": 1.47,
                "x": 0.91367429645,
                "y": -1.1828002712,
                "yshift": 15,
                "z": 1.241387822
               },
               {
                "showarrow": false,
                "text": 1.54,
                "x": 0.327761105,
                "y": -0.2214938046,
                "yshift": 15,
                "z": -0.6365074445
               },
               {
                "showarrow": false,
                "text": 1.47,
                "x": 1.11969175,
                "y": -2.270686348,
                "yshift": 15,
                "z": 0.6138252025
               },
               {
                "showarrow": false,
                "text": 1.54,
                "x": 0.3481412951,
                "y": -0.22181264365,
                "yshift": 15,
                "z": 0.613671055
               },
               {
                "showarrow": false,
                "text": 1.1,
                "x": 0.42722095325,
                "y": 1.7696111905,
                "yshift": 15,
                "z": -0.031390969
               },
               {
                "showarrow": false,
                "text": 1.09,
                "x": 2.700639516,
                "y": -1.876073755,
                "yshift": 15,
                "z": 0.49171410195
               },
               {
                "showarrow": false,
                "text": 1.1,
                "x": 0.4413356771,
                "y": -0.36554243565,
                "yshift": 15,
                "z": 1.6829291395
               },
               {
                "showarrow": false,
                "text": 1.1,
                "x": -0.37555293045,
                "y": 1.7526289165,
                "yshift": 15,
                "z": -0.4040871126
               },
               {
                "showarrow": false,
                "text": 1.1,
                "x": -1.7580396265,
                "y": -0.3834692213,
                "yshift": 15,
                "z": -0.42363652165
               },
               {
                "showarrow": false,
                "text": 1.1,
                "x": 1.11631178205,
                "y": -2.154310064,
                "yshift": 15,
                "z": -1.7358712055
               },
               {
                "showarrow": false,
                "text": 1.09,
                "x": 0.9789667427,
                "y": -3.1563327795,
                "yshift": 15,
                "z": 0.02933207925
               },
               {
                "showarrow": false,
                "text": 1.09,
                "x": 2.671423252,
                "y": -2.643893673,
                "yshift": 15,
                "z": 0.9863954807
               },
               {
                "showarrow": false,
                "text": 1.1,
                "x": 1.19812354395,
                "y": -0.1683278596,
                "yshift": 15,
                "z": 1.2808309475
               },
               {
                "showarrow": false,
                "text": 1.1,
                "x": -0.2974898966,
                "y": 1.74645814,
                "yshift": 15,
                "z": 0.4767672564
               },
               {
                "showarrow": false,
                "text": 1.09,
                "x": -1.505130449,
                "y": -1.0546389461,
                "yshift": 15,
                "z": 0.09656316505
               },
               {
                "showarrow": false,
                "text": 1.1,
                "x": 1.20440165435,
                "y": -0.2522932176,
                "yshift": 15,
                "z": -1.26685685
               },
               {
                "showarrow": false,
                "text": 1.1,
                "x": 0.27663097555,
                "y": -2.1903018485,
                "yshift": 15,
                "z": -1.4921325445
               },
               {
                "showarrow": false,
                "text": 1.1,
                "x": -1.7599117155,
                "y": -0.2915716974,
                "yshift": 15,
                "z": 0.4563320201
               },
               {
                "showarrow": false,
                "text": 1.1,
                "x": 0.4517722328,
                "y": -0.271658505,
                "yshift": 15,
                "z": -1.7167709755
               }
              ]
             }
            ],
            "label": "Atom indices & Bond lengths",
            "method": "relayout"
           },
           {
            "args": [
             {
              "scene.annotations": []
             }
            ],
            "label": "Hide all",
            "method": "relayout"
           }
          ],
          "direction": "down",
          "xanchor": "left",
          "yanchor": "top"
         }
        ]
       }
      },
      "text/html": [
       "<div>\n",
       "        \n",
       "        \n",
       "            <div id=\"8a1d28e4-7959-43f5-a7d2-b04c4bf34793\" class=\"plotly-graph-div\" style=\"height:525px; width:100%;\"></div>\n",
       "            <script type=\"text/javascript\">\n",
       "                require([\"plotly\"], function(Plotly) {\n",
       "                    window.PLOTLYENV=window.PLOTLYENV || {};\n",
       "                    window.PLOTLYENV.BASE_URL='https://plot.ly';\n",
       "                    \n",
       "                if (document.getElementById(\"8a1d28e4-7959-43f5-a7d2-b04c4bf34793\")) {\n",
       "                    Plotly.newPlot(\n",
       "                        '8a1d28e4-7959-43f5-a7d2-b04c4bf34793',\n",
       "                        [{\"marker\": {\"color\": [\"black\", \"black\", \"black\", \"black\", \"black\", \"black\", \"black\", \"blue\", \"black\", \"white\", \"white\", \"white\", \"white\", \"white\", \"white\", \"white\", \"white\", \"white\", \"white\", \"white\", \"white\", \"white\", \"white\", \"white\"], \"line\": {\"color\": \"lightgray\", \"width\": 2}, \"opacity\": 0.8, \"size\": 7, \"symbol\": \"circle\"}, \"mode\": \"markers\", \"name\": \"\", \"text\": [\"C\", \"C\", \"C\", \"C\", \"C\", \"C\", \"C\", \"N\", \"C\", \"H\", \"H\", \"H\", \"H\", \"H\", \"H\", \"H\", \"H\", \"H\", \"H\", \"H\", \"H\", \"H\", \"H\", \"H\"], \"type\": \"scatter3d\", \"uid\": \"d69a0c2d-a2f6-4cda-ae81-c3ae5229cd73\", \"x\": [-0.0764282005, -0.0429743247, -1.4875373669999998, 0.6984965347, 0.7672342481000001, 1.1512918220000001, 2.392220424, 1.088091678, 0.7392569148999999, 0.9308701070000001, -0.6746776604000001, -0.5185515927000001, -2.0285418859999997, -1.522723531, -2.032286064, 0.2050479309, 1.710306774, -0.213972297, 1.465389316, 0.8066416634, 2.95062608, 3.009058608, 1.656990173, 0.1434144393], \"y\": [1.5585264419999998, 0.022663006099999997, -0.5118011022, -0.4656506153, -1.996968813, -2.642060447, -2.27190838, -1.899312249, -0.46628829340000005, 1.980695939, 1.946731391, 1.9343898380000002, -0.25513734039999997, -1.59747679, -0.0713422926, -0.0776663947, -0.0389358199, -2.383634884, -2.311651315, -3.670605112, -3.0158789660000003, -1.48023913, 0.1296325742, -0.2647965779], \"z\": [0.011880698700000001, -0.005812229, 0.0353169517, -1.26720266, -1.3432622509999999, -0.0219709, 0.7044357494, 1.249621305, 1.2331543390000002, -0.07466263669999999, -0.8200549239, 0.9416538140999999, -0.882589995, 0.1578093784, 0.8773470885, -2.166339291, -1.26651104, -1.6410028380000001, -2.12848016, 0.0806350585, 1.2683552120000001, 0.2789924545, 1.328507556, 2.13270394]}, {\"hoverinfo\": \"none\", \"marker\": {\"color\": \"grey\", \"opacity\": 1, \"size\": 7}, \"mode\": \"lines\", \"type\": \"scatter3d\", \"uid\": \"e32263f6-1369-4bab-b3ab-91aa218d6742\", \"x\": [-0.0764282005, -0.0429743247, null, -0.0429743247, -1.4875373669999998, null, 0.6984965347, 0.7672342481000001, null, 0.7672342481000001, 1.1512918220000001, null, 1.1512918220000001, 2.392220424, null, 2.392220424, 1.088091678, null, 0.7392569148999999, 1.088091678, null, -0.0429743247, 0.6984965347, null, 1.1512918220000001, 1.088091678, null, 0.7392569148999999, -0.0429743247, null, -0.0764282005, 0.9308701070000001, null, 3.009058608, 2.392220424, null, 0.7392569148999999, 0.1434144393, null, -0.0764282005, -0.6746776604000001, null, -1.4875373669999998, -2.0285418859999997, null, 1.465389316, 0.7672342481000001, null, 0.8066416634, 1.1512918220000001, null, 2.95062608, 2.392220424, null, 0.7392569148999999, 1.656990173, null, -0.0764282005, -0.5185515927000001, null, -1.4875373669999998, -1.522723531, null, 1.710306774, 0.6984965347, null, -0.213972297, 0.7672342481000001, null, -1.4875373669999998, -2.032286064, null, 0.6984965347, 0.2050479309, null], \"y\": [1.5585264419999998, 0.022663006099999997, null, 0.022663006099999997, -0.5118011022, null, -0.4656506153, -1.996968813, null, -1.996968813, -2.642060447, null, -2.642060447, -2.27190838, null, -2.27190838, -1.899312249, null, -0.46628829340000005, -1.899312249, null, 0.022663006099999997, -0.4656506153, null, -2.642060447, -1.899312249, null, -0.46628829340000005, 0.022663006099999997, null, 1.5585264419999998, 1.980695939, null, -1.48023913, -2.27190838, null, -0.46628829340000005, -0.2647965779, null, 1.5585264419999998, 1.946731391, null, -0.5118011022, -0.25513734039999997, null, -2.311651315, -1.996968813, null, -3.670605112, -2.642060447, null, -3.0158789660000003, -2.27190838, null, -0.46628829340000005, 0.1296325742, null, 1.5585264419999998, 1.9343898380000002, null, -0.5118011022, -1.59747679, null, -0.0389358199, -0.4656506153, null, -2.383634884, -1.996968813, null, -0.5118011022, -0.0713422926, null, -0.4656506153, -0.0776663947, null], \"z\": [0.011880698700000001, -0.005812229, null, -0.005812229, 0.0353169517, null, -1.26720266, -1.3432622509999999, null, -1.3432622509999999, -0.0219709, null, -0.0219709, 0.7044357494, null, 0.7044357494, 1.249621305, null, 1.2331543390000002, 1.249621305, null, -0.005812229, -1.26720266, null, -0.0219709, 1.249621305, null, 1.2331543390000002, -0.005812229, null, 0.011880698700000001, -0.07466263669999999, null, 0.2789924545, 0.7044357494, null, 1.2331543390000002, 2.13270394, null, 0.011880698700000001, -0.8200549239, null, 0.0353169517, -0.882589995, null, -2.12848016, -1.3432622509999999, null, 0.0806350585, -0.0219709, null, 1.2683552120000001, 0.7044357494, null, 1.2331543390000002, 1.328507556, null, 0.011880698700000001, 0.9416538140999999, null, 0.0353169517, 0.1578093784, null, -1.26651104, -1.26720266, null, -1.6410028380000001, -1.3432622509999999, null, 0.0353169517, 0.8773470885, null, -1.26720266, -2.166339291, null]}],\n",
       "                        {\"margin\": {\"b\": 0, \"l\": 0, \"r\": 0, \"t\": 0}, \"scene\": {\"annotations\": [{\"showarrow\": false, \"text\": \"0\", \"x\": -0.0764282005, \"y\": 1.5585264419999998, \"yshift\": 15, \"z\": 0.011880698700000001}, {\"showarrow\": false, \"text\": \"1\", \"x\": -0.0429743247, \"y\": 0.022663006099999997, \"yshift\": 15, \"z\": -0.005812229}, {\"showarrow\": false, \"text\": \"2\", \"x\": -1.4875373669999998, \"y\": -0.5118011022, \"yshift\": 15, \"z\": 0.0353169517}, {\"showarrow\": false, \"text\": \"3\", \"x\": 0.6984965347, \"y\": -0.4656506153, \"yshift\": 15, \"z\": -1.26720266}, {\"showarrow\": false, \"text\": \"4\", \"x\": 0.7672342481000001, \"y\": -1.996968813, \"yshift\": 15, \"z\": -1.3432622509999999}, {\"showarrow\": false, \"text\": \"5\", \"x\": 1.1512918220000001, \"y\": -2.642060447, \"yshift\": 15, \"z\": -0.0219709}, {\"showarrow\": false, \"text\": \"6\", \"x\": 2.392220424, \"y\": -2.27190838, \"yshift\": 15, \"z\": 0.7044357494}, {\"showarrow\": false, \"text\": \"7\", \"x\": 1.088091678, \"y\": -1.899312249, \"yshift\": 15, \"z\": 1.249621305}, {\"showarrow\": false, \"text\": \"8\", \"x\": 0.7392569148999999, \"y\": -0.46628829340000005, \"yshift\": 15, \"z\": 1.2331543390000002}, {\"showarrow\": false, \"text\": \"9\", \"x\": 0.9308701070000001, \"y\": 1.980695939, \"yshift\": 15, \"z\": -0.07466263669999999}, {\"showarrow\": false, \"text\": \"10\", \"x\": -0.6746776604000001, \"y\": 1.946731391, \"yshift\": 15, \"z\": -0.8200549239}, {\"showarrow\": false, \"text\": \"11\", \"x\": -0.5185515927000001, \"y\": 1.9343898380000002, \"yshift\": 15, \"z\": 0.9416538140999999}, {\"showarrow\": false, \"text\": \"12\", \"x\": -2.0285418859999997, \"y\": -0.25513734039999997, \"yshift\": 15, \"z\": -0.882589995}, {\"showarrow\": false, \"text\": \"13\", \"x\": -1.522723531, \"y\": -1.59747679, \"yshift\": 15, \"z\": 0.1578093784}, {\"showarrow\": false, \"text\": \"14\", \"x\": -2.032286064, \"y\": -0.0713422926, \"yshift\": 15, \"z\": 0.8773470885}, {\"showarrow\": false, \"text\": \"15\", \"x\": 0.2050479309, \"y\": -0.0776663947, \"yshift\": 15, \"z\": -2.166339291}, {\"showarrow\": false, \"text\": \"16\", \"x\": 1.710306774, \"y\": -0.0389358199, \"yshift\": 15, \"z\": -1.26651104}, {\"showarrow\": false, \"text\": \"17\", \"x\": -0.213972297, \"y\": -2.383634884, \"yshift\": 15, \"z\": -1.6410028380000001}, {\"showarrow\": false, \"text\": \"18\", \"x\": 1.465389316, \"y\": -2.311651315, \"yshift\": 15, \"z\": -2.12848016}, {\"showarrow\": false, \"text\": \"19\", \"x\": 0.8066416634, \"y\": -3.670605112, \"yshift\": 15, \"z\": 0.0806350585}, {\"showarrow\": false, \"text\": \"20\", \"x\": 2.95062608, \"y\": -3.0158789660000003, \"yshift\": 15, \"z\": 1.2683552120000001}, {\"showarrow\": false, \"text\": \"21\", \"x\": 3.009058608, \"y\": -1.48023913, \"yshift\": 15, \"z\": 0.2789924545}, {\"showarrow\": false, \"text\": \"22\", \"x\": 1.656990173, \"y\": 0.1296325742, \"yshift\": 15, \"z\": 1.328507556}, {\"showarrow\": false, \"text\": \"23\", \"x\": 0.1434144393, \"y\": -0.2647965779, \"yshift\": 15, \"z\": 2.13270394}], \"xaxis\": {\"showgrid\": false, \"showticklabels\": false, \"title\": {\"font\": {\"color\": \"white\"}}, \"zeroline\": false}, \"yaxis\": {\"showgrid\": false, \"showticklabels\": false, \"title\": {\"font\": {\"color\": \"white\"}}, \"zeroline\": false}, \"zaxis\": {\"showgrid\": false, \"showticklabels\": false, \"title\": {\"font\": {\"color\": \"white\"}}, \"zeroline\": false}}, \"showlegend\": false, \"updatemenus\": [{\"buttons\": [{\"args\": [{\"scene.annotations\": [{\"showarrow\": false, \"text\": 0, \"x\": -0.0764282005, \"y\": 1.5585264419999998, \"yshift\": 15, \"z\": 0.011880698700000001}, {\"showarrow\": false, \"text\": 1, \"x\": -0.0429743247, \"y\": 0.022663006099999997, \"yshift\": 15, \"z\": -0.005812229}, {\"showarrow\": false, \"text\": 2, \"x\": -1.4875373669999998, \"y\": -0.5118011022, \"yshift\": 15, \"z\": 0.0353169517}, {\"showarrow\": false, \"text\": 3, \"x\": 0.6984965347, \"y\": -0.4656506153, \"yshift\": 15, \"z\": -1.26720266}, {\"showarrow\": false, \"text\": 4, \"x\": 0.7672342481000001, \"y\": -1.996968813, \"yshift\": 15, \"z\": -1.3432622509999999}, {\"showarrow\": false, \"text\": 5, \"x\": 1.1512918220000001, \"y\": -2.642060447, \"yshift\": 15, \"z\": -0.0219709}, {\"showarrow\": false, \"text\": 6, \"x\": 2.392220424, \"y\": -2.27190838, \"yshift\": 15, \"z\": 0.7044357494}, {\"showarrow\": false, \"text\": 7, \"x\": 1.088091678, \"y\": -1.899312249, \"yshift\": 15, \"z\": 1.249621305}, {\"showarrow\": false, \"text\": 8, \"x\": 0.7392569148999999, \"y\": -0.46628829340000005, \"yshift\": 15, \"z\": 1.2331543390000002}, {\"showarrow\": false, \"text\": 9, \"x\": 0.9308701070000001, \"y\": 1.980695939, \"yshift\": 15, \"z\": -0.07466263669999999}, {\"showarrow\": false, \"text\": 10, \"x\": -0.6746776604000001, \"y\": 1.946731391, \"yshift\": 15, \"z\": -0.8200549239}, {\"showarrow\": false, \"text\": 11, \"x\": -0.5185515927000001, \"y\": 1.9343898380000002, \"yshift\": 15, \"z\": 0.9416538140999999}, {\"showarrow\": false, \"text\": 12, \"x\": -2.0285418859999997, \"y\": -0.25513734039999997, \"yshift\": 15, \"z\": -0.882589995}, {\"showarrow\": false, \"text\": 13, \"x\": -1.522723531, \"y\": -1.59747679, \"yshift\": 15, \"z\": 0.1578093784}, {\"showarrow\": false, \"text\": 14, \"x\": -2.032286064, \"y\": -0.0713422926, \"yshift\": 15, \"z\": 0.8773470885}, {\"showarrow\": false, \"text\": 15, \"x\": 0.2050479309, \"y\": -0.0776663947, \"yshift\": 15, \"z\": -2.166339291}, {\"showarrow\": false, \"text\": 16, \"x\": 1.710306774, \"y\": -0.0389358199, \"yshift\": 15, \"z\": -1.26651104}, {\"showarrow\": false, \"text\": 17, \"x\": -0.213972297, \"y\": -2.383634884, \"yshift\": 15, \"z\": -1.6410028380000001}, {\"showarrow\": false, \"text\": 18, \"x\": 1.465389316, \"y\": -2.311651315, \"yshift\": 15, \"z\": -2.12848016}, {\"showarrow\": false, \"text\": 19, \"x\": 0.8066416634, \"y\": -3.670605112, \"yshift\": 15, \"z\": 0.0806350585}, {\"showarrow\": false, \"text\": 20, \"x\": 2.95062608, \"y\": -3.0158789660000003, \"yshift\": 15, \"z\": 1.2683552120000001}, {\"showarrow\": false, \"text\": 21, \"x\": 3.009058608, \"y\": -1.48023913, \"yshift\": 15, \"z\": 0.2789924545}, {\"showarrow\": false, \"text\": 22, \"x\": 1.656990173, \"y\": 0.1296325742, \"yshift\": 15, \"z\": 1.328507556}, {\"showarrow\": false, \"text\": 23, \"x\": 0.1434144393, \"y\": -0.2647965779, \"yshift\": 15, \"z\": 2.13270394}]}], \"label\": \"Atom indices\", \"method\": \"relayout\"}, {\"args\": [{\"scene.annotations\": [{\"showarrow\": false, \"text\": 1.54, \"x\": -0.0597012626, \"y\": 0.79059472405, \"yshift\": 15, \"z\": 0.00303423485}, {\"showarrow\": false, \"text\": 1.54, \"x\": -0.76525584585, \"y\": -0.24456904805, \"yshift\": 15, \"z\": 0.01475236135}, {\"showarrow\": false, \"text\": 1.53, \"x\": 0.7328653914, \"y\": -1.23130971415, \"yshift\": 15, \"z\": -1.3052324555}, {\"showarrow\": false, \"text\": 1.52, \"x\": 0.95926303505, \"y\": -2.31951463, \"yshift\": 15, \"z\": -0.6826165755}, {\"showarrow\": false, \"text\": 1.48, \"x\": 1.771756123, \"y\": -2.4569844135, \"yshift\": 15, \"z\": 0.3412324247}, {\"showarrow\": false, \"text\": 1.46, \"x\": 1.740156051, \"y\": -2.0856103145, \"yshift\": 15, \"z\": 0.9770285272}, {\"showarrow\": false, \"text\": 1.47, \"x\": 0.91367429645, \"y\": -1.1828002712, \"yshift\": 15, \"z\": 1.241387822}, {\"showarrow\": false, \"text\": 1.54, \"x\": 0.327761105, \"y\": -0.2214938046, \"yshift\": 15, \"z\": -0.6365074445}, {\"showarrow\": false, \"text\": 1.47, \"x\": 1.11969175, \"y\": -2.270686348, \"yshift\": 15, \"z\": 0.6138252025}, {\"showarrow\": false, \"text\": 1.54, \"x\": 0.3481412951, \"y\": -0.22181264365, \"yshift\": 15, \"z\": 0.613671055}, {\"showarrow\": false, \"text\": 1.1, \"x\": 0.42722095325, \"y\": 1.7696111905, \"yshift\": 15, \"z\": -0.031390969}, {\"showarrow\": false, \"text\": 1.09, \"x\": 2.700639516, \"y\": -1.876073755, \"yshift\": 15, \"z\": 0.49171410195}, {\"showarrow\": false, \"text\": 1.1, \"x\": 0.4413356771, \"y\": -0.36554243565, \"yshift\": 15, \"z\": 1.6829291395}, {\"showarrow\": false, \"text\": 1.1, \"x\": -0.37555293045, \"y\": 1.7526289165, \"yshift\": 15, \"z\": -0.4040871126}, {\"showarrow\": false, \"text\": 1.1, \"x\": -1.7580396265, \"y\": -0.3834692213, \"yshift\": 15, \"z\": -0.42363652165}, {\"showarrow\": false, \"text\": 1.1, \"x\": 1.11631178205, \"y\": -2.154310064, \"yshift\": 15, \"z\": -1.7358712055}, {\"showarrow\": false, \"text\": 1.09, \"x\": 0.9789667427, \"y\": -3.1563327795, \"yshift\": 15, \"z\": 0.02933207925}, {\"showarrow\": false, \"text\": 1.09, \"x\": 2.671423252, \"y\": -2.643893673, \"yshift\": 15, \"z\": 0.9863954807}, {\"showarrow\": false, \"text\": 1.1, \"x\": 1.19812354395, \"y\": -0.1683278596, \"yshift\": 15, \"z\": 1.2808309475}, {\"showarrow\": false, \"text\": 1.1, \"x\": -0.2974898966, \"y\": 1.74645814, \"yshift\": 15, \"z\": 0.4767672564}, {\"showarrow\": false, \"text\": 1.09, \"x\": -1.505130449, \"y\": -1.0546389461, \"yshift\": 15, \"z\": 0.09656316505}, {\"showarrow\": false, \"text\": 1.1, \"x\": 1.20440165435, \"y\": -0.2522932176, \"yshift\": 15, \"z\": -1.26685685}, {\"showarrow\": false, \"text\": 1.1, \"x\": 0.27663097555, \"y\": -2.1903018485, \"yshift\": 15, \"z\": -1.4921325445}, {\"showarrow\": false, \"text\": 1.1, \"x\": -1.7599117155, \"y\": -0.2915716974, \"yshift\": 15, \"z\": 0.4563320201}, {\"showarrow\": false, \"text\": 1.1, \"x\": 0.4517722328, \"y\": -0.271658505, \"yshift\": 15, \"z\": -1.7167709755}]}], \"label\": \"Bond lengths\", \"method\": \"relayout\"}, {\"args\": [{\"scene.annotations\": [{\"showarrow\": false, \"text\": 0, \"x\": -0.0764282005, \"y\": 1.5585264419999998, \"yshift\": 15, \"z\": 0.011880698700000001}, {\"showarrow\": false, \"text\": 1, \"x\": -0.0429743247, \"y\": 0.022663006099999997, \"yshift\": 15, \"z\": -0.005812229}, {\"showarrow\": false, \"text\": 2, \"x\": -1.4875373669999998, \"y\": -0.5118011022, \"yshift\": 15, \"z\": 0.0353169517}, {\"showarrow\": false, \"text\": 3, \"x\": 0.6984965347, \"y\": -0.4656506153, \"yshift\": 15, \"z\": -1.26720266}, {\"showarrow\": false, \"text\": 4, \"x\": 0.7672342481000001, \"y\": -1.996968813, \"yshift\": 15, \"z\": -1.3432622509999999}, {\"showarrow\": false, \"text\": 5, \"x\": 1.1512918220000001, \"y\": -2.642060447, \"yshift\": 15, \"z\": -0.0219709}, {\"showarrow\": false, \"text\": 6, \"x\": 2.392220424, \"y\": -2.27190838, \"yshift\": 15, \"z\": 0.7044357494}, {\"showarrow\": false, \"text\": 7, \"x\": 1.088091678, \"y\": -1.899312249, \"yshift\": 15, \"z\": 1.249621305}, {\"showarrow\": false, \"text\": 8, \"x\": 0.7392569148999999, \"y\": -0.46628829340000005, \"yshift\": 15, \"z\": 1.2331543390000002}, {\"showarrow\": false, \"text\": 9, \"x\": 0.9308701070000001, \"y\": 1.980695939, \"yshift\": 15, \"z\": -0.07466263669999999}, {\"showarrow\": false, \"text\": 10, \"x\": -0.6746776604000001, \"y\": 1.946731391, \"yshift\": 15, \"z\": -0.8200549239}, {\"showarrow\": false, \"text\": 11, \"x\": -0.5185515927000001, \"y\": 1.9343898380000002, \"yshift\": 15, \"z\": 0.9416538140999999}, {\"showarrow\": false, \"text\": 12, \"x\": -2.0285418859999997, \"y\": -0.25513734039999997, \"yshift\": 15, \"z\": -0.882589995}, {\"showarrow\": false, \"text\": 13, \"x\": -1.522723531, \"y\": -1.59747679, \"yshift\": 15, \"z\": 0.1578093784}, {\"showarrow\": false, \"text\": 14, \"x\": -2.032286064, \"y\": -0.0713422926, \"yshift\": 15, \"z\": 0.8773470885}, {\"showarrow\": false, \"text\": 15, \"x\": 0.2050479309, \"y\": -0.0776663947, \"yshift\": 15, \"z\": -2.166339291}, {\"showarrow\": false, \"text\": 16, \"x\": 1.710306774, \"y\": -0.0389358199, \"yshift\": 15, \"z\": -1.26651104}, {\"showarrow\": false, \"text\": 17, \"x\": -0.213972297, \"y\": -2.383634884, \"yshift\": 15, \"z\": -1.6410028380000001}, {\"showarrow\": false, \"text\": 18, \"x\": 1.465389316, \"y\": -2.311651315, \"yshift\": 15, \"z\": -2.12848016}, {\"showarrow\": false, \"text\": 19, \"x\": 0.8066416634, \"y\": -3.670605112, \"yshift\": 15, \"z\": 0.0806350585}, {\"showarrow\": false, \"text\": 20, \"x\": 2.95062608, \"y\": -3.0158789660000003, \"yshift\": 15, \"z\": 1.2683552120000001}, {\"showarrow\": false, \"text\": 21, \"x\": 3.009058608, \"y\": -1.48023913, \"yshift\": 15, \"z\": 0.2789924545}, {\"showarrow\": false, \"text\": 22, \"x\": 1.656990173, \"y\": 0.1296325742, \"yshift\": 15, \"z\": 1.328507556}, {\"showarrow\": false, \"text\": 23, \"x\": 0.1434144393, \"y\": -0.2647965779, \"yshift\": 15, \"z\": 2.13270394}, {\"showarrow\": false, \"text\": 1.54, \"x\": -0.0597012626, \"y\": 0.79059472405, \"yshift\": 15, \"z\": 0.00303423485}, {\"showarrow\": false, \"text\": 1.54, \"x\": -0.76525584585, \"y\": -0.24456904805, \"yshift\": 15, \"z\": 0.01475236135}, {\"showarrow\": false, \"text\": 1.53, \"x\": 0.7328653914, \"y\": -1.23130971415, \"yshift\": 15, \"z\": -1.3052324555}, {\"showarrow\": false, \"text\": 1.52, \"x\": 0.95926303505, \"y\": -2.31951463, \"yshift\": 15, \"z\": -0.6826165755}, {\"showarrow\": false, \"text\": 1.48, \"x\": 1.771756123, \"y\": -2.4569844135, \"yshift\": 15, \"z\": 0.3412324247}, {\"showarrow\": false, \"text\": 1.46, \"x\": 1.740156051, \"y\": -2.0856103145, \"yshift\": 15, \"z\": 0.9770285272}, {\"showarrow\": false, \"text\": 1.47, \"x\": 0.91367429645, \"y\": -1.1828002712, \"yshift\": 15, \"z\": 1.241387822}, {\"showarrow\": false, \"text\": 1.54, \"x\": 0.327761105, \"y\": -0.2214938046, \"yshift\": 15, \"z\": -0.6365074445}, {\"showarrow\": false, \"text\": 1.47, \"x\": 1.11969175, \"y\": -2.270686348, \"yshift\": 15, \"z\": 0.6138252025}, {\"showarrow\": false, \"text\": 1.54, \"x\": 0.3481412951, \"y\": -0.22181264365, \"yshift\": 15, \"z\": 0.613671055}, {\"showarrow\": false, \"text\": 1.1, \"x\": 0.42722095325, \"y\": 1.7696111905, \"yshift\": 15, \"z\": -0.031390969}, {\"showarrow\": false, \"text\": 1.09, \"x\": 2.700639516, \"y\": -1.876073755, \"yshift\": 15, \"z\": 0.49171410195}, {\"showarrow\": false, \"text\": 1.1, \"x\": 0.4413356771, \"y\": -0.36554243565, \"yshift\": 15, \"z\": 1.6829291395}, {\"showarrow\": false, \"text\": 1.1, \"x\": -0.37555293045, \"y\": 1.7526289165, \"yshift\": 15, \"z\": -0.4040871126}, {\"showarrow\": false, \"text\": 1.1, \"x\": -1.7580396265, \"y\": -0.3834692213, \"yshift\": 15, \"z\": -0.42363652165}, {\"showarrow\": false, \"text\": 1.1, \"x\": 1.11631178205, \"y\": -2.154310064, \"yshift\": 15, \"z\": -1.7358712055}, {\"showarrow\": false, \"text\": 1.09, \"x\": 0.9789667427, \"y\": -3.1563327795, \"yshift\": 15, \"z\": 0.02933207925}, {\"showarrow\": false, \"text\": 1.09, \"x\": 2.671423252, \"y\": -2.643893673, \"yshift\": 15, \"z\": 0.9863954807}, {\"showarrow\": false, \"text\": 1.1, \"x\": 1.19812354395, \"y\": -0.1683278596, \"yshift\": 15, \"z\": 1.2808309475}, {\"showarrow\": false, \"text\": 1.1, \"x\": -0.2974898966, \"y\": 1.74645814, \"yshift\": 15, \"z\": 0.4767672564}, {\"showarrow\": false, \"text\": 1.09, \"x\": -1.505130449, \"y\": -1.0546389461, \"yshift\": 15, \"z\": 0.09656316505}, {\"showarrow\": false, \"text\": 1.1, \"x\": 1.20440165435, \"y\": -0.2522932176, \"yshift\": 15, \"z\": -1.26685685}, {\"showarrow\": false, \"text\": 1.1, \"x\": 0.27663097555, \"y\": -2.1903018485, \"yshift\": 15, \"z\": -1.4921325445}, {\"showarrow\": false, \"text\": 1.1, \"x\": -1.7599117155, \"y\": -0.2915716974, \"yshift\": 15, \"z\": 0.4563320201}, {\"showarrow\": false, \"text\": 1.1, \"x\": 0.4517722328, \"y\": -0.271658505, \"yshift\": 15, \"z\": -1.7167709755}]}], \"label\": \"Atom indices & Bond lengths\", \"method\": \"relayout\"}, {\"args\": [{\"scene.annotations\": []}], \"label\": \"Hide all\", \"method\": \"relayout\"}], \"direction\": \"down\", \"xanchor\": \"left\", \"yanchor\": \"top\"}]},\n",
       "                        {\"showLink\": false, \"linkText\": \"Export to plot.ly\", \"plotlyServerURL\": \"https://plot.ly\", \"responsive\": true}\n",
       "                    ).then(function(){\n",
       "                            \n",
       "var gd = document.getElementById('8a1d28e4-7959-43f5-a7d2-b04c4bf34793');\n",
       "var x = new MutationObserver(function (mutations, observer) {{\n",
       "        var display = window.getComputedStyle(gd).display;\n",
       "        if (!display || display === 'none') {{\n",
       "            console.log([gd, 'removed!']);\n",
       "            Plotly.purge(gd);\n",
       "            observer.disconnect();\n",
       "        }}\n",
       "}});\n",
       "\n",
       "// Listen for the removal of the full notebook cells\n",
       "var notebookContainer = gd.closest('#notebook-container');\n",
       "if (notebookContainer) {{\n",
       "    x.observe(notebookContainer, {childList: true});\n",
       "}}\n",
       "\n",
       "// Listen for the clearing of the current output cell\n",
       "var outputEl = gd.closest('.output');\n",
       "if (outputEl) {{\n",
       "    x.observe(outputEl, {childList: true});\n",
       "}}\n",
       "\n",
       "                        })\n",
       "                };\n",
       "                });\n",
       "            </script>\n",
       "        </div>"
      ]
     },
     "metadata": {},
     "output_type": "display_data"
    }
   ],
   "source": [
    "plot_molecule('dsgdb9nsd_064272', structures)"
   ]
  },
  {
   "cell_type": "code",
   "execution_count": 10,
   "metadata": {},
   "outputs": [
    {
     "data": {
      "application/vnd.plotly.v1+json": {
       "config": {
        "linkText": "Export to plot.ly",
        "plotlyServerURL": "https://plot.ly",
        "showLink": false
       },
       "data": [
        {
         "marker": {
          "color": [
           "black",
           "black",
           "black",
           "black",
           "black",
           "black",
           "black",
           "black",
           "red",
           "white",
           "white",
           "white",
           "white",
           "white",
           "white",
           "white",
           "white",
           "white",
           "white",
           "white",
           "white",
           "white",
           "white"
          ],
          "line": {
           "color": "lightgray",
           "width": 2
          },
          "opacity": 0.8,
          "size": 7,
          "symbol": "circle"
         },
         "mode": "markers",
         "name": "",
         "text": [
          "C",
          "C",
          "C",
          "C",
          "C",
          "C",
          "C",
          "C",
          "O",
          "H",
          "H",
          "H",
          "H",
          "H",
          "H",
          "H",
          "H",
          "H",
          "H",
          "H",
          "H",
          "H",
          "H"
         ],
         "type": "scatter3d",
         "uid": "1b9ae6af-7ce3-4e07-b291-6781367155b6",
         "x": [
          -0.143085304,
          -0.00718051,
          1.062097106,
          2.4000153859999998,
          2.1175428480000003,
          2.410808781,
          0.649252985,
          0.8051565271,
          -0.392108196,
          0.81247466,
          -0.6751431136,
          -0.7275979217,
          -0.9832600574,
          0.9697464054,
          3.252651681,
          2.60215451,
          2.721898598,
          1.832151022,
          2.184617973,
          3.472117092,
          0.1251360924,
          1.650552866,
          -0.322842698
         ],
         "y": [
          1.638915986,
          0.12278348119999999,
          -0.6362691561,
          -0.1027554631,
          -0.2193850731,
          1.016167251,
          -0.6968781626999999,
          -1.8376884999999998,
          -2.55862204,
          2.167714623,
          1.9415570359999998,
          2.003043961,
          -0.3232470193,
          -0.7450332759,
          -0.7128968947,
          0.9263671112,
          -1.0382297440000001,
          1.890529858,
          0.8222723677,
          1.281970958,
          -0.8753884184,
          -2.523759625,
          -3.0271394610000004
         ],
         "z": [
          -0.059009884000000005,
          -0.0211432785,
          -0.8680262671,
          -0.3179699178,
          1.224467699,
          2.075019871,
          1.145550998,
          0.0983962643,
          -0.09568307890000001,
          -0.0552036801,
          -0.9684923728,
          0.7935441143,
          -0.21819229010000002,
          -1.9517086559999999,
          -0.6320989753,
          -0.6306752125,
          1.6344319109999998,
          1.770496334,
          3.129477573,
          2.011139735,
          2.086117151,
          0.2554627033,
          -0.9334951225
         ]
        },
        {
         "hoverinfo": "none",
         "marker": {
          "color": "grey",
          "opacity": 1,
          "size": 7
         },
         "mode": "lines",
         "type": "scatter3d",
         "uid": "e564c7ba-bf89-4791-a731-5cf239bc504e",
         "x": [
          -0.143085304,
          -0.00718051,
          null,
          -0.00718051,
          1.062097106,
          null,
          1.062097106,
          2.4000153859999998,
          null,
          2.4000153859999998,
          2.1175428480000003,
          null,
          2.1175428480000003,
          2.410808781,
          null,
          0.649252985,
          0.8051565271,
          null,
          -0.392108196,
          0.8051565271,
          null,
          2.1175428480000003,
          0.649252985,
          null,
          -0.00718051,
          0.649252985,
          null,
          1.062097106,
          0.8051565271,
          null,
          -0.143085304,
          0.81247466,
          null,
          3.472117092,
          2.410808781,
          null,
          0.1251360924,
          0.649252985,
          null,
          1.650552866,
          0.8051565271,
          null,
          -0.392108196,
          -0.322842698,
          null,
          -0.143085304,
          -0.6751431136,
          null,
          2.184617973,
          2.410808781,
          null,
          -0.143085304,
          -0.7275979217,
          null,
          -0.00718051,
          -0.9832600574,
          null,
          1.062097106,
          0.9697464054,
          null,
          2.4000153859999998,
          3.252651681,
          null,
          2.4000153859999998,
          2.60215451,
          null,
          2.721898598,
          2.1175428480000003,
          null,
          1.832151022,
          2.410808781,
          null
         ],
         "y": [
          1.638915986,
          0.12278348119999999,
          null,
          0.12278348119999999,
          -0.6362691561,
          null,
          -0.6362691561,
          -0.1027554631,
          null,
          -0.1027554631,
          -0.2193850731,
          null,
          -0.2193850731,
          1.016167251,
          null,
          -0.6968781626999999,
          -1.8376884999999998,
          null,
          -2.55862204,
          -1.8376884999999998,
          null,
          -0.2193850731,
          -0.6968781626999999,
          null,
          0.12278348119999999,
          -0.6968781626999999,
          null,
          -0.6362691561,
          -1.8376884999999998,
          null,
          1.638915986,
          2.167714623,
          null,
          1.281970958,
          1.016167251,
          null,
          -0.8753884184,
          -0.6968781626999999,
          null,
          -2.523759625,
          -1.8376884999999998,
          null,
          -2.55862204,
          -3.0271394610000004,
          null,
          1.638915986,
          1.9415570359999998,
          null,
          0.8222723677,
          1.016167251,
          null,
          1.638915986,
          2.003043961,
          null,
          0.12278348119999999,
          -0.3232470193,
          null,
          -0.6362691561,
          -0.7450332759,
          null,
          -0.1027554631,
          -0.7128968947,
          null,
          -0.1027554631,
          0.9263671112,
          null,
          -1.0382297440000001,
          -0.2193850731,
          null,
          1.890529858,
          1.016167251,
          null
         ],
         "z": [
          -0.059009884000000005,
          -0.0211432785,
          null,
          -0.0211432785,
          -0.8680262671,
          null,
          -0.8680262671,
          -0.3179699178,
          null,
          -0.3179699178,
          1.224467699,
          null,
          1.224467699,
          2.075019871,
          null,
          1.145550998,
          0.0983962643,
          null,
          -0.09568307890000001,
          0.0983962643,
          null,
          1.224467699,
          1.145550998,
          null,
          -0.0211432785,
          1.145550998,
          null,
          -0.8680262671,
          0.0983962643,
          null,
          -0.059009884000000005,
          -0.0552036801,
          null,
          2.011139735,
          2.075019871,
          null,
          2.086117151,
          1.145550998,
          null,
          0.2554627033,
          0.0983962643,
          null,
          -0.09568307890000001,
          -0.9334951225,
          null,
          -0.059009884000000005,
          -0.9684923728,
          null,
          3.129477573,
          2.075019871,
          null,
          -0.059009884000000005,
          0.7935441143,
          null,
          -0.0211432785,
          -0.21819229010000002,
          null,
          -0.8680262671,
          -1.9517086559999999,
          null,
          -0.3179699178,
          -0.6320989753,
          null,
          -0.3179699178,
          -0.6306752125,
          null,
          1.6344319109999998,
          1.224467699,
          null,
          1.770496334,
          2.075019871,
          null
         ]
        }
       ],
       "layout": {
        "margin": {
         "b": 0,
         "l": 0,
         "r": 0,
         "t": 0
        },
        "scene": {
         "annotations": [
          {
           "showarrow": false,
           "text": "0",
           "x": -0.143085304,
           "y": 1.638915986,
           "yshift": 15,
           "z": -0.059009884000000005
          },
          {
           "showarrow": false,
           "text": "1",
           "x": -0.00718051,
           "y": 0.12278348119999999,
           "yshift": 15,
           "z": -0.0211432785
          },
          {
           "showarrow": false,
           "text": "2",
           "x": 1.062097106,
           "y": -0.6362691561,
           "yshift": 15,
           "z": -0.8680262671
          },
          {
           "showarrow": false,
           "text": "3",
           "x": 2.4000153859999998,
           "y": -0.1027554631,
           "yshift": 15,
           "z": -0.3179699178
          },
          {
           "showarrow": false,
           "text": "4",
           "x": 2.1175428480000003,
           "y": -0.2193850731,
           "yshift": 15,
           "z": 1.224467699
          },
          {
           "showarrow": false,
           "text": "5",
           "x": 2.410808781,
           "y": 1.016167251,
           "yshift": 15,
           "z": 2.075019871
          },
          {
           "showarrow": false,
           "text": "6",
           "x": 0.649252985,
           "y": -0.6968781626999999,
           "yshift": 15,
           "z": 1.145550998
          },
          {
           "showarrow": false,
           "text": "7",
           "x": 0.8051565271,
           "y": -1.8376884999999998,
           "yshift": 15,
           "z": 0.0983962643
          },
          {
           "showarrow": false,
           "text": "8",
           "x": -0.392108196,
           "y": -2.55862204,
           "yshift": 15,
           "z": -0.09568307890000001
          },
          {
           "showarrow": false,
           "text": "9",
           "x": 0.81247466,
           "y": 2.167714623,
           "yshift": 15,
           "z": -0.0552036801
          },
          {
           "showarrow": false,
           "text": "10",
           "x": -0.6751431136,
           "y": 1.9415570359999998,
           "yshift": 15,
           "z": -0.9684923728
          },
          {
           "showarrow": false,
           "text": "11",
           "x": -0.7275979217,
           "y": 2.003043961,
           "yshift": 15,
           "z": 0.7935441143
          },
          {
           "showarrow": false,
           "text": "12",
           "x": -0.9832600574,
           "y": -0.3232470193,
           "yshift": 15,
           "z": -0.21819229010000002
          },
          {
           "showarrow": false,
           "text": "13",
           "x": 0.9697464054,
           "y": -0.7450332759,
           "yshift": 15,
           "z": -1.9517086559999999
          },
          {
           "showarrow": false,
           "text": "14",
           "x": 3.252651681,
           "y": -0.7128968947,
           "yshift": 15,
           "z": -0.6320989753
          },
          {
           "showarrow": false,
           "text": "15",
           "x": 2.60215451,
           "y": 0.9263671112,
           "yshift": 15,
           "z": -0.6306752125
          },
          {
           "showarrow": false,
           "text": "16",
           "x": 2.721898598,
           "y": -1.0382297440000001,
           "yshift": 15,
           "z": 1.6344319109999998
          },
          {
           "showarrow": false,
           "text": "17",
           "x": 1.832151022,
           "y": 1.890529858,
           "yshift": 15,
           "z": 1.770496334
          },
          {
           "showarrow": false,
           "text": "18",
           "x": 2.184617973,
           "y": 0.8222723677,
           "yshift": 15,
           "z": 3.129477573
          },
          {
           "showarrow": false,
           "text": "19",
           "x": 3.472117092,
           "y": 1.281970958,
           "yshift": 15,
           "z": 2.011139735
          },
          {
           "showarrow": false,
           "text": "20",
           "x": 0.1251360924,
           "y": -0.8753884184,
           "yshift": 15,
           "z": 2.086117151
          },
          {
           "showarrow": false,
           "text": "21",
           "x": 1.650552866,
           "y": -2.523759625,
           "yshift": 15,
           "z": 0.2554627033
          },
          {
           "showarrow": false,
           "text": "22",
           "x": -0.322842698,
           "y": -3.0271394610000004,
           "yshift": 15,
           "z": -0.9334951225
          }
         ],
         "aspectmode": "auto",
         "aspectratio": {
          "x": 0.9093760110120317,
          "y": 1.0603088192732837,
          "z": 1.0371083545103588
         },
         "xaxis": {
          "showgrid": false,
          "showticklabels": false,
          "title": {
           "font": {
            "color": "white"
           }
          },
          "type": "linear",
          "zeroline": false
         },
         "yaxis": {
          "showgrid": false,
          "showticklabels": false,
          "title": {
           "font": {
            "color": "white"
           }
          },
          "type": "linear",
          "zeroline": false
         },
         "zaxis": {
          "showgrid": false,
          "showticklabels": false,
          "title": {
           "font": {
            "color": "white"
           }
          },
          "type": "linear",
          "zeroline": false
         }
        },
        "showlegend": false,
        "updatemenus": [
         {
          "buttons": [
           {
            "args": [
             {
              "scene.annotations": [
               {
                "showarrow": false,
                "text": 0,
                "x": -0.143085304,
                "y": 1.638915986,
                "yshift": 15,
                "z": -0.059009884000000005
               },
               {
                "showarrow": false,
                "text": 1,
                "x": -0.00718051,
                "y": 0.12278348119999999,
                "yshift": 15,
                "z": -0.0211432785
               },
               {
                "showarrow": false,
                "text": 2,
                "x": 1.062097106,
                "y": -0.6362691561,
                "yshift": 15,
                "z": -0.8680262671
               },
               {
                "showarrow": false,
                "text": 3,
                "x": 2.4000153859999998,
                "y": -0.1027554631,
                "yshift": 15,
                "z": -0.3179699178
               },
               {
                "showarrow": false,
                "text": 4,
                "x": 2.1175428480000003,
                "y": -0.2193850731,
                "yshift": 15,
                "z": 1.224467699
               },
               {
                "showarrow": false,
                "text": 5,
                "x": 2.410808781,
                "y": 1.016167251,
                "yshift": 15,
                "z": 2.075019871
               },
               {
                "showarrow": false,
                "text": 6,
                "x": 0.649252985,
                "y": -0.6968781626999999,
                "yshift": 15,
                "z": 1.145550998
               },
               {
                "showarrow": false,
                "text": 7,
                "x": 0.8051565271,
                "y": -1.8376884999999998,
                "yshift": 15,
                "z": 0.0983962643
               },
               {
                "showarrow": false,
                "text": 8,
                "x": -0.392108196,
                "y": -2.55862204,
                "yshift": 15,
                "z": -0.09568307890000001
               },
               {
                "showarrow": false,
                "text": 9,
                "x": 0.81247466,
                "y": 2.167714623,
                "yshift": 15,
                "z": -0.0552036801
               },
               {
                "showarrow": false,
                "text": 10,
                "x": -0.6751431136,
                "y": 1.9415570359999998,
                "yshift": 15,
                "z": -0.9684923728
               },
               {
                "showarrow": false,
                "text": 11,
                "x": -0.7275979217,
                "y": 2.003043961,
                "yshift": 15,
                "z": 0.7935441143
               },
               {
                "showarrow": false,
                "text": 12,
                "x": -0.9832600574,
                "y": -0.3232470193,
                "yshift": 15,
                "z": -0.21819229010000002
               },
               {
                "showarrow": false,
                "text": 13,
                "x": 0.9697464054,
                "y": -0.7450332759,
                "yshift": 15,
                "z": -1.9517086559999999
               },
               {
                "showarrow": false,
                "text": 14,
                "x": 3.252651681,
                "y": -0.7128968947,
                "yshift": 15,
                "z": -0.6320989753
               },
               {
                "showarrow": false,
                "text": 15,
                "x": 2.60215451,
                "y": 0.9263671112,
                "yshift": 15,
                "z": -0.6306752125
               },
               {
                "showarrow": false,
                "text": 16,
                "x": 2.721898598,
                "y": -1.0382297440000001,
                "yshift": 15,
                "z": 1.6344319109999998
               },
               {
                "showarrow": false,
                "text": 17,
                "x": 1.832151022,
                "y": 1.890529858,
                "yshift": 15,
                "z": 1.770496334
               },
               {
                "showarrow": false,
                "text": 18,
                "x": 2.184617973,
                "y": 0.8222723677,
                "yshift": 15,
                "z": 3.129477573
               },
               {
                "showarrow": false,
                "text": 19,
                "x": 3.472117092,
                "y": 1.281970958,
                "yshift": 15,
                "z": 2.011139735
               },
               {
                "showarrow": false,
                "text": 20,
                "x": 0.1251360924,
                "y": -0.8753884184,
                "yshift": 15,
                "z": 2.086117151
               },
               {
                "showarrow": false,
                "text": 21,
                "x": 1.650552866,
                "y": -2.523759625,
                "yshift": 15,
                "z": 0.2554627033
               },
               {
                "showarrow": false,
                "text": 22,
                "x": -0.322842698,
                "y": -3.0271394610000004,
                "yshift": 15,
                "z": -0.9334951225
               }
              ]
             }
            ],
            "label": "Atom indices",
            "method": "relayout"
           },
           {
            "args": [
             {
              "scene.annotations": [
               {
                "showarrow": false,
                "text": 1.52,
                "x": -0.075132907,
                "y": 0.8808497336,
                "yshift": 15,
                "z": -0.04007658125
               },
               {
                "showarrow": false,
                "text": 1.56,
                "x": 0.527458298,
                "y": -0.25674283745,
                "yshift": 15,
                "z": -0.4445847728
               },
               {
                "showarrow": false,
                "text": 1.54,
                "x": 1.731056246,
                "y": -0.3695123096,
                "yshift": 15,
                "z": -0.59299809245
               },
               {
                "showarrow": false,
                "text": 1.57,
                "x": 2.258779117,
                "y": -0.1610702681,
                "yshift": 15,
                "z": 0.4532488906
               },
               {
                "showarrow": false,
                "text": 1.53,
                "x": 2.2641758145,
                "y": 0.39839108895,
                "yshift": 15,
                "z": 1.649743785
               },
               {
                "showarrow": false,
                "text": 1.56,
                "x": 0.72720475605,
                "y": -1.26728333135,
                "yshift": 15,
                "z": 0.62197363115
               },
               {
                "showarrow": false,
                "text": 1.41,
                "x": 0.20652416555,
                "y": -2.19815527,
                "yshift": 15,
                "z": 0.0013565927
               },
               {
                "showarrow": false,
                "text": 1.55,
                "x": 1.3833979165,
                "y": -0.4581316179,
                "yshift": 15,
                "z": 1.1850093485
               },
               {
                "showarrow": false,
                "text": 1.57,
                "x": 0.3210362375,
                "y": -0.28704734075,
                "yshift": 15,
                "z": 0.56220385975
               },
               {
                "showarrow": false,
                "text": 1.56,
                "x": 0.93362681655,
                "y": -1.23697882805,
                "yshift": 15,
                "z": -0.3848150014
               },
               {
                "showarrow": false,
                "text": 1.09,
                "x": 0.334694678,
                "y": 1.9033153045,
                "yshift": 15,
                "z": -0.05710678205
               },
               {
                "showarrow": false,
                "text": 1.1,
                "x": 2.9414629365,
                "y": 1.1490691045,
                "yshift": 15,
                "z": 2.043079803
               },
               {
                "showarrow": false,
                "text": 1.09,
                "x": 0.3871945387,
                "y": -0.78613329055,
                "yshift": 15,
                "z": 1.6158340745
               },
               {
                "showarrow": false,
                "text": 1.1,
                "x": 1.22785469655,
                "y": -2.1807240625,
                "yshift": 15,
                "z": 0.1769294838
               },
               {
                "showarrow": false,
                "text": 0.96,
                "x": -0.357475447,
                "y": -2.7928807505,
                "yshift": 15,
                "z": -0.5145891007
               },
               {
                "showarrow": false,
                "text": 1.1,
                "x": -0.4091142088,
                "y": 1.790236511,
                "yshift": 15,
                "z": -0.5137511284
               },
               {
                "showarrow": false,
                "text": 1.1,
                "x": 2.297713377,
                "y": 0.91921980935,
                "yshift": 15,
                "z": 2.602248722
               },
               {
                "showarrow": false,
                "text": 1.1,
                "x": -0.43534161285,
                "y": 1.8209799735,
                "yshift": 15,
                "z": 0.36726711515
               },
               {
                "showarrow": false,
                "text": 1.09,
                "x": -0.4952202837,
                "y": -0.10023176905,
                "yshift": 15,
                "z": -0.1196677843
               },
               {
                "showarrow": false,
                "text": 1.09,
                "x": 1.0159217557,
                "y": -0.690651216,
                "yshift": 15,
                "z": -1.40986746155
               },
               {
                "showarrow": false,
                "text": 1.09,
                "x": 2.8263335335,
                "y": -0.4078261789,
                "yshift": 15,
                "z": -0.47503444655
               },
               {
                "showarrow": false,
                "text": 1.09,
                "x": 2.501084948,
                "y": 0.41180582405,
                "yshift": 15,
                "z": -0.47432256515
               },
               {
                "showarrow": false,
                "text": 1.1,
                "x": 2.419720723,
                "y": -0.62880740855,
                "yshift": 15,
                "z": 1.429449805
               },
               {
                "showarrow": false,
                "text": 1.09,
                "x": 2.1214799015,
                "y": 1.4533485545,
                "yshift": 15,
                "z": 1.9227581025
               }
              ]
             }
            ],
            "label": "Bond lengths",
            "method": "relayout"
           },
           {
            "args": [
             {
              "scene.annotations": [
               {
                "showarrow": false,
                "text": 0,
                "x": -0.143085304,
                "y": 1.638915986,
                "yshift": 15,
                "z": -0.059009884000000005
               },
               {
                "showarrow": false,
                "text": 1,
                "x": -0.00718051,
                "y": 0.12278348119999999,
                "yshift": 15,
                "z": -0.0211432785
               },
               {
                "showarrow": false,
                "text": 2,
                "x": 1.062097106,
                "y": -0.6362691561,
                "yshift": 15,
                "z": -0.8680262671
               },
               {
                "showarrow": false,
                "text": 3,
                "x": 2.4000153859999998,
                "y": -0.1027554631,
                "yshift": 15,
                "z": -0.3179699178
               },
               {
                "showarrow": false,
                "text": 4,
                "x": 2.1175428480000003,
                "y": -0.2193850731,
                "yshift": 15,
                "z": 1.224467699
               },
               {
                "showarrow": false,
                "text": 5,
                "x": 2.410808781,
                "y": 1.016167251,
                "yshift": 15,
                "z": 2.075019871
               },
               {
                "showarrow": false,
                "text": 6,
                "x": 0.649252985,
                "y": -0.6968781626999999,
                "yshift": 15,
                "z": 1.145550998
               },
               {
                "showarrow": false,
                "text": 7,
                "x": 0.8051565271,
                "y": -1.8376884999999998,
                "yshift": 15,
                "z": 0.0983962643
               },
               {
                "showarrow": false,
                "text": 8,
                "x": -0.392108196,
                "y": -2.55862204,
                "yshift": 15,
                "z": -0.09568307890000001
               },
               {
                "showarrow": false,
                "text": 9,
                "x": 0.81247466,
                "y": 2.167714623,
                "yshift": 15,
                "z": -0.0552036801
               },
               {
                "showarrow": false,
                "text": 10,
                "x": -0.6751431136,
                "y": 1.9415570359999998,
                "yshift": 15,
                "z": -0.9684923728
               },
               {
                "showarrow": false,
                "text": 11,
                "x": -0.7275979217,
                "y": 2.003043961,
                "yshift": 15,
                "z": 0.7935441143
               },
               {
                "showarrow": false,
                "text": 12,
                "x": -0.9832600574,
                "y": -0.3232470193,
                "yshift": 15,
                "z": -0.21819229010000002
               },
               {
                "showarrow": false,
                "text": 13,
                "x": 0.9697464054,
                "y": -0.7450332759,
                "yshift": 15,
                "z": -1.9517086559999999
               },
               {
                "showarrow": false,
                "text": 14,
                "x": 3.252651681,
                "y": -0.7128968947,
                "yshift": 15,
                "z": -0.6320989753
               },
               {
                "showarrow": false,
                "text": 15,
                "x": 2.60215451,
                "y": 0.9263671112,
                "yshift": 15,
                "z": -0.6306752125
               },
               {
                "showarrow": false,
                "text": 16,
                "x": 2.721898598,
                "y": -1.0382297440000001,
                "yshift": 15,
                "z": 1.6344319109999998
               },
               {
                "showarrow": false,
                "text": 17,
                "x": 1.832151022,
                "y": 1.890529858,
                "yshift": 15,
                "z": 1.770496334
               },
               {
                "showarrow": false,
                "text": 18,
                "x": 2.184617973,
                "y": 0.8222723677,
                "yshift": 15,
                "z": 3.129477573
               },
               {
                "showarrow": false,
                "text": 19,
                "x": 3.472117092,
                "y": 1.281970958,
                "yshift": 15,
                "z": 2.011139735
               },
               {
                "showarrow": false,
                "text": 20,
                "x": 0.1251360924,
                "y": -0.8753884184,
                "yshift": 15,
                "z": 2.086117151
               },
               {
                "showarrow": false,
                "text": 21,
                "x": 1.650552866,
                "y": -2.523759625,
                "yshift": 15,
                "z": 0.2554627033
               },
               {
                "showarrow": false,
                "text": 22,
                "x": -0.322842698,
                "y": -3.0271394610000004,
                "yshift": 15,
                "z": -0.9334951225
               },
               {
                "showarrow": false,
                "text": 1.52,
                "x": -0.075132907,
                "y": 0.8808497336,
                "yshift": 15,
                "z": -0.04007658125
               },
               {
                "showarrow": false,
                "text": 1.56,
                "x": 0.527458298,
                "y": -0.25674283745,
                "yshift": 15,
                "z": -0.4445847728
               },
               {
                "showarrow": false,
                "text": 1.54,
                "x": 1.731056246,
                "y": -0.3695123096,
                "yshift": 15,
                "z": -0.59299809245
               },
               {
                "showarrow": false,
                "text": 1.57,
                "x": 2.258779117,
                "y": -0.1610702681,
                "yshift": 15,
                "z": 0.4532488906
               },
               {
                "showarrow": false,
                "text": 1.53,
                "x": 2.2641758145,
                "y": 0.39839108895,
                "yshift": 15,
                "z": 1.649743785
               },
               {
                "showarrow": false,
                "text": 1.56,
                "x": 0.72720475605,
                "y": -1.26728333135,
                "yshift": 15,
                "z": 0.62197363115
               },
               {
                "showarrow": false,
                "text": 1.41,
                "x": 0.20652416555,
                "y": -2.19815527,
                "yshift": 15,
                "z": 0.0013565927
               },
               {
                "showarrow": false,
                "text": 1.55,
                "x": 1.3833979165,
                "y": -0.4581316179,
                "yshift": 15,
                "z": 1.1850093485
               },
               {
                "showarrow": false,
                "text": 1.57,
                "x": 0.3210362375,
                "y": -0.28704734075,
                "yshift": 15,
                "z": 0.56220385975
               },
               {
                "showarrow": false,
                "text": 1.56,
                "x": 0.93362681655,
                "y": -1.23697882805,
                "yshift": 15,
                "z": -0.3848150014
               },
               {
                "showarrow": false,
                "text": 1.09,
                "x": 0.334694678,
                "y": 1.9033153045,
                "yshift": 15,
                "z": -0.05710678205
               },
               {
                "showarrow": false,
                "text": 1.1,
                "x": 2.9414629365,
                "y": 1.1490691045,
                "yshift": 15,
                "z": 2.043079803
               },
               {
                "showarrow": false,
                "text": 1.09,
                "x": 0.3871945387,
                "y": -0.78613329055,
                "yshift": 15,
                "z": 1.6158340745
               },
               {
                "showarrow": false,
                "text": 1.1,
                "x": 1.22785469655,
                "y": -2.1807240625,
                "yshift": 15,
                "z": 0.1769294838
               },
               {
                "showarrow": false,
                "text": 0.96,
                "x": -0.357475447,
                "y": -2.7928807505,
                "yshift": 15,
                "z": -0.5145891007
               },
               {
                "showarrow": false,
                "text": 1.1,
                "x": -0.4091142088,
                "y": 1.790236511,
                "yshift": 15,
                "z": -0.5137511284
               },
               {
                "showarrow": false,
                "text": 1.1,
                "x": 2.297713377,
                "y": 0.91921980935,
                "yshift": 15,
                "z": 2.602248722
               },
               {
                "showarrow": false,
                "text": 1.1,
                "x": -0.43534161285,
                "y": 1.8209799735,
                "yshift": 15,
                "z": 0.36726711515
               },
               {
                "showarrow": false,
                "text": 1.09,
                "x": -0.4952202837,
                "y": -0.10023176905,
                "yshift": 15,
                "z": -0.1196677843
               },
               {
                "showarrow": false,
                "text": 1.09,
                "x": 1.0159217557,
                "y": -0.690651216,
                "yshift": 15,
                "z": -1.40986746155
               },
               {
                "showarrow": false,
                "text": 1.09,
                "x": 2.8263335335,
                "y": -0.4078261789,
                "yshift": 15,
                "z": -0.47503444655
               },
               {
                "showarrow": false,
                "text": 1.09,
                "x": 2.501084948,
                "y": 0.41180582405,
                "yshift": 15,
                "z": -0.47432256515
               },
               {
                "showarrow": false,
                "text": 1.1,
                "x": 2.419720723,
                "y": -0.62880740855,
                "yshift": 15,
                "z": 1.429449805
               },
               {
                "showarrow": false,
                "text": 1.09,
                "x": 2.1214799015,
                "y": 1.4533485545,
                "yshift": 15,
                "z": 1.9227581025
               }
              ]
             }
            ],
            "label": "Atom indices & Bond lengths",
            "method": "relayout"
           },
           {
            "args": [
             {
              "scene.annotations": []
             }
            ],
            "label": "Hide all",
            "method": "relayout"
           }
          ],
          "direction": "down",
          "xanchor": "left",
          "yanchor": "top"
         }
        ]
       }
      },
      "text/html": [
       "<div>\n",
       "        \n",
       "        \n",
       "            <div id=\"4cf9ce59-d65c-46c4-a787-a3f56940e690\" class=\"plotly-graph-div\" style=\"height:525px; width:100%;\"></div>\n",
       "            <script type=\"text/javascript\">\n",
       "                require([\"plotly\"], function(Plotly) {\n",
       "                    window.PLOTLYENV=window.PLOTLYENV || {};\n",
       "                    window.PLOTLYENV.BASE_URL='https://plot.ly';\n",
       "                    \n",
       "                if (document.getElementById(\"4cf9ce59-d65c-46c4-a787-a3f56940e690\")) {\n",
       "                    Plotly.newPlot(\n",
       "                        '4cf9ce59-d65c-46c4-a787-a3f56940e690',\n",
       "                        [{\"marker\": {\"color\": [\"black\", \"black\", \"black\", \"black\", \"black\", \"black\", \"black\", \"black\", \"red\", \"white\", \"white\", \"white\", \"white\", \"white\", \"white\", \"white\", \"white\", \"white\", \"white\", \"white\", \"white\", \"white\", \"white\"], \"line\": {\"color\": \"lightgray\", \"width\": 2}, \"opacity\": 0.8, \"size\": 7, \"symbol\": \"circle\"}, \"mode\": \"markers\", \"name\": \"\", \"text\": [\"C\", \"C\", \"C\", \"C\", \"C\", \"C\", \"C\", \"C\", \"O\", \"H\", \"H\", \"H\", \"H\", \"H\", \"H\", \"H\", \"H\", \"H\", \"H\", \"H\", \"H\", \"H\", \"H\"], \"type\": \"scatter3d\", \"uid\": \"1b9ae6af-7ce3-4e07-b291-6781367155b6\", \"x\": [-0.143085304, -0.00718051, 1.062097106, 2.4000153859999998, 2.1175428480000003, 2.410808781, 0.649252985, 0.8051565271, -0.392108196, 0.81247466, -0.6751431136, -0.7275979217, -0.9832600574, 0.9697464054, 3.252651681, 2.60215451, 2.721898598, 1.832151022, 2.184617973, 3.472117092, 0.1251360924, 1.650552866, -0.322842698], \"y\": [1.638915986, 0.12278348119999999, -0.6362691561, -0.1027554631, -0.2193850731, 1.016167251, -0.6968781626999999, -1.8376884999999998, -2.55862204, 2.167714623, 1.9415570359999998, 2.003043961, -0.3232470193, -0.7450332759, -0.7128968947, 0.9263671112, -1.0382297440000001, 1.890529858, 0.8222723677, 1.281970958, -0.8753884184, -2.523759625, -3.0271394610000004], \"z\": [-0.059009884000000005, -0.0211432785, -0.8680262671, -0.3179699178, 1.224467699, 2.075019871, 1.145550998, 0.0983962643, -0.09568307890000001, -0.0552036801, -0.9684923728, 0.7935441143, -0.21819229010000002, -1.9517086559999999, -0.6320989753, -0.6306752125, 1.6344319109999998, 1.770496334, 3.129477573, 2.011139735, 2.086117151, 0.2554627033, -0.9334951225]}, {\"hoverinfo\": \"none\", \"marker\": {\"color\": \"grey\", \"opacity\": 1, \"size\": 7}, \"mode\": \"lines\", \"type\": \"scatter3d\", \"uid\": \"e564c7ba-bf89-4791-a731-5cf239bc504e\", \"x\": [-0.143085304, -0.00718051, null, -0.00718051, 1.062097106, null, 1.062097106, 2.4000153859999998, null, 2.4000153859999998, 2.1175428480000003, null, 2.1175428480000003, 2.410808781, null, 0.649252985, 0.8051565271, null, -0.392108196, 0.8051565271, null, 2.1175428480000003, 0.649252985, null, -0.00718051, 0.649252985, null, 1.062097106, 0.8051565271, null, -0.143085304, 0.81247466, null, 3.472117092, 2.410808781, null, 0.1251360924, 0.649252985, null, 1.650552866, 0.8051565271, null, -0.392108196, -0.322842698, null, -0.143085304, -0.6751431136, null, 2.184617973, 2.410808781, null, -0.143085304, -0.7275979217, null, -0.00718051, -0.9832600574, null, 1.062097106, 0.9697464054, null, 2.4000153859999998, 3.252651681, null, 2.4000153859999998, 2.60215451, null, 2.721898598, 2.1175428480000003, null, 1.832151022, 2.410808781, null], \"y\": [1.638915986, 0.12278348119999999, null, 0.12278348119999999, -0.6362691561, null, -0.6362691561, -0.1027554631, null, -0.1027554631, -0.2193850731, null, -0.2193850731, 1.016167251, null, -0.6968781626999999, -1.8376884999999998, null, -2.55862204, -1.8376884999999998, null, -0.2193850731, -0.6968781626999999, null, 0.12278348119999999, -0.6968781626999999, null, -0.6362691561, -1.8376884999999998, null, 1.638915986, 2.167714623, null, 1.281970958, 1.016167251, null, -0.8753884184, -0.6968781626999999, null, -2.523759625, -1.8376884999999998, null, -2.55862204, -3.0271394610000004, null, 1.638915986, 1.9415570359999998, null, 0.8222723677, 1.016167251, null, 1.638915986, 2.003043961, null, 0.12278348119999999, -0.3232470193, null, -0.6362691561, -0.7450332759, null, -0.1027554631, -0.7128968947, null, -0.1027554631, 0.9263671112, null, -1.0382297440000001, -0.2193850731, null, 1.890529858, 1.016167251, null], \"z\": [-0.059009884000000005, -0.0211432785, null, -0.0211432785, -0.8680262671, null, -0.8680262671, -0.3179699178, null, -0.3179699178, 1.224467699, null, 1.224467699, 2.075019871, null, 1.145550998, 0.0983962643, null, -0.09568307890000001, 0.0983962643, null, 1.224467699, 1.145550998, null, -0.0211432785, 1.145550998, null, -0.8680262671, 0.0983962643, null, -0.059009884000000005, -0.0552036801, null, 2.011139735, 2.075019871, null, 2.086117151, 1.145550998, null, 0.2554627033, 0.0983962643, null, -0.09568307890000001, -0.9334951225, null, -0.059009884000000005, -0.9684923728, null, 3.129477573, 2.075019871, null, -0.059009884000000005, 0.7935441143, null, -0.0211432785, -0.21819229010000002, null, -0.8680262671, -1.9517086559999999, null, -0.3179699178, -0.6320989753, null, -0.3179699178, -0.6306752125, null, 1.6344319109999998, 1.224467699, null, 1.770496334, 2.075019871, null]}],\n",
       "                        {\"margin\": {\"b\": 0, \"l\": 0, \"r\": 0, \"t\": 0}, \"scene\": {\"annotations\": [{\"showarrow\": false, \"text\": \"0\", \"x\": -0.143085304, \"y\": 1.638915986, \"yshift\": 15, \"z\": -0.059009884000000005}, {\"showarrow\": false, \"text\": \"1\", \"x\": -0.00718051, \"y\": 0.12278348119999999, \"yshift\": 15, \"z\": -0.0211432785}, {\"showarrow\": false, \"text\": \"2\", \"x\": 1.062097106, \"y\": -0.6362691561, \"yshift\": 15, \"z\": -0.8680262671}, {\"showarrow\": false, \"text\": \"3\", \"x\": 2.4000153859999998, \"y\": -0.1027554631, \"yshift\": 15, \"z\": -0.3179699178}, {\"showarrow\": false, \"text\": \"4\", \"x\": 2.1175428480000003, \"y\": -0.2193850731, \"yshift\": 15, \"z\": 1.224467699}, {\"showarrow\": false, \"text\": \"5\", \"x\": 2.410808781, \"y\": 1.016167251, \"yshift\": 15, \"z\": 2.075019871}, {\"showarrow\": false, \"text\": \"6\", \"x\": 0.649252985, \"y\": -0.6968781626999999, \"yshift\": 15, \"z\": 1.145550998}, {\"showarrow\": false, \"text\": \"7\", \"x\": 0.8051565271, \"y\": -1.8376884999999998, \"yshift\": 15, \"z\": 0.0983962643}, {\"showarrow\": false, \"text\": \"8\", \"x\": -0.392108196, \"y\": -2.55862204, \"yshift\": 15, \"z\": -0.09568307890000001}, {\"showarrow\": false, \"text\": \"9\", \"x\": 0.81247466, \"y\": 2.167714623, \"yshift\": 15, \"z\": -0.0552036801}, {\"showarrow\": false, \"text\": \"10\", \"x\": -0.6751431136, \"y\": 1.9415570359999998, \"yshift\": 15, \"z\": -0.9684923728}, {\"showarrow\": false, \"text\": \"11\", \"x\": -0.7275979217, \"y\": 2.003043961, \"yshift\": 15, \"z\": 0.7935441143}, {\"showarrow\": false, \"text\": \"12\", \"x\": -0.9832600574, \"y\": -0.3232470193, \"yshift\": 15, \"z\": -0.21819229010000002}, {\"showarrow\": false, \"text\": \"13\", \"x\": 0.9697464054, \"y\": -0.7450332759, \"yshift\": 15, \"z\": -1.9517086559999999}, {\"showarrow\": false, \"text\": \"14\", \"x\": 3.252651681, \"y\": -0.7128968947, \"yshift\": 15, \"z\": -0.6320989753}, {\"showarrow\": false, \"text\": \"15\", \"x\": 2.60215451, \"y\": 0.9263671112, \"yshift\": 15, \"z\": -0.6306752125}, {\"showarrow\": false, \"text\": \"16\", \"x\": 2.721898598, \"y\": -1.0382297440000001, \"yshift\": 15, \"z\": 1.6344319109999998}, {\"showarrow\": false, \"text\": \"17\", \"x\": 1.832151022, \"y\": 1.890529858, \"yshift\": 15, \"z\": 1.770496334}, {\"showarrow\": false, \"text\": \"18\", \"x\": 2.184617973, \"y\": 0.8222723677, \"yshift\": 15, \"z\": 3.129477573}, {\"showarrow\": false, \"text\": \"19\", \"x\": 3.472117092, \"y\": 1.281970958, \"yshift\": 15, \"z\": 2.011139735}, {\"showarrow\": false, \"text\": \"20\", \"x\": 0.1251360924, \"y\": -0.8753884184, \"yshift\": 15, \"z\": 2.086117151}, {\"showarrow\": false, \"text\": \"21\", \"x\": 1.650552866, \"y\": -2.523759625, \"yshift\": 15, \"z\": 0.2554627033}, {\"showarrow\": false, \"text\": \"22\", \"x\": -0.322842698, \"y\": -3.0271394610000004, \"yshift\": 15, \"z\": -0.9334951225}], \"xaxis\": {\"showgrid\": false, \"showticklabels\": false, \"title\": {\"font\": {\"color\": \"white\"}}, \"zeroline\": false}, \"yaxis\": {\"showgrid\": false, \"showticklabels\": false, \"title\": {\"font\": {\"color\": \"white\"}}, \"zeroline\": false}, \"zaxis\": {\"showgrid\": false, \"showticklabels\": false, \"title\": {\"font\": {\"color\": \"white\"}}, \"zeroline\": false}}, \"showlegend\": false, \"updatemenus\": [{\"buttons\": [{\"args\": [{\"scene.annotations\": [{\"showarrow\": false, \"text\": 0, \"x\": -0.143085304, \"y\": 1.638915986, \"yshift\": 15, \"z\": -0.059009884000000005}, {\"showarrow\": false, \"text\": 1, \"x\": -0.00718051, \"y\": 0.12278348119999999, \"yshift\": 15, \"z\": -0.0211432785}, {\"showarrow\": false, \"text\": 2, \"x\": 1.062097106, \"y\": -0.6362691561, \"yshift\": 15, \"z\": -0.8680262671}, {\"showarrow\": false, \"text\": 3, \"x\": 2.4000153859999998, \"y\": -0.1027554631, \"yshift\": 15, \"z\": -0.3179699178}, {\"showarrow\": false, \"text\": 4, \"x\": 2.1175428480000003, \"y\": -0.2193850731, \"yshift\": 15, \"z\": 1.224467699}, {\"showarrow\": false, \"text\": 5, \"x\": 2.410808781, \"y\": 1.016167251, \"yshift\": 15, \"z\": 2.075019871}, {\"showarrow\": false, \"text\": 6, \"x\": 0.649252985, \"y\": -0.6968781626999999, \"yshift\": 15, \"z\": 1.145550998}, {\"showarrow\": false, \"text\": 7, \"x\": 0.8051565271, \"y\": -1.8376884999999998, \"yshift\": 15, \"z\": 0.0983962643}, {\"showarrow\": false, \"text\": 8, \"x\": -0.392108196, \"y\": -2.55862204, \"yshift\": 15, \"z\": -0.09568307890000001}, {\"showarrow\": false, \"text\": 9, \"x\": 0.81247466, \"y\": 2.167714623, \"yshift\": 15, \"z\": -0.0552036801}, {\"showarrow\": false, \"text\": 10, \"x\": -0.6751431136, \"y\": 1.9415570359999998, \"yshift\": 15, \"z\": -0.9684923728}, {\"showarrow\": false, \"text\": 11, \"x\": -0.7275979217, \"y\": 2.003043961, \"yshift\": 15, \"z\": 0.7935441143}, {\"showarrow\": false, \"text\": 12, \"x\": -0.9832600574, \"y\": -0.3232470193, \"yshift\": 15, \"z\": -0.21819229010000002}, {\"showarrow\": false, \"text\": 13, \"x\": 0.9697464054, \"y\": -0.7450332759, \"yshift\": 15, \"z\": -1.9517086559999999}, {\"showarrow\": false, \"text\": 14, \"x\": 3.252651681, \"y\": -0.7128968947, \"yshift\": 15, \"z\": -0.6320989753}, {\"showarrow\": false, \"text\": 15, \"x\": 2.60215451, \"y\": 0.9263671112, \"yshift\": 15, \"z\": -0.6306752125}, {\"showarrow\": false, \"text\": 16, \"x\": 2.721898598, \"y\": -1.0382297440000001, \"yshift\": 15, \"z\": 1.6344319109999998}, {\"showarrow\": false, \"text\": 17, \"x\": 1.832151022, \"y\": 1.890529858, \"yshift\": 15, \"z\": 1.770496334}, {\"showarrow\": false, \"text\": 18, \"x\": 2.184617973, \"y\": 0.8222723677, \"yshift\": 15, \"z\": 3.129477573}, {\"showarrow\": false, \"text\": 19, \"x\": 3.472117092, \"y\": 1.281970958, \"yshift\": 15, \"z\": 2.011139735}, {\"showarrow\": false, \"text\": 20, \"x\": 0.1251360924, \"y\": -0.8753884184, \"yshift\": 15, \"z\": 2.086117151}, {\"showarrow\": false, \"text\": 21, \"x\": 1.650552866, \"y\": -2.523759625, \"yshift\": 15, \"z\": 0.2554627033}, {\"showarrow\": false, \"text\": 22, \"x\": -0.322842698, \"y\": -3.0271394610000004, \"yshift\": 15, \"z\": -0.9334951225}]}], \"label\": \"Atom indices\", \"method\": \"relayout\"}, {\"args\": [{\"scene.annotations\": [{\"showarrow\": false, \"text\": 1.52, \"x\": -0.075132907, \"y\": 0.8808497336, \"yshift\": 15, \"z\": -0.04007658125}, {\"showarrow\": false, \"text\": 1.56, \"x\": 0.527458298, \"y\": -0.25674283745, \"yshift\": 15, \"z\": -0.4445847728}, {\"showarrow\": false, \"text\": 1.54, \"x\": 1.731056246, \"y\": -0.3695123096, \"yshift\": 15, \"z\": -0.59299809245}, {\"showarrow\": false, \"text\": 1.57, \"x\": 2.258779117, \"y\": -0.1610702681, \"yshift\": 15, \"z\": 0.4532488906}, {\"showarrow\": false, \"text\": 1.53, \"x\": 2.2641758145, \"y\": 0.39839108895, \"yshift\": 15, \"z\": 1.649743785}, {\"showarrow\": false, \"text\": 1.56, \"x\": 0.72720475605, \"y\": -1.26728333135, \"yshift\": 15, \"z\": 0.62197363115}, {\"showarrow\": false, \"text\": 1.41, \"x\": 0.20652416555, \"y\": -2.19815527, \"yshift\": 15, \"z\": 0.0013565927}, {\"showarrow\": false, \"text\": 1.55, \"x\": 1.3833979165, \"y\": -0.4581316179, \"yshift\": 15, \"z\": 1.1850093485}, {\"showarrow\": false, \"text\": 1.57, \"x\": 0.3210362375, \"y\": -0.28704734075, \"yshift\": 15, \"z\": 0.56220385975}, {\"showarrow\": false, \"text\": 1.56, \"x\": 0.93362681655, \"y\": -1.23697882805, \"yshift\": 15, \"z\": -0.3848150014}, {\"showarrow\": false, \"text\": 1.09, \"x\": 0.334694678, \"y\": 1.9033153045, \"yshift\": 15, \"z\": -0.05710678205}, {\"showarrow\": false, \"text\": 1.1, \"x\": 2.9414629365, \"y\": 1.1490691045, \"yshift\": 15, \"z\": 2.043079803}, {\"showarrow\": false, \"text\": 1.09, \"x\": 0.3871945387, \"y\": -0.78613329055, \"yshift\": 15, \"z\": 1.6158340745}, {\"showarrow\": false, \"text\": 1.1, \"x\": 1.22785469655, \"y\": -2.1807240625, \"yshift\": 15, \"z\": 0.1769294838}, {\"showarrow\": false, \"text\": 0.96, \"x\": -0.357475447, \"y\": -2.7928807505, \"yshift\": 15, \"z\": -0.5145891007}, {\"showarrow\": false, \"text\": 1.1, \"x\": -0.4091142088, \"y\": 1.790236511, \"yshift\": 15, \"z\": -0.5137511284}, {\"showarrow\": false, \"text\": 1.1, \"x\": 2.297713377, \"y\": 0.91921980935, \"yshift\": 15, \"z\": 2.602248722}, {\"showarrow\": false, \"text\": 1.1, \"x\": -0.43534161285, \"y\": 1.8209799735, \"yshift\": 15, \"z\": 0.36726711515}, {\"showarrow\": false, \"text\": 1.09, \"x\": -0.4952202837, \"y\": -0.10023176905, \"yshift\": 15, \"z\": -0.1196677843}, {\"showarrow\": false, \"text\": 1.09, \"x\": 1.0159217557, \"y\": -0.690651216, \"yshift\": 15, \"z\": -1.40986746155}, {\"showarrow\": false, \"text\": 1.09, \"x\": 2.8263335335, \"y\": -0.4078261789, \"yshift\": 15, \"z\": -0.47503444655}, {\"showarrow\": false, \"text\": 1.09, \"x\": 2.501084948, \"y\": 0.41180582405, \"yshift\": 15, \"z\": -0.47432256515}, {\"showarrow\": false, \"text\": 1.1, \"x\": 2.419720723, \"y\": -0.62880740855, \"yshift\": 15, \"z\": 1.429449805}, {\"showarrow\": false, \"text\": 1.09, \"x\": 2.1214799015, \"y\": 1.4533485545, \"yshift\": 15, \"z\": 1.9227581025}]}], \"label\": \"Bond lengths\", \"method\": \"relayout\"}, {\"args\": [{\"scene.annotations\": [{\"showarrow\": false, \"text\": 0, \"x\": -0.143085304, \"y\": 1.638915986, \"yshift\": 15, \"z\": -0.059009884000000005}, {\"showarrow\": false, \"text\": 1, \"x\": -0.00718051, \"y\": 0.12278348119999999, \"yshift\": 15, \"z\": -0.0211432785}, {\"showarrow\": false, \"text\": 2, \"x\": 1.062097106, \"y\": -0.6362691561, \"yshift\": 15, \"z\": -0.8680262671}, {\"showarrow\": false, \"text\": 3, \"x\": 2.4000153859999998, \"y\": -0.1027554631, \"yshift\": 15, \"z\": -0.3179699178}, {\"showarrow\": false, \"text\": 4, \"x\": 2.1175428480000003, \"y\": -0.2193850731, \"yshift\": 15, \"z\": 1.224467699}, {\"showarrow\": false, \"text\": 5, \"x\": 2.410808781, \"y\": 1.016167251, \"yshift\": 15, \"z\": 2.075019871}, {\"showarrow\": false, \"text\": 6, \"x\": 0.649252985, \"y\": -0.6968781626999999, \"yshift\": 15, \"z\": 1.145550998}, {\"showarrow\": false, \"text\": 7, \"x\": 0.8051565271, \"y\": -1.8376884999999998, \"yshift\": 15, \"z\": 0.0983962643}, {\"showarrow\": false, \"text\": 8, \"x\": -0.392108196, \"y\": -2.55862204, \"yshift\": 15, \"z\": -0.09568307890000001}, {\"showarrow\": false, \"text\": 9, \"x\": 0.81247466, \"y\": 2.167714623, \"yshift\": 15, \"z\": -0.0552036801}, {\"showarrow\": false, \"text\": 10, \"x\": -0.6751431136, \"y\": 1.9415570359999998, \"yshift\": 15, \"z\": -0.9684923728}, {\"showarrow\": false, \"text\": 11, \"x\": -0.7275979217, \"y\": 2.003043961, \"yshift\": 15, \"z\": 0.7935441143}, {\"showarrow\": false, \"text\": 12, \"x\": -0.9832600574, \"y\": -0.3232470193, \"yshift\": 15, \"z\": -0.21819229010000002}, {\"showarrow\": false, \"text\": 13, \"x\": 0.9697464054, \"y\": -0.7450332759, \"yshift\": 15, \"z\": -1.9517086559999999}, {\"showarrow\": false, \"text\": 14, \"x\": 3.252651681, \"y\": -0.7128968947, \"yshift\": 15, \"z\": -0.6320989753}, {\"showarrow\": false, \"text\": 15, \"x\": 2.60215451, \"y\": 0.9263671112, \"yshift\": 15, \"z\": -0.6306752125}, {\"showarrow\": false, \"text\": 16, \"x\": 2.721898598, \"y\": -1.0382297440000001, \"yshift\": 15, \"z\": 1.6344319109999998}, {\"showarrow\": false, \"text\": 17, \"x\": 1.832151022, \"y\": 1.890529858, \"yshift\": 15, \"z\": 1.770496334}, {\"showarrow\": false, \"text\": 18, \"x\": 2.184617973, \"y\": 0.8222723677, \"yshift\": 15, \"z\": 3.129477573}, {\"showarrow\": false, \"text\": 19, \"x\": 3.472117092, \"y\": 1.281970958, \"yshift\": 15, \"z\": 2.011139735}, {\"showarrow\": false, \"text\": 20, \"x\": 0.1251360924, \"y\": -0.8753884184, \"yshift\": 15, \"z\": 2.086117151}, {\"showarrow\": false, \"text\": 21, \"x\": 1.650552866, \"y\": -2.523759625, \"yshift\": 15, \"z\": 0.2554627033}, {\"showarrow\": false, \"text\": 22, \"x\": -0.322842698, \"y\": -3.0271394610000004, \"yshift\": 15, \"z\": -0.9334951225}, {\"showarrow\": false, \"text\": 1.52, \"x\": -0.075132907, \"y\": 0.8808497336, \"yshift\": 15, \"z\": -0.04007658125}, {\"showarrow\": false, \"text\": 1.56, \"x\": 0.527458298, \"y\": -0.25674283745, \"yshift\": 15, \"z\": -0.4445847728}, {\"showarrow\": false, \"text\": 1.54, \"x\": 1.731056246, \"y\": -0.3695123096, \"yshift\": 15, \"z\": -0.59299809245}, {\"showarrow\": false, \"text\": 1.57, \"x\": 2.258779117, \"y\": -0.1610702681, \"yshift\": 15, \"z\": 0.4532488906}, {\"showarrow\": false, \"text\": 1.53, \"x\": 2.2641758145, \"y\": 0.39839108895, \"yshift\": 15, \"z\": 1.649743785}, {\"showarrow\": false, \"text\": 1.56, \"x\": 0.72720475605, \"y\": -1.26728333135, \"yshift\": 15, \"z\": 0.62197363115}, {\"showarrow\": false, \"text\": 1.41, \"x\": 0.20652416555, \"y\": -2.19815527, \"yshift\": 15, \"z\": 0.0013565927}, {\"showarrow\": false, \"text\": 1.55, \"x\": 1.3833979165, \"y\": -0.4581316179, \"yshift\": 15, \"z\": 1.1850093485}, {\"showarrow\": false, \"text\": 1.57, \"x\": 0.3210362375, \"y\": -0.28704734075, \"yshift\": 15, \"z\": 0.56220385975}, {\"showarrow\": false, \"text\": 1.56, \"x\": 0.93362681655, \"y\": -1.23697882805, \"yshift\": 15, \"z\": -0.3848150014}, {\"showarrow\": false, \"text\": 1.09, \"x\": 0.334694678, \"y\": 1.9033153045, \"yshift\": 15, \"z\": -0.05710678205}, {\"showarrow\": false, \"text\": 1.1, \"x\": 2.9414629365, \"y\": 1.1490691045, \"yshift\": 15, \"z\": 2.043079803}, {\"showarrow\": false, \"text\": 1.09, \"x\": 0.3871945387, \"y\": -0.78613329055, \"yshift\": 15, \"z\": 1.6158340745}, {\"showarrow\": false, \"text\": 1.1, \"x\": 1.22785469655, \"y\": -2.1807240625, \"yshift\": 15, \"z\": 0.1769294838}, {\"showarrow\": false, \"text\": 0.96, \"x\": -0.357475447, \"y\": -2.7928807505, \"yshift\": 15, \"z\": -0.5145891007}, {\"showarrow\": false, \"text\": 1.1, \"x\": -0.4091142088, \"y\": 1.790236511, \"yshift\": 15, \"z\": -0.5137511284}, {\"showarrow\": false, \"text\": 1.1, \"x\": 2.297713377, \"y\": 0.91921980935, \"yshift\": 15, \"z\": 2.602248722}, {\"showarrow\": false, \"text\": 1.1, \"x\": -0.43534161285, \"y\": 1.8209799735, \"yshift\": 15, \"z\": 0.36726711515}, {\"showarrow\": false, \"text\": 1.09, \"x\": -0.4952202837, \"y\": -0.10023176905, \"yshift\": 15, \"z\": -0.1196677843}, {\"showarrow\": false, \"text\": 1.09, \"x\": 1.0159217557, \"y\": -0.690651216, \"yshift\": 15, \"z\": -1.40986746155}, {\"showarrow\": false, \"text\": 1.09, \"x\": 2.8263335335, \"y\": -0.4078261789, \"yshift\": 15, \"z\": -0.47503444655}, {\"showarrow\": false, \"text\": 1.09, \"x\": 2.501084948, \"y\": 0.41180582405, \"yshift\": 15, \"z\": -0.47432256515}, {\"showarrow\": false, \"text\": 1.1, \"x\": 2.419720723, \"y\": -0.62880740855, \"yshift\": 15, \"z\": 1.429449805}, {\"showarrow\": false, \"text\": 1.09, \"x\": 2.1214799015, \"y\": 1.4533485545, \"yshift\": 15, \"z\": 1.9227581025}]}], \"label\": \"Atom indices & Bond lengths\", \"method\": \"relayout\"}, {\"args\": [{\"scene.annotations\": []}], \"label\": \"Hide all\", \"method\": \"relayout\"}], \"direction\": \"down\", \"xanchor\": \"left\", \"yanchor\": \"top\"}]},\n",
       "                        {\"showLink\": false, \"linkText\": \"Export to plot.ly\", \"plotlyServerURL\": \"https://plot.ly\", \"responsive\": true}\n",
       "                    ).then(function(){\n",
       "                            \n",
       "var gd = document.getElementById('4cf9ce59-d65c-46c4-a787-a3f56940e690');\n",
       "var x = new MutationObserver(function (mutations, observer) {{\n",
       "        var display = window.getComputedStyle(gd).display;\n",
       "        if (!display || display === 'none') {{\n",
       "            console.log([gd, 'removed!']);\n",
       "            Plotly.purge(gd);\n",
       "            observer.disconnect();\n",
       "        }}\n",
       "}});\n",
       "\n",
       "// Listen for the removal of the full notebook cells\n",
       "var notebookContainer = gd.closest('#notebook-container');\n",
       "if (notebookContainer) {{\n",
       "    x.observe(notebookContainer, {childList: true});\n",
       "}}\n",
       "\n",
       "// Listen for the clearing of the current output cell\n",
       "var outputEl = gd.closest('.output');\n",
       "if (outputEl) {{\n",
       "    x.observe(outputEl, {childList: true});\n",
       "}}\n",
       "\n",
       "                        })\n",
       "                };\n",
       "                });\n",
       "            </script>\n",
       "        </div>"
      ]
     },
     "metadata": {},
     "output_type": "display_data"
    }
   ],
   "source": [
    "plot_molecule('dsgdb9nsd_080543', structures)"
   ]
  },
  {
   "cell_type": "code",
   "execution_count": 11,
   "metadata": {},
   "outputs": [
    {
     "data": {
      "application/vnd.plotly.v1+json": {
       "config": {
        "linkText": "Export to plot.ly",
        "plotlyServerURL": "https://plot.ly",
        "showLink": false
       },
       "data": [
        {
         "marker": {
          "color": [
           "black",
           "black",
           "black",
           "red",
           "black",
           "black",
           "red",
           "blue",
           "black",
           "white",
           "white",
           "white",
           "white",
           "white",
           "white",
           "white",
           "white",
           "white",
           "white",
           "white",
           "white",
           "white"
          ],
          "line": {
           "color": "lightgray",
           "width": 2
          },
          "opacity": 0.8,
          "size": 7,
          "symbol": "circle"
         },
         "mode": "markers",
         "name": "",
         "text": [
          "C",
          "C",
          "C",
          "O",
          "C",
          "C",
          "O",
          "N",
          "C",
          "H",
          "H",
          "H",
          "H",
          "H",
          "H",
          "H",
          "H",
          "H",
          "H",
          "H",
          "H",
          "H"
         ],
         "type": "scatter3d",
         "uid": "87ece6ea-3799-491c-8a7e-3726c1ff1f4a",
         "x": [
          0.166564136,
          0.09544579460000001,
          0.7268007384999999,
          1.7047328000000002,
          1.243061868,
          2.6900108719999998,
          3.216707296,
          0.9967778617,
          0.4404707615,
          1.184085363,
          -0.4851621474,
          -0.158125575,
          -0.9510925407999999,
          0.0281198805,
          2.312050309,
          0.5479713935,
          2.7487994739999997,
          3.308090505,
          3.149462792,
          1.13694591,
          0.27540798899999996,
          -0.5237008595
         ],
         "y": [
          1.582847172,
          0.08261561349999999,
          -0.5549234774,
          0.2121869771,
          -1.6734517269999998,
          -2.158656704,
          -2.500527216,
          -0.7566806911,
          -1.3249490720000001,
          1.9628296630000002,
          2.108379673,
          1.8375464419999998,
          -0.256109689,
          -0.8739421606000001,
          0.5629220782,
          -2.528536909,
          -3.059360864,
          -1.390825956,
          -1.6965020169999998,
          -2.055711889,
          -0.5374517123,
          -1.837080366
         ],
         "z": [
          0.1984308464,
          -0.022880844100000002,
          -1.295225672,
          -1.956842975,
          -0.3351633288,
          -0.44082695450000003,
          0.8322544923999999,
          0.8066431379000001,
          2.022694244,
          0.0704201528,
          -0.5066659568,
          1.2127139009999999,
          0.0709154154,
          -2.069163451,
          -1.296526008,
          -0.3249797695,
          -1.059396629,
          -0.9282315053,
          1.3609802659999999,
          2.4411650209999998,
          2.765722295,
          1.8448645909999999
         ]
        },
        {
         "hoverinfo": "none",
         "marker": {
          "color": "grey",
          "opacity": 1,
          "size": 7
         },
         "mode": "lines",
         "type": "scatter3d",
         "uid": "c794be81-e208-4ef3-91b2-ed0f5a984024",
         "x": [
          0.166564136,
          0.09544579460000001,
          null,
          0.09544579460000001,
          0.7268007384999999,
          null,
          0.7268007384999999,
          1.7047328000000002,
          null,
          1.243061868,
          2.6900108719999998,
          null,
          2.6900108719999998,
          3.216707296,
          null,
          0.4404707615,
          0.9967778617,
          null,
          0.7268007384999999,
          1.243061868,
          null,
          1.243061868,
          0.9967778617,
          null,
          0.09544579460000001,
          0.9967778617,
          null,
          0.166564136,
          1.184085363,
          null,
          0.4404707615,
          -0.5237008595,
          null,
          0.166564136,
          -0.4851621474,
          null,
          3.308090505,
          2.6900108719999998,
          null,
          3.149462792,
          3.216707296,
          null,
          0.4404707615,
          0.27540798899999996,
          null,
          0.166564136,
          -0.158125575,
          null,
          0.09544579460000001,
          -0.9510925407999999,
          null,
          0.7268007384999999,
          0.0281198805,
          null,
          1.7047328000000002,
          2.312050309,
          null,
          1.243061868,
          0.5479713935,
          null,
          2.7487994739999997,
          2.6900108719999998,
          null,
          0.4404707615,
          1.13694591,
          null
         ],
         "y": [
          1.582847172,
          0.08261561349999999,
          null,
          0.08261561349999999,
          -0.5549234774,
          null,
          -0.5549234774,
          0.2121869771,
          null,
          -1.6734517269999998,
          -2.158656704,
          null,
          -2.158656704,
          -2.500527216,
          null,
          -1.3249490720000001,
          -0.7566806911,
          null,
          -0.5549234774,
          -1.6734517269999998,
          null,
          -1.6734517269999998,
          -0.7566806911,
          null,
          0.08261561349999999,
          -0.7566806911,
          null,
          1.582847172,
          1.9628296630000002,
          null,
          -1.3249490720000001,
          -1.837080366,
          null,
          1.582847172,
          2.108379673,
          null,
          -1.390825956,
          -2.158656704,
          null,
          -1.6965020169999998,
          -2.500527216,
          null,
          -1.3249490720000001,
          -0.5374517123,
          null,
          1.582847172,
          1.8375464419999998,
          null,
          0.08261561349999999,
          -0.256109689,
          null,
          -0.5549234774,
          -0.8739421606000001,
          null,
          0.2121869771,
          0.5629220782,
          null,
          -1.6734517269999998,
          -2.528536909,
          null,
          -3.059360864,
          -2.158656704,
          null,
          -1.3249490720000001,
          -2.055711889,
          null
         ],
         "z": [
          0.1984308464,
          -0.022880844100000002,
          null,
          -0.022880844100000002,
          -1.295225672,
          null,
          -1.295225672,
          -1.956842975,
          null,
          -0.3351633288,
          -0.44082695450000003,
          null,
          -0.44082695450000003,
          0.8322544923999999,
          null,
          2.022694244,
          0.8066431379000001,
          null,
          -1.295225672,
          -0.3351633288,
          null,
          -0.3351633288,
          0.8066431379000001,
          null,
          -0.022880844100000002,
          0.8066431379000001,
          null,
          0.1984308464,
          0.0704201528,
          null,
          2.022694244,
          1.8448645909999999,
          null,
          0.1984308464,
          -0.5066659568,
          null,
          -0.9282315053,
          -0.44082695450000003,
          null,
          1.3609802659999999,
          0.8322544923999999,
          null,
          2.022694244,
          2.765722295,
          null,
          0.1984308464,
          1.2127139009999999,
          null,
          -0.022880844100000002,
          0.0709154154,
          null,
          -1.295225672,
          -2.069163451,
          null,
          -1.956842975,
          -1.296526008,
          null,
          -0.3351633288,
          -0.3249797695,
          null,
          -1.059396629,
          -0.44082695450000003,
          null,
          2.022694244,
          2.4411650209999998,
          null
         ]
        }
       ],
       "layout": {
        "margin": {
         "b": 0,
         "l": 0,
         "r": 0,
         "t": 0
        },
        "scene": {
         "annotations": [
          {
           "showarrow": false,
           "text": "0",
           "x": 0.166564136,
           "y": 1.582847172,
           "yshift": 15,
           "z": 0.1984308464
          },
          {
           "showarrow": false,
           "text": "1",
           "x": 0.09544579460000001,
           "y": 0.08261561349999999,
           "yshift": 15,
           "z": -0.022880844100000002
          },
          {
           "showarrow": false,
           "text": "2",
           "x": 0.7268007384999999,
           "y": -0.5549234774,
           "yshift": 15,
           "z": -1.295225672
          },
          {
           "showarrow": false,
           "text": "3",
           "x": 1.7047328000000002,
           "y": 0.2121869771,
           "yshift": 15,
           "z": -1.956842975
          },
          {
           "showarrow": false,
           "text": "4",
           "x": 1.243061868,
           "y": -1.6734517269999998,
           "yshift": 15,
           "z": -0.3351633288
          },
          {
           "showarrow": false,
           "text": "5",
           "x": 2.6900108719999998,
           "y": -2.158656704,
           "yshift": 15,
           "z": -0.44082695450000003
          },
          {
           "showarrow": false,
           "text": "6",
           "x": 3.216707296,
           "y": -2.500527216,
           "yshift": 15,
           "z": 0.8322544923999999
          },
          {
           "showarrow": false,
           "text": "7",
           "x": 0.9967778617,
           "y": -0.7566806911,
           "yshift": 15,
           "z": 0.8066431379000001
          },
          {
           "showarrow": false,
           "text": "8",
           "x": 0.4404707615,
           "y": -1.3249490720000001,
           "yshift": 15,
           "z": 2.022694244
          },
          {
           "showarrow": false,
           "text": "9",
           "x": 1.184085363,
           "y": 1.9628296630000002,
           "yshift": 15,
           "z": 0.0704201528
          },
          {
           "showarrow": false,
           "text": "10",
           "x": -0.4851621474,
           "y": 2.108379673,
           "yshift": 15,
           "z": -0.5066659568
          },
          {
           "showarrow": false,
           "text": "11",
           "x": -0.158125575,
           "y": 1.8375464419999998,
           "yshift": 15,
           "z": 1.2127139009999999
          },
          {
           "showarrow": false,
           "text": "12",
           "x": -0.9510925407999999,
           "y": -0.256109689,
           "yshift": 15,
           "z": 0.0709154154
          },
          {
           "showarrow": false,
           "text": "13",
           "x": 0.0281198805,
           "y": -0.8739421606000001,
           "yshift": 15,
           "z": -2.069163451
          },
          {
           "showarrow": false,
           "text": "14",
           "x": 2.312050309,
           "y": 0.5629220782,
           "yshift": 15,
           "z": -1.296526008
          },
          {
           "showarrow": false,
           "text": "15",
           "x": 0.5479713935,
           "y": -2.528536909,
           "yshift": 15,
           "z": -0.3249797695
          },
          {
           "showarrow": false,
           "text": "16",
           "x": 2.7487994739999997,
           "y": -3.059360864,
           "yshift": 15,
           "z": -1.059396629
          },
          {
           "showarrow": false,
           "text": "17",
           "x": 3.308090505,
           "y": -1.390825956,
           "yshift": 15,
           "z": -0.9282315053
          },
          {
           "showarrow": false,
           "text": "18",
           "x": 3.149462792,
           "y": -1.6965020169999998,
           "yshift": 15,
           "z": 1.3609802659999999
          },
          {
           "showarrow": false,
           "text": "19",
           "x": 1.13694591,
           "y": -2.055711889,
           "yshift": 15,
           "z": 2.4411650209999998
          },
          {
           "showarrow": false,
           "text": "20",
           "x": 0.27540798899999996,
           "y": -0.5374517123,
           "yshift": 15,
           "z": 2.765722295
          },
          {
           "showarrow": false,
           "text": "21",
           "x": -0.5237008595,
           "y": -1.837080366,
           "yshift": 15,
           "z": 1.8448645909999999
          }
         ],
         "aspectmode": "auto",
         "aspectratio": {
          "x": 0.8987837904900885,
          "y": 1.0905099353957766,
          "z": 1.0202700589873717
         },
         "xaxis": {
          "showgrid": false,
          "showticklabels": false,
          "title": {
           "font": {
            "color": "white"
           }
          },
          "type": "linear",
          "zeroline": false
         },
         "yaxis": {
          "showgrid": false,
          "showticklabels": false,
          "title": {
           "font": {
            "color": "white"
           }
          },
          "type": "linear",
          "zeroline": false
         },
         "zaxis": {
          "showgrid": false,
          "showticklabels": false,
          "title": {
           "font": {
            "color": "white"
           }
          },
          "type": "linear",
          "zeroline": false
         }
        },
        "showlegend": false,
        "updatemenus": [
         {
          "buttons": [
           {
            "args": [
             {
              "scene.annotations": [
               {
                "showarrow": false,
                "text": 0,
                "x": 0.166564136,
                "y": 1.582847172,
                "yshift": 15,
                "z": 0.1984308464
               },
               {
                "showarrow": false,
                "text": 1,
                "x": 0.09544579460000001,
                "y": 0.08261561349999999,
                "yshift": 15,
                "z": -0.022880844100000002
               },
               {
                "showarrow": false,
                "text": 2,
                "x": 0.7268007384999999,
                "y": -0.5549234774,
                "yshift": 15,
                "z": -1.295225672
               },
               {
                "showarrow": false,
                "text": 3,
                "x": 1.7047328000000002,
                "y": 0.2121869771,
                "yshift": 15,
                "z": -1.956842975
               },
               {
                "showarrow": false,
                "text": 4,
                "x": 1.243061868,
                "y": -1.6734517269999998,
                "yshift": 15,
                "z": -0.3351633288
               },
               {
                "showarrow": false,
                "text": 5,
                "x": 2.6900108719999998,
                "y": -2.158656704,
                "yshift": 15,
                "z": -0.44082695450000003
               },
               {
                "showarrow": false,
                "text": 6,
                "x": 3.216707296,
                "y": -2.500527216,
                "yshift": 15,
                "z": 0.8322544923999999
               },
               {
                "showarrow": false,
                "text": 7,
                "x": 0.9967778617,
                "y": -0.7566806911,
                "yshift": 15,
                "z": 0.8066431379000001
               },
               {
                "showarrow": false,
                "text": 8,
                "x": 0.4404707615,
                "y": -1.3249490720000001,
                "yshift": 15,
                "z": 2.022694244
               },
               {
                "showarrow": false,
                "text": 9,
                "x": 1.184085363,
                "y": 1.9628296630000002,
                "yshift": 15,
                "z": 0.0704201528
               },
               {
                "showarrow": false,
                "text": 10,
                "x": -0.4851621474,
                "y": 2.108379673,
                "yshift": 15,
                "z": -0.5066659568
               },
               {
                "showarrow": false,
                "text": 11,
                "x": -0.158125575,
                "y": 1.8375464419999998,
                "yshift": 15,
                "z": 1.2127139009999999
               },
               {
                "showarrow": false,
                "text": 12,
                "x": -0.9510925407999999,
                "y": -0.256109689,
                "yshift": 15,
                "z": 0.0709154154
               },
               {
                "showarrow": false,
                "text": 13,
                "x": 0.0281198805,
                "y": -0.8739421606000001,
                "yshift": 15,
                "z": -2.069163451
               },
               {
                "showarrow": false,
                "text": 14,
                "x": 2.312050309,
                "y": 0.5629220782,
                "yshift": 15,
                "z": -1.296526008
               },
               {
                "showarrow": false,
                "text": 15,
                "x": 0.5479713935,
                "y": -2.528536909,
                "yshift": 15,
                "z": -0.3249797695
               },
               {
                "showarrow": false,
                "text": 16,
                "x": 2.7487994739999997,
                "y": -3.059360864,
                "yshift": 15,
                "z": -1.059396629
               },
               {
                "showarrow": false,
                "text": 17,
                "x": 3.308090505,
                "y": -1.390825956,
                "yshift": 15,
                "z": -0.9282315053
               },
               {
                "showarrow": false,
                "text": 18,
                "x": 3.149462792,
                "y": -1.6965020169999998,
                "yshift": 15,
                "z": 1.3609802659999999
               },
               {
                "showarrow": false,
                "text": 19,
                "x": 1.13694591,
                "y": -2.055711889,
                "yshift": 15,
                "z": 2.4411650209999998
               },
               {
                "showarrow": false,
                "text": 20,
                "x": 0.27540798899999996,
                "y": -0.5374517123,
                "yshift": 15,
                "z": 2.765722295
               },
               {
                "showarrow": false,
                "text": 21,
                "x": -0.5237008595,
                "y": -1.837080366,
                "yshift": 15,
                "z": 1.8448645909999999
               }
              ]
             }
            ],
            "label": "Atom indices",
            "method": "relayout"
           },
           {
            "args": [
             {
              "scene.annotations": [
               {
                "showarrow": false,
                "text": 1.52,
                "x": 0.1310049653,
                "y": 0.83273139275,
                "yshift": 15,
                "z": 0.08777500115
               },
               {
                "showarrow": false,
                "text": 1.56,
                "x": 0.41112326655,
                "y": -0.23615393195,
                "yshift": 15,
                "z": -0.65905325805
               },
               {
                "showarrow": false,
                "text": 1.41,
                "x": 1.21576676925,
                "y": -0.17136825015,
                "yshift": 15,
                "z": -1.6260343235
               },
               {
                "showarrow": false,
                "text": 1.53,
                "x": 1.96653637,
                "y": -1.9160542155,
                "yshift": 15,
                "z": -0.38799514165
               },
               {
                "showarrow": false,
                "text": 1.42,
                "x": 2.953359084,
                "y": -2.32959196,
                "yshift": 15,
                "z": 0.19571376895
               },
               {
                "showarrow": false,
                "text": 1.45,
                "x": 0.7186243116,
                "y": -1.04081488155,
                "yshift": 15,
                "z": 1.41466869095
               },
               {
                "showarrow": false,
                "text": 1.56,
                "x": 0.98493130325,
                "y": -1.1141876022,
                "yshift": 15,
                "z": -0.8151945004
               },
               {
                "showarrow": false,
                "text": 1.48,
                "x": 1.11991986485,
                "y": -1.21506620905,
                "yshift": 15,
                "z": 0.23573990455
               },
               {
                "showarrow": false,
                "text": 1.48,
                "x": 0.54611182815,
                "y": -0.3370325388,
                "yshift": 15,
                "z": 0.3918811469
               },
               {
                "showarrow": false,
                "text": 1.09,
                "x": 0.6753247495,
                "y": 1.7728384175,
                "yshift": 15,
                "z": 0.1344254996
               },
               {
                "showarrow": false,
                "text": 1.11,
                "x": -0.041615049,
                "y": -1.581014719,
                "yshift": 15,
                "z": 1.9337794175
               },
               {
                "showarrow": false,
                "text": 1.09,
                "x": -0.1592990057,
                "y": 1.8456134225,
                "yshift": 15,
                "z": -0.1541175552
               },
               {
                "showarrow": false,
                "text": 1.1,
                "x": 2.9990506885,
                "y": -1.77474133,
                "yshift": 15,
                "z": -0.6845292299
               },
               {
                "showarrow": false,
                "text": 0.96,
                "x": 3.183085044,
                "y": -2.0985146165,
                "yshift": 15,
                "z": 1.0966173792
               },
               {
                "showarrow": false,
                "text": 1.1,
                "x": 0.35793937525,
                "y": -0.93120039215,
                "yshift": 15,
                "z": 2.3942082695
               },
               {
                "showarrow": false,
                "text": 1.1,
                "x": 0.0042192805,
                "y": 1.710196807,
                "yshift": 15,
                "z": 0.7055723737
               },
               {
                "showarrow": false,
                "text": 1.1,
                "x": -0.4278233731,
                "y": -0.08674703775,
                "yshift": 15,
                "z": 0.02401728565
               },
               {
                "showarrow": false,
                "text": 1.09,
                "x": 0.3774603095,
                "y": -0.714432819,
                "yshift": 15,
                "z": -1.6821945615
               },
               {
                "showarrow": false,
                "text": 0.96,
                "x": 2.0083915545,
                "y": 0.38755452765,
                "yshift": 15,
                "z": -1.6266844915
               },
               {
                "showarrow": false,
                "text": 1.1,
                "x": 0.89551663075,
                "y": -2.100994318,
                "yshift": 15,
                "z": -0.33007154915
               },
               {
                "showarrow": false,
                "text": 1.09,
                "x": 2.719405173,
                "y": -2.609008784,
                "yshift": 15,
                "z": -0.75011179175
               },
               {
                "showarrow": false,
                "text": 1.09,
                "x": 0.78870833575,
                "y": -1.6903304805,
                "yshift": 15,
                "z": 2.2319296325
               }
              ]
             }
            ],
            "label": "Bond lengths",
            "method": "relayout"
           },
           {
            "args": [
             {
              "scene.annotations": [
               {
                "showarrow": false,
                "text": 0,
                "x": 0.166564136,
                "y": 1.582847172,
                "yshift": 15,
                "z": 0.1984308464
               },
               {
                "showarrow": false,
                "text": 1,
                "x": 0.09544579460000001,
                "y": 0.08261561349999999,
                "yshift": 15,
                "z": -0.022880844100000002
               },
               {
                "showarrow": false,
                "text": 2,
                "x": 0.7268007384999999,
                "y": -0.5549234774,
                "yshift": 15,
                "z": -1.295225672
               },
               {
                "showarrow": false,
                "text": 3,
                "x": 1.7047328000000002,
                "y": 0.2121869771,
                "yshift": 15,
                "z": -1.956842975
               },
               {
                "showarrow": false,
                "text": 4,
                "x": 1.243061868,
                "y": -1.6734517269999998,
                "yshift": 15,
                "z": -0.3351633288
               },
               {
                "showarrow": false,
                "text": 5,
                "x": 2.6900108719999998,
                "y": -2.158656704,
                "yshift": 15,
                "z": -0.44082695450000003
               },
               {
                "showarrow": false,
                "text": 6,
                "x": 3.216707296,
                "y": -2.500527216,
                "yshift": 15,
                "z": 0.8322544923999999
               },
               {
                "showarrow": false,
                "text": 7,
                "x": 0.9967778617,
                "y": -0.7566806911,
                "yshift": 15,
                "z": 0.8066431379000001
               },
               {
                "showarrow": false,
                "text": 8,
                "x": 0.4404707615,
                "y": -1.3249490720000001,
                "yshift": 15,
                "z": 2.022694244
               },
               {
                "showarrow": false,
                "text": 9,
                "x": 1.184085363,
                "y": 1.9628296630000002,
                "yshift": 15,
                "z": 0.0704201528
               },
               {
                "showarrow": false,
                "text": 10,
                "x": -0.4851621474,
                "y": 2.108379673,
                "yshift": 15,
                "z": -0.5066659568
               },
               {
                "showarrow": false,
                "text": 11,
                "x": -0.158125575,
                "y": 1.8375464419999998,
                "yshift": 15,
                "z": 1.2127139009999999
               },
               {
                "showarrow": false,
                "text": 12,
                "x": -0.9510925407999999,
                "y": -0.256109689,
                "yshift": 15,
                "z": 0.0709154154
               },
               {
                "showarrow": false,
                "text": 13,
                "x": 0.0281198805,
                "y": -0.8739421606000001,
                "yshift": 15,
                "z": -2.069163451
               },
               {
                "showarrow": false,
                "text": 14,
                "x": 2.312050309,
                "y": 0.5629220782,
                "yshift": 15,
                "z": -1.296526008
               },
               {
                "showarrow": false,
                "text": 15,
                "x": 0.5479713935,
                "y": -2.528536909,
                "yshift": 15,
                "z": -0.3249797695
               },
               {
                "showarrow": false,
                "text": 16,
                "x": 2.7487994739999997,
                "y": -3.059360864,
                "yshift": 15,
                "z": -1.059396629
               },
               {
                "showarrow": false,
                "text": 17,
                "x": 3.308090505,
                "y": -1.390825956,
                "yshift": 15,
                "z": -0.9282315053
               },
               {
                "showarrow": false,
                "text": 18,
                "x": 3.149462792,
                "y": -1.6965020169999998,
                "yshift": 15,
                "z": 1.3609802659999999
               },
               {
                "showarrow": false,
                "text": 19,
                "x": 1.13694591,
                "y": -2.055711889,
                "yshift": 15,
                "z": 2.4411650209999998
               },
               {
                "showarrow": false,
                "text": 20,
                "x": 0.27540798899999996,
                "y": -0.5374517123,
                "yshift": 15,
                "z": 2.765722295
               },
               {
                "showarrow": false,
                "text": 21,
                "x": -0.5237008595,
                "y": -1.837080366,
                "yshift": 15,
                "z": 1.8448645909999999
               },
               {
                "showarrow": false,
                "text": 1.52,
                "x": 0.1310049653,
                "y": 0.83273139275,
                "yshift": 15,
                "z": 0.08777500115
               },
               {
                "showarrow": false,
                "text": 1.56,
                "x": 0.41112326655,
                "y": -0.23615393195,
                "yshift": 15,
                "z": -0.65905325805
               },
               {
                "showarrow": false,
                "text": 1.41,
                "x": 1.21576676925,
                "y": -0.17136825015,
                "yshift": 15,
                "z": -1.6260343235
               },
               {
                "showarrow": false,
                "text": 1.53,
                "x": 1.96653637,
                "y": -1.9160542155,
                "yshift": 15,
                "z": -0.38799514165
               },
               {
                "showarrow": false,
                "text": 1.42,
                "x": 2.953359084,
                "y": -2.32959196,
                "yshift": 15,
                "z": 0.19571376895
               },
               {
                "showarrow": false,
                "text": 1.45,
                "x": 0.7186243116,
                "y": -1.04081488155,
                "yshift": 15,
                "z": 1.41466869095
               },
               {
                "showarrow": false,
                "text": 1.56,
                "x": 0.98493130325,
                "y": -1.1141876022,
                "yshift": 15,
                "z": -0.8151945004
               },
               {
                "showarrow": false,
                "text": 1.48,
                "x": 1.11991986485,
                "y": -1.21506620905,
                "yshift": 15,
                "z": 0.23573990455
               },
               {
                "showarrow": false,
                "text": 1.48,
                "x": 0.54611182815,
                "y": -0.3370325388,
                "yshift": 15,
                "z": 0.3918811469
               },
               {
                "showarrow": false,
                "text": 1.09,
                "x": 0.6753247495,
                "y": 1.7728384175,
                "yshift": 15,
                "z": 0.1344254996
               },
               {
                "showarrow": false,
                "text": 1.11,
                "x": -0.041615049,
                "y": -1.581014719,
                "yshift": 15,
                "z": 1.9337794175
               },
               {
                "showarrow": false,
                "text": 1.09,
                "x": -0.1592990057,
                "y": 1.8456134225,
                "yshift": 15,
                "z": -0.1541175552
               },
               {
                "showarrow": false,
                "text": 1.1,
                "x": 2.9990506885,
                "y": -1.77474133,
                "yshift": 15,
                "z": -0.6845292299
               },
               {
                "showarrow": false,
                "text": 0.96,
                "x": 3.183085044,
                "y": -2.0985146165,
                "yshift": 15,
                "z": 1.0966173792
               },
               {
                "showarrow": false,
                "text": 1.1,
                "x": 0.35793937525,
                "y": -0.93120039215,
                "yshift": 15,
                "z": 2.3942082695
               },
               {
                "showarrow": false,
                "text": 1.1,
                "x": 0.0042192805,
                "y": 1.710196807,
                "yshift": 15,
                "z": 0.7055723737
               },
               {
                "showarrow": false,
                "text": 1.1,
                "x": -0.4278233731,
                "y": -0.08674703775,
                "yshift": 15,
                "z": 0.02401728565
               },
               {
                "showarrow": false,
                "text": 1.09,
                "x": 0.3774603095,
                "y": -0.714432819,
                "yshift": 15,
                "z": -1.6821945615
               },
               {
                "showarrow": false,
                "text": 0.96,
                "x": 2.0083915545,
                "y": 0.38755452765,
                "yshift": 15,
                "z": -1.6266844915
               },
               {
                "showarrow": false,
                "text": 1.1,
                "x": 0.89551663075,
                "y": -2.100994318,
                "yshift": 15,
                "z": -0.33007154915
               },
               {
                "showarrow": false,
                "text": 1.09,
                "x": 2.719405173,
                "y": -2.609008784,
                "yshift": 15,
                "z": -0.75011179175
               },
               {
                "showarrow": false,
                "text": 1.09,
                "x": 0.78870833575,
                "y": -1.6903304805,
                "yshift": 15,
                "z": 2.2319296325
               }
              ]
             }
            ],
            "label": "Atom indices & Bond lengths",
            "method": "relayout"
           },
           {
            "args": [
             {
              "scene.annotations": []
             }
            ],
            "label": "Hide all",
            "method": "relayout"
           }
          ],
          "direction": "down",
          "xanchor": "left",
          "yanchor": "top"
         }
        ]
       }
      },
      "text/html": [
       "<div>\n",
       "        \n",
       "        \n",
       "            <div id=\"ed8486dd-a0c9-4323-b301-fd69b5953cf2\" class=\"plotly-graph-div\" style=\"height:525px; width:100%;\"></div>\n",
       "            <script type=\"text/javascript\">\n",
       "                require([\"plotly\"], function(Plotly) {\n",
       "                    window.PLOTLYENV=window.PLOTLYENV || {};\n",
       "                    window.PLOTLYENV.BASE_URL='https://plot.ly';\n",
       "                    \n",
       "                if (document.getElementById(\"ed8486dd-a0c9-4323-b301-fd69b5953cf2\")) {\n",
       "                    Plotly.newPlot(\n",
       "                        'ed8486dd-a0c9-4323-b301-fd69b5953cf2',\n",
       "                        [{\"marker\": {\"color\": [\"black\", \"black\", \"black\", \"red\", \"black\", \"black\", \"red\", \"blue\", \"black\", \"white\", \"white\", \"white\", \"white\", \"white\", \"white\", \"white\", \"white\", \"white\", \"white\", \"white\", \"white\", \"white\"], \"line\": {\"color\": \"lightgray\", \"width\": 2}, \"opacity\": 0.8, \"size\": 7, \"symbol\": \"circle\"}, \"mode\": \"markers\", \"name\": \"\", \"text\": [\"C\", \"C\", \"C\", \"O\", \"C\", \"C\", \"O\", \"N\", \"C\", \"H\", \"H\", \"H\", \"H\", \"H\", \"H\", \"H\", \"H\", \"H\", \"H\", \"H\", \"H\", \"H\"], \"type\": \"scatter3d\", \"uid\": \"87ece6ea-3799-491c-8a7e-3726c1ff1f4a\", \"x\": [0.166564136, 0.09544579460000001, 0.7268007384999999, 1.7047328000000002, 1.243061868, 2.6900108719999998, 3.216707296, 0.9967778617, 0.4404707615, 1.184085363, -0.4851621474, -0.158125575, -0.9510925407999999, 0.0281198805, 2.312050309, 0.5479713935, 2.7487994739999997, 3.308090505, 3.149462792, 1.13694591, 0.27540798899999996, -0.5237008595], \"y\": [1.582847172, 0.08261561349999999, -0.5549234774, 0.2121869771, -1.6734517269999998, -2.158656704, -2.500527216, -0.7566806911, -1.3249490720000001, 1.9628296630000002, 2.108379673, 1.8375464419999998, -0.256109689, -0.8739421606000001, 0.5629220782, -2.528536909, -3.059360864, -1.390825956, -1.6965020169999998, -2.055711889, -0.5374517123, -1.837080366], \"z\": [0.1984308464, -0.022880844100000002, -1.295225672, -1.956842975, -0.3351633288, -0.44082695450000003, 0.8322544923999999, 0.8066431379000001, 2.022694244, 0.0704201528, -0.5066659568, 1.2127139009999999, 0.0709154154, -2.069163451, -1.296526008, -0.3249797695, -1.059396629, -0.9282315053, 1.3609802659999999, 2.4411650209999998, 2.765722295, 1.8448645909999999]}, {\"hoverinfo\": \"none\", \"marker\": {\"color\": \"grey\", \"opacity\": 1, \"size\": 7}, \"mode\": \"lines\", \"type\": \"scatter3d\", \"uid\": \"c794be81-e208-4ef3-91b2-ed0f5a984024\", \"x\": [0.166564136, 0.09544579460000001, null, 0.09544579460000001, 0.7268007384999999, null, 0.7268007384999999, 1.7047328000000002, null, 1.243061868, 2.6900108719999998, null, 2.6900108719999998, 3.216707296, null, 0.4404707615, 0.9967778617, null, 0.7268007384999999, 1.243061868, null, 1.243061868, 0.9967778617, null, 0.09544579460000001, 0.9967778617, null, 0.166564136, 1.184085363, null, 0.4404707615, -0.5237008595, null, 0.166564136, -0.4851621474, null, 3.308090505, 2.6900108719999998, null, 3.149462792, 3.216707296, null, 0.4404707615, 0.27540798899999996, null, 0.166564136, -0.158125575, null, 0.09544579460000001, -0.9510925407999999, null, 0.7268007384999999, 0.0281198805, null, 1.7047328000000002, 2.312050309, null, 1.243061868, 0.5479713935, null, 2.7487994739999997, 2.6900108719999998, null, 0.4404707615, 1.13694591, null], \"y\": [1.582847172, 0.08261561349999999, null, 0.08261561349999999, -0.5549234774, null, -0.5549234774, 0.2121869771, null, -1.6734517269999998, -2.158656704, null, -2.158656704, -2.500527216, null, -1.3249490720000001, -0.7566806911, null, -0.5549234774, -1.6734517269999998, null, -1.6734517269999998, -0.7566806911, null, 0.08261561349999999, -0.7566806911, null, 1.582847172, 1.9628296630000002, null, -1.3249490720000001, -1.837080366, null, 1.582847172, 2.108379673, null, -1.390825956, -2.158656704, null, -1.6965020169999998, -2.500527216, null, -1.3249490720000001, -0.5374517123, null, 1.582847172, 1.8375464419999998, null, 0.08261561349999999, -0.256109689, null, -0.5549234774, -0.8739421606000001, null, 0.2121869771, 0.5629220782, null, -1.6734517269999998, -2.528536909, null, -3.059360864, -2.158656704, null, -1.3249490720000001, -2.055711889, null], \"z\": [0.1984308464, -0.022880844100000002, null, -0.022880844100000002, -1.295225672, null, -1.295225672, -1.956842975, null, -0.3351633288, -0.44082695450000003, null, -0.44082695450000003, 0.8322544923999999, null, 2.022694244, 0.8066431379000001, null, -1.295225672, -0.3351633288, null, -0.3351633288, 0.8066431379000001, null, -0.022880844100000002, 0.8066431379000001, null, 0.1984308464, 0.0704201528, null, 2.022694244, 1.8448645909999999, null, 0.1984308464, -0.5066659568, null, -0.9282315053, -0.44082695450000003, null, 1.3609802659999999, 0.8322544923999999, null, 2.022694244, 2.765722295, null, 0.1984308464, 1.2127139009999999, null, -0.022880844100000002, 0.0709154154, null, -1.295225672, -2.069163451, null, -1.956842975, -1.296526008, null, -0.3351633288, -0.3249797695, null, -1.059396629, -0.44082695450000003, null, 2.022694244, 2.4411650209999998, null]}],\n",
       "                        {\"margin\": {\"b\": 0, \"l\": 0, \"r\": 0, \"t\": 0}, \"scene\": {\"annotations\": [{\"showarrow\": false, \"text\": \"0\", \"x\": 0.166564136, \"y\": 1.582847172, \"yshift\": 15, \"z\": 0.1984308464}, {\"showarrow\": false, \"text\": \"1\", \"x\": 0.09544579460000001, \"y\": 0.08261561349999999, \"yshift\": 15, \"z\": -0.022880844100000002}, {\"showarrow\": false, \"text\": \"2\", \"x\": 0.7268007384999999, \"y\": -0.5549234774, \"yshift\": 15, \"z\": -1.295225672}, {\"showarrow\": false, \"text\": \"3\", \"x\": 1.7047328000000002, \"y\": 0.2121869771, \"yshift\": 15, \"z\": -1.956842975}, {\"showarrow\": false, \"text\": \"4\", \"x\": 1.243061868, \"y\": -1.6734517269999998, \"yshift\": 15, \"z\": -0.3351633288}, {\"showarrow\": false, \"text\": \"5\", \"x\": 2.6900108719999998, \"y\": -2.158656704, \"yshift\": 15, \"z\": -0.44082695450000003}, {\"showarrow\": false, \"text\": \"6\", \"x\": 3.216707296, \"y\": -2.500527216, \"yshift\": 15, \"z\": 0.8322544923999999}, {\"showarrow\": false, \"text\": \"7\", \"x\": 0.9967778617, \"y\": -0.7566806911, \"yshift\": 15, \"z\": 0.8066431379000001}, {\"showarrow\": false, \"text\": \"8\", \"x\": 0.4404707615, \"y\": -1.3249490720000001, \"yshift\": 15, \"z\": 2.022694244}, {\"showarrow\": false, \"text\": \"9\", \"x\": 1.184085363, \"y\": 1.9628296630000002, \"yshift\": 15, \"z\": 0.0704201528}, {\"showarrow\": false, \"text\": \"10\", \"x\": -0.4851621474, \"y\": 2.108379673, \"yshift\": 15, \"z\": -0.5066659568}, {\"showarrow\": false, \"text\": \"11\", \"x\": -0.158125575, \"y\": 1.8375464419999998, \"yshift\": 15, \"z\": 1.2127139009999999}, {\"showarrow\": false, \"text\": \"12\", \"x\": -0.9510925407999999, \"y\": -0.256109689, \"yshift\": 15, \"z\": 0.0709154154}, {\"showarrow\": false, \"text\": \"13\", \"x\": 0.0281198805, \"y\": -0.8739421606000001, \"yshift\": 15, \"z\": -2.069163451}, {\"showarrow\": false, \"text\": \"14\", \"x\": 2.312050309, \"y\": 0.5629220782, \"yshift\": 15, \"z\": -1.296526008}, {\"showarrow\": false, \"text\": \"15\", \"x\": 0.5479713935, \"y\": -2.528536909, \"yshift\": 15, \"z\": -0.3249797695}, {\"showarrow\": false, \"text\": \"16\", \"x\": 2.7487994739999997, \"y\": -3.059360864, \"yshift\": 15, \"z\": -1.059396629}, {\"showarrow\": false, \"text\": \"17\", \"x\": 3.308090505, \"y\": -1.390825956, \"yshift\": 15, \"z\": -0.9282315053}, {\"showarrow\": false, \"text\": \"18\", \"x\": 3.149462792, \"y\": -1.6965020169999998, \"yshift\": 15, \"z\": 1.3609802659999999}, {\"showarrow\": false, \"text\": \"19\", \"x\": 1.13694591, \"y\": -2.055711889, \"yshift\": 15, \"z\": 2.4411650209999998}, {\"showarrow\": false, \"text\": \"20\", \"x\": 0.27540798899999996, \"y\": -0.5374517123, \"yshift\": 15, \"z\": 2.765722295}, {\"showarrow\": false, \"text\": \"21\", \"x\": -0.5237008595, \"y\": -1.837080366, \"yshift\": 15, \"z\": 1.8448645909999999}], \"xaxis\": {\"showgrid\": false, \"showticklabels\": false, \"title\": {\"font\": {\"color\": \"white\"}}, \"zeroline\": false}, \"yaxis\": {\"showgrid\": false, \"showticklabels\": false, \"title\": {\"font\": {\"color\": \"white\"}}, \"zeroline\": false}, \"zaxis\": {\"showgrid\": false, \"showticklabels\": false, \"title\": {\"font\": {\"color\": \"white\"}}, \"zeroline\": false}}, \"showlegend\": false, \"updatemenus\": [{\"buttons\": [{\"args\": [{\"scene.annotations\": [{\"showarrow\": false, \"text\": 0, \"x\": 0.166564136, \"y\": 1.582847172, \"yshift\": 15, \"z\": 0.1984308464}, {\"showarrow\": false, \"text\": 1, \"x\": 0.09544579460000001, \"y\": 0.08261561349999999, \"yshift\": 15, \"z\": -0.022880844100000002}, {\"showarrow\": false, \"text\": 2, \"x\": 0.7268007384999999, \"y\": -0.5549234774, \"yshift\": 15, \"z\": -1.295225672}, {\"showarrow\": false, \"text\": 3, \"x\": 1.7047328000000002, \"y\": 0.2121869771, \"yshift\": 15, \"z\": -1.956842975}, {\"showarrow\": false, \"text\": 4, \"x\": 1.243061868, \"y\": -1.6734517269999998, \"yshift\": 15, \"z\": -0.3351633288}, {\"showarrow\": false, \"text\": 5, \"x\": 2.6900108719999998, \"y\": -2.158656704, \"yshift\": 15, \"z\": -0.44082695450000003}, {\"showarrow\": false, \"text\": 6, \"x\": 3.216707296, \"y\": -2.500527216, \"yshift\": 15, \"z\": 0.8322544923999999}, {\"showarrow\": false, \"text\": 7, \"x\": 0.9967778617, \"y\": -0.7566806911, \"yshift\": 15, \"z\": 0.8066431379000001}, {\"showarrow\": false, \"text\": 8, \"x\": 0.4404707615, \"y\": -1.3249490720000001, \"yshift\": 15, \"z\": 2.022694244}, {\"showarrow\": false, \"text\": 9, \"x\": 1.184085363, \"y\": 1.9628296630000002, \"yshift\": 15, \"z\": 0.0704201528}, {\"showarrow\": false, \"text\": 10, \"x\": -0.4851621474, \"y\": 2.108379673, \"yshift\": 15, \"z\": -0.5066659568}, {\"showarrow\": false, \"text\": 11, \"x\": -0.158125575, \"y\": 1.8375464419999998, \"yshift\": 15, \"z\": 1.2127139009999999}, {\"showarrow\": false, \"text\": 12, \"x\": -0.9510925407999999, \"y\": -0.256109689, \"yshift\": 15, \"z\": 0.0709154154}, {\"showarrow\": false, \"text\": 13, \"x\": 0.0281198805, \"y\": -0.8739421606000001, \"yshift\": 15, \"z\": -2.069163451}, {\"showarrow\": false, \"text\": 14, \"x\": 2.312050309, \"y\": 0.5629220782, \"yshift\": 15, \"z\": -1.296526008}, {\"showarrow\": false, \"text\": 15, \"x\": 0.5479713935, \"y\": -2.528536909, \"yshift\": 15, \"z\": -0.3249797695}, {\"showarrow\": false, \"text\": 16, \"x\": 2.7487994739999997, \"y\": -3.059360864, \"yshift\": 15, \"z\": -1.059396629}, {\"showarrow\": false, \"text\": 17, \"x\": 3.308090505, \"y\": -1.390825956, \"yshift\": 15, \"z\": -0.9282315053}, {\"showarrow\": false, \"text\": 18, \"x\": 3.149462792, \"y\": -1.6965020169999998, \"yshift\": 15, \"z\": 1.3609802659999999}, {\"showarrow\": false, \"text\": 19, \"x\": 1.13694591, \"y\": -2.055711889, \"yshift\": 15, \"z\": 2.4411650209999998}, {\"showarrow\": false, \"text\": 20, \"x\": 0.27540798899999996, \"y\": -0.5374517123, \"yshift\": 15, \"z\": 2.765722295}, {\"showarrow\": false, \"text\": 21, \"x\": -0.5237008595, \"y\": -1.837080366, \"yshift\": 15, \"z\": 1.8448645909999999}]}], \"label\": \"Atom indices\", \"method\": \"relayout\"}, {\"args\": [{\"scene.annotations\": [{\"showarrow\": false, \"text\": 1.52, \"x\": 0.1310049653, \"y\": 0.83273139275, \"yshift\": 15, \"z\": 0.08777500115}, {\"showarrow\": false, \"text\": 1.56, \"x\": 0.41112326655, \"y\": -0.23615393195, \"yshift\": 15, \"z\": -0.65905325805}, {\"showarrow\": false, \"text\": 1.41, \"x\": 1.21576676925, \"y\": -0.17136825015, \"yshift\": 15, \"z\": -1.6260343235}, {\"showarrow\": false, \"text\": 1.53, \"x\": 1.96653637, \"y\": -1.9160542155, \"yshift\": 15, \"z\": -0.38799514165}, {\"showarrow\": false, \"text\": 1.42, \"x\": 2.953359084, \"y\": -2.32959196, \"yshift\": 15, \"z\": 0.19571376895}, {\"showarrow\": false, \"text\": 1.45, \"x\": 0.7186243116, \"y\": -1.04081488155, \"yshift\": 15, \"z\": 1.41466869095}, {\"showarrow\": false, \"text\": 1.56, \"x\": 0.98493130325, \"y\": -1.1141876022, \"yshift\": 15, \"z\": -0.8151945004}, {\"showarrow\": false, \"text\": 1.48, \"x\": 1.11991986485, \"y\": -1.21506620905, \"yshift\": 15, \"z\": 0.23573990455}, {\"showarrow\": false, \"text\": 1.48, \"x\": 0.54611182815, \"y\": -0.3370325388, \"yshift\": 15, \"z\": 0.3918811469}, {\"showarrow\": false, \"text\": 1.09, \"x\": 0.6753247495, \"y\": 1.7728384175, \"yshift\": 15, \"z\": 0.1344254996}, {\"showarrow\": false, \"text\": 1.11, \"x\": -0.041615049, \"y\": -1.581014719, \"yshift\": 15, \"z\": 1.9337794175}, {\"showarrow\": false, \"text\": 1.09, \"x\": -0.1592990057, \"y\": 1.8456134225, \"yshift\": 15, \"z\": -0.1541175552}, {\"showarrow\": false, \"text\": 1.1, \"x\": 2.9990506885, \"y\": -1.77474133, \"yshift\": 15, \"z\": -0.6845292299}, {\"showarrow\": false, \"text\": 0.96, \"x\": 3.183085044, \"y\": -2.0985146165, \"yshift\": 15, \"z\": 1.0966173792}, {\"showarrow\": false, \"text\": 1.1, \"x\": 0.35793937525, \"y\": -0.93120039215, \"yshift\": 15, \"z\": 2.3942082695}, {\"showarrow\": false, \"text\": 1.1, \"x\": 0.0042192805, \"y\": 1.710196807, \"yshift\": 15, \"z\": 0.7055723737}, {\"showarrow\": false, \"text\": 1.1, \"x\": -0.4278233731, \"y\": -0.08674703775, \"yshift\": 15, \"z\": 0.02401728565}, {\"showarrow\": false, \"text\": 1.09, \"x\": 0.3774603095, \"y\": -0.714432819, \"yshift\": 15, \"z\": -1.6821945615}, {\"showarrow\": false, \"text\": 0.96, \"x\": 2.0083915545, \"y\": 0.38755452765, \"yshift\": 15, \"z\": -1.6266844915}, {\"showarrow\": false, \"text\": 1.1, \"x\": 0.89551663075, \"y\": -2.100994318, \"yshift\": 15, \"z\": -0.33007154915}, {\"showarrow\": false, \"text\": 1.09, \"x\": 2.719405173, \"y\": -2.609008784, \"yshift\": 15, \"z\": -0.75011179175}, {\"showarrow\": false, \"text\": 1.09, \"x\": 0.78870833575, \"y\": -1.6903304805, \"yshift\": 15, \"z\": 2.2319296325}]}], \"label\": \"Bond lengths\", \"method\": \"relayout\"}, {\"args\": [{\"scene.annotations\": [{\"showarrow\": false, \"text\": 0, \"x\": 0.166564136, \"y\": 1.582847172, \"yshift\": 15, \"z\": 0.1984308464}, {\"showarrow\": false, \"text\": 1, \"x\": 0.09544579460000001, \"y\": 0.08261561349999999, \"yshift\": 15, \"z\": -0.022880844100000002}, {\"showarrow\": false, \"text\": 2, \"x\": 0.7268007384999999, \"y\": -0.5549234774, \"yshift\": 15, \"z\": -1.295225672}, {\"showarrow\": false, \"text\": 3, \"x\": 1.7047328000000002, \"y\": 0.2121869771, \"yshift\": 15, \"z\": -1.956842975}, {\"showarrow\": false, \"text\": 4, \"x\": 1.243061868, \"y\": -1.6734517269999998, \"yshift\": 15, \"z\": -0.3351633288}, {\"showarrow\": false, \"text\": 5, \"x\": 2.6900108719999998, \"y\": -2.158656704, \"yshift\": 15, \"z\": -0.44082695450000003}, {\"showarrow\": false, \"text\": 6, \"x\": 3.216707296, \"y\": -2.500527216, \"yshift\": 15, \"z\": 0.8322544923999999}, {\"showarrow\": false, \"text\": 7, \"x\": 0.9967778617, \"y\": -0.7566806911, \"yshift\": 15, \"z\": 0.8066431379000001}, {\"showarrow\": false, \"text\": 8, \"x\": 0.4404707615, \"y\": -1.3249490720000001, \"yshift\": 15, \"z\": 2.022694244}, {\"showarrow\": false, \"text\": 9, \"x\": 1.184085363, \"y\": 1.9628296630000002, \"yshift\": 15, \"z\": 0.0704201528}, {\"showarrow\": false, \"text\": 10, \"x\": -0.4851621474, \"y\": 2.108379673, \"yshift\": 15, \"z\": -0.5066659568}, {\"showarrow\": false, \"text\": 11, \"x\": -0.158125575, \"y\": 1.8375464419999998, \"yshift\": 15, \"z\": 1.2127139009999999}, {\"showarrow\": false, \"text\": 12, \"x\": -0.9510925407999999, \"y\": -0.256109689, \"yshift\": 15, \"z\": 0.0709154154}, {\"showarrow\": false, \"text\": 13, \"x\": 0.0281198805, \"y\": -0.8739421606000001, \"yshift\": 15, \"z\": -2.069163451}, {\"showarrow\": false, \"text\": 14, \"x\": 2.312050309, \"y\": 0.5629220782, \"yshift\": 15, \"z\": -1.296526008}, {\"showarrow\": false, \"text\": 15, \"x\": 0.5479713935, \"y\": -2.528536909, \"yshift\": 15, \"z\": -0.3249797695}, {\"showarrow\": false, \"text\": 16, \"x\": 2.7487994739999997, \"y\": -3.059360864, \"yshift\": 15, \"z\": -1.059396629}, {\"showarrow\": false, \"text\": 17, \"x\": 3.308090505, \"y\": -1.390825956, \"yshift\": 15, \"z\": -0.9282315053}, {\"showarrow\": false, \"text\": 18, \"x\": 3.149462792, \"y\": -1.6965020169999998, \"yshift\": 15, \"z\": 1.3609802659999999}, {\"showarrow\": false, \"text\": 19, \"x\": 1.13694591, \"y\": -2.055711889, \"yshift\": 15, \"z\": 2.4411650209999998}, {\"showarrow\": false, \"text\": 20, \"x\": 0.27540798899999996, \"y\": -0.5374517123, \"yshift\": 15, \"z\": 2.765722295}, {\"showarrow\": false, \"text\": 21, \"x\": -0.5237008595, \"y\": -1.837080366, \"yshift\": 15, \"z\": 1.8448645909999999}, {\"showarrow\": false, \"text\": 1.52, \"x\": 0.1310049653, \"y\": 0.83273139275, \"yshift\": 15, \"z\": 0.08777500115}, {\"showarrow\": false, \"text\": 1.56, \"x\": 0.41112326655, \"y\": -0.23615393195, \"yshift\": 15, \"z\": -0.65905325805}, {\"showarrow\": false, \"text\": 1.41, \"x\": 1.21576676925, \"y\": -0.17136825015, \"yshift\": 15, \"z\": -1.6260343235}, {\"showarrow\": false, \"text\": 1.53, \"x\": 1.96653637, \"y\": -1.9160542155, \"yshift\": 15, \"z\": -0.38799514165}, {\"showarrow\": false, \"text\": 1.42, \"x\": 2.953359084, \"y\": -2.32959196, \"yshift\": 15, \"z\": 0.19571376895}, {\"showarrow\": false, \"text\": 1.45, \"x\": 0.7186243116, \"y\": -1.04081488155, \"yshift\": 15, \"z\": 1.41466869095}, {\"showarrow\": false, \"text\": 1.56, \"x\": 0.98493130325, \"y\": -1.1141876022, \"yshift\": 15, \"z\": -0.8151945004}, {\"showarrow\": false, \"text\": 1.48, \"x\": 1.11991986485, \"y\": -1.21506620905, \"yshift\": 15, \"z\": 0.23573990455}, {\"showarrow\": false, \"text\": 1.48, \"x\": 0.54611182815, \"y\": -0.3370325388, \"yshift\": 15, \"z\": 0.3918811469}, {\"showarrow\": false, \"text\": 1.09, \"x\": 0.6753247495, \"y\": 1.7728384175, \"yshift\": 15, \"z\": 0.1344254996}, {\"showarrow\": false, \"text\": 1.11, \"x\": -0.041615049, \"y\": -1.581014719, \"yshift\": 15, \"z\": 1.9337794175}, {\"showarrow\": false, \"text\": 1.09, \"x\": -0.1592990057, \"y\": 1.8456134225, \"yshift\": 15, \"z\": -0.1541175552}, {\"showarrow\": false, \"text\": 1.1, \"x\": 2.9990506885, \"y\": -1.77474133, \"yshift\": 15, \"z\": -0.6845292299}, {\"showarrow\": false, \"text\": 0.96, \"x\": 3.183085044, \"y\": -2.0985146165, \"yshift\": 15, \"z\": 1.0966173792}, {\"showarrow\": false, \"text\": 1.1, \"x\": 0.35793937525, \"y\": -0.93120039215, \"yshift\": 15, \"z\": 2.3942082695}, {\"showarrow\": false, \"text\": 1.1, \"x\": 0.0042192805, \"y\": 1.710196807, \"yshift\": 15, \"z\": 0.7055723737}, {\"showarrow\": false, \"text\": 1.1, \"x\": -0.4278233731, \"y\": -0.08674703775, \"yshift\": 15, \"z\": 0.02401728565}, {\"showarrow\": false, \"text\": 1.09, \"x\": 0.3774603095, \"y\": -0.714432819, \"yshift\": 15, \"z\": -1.6821945615}, {\"showarrow\": false, \"text\": 0.96, \"x\": 2.0083915545, \"y\": 0.38755452765, \"yshift\": 15, \"z\": -1.6266844915}, {\"showarrow\": false, \"text\": 1.1, \"x\": 0.89551663075, \"y\": -2.100994318, \"yshift\": 15, \"z\": -0.33007154915}, {\"showarrow\": false, \"text\": 1.09, \"x\": 2.719405173, \"y\": -2.609008784, \"yshift\": 15, \"z\": -0.75011179175}, {\"showarrow\": false, \"text\": 1.09, \"x\": 0.78870833575, \"y\": -1.6903304805, \"yshift\": 15, \"z\": 2.2319296325}]}], \"label\": \"Atom indices & Bond lengths\", \"method\": \"relayout\"}, {\"args\": [{\"scene.annotations\": []}], \"label\": \"Hide all\", \"method\": \"relayout\"}], \"direction\": \"down\", \"xanchor\": \"left\", \"yanchor\": \"top\"}]},\n",
       "                        {\"showLink\": false, \"linkText\": \"Export to plot.ly\", \"plotlyServerURL\": \"https://plot.ly\", \"responsive\": true}\n",
       "                    ).then(function(){\n",
       "                            \n",
       "var gd = document.getElementById('ed8486dd-a0c9-4323-b301-fd69b5953cf2');\n",
       "var x = new MutationObserver(function (mutations, observer) {{\n",
       "        var display = window.getComputedStyle(gd).display;\n",
       "        if (!display || display === 'none') {{\n",
       "            console.log([gd, 'removed!']);\n",
       "            Plotly.purge(gd);\n",
       "            observer.disconnect();\n",
       "        }}\n",
       "}});\n",
       "\n",
       "// Listen for the removal of the full notebook cells\n",
       "var notebookContainer = gd.closest('#notebook-container');\n",
       "if (notebookContainer) {{\n",
       "    x.observe(notebookContainer, {childList: true});\n",
       "}}\n",
       "\n",
       "// Listen for the clearing of the current output cell\n",
       "var outputEl = gd.closest('.output');\n",
       "if (outputEl) {{\n",
       "    x.observe(outputEl, {childList: true});\n",
       "}}\n",
       "\n",
       "                        })\n",
       "                };\n",
       "                });\n",
       "            </script>\n",
       "        </div>"
      ]
     },
     "metadata": {},
     "output_type": "display_data"
    }
   ],
   "source": [
    "plot_molecule('dsgdb9nsd_109581', structures)"
   ]
  }
 ],
 "metadata": {
  "kernelspec": {
   "display_name": "Python 3",
   "language": "python",
   "name": "python3"
  },
  "language_info": {
   "codemirror_mode": {
    "name": "ipython",
    "version": 3
   },
   "file_extension": ".py",
   "mimetype": "text/x-python",
   "name": "python",
   "nbconvert_exporter": "python",
   "pygments_lexer": "ipython3",
   "version": "3.6.8"
  }
 },
 "nbformat": 4,
 "nbformat_minor": 2
}
